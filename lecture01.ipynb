{
 "cells": [
  {
   "cell_type": "markdown",
   "id": "0d2e8315-c215-4bec-9655-8e90ca6be007",
   "metadata": {},
   "source": [
    "第１回　Pythonの基礎（１）"
   ]
  },
  {
   "cell_type": "markdown",
   "id": "741809a0-85e5-45b5-8f22-d213be5db6e7",
   "metadata": {},
   "source": [
    "Jupyter Notebookの説明の続き：セルについて"
   ]
  },
  {
   "cell_type": "markdown",
   "id": "457caca9-1ea1-4e73-92f4-613499ccb839",
   "metadata": {},
   "source": [
    "コードや文章を書くところを「セル」（Cell）といいます。文章を書くためには、上のメニューの「Code」を「Markdown」にして文字を書きましょう。このようなセルをマークダウンセルといいます。１度クリックすると上のメニューにMarkdownと表示されます。書いた内容を確定させるにはShift + Enterです。\n",
    "改行して書いても無視されます。"
   ]
  },
  {
   "cell_type": "markdown",
   "id": "0b725d7b-e908-4c56-b8a2-a5c087c5646a",
   "metadata": {},
   "source": [
    "文章を改行して表示したければ、上のメニューで「＋」サインを選択することで新たなセルを追加して、上のメニューでMarkdoownを選択してから書きましょう。"
   ]
  },
  {
   "cell_type": "markdown",
   "id": "d327a95f-db9f-4932-bfa0-19d1bbf6e60e",
   "metadata": {},
   "source": [
    "コードは、Codeセルに書きます。コードの実行も、Shift + Enterです。"
   ]
  },
  {
   "cell_type": "code",
   "execution_count": 3,
   "id": "93887b8f-094b-4c97-99b4-e34702ff55c8",
   "metadata": {},
   "outputs": [
    {
     "name": "stdout",
     "output_type": "stream",
     "text": [
      "Hello World\n"
     ]
    }
   ],
   "source": [
    "print ('Hello World')"
   ]
  },
  {
   "cell_type": "markdown",
   "id": "ca9950ab-24f9-46ee-a8a5-92f2d59f2be4",
   "metadata": {},
   "source": [
    "組み込み関数\"print\"の名前を間違えるとエラーメッセージが表示されます。"
   ]
  },
  {
   "cell_type": "code",
   "execution_count": 4,
   "id": "30221776-f741-4544-9932-7c1110746f37",
   "metadata": {},
   "outputs": [
    {
     "ename": "NameError",
     "evalue": "name 'prnt' is not defined",
     "output_type": "error",
     "traceback": [
      "\u001b[1;31m---------------------------------------------------------------------------\u001b[0m",
      "\u001b[1;31mNameError\u001b[0m                                 Traceback (most recent call last)",
      "\u001b[1;32m~\\AppData\\Local\\Temp/ipykernel_684/3070466145.py\u001b[0m in \u001b[0;36m<module>\u001b[1;34m\u001b[0m\n\u001b[1;32m----> 1\u001b[1;33m \u001b[0mprnt\u001b[0m \u001b[1;33m(\u001b[0m\u001b[1;34m'Hello World'\u001b[0m\u001b[1;33m)\u001b[0m\u001b[1;33m\u001b[0m\u001b[1;33m\u001b[0m\u001b[0m\n\u001b[0m",
      "\u001b[1;31mNameError\u001b[0m: name 'prnt' is not defined"
     ]
    }
   ],
   "source": [
    "prnt ('Hello World')"
   ]
  },
  {
   "cell_type": "markdown",
   "id": "b70918a6-8191-4f51-a33b-a64e56add7f3",
   "metadata": {},
   "source": [
    "Pythonを計算機のように使う"
   ]
  },
  {
   "cell_type": "markdown",
   "id": "cf389535-cc70-4ebb-9c0a-961bdb04e73f",
   "metadata": {},
   "source": [
    "Pythonを計算機のように使うことができます。年利2.5%で20年間、複利で運用できたら、もとの何倍になるでしょうか。"
   ]
  },
  {
   "cell_type": "code",
   "execution_count": 4,
   "id": "901b8c54-f59b-4ca3-9dae-2f7ec0e9cba3",
   "metadata": {},
   "outputs": [
    {
     "data": {
      "text/plain": [
       "1.6386164402903942"
      ]
     },
     "execution_count": 4,
     "metadata": {},
     "output_type": "execute_result"
    }
   ],
   "source": [
    "(1+0.025)**20"
   ]
  },
  {
   "cell_type": "markdown",
   "id": "8631eac4-1714-4ec0-be57-36e9e3faee12",
   "metadata": {},
   "source": [
    "変数への代入"
   ]
  },
  {
   "cell_type": "markdown",
   "id": "ecc3bd31-95a0-498f-8434-99fac5283be0",
   "metadata": {},
   "source": [
    "変数への代入は = を使います。右から左に代入します。"
   ]
  },
  {
   "cell_type": "code",
   "execution_count": 5,
   "id": "bc83aafa-20a1-4631-ac54-161274ed749e",
   "metadata": {},
   "outputs": [],
   "source": [
    "a = 1"
   ]
  },
  {
   "cell_type": "markdown",
   "id": "678b3974-ae94-48c5-845f-1296b08b50fc",
   "metadata": {},
   "source": [
    "このように、文の終わりにセミコロンなどの終わりのしるしを書く必要がありません。"
   ]
  },
  {
   "cell_type": "markdown",
   "id": "fc718d62-d985-4cb0-9420-61891c0cf2a0",
   "metadata": {},
   "source": [
    "その代わり、１つの文は１行で書かないといけません。例えば次のように書いたらどうなるでしょうか。"
   ]
  },
  {
   "cell_type": "code",
   "execution_count": 10,
   "id": "3a3a79fe-4bcb-4765-b1e4-d5c70f798044",
   "metadata": {},
   "outputs": [
    {
     "ename": "SyntaxError",
     "evalue": "invalid syntax (Temp/ipykernel_4248/4160261795.py, line 1)",
     "output_type": "error",
     "traceback": [
      "\u001b[1;36m  File \u001b[1;32m\"C:\\Users\\hishiki\\AppData\\Local\\Temp/ipykernel_4248/4160261795.py\"\u001b[1;36m, line \u001b[1;32m1\u001b[0m\n\u001b[1;33m    a =\u001b[0m\n\u001b[1;37m       ^\u001b[0m\n\u001b[1;31mSyntaxError\u001b[0m\u001b[1;31m:\u001b[0m invalid syntax\n"
     ]
    }
   ],
   "source": [
    "a =\n",
    "1"
   ]
  },
  {
   "cell_type": "markdown",
   "id": "48b70629-e222-46ba-b05c-d9398d2fd89f",
   "metadata": {},
   "source": [
    "変数の中身を見るには変数名だけセルに入れて、Shift + Enterで実行します。"
   ]
  },
  {
   "cell_type": "code",
   "execution_count": 11,
   "id": "f5c11d21-2034-44fc-a95d-973d7ac143b9",
   "metadata": {},
   "outputs": [
    {
     "data": {
      "text/plain": [
       "1"
      ]
     },
     "execution_count": 11,
     "metadata": {},
     "output_type": "execute_result"
    }
   ],
   "source": [
    "a"
   ]
  },
  {
   "cell_type": "markdown",
   "id": "8bde5d00-7e3d-4b77-af2b-3cc65235ecb8",
   "metadata": {},
   "source": [
    "変数に数値ではなく文字列も入れられます。変数bに「abc」という文字列を代入してみましょう。"
   ]
  },
  {
   "cell_type": "code",
   "execution_count": 7,
   "id": "447894d4-ec66-4c28-bf3f-03e32ab36136",
   "metadata": {},
   "outputs": [
    {
     "ename": "NameError",
     "evalue": "name 'abc' is not defined",
     "output_type": "error",
     "traceback": [
      "\u001b[1;31m---------------------------------------------------------------------------\u001b[0m",
      "\u001b[1;31mNameError\u001b[0m                                 Traceback (most recent call last)",
      "\u001b[1;32m~\\AppData\\Local\\Temp/ipykernel_4248/1526467253.py\u001b[0m in \u001b[0;36m<module>\u001b[1;34m\u001b[0m\n\u001b[1;32m----> 1\u001b[1;33m \u001b[0mb\u001b[0m \u001b[1;33m=\u001b[0m \u001b[0mabc\u001b[0m\u001b[1;33m\u001b[0m\u001b[1;33m\u001b[0m\u001b[0m\n\u001b[0m",
      "\u001b[1;31mNameError\u001b[0m: name 'abc' is not defined"
     ]
    }
   ],
   "source": [
    "b = abc"
   ]
  },
  {
   "cell_type": "markdown",
   "id": "95904902-c3db-471c-8690-63f8ede567f0",
   "metadata": {},
   "source": [
    "正しくは、'abc'とシングルクォーテーションマークで囲みます。"
   ]
  },
  {
   "cell_type": "code",
   "execution_count": 8,
   "id": "47e82fa0-1b1a-4426-a4f8-bd0716d219b3",
   "metadata": {},
   "outputs": [],
   "source": [
    "b = 'abc'"
   ]
  },
  {
   "cell_type": "code",
   "execution_count": 9,
   "id": "2ca05924-2fdd-4c31-9345-c165fb805024",
   "metadata": {},
   "outputs": [
    {
     "data": {
      "text/plain": [
       "'abc'"
      ]
     },
     "execution_count": 9,
     "metadata": {},
     "output_type": "execute_result"
    }
   ],
   "source": [
    "b"
   ]
  },
  {
   "cell_type": "markdown",
   "id": "8b0b4771-47ef-4fad-95ff-a3bd12af7b0a",
   "metadata": {},
   "source": [
    "変数の値の変更"
   ]
  },
  {
   "cell_type": "markdown",
   "id": "14ce5ee3-bb9a-4b56-9e3a-3d3678a7f824",
   "metadata": {},
   "source": [
    "さきほどの変数aを1だけ増やしましょう"
   ]
  },
  {
   "cell_type": "code",
   "execution_count": 12,
   "id": "b536b4ce-18f4-4c56-b87c-47fe814c5825",
   "metadata": {},
   "outputs": [],
   "source": [
    "a = a + 1"
   ]
  },
  {
   "cell_type": "markdown",
   "id": "0ef24d6c-caaf-473c-9be6-7a73ba28ca97",
   "metadata": {},
   "source": [
    "aはいくつになるでしょうか。"
   ]
  },
  {
   "cell_type": "code",
   "execution_count": 13,
   "id": "bede3cc3-ba9c-4245-b1f6-cc7353e13855",
   "metadata": {},
   "outputs": [
    {
     "data": {
      "text/plain": [
       "3"
      ]
     },
     "execution_count": 17,
     "metadata": {},
     "output_type": "execute_result"
    }
   ],
   "source": [
    "a"
   ]
  },
  {
   "cell_type": "markdown",
   "id": "58cdfc56-ba23-4f01-b7be-d4d3e41b79a7",
   "metadata": {},
   "source": [
    "予想していたのと違った値になって驚いた人もいるかもしれません。気をつけないといけないのは、同じタブにおいては、開かれている間にセルを追加して変数の値を更新していったら、後で前のセルに戻って実行したときに、同じ名前の変数の値が更新されてしまっていることがあります。例えばこのaの値は、次のセルで１増やしているので、前のセルに戻って実行したときには、前回と違った値になっています。"
   ]
  },
  {
   "cell_type": "markdown",
   "id": "6ed534b1-3614-49f1-8db0-d2e44ed892b7",
   "metadata": {},
   "source": [
    "この変数aをさらに1増やしましょう。別の書き方でしてみましょう。"
   ]
  },
  {
   "cell_type": "code",
   "execution_count": 15,
   "id": "929e596e-2523-4492-86db-3fad6c8cf1b2",
   "metadata": {},
   "outputs": [],
   "source": [
    "a+=1"
   ]
  },
  {
   "cell_type": "code",
   "execution_count": 16,
   "id": "8f8fa4d6-d40b-4c64-a772-3b8186253e3b",
   "metadata": {},
   "outputs": [
    {
     "data": {
      "text/plain": [
       "3"
      ]
     },
     "execution_count": 16,
     "metadata": {},
     "output_type": "execute_result"
    }
   ],
   "source": [
    "a"
   ]
  },
  {
   "cell_type": "markdown",
   "id": "a6232625-82d9-401f-874a-03dac9d8b6d6",
   "metadata": {},
   "source": [
    "複数の変数への代入"
   ]
  },
  {
   "cell_type": "markdown",
   "id": "9475e50d-9e22-4418-ab1e-58a9320f768c",
   "metadata": {},
   "source": [
    "変数nameに'mochimaru'を、変数ageに3を代入してみましょう。"
   ]
  },
  {
   "cell_type": "code",
   "execution_count": 23,
   "id": "40287fc8-9aeb-44ab-a8a1-654a8c13d638",
   "metadata": {},
   "outputs": [],
   "source": [
    "name,age ='mochimaru',3"
   ]
  },
  {
   "cell_type": "code",
   "execution_count": 21,
   "id": "0a875f3f-f721-4109-862d-ebde4ddeea8b",
   "metadata": {},
   "outputs": [
    {
     "data": {
      "text/plain": [
       "'mochimaru'"
      ]
     },
     "execution_count": 21,
     "metadata": {},
     "output_type": "execute_result"
    }
   ],
   "source": [
    "name"
   ]
  },
  {
   "cell_type": "code",
   "execution_count": 24,
   "id": "48016aa0-86bb-47be-b64a-cac323c29bd5",
   "metadata": {},
   "outputs": [
    {
     "data": {
      "text/plain": [
       "3"
      ]
     },
     "execution_count": 24,
     "metadata": {},
     "output_type": "execute_result"
    }
   ],
   "source": [
    "age"
   ]
  },
  {
   "cell_type": "markdown",
   "id": "660a9e04-3aea-452e-8603-1a840a4969a2",
   "metadata": {},
   "source": [
    "真偽値を返す文（命題）"
   ]
  },
  {
   "cell_type": "markdown",
   "id": "39cdc9bc-1025-4c7d-95e6-35bb89a200fd",
   "metadata": {},
   "source": [
    "文の中には、真偽値すなわちTrue（真）かFalse（偽）を返すもの（命題）があります。命題は、次で説明するif文や、繰り返しを記述するwhile文の条件式として使われます"
   ]
  },
  {
   "cell_type": "code",
   "execution_count": 49,
   "id": "fd681ed4-0fdd-44ef-ab27-bc6a3be80f71",
   "metadata": {},
   "outputs": [
    {
     "data": {
      "text/plain": [
       "True"
      ]
     },
     "execution_count": 49,
     "metadata": {},
     "output_type": "execute_result"
    }
   ],
   "source": [
    "3 > 1\n",
    "#「3は1より大きい」という命題"
   ]
  },
  {
   "cell_type": "code",
   "execution_count": 54,
   "id": "3b8cc08a-d7ee-4f0a-821f-5e9463bccfcc",
   "metadata": {},
   "outputs": [
    {
     "data": {
      "text/plain": [
       "False"
      ]
     },
     "execution_count": 54,
     "metadata": {},
     "output_type": "execute_result"
    }
   ],
   "source": [
    "3 == 1\n",
    "#「3は1と等しい」という命題"
   ]
  },
  {
   "cell_type": "code",
   "execution_count": 6,
   "id": "10f20a10-6734-436e-bb97-586accda6e3c",
   "metadata": {},
   "outputs": [
    {
     "data": {
      "text/plain": [
       "True"
      ]
     },
     "execution_count": 6,
     "metadata": {},
     "output_type": "execute_result"
    }
   ],
   "source": [
    "3 != 1\n",
    "# 「3は1ではない」という命題"
   ]
  },
  {
   "cell_type": "code",
   "execution_count": 52,
   "id": "8d80d9b2-2441-4cfe-89e7-bbade904823a",
   "metadata": {},
   "outputs": [],
   "source": [
    "months = ['January','February','March','April','May','June','July','August','September','October','November','December']\n",
    "#12個の月の名前が順番に配列に格納されている。"
   ]
  },
  {
   "cell_type": "code",
   "execution_count": 50,
   "id": "6de345d3-bdbd-42b4-acb1-980a3bcc9011",
   "metadata": {},
   "outputs": [
    {
     "data": {
      "text/plain": [
       "False"
      ]
     },
     "execution_count": 50,
     "metadata": {},
     "output_type": "execute_result"
    }
   ],
   "source": [
    "order = 2\n",
    "months[order-1] == 'January'\n",
    "#最後の文は「2番目の月はJanuary」であるという命題"
   ]
  },
  {
   "cell_type": "markdown",
   "id": "746680f2-3a02-4ec3-bf4f-8b199f6d246a",
   "metadata": {},
   "source": [
    "条件分岐と繰り返し"
   ]
  },
  {
   "cell_type": "markdown",
   "id": "943fb1d5-04f2-4dcd-987a-c38cb1d95201",
   "metadata": {},
   "source": [
    "プログラムの基本３構造は、順次、選択、反復（繰り返し）です。"
   ]
  },
  {
   "cell_type": "markdown",
   "id": "1e8f9a06-e4a0-410a-b7b1-c14899a98be6",
   "metadata": {},
   "source": [
    "順次とは、プログラムを前（上）の行から順番に実行することです"
   ]
  },
  {
   "cell_type": "markdown",
   "id": "dafd4278-be44-455a-b33a-53e4d77dbb0a",
   "metadata": {},
   "source": [
    "選択とは、ある条件に当てはまっているかいないかによって、次に行う処理を変えることです。Pythonでは、選択はif文で表現します。"
   ]
  },
  {
   "cell_type": "markdown",
   "id": "86f8dca1-1b92-4d12-8487-581be4fc56e7",
   "metadata": {},
   "source": [
    "反復とは、特定の処理を何度も繰り返すことです。"
   ]
  },
  {
   "cell_type": "markdown",
   "id": "ac7e0556-aaf0-4378-a603-682af7e81a39",
   "metadata": {},
   "source": [
    "反復はwhile文、for文で表現します。whiile文は判定をおこなう反復、for文は一定の決まった回数を繰り返す反復のために用います。"
   ]
  },
  {
   "cell_type": "markdown",
   "id": "cbb02f02-8f73-4613-8793-5b77e596e54e",
   "metadata": {},
   "source": [
    "if文（選択を行う。条件分岐をおこなう。）"
   ]
  },
  {
   "cell_type": "markdown",
   "id": "0a0305bb-f79d-4022-af8f-1c7078351fcf",
   "metadata": {},
   "source": [
    "選択を行なうif文の例です。条件式が複数あるときは、elif（elseifやelse ifではありません）でつないで並べます。最初にTrueとなる条件式に対する処理を行います。"
   ]
  },
  {
   "cell_type": "code",
   "execution_count": 57,
   "id": "0e71a1b0-f90b-471e-ad58-916c96a7f129",
   "metadata": {},
   "outputs": [
    {
     "name": "stdin",
     "output_type": "stream",
     "text": [
      " 65\n"
     ]
    }
   ],
   "source": [
    "score = input()\n",
    "#入力テキストボックスに点数を入力してください。"
   ]
  },
  {
   "cell_type": "code",
   "execution_count": 56,
   "id": "14384e44-e7ca-4f49-924f-1d32b48dd06a",
   "metadata": {},
   "outputs": [
    {
     "name": "stdout",
     "output_type": "stream",
     "text": [
      "C\n"
     ]
    }
   ],
   "source": [
    "if score >= 80:\n",
    "    grade = 'A'\n",
    "elif score >= 70:\n",
    "    grade = 'B'\n",
    "elif score >= 60:\n",
    "    grade = 'C'\n",
    "else:\n",
    "    grade = 'D'\n",
    "print(grade)"
   ]
  },
  {
   "cell_type": "markdown",
   "id": "dc03884d-0ea7-4ad2-8239-7e6def1164c6",
   "metadata": {},
   "source": [
    "while文（反復（繰り返し）をおこなう）"
   ]
  },
  {
   "cell_type": "markdown",
   "id": "80500311-92b0-4460-b168-fc2ed11a6ef4",
   "metadata": {},
   "source": [
    "反復を行うwhile文の例です。1から6までの整数をランダムに発生して印字し、6が出たら反復を終了して「END」と通知します。"
   ]
  },
  {
   "cell_type": "markdown",
   "id": "95b292fa-87cc-4d39-8ae1-6d53fa3a5ad9",
   "metadata": {},
   "source": [
    "while文では、while:に続く条件式が真である場合に、繰り返し処理が行われます。真でない場合は、else:のあとの処理が行われます。"
   ]
  },
  {
   "cell_type": "code",
   "execution_count": 5,
   "id": "4b30c9b7-462d-43a7-b78f-4a5d5f54123d",
   "metadata": {},
   "outputs": [
    {
     "name": "stdout",
     "output_type": "stream",
     "text": [
      "3 6 END\n"
     ]
    }
   ],
   "source": [
    "#numpyはこれからよく使うライブラリの名称です\n",
    "import numpy as np\n",
    "random_number = 0\n",
    "while random_number != 6:\n",
    "    # この部分は、random_numberが6でない場合に実行されます。\n",
    "    # 1から6までの整数をランダムに発生してrandom_numberに代入します\n",
    "    random_number = np.random.randint(1,high=7)\n",
    "    # スペースで区切って印字します。\n",
    "    print(random_number,end=' ')\n",
    "else:\n",
    "    # この部分は、random_numberが6である場合に実行されます。\n",
    "    print('END')"
   ]
  },
  {
   "cell_type": "markdown",
   "id": "b5653e3c-bb3b-402c-8709-fe2ecdb0fdbe",
   "metadata": {},
   "source": [
    "for文（決められた回数の繰り返しをおこなう。配列の各要素に対して処理をおこなう）"
   ]
  },
  {
   "cell_type": "markdown",
   "id": "1f6cbf43-43fc-437e-bfe7-7b6872a6b391",
   "metadata": {},
   "source": [
    "for文とは、「イテレータ（iterator）の各要素に対して処理を行う」文です。イテレータを「1からNまでの整数の配列」とすれば、N回処理を繰り返すのと同じことになります。"
   ]
  },
  {
   "cell_type": "markdown",
   "id": "7b7bd435-65b4-4260-a797-560eb02b1135",
   "metadata": {},
   "source": [
    "次に示す例は、「1から10までの整数をすべて足す」プログラムです。具体的な方法としては、リストのそれぞれの要素に対して次の操作を繰り返します。"
   ]
  },
  {
   "cell_type": "markdown",
   "id": "10136fef-ccf5-4c95-a400-9bb93f98ab5b",
   "metadata": {},
   "source": [
    "要素iに対して、変数sum_allを足します。その値をsum_allに代入してsum_allを更新します。"
   ]
  },
  {
   "cell_type": "code",
   "execution_count": 52,
   "id": "ba377f18-70ca-4e65-bb7f-34683f75ae98",
   "metadata": {},
   "outputs": [
    {
     "name": "stdout",
     "output_type": "stream",
     "text": [
      "55\n"
     ]
    }
   ],
   "source": [
    "# sum_allの初期化\n",
    "# 注意：sumは組み込み関数の名前なので、使わないこと！関数sumが上書きされてしまいます。\n",
    "# 間違って使ってしまったら、「del sum」で、定義したsumを削除します。\n",
    "sum_all = 0\n",
    "# 1から10までの整数\n",
    "# 注意:リストをあらわす変数の名前にlistを使わないこと！関数listが上書きされてしまいます。\n",
    "list_10 = (1,2,3,4,5,6,7,8,9,10)\n",
    "for i in list_10:\n",
    "    sum_all = sum_all + i\n",
    "print(sum_all)"
   ]
  },
  {
   "cell_type": "markdown",
   "id": "dff949f6-5156-477f-9285-ebc8f634b6de",
   "metadata": {},
   "source": [
    "上の例で、「1から10までの整数」をあらわすリストを作るとき、便利な関数があります。"
   ]
  },
  {
   "cell_type": "code",
   "execution_count": 44,
   "id": "ca167225-88c4-4c41-8d94-854dd8191434",
   "metadata": {},
   "outputs": [
    {
     "data": {
      "text/plain": [
       "range(0, 10)"
      ]
     },
     "execution_count": 44,
     "metadata": {},
     "output_type": "execute_result"
    }
   ],
   "source": [
    "range(10)"
   ]
  },
  {
   "cell_type": "code",
   "execution_count": 43,
   "id": "ac638197-621e-42ee-8dda-f871163ead1a",
   "metadata": {},
   "outputs": [
    {
     "data": {
      "text/plain": [
       "[0, 1, 2, 3, 4, 5, 6, 7, 8, 9]"
      ]
     },
     "execution_count": 43,
     "metadata": {},
     "output_type": "execute_result"
    }
   ],
   "source": [
    "list(range(10))"
   ]
  },
  {
   "cell_type": "code",
   "execution_count": 54,
   "id": "d5ec0cff-c44f-405d-a37a-4e51ef28a72c",
   "metadata": {},
   "outputs": [
    {
     "name": "stdout",
     "output_type": "stream",
     "text": [
      "[0, 1, 2, 3, 4, 5, 6, 7, 8, 9]\n"
     ]
    }
   ],
   "source": [
    "print(list(range(10)))"
   ]
  },
  {
   "cell_type": "markdown",
   "id": "7964e227-86d8-47a0-94ec-14ce7ecd4733",
   "metadata": {},
   "source": [
    "このように、関数range(n)は、「0からn-1まで」の「range型オブジェクト」を作ります。これをリストにするには、関数listを用います。"
   ]
  },
  {
   "cell_type": "markdown",
   "id": "801c4e98-7ed8-4ca3-b1e6-2cb476395037",
   "metadata": {},
   "source": [
    "参考までに、range関数のすべての引数を使うと次のようになります。"
   ]
  },
  {
   "cell_type": "code",
   "execution_count": 62,
   "id": "730aceb9-752f-4b04-a2a8-7e94a9ef87bf",
   "metadata": {},
   "outputs": [
    {
     "data": {
      "text/plain": [
       "[1, 2, 3, 4, 5, 6]"
      ]
     },
     "execution_count": 62,
     "metadata": {},
     "output_type": "execute_result"
    }
   ],
   "source": [
    "list(range(1,7,1))"
   ]
  },
  {
   "cell_type": "code",
   "execution_count": 70,
   "id": "722150e2-a140-440a-a371-786ee98c9b05",
   "metadata": {},
   "outputs": [
    {
     "data": {
      "text/plain": [
       "[1, 3, 5, 7, 9, 11]"
      ]
     },
     "execution_count": 70,
     "metadata": {},
     "output_type": "execute_result"
    }
   ],
   "source": [
    "list(range(1,13,2))"
   ]
  },
  {
   "cell_type": "markdown",
   "id": "8eec21bd-696e-4bd3-b995-9ec98f0f0e65",
   "metadata": {},
   "source": [
    "このように、range()関数の1つめの引数が下限（以上）を、2つめの引数が上限（未満）を、3つめの引数は刻みをあらわします。"
   ]
  },
  {
   "cell_type": "markdown",
   "id": "c8ef8f0f-23eb-4f74-8ad0-c12adf07bd30",
   "metadata": {},
   "source": [
    "rangeを用いると、上のプログラムは次のようになります。"
   ]
  },
  {
   "cell_type": "code",
   "execution_count": 60,
   "id": "da7446d8-35c0-4b8f-87d6-60b10c85f2b5",
   "metadata": {},
   "outputs": [
    {
     "name": "stdout",
     "output_type": "stream",
     "text": [
      "55\n"
     ]
    }
   ],
   "source": [
    "sum_all = 0\n",
    "for i in range(10):\n",
    "    # range(10)のかわりにlist(range(10))としても同じ結果になります。\n",
    "    # range(10)では「0から9まで」の10個の整数ができるので、使う前に1を足してやります。\n",
    "    i = i + 1\n",
    "    sum_all = sum_all + i\n",
    "print(sum_all)"
   ]
  },
  {
   "cell_type": "markdown",
   "id": "d4f61a30-a051-486b-93bd-5f1c5b4c17ec",
   "metadata": {},
   "source": [
    "上の例は、イテレータとして、リストだけでなくrange型のオブジェクトも使えることを示しています。イテレータとなるものにはほかに、タプル、辞書、集合がありますが後の回で説明します。"
   ]
  },
  {
   "cell_type": "code",
   "execution_count": null,
   "id": "9438351a-2bc5-4cfb-8fe0-884e47ba94e2",
   "metadata": {},
   "outputs": [],
   "source": []
  }
 ],
 "metadata": {
  "kernelspec": {
   "display_name": "Python 3 (ipykernel)",
   "language": "python",
   "name": "python3"
  },
  "language_info": {
   "codemirror_mode": {
    "name": "ipython",
    "version": 3
   },
   "file_extension": ".py",
   "mimetype": "text/x-python",
   "name": "python",
   "nbconvert_exporter": "python",
   "pygments_lexer": "ipython3",
   "version": "3.9.9"
  }
 },
 "nbformat": 4,
 "nbformat_minor": 5
}
