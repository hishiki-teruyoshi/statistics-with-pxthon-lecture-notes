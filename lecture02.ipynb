{
 "cells": [
  {
   "cell_type": "markdown",
   "id": "13294c77-bc43-42c7-9ef6-eb1c60fa0ef5",
   "metadata": {},
   "source": [
    "# 第２回　Pythonの基礎（２）"
   ]
  },
  {
   "cell_type": "markdown",
   "id": "ef73ee2e-0a82-426f-a2e1-b49be6d0b6eb",
   "metadata": {
    "tags": []
   },
   "source": [
    "## Pythonのデータ型"
   ]
  },
  {
   "cell_type": "markdown",
   "id": "1680762b-20ee-4d70-90db-c9101904c490",
   "metadata": {},
   "source": [
    "Pythonのプログラミングでは、データ型（数値とか文字列とか）を指定しなくてもプログラミングが可能ですが、特定のデータ型にしか適用できない処理がありますので、データ型を意識してプログラミングを行なう必要があります。"
   ]
  },
  {
   "cell_type": "markdown",
   "id": "1dcf8d8e-21b1-45cc-9008-256f8d221a18",
   "metadata": {},
   "source": [
    "Pythonの主なデータ型は次の表のとおりです。論理型については前回扱いました。if文やwhile文の条件式に使われます。"
   ]
  },
  {
   "cell_type": "markdown",
   "id": "e939d500-fdf8-4499-857e-e14995152141",
   "metadata": {},
   "source": [
    "|データ型|説明|\n",
    "|--|--|\n",
    "|数値型(number)|数値を扱うデータ型|\n",
    "|論理型(boolean)|真(true)と偽(false)をとるデータ型|\n",
    "|リスト型(list)|要素の集まりを扱うデータ型。順番あり。要素の変更が可能|\n",
    "|タプル型(tuple)|要素の集まりを扱うデータ型。順番あり。要素の変更は不可|\n",
    "|辞書型(dict)|キー(ley)と値(value)の組み合わせでできた要素の集まりを扱うデータ型。順番なし。要素の変更が可能|\n",
    "|集合型(set)|要素の集まりを扱うデータ型。順番なし。要素の変更が可能|"
   ]
  },
  {
   "cell_type": "markdown",
   "id": "d184cfab-c15c-44cf-b2ec-d7551dc6869a",
   "metadata": {},
   "source": [
    "### 数値型"
   ]
  },
  {
   "cell_type": "markdown",
   "id": "ecd7e98f-e7aa-4424-a67a-6f5496296c40",
   "metadata": {},
   "source": [
    "Pythonでは数値は通常は浮動小数点型として処理されます。"
   ]
  },
  {
   "cell_type": "code",
   "execution_count": 1,
   "id": "7a14cec2-58d1-4f48-9bd6-f2241fc45b86",
   "metadata": {},
   "outputs": [
    {
     "data": {
      "text/plain": [
       "0.30000000000000004"
      ]
     },
     "execution_count": 1,
     "metadata": {},
     "output_type": "execute_result"
    }
   ],
   "source": [
    "0.1+0.2"
   ]
  },
  {
   "cell_type": "code",
   "execution_count": 19,
   "id": "fda7b903-34e0-427f-a729-5a08c6aed0d2",
   "metadata": {},
   "outputs": [
    {
     "data": {
      "text/plain": [
       "0.020000000000000004"
      ]
     },
     "execution_count": 19,
     "metadata": {},
     "output_type": "execute_result"
    }
   ],
   "source": [
    "0.1*0.2"
   ]
  },
  {
   "cell_type": "markdown",
   "id": "5dc6213a-019e-4ab7-9173-eb65c8d047b4",
   "metadata": {},
   "source": [
    "そのため、小数を扱うとき、上の例のように、誤差が生じることに注意する必要があります。"
   ]
  },
  {
   "cell_type": "markdown",
   "id": "25fa97af-1e4a-4e4f-bc13-4ff334b0ef70",
   "metadata": {},
   "source": [
    "桁数や小数点以下の桁数を指示して表示するときはprint関数を次のように使います。"
   ]
  },
  {
   "cell_type": "code",
   "execution_count": 21,
   "id": "4cb2b94a-d25d-47e5-8d01-1d8ed55bc1ea",
   "metadata": {},
   "outputs": [
    {
     "name": "stdout",
     "output_type": "stream",
     "text": [
      "0.35\n"
     ]
    }
   ],
   "source": [
    "print('{:.2f}'.format(0.1+0.25))\n",
    "#小数点以下２桁まで表示"
   ]
  },
  {
   "cell_type": "code",
   "execution_count": 22,
   "id": "0caeca1d-18b3-4abd-b2bc-0f5ca7e924aa",
   "metadata": {},
   "outputs": [
    {
     "name": "stdout",
     "output_type": "stream",
     "text": [
      "    111.35\n"
     ]
    }
   ],
   "source": [
    "print('{:10}'.format(111.1+0.25))\n",
    "#10桁で表示"
   ]
  },
  {
   "cell_type": "markdown",
   "id": "1ce65194-541f-400a-be07-6d8997d4e108",
   "metadata": {},
   "source": [
    "あとの例では、先頭に空白が4桁挿入されることによって全体の桁数が10になっています。"
   ]
  },
  {
   "cell_type": "markdown",
   "id": "020399fc-7c31-4399-be84-01a5848faeac",
   "metadata": {},
   "source": [
    "文字列型"
   ]
  },
  {
   "cell_type": "markdown",
   "id": "5b3aec5e-848d-441b-82c1-f488aa53a4df",
   "metadata": {},
   "source": [
    "文字列はシングルクォーテーション、ダブルクォーテーション、三重引用符のどれかで囲んで使います。三重引用符を使うと改行を含む文字列を扱うことができます。"
   ]
  },
  {
   "cell_type": "code",
   "execution_count": 28,
   "id": "1198dd74-6239-415d-84ac-902d9b740ba7",
   "metadata": {},
   "outputs": [
    {
     "name": "stdout",
     "output_type": "stream",
     "text": [
      "abc\n",
      "def\n",
      "hij\n",
      "klm\n"
     ]
    }
   ],
   "source": [
    "string_ex1 = 'abc'\n",
    "string_ex2 = \"def\"\n",
    "string_ex3 = \"\"\"hij\n",
    "klm\"\"\"\n",
    "print(string_ex1)\n",
    "print(string_ex2)\n",
    "print(string_ex3)"
   ]
  },
  {
   "cell_type": "markdown",
   "id": "ffa5aa11-f899-4be5-95d7-a0c533a23ef1",
   "metadata": {},
   "source": [
    "文字列の演算"
   ]
  },
  {
   "cell_type": "markdown",
   "id": "78c7fc23-2863-4c70-9273-e298d65e094f",
   "metadata": {},
   "source": [
    "数値では足し算の'+'は、文字列では連結を表します。"
   ]
  },
  {
   "cell_type": "code",
   "execution_count": 5,
   "id": "0b621cbe-ee7d-43b0-95bc-0652f96279f4",
   "metadata": {},
   "outputs": [
    {
     "name": "stdout",
     "output_type": "stream",
     "text": [
      "abcdef\n"
     ]
    }
   ],
   "source": [
    "print('abc'+'def')"
   ]
  },
  {
   "cell_type": "markdown",
   "id": "36dcb02c-6dc4-4350-bbaa-226cb1c83b58",
   "metadata": {},
   "source": [
    "同値判定を行う'=='あるいは'!='も文字列が同じであるかどうかの判定に使えます。"
   ]
  },
  {
   "cell_type": "code",
   "execution_count": 6,
   "id": "87667b3c-3773-43cc-a376-84d359a3c7c0",
   "metadata": {},
   "outputs": [
    {
     "data": {
      "text/plain": [
       "True"
      ]
     },
     "execution_count": 6,
     "metadata": {},
     "output_type": "execute_result"
    }
   ],
   "source": [
    "'acc' == 'acc'"
   ]
  },
  {
   "cell_type": "code",
   "execution_count": 9,
   "id": "8a4bd245-243f-46a6-a468-be0b9622a394",
   "metadata": {},
   "outputs": [
    {
     "data": {
      "text/plain": [
       "False"
      ]
     },
     "execution_count": 9,
     "metadata": {},
     "output_type": "execute_result"
    }
   ],
   "source": [
    "'acc' != 'acc'"
   ]
  },
  {
   "cell_type": "markdown",
   "id": "fc144527-0a3d-4139-96c3-2d753405b974",
   "metadata": {},
   "source": [
    "文字列に対する操作"
   ]
  },
  {
   "cell_type": "code",
   "execution_count": 22,
   "id": "9f4e262b-e32d-4caa-a4ef-d4717c50c4f5",
   "metadata": {},
   "outputs": [
    {
     "data": {
      "text/plain": [
       "'   hello, world!   '"
      ]
     },
     "execution_count": 22,
     "metadata": {},
     "output_type": "execute_result"
    }
   ],
   "source": [
    "string = '   Hello, World!   '\n",
    "string.lower()\n",
    "#すべて小文字にしたものを返す。"
   ]
  },
  {
   "cell_type": "code",
   "execution_count": 23,
   "id": "66bbd396-b30b-4a60-9091-b0b03c00bb6c",
   "metadata": {},
   "outputs": [
    {
     "data": {
      "text/plain": [
       "'Hello, World!   '"
      ]
     },
     "execution_count": 23,
     "metadata": {},
     "output_type": "execute_result"
    }
   ],
   "source": [
    "string.lstrip()\n",
    "#先頭の空白文字を除去したものを返す\n",
    "#先ほどの操作でオブジェクトそのものは変化していないことに注意。"
   ]
  },
  {
   "cell_type": "code",
   "execution_count": 24,
   "id": "327988f6-1da5-4995-bb12-47a31d891cb7",
   "metadata": {},
   "outputs": [
    {
     "data": {
      "text/plain": [
       "'   Hello, World!'"
      ]
     },
     "execution_count": 24,
     "metadata": {},
     "output_type": "execute_result"
    }
   ],
   "source": [
    "string.rstrip()\n",
    "#末尾の空白文字を除去したものを返す。"
   ]
  },
  {
   "cell_type": "code",
   "execution_count": 25,
   "id": "ee499337-0812-44c0-8b6c-a6c9d1393579",
   "metadata": {},
   "outputs": [
    {
     "data": {
      "text/plain": [
       "'Hello, World!'"
      ]
     },
     "execution_count": 25,
     "metadata": {},
     "output_type": "execute_result"
    }
   ],
   "source": [
    "string.strip()\n",
    "#先頭と末尾の空白文字を除去したものを返す。"
   ]
  },
  {
   "cell_type": "code",
   "execution_count": 26,
   "id": "bd3c6b89-e0a2-4bbd-a27f-975a96ce03da",
   "metadata": {},
   "outputs": [
    {
     "data": {
      "text/plain": [
       "'   HELLO, WORLD!   '"
      ]
     },
     "execution_count": 26,
     "metadata": {},
     "output_type": "execute_result"
    }
   ],
   "source": [
    "string.upper()\n",
    "#すべて大文字にしたものを返す。"
   ]
  },
  {
   "cell_type": "code",
   "execution_count": 19,
   "id": "71efd86a-d840-4d7b-b483-ae8a7b4fc0be",
   "metadata": {},
   "outputs": [
    {
     "data": {
      "text/plain": [
       "['', '', '', 'Hello,', 'World!', '', '', '']"
      ]
     },
     "execution_count": 19,
     "metadata": {},
     "output_type": "execute_result"
    }
   ],
   "source": [
    "string.split(' ')\n",
    "#スペースを区切り文字にして分割しリストにしたものを返す。"
   ]
  },
  {
   "cell_type": "code",
   "execution_count": 21,
   "id": "d9ebf129-4049-4dda-b05c-2439e7d446a0",
   "metadata": {},
   "outputs": [
    {
     "data": {
      "text/plain": [
       "['Hello,', 'World!']"
      ]
     },
     "execution_count": 21,
     "metadata": {},
     "output_type": "execute_result"
    }
   ],
   "source": [
    "string.strip().split(' ')"
   ]
  },
  {
   "cell_type": "markdown",
   "id": "1e9f94e1-f7f7-41ce-9ba2-239228a8aeff",
   "metadata": {},
   "source": [
    "上に挙げた文字列操作は、「文字列クラス」の「メソッド」を用いました。"
   ]
  },
  {
   "cell_type": "markdown",
   "id": "e0bf8cec-2f7a-4647-a995-e2f81b34d69f",
   "metadata": {},
   "source": [
    "要素をもつデータ型:リスト、タプル、辞書等"
   ]
  },
  {
   "cell_type": "markdown",
   "id": "f61079ea-a117-403b-b10b-523ca59591ff",
   "metadata": {},
   "source": [
    "複数の要素をもつデータ型を複合（compound）データ型といいます。処理を繰り返すときに使うのでイテレータ（iterator）ともいいます。"
   ]
  },
  {
   "cell_type": "markdown",
   "id": "b9be7d65-d406-46a2-bdf3-9375e0a7e5d2",
   "metadata": {},
   "source": [
    "リスト"
   ]
  },
  {
   "cell_type": "markdown",
   "id": "9a64c9ff-fbe9-49ec-bbba-43af8c72da50",
   "metadata": {},
   "source": [
    "リストは、コンマ区切りの値（要素）の並びを角カッコで囲んだものとして記述されます。"
   ]
  },
  {
   "cell_type": "code",
   "execution_count": 2,
   "id": "fbd50d00-12e4-43ce-87d4-77af52ac9e7b",
   "metadata": {},
   "outputs": [],
   "source": [
    "squares = [1, 4, 9, 16, 25, 36]"
   ]
  },
  {
   "cell_type": "markdown",
   "id": "9bd00b64-fbbe-43ae-9da0-9b2620471fd3",
   "metadata": {},
   "source": [
    "要素には先頭から0, 1, 2, ...の「添字」がついています。これを利用して特定の要素を取り出すことができます。"
   ]
  },
  {
   "cell_type": "code",
   "execution_count": 27,
   "id": "e299ce94-e8e5-4813-bc50-7a44d12ac20a",
   "metadata": {},
   "outputs": [
    {
     "name": "stdout",
     "output_type": "stream",
     "text": [
      "4\n"
     ]
    }
   ],
   "source": [
    "squares = [1, 4, 9, 16, 25, 36]\n",
    "print(squares[1])\n",
    "#2番目の要素を印字する"
   ]
  },
  {
   "cell_type": "markdown",
   "id": "e7e63af6-918a-443c-9872-c061ab59b584",
   "metadata": {},
   "source": [
    "また、末尾から-1, -2, ..., -N (Nは要素数）の添字が付いています。これを利用しても、特定の要素を取り出すことができます。"
   ]
  },
  {
   "cell_type": "code",
   "execution_count": 28,
   "id": "603227e6-6b3e-44d7-bcf5-0f9bbb803d50",
   "metadata": {},
   "outputs": [
    {
     "name": "stdout",
     "output_type": "stream",
     "text": [
      "25\n"
     ]
    }
   ],
   "source": [
    "squares = [1, 4, 9, 16, 25, 36]\n",
    "print(squares[-2])\n",
    "#末尾から２番めの要素を印字する"
   ]
  },
  {
   "cell_type": "markdown",
   "id": "9c35ecb0-dc8b-4364-8fc3-ba72c55ebd62",
   "metadata": {},
   "source": [
    "リストの一部を取り出す（スライス）"
   ]
  },
  {
   "cell_type": "markdown",
   "id": "8ad1ad3f-c009-49ba-b923-187aaa0af2ff",
   "metadata": {},
   "source": [
    "角括弧（[]）の中に「始点の添字:終点の添字+1」を書くことによってリストの一部を連続的に取り出すことができます。"
   ]
  },
  {
   "cell_type": "code",
   "execution_count": 29,
   "id": "ed58062d-620f-49b2-9d14-8b19c3ddb9d0",
   "metadata": {},
   "outputs": [
    {
     "name": "stdout",
     "output_type": "stream",
     "text": [
      "[1, 4, 9]\n"
     ]
    }
   ],
   "source": [
    "squares = [1, 4, 9, 16, 25, 36]\n",
    "print(squares[0:3])\n",
    "#1番目（添字は0）から3番目（添字は2）までの要素を印字する"
   ]
  },
  {
   "cell_type": "markdown",
   "id": "ef93cb8d-03ab-4471-b65e-5043b116f11d",
   "metadata": {},
   "source": [
    "始点または終点の添字の片方を省略することができます。\n",
    "それによって、次の示すように、ある要素から最後の要素までを取り出すことができます。"
   ]
  },
  {
   "cell_type": "code",
   "execution_count": 30,
   "id": "83d3217a-c78b-4efe-8409-02db68c41d92",
   "metadata": {},
   "outputs": [
    {
     "name": "stdout",
     "output_type": "stream",
     "text": [
      "[16, 25, 36]\n"
     ]
    }
   ],
   "source": [
    "squares = [1, 4, 9, 16, 25, 36]\n",
    "print(squares[3:])\n",
    "#４番め（添字は3）から最後までを印字する"
   ]
  },
  {
   "cell_type": "markdown",
   "id": "2d60adee-36b4-4bcb-9594-3347a5df90af",
   "metadata": {},
   "source": [
    "同様にして、最初からある要素までを取りだすことができます。"
   ]
  },
  {
   "cell_type": "code",
   "execution_count": 31,
   "id": "a8d4306b-9538-42cf-a133-4cae3abf54f7",
   "metadata": {},
   "outputs": [
    {
     "name": "stdout",
     "output_type": "stream",
     "text": [
      "[1, 4, 9]\n"
     ]
    }
   ],
   "source": [
    "squares = [1, 4, 9, 16, 25, 36]\n",
    "print(squares[:3])\n",
    "#最初から３番め（添字２）までの要素を印字する。"
   ]
  },
  {
   "cell_type": "markdown",
   "id": "bb72ba81-2a55-4186-9e3e-6d40d42566d4",
   "metadata": {},
   "source": [
    "リストは要素を書き換えることができます。  \n",
    "例えば、すべての要素の値に1を足すにはenumerate()関数を用いて次のようにします。"
   ]
  },
  {
   "cell_type": "code",
   "execution_count": 10,
   "id": "7c6a343d-b1f2-4c29-a6ba-3ea8bfdf16a0",
   "metadata": {},
   "outputs": [
    {
     "name": "stdout",
     "output_type": "stream",
     "text": [
      "[1, 4, 9, 16, 25, 36]\n",
      "[2, 5, 10, 17, 26, 37]\n"
     ]
    }
   ],
   "source": [
    "#まずリストsquaresを作る。\n",
    "squares = [i**2 for i in range(1,7)]\n",
    "#range()関数の引数は、(下限（省略したら0）,上限（ただし、越えない値）, ステップ（省略したら1） )であることに注意。\n",
    "print(squares)\n",
    "#次にリストsquaresの各要素に1を足す\n",
    "for i, square in enumerate(squares):\n",
    "    #添字がi, 要素の値はsquare\n",
    "    squares[i] = square + 1\n",
    "print(squares)"
   ]
  },
  {
   "cell_type": "markdown",
   "id": "ffdfa45a-8aba-4f2d-936e-b7a4a4a125cf",
   "metadata": {},
   "source": [
    "上のプログラムで、リストsquaresを初期化して最初の値を埋めるには、次のようにもできます。"
   ]
  },
  {
   "cell_type": "code",
   "execution_count": 15,
   "id": "0a14113e-5710-40ac-b681-60a7dc44f69b",
   "metadata": {},
   "outputs": [
    {
     "name": "stdout",
     "output_type": "stream",
     "text": [
      "[1, 4, 9, 16, 25, 36]\n"
     ]
    }
   ],
   "source": [
    "squares = list()\n",
    "# これは、squares = []と同じ。\n",
    "for i in range(1,7):\n",
    "    squares.append(i**2)\n",
    "print(squares)"
   ]
  },
  {
   "cell_type": "markdown",
   "id": "d6dd6108-15c3-4b81-a39c-0e32869b30bc",
   "metadata": {},
   "source": [
    "タプル"
   ]
  },
  {
   "cell_type": "markdown",
   "id": "1b5413ba-7cf5-4970-a372-c94ae1d42d22",
   "metadata": {},
   "source": [
    "タプルは、リストと違って、変更不可能です。添字のしかたはリストと同じです。"
   ]
  },
  {
   "cell_type": "code",
   "execution_count": 33,
   "id": "c9e5792f-f8bb-4e3c-88ed-e8a64c050fff",
   "metadata": {},
   "outputs": [],
   "source": [
    "tuple_ex = (2,3,4,5,6)"
   ]
  },
  {
   "cell_type": "code",
   "execution_count": 34,
   "id": "97436299-0536-4e12-a0ac-8a7e62fc7ee7",
   "metadata": {},
   "outputs": [
    {
     "data": {
      "text/plain": [
       "2"
      ]
     },
     "execution_count": 34,
     "metadata": {},
     "output_type": "execute_result"
    }
   ],
   "source": [
    "tuple_ex[0]"
   ]
  },
  {
   "cell_type": "code",
   "execution_count": 40,
   "id": "a81ec979-6faa-4e4f-aa75-a51a6fb0cf8c",
   "metadata": {},
   "outputs": [
    {
     "ename": "TypeError",
     "evalue": "'tuple' object does not support item assignment",
     "output_type": "error",
     "traceback": [
      "\u001b[1;31m---------------------------------------------------------------------------\u001b[0m",
      "\u001b[1;31mTypeError\u001b[0m                                 Traceback (most recent call last)",
      "\u001b[1;32m~\\AppData\\Local\\Temp/ipykernel_20624/1008311748.py\u001b[0m in \u001b[0;36m<module>\u001b[1;34m\u001b[0m\n\u001b[1;32m----> 1\u001b[1;33m \u001b[0mtuple_ex\u001b[0m\u001b[1;33m[\u001b[0m\u001b[1;36m0\u001b[0m\u001b[1;33m]\u001b[0m \u001b[1;33m=\u001b[0m \u001b[1;36m1\u001b[0m\u001b[1;33m\u001b[0m\u001b[1;33m\u001b[0m\u001b[0m\n\u001b[0m\u001b[0;32m      2\u001b[0m \u001b[1;31m#変更しようとするとエラーが出る\u001b[0m\u001b[1;33m\u001b[0m\u001b[1;33m\u001b[0m\u001b[0m\n",
      "\u001b[1;31mTypeError\u001b[0m: 'tuple' object does not support item assignment"
     ]
    }
   ],
   "source": [
    "tuple_ex[0] = 1\n",
    "#変更しようとするとエラーが出る"
   ]
  },
  {
   "cell_type": "code",
   "execution_count": 41,
   "id": "ef4c2a78-d2df-4783-bb65-a114ecad5c94",
   "metadata": {},
   "outputs": [],
   "source": [
    "list_ex = [x for x in tuple_ex]\n",
    "#タプルの内容をリストにコピーしてみる"
   ]
  },
  {
   "cell_type": "code",
   "execution_count": 37,
   "id": "341d4c4d-0709-4975-9a68-d9c5e28331ba",
   "metadata": {},
   "outputs": [
    {
     "data": {
      "text/plain": [
       "[2, 3, 4, 5, 6]"
      ]
     },
     "execution_count": 37,
     "metadata": {},
     "output_type": "execute_result"
    }
   ],
   "source": [
    "list_ex"
   ]
  },
  {
   "cell_type": "code",
   "execution_count": 42,
   "id": "e9946353-154f-4655-9960-5ed6ffe38e17",
   "metadata": {},
   "outputs": [
    {
     "name": "stdout",
     "output_type": "stream",
     "text": [
      "1\n"
     ]
    }
   ],
   "source": [
    "list_ex[0] = 1\n",
    "#リストは変更可能\n",
    "print(list_ex[0])"
   ]
  },
  {
   "cell_type": "markdown",
   "id": "897db867-a9f0-46b7-9300-b6468f2084c3",
   "metadata": {},
   "source": [
    "辞書"
   ]
  },
  {
   "cell_type": "markdown",
   "id": "7e128835-23af-45da-836f-061f64607275",
   "metadata": {},
   "source": [
    "辞書型は、キー（key）と値（value）の組み合わせの集まりです。順番はありません。キーをインデックス（索引）として使い、キーに対する値を取り出します。"
   ]
  },
  {
   "cell_type": "code",
   "execution_count": 4,
   "id": "57298af5-d3ea-4e53-8883-f87c140eb2bb",
   "metadata": {},
   "outputs": [
    {
     "name": "stdout",
     "output_type": "stream",
     "text": [
      "London\n"
     ]
    }
   ],
   "source": [
    "capital = {'United Kingdom':'London','Australia':'Canberra'}\n",
    "print(capital['United Kingdom'])"
   ]
  },
  {
   "cell_type": "markdown",
   "id": "10049c6f-6c1f-456d-91cc-462d40388d6a",
   "metadata": {},
   "source": [
    "集合"
   ]
  },
  {
   "cell_type": "markdown",
   "id": "3f5073ea-3420-4ae7-bbfe-29f28d2ad7c2",
   "metadata": {},
   "source": [
    "集合型は、重複する要素をもたない、順序のない、要素の集まりです。次の例のように、集合演算が可能です。"
   ]
  },
  {
   "cell_type": "code",
   "execution_count": 17,
   "id": "459f88b9-f27e-4785-b603-21e283993364",
   "metadata": {},
   "outputs": [
    {
     "name": "stdout",
     "output_type": "stream",
     "text": [
      "{12, 6}\n",
      "{18, 3, 6, 9, 12, 15}\n",
      "set_bだけ:{18}\n",
      "set_aだけ:{9, 3, 15}\n"
     ]
    }
   ],
   "source": [
    "set_a = {3,6,9,12,15 }\n",
    "set_b = {6,12,18}\n",
    "#積集合を求める\n",
    "set_c = set_a.intersection(set_b)\n",
    "print(set_c)\n",
    "#和集合を求める\n",
    "set_d = set_a.union(set_b)\n",
    "print(set_d)\n",
    "#差を求める\n",
    "set_e = set_b.difference(set_a)\n",
    "set_f = set_a.difference(set_b)\n",
    "print(\"set_bだけ:{0}\".format(set_e))\n",
    "print(\"set_aだけ:{0}\".format(set_f))"
   ]
  },
  {
   "cell_type": "markdown",
   "id": "acd5d63a-13e7-46f0-92b6-b5b97d51caf4",
   "metadata": {
    "tags": []
   },
   "source": [
    "## 行列とNumPy"
   ]
  },
  {
   "cell_type": "markdown",
   "id": "0139a2d2-3148-4c85-9039-2f7909732d98",
   "metadata": {},
   "source": [
    "NumPyという外部ライブラリ（標準のPythonには含まれない）の配列クラス（numpy.array）には配列（ベクトル）や行列の操作のために便利なメソッドが多く用意されています。（注：「クラス」と「メソッド」については回を改めて説明します。今は、クラスとはより複雑なデータの型、メソッドとはあるクラス用の関数（関数についても回を改めて説明します）である、くらいに理解してください。）"
   ]
  },
  {
   "cell_type": "markdown",
   "id": "6880fee8-1c8d-4238-b1ae-9c3ad77e1565",
   "metadata": {},
   "source": [
    "NumPyをインポートする"
   ]
  },
  {
   "cell_type": "markdown",
   "id": "8d7a2e71-8fa6-43c8-93f2-dac267875317",
   "metadata": {},
   "source": [
    "NumPyは外部ライブラリですので、使うためにインポートする必要があります。"
   ]
  },
  {
   "cell_type": "code",
   "execution_count": 2,
   "id": "6e3c1acd-ec6a-456e-ba35-3c9257cd16cc",
   "metadata": {},
   "outputs": [],
   "source": [
    "import numpy as np"
   ]
  },
  {
   "cell_type": "markdown",
   "id": "bb31f19f-84b3-4a97-a72d-3b52545e24c3",
   "metadata": {},
   "source": [
    "直訳するなら、「numpyをnpとして読み込む」となります。このように書くことで、これ以降、NumPyに関するメソッドはnpとして参照することができます。"
   ]
  },
  {
   "cell_type": "markdown",
   "id": "197af8e6-253d-4aba-93b4-f0a6d7290b0c",
   "metadata": {},
   "source": [
    "NumPyで配列を作る"
   ]
  },
  {
   "cell_type": "markdown",
   "id": "7f4725fb-0f56-41b0-a2c0-40a7dacce0b2",
   "metadata": {},
   "source": [
    "np.array()というメソッドを用います。np.array()は、リストを引数にとり、NumPy用の配列（numpy.ndarrayクラス）を生成します。"
   ]
  },
  {
   "cell_type": "code",
   "execution_count": 5,
   "id": "b0ed669d-647a-4a62-bb4f-0a8883c10d3d",
   "metadata": {},
   "outputs": [
    {
     "name": "stdout",
     "output_type": "stream",
     "text": [
      "[1. 2. 3.]\n"
     ]
    },
    {
     "data": {
      "text/plain": [
       "numpy.ndarray"
      ]
     },
     "execution_count": 5,
     "metadata": {},
     "output_type": "execute_result"
    }
   ],
   "source": [
    "import numpy as np\n",
    "x = np.array([1.0, 2.0, 3.0])\n",
    "print(x)\n",
    "type(x)\n",
    "#オブジェクトの型を取得"
   ]
  },
  {
   "cell_type": "markdown",
   "id": "63b90854-9a06-482e-a413-552fbf9c2290",
   "metadata": {},
   "source": [
    "NumPyによる配列の算術計算"
   ]
  },
  {
   "cell_type": "code",
   "execution_count": 14,
   "id": "5d1531f0-5d9f-430c-8540-52bfa37ec7c9",
   "metadata": {},
   "outputs": [
    {
     "name": "stdout",
     "output_type": "stream",
     "text": [
      "要素ごとの和:[3. 6. 9.]\n",
      "要素ごとの積:[ 2.  8. 18.]\n",
      "要素ごとの商:[0.5 0.5 0.5]\n",
      "xと2のスカラ積:[2. 4. 6.]\n"
     ]
    }
   ],
   "source": [
    "import numpy as np\n",
    "x = np.array([1.0, 2.0, 3.0])\n",
    "y = np.array([2.0, 4.0, 6.0])\n",
    "print(\"要素ごとの和:{0}\".format(x + y))\n",
    "print(\"要素ごとの積:{0}\".format(x * y))\n",
    "print(\"要素ごとの商:{0}\".format(x / y))\n",
    "print(\"xと2のスカラ積:{0}\".format(2*x))"
   ]
  },
  {
   "cell_type": "markdown",
   "id": "f4a06f1d-35c0-4c84-8ce6-b77af9739e22",
   "metadata": {},
   "source": [
    "NumPyによる行列（２次元配列）"
   ]
  },
  {
   "cell_type": "markdown",
   "id": "badd4797-ba71-41dd-8edb-486213c1b5a3",
   "metadata": {},
   "source": [
    "行列どうしの要素ごとの和や積や商、そして、行列のスカラ積（行列の各要素を単純に何倍かする）も、配列と同じ書き方でできます。"
   ]
  },
  {
   "cell_type": "code",
   "execution_count": 28,
   "id": "846e88cb-c6fa-45b7-a64b-44b16536e68f",
   "metadata": {},
   "outputs": [
    {
     "name": "stdout",
     "output_type": "stream",
     "text": [
      "行列の表示\n",
      "A=[[1. 2.]\n",
      " [3. 4.]]\n",
      "B=[[3. 0.]\n",
      " [0. 6.]]\n",
      "行列Aの形\n",
      "(2, 2)\n",
      "行列Aの要素のデータ型\n",
      "float64\n",
      "行列の要素ごとの和 A + B = \n",
      "[[ 4.  2.]\n",
      " [ 3. 10.]]\n",
      "行列の要素ごとの積 A * B = \n",
      "[[ 3.  0.]\n",
      " [ 0. 24.]]\n",
      "行列のスカラ積 2A = \n",
      "[[2. 4.]\n",
      " [6. 8.]]\n"
     ]
    }
   ],
   "source": [
    "import numpy as np\n",
    "A = np.array([[1.0, 2.0], [3.0, 4.0]])\n",
    "B = np.array([[3.0, 0], [0, 6.0]])\n",
    "print(\"行列の表示\")\n",
    "print(\"A={0}\".format(A))\n",
    "print(\"B={0}\".format(B))\n",
    "print(\"行列Aの形\")\n",
    "print(A.shape)\n",
    "print(\"行列Aの要素のデータ型\")\n",
    "print(A.dtype)\n",
    "print(\"行列の要素ごとの和 A + B = \")\n",
    "print(A + B)\n",
    "print(\"行列の要素ごとの積 A * B = \")\n",
    "print(A * B)\n",
    "print(\"行列のスカラ積 2A = \")\n",
    "print(2*A)"
   ]
  },
  {
   "cell_type": "markdown",
   "id": "ce5cdec3-3529-4423-ba5b-a25f205d3640",
   "metadata": {},
   "source": [
    "行列どうしの積は、ベクトル（つまりNumPyの配列）どうしの「ドット積」（内積のことです）の組合わせです。ドット積とは、２つのベクトルが例えば\n",
    "$$\n",
    "x = (a, b), y = (c, d)\n",
    "$$\n",
    "であるとすると、\n",
    "$$\n",
    "x.y = ac + bd\n",
    "$$\n",
    "というスカラー（数値）を作る演算です"
   ]
  },
  {
   "cell_type": "markdown",
   "id": "f95d91f7-1fdd-434e-90c4-10fe4b556721",
   "metadata": {},
   "source": [
    "行列どうしの積は、例えば2 x 2行列では次のように定義されます、\n",
    "$$\n",
    "A=\\left(\n",
    "\\begin{matrix} a & b \\\\ c & d \\end{matrix}\n",
    "\\right)\n",
    ", B=\\left(\n",
    "\\begin{matrix} p & q \\\\ r & s \\end{matrix}\n",
    "\\right)\n",
    "$$\n",
    "とすると、\n",
    "$$\n",
    "AB = \\left(\n",
    "\\begin{matrix} ap + br & aq + bs\\\\ cp + dr & cq + ds \\end{matrix}\n",
    "\\right)\n",
    "$$\n",
    "となります。このように、積ABでできる行列のi行j列の要素は、行列Aのi行めと行列Bのj列めのドット積になっています。\n",
    "<BR>このことは次の２つのことを意味します。（１）ふつうは、積ABと積BAの結果は異なる（２）Aの列の数とBの行の数が同じでないと、積ABが定義できない。"
   ]
  },
  {
   "cell_type": "markdown",
   "id": "7dbf5496-e950-43da-91c6-a7303285487e",
   "metadata": {},
   "source": [
    "ドット積を計算するNumPyの関数は、np.dot()です。"
   ]
  },
  {
   "cell_type": "code",
   "execution_count": 33,
   "id": "a84fa125-a887-472f-8b22-a4aca43cb677",
   "metadata": {},
   "outputs": [
    {
     "name": "stdout",
     "output_type": "stream",
     "text": [
      "A = \n",
      "[[1 2]\n",
      " [3 4]]\n",
      "B = \n",
      "[[ 5  7]\n",
      " [11 13]]\n",
      "行列の積\n",
      "AB=\n",
      "[[27 33]\n",
      " [59 73]]\n",
      "BA=\n",
      "[[26 38]\n",
      " [50 74]]\n"
     ]
    }
   ],
   "source": [
    "import numpy as np\n",
    "A = np.array([[1, 2], [3, 4]])\n",
    "B = np.array([[5, 7], [11, 13]])\n",
    "print(\"A = \")\n",
    "print(A)\n",
    "print(\"B = \")\n",
    "print(B)\n",
    "print(\"行列の積\")\n",
    "print(\"AB=\")\n",
    "C = np.dot(A,B)\n",
    "print(C)\n",
    "print(\"BA=\")\n",
    "D = np.dot(B,A)\n",
    "print(D)"
   ]
  },
  {
   "cell_type": "markdown",
   "id": "b4c6a1f0-0899-4607-9c6b-059bf98e2e3d",
   "metadata": {},
   "source": [
    "行列の要素へのアクセス（例：行や列を取り出す）"
   ]
  },
  {
   "cell_type": "markdown",
   "id": "f2ac15fa-d435-48d1-9b20-820ba01070fa",
   "metadata": {},
   "source": [
    "次のようにして行列の要素にアクセスできます。"
   ]
  },
  {
   "cell_type": "code",
   "execution_count": 39,
   "id": "2ecc6db4-d3ae-4e7d-a220-ddc955db10c8",
   "metadata": {},
   "outputs": [
    {
     "name": "stdout",
     "output_type": "stream",
     "text": [
      "A = \n",
      "[[1 2]\n",
      " [3 4]]\n",
      "B = \n",
      "[[ 5  7]\n",
      " [11 13]]\n",
      "Aの1行目を取り出す\n",
      "[1 2]\n",
      "Bの1列目を取り出す\n",
      "[ 5 11]\n",
      "Aの1行目とBの1列目のドット積を計算する\n",
      "27\n"
     ]
    }
   ],
   "source": [
    "import numpy as np\n",
    "A = np.array([[1, 2], [3, 4]])\n",
    "B = np.array([[5, 7], [11, 13]])\n",
    "print(\"A = \")\n",
    "print(A)\n",
    "print(\"B = \")\n",
    "print(B)\n",
    "print(\"Aの1行目を取り出す\")\n",
    "print(A[0])\n",
    "print(\"Bの1列目を取り出す\")\n",
    "print(B[:,0])\n",
    "print(\"Aの1行目とBの1列目のドット積を計算する\")\n",
    "print(np.dot(A[0],B[:,0]))"
   ]
  },
  {
   "cell_type": "code",
   "execution_count": null,
   "id": "d22c948b-0425-4119-a600-86d1ef18e44a",
   "metadata": {},
   "outputs": [],
   "source": []
  }
 ],
 "metadata": {
  "kernelspec": {
   "display_name": "Python 3 (ipykernel)",
   "language": "python",
   "name": "python3"
  },
  "language_info": {
   "codemirror_mode": {
    "name": "ipython",
    "version": 3
   },
   "file_extension": ".py",
   "mimetype": "text/x-python",
   "name": "python",
   "nbconvert_exporter": "python",
   "pygments_lexer": "ipython3",
   "version": "3.9.9"
  }
 },
 "nbformat": 4,
 "nbformat_minor": 5
}
