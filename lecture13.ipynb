{
 "cells": [
  {
   "cell_type": "markdown",
   "id": "a278e9f4-a595-45ac-b274-d464fdd28cf5",
   "metadata": {},
   "source": [
    "# 第１３回　多次元データの解析（２）　（主成分分析）"
   ]
  },
  {
   "cell_type": "markdown",
   "id": "e1bccbcf-fd4c-4e44-a520-20498bca2dba",
   "metadata": {},
   "source": [
    "今回は、多次元データの特徴ーパターンーを捉えるための方法として、主成分分析と因子分析（参考）を取り上げます。"
   ]
  },
  {
   "cell_type": "markdown",
   "id": "544e915a-02f0-4257-be9f-f9bab4e029db",
   "metadata": {},
   "source": [
    "## 主成分分析"
   ]
  },
  {
   "cell_type": "markdown",
   "id": "a1096030-3458-4f13-a350-0486f3da5afc",
   "metadata": {},
   "source": [
    "### 何に使うのか？"
   ]
  },
  {
   "cell_type": "markdown",
   "id": "d83ccac1-8c25-4680-862a-9e57866531c0",
   "metadata": {},
   "source": [
    "### 例：多チャンネル情報の統合"
   ]
  },
  {
   "cell_type": "markdown",
   "id": "ac017e39-aa13-46f6-a6fc-04db155b1284",
   "metadata": {},
   "source": [
    "前回取り上げた重回帰分析は、２つ以上の情報（独立変数）を例えば家賃のような１つの情報（従属変数, 目的変数, 応答変数, などの別名があります）に結びつけるという情報統合の方法として理解することもできます。"
   ]
  },
  {
   "cell_type": "markdown",
   "id": "8570a086-e405-45c3-bf41-2786d3f59eb6",
   "metadata": {},
   "source": [
    "そこからさらに問題を一歩進めると、いろいろな情報を最終的にそこに帰着させられる、価格のような目的変数もなく、ただ複数の情報がある場合に、どのようにそれらの情報を統合したらよいでしょうか。"
   ]
  },
  {
   "cell_type": "markdown",
   "id": "4d77b5d6-3d6d-4ca6-8d55-0fd13aaa897d",
   "metadata": {},
   "source": [
    "#### 場面：202X年某国国境地帯"
   ]
  },
  {
   "cell_type": "markdown",
   "id": "02e9039c-ba74-4cfc-89b7-483abdb4f568",
   "metadata": {},
   "source": [
    "次のような状況設定を考えます。林の中に次の図で黒く塗った部分、ちょうど上から見ると階段状の形をした、物体が隠されています。それをドローンで見つけて、破壊のためにその位置を砲兵部隊に通報するのが皆さんの任務です。"
   ]
  },
  {
   "cell_type": "markdown",
   "id": "76a189d8-c692-409e-a64f-3d947b4532ff",
   "metadata": {},
   "source": [
    "一般には、リモートセンシングとよばれる分野で、人工衛星が利用されます。"
   ]
  },
  {
   "attachments": {
    "1c67b095-d1e8-4137-9620-4f0a70e6f224.png": {
     "image/png": "[encoded data removed]"
    }
   },
   "cell_type": "markdown",
   "id": "f075ef8e-212f-4a67-af81-40bc77a14044",
   "metadata": {},
   "source": [
    "![image.png](attachment:1c67b095-d1e8-4137-9620-4f0a70e6f224.png)"
   ]
  },
  {
   "cell_type": "markdown",
   "id": "d7c0ebe7-c96f-4cbd-b83a-4c3f9fec6580",
   "metadata": {},
   "source": [
    "しかしこの物体にはカモフラージュがしてあるので、カラー画像では下の図のように見えます。"
   ]
  },
  {
   "cell_type": "markdown",
   "id": "47b56937-faec-4bd3-aceb-c4fdb5b0f437",
   "metadata": {},
   "source": [
    "参考のため、描画プログラムも示します。まずモジュールのインポートです。Seabornはのちほど使います。"
   ]
  },
  {
   "cell_type": "code",
   "execution_count": 1,
   "id": "fd8584eb-7351-40c0-ac0f-c1e738a43eb8",
   "metadata": {},
   "outputs": [],
   "source": [
    "import numpy as np\n",
    "import pandas as pd\n",
    "import seaborn as sns\n",
    "%matplotlib inline\n",
    "import matplotlib.pyplot as plt"
   ]
  },
  {
   "cell_type": "markdown",
   "id": "13ccaac1-c15b-473e-bafd-6de86e982c3e",
   "metadata": {},
   "source": [
    "次の描画部分ですが、矩形部分の色塗りに、グラフオブジェクトのaxvspan()メソッドを使います。"
   ]
  },
  {
   "cell_type": "markdown",
   "id": "c6a39b81-8543-433f-ad17-0346748dd9f0",
   "metadata": {},
   "source": [
    "このメソッドの引数は、塗る領域の左端x座標、右端x座標、下端のy軸上での相対的位置、上端のy軸上での相対的位置、colorオプション、です。"
   ]
  },
  {
   "cell_type": "markdown",
   "id": "71e2c04a-134a-4de7-b383-82fe702e6e27",
   "metadata": {},
   "source": [
    "colorオプションの表現は、いろいろな形式が可能ですが、今回は、RGB (Red, Green, Blue)の値を使います。これらの値は、後で説明するように、ドローンのカメラから得たものとします。"
   ]
  },
  {
   "cell_type": "code",
   "execution_count": 2,
   "id": "da699761-2ea3-4ad0-a6af-e2dbcb82e1c5",
   "metadata": {},
   "outputs": [
    {
     "data": {
      "image/png": "[encoded data removed]",
      "text/plain": [
       "<Figure size 432x432 with 1 Axes>"
      ]
     },
     "metadata": {
      "needs_background": "light"
     },
     "output_type": "display_data"
    }
   ],
   "source": [
    "fig = plt.figure(figsize = (6, 6))\n",
    "ax = fig.add_subplot(111)\n",
    "ax.set_xlim(0, 10)\n",
    "ax.set_ylim(0, 10)\n",
    "ax.axvspan(0, 2.5, 0.75, 1, color = (0.2,0.6,0.2))\n",
    "ax.axvspan(2.5, 5, 0.75, 1, color = (0.2,0.7,0.1))\n",
    "ax.axvspan(5, 7.5, 0.75, 1, color = (0.4,0.5,0.1))\n",
    "ax.axvspan(7.5, 10, 0.75, 1, color = (0.2,0.5,0.3))\n",
    "\n",
    "ax.axvspan(0, 2.5, 0.5, 0.75, color = (0.2,0.5,0.3))\n",
    "ax.axvspan(2.5, 5, 0.5, 0.75, color = (0.3,0.5,0.2))\n",
    "ax.axvspan(5, 7.5, 0.5, 0.75, color = (0.3,0.5,0.2))\n",
    "ax.axvspan(7.5, 10, 0.5, 0.75, color = (0.2,0.7,0.1))\n",
    "\n",
    "ax.axvspan(0, 2.5, 0.25, 5, color = (0.3,0.4,0.3))\n",
    "ax.axvspan(2.5, 5, 0.25, 5, color = (0.3,0.4,0.3))\n",
    "ax.axvspan(5, 7.5, 0.25, 5, color = (0.2,0.4,0.4))\n",
    "ax.axvspan(7.5, 10, 0.25, 5, color = (0.1,0.7,0.2))\n",
    "\n",
    "ax.axvspan(0, 2.5, 0, 0.25, color = (0.2,0.6,0.2))\n",
    "ax.axvspan(2.5, 5, 0, 0.25, color = (0.2,0.6,0.2))\n",
    "ax.axvspan(5, 7.5, 0, 0.25, color = (0.2,0.7,0.1))\n",
    "ax.axvspan(7.5, 10, 0, 0.25, color = (0.2,0.7,0.1))\n",
    "plt.show()"
   ]
  },
  {
   "cell_type": "markdown",
   "id": "8b3ba9a3-2e08-4a71-8709-18cd8437993d",
   "metadata": {},
   "source": [
    "#### データ（複数チャンネルの情報）"
   ]
  },
  {
   "cell_type": "markdown",
   "id": "7451230b-9059-44f2-abdc-c78266f3d3e5",
   "metadata": {},
   "source": [
    "さてここからが主成分分析の導入になります。カメラは16個のRGBの組を得ましたが、RGBを別々の変数に収めます。ch_はチャンネルの意味でつけました。一般的なリモートセンシングの世界では、それぞれのチャンネルがそれぞれのセンサーに対応します。"
   ]
  },
  {
   "cell_type": "code",
   "execution_count": 3,
   "id": "b152d33e-297b-4bde-8b26-9ee0d9f89530",
   "metadata": {},
   "outputs": [],
   "source": [
    "ch_r = np.array([0.2,0.2,0.4,0.2,0.2,0.3,0.3,0.2,0.3,0.3,0.2,0.1,0.2,0.2,0.2,0.2])\n",
    "ch_g = np.array([0.6,0.7,0.5,0.5,0.5,0.5,0.5,0.7,0.4,0.4,0.4,0.7,0.6,0.6,0.7,0.7])\n",
    "ch_b = np.array([0.2,0.1,0.1,0.3,0.3,0.2,0.2,0.1,0.3,0.3,0.4,0.2,0.2,0.2,0.1,0.1])"
   ]
  },
  {
   "cell_type": "markdown",
   "id": "e72f6dac-8a18-4e32-9819-35e5d616a7c9",
   "metadata": {},
   "source": [
    "各チャンネルデータを表示するにあたって、上の画像と同じ形に見えるように、4行4列の行列にします。"
   ]
  },
  {
   "cell_type": "code",
   "execution_count": 4,
   "id": "a4e9cb2f-6788-4788-972b-2710d1d734f5",
   "metadata": {},
   "outputs": [],
   "source": [
    "map_r = np.reshape(ch_r,[4,4])\n",
    "map_g = np.reshape(ch_g,[4,4])\n",
    "map_b = np.reshape(ch_b,[4,4])"
   ]
  },
  {
   "cell_type": "code",
   "execution_count": 5,
   "id": "d8e3a646-b126-40d6-9cf0-cc26aa3b497a",
   "metadata": {},
   "outputs": [
    {
     "data": {
      "text/plain": [
       "array([[0.2, 0.2, 0.4, 0.2],\n",
       "       [0.2, 0.3, 0.3, 0.2],\n",
       "       [0.3, 0.3, 0.2, 0.1],\n",
       "       [0.2, 0.2, 0.2, 0.2]])"
      ]
     },
     "execution_count": 5,
     "metadata": {},
     "output_type": "execute_result"
    }
   ],
   "source": [
    "map_r"
   ]
  },
  {
   "cell_type": "code",
   "execution_count": 6,
   "id": "26e88cfd-8b56-4895-a125-189a06c0ed43",
   "metadata": {},
   "outputs": [
    {
     "data": {
      "text/plain": [
       "array([[0.6, 0.7, 0.5, 0.5],\n",
       "       [0.5, 0.5, 0.5, 0.7],\n",
       "       [0.4, 0.4, 0.4, 0.7],\n",
       "       [0.6, 0.6, 0.7, 0.7]])"
      ]
     },
     "execution_count": 6,
     "metadata": {},
     "output_type": "execute_result"
    }
   ],
   "source": [
    "map_g"
   ]
  },
  {
   "cell_type": "code",
   "execution_count": 7,
   "id": "429c66ef-7f0b-4afe-9ffd-d62e5f861a23",
   "metadata": {},
   "outputs": [
    {
     "data": {
      "text/plain": [
       "array([[0.2, 0.1, 0.1, 0.3],\n",
       "       [0.3, 0.2, 0.2, 0.1],\n",
       "       [0.3, 0.3, 0.4, 0.2],\n",
       "       [0.2, 0.2, 0.1, 0.1]])"
      ]
     },
     "execution_count": 7,
     "metadata": {},
     "output_type": "execute_result"
    }
   ],
   "source": [
    "map_b"
   ]
  },
  {
   "cell_type": "markdown",
   "id": "a19bedd8-623f-41c1-952a-360e0cae55fa",
   "metadata": {},
   "source": [
    "次の行は検算用です。"
   ]
  },
  {
   "cell_type": "code",
   "execution_count": 8,
   "id": "75602910-947e-436c-8b54-3ff2a95de841",
   "metadata": {},
   "outputs": [
    {
     "data": {
      "text/plain": [
       "array([1., 1., 1., 1., 1., 1., 1., 1., 1., 1., 1., 1., 1., 1., 1., 1.])"
      ]
     },
     "execution_count": 8,
     "metadata": {},
     "output_type": "execute_result"
    }
   ],
   "source": [
    "np.sum([ch_r + ch_g + ch_b], axis=0)"
   ]
  },
  {
   "cell_type": "markdown",
   "id": "4fe3a1fb-4c3a-4c62-8bef-466299a78aa0",
   "metadata": {},
   "source": [
    "チャンネルごとに表示しますと、最初に見たのっぺりとした感じではなく、ヴァリエーションがあることがわかります。  \n",
    "しかし、どのチャンネルも、単独では、隠された物体を再現するだけの情報がありません。"
   ]
  },
  {
   "cell_type": "code",
   "execution_count": 9,
   "id": "3a0fa4dd-7f61-42e6-9f1f-1a97c3aa16e5",
   "metadata": {},
   "outputs": [
    {
     "data": {
      "text/plain": [
       "<AxesSubplot:>"
      ]
     },
     "execution_count": 9,
     "metadata": {},
     "output_type": "execute_result"
    },
    {
     "data": {
      "image/png": "[encoded data removed]",
      "text/plain": [
       "<Figure size 432x288 with 2 Axes>"
      ]
     },
     "metadata": {
      "needs_background": "light"
     },
     "output_type": "display_data"
    }
   ],
   "source": [
    "sns.heatmap(map_r)"
   ]
  },
  {
   "cell_type": "code",
   "execution_count": 10,
   "id": "06b92858-e4f2-48f0-8bde-41cabf282ce3",
   "metadata": {},
   "outputs": [
    {
     "data": {
      "text/plain": [
       "<AxesSubplot:>"
      ]
     },
     "execution_count": 10,
     "metadata": {},
     "output_type": "execute_result"
    },
    {
     "data": {
      "image/png": "[encoded data removed]",
      "text/plain": [
       "<Figure size 432x288 with 2 Axes>"
      ]
     },
     "metadata": {
      "needs_background": "light"
     },
     "output_type": "display_data"
    }
   ],
   "source": [
    "sns.heatmap(map_g)"
   ]
  },
  {
   "cell_type": "code",
   "execution_count": 11,
   "id": "8b126cc1-cfec-4929-8784-d7fa1706d4ac",
   "metadata": {},
   "outputs": [
    {
     "data": {
      "text/plain": [
       "<AxesSubplot:>"
      ]
     },
     "execution_count": 11,
     "metadata": {},
     "output_type": "execute_result"
    },
    {
     "data": {
      "image/png": "[encoded data removed]",
      "text/plain": [
       "<Figure size 432x288 with 2 Axes>"
      ]
     },
     "metadata": {
      "needs_background": "light"
     },
     "output_type": "display_data"
    }
   ],
   "source": [
    "sns.heatmap(map_b)"
   ]
  },
  {
   "cell_type": "markdown",
   "id": "9fc0582a-1a80-4136-9155-780298b6e6e3",
   "metadata": {},
   "source": [
    "#### チャンネルの統合（ミックス）"
   ]
  },
  {
   "cell_type": "markdown",
   "id": "d2ab782c-b38a-4e9f-acc5-56da94610582",
   "metadata": {},
   "source": [
    "そこで、各チャンネルの値をひとつにミックスすることを試みます。つまり、それぞれ何倍かして足す、つまり線形変換を、行いました。試行錯誤の末、つぎのように変換すると、隠してある物体の形が浮き上がりました。"
   ]
  },
  {
   "cell_type": "markdown",
   "id": "7af22642-2918-4b54-88f2-b30a61d3a432",
   "metadata": {},
   "source": [
    "$$\\boldsymbol{Y} = \\left[\\begin{array}{c}1 \\; -1  \\; -2  \\end{array}\\right] \\left[\\begin{array}{c} R\\\\ G\\\\ B\\end{array}\\right] = \\boldsymbol{R} - \\boldsymbol{G} - 2\\boldsymbol{B}$$"
   ]
  },
  {
   "cell_type": "code",
   "execution_count": 12,
   "id": "fed1dc37-14a8-4e2f-9f5c-f9cb5fe74718",
   "metadata": {},
   "outputs": [
    {
     "data": {
      "text/plain": [
       "<AxesSubplot:>"
      ]
     },
     "execution_count": 12,
     "metadata": {},
     "output_type": "execute_result"
    },
    {
     "data": {
      "image/png": "[encoded data removed]",
      "text/plain": [
       "<Figure size 432x288 with 2 Axes>"
      ]
     },
     "metadata": {
      "needs_background": "light"
     },
     "output_type": "display_data"
    }
   ],
   "source": [
    "sns.heatmap(map_r - map_b - 2*map_g)"
   ]
  },
  {
   "cell_type": "markdown",
   "id": "3ea4b87f-7c36-4709-b18a-55f035ff6a09",
   "metadata": {},
   "source": [
    "これの問題点は、まず、試行錯誤に時間がかかるということですが、そもそも答えを知っているからできることだということです。つまり、答え（どんな形の物体が隠れているか）を知らなければお手上げです。"
   ]
  },
  {
   "cell_type": "markdown",
   "id": "782434f7-6c8a-4932-9b41-0360873cfb91",
   "metadata": {},
   "source": [
    "RGBのもとの値を変換するベクトル$\\left[\\begin{array}{c}1 \\; -1 \\; -2\\end{array}\\right]$に相当するものを自動的に見つける必要があります。"
   ]
  },
  {
   "cell_type": "markdown",
   "id": "154673f6-ab33-4d95-bf82-c5663ad6e107",
   "metadata": {},
   "source": [
    "#### pcaを用いた主成分分析（PCA）"
   ]
  },
  {
   "cell_type": "markdown",
   "id": "722e4c44-511f-4db7-a452-10e76e8b7cea",
   "metadata": {},
   "source": [
    "主成分分析（Principal Component Analysis, PCA）でこの問題に取り組みましょう。"
   ]
  },
  {
   "cell_type": "markdown",
   "id": "9abee086-10fa-4e80-b421-436e6aacd793",
   "metadata": {},
   "source": [
    "PCAを行うPythonのモジュールはいろいろありますが、今回はpca (URLは次のセルに示します)を用います。pipによるPCAのインストールについてはこの資料の下の方で紹介しています。この演習の時間内では、実行していただく時間がないので、後で各自実行してください。"
   ]
  },
  {
   "cell_type": "markdown",
   "id": "8d334006-febc-4198-ae4d-2de2517eb22a",
   "metadata": {},
   "source": [
    "https://erdogant.github.io/pca/pages/html/index.html"
   ]
  },
  {
   "cell_type": "code",
   "execution_count": 13,
   "id": "cbf03765-d854-4e55-8cb7-e0a83f0eedc1",
   "metadata": {},
   "outputs": [],
   "source": [
    "from pca import pca"
   ]
  },
  {
   "cell_type": "markdown",
   "id": "a70b57e0-ec26-46e7-9ae5-9b8141d7c867",
   "metadata": {},
   "source": [
    "RGBのチャンネルデータをPandasのデータフレームにします。"
   ]
  },
  {
   "cell_type": "code",
   "execution_count": 14,
   "id": "ccdc18fd-d97c-48c1-8c2c-8cf14792c49b",
   "metadata": {},
   "outputs": [],
   "source": [
    "df_sensor = pd.DataFrame({'Ch_R':ch_r, 'CH_G':ch_g, 'CH_B':ch_b})"
   ]
  },
  {
   "cell_type": "markdown",
   "id": "557e1270-2ac4-4735-aebe-8aecf5c1a650",
   "metadata": {},
   "source": [
    "これらの変数どうしの相関を調べます。まずこれらの変数の共分散行列を求めます。Pandasデータフレームのcov()メソッドを使います。"
   ]
  },
  {
   "cell_type": "code",
   "execution_count": 15,
   "id": "f1e8b1f4-1cc8-4546-9256-c78dd4fd0f0e",
   "metadata": {},
   "outputs": [
    {
     "data": {
      "text/html": [
       "<div>\n",
       "<style scoped>\n",
       "    .dataframe tbody tr th:only-of-type {\n",
       "        vertical-align: middle;\n",
       "    }\n",
       "\n",
       "    .dataframe tbody tr th {\n",
       "        vertical-align: top;\n",
       "    }\n",
       "\n",
       "    .dataframe thead th {\n",
       "        text-align: right;\n",
       "    }\n",
       "</style>\n",
       "<table border=\"1\" class=\"dataframe\">\n",
       "  <thead>\n",
       "    <tr style=\"text-align: right;\">\n",
       "      <th></th>\n",
       "      <th>Ch_R</th>\n",
       "      <th>CH_G</th>\n",
       "      <th>CH_B</th>\n",
       "    </tr>\n",
       "  </thead>\n",
       "  <tbody>\n",
       "    <tr>\n",
       "      <th>Ch_R</th>\n",
       "      <td>0.004958</td>\n",
       "      <td>-0.004750</td>\n",
       "      <td>-0.000208</td>\n",
       "    </tr>\n",
       "    <tr>\n",
       "      <th>CH_G</th>\n",
       "      <td>-0.004750</td>\n",
       "      <td>0.013167</td>\n",
       "      <td>-0.008417</td>\n",
       "    </tr>\n",
       "    <tr>\n",
       "      <th>CH_B</th>\n",
       "      <td>-0.000208</td>\n",
       "      <td>-0.008417</td>\n",
       "      <td>0.008625</td>\n",
       "    </tr>\n",
       "  </tbody>\n",
       "</table>\n",
       "</div>"
      ],
      "text/plain": [
       "          Ch_R      CH_G      CH_B\n",
       "Ch_R  0.004958 -0.004750 -0.000208\n",
       "CH_G -0.004750  0.013167 -0.008417\n",
       "CH_B -0.000208 -0.008417  0.008625"
      ]
     },
     "execution_count": 15,
     "metadata": {},
     "output_type": "execute_result"
    }
   ],
   "source": [
    "df_sensor.cov()"
   ]
  },
  {
   "cell_type": "markdown",
   "id": "fecce223-06ee-4ec4-bf71-adb1dd045939",
   "metadata": {},
   "source": [
    "相関係数は次のようになります。Pandasデータフレームのcorr()メソッドを使います。"
   ]
  },
  {
   "cell_type": "code",
   "execution_count": 18,
   "id": "ce7a339e-3895-4040-b388-e2d5a97285aa",
   "metadata": {},
   "outputs": [
    {
     "data": {
      "text/html": [
       "<div>\n",
       "<style scoped>\n",
       "    .dataframe tbody tr th:only-of-type {\n",
       "        vertical-align: middle;\n",
       "    }\n",
       "\n",
       "    .dataframe tbody tr th {\n",
       "        vertical-align: top;\n",
       "    }\n",
       "\n",
       "    .dataframe thead th {\n",
       "        text-align: right;\n",
       "    }\n",
       "</style>\n",
       "<table border=\"1\" class=\"dataframe\">\n",
       "  <thead>\n",
       "    <tr style=\"text-align: right;\">\n",
       "      <th></th>\n",
       "      <th>Ch_R</th>\n",
       "      <th>CH_G</th>\n",
       "      <th>CH_B</th>\n",
       "    </tr>\n",
       "  </thead>\n",
       "  <tbody>\n",
       "    <tr>\n",
       "      <th>Ch_R</th>\n",
       "      <td>1.000000</td>\n",
       "      <td>-0.587879</td>\n",
       "      <td>-0.031857</td>\n",
       "    </tr>\n",
       "    <tr>\n",
       "      <th>CH_G</th>\n",
       "      <td>-0.587879</td>\n",
       "      <td>1.000000</td>\n",
       "      <td>-0.789810</td>\n",
       "    </tr>\n",
       "    <tr>\n",
       "      <th>CH_B</th>\n",
       "      <td>-0.031857</td>\n",
       "      <td>-0.789810</td>\n",
       "      <td>1.000000</td>\n",
       "    </tr>\n",
       "  </tbody>\n",
       "</table>\n",
       "</div>"
      ],
      "text/plain": [
       "          Ch_R      CH_G      CH_B\n",
       "Ch_R  1.000000 -0.587879 -0.031857\n",
       "CH_G -0.587879  1.000000 -0.789810\n",
       "CH_B -0.031857 -0.789810  1.000000"
      ]
     },
     "execution_count": 18,
     "metadata": {},
     "output_type": "execute_result"
    }
   ],
   "source": [
    "df_sensor.corr()"
   ]
  },
  {
   "cell_type": "markdown",
   "id": "ab2bbd96-4f7c-4703-a264-1c8c7b9b71d7",
   "metadata": {},
   "source": [
    "このように、RGBどうしに互いに負の相関がある（ただしRとBとの相関はたいへん弱い）ことがわかります。"
   ]
  },
  {
   "cell_type": "markdown",
   "id": "b5782f99-c971-49db-b2c0-cd027d6b01ce",
   "metadata": {},
   "source": [
    "ここから、プログラムpcaを用いたPCAの手順です。  \n",
    "次のような手順で行います。\n",
    "- データの標準化＝平均を引き、標準偏差で割ることで各変数のスケールを同じにする（今回はおこないません。ただし、平均を引くことは、プログラムpcaが勝手に行っていることがあとでわかります）\n",
    "- pca()コマンドによるモデルの初期化\n",
    "- モデルに対するfit_transform()メソッドの実行。ここで、データフレームを与えます。\n",
    "- 結果の表示、結果の構成要素の取り出し。"
   ]
  },
  {
   "cell_type": "markdown",
   "id": "9ccb6761-3e9b-4d37-abe7-fc1618de7b5c",
   "metadata": {},
   "source": [
    "次の２つのセルは、モデルの初期化とfit_transform()メソッドの実行です。"
   ]
  },
  {
   "cell_type": "markdown",
   "id": "41ba8841-73bc-4d53-88f1-cae11b0ea0ad",
   "metadata": {},
   "source": [
    "モデルの初期化では、チャンネルの数は３個ですので主成分の数も３つにします。"
   ]
  },
  {
   "cell_type": "code",
   "execution_count": 18,
   "id": "34b73805-4b0a-4ce8-80bf-9a9db2f9f6eb",
   "metadata": {},
   "outputs": [],
   "source": [
    "model_02 = pca(n_components=3)"
   ]
  },
  {
   "cell_type": "code",
   "execution_count": 19,
   "id": "a907118d-b7b1-41c6-8a24-c5745abb9640",
   "metadata": {},
   "outputs": [
    {
     "name": "stdout",
     "output_type": "stream",
     "text": [
      "[pca] >Processing dataframe..\n",
      "[pca] >The PCA reduction is performed on the [3] columns of the input dataframe.\n",
      "[pca] >Fit using PCA.\n",
      "[pca] >Compute loadings and PCs.\n",
      "[pca] >Compute explained variance.\n",
      "[pca] >Outlier detection using Hotelling T2 test with alpha=[0.05] and n_components=[3]\n",
      "[pca] >Outlier detection using SPE/DmodX with n_std=[2]\n"
     ]
    }
   ],
   "source": [
    "result_02 = model_02.fit_transform(df_sensor)"
   ]
  },
  {
   "cell_type": "markdown",
   "id": "e2b00f33-40a7-4a9a-8983-13253b51b7ef",
   "metadata": {},
   "source": [
    "結果から、主成分ベクトル（'PC'）を取り出します。PC1, PC2, PC3がそれぞれ第１，第２，第３主成分です。"
   ]
  },
  {
   "cell_type": "markdown",
   "id": "e99b8af5-377d-4d41-af37-18ec54ae58b4",
   "metadata": {},
   "source": [
    "これらの値は、主成分分析によってもとのRGB値を変換した値です。見てわかるように、第３主成分はたいへん小さく、無視できそうなほどです。つまり、主成分分析によって、もとの３つの変数が２つに減らせたことになります。"
   ]
  },
  {
   "cell_type": "code",
   "execution_count": 20,
   "id": "4e83ae9b-0d79-47ab-9093-bd2b036b36ec",
   "metadata": {},
   "outputs": [
    {
     "data": {
      "text/html": [
       "<div>\n",
       "<style scoped>\n",
       "    .dataframe tbody tr th:only-of-type {\n",
       "        vertical-align: middle;\n",
       "    }\n",
       "\n",
       "    .dataframe tbody tr th {\n",
       "        vertical-align: top;\n",
       "    }\n",
       "\n",
       "    .dataframe thead th {\n",
       "        text-align: right;\n",
       "    }\n",
       "</style>\n",
       "<table border=\"1\" class=\"dataframe\">\n",
       "  <thead>\n",
       "    <tr style=\"text-align: right;\">\n",
       "      <th></th>\n",
       "      <th>PC1</th>\n",
       "      <th>PC2</th>\n",
       "      <th>PC3</th>\n",
       "    </tr>\n",
       "  </thead>\n",
       "  <tbody>\n",
       "    <tr>\n",
       "      <th>0</th>\n",
       "      <td>-0.040659</td>\n",
       "      <td>-0.027726</td>\n",
       "      <td>-7.978280e-19</td>\n",
       "    </tr>\n",
       "    <tr>\n",
       "      <th>1</th>\n",
       "      <td>-0.176072</td>\n",
       "      <td>0.013057</td>\n",
       "      <td>-2.716132e-17</td>\n",
       "    </tr>\n",
       "    <tr>\n",
       "      <th>2</th>\n",
       "      <td>0.029979</td>\n",
       "      <td>0.206817</td>\n",
       "      <td>5.942514e-19</td>\n",
       "    </tr>\n",
       "    <tr>\n",
       "      <th>3</th>\n",
       "      <td>0.094754</td>\n",
       "      <td>-0.068509</td>\n",
       "      <td>1.040834e-17</td>\n",
       "    </tr>\n",
       "    <tr>\n",
       "      <th>4</th>\n",
       "      <td>0.094754</td>\n",
       "      <td>-0.068509</td>\n",
       "      <td>1.040834e-17</td>\n",
       "    </tr>\n",
       "    <tr>\n",
       "      <th>5</th>\n",
       "      <td>0.062367</td>\n",
       "      <td>0.069154</td>\n",
       "      <td>-3.641472e-19</td>\n",
       "    </tr>\n",
       "    <tr>\n",
       "      <th>6</th>\n",
       "      <td>0.062367</td>\n",
       "      <td>0.069154</td>\n",
       "      <td>-3.641472e-19</td>\n",
       "    </tr>\n",
       "    <tr>\n",
       "      <th>7</th>\n",
       "      <td>-0.176072</td>\n",
       "      <td>0.013057</td>\n",
       "      <td>-2.716132e-17</td>\n",
       "    </tr>\n",
       "    <tr>\n",
       "      <th>8</th>\n",
       "      <td>0.197780</td>\n",
       "      <td>0.028371</td>\n",
       "      <td>1.040834e-17</td>\n",
       "    </tr>\n",
       "    <tr>\n",
       "      <th>9</th>\n",
       "      <td>0.197780</td>\n",
       "      <td>0.028371</td>\n",
       "      <td>1.040834e-17</td>\n",
       "    </tr>\n",
       "    <tr>\n",
       "      <th>10</th>\n",
       "      <td>0.230168</td>\n",
       "      <td>-0.109292</td>\n",
       "      <td>6.016910e-17</td>\n",
       "    </tr>\n",
       "    <tr>\n",
       "      <th>11</th>\n",
       "      <td>-0.143685</td>\n",
       "      <td>-0.124606</td>\n",
       "      <td>-2.204819e-17</td>\n",
       "    </tr>\n",
       "    <tr>\n",
       "      <th>12</th>\n",
       "      <td>-0.040659</td>\n",
       "      <td>-0.027726</td>\n",
       "      <td>-7.978280e-19</td>\n",
       "    </tr>\n",
       "    <tr>\n",
       "      <th>13</th>\n",
       "      <td>-0.040659</td>\n",
       "      <td>-0.027726</td>\n",
       "      <td>-7.978280e-19</td>\n",
       "    </tr>\n",
       "    <tr>\n",
       "      <th>14</th>\n",
       "      <td>-0.176072</td>\n",
       "      <td>0.013057</td>\n",
       "      <td>-2.716132e-17</td>\n",
       "    </tr>\n",
       "    <tr>\n",
       "      <th>15</th>\n",
       "      <td>-0.176072</td>\n",
       "      <td>0.013057</td>\n",
       "      <td>-2.716132e-17</td>\n",
       "    </tr>\n",
       "  </tbody>\n",
       "</table>\n",
       "</div>"
      ],
      "text/plain": [
       "         PC1       PC2           PC3\n",
       "0  -0.040659 -0.027726 -7.978280e-19\n",
       "1  -0.176072  0.013057 -2.716132e-17\n",
       "2   0.029979  0.206817  5.942514e-19\n",
       "3   0.094754 -0.068509  1.040834e-17\n",
       "4   0.094754 -0.068509  1.040834e-17\n",
       "5   0.062367  0.069154 -3.641472e-19\n",
       "6   0.062367  0.069154 -3.641472e-19\n",
       "7  -0.176072  0.013057 -2.716132e-17\n",
       "8   0.197780  0.028371  1.040834e-17\n",
       "9   0.197780  0.028371  1.040834e-17\n",
       "10  0.230168 -0.109292  6.016910e-17\n",
       "11 -0.143685 -0.124606 -2.204819e-17\n",
       "12 -0.040659 -0.027726 -7.978280e-19\n",
       "13 -0.040659 -0.027726 -7.978280e-19\n",
       "14 -0.176072  0.013057 -2.716132e-17\n",
       "15 -0.176072  0.013057 -2.716132e-17"
      ]
     },
     "execution_count": 20,
     "metadata": {},
     "output_type": "execute_result"
    }
   ],
   "source": [
    "result_02['PC']"
   ]
  },
  {
   "cell_type": "markdown",
   "id": "57218199-b570-4d8b-8240-1733de773d69",
   "metadata": {},
   "source": [
    "出力結果にはどれだけの項目があるのか、一覧を表示してみます。"
   ]
  },
  {
   "cell_type": "code",
   "execution_count": 21,
   "id": "5ec551a3-ced8-4ecc-8afa-269903a43019",
   "metadata": {},
   "outputs": [
    {
     "name": "stdout",
     "output_type": "stream",
     "text": [
      "{'loadings':          Ch_R      CH_G      CH_B\n",
      "PC1  0.235460 -0.794796  0.559336\n",
      "PC2  0.781809 -0.186990 -0.594819\n",
      "PC3  0.577350  0.577350  0.577350, 'PC':          PC1       PC2           PC3\n",
      "0  -0.040659 -0.027726 -7.978280e-19\n",
      "1  -0.176072  0.013057 -2.716132e-17\n",
      "2   0.029979  0.206817  5.942514e-19\n",
      "3   0.094754 -0.068509  1.040834e-17\n",
      "4   0.094754 -0.068509  1.040834e-17\n",
      "5   0.062367  0.069154 -3.641472e-19\n",
      "6   0.062367  0.069154 -3.641472e-19\n",
      "7  -0.176072  0.013057 -2.716132e-17\n",
      "8   0.197780  0.028371  1.040834e-17\n",
      "9   0.197780  0.028371  1.040834e-17\n",
      "10  0.230168 -0.109292  6.016910e-17\n",
      "11 -0.143685 -0.124606 -2.204819e-17\n",
      "12 -0.040659 -0.027726 -7.978280e-19\n",
      "13 -0.040659 -0.027726 -7.978280e-19\n",
      "14 -0.176072  0.013057 -2.716132e-17\n",
      "15 -0.176072  0.013057 -2.716132e-17, 'explained_var': array([0.76624581, 1.        , 1.        ]), 'variance_ratio': array([0.76624581, 0.23375419, 0.        ]), 'model': PCA(n_components=3), 'scaler': None, 'pcp': 1.0, 'topfeat':     PC feature   loading  type\n",
      "0  PC1    CH_G -0.794796  best\n",
      "1  PC2    Ch_R  0.781809  best\n",
      "2  PC3    CH_B  0.577350  best, 'outliers':      y_proba    y_score  y_bool  y_bool_spe  y_score_spe\n",
      "0   0.966707   1.385963   False       False     0.049213\n",
      "1   0.414987   6.073684   False       False     0.176556\n",
      "2   0.232367   8.079082   False        True     0.208978\n",
      "3   0.678233   3.988495   False       False     0.116927\n",
      "4   0.678233   3.988495   False       False     0.116927\n",
      "5   0.808181   3.005299   False       False     0.093123\n",
      "6   0.808181   3.005299   False       False     0.093123\n",
      "7   0.414987   6.073684   False       False     0.176556\n",
      "8   0.274031   7.536896   False       False     0.199805\n",
      "9   0.274031   7.536896   False       False     0.199805\n",
      "10  0.066625  11.798199   False        True     0.254798\n",
      "11  0.251812   7.817090   False       False     0.190189\n",
      "12  0.966707   1.385963   False       False     0.049213\n",
      "13  0.966707   1.385963   False       False     0.049213\n",
      "14  0.414987   6.073684   False       False     0.176556\n",
      "15  0.414987   6.073684   False       False     0.176556, 'outliers_params': {'paramT2': (2.8912057932946786e-18, 0.008359375000000002), 'paramSPE': (array([ 1.04083409e-17, -7.58941521e-18]), array([[2.04970754e-02, 2.21233223e-19],\n",
      "       [2.21233223e-19, 6.25292458e-03]]))}}\n"
     ]
    }
   ],
   "source": [
    "print(result_02)"
   ]
  },
  {
   "cell_type": "markdown",
   "id": "322dfa2c-9ebb-4c43-9186-bb046077a06a",
   "metadata": {},
   "source": [
    "これらの中で重要なものとして、'loadings'（因子負荷量）があります。第１～第３主成分をつくるために、RGBの値をどのようにミックスしたらよいかーどのように線形結合させたらよいかーを表します。"
   ]
  },
  {
   "cell_type": "code",
   "execution_count": 22,
   "id": "14172a86-466d-4106-b864-1e45586fb971",
   "metadata": {},
   "outputs": [
    {
     "data": {
      "text/html": [
       "<div>\n",
       "<style scoped>\n",
       "    .dataframe tbody tr th:only-of-type {\n",
       "        vertical-align: middle;\n",
       "    }\n",
       "\n",
       "    .dataframe tbody tr th {\n",
       "        vertical-align: top;\n",
       "    }\n",
       "\n",
       "    .dataframe thead th {\n",
       "        text-align: right;\n",
       "    }\n",
       "</style>\n",
       "<table border=\"1\" class=\"dataframe\">\n",
       "  <thead>\n",
       "    <tr style=\"text-align: right;\">\n",
       "      <th></th>\n",
       "      <th>Ch_R</th>\n",
       "      <th>CH_G</th>\n",
       "      <th>CH_B</th>\n",
       "    </tr>\n",
       "  </thead>\n",
       "  <tbody>\n",
       "    <tr>\n",
       "      <th>PC1</th>\n",
       "      <td>0.235460</td>\n",
       "      <td>-0.794796</td>\n",
       "      <td>0.559336</td>\n",
       "    </tr>\n",
       "    <tr>\n",
       "      <th>PC2</th>\n",
       "      <td>0.781809</td>\n",
       "      <td>-0.186990</td>\n",
       "      <td>-0.594819</td>\n",
       "    </tr>\n",
       "    <tr>\n",
       "      <th>PC3</th>\n",
       "      <td>0.577350</td>\n",
       "      <td>0.577350</td>\n",
       "      <td>0.577350</td>\n",
       "    </tr>\n",
       "  </tbody>\n",
       "</table>\n",
       "</div>"
      ],
      "text/plain": [
       "         Ch_R      CH_G      CH_B\n",
       "PC1  0.235460 -0.794796  0.559336\n",
       "PC2  0.781809 -0.186990 -0.594819\n",
       "PC3  0.577350  0.577350  0.577350"
      ]
     },
     "execution_count": 22,
     "metadata": {},
     "output_type": "execute_result"
    }
   ],
   "source": [
    "result_02['loadings']"
   ]
  },
  {
   "cell_type": "markdown",
   "id": "5a4de341-e72b-4122-9457-5b6d4af08309",
   "metadata": {},
   "source": [
    "また、第１，第２、第３主成分を順番に取り入れていくことで、もとのデータに含まれる分散のどれだけが表現できるかの指標（寄与率）は、'variance_ratio'の項目にあります。累積寄与率は'explained_var'の項目にあります。"
   ]
  },
  {
   "cell_type": "code",
   "execution_count": 23,
   "id": "6fad16eb-fa4b-44f0-b292-2d4076bc6e44",
   "metadata": {},
   "outputs": [
    {
     "data": {
      "text/plain": [
       "array([0.76624581, 0.23375419, 0.        ])"
      ]
     },
     "execution_count": 23,
     "metadata": {},
     "output_type": "execute_result"
    }
   ],
   "source": [
    "result_02['variance_ratio']"
   ]
  },
  {
   "cell_type": "markdown",
   "id": "e05c9bf2-9c86-47e5-95a2-8a58d2104dc7",
   "metadata": {},
   "source": [
    "つまり、第１主成分でもとのデータの76.6%の、第２主成分でもとのデータの23.3%の、分散が説明できるので、この２つでほとんどすべての分散を説明できることになります。"
   ]
  },
  {
   "cell_type": "markdown",
   "id": "40ad6787-9e0e-4964-b0b7-80b76113d56d",
   "metadata": {},
   "source": [
    "第１主成分の割合でRGB値をミックスした値を図示します。つまり、両者の内積、すなわち、RGB値のベクトルを第１主成分のベクトルの方向の軸上に射影したときの座標、です。図示には、Seabornのheatmap()関数を用います。"
   ]
  },
  {
   "cell_type": "code",
   "execution_count": 25,
   "id": "3bdce753-cca8-4049-9a77-6c0f5056957a",
   "metadata": {},
   "outputs": [
    {
     "data": {
      "text/plain": [
       "<AxesSubplot:>"
      ]
     },
     "execution_count": 25,
     "metadata": {},
     "output_type": "execute_result"
    },
    {
     "data": {
      "image/png": "[encoded data removed]",
      "text/plain": [
       "<Figure size 432x288 with 2 Axes>"
      ]
     },
     "metadata": {
      "needs_background": "light"
     },
     "output_type": "display_data"
    }
   ],
   "source": [
    "sns.heatmap(0.235*map_r - 0.795*map_g +0.559*map_b)"
   ]
  },
  {
   "cell_type": "markdown",
   "id": "51f437ff-60b8-4d3b-b663-8838a364bffb",
   "metadata": {},
   "source": [
    "上の式で計算した座標と、pcaによるPCAの結果得られた第一主成分軸の値とは同じでしょうか？次で示すように、result_02['PC']['PC1']で各データを変換した結果の、第一主成分軸のデータフレームが得られ、その.values属性で値が得られます。それを4x4行列に変換して表示します。一見同じですがスケールが違います。"
   ]
  },
  {
   "cell_type": "code",
   "execution_count": 48,
   "id": "69690025-a06b-449e-8806-df598f1aa653",
   "metadata": {},
   "outputs": [
    {
     "data": {
      "text/plain": [
       "<AxesSubplot:>"
      ]
     },
     "execution_count": 48,
     "metadata": {},
     "output_type": "execute_result"
    },
    {
     "data": {
      "image/png": "[encoded data removed]",
      "text/plain": [
       "<Figure size 432x288 with 2 Axes>"
      ]
     },
     "metadata": {
      "needs_background": "light"
     },
     "output_type": "display_data"
    }
   ],
   "source": [
    "sns.heatmap(np.reshape(result_02['PC']['PC1'].values,[4,4]))"
   ]
  },
  {
   "cell_type": "markdown",
   "id": "62fab00f-a96f-44ee-b079-9a20598fd047",
   "metadata": {},
   "source": [
    "これは、平均をひいた値をかけているためだと思われます。実際、次の２つは同じ結果となります。"
   ]
  },
  {
   "cell_type": "markdown",
   "id": "db00ad5a-7ef0-44a2-bf31-1b7e43ed0ae0",
   "metadata": {},
   "source": [
    "まず、pcrの出力から、第１主成分軸の座標を取り出します。"
   ]
  },
  {
   "cell_type": "code",
   "execution_count": 79,
   "id": "6eda41c4-15d0-4043-a058-01b362a3c6ca",
   "metadata": {},
   "outputs": [
    {
     "data": {
      "text/plain": [
       "array([-0.04065885, -0.17607213,  0.0299792 ,  0.09475443,  0.09475443,\n",
       "        0.06236681,  0.06236681, -0.17607213,  0.19778009,  0.19778009,\n",
       "        0.2301677 , -0.14368451, -0.04065885, -0.04065885, -0.17607213,\n",
       "       -0.17607213])"
      ]
     },
     "execution_count": 79,
     "metadata": {},
     "output_type": "execute_result"
    }
   ],
   "source": [
    "result_02['PC']['PC1'].values"
   ]
  },
  {
   "cell_type": "markdown",
   "id": "083c1616-bc59-4b0a-b984-fb387d868867",
   "metadata": {},
   "source": [
    "それに対して、第１主成分を$\\boldsymbol{u_1}$、データを$\\boldsymbol{X}$、そのチャンネルごとの平均を$\\boldsymbol{M}$としたときの、$\\boldsymbol{u_1}^T (X - M)$は次のようになります。"
   ]
  },
  {
   "cell_type": "code",
   "execution_count": 81,
   "id": "6d3856d8-5bb5-4a0f-bb0d-e18f2dc55f02",
   "metadata": {},
   "outputs": [
    {
     "data": {
      "text/plain": [
       "array([-0.04065885, -0.17607213,  0.0299792 ,  0.09475443,  0.09475443,\n",
       "        0.06236681,  0.06236681, -0.17607213,  0.19778009,  0.19778009,\n",
       "        0.2301677 , -0.14368451, -0.04065885, -0.04065885, -0.17607213,\n",
       "       -0.17607213])"
      ]
     },
     "execution_count": 81,
     "metadata": {},
     "output_type": "execute_result"
    }
   ],
   "source": [
    "np.dot(result_02['loadings'].loc['PC1'].values,(df_sensor - df_sensor.mean(axis=0)).values.T)"
   ]
  },
  {
   "cell_type": "markdown",
   "id": "ef0a1ced-9d8d-41a1-9ff2-aeec1944487d",
   "metadata": {},
   "source": [
    "それらが一致するのがわかりました。"
   ]
  },
  {
   "cell_type": "markdown",
   "id": "73a85cd4-8812-466c-a448-9a8651f914e5",
   "metadata": {},
   "source": [
    "さて、第１主成分のときと同様に、第２主成分の割合でRGB値をミックスした値を図示します。"
   ]
  },
  {
   "cell_type": "code",
   "execution_count": 68,
   "id": "2004504c-958f-495f-a62a-cc9c7a63dbd0",
   "metadata": {},
   "outputs": [
    {
     "data": {
      "text/plain": [
       "<AxesSubplot:>"
      ]
     },
     "execution_count": 68,
     "metadata": {},
     "output_type": "execute_result"
    },
    {
     "data": {
      "image/png": "[encoded data removed]",
      "text/plain": [
       "<Figure size 432x288 with 2 Axes>"
      ]
     },
     "metadata": {
      "needs_background": "light"
     },
     "output_type": "display_data"
    }
   ],
   "source": [
    "sns.heatmap(0.782*map_r - 0.187*map_g  - 0.594*map_b)"
   ]
  },
  {
   "cell_type": "markdown",
   "id": "f43698d9-afaf-4c23-b973-a14753cb1630",
   "metadata": {},
   "source": [
    "これら２種類のミックス値を重ねます。つまり、各領域における２種類のミックス値の和を求めます。すると、試行錯誤してミックスの方法を見つけたときより大きなコントラストで、隠された物体の形が明らかになりました。"
   ]
  },
  {
   "cell_type": "code",
   "execution_count": 25,
   "id": "71bd30a3-6f02-4feb-bc7f-6fb223783534",
   "metadata": {},
   "outputs": [
    {
     "data": {
      "text/plain": [
       "<AxesSubplot:>"
      ]
     },
     "execution_count": 25,
     "metadata": {},
     "output_type": "execute_result"
    },
    {
     "data": {
      "image/png": "[encoded data removed]",
      "text/plain": [
       "<Figure size 432x288 with 2 Axes>"
      ]
     },
     "metadata": {
      "needs_background": "light"
     },
     "output_type": "display_data"
    }
   ],
   "source": [
    "sns.heatmap(1.02*map_r - 0.97*map_g -0.04*map_b)"
   ]
  },
  {
   "cell_type": "markdown",
   "id": "9adc0f2b-2a04-42ea-ac97-c4edded5b9ac",
   "metadata": {},
   "source": [
    "このように、主成分分析によって、異なる情報源からの情報を、それらに含まれる分散をできるだけたくさん引き出すような形で、統合することができます。"
   ]
  },
  {
   "cell_type": "markdown",
   "id": "1879cc19-7400-42b7-8cd2-8ccfa34a4943",
   "metadata": {},
   "source": []
  },
  {
   "cell_type": "markdown",
   "id": "9e4abc57-4de4-4ebd-8618-58cc2c98e9a1",
   "metadata": {},
   "source": [
    "### 練習問題"
   ]
  },
  {
   "cell_type": "markdown",
   "id": "5452f3ec-5242-4fd9-88fc-237efc1899f2",
   "metadata": {},
   "source": [
    "ごく簡単な例を示します。次のような体重と身長との関係があるとします。（David C. Lay \"Linear Algebra and its Applications. Addison-Wesley (2000)\"より）"
   ]
  },
  {
   "cell_type": "markdown",
   "id": "d62550aa-16ca-4348-991d-aec14d207266",
   "metadata": {},
   "source": [
    "|生徒|体重（lb.）|身長（in.）|\n",
    "|--|--|--|\n",
    "|#1|120|61|\n",
    "|#2|125|60|\n",
    "|#3|125|64|\n",
    "|#4|135|68|\n",
    "|#5|145|72|"
   ]
  },
  {
   "cell_type": "markdown",
   "id": "be759ec7-954d-4e19-a11b-4fed059aa4dd",
   "metadata": {},
   "source": [
    "まずはこのデータをプロットしてみます。最初にモジュールをインポートします。"
   ]
  },
  {
   "cell_type": "code",
   "execution_count": 29,
   "id": "e4e7c469-2f47-4f25-b85c-d181bbd138d2",
   "metadata": {},
   "outputs": [],
   "source": [
    "import numpy as np\n",
    "from scipy import stats\n",
    "import pandas as pd\n",
    "%matplotlib inline\n",
    "import matplotlib.pyplot as plt"
   ]
  },
  {
   "cell_type": "markdown",
   "id": "f1bf4ada-263a-43b0-bbad-d87b93c8513f",
   "metadata": {},
   "source": [
    "上の表のデータです。"
   ]
  },
  {
   "cell_type": "code",
   "execution_count": 30,
   "id": "9bfa86b2-549a-4262-ba8b-46f234eb7d35",
   "metadata": {},
   "outputs": [],
   "source": [
    "weight = np.array([120,125,125,135,145])\n",
    "height = np.array([61,60,64,68,72])"
   ]
  },
  {
   "cell_type": "markdown",
   "id": "bbc38883-7947-430b-8238-9eddde37e623",
   "metadata": {},
   "source": [
    "データフレームを作るための関数はpandas.DataFrame()で、引数は辞書型だということは前回説明しました。"
   ]
  },
  {
   "cell_type": "code",
   "execution_count": 31,
   "id": "584721e0-67ec-4a38-b4f0-f3d8155e3391",
   "metadata": {},
   "outputs": [
    {
     "data": {
      "text/html": [
       "<div>\n",
       "<style scoped>\n",
       "    .dataframe tbody tr th:only-of-type {\n",
       "        vertical-align: middle;\n",
       "    }\n",
       "\n",
       "    .dataframe tbody tr th {\n",
       "        vertical-align: top;\n",
       "    }\n",
       "\n",
       "    .dataframe thead th {\n",
       "        text-align: right;\n",
       "    }\n",
       "</style>\n",
       "<table border=\"1\" class=\"dataframe\">\n",
       "  <thead>\n",
       "    <tr style=\"text-align: right;\">\n",
       "      <th></th>\n",
       "      <th>Weight</th>\n",
       "      <th>Height</th>\n",
       "    </tr>\n",
       "  </thead>\n",
       "  <tbody>\n",
       "    <tr>\n",
       "      <th>0</th>\n",
       "      <td>120</td>\n",
       "      <td>61</td>\n",
       "    </tr>\n",
       "    <tr>\n",
       "      <th>1</th>\n",
       "      <td>125</td>\n",
       "      <td>60</td>\n",
       "    </tr>\n",
       "    <tr>\n",
       "      <th>2</th>\n",
       "      <td>125</td>\n",
       "      <td>64</td>\n",
       "    </tr>\n",
       "    <tr>\n",
       "      <th>3</th>\n",
       "      <td>135</td>\n",
       "      <td>68</td>\n",
       "    </tr>\n",
       "    <tr>\n",
       "      <th>4</th>\n",
       "      <td>145</td>\n",
       "      <td>72</td>\n",
       "    </tr>\n",
       "  </tbody>\n",
       "</table>\n",
       "</div>"
      ],
      "text/plain": [
       "   Weight  Height\n",
       "0     120      61\n",
       "1     125      60\n",
       "2     125      64\n",
       "3     135      68\n",
       "4     145      72"
      ]
     },
     "execution_count": 31,
     "metadata": {},
     "output_type": "execute_result"
    }
   ],
   "source": [
    "df_01 = pd.DataFrame({'Weight':weight,'Height':height})\n",
    "df_01"
   ]
  },
  {
   "cell_type": "markdown",
   "id": "34889582-dcbb-4782-b872-c4e4d85fedf1",
   "metadata": {},
   "source": [
    "データフレームのメソッドで散布図が描けます。この関係があるとき、主成分分析によって２つある変数を済ませることを目標とします。"
   ]
  },
  {
   "cell_type": "code",
   "execution_count": 32,
   "id": "e7c1c01d-f352-4020-aa8a-8a3ec7f3f719",
   "metadata": {},
   "outputs": [
    {
     "data": {
      "text/plain": [
       "<AxesSubplot:xlabel='Weight', ylabel='Height'>"
      ]
     },
     "execution_count": 32,
     "metadata": {},
     "output_type": "execute_result"
    },
    {
     "data": {
      "image/png": "[encoded data removed]",
      "text/plain": [
       "<Figure size 432x288 with 1 Axes>"
      ]
     },
     "metadata": {
      "needs_background": "light"
     },
     "output_type": "display_data"
    }
   ],
   "source": [
    "df_01.plot.scatter('Weight','Height')"
   ]
  },
  {
   "cell_type": "markdown",
   "id": "11f2de30-5494-4d44-b1d9-6f8e4dccacef",
   "metadata": {},
   "source": [
    "#### 主成分分析に使うデータの標準化"
   ]
  },
  {
   "cell_type": "markdown",
   "id": "1578169c-12bd-4c54-ac30-35ec5cbb6338",
   "metadata": {},
   "source": [
    "平均値を引いた値に変換します。できれば、標準化する（平均値を引き、標準偏差で割る）ことが望ましいとされています。"
   ]
  },
  {
   "cell_type": "markdown",
   "id": "c0468d61-68e6-406e-80b4-0e3e514d0e7d",
   "metadata": {},
   "source": [
    "平均値は次のとおりです。"
   ]
  },
  {
   "cell_type": "code",
   "execution_count": 33,
   "id": "68bd040e-1e9f-477c-93d0-c57991b6dea4",
   "metadata": {},
   "outputs": [
    {
     "data": {
      "text/plain": [
       "Weight    130.0\n",
       "Height     65.0\n",
       "dtype: float64"
      ]
     },
     "execution_count": 33,
     "metadata": {},
     "output_type": "execute_result"
    }
   ],
   "source": [
    "df_01_m = df_01.mean()\n",
    "df_01_m"
   ]
  },
  {
   "cell_type": "markdown",
   "id": "f3a77b61-ef3e-4a4a-9fbf-cce423b36681",
   "metadata": {},
   "source": [
    "データから平均値をひいたら次のようになります。Numpy配列の「ブロードキャスト」機能はデータフレームでも働きます。"
   ]
  },
  {
   "cell_type": "code",
   "execution_count": 35,
   "id": "1dc6186c-b5d3-4f98-b567-2251ad592dde",
   "metadata": {},
   "outputs": [
    {
     "data": {
      "text/html": [
       "<div>\n",
       "<style scoped>\n",
       "    .dataframe tbody tr th:only-of-type {\n",
       "        vertical-align: middle;\n",
       "    }\n",
       "\n",
       "    .dataframe tbody tr th {\n",
       "        vertical-align: top;\n",
       "    }\n",
       "\n",
       "    .dataframe thead th {\n",
       "        text-align: right;\n",
       "    }\n",
       "</style>\n",
       "<table border=\"1\" class=\"dataframe\">\n",
       "  <thead>\n",
       "    <tr style=\"text-align: right;\">\n",
       "      <th></th>\n",
       "      <th>Weight</th>\n",
       "      <th>Height</th>\n",
       "    </tr>\n",
       "  </thead>\n",
       "  <tbody>\n",
       "    <tr>\n",
       "      <th>0</th>\n",
       "      <td>-10.0</td>\n",
       "      <td>-4.0</td>\n",
       "    </tr>\n",
       "    <tr>\n",
       "      <th>1</th>\n",
       "      <td>-5.0</td>\n",
       "      <td>-5.0</td>\n",
       "    </tr>\n",
       "    <tr>\n",
       "      <th>2</th>\n",
       "      <td>-5.0</td>\n",
       "      <td>-1.0</td>\n",
       "    </tr>\n",
       "    <tr>\n",
       "      <th>3</th>\n",
       "      <td>5.0</td>\n",
       "      <td>3.0</td>\n",
       "    </tr>\n",
       "    <tr>\n",
       "      <th>4</th>\n",
       "      <td>15.0</td>\n",
       "      <td>7.0</td>\n",
       "    </tr>\n",
       "  </tbody>\n",
       "</table>\n",
       "</div>"
      ],
      "text/plain": [
       "   Weight  Height\n",
       "0   -10.0    -4.0\n",
       "1    -5.0    -5.0\n",
       "2    -5.0    -1.0\n",
       "3     5.0     3.0\n",
       "4    15.0     7.0"
      ]
     },
     "execution_count": 35,
     "metadata": {},
     "output_type": "execute_result"
    }
   ],
   "source": [
    "df_01_sub = df_01 - df_01_m\n",
    "df_01_sub"
   ]
  },
  {
   "cell_type": "markdown",
   "id": "03a3ea04-4e6f-41c4-9221-d31aa3450be9",
   "metadata": {},
   "source": [
    "#### 共分散行列の作成"
   ]
  },
  {
   "cell_type": "markdown",
   "id": "c8d1b211-e8eb-4b95-942e-42859b4cfd2c",
   "metadata": {},
   "source": [
    "データフレームのメソッドで共分散行列が得られます。ただし、$n$ではなく$n - 1$で割ったもの（不偏分散）です。"
   ]
  },
  {
   "cell_type": "code",
   "execution_count": 37,
   "id": "b26063fd-6582-447f-a705-0fcbe95d076a",
   "metadata": {},
   "outputs": [
    {
     "data": {
      "text/html": [
       "<div>\n",
       "<style scoped>\n",
       "    .dataframe tbody tr th:only-of-type {\n",
       "        vertical-align: middle;\n",
       "    }\n",
       "\n",
       "    .dataframe tbody tr th {\n",
       "        vertical-align: top;\n",
       "    }\n",
       "\n",
       "    .dataframe thead th {\n",
       "        text-align: right;\n",
       "    }\n",
       "</style>\n",
       "<table border=\"1\" class=\"dataframe\">\n",
       "  <thead>\n",
       "    <tr style=\"text-align: right;\">\n",
       "      <th></th>\n",
       "      <th>Weight</th>\n",
       "      <th>Height</th>\n",
       "    </tr>\n",
       "  </thead>\n",
       "  <tbody>\n",
       "    <tr>\n",
       "      <th>Weight</th>\n",
       "      <td>100.0</td>\n",
       "      <td>47.5</td>\n",
       "    </tr>\n",
       "    <tr>\n",
       "      <th>Height</th>\n",
       "      <td>47.5</td>\n",
       "      <td>25.0</td>\n",
       "    </tr>\n",
       "  </tbody>\n",
       "</table>\n",
       "</div>"
      ],
      "text/plain": [
       "        Weight  Height\n",
       "Weight   100.0    47.5\n",
       "Height    47.5    25.0"
      ]
     },
     "execution_count": 37,
     "metadata": {},
     "output_type": "execute_result"
    }
   ],
   "source": [
    "df_01_cov = df_01_sub.cov()\n",
    "df_01_cov"
   ]
  },
  {
   "cell_type": "markdown",
   "id": "d65d7eb6-6d68-4ded-adfc-e0379ced9655",
   "metadata": {},
   "source": [
    "#### 共分散行列の固有ベクトルと固有値"
   ]
  },
  {
   "cell_type": "markdown",
   "id": "1b0b631b-0625-4123-acba-942a3821a4ac",
   "metadata": {},
   "source": [
    "共分散行列の固有値が大きい順に、固有ベクトルを第１主成分、第２主成分、、、、とします。この場合、変数は２つですから、固有ベクトルは２つです。"
   ]
  },
  {
   "cell_type": "markdown",
   "id": "2e268e79-c487-4d0c-beeb-9a30089daffc",
   "metadata": {},
   "source": [
    "次の式で、eig_valには２つの固有値が入り、eig_vecの２つの列ベクトルが、順に、それぞれの固有値に対応する固有ベクトルです。"
   ]
  },
  {
   "cell_type": "code",
   "execution_count": 38,
   "id": "dd27dfd7-3bf2-413d-9897-349e72fa489f",
   "metadata": {},
   "outputs": [],
   "source": [
    "[eig_val,eig_vec] = np.linalg.eig(df_01_cov)"
   ]
  },
  {
   "cell_type": "code",
   "execution_count": 39,
   "id": "c1c47b18-3bf8-40ab-86fa-90326b1ab3e1",
   "metadata": {},
   "outputs": [
    {
     "data": {
      "text/plain": [
       "array([123.01859218,   1.98140782])"
      ]
     },
     "execution_count": 39,
     "metadata": {},
     "output_type": "execute_result"
    }
   ],
   "source": [
    "eig_val"
   ]
  },
  {
   "cell_type": "code",
   "execution_count": 40,
   "id": "4302789a-8433-474f-98c0-94b05500a151",
   "metadata": {},
   "outputs": [
    {
     "data": {
      "text/plain": [
       "array([[ 0.89990119, -0.43609386],\n",
       "       [ 0.43609386,  0.89990119]])"
      ]
     },
     "execution_count": 40,
     "metadata": {},
     "output_type": "execute_result"
    }
   ],
   "source": [
    "eig_vec"
   ]
  },
  {
   "cell_type": "markdown",
   "id": "3a6c6e8b-6e39-42ff-b65d-027e3eeeed6e",
   "metadata": {},
   "source": [
    "つまり、固有値$\\lambda_1 = 123.02$に対応する固有ベクトル$\\boldsymbol{u_1} = \\left[\\begin{array}{c}0.900\\\\ \\; 0.436 \\end{array}\\right]$で、固有値$\\lambda_2 = 1.98$（小さい！）に対応する固有ベクトル$\\boldsymbol{u_2} = \\left[\\begin{array}{c}-0.436\\\\ \\; 0.900 \\end{array}\\right]$です。対称行列の固有ベクトルですから、互いに直交します。"
   ]
  },
  {
   "cell_type": "markdown",
   "id": "53fa4aac-4d9e-498a-abd2-69bb37fe9ec0",
   "metadata": {},
   "source": [
    "#### データの変換（主成分軸上での座標の取得）"
   ]
  },
  {
   "cell_type": "markdown",
   "id": "9f7f1fe9-e24a-4ef8-bae0-322b8167dd97",
   "metadata": {},
   "source": [
    "$\\boldsymbol{u_1}^T\\left[\\begin{array}{c}Weight\\\\ Height\\end{array}\\right] = 0.9 \\times Weight + 0.436 \\times Height$で各データの第１主成分軸上での座標値が得られます。"
   ]
  },
  {
   "cell_type": "markdown",
   "id": "8fa39590-f0f8-4c74-8edd-8b0894df99d5",
   "metadata": {},
   "source": [
    "同様に、$\\boldsymbol{u_2}^T\\left[\\begin{array}{c}Weight\\\\ Height\\end{array}\\right] = -0.436 \\times Weight + 0.9 \\times Height$で各データの第２主成分軸上での座標値が得られます。"
   ]
  },
  {
   "cell_type": "code",
   "execution_count": 54,
   "id": "f8c6928b-8a9d-4021-abf4-f76f7c7f957a",
   "metadata": {},
   "outputs": [],
   "source": [
    "[c_1,c_2] = np.dot(eig_vec.T,[weight,height])"
   ]
  },
  {
   "cell_type": "markdown",
   "id": "55b6cf1f-ff57-4e97-9d71-26b851549d82",
   "metadata": {},
   "source": [
    "各座標の値です。"
   ]
  },
  {
   "cell_type": "code",
   "execution_count": 55,
   "id": "238f5be4-f93d-446d-96bb-8605c3561a5f",
   "metadata": {},
   "outputs": [
    {
     "data": {
      "text/plain": [
       "array([134.58986783, 138.6532799 , 140.39765534, 151.14104265,\n",
       "       161.88442995])"
      ]
     },
     "execution_count": 55,
     "metadata": {},
     "output_type": "execute_result"
    }
   ],
   "source": [
    "c_1"
   ]
  },
  {
   "cell_type": "code",
   "execution_count": 56,
   "id": "20d88390-4dc1-4e7b-82d8-f107bf3af34c",
   "metadata": {},
   "outputs": [
    {
     "data": {
      "text/plain": [
       "array([ 2.562709  , -0.51766149,  3.08194325,  2.32060939,  1.55927552])"
      ]
     },
     "execution_count": 56,
     "metadata": {},
     "output_type": "execute_result"
    }
   ],
   "source": [
    "c_2"
   ]
  },
  {
   "cell_type": "markdown",
   "id": "e343583a-7715-4946-8ec2-3d14d580cfed",
   "metadata": {},
   "source": [
    "#### 寄与率の計算"
   ]
  },
  {
   "cell_type": "markdown",
   "id": "c3f64921-b9de-4ceb-8d38-f3a5d1b04f84",
   "metadata": {},
   "source": [
    "変換されたデータの共分散行列を求めると、対角成分以外が0（一見0でないですが、誤差と考えられます）になりました。つまり、データの分散はすべてこれらの座標値に集約されました。また、対角成分が固有値になっているのがわかります。"
   ]
  },
  {
   "cell_type": "code",
   "execution_count": 58,
   "id": "aacb175d-1937-48ff-a75b-aca8e6901eb1",
   "metadata": {},
   "outputs": [
    {
     "data": {
      "text/plain": [
       "array([[1.23018592e+02, 1.58187873e-14],\n",
       "       [1.58187873e-14, 1.98140782e+00]])"
      ]
     },
     "execution_count": 58,
     "metadata": {},
     "output_type": "execute_result"
    }
   ],
   "source": [
    "np.cov(np.array([c_1,c_2]))"
   ]
  },
  {
   "cell_type": "markdown",
   "id": "ed340013-135c-430e-b3fe-ca43f3b2acc7",
   "metadata": {},
   "source": [
    "そして、次に示すように、第１主成分軸上での分散がデータの分散のほとんどを説明しています。"
   ]
  },
  {
   "cell_type": "code",
   "execution_count": 10,
   "id": "69e60d98-e285-40c8-8c19-dfe436e53b4e",
   "metadata": {},
   "outputs": [
    {
     "data": {
      "text/plain": [
       "0.9841487374764081"
      ]
     },
     "execution_count": 10,
     "metadata": {},
     "output_type": "execute_result"
    }
   ],
   "source": [
    "np.var(c_1)/(np.var(c_1) + np.var(c_2))"
   ]
  },
  {
   "cell_type": "code",
   "execution_count": 11,
   "id": "43da3bd6-0378-4d5d-945e-e6f364220798",
   "metadata": {},
   "outputs": [
    {
     "data": {
      "text/plain": [
       "0.9841487374764082"
      ]
     },
     "execution_count": 11,
     "metadata": {},
     "output_type": "execute_result"
    }
   ],
   "source": [
    "eig_val[0]/sum(eig_val)"
   ]
  },
  {
   "cell_type": "markdown",
   "id": "ee5c9498-0f9e-4029-8aa3-acdabe6ec8e1",
   "metadata": {},
   "source": [
    "#### 新しい座標での図示"
   ]
  },
  {
   "cell_type": "markdown",
   "id": "75e1233c-03f4-456d-8a39-c29ffc39269c",
   "metadata": {},
   "source": [
    "散布図でこれらの座標を図示すると、ほとんど、横軸（第１主成分軸）と平行に点が散らばっているのがわかります。縦軸とのスケールの違いに注意してください。"
   ]
  },
  {
   "cell_type": "code",
   "execution_count": 60,
   "id": "c8924986-44d1-49d2-b6bf-465e7d2f9050",
   "metadata": {},
   "outputs": [
    {
     "data": {
      "text/plain": [
       "<matplotlib.collections.PathCollection at 0x23134ae9d60>"
      ]
     },
     "execution_count": 60,
     "metadata": {},
     "output_type": "execute_result"
    },
    {
     "data": {
      "image/png": "[encoded data removed]",
      "text/plain": [
       "<Figure size 432x288 with 1 Axes>"
      ]
     },
     "metadata": {
      "needs_background": "light"
     },
     "output_type": "display_data"
    }
   ],
   "source": [
    "plt.scatter(c_1,c_2)"
   ]
  },
  {
   "cell_type": "markdown",
   "id": "d2312eda-4f31-4fff-a0dc-82bc33c35b52",
   "metadata": {},
   "source": [
    "#### pcaを使った解法"
   ]
  },
  {
   "cell_type": "markdown",
   "id": "febb06c6-d696-408c-a927-aca061b17c59",
   "metadata": {},
   "source": [
    "同じ問題をpcaを使って解いてみましょう。まず、pcaをインストールします。"
   ]
  },
  {
   "cell_type": "code",
   "execution_count": 29,
   "id": "9749bc94-e375-4ee8-824b-2a9d14b41c24",
   "metadata": {},
   "outputs": [
    {
     "name": "stdout",
     "output_type": "stream",
     "text": [
      "Note: you may need to restart the kernel to use updated packages.Collecting pca\n",
      "  Downloading pca-1.8.2-py3-none-any.whl (26 kB)\n",
      "Requirement already satisfied: scipy in e:\\pythonusb\\pythonusb\\python\\python-3.9.9\\lib\\site-packages (from pca) (1.7.3)\n",
      "Collecting tqdm\n",
      "\n",
      "  Downloading tqdm-4.64.0-py2.py3-none-any.whl (78 kB)"
     ]
    },
    {
     "name": "stderr",
     "output_type": "stream",
     "text": [
      "WARNING: You are using pip version 22.0.4; however, version 22.1.2 is available.\n",
      "You should consider upgrading via the 'E:\\PythonUSB\\PythonUSB\\Python\\python-3.9.9\\pythonw.exe -m pip install --upgrade pip' command.\n"
     ]
    },
    {
     "name": "stdout",
     "output_type": "stream",
     "text": [
      "\n",
      "     ---------------------------------------- 78.4/78.4 KB 4.5 MB/s eta 0:00:00\n",
      "Requirement already satisfied: pandas in e:\\pythonusb\\pythonusb\\python\\python-3.9.9\\lib\\site-packages (from pca) (1.4.2)\n",
      "Collecting wget\n",
      "  Downloading wget-3.2.zip (10 kB)\n",
      "  Preparing metadata (setup.py): started\n",
      "  Preparing metadata (setup.py): still running...\n",
      "  Preparing metadata (setup.py): finished with status 'done'\n",
      "Collecting scatterd\n",
      "  Downloading scatterd-1.1.1-py3-none-any.whl (8.6 kB)\n",
      "Requirement already satisfied: numpy in e:\\pythonusb\\pythonusb\\python\\python-3.9.9\\lib\\site-packages (from pca) (1.21.4)\n",
      "Collecting colourmap\n",
      "  Downloading colourmap-1.1.4-py3-none-any.whl (7.0 kB)\n",
      "Requirement already satisfied: matplotlib in e:\\pythonusb\\pythonusb\\python\\python-3.9.9\\lib\\site-packages (from pca) (3.5.0)\n",
      "Collecting sklearn\n",
      "  Downloading sklearn-0.0.tar.gz (1.1 kB)\n",
      "  Preparing metadata (setup.py): started\n",
      "  Preparing metadata (setup.py): finished with status 'done'\n",
      "Requirement already satisfied: kiwisolver>=1.0.1 in e:\\pythonusb\\pythonusb\\python\\python-3.9.9\\lib\\site-packages (from matplotlib->pca) (1.3.2)\n",
      "Requirement already satisfied: packaging>=20.0 in e:\\pythonusb\\pythonusb\\python\\python-3.9.9\\lib\\site-packages (from matplotlib->pca) (21.3)\n",
      "Requirement already satisfied: setuptools-scm>=4 in e:\\pythonusb\\pythonusb\\python\\python-3.9.9\\lib\\site-packages (from matplotlib->pca) (6.4.2)\n",
      "Requirement already satisfied: pyparsing>=2.2.1 in e:\\pythonusb\\pythonusb\\python\\python-3.9.9\\lib\\site-packages (from matplotlib->pca) (3.0.6)\n",
      "Requirement already satisfied: fonttools>=4.22.0 in e:\\pythonusb\\pythonusb\\python\\python-3.9.9\\lib\\site-packages (from matplotlib->pca) (4.28.2)\n",
      "Requirement already satisfied: cycler>=0.10 in e:\\pythonusb\\pythonusb\\python\\python-3.9.9\\lib\\site-packages (from matplotlib->pca) (0.11.0)\n",
      "Requirement already satisfied: python-dateutil>=2.7 in e:\\pythonusb\\pythonusb\\python\\python-3.9.9\\lib\\site-packages (from matplotlib->pca) (2.8.2)\n",
      "Requirement already satisfied: pillow>=6.2.0 in e:\\pythonusb\\pythonusb\\python\\python-3.9.9\\lib\\site-packages (from matplotlib->pca) (8.4.0)\n",
      "Requirement already satisfied: pytz>=2020.1 in e:\\pythonusb\\pythonusb\\python\\python-3.9.9\\lib\\site-packages (from pandas->pca) (2021.3)\n",
      "Requirement already satisfied: seaborn in e:\\pythonusb\\pythonusb\\python\\python-3.9.9\\lib\\site-packages (from scatterd->pca) (0.11.2)\n",
      "Requirement already satisfied: scikit-learn in e:\\pythonusb\\pythonusb\\python\\python-3.9.9\\lib\\site-packages (from sklearn->pca) (1.1.1)\n",
      "Requirement already satisfied: colorama in e:\\pythonusb\\pythonusb\\python\\python-3.9.9\\lib\\site-packages (from tqdm->pca) (0.4.4)\n",
      "Requirement already satisfied: six>=1.5 in e:\\pythonusb\\pythonusb\\python\\python-3.9.9\\lib\\site-packages (from python-dateutil>=2.7->matplotlib->pca) (1.16.0)\n",
      "Requirement already satisfied: setuptools in e:\\pythonusb\\pythonusb\\python\\python-3.9.9\\lib\\site-packages (from setuptools-scm>=4->matplotlib->pca) (59.2.0)\n",
      "Requirement already satisfied: tomli>=1.0.0 in e:\\pythonusb\\pythonusb\\python\\python-3.9.9\\lib\\site-packages (from setuptools-scm>=4->matplotlib->pca) (1.2.2)\n",
      "Requirement already satisfied: threadpoolctl>=2.0.0 in e:\\pythonusb\\pythonusb\\python\\python-3.9.9\\lib\\site-packages (from scikit-learn->sklearn->pca) (3.1.0)\n",
      "Requirement already satisfied: joblib>=1.0.0 in e:\\pythonusb\\pythonusb\\python\\python-3.9.9\\lib\\site-packages (from scikit-learn->sklearn->pca) (1.1.0)\n",
      "Building wheels for collected packages: sklearn, wget\n",
      "  Building wheel for sklearn (setup.py): started\n",
      "  Building wheel for sklearn (setup.py): finished with status 'done'\n",
      "  Created wheel for sklearn: filename=sklearn-0.0-py2.py3-none-any.whl size=1309 sha256=8324433f422ba25c36874fb05be5b705dc154b22c3fff909d824f6ab6c37b512\n",
      "  Stored in directory: c:\\users\\hishiki\\appdata\\local\\pip\\cache\\wheels\\e4\\7b\\98\\b6466d71b8d738a0c547008b9eb39bf8676d1ff6ca4b22af1c\n",
      "  Building wheel for wget (setup.py): started\n",
      "  Building wheel for wget (setup.py): finished with status 'done'\n",
      "  Created wheel for wget: filename=wget-3.2-py3-none-any.whl size=9672 sha256=f800c9eb507e8cc930f7d4597673ee5c22e1fc5918eabdc2059a711319f8d00d\n",
      "  Stored in directory: c:\\users\\hishiki\\appdata\\local\\pip\\cache\\wheels\\04\\5f\\3e\\46cc37c5d698415694d83f607f833f83f0149e49b3af9d0f38\n",
      "Successfully built sklearn wget\n",
      "Installing collected packages: wget, tqdm, sklearn, colourmap, scatterd, pca\n",
      "Successfully installed colourmap-1.1.4 pca-1.8.2 scatterd-1.1.1 sklearn-0.0 tqdm-4.64.0 wget-3.2\n"
     ]
    }
   ],
   "source": [
    "pip install pca"
   ]
  },
  {
   "cell_type": "markdown",
   "id": "34a7271f-fbda-4bd3-9944-97e4c0b42e84",
   "metadata": {},
   "source": [
    "pcaをインポートします。"
   ]
  },
  {
   "cell_type": "code",
   "execution_count": 18,
   "id": "8872ba88-2aa3-43ad-aa13-40a46d44aabd",
   "metadata": {},
   "outputs": [],
   "source": [
    "from pca import pca "
   ]
  },
  {
   "cell_type": "markdown",
   "id": "745a6cae-84d4-431f-aa3f-a7bdf33fda20",
   "metadata": {},
   "source": [
    "最初の例と同様のステップで進めます。まずモデルの初期化をします。"
   ]
  },
  {
   "cell_type": "code",
   "execution_count": 61,
   "id": "1fa4706c-dfa5-4548-a4bb-ecce75bcba0c",
   "metadata": {},
   "outputs": [],
   "source": [
    "model_01 = pca(n_components=2)"
   ]
  },
  {
   "cell_type": "markdown",
   "id": "619ef290-8ba6-47e9-a440-7f62b990cbed",
   "metadata": {},
   "source": [
    "次にPCAを実施します。"
   ]
  },
  {
   "cell_type": "code",
   "execution_count": 109,
   "id": "2f35df3a-2f26-40ec-8de4-3e6067ae0eda",
   "metadata": {},
   "outputs": [
    {
     "name": "stdout",
     "output_type": "stream",
     "text": [
      "[pca] >Cleaning previous fitted model results..\n",
      "[pca] >Processing dataframe..\n",
      "[pca] >The PCA reduction is performed on the [2] columns of the input dataframe.\n",
      "[pca] >Fit using PCA.\n",
      "[pca] >Compute loadings and PCs.\n",
      "[pca] >Compute explained variance.\n",
      "[pca] >Outlier detection using Hotelling T2 test with alpha=[0.05] and n_components=[2]\n",
      "[pca] >Outlier detection using SPE/DmodX with n_std=[2]\n"
     ]
    }
   ],
   "source": [
    "result_01 = model_01.fit_transform(df_01)"
   ]
  },
  {
   "cell_type": "markdown",
   "id": "86e56362-f390-4d69-a110-7a1b944d151c",
   "metadata": {},
   "source": [
    "'loadings'の項目を見ると、PC1, PC2の因子負荷量がそれぞれ上の$\\boldsymbol{u_1}$、$\\boldsymbol{u_2}$に対応していることがわかります。"
   ]
  },
  {
   "cell_type": "code",
   "execution_count": 64,
   "id": "3712951a-6322-4e3e-a428-e9e9d5660925",
   "metadata": {},
   "outputs": [
    {
     "data": {
      "text/html": [
       "<div>\n",
       "<style scoped>\n",
       "    .dataframe tbody tr th:only-of-type {\n",
       "        vertical-align: middle;\n",
       "    }\n",
       "\n",
       "    .dataframe tbody tr th {\n",
       "        vertical-align: top;\n",
       "    }\n",
       "\n",
       "    .dataframe thead th {\n",
       "        text-align: right;\n",
       "    }\n",
       "</style>\n",
       "<table border=\"1\" class=\"dataframe\">\n",
       "  <thead>\n",
       "    <tr style=\"text-align: right;\">\n",
       "      <th></th>\n",
       "      <th>Weight</th>\n",
       "      <th>Height</th>\n",
       "    </tr>\n",
       "  </thead>\n",
       "  <tbody>\n",
       "    <tr>\n",
       "      <th>PC1</th>\n",
       "      <td>0.899901</td>\n",
       "      <td>0.436094</td>\n",
       "    </tr>\n",
       "    <tr>\n",
       "      <th>PC2</th>\n",
       "      <td>0.436094</td>\n",
       "      <td>-0.899901</td>\n",
       "    </tr>\n",
       "  </tbody>\n",
       "</table>\n",
       "</div>"
      ],
      "text/plain": [
       "       Weight    Height\n",
       "PC1  0.899901  0.436094\n",
       "PC2  0.436094 -0.899901"
      ]
     },
     "execution_count": 64,
     "metadata": {},
     "output_type": "execute_result"
    }
   ],
   "source": [
    "result_01['loadings']"
   ]
  },
  {
   "cell_type": "markdown",
   "id": "0d32ab28-bf09-4818-9c3b-07a8d84fc0fb",
   "metadata": {},
   "source": [
    "それぞれの累積寄与率"
   ]
  },
  {
   "cell_type": "code",
   "execution_count": 67,
   "id": "7137fd27-2af1-4d20-8b9c-b951717eaf75",
   "metadata": {},
   "outputs": [
    {
     "data": {
      "text/plain": [
       "array([0.98414874, 1.        ])"
      ]
     },
     "execution_count": 67,
     "metadata": {},
     "output_type": "execute_result"
    }
   ],
   "source": [
    "result_01['explained_var']"
   ]
  },
  {
   "cell_type": "markdown",
   "id": "e7918c24-fa90-45d7-a1ec-58de98adc526",
   "metadata": {},
   "source": [
    "result_01['variance_ratio']"
   ]
  },
  {
   "cell_type": "markdown",
   "id": "d11e9e73-f8a8-48e5-8082-224bd7a85695",
   "metadata": {},
   "source": [
    "新たな軸での座標は次のようになります。"
   ]
  },
  {
   "cell_type": "code",
   "execution_count": 90,
   "id": "5c92d632-29c8-44ee-bf5d-ded9a2fb4b89",
   "metadata": {},
   "outputs": [
    {
     "data": {
      "text/html": [
       "<div>\n",
       "<style scoped>\n",
       "    .dataframe tbody tr th:only-of-type {\n",
       "        vertical-align: middle;\n",
       "    }\n",
       "\n",
       "    .dataframe tbody tr th {\n",
       "        vertical-align: top;\n",
       "    }\n",
       "\n",
       "    .dataframe thead th {\n",
       "        text-align: right;\n",
       "    }\n",
       "</style>\n",
       "<table border=\"1\" class=\"dataframe\">\n",
       "  <thead>\n",
       "    <tr style=\"text-align: right;\">\n",
       "      <th></th>\n",
       "      <th>PC1</th>\n",
       "      <th>PC2</th>\n",
       "    </tr>\n",
       "  </thead>\n",
       "  <tbody>\n",
       "    <tr>\n",
       "      <th>0</th>\n",
       "      <td>-10.743387</td>\n",
       "      <td>-0.761334</td>\n",
       "    </tr>\n",
       "    <tr>\n",
       "      <th>1</th>\n",
       "      <td>-6.679975</td>\n",
       "      <td>2.319037</td>\n",
       "    </tr>\n",
       "    <tr>\n",
       "      <th>2</th>\n",
       "      <td>-4.935600</td>\n",
       "      <td>-1.280568</td>\n",
       "    </tr>\n",
       "    <tr>\n",
       "      <th>3</th>\n",
       "      <td>5.807788</td>\n",
       "      <td>-0.519234</td>\n",
       "    </tr>\n",
       "    <tr>\n",
       "      <th>4</th>\n",
       "      <td>16.551175</td>\n",
       "      <td>0.242100</td>\n",
       "    </tr>\n",
       "  </tbody>\n",
       "</table>\n",
       "</div>"
      ],
      "text/plain": [
       "         PC1       PC2\n",
       "0 -10.743387 -0.761334\n",
       "1  -6.679975  2.319037\n",
       "2  -4.935600 -1.280568\n",
       "3   5.807788 -0.519234\n",
       "4  16.551175  0.242100"
      ]
     },
     "execution_count": 90,
     "metadata": {},
     "output_type": "execute_result"
    }
   ],
   "source": [
    "result_01['PC']"
   ]
  },
  {
   "cell_type": "markdown",
   "id": "d1eeadf6-3a29-42bd-9862-9e1c9ef0e114",
   "metadata": {},
   "source": [
    "これらは、平均をひいた値に主成分ベクトルを係数としてかけた（つまり内積を計算した）値であることを確かめます。"
   ]
  },
  {
   "cell_type": "code",
   "execution_count": 98,
   "id": "90fb8be6-3bbb-4404-a2ab-5f1c2b738b14",
   "metadata": {},
   "outputs": [
    {
     "data": {
      "text/html": [
       "<div>\n",
       "<style scoped>\n",
       "    .dataframe tbody tr th:only-of-type {\n",
       "        vertical-align: middle;\n",
       "    }\n",
       "\n",
       "    .dataframe tbody tr th {\n",
       "        vertical-align: top;\n",
       "    }\n",
       "\n",
       "    .dataframe thead th {\n",
       "        text-align: right;\n",
       "    }\n",
       "</style>\n",
       "<table border=\"1\" class=\"dataframe\">\n",
       "  <thead>\n",
       "    <tr style=\"text-align: right;\">\n",
       "      <th></th>\n",
       "      <th>Weight</th>\n",
       "      <th>Height</th>\n",
       "    </tr>\n",
       "  </thead>\n",
       "  <tbody>\n",
       "    <tr>\n",
       "      <th>0</th>\n",
       "      <td>-10.0</td>\n",
       "      <td>-4.0</td>\n",
       "    </tr>\n",
       "    <tr>\n",
       "      <th>1</th>\n",
       "      <td>-5.0</td>\n",
       "      <td>-5.0</td>\n",
       "    </tr>\n",
       "    <tr>\n",
       "      <th>2</th>\n",
       "      <td>-5.0</td>\n",
       "      <td>-1.0</td>\n",
       "    </tr>\n",
       "    <tr>\n",
       "      <th>3</th>\n",
       "      <td>5.0</td>\n",
       "      <td>3.0</td>\n",
       "    </tr>\n",
       "    <tr>\n",
       "      <th>4</th>\n",
       "      <td>15.0</td>\n",
       "      <td>7.0</td>\n",
       "    </tr>\n",
       "  </tbody>\n",
       "</table>\n",
       "</div>"
      ],
      "text/plain": [
       "   Weight  Height\n",
       "0   -10.0    -4.0\n",
       "1    -5.0    -5.0\n",
       "2    -5.0    -1.0\n",
       "3     5.0     3.0\n",
       "4    15.0     7.0"
      ]
     },
     "execution_count": 98,
     "metadata": {},
     "output_type": "execute_result"
    }
   ],
   "source": [
    "df_01_sub # 平均をひいた値"
   ]
  },
  {
   "cell_type": "code",
   "execution_count": 97,
   "id": "baa668f4-5d69-420f-b45b-175cb9179eca",
   "metadata": {},
   "outputs": [
    {
     "data": {
      "text/plain": [
       "array([[-10.7433873 ,  -6.67997523,  -4.93559979,   5.80778751,\n",
       "         16.55117482],\n",
       "       [ -0.76133387,   2.31903662,  -1.28056812,  -0.51923425,\n",
       "          0.24209962]])"
      ]
     },
     "execution_count": 97,
     "metadata": {},
     "output_type": "execute_result"
    }
   ],
   "source": [
    "np.dot(result_01['loadings'].values,df_01_sub.values.T)"
   ]
  },
  {
   "cell_type": "markdown",
   "id": "cea79842-c790-47a8-a3d7-0e5552166302",
   "metadata": {},
   "source": [
    "それを認識した上で、新しい座標をプロットします。"
   ]
  },
  {
   "cell_type": "code",
   "execution_count": 99,
   "id": "54277316-ff30-4c87-9b69-7b5e37847b23",
   "metadata": {},
   "outputs": [
    {
     "name": "stdout",
     "output_type": "stream",
     "text": [
      "[pca] >Plot PC1 vs PC2 with loadings.\n"
     ]
    },
    {
     "data": {
      "image/png": "[encoded data removed]",
      "text/plain": [
       "<Figure size 1080x720 with 1 Axes>"
      ]
     },
     "metadata": {
      "needs_background": "light"
     },
     "output_type": "display_data"
    },
    {
     "data": {
      "text/plain": [
       "(<Figure size 1080x720 with 1 Axes>,\n",
       " <AxesSubplot:title={'center':'2 Principal Components explain [100.0%] of the variance'}, xlabel='PC1 (98.4% expl.var)', ylabel='PC2 (1.58% expl.var)'>)"
      ]
     },
     "execution_count": 99,
     "metadata": {},
     "output_type": "execute_result"
    }
   ],
   "source": [
    "model_01.biplot()"
   ]
  },
  {
   "cell_type": "markdown",
   "id": "e9eb3223-bec2-4e1a-aaab-5b05f2072211",
   "metadata": {},
   "source": [
    "ここには、各データが新しい座標でプロットされます。また、もとの軸WeightとHeightの相対的な位置が表示されます。"
   ]
  },
  {
   "cell_type": "markdown",
   "id": "8e02b093-f0b4-4e15-85ec-2cb9f094ad17",
   "metadata": {},
   "source": [
    "## 因子分析"
   ]
  },
  {
   "cell_type": "markdown",
   "id": "8dc1eb1e-3f48-40db-b1eb-9c591cab40ac",
   "metadata": {},
   "source": [
    "次のようなテストの点数を考えます。（金明哲　「Rによるデータサイエンス」（森北出版, ２００７年）より）"
   ]
  },
  {
   "cell_type": "markdown",
   "id": "692df4d0-3f97-43ad-aaa1-7c3ca8eb374d",
   "metadata": {},
   "source": [
    "|受験者|数学|理科|国語|英語|社会|\n",
    "|--|--|--|--|--|--|\n",
    "|A|89|90|67|46|50|\n",
    "|B|57|70|80|85|90|\n",
    "|C|80|90|35|40|50|\n",
    "|D|40|60|50|45|55|\n",
    "|E|78|85|45|55|60|\n",
    "|F|55|65|80|75|85|\n",
    "|G|90|85|88|92|95|"
   ]
  },
  {
   "cell_type": "code",
   "execution_count": 2,
   "id": "a583877c-92bd-45f5-9496-d0f22c489121",
   "metadata": {},
   "outputs": [],
   "source": [
    "import numpy as np\n",
    "import pandas as pd\n",
    "%matplotlib inline\n",
    "import matplotlib.pyplot as plt"
   ]
  },
  {
   "cell_type": "code",
   "execution_count": 3,
   "id": "22d1c4e8-3889-40cf-9187-1d80f5367183",
   "metadata": {},
   "outputs": [],
   "source": [
    "math = np.array([89,57,80,40,78,55,90])\n",
    "science = np.array([90,70,90,60,85,65,85])\n",
    "japanese = np.array([67,80,35,50,45,80,88])\n",
    "english = np.array([46,85,40,45,55,75,92])\n",
    "social = np.array([50,90,50,55,60,85,95])\n",
    "df_exam = pd.DataFrame({'Math':math, 'Science':science,'Japanese':japanese,'English':english,'Social':social})"
   ]
  },
  {
   "cell_type": "markdown",
   "id": "5ac26ad0-7d0e-434b-a66e-f297b57b932f",
   "metadata": {},
   "source": [
    "各科目の平均点は次のようになります。"
   ]
  },
  {
   "cell_type": "code",
   "execution_count": 9,
   "id": "c91957ed-f4e6-4d05-a16d-6b377e41455f",
   "metadata": {},
   "outputs": [
    {
     "data": {
      "text/plain": [
       "Math        69.857143\n",
       "Science     77.857143\n",
       "Japanese    63.571429\n",
       "English     62.571429\n",
       "Social      69.285714\n",
       "dtype: float64"
      ]
     },
     "execution_count": 9,
     "metadata": {},
     "output_type": "execute_result"
    }
   ],
   "source": [
    "df_exam_mean = df_exam.mean(axis=0)\n",
    "df_exam_mean"
   ]
  },
  {
   "cell_type": "markdown",
   "id": "b62b0d18-1836-4c49-98e6-b516bc000ec9",
   "metadata": {},
   "source": [
    "### 主成分分析からのアプローチ"
   ]
  },
  {
   "cell_type": "markdown",
   "id": "fc8393b8-4996-421c-898b-be88216ced64",
   "metadata": {},
   "source": [
    "主成分分析で分析してみましょう"
   ]
  },
  {
   "cell_type": "code",
   "execution_count": 4,
   "id": "95d61545-c50d-4ca1-8801-2dcbcc099cf3",
   "metadata": {},
   "outputs": [
    {
     "name": "stdout",
     "output_type": "stream",
     "text": [
      "[pca] >Processing dataframe..\n",
      "[pca] >The PCA reduction is performed to capture [95.0%] explained variance using the [5] columns of the input data.\n",
      "[pca] >Fit using PCA.\n",
      "[pca] >Compute loadings and PCs.\n",
      "[pca] >Compute explained variance.\n",
      "[pca] >Number of components is [2] that covers the [95.00%] explained variance.\n",
      "[pca] >The PCA reduction is performed on the [5] columns of the input dataframe.\n",
      "[pca] >Fit using PCA.\n",
      "[pca] >Compute loadings and PCs.\n",
      "[pca] >Outlier detection using Hotelling T2 test with alpha=[0.05] and n_components=[2]\n",
      "[pca] >Outlier detection using SPE/DmodX with n_std=[2]\n"
     ]
    }
   ],
   "source": [
    "from pca import pca\n",
    "model_03 = pca()\n",
    "result_03 = model_03.fit_transform(df_exam)"
   ]
  },
  {
   "cell_type": "markdown",
   "id": "6a3ea2e5-0e71-4ff6-836f-ec4ebf46c11c",
   "metadata": {},
   "source": [
    "主成分の数を指定しないと、95%の分散を説明するだけの主成分を出力します。このデータでは第２主成分まで出力しました。"
   ]
  },
  {
   "cell_type": "markdown",
   "id": "4359ad8b-b545-4b6b-af77-c194f5dd6e4f",
   "metadata": {},
   "source": [
    "第１主成分、第２主成分を軸とすると、新しい座標は次のとおりです。"
   ]
  },
  {
   "cell_type": "markdown",
   "id": "78904fc1-5ada-47a7-a5e0-856ee091423f",
   "metadata": {},
   "source": [
    "これらの値は、各人の得点ベクトルから、各教科の平均値を引いたあとで、それぞれ第１主成分、第２主成分のベクトルをかけた（内積をとった）ものであることは、前項と同様です。"
   ]
  },
  {
   "cell_type": "code",
   "execution_count": 7,
   "id": "50281d16-cbdc-4187-88da-5168f6fd8a77",
   "metadata": {},
   "outputs": [
    {
     "data": {
      "text/html": [
       "<div>\n",
       "<style scoped>\n",
       "    .dataframe tbody tr th:only-of-type {\n",
       "        vertical-align: middle;\n",
       "    }\n",
       "\n",
       "    .dataframe tbody tr th {\n",
       "        vertical-align: top;\n",
       "    }\n",
       "\n",
       "    .dataframe thead th {\n",
       "        text-align: right;\n",
       "    }\n",
       "</style>\n",
       "<table border=\"1\" class=\"dataframe\">\n",
       "  <thead>\n",
       "    <tr style=\"text-align: right;\">\n",
       "      <th></th>\n",
       "      <th>PC1</th>\n",
       "      <th>PC2</th>\n",
       "    </tr>\n",
       "  </thead>\n",
       "  <tbody>\n",
       "    <tr>\n",
       "      <th>0</th>\n",
       "      <td>-21.210977</td>\n",
       "      <td>-21.477155</td>\n",
       "    </tr>\n",
       "    <tr>\n",
       "      <th>1</th>\n",
       "      <td>35.714601</td>\n",
       "      <td>11.689593</td>\n",
       "    </tr>\n",
       "    <tr>\n",
       "      <th>2</th>\n",
       "      <td>-42.070444</td>\n",
       "      <td>-10.531628</td>\n",
       "    </tr>\n",
       "    <tr>\n",
       "      <th>3</th>\n",
       "      <td>-22.743706</td>\n",
       "      <td>37.148820</td>\n",
       "    </tr>\n",
       "    <tr>\n",
       "      <th>4</th>\n",
       "      <td>-21.222568</td>\n",
       "      <td>-8.363796</td>\n",
       "    </tr>\n",
       "    <tr>\n",
       "      <th>5</th>\n",
       "      <td>27.549782</td>\n",
       "      <td>16.816522</td>\n",
       "    </tr>\n",
       "    <tr>\n",
       "      <th>6</th>\n",
       "      <td>43.983311</td>\n",
       "      <td>-25.282356</td>\n",
       "    </tr>\n",
       "  </tbody>\n",
       "</table>\n",
       "</div>"
      ],
      "text/plain": [
       "         PC1        PC2\n",
       "0 -21.210977 -21.477155\n",
       "1  35.714601  11.689593\n",
       "2 -42.070444 -10.531628\n",
       "3 -22.743706  37.148820\n",
       "4 -21.222568  -8.363796\n",
       "5  27.549782  16.816522\n",
       "6  43.983311 -25.282356"
      ]
     },
     "execution_count": 7,
     "metadata": {},
     "output_type": "execute_result"
    }
   ],
   "source": [
    "result_03['PC']"
   ]
  },
  {
   "cell_type": "markdown",
   "id": "3704787e-2671-4821-a412-8b3bc4ec3de4",
   "metadata": {},
   "source": [
    "プロットしましょう。"
   ]
  },
  {
   "cell_type": "code",
   "execution_count": 5,
   "id": "6280c421-b64c-4dd3-8d1c-5433d1ed3fc8",
   "metadata": {},
   "outputs": [
    {
     "name": "stdout",
     "output_type": "stream",
     "text": [
      "[pca] >Plot PC1 vs PC2 with loadings.\n"
     ]
    },
    {
     "data": {
      "image/png": "[encoded data removed]",
      "text/plain": [
       "<Figure size 1080x720 with 1 Axes>"
      ]
     },
     "metadata": {
      "needs_background": "light"
     },
     "output_type": "display_data"
    },
    {
     "data": {
      "text/plain": [
       "(<Figure size 1080x720 with 1 Axes>,\n",
       " <AxesSubplot:title={'center':'2 Principal Components explain [99.79%] of the variance'}, xlabel='PC1 (66.8% expl.var)', ylabel='PC2 (28.7% expl.var)'>)"
      ]
     },
     "execution_count": 5,
     "metadata": {},
     "output_type": "execute_result"
    }
   ],
   "source": [
    "model_03.biplot()"
   ]
  },
  {
   "cell_type": "markdown",
   "id": "ae100d81-66ce-44c5-a0f9-a98564969c89",
   "metadata": {},
   "source": [
    "この図で注目すべきところは、国語（Japanese）、社会（Social）、英語（English）は第一主成分でよく説明され、数学（Math）と理科（Science）は第２主成分でよく説明されるということです。"
   ]
  },
  {
   "cell_type": "markdown",
   "id": "7d0d9ea9-58ca-44d8-a518-878f20931c60",
   "metadata": {},
   "source": [
    "実際、因子負荷量は次のようになります。"
   ]
  },
  {
   "cell_type": "code",
   "execution_count": 6,
   "id": "5c08cffc-4544-481a-8a58-7f3fa22ff405",
   "metadata": {},
   "outputs": [
    {
     "data": {
      "text/html": [
       "<div>\n",
       "<style scoped>\n",
       "    .dataframe tbody tr th:only-of-type {\n",
       "        vertical-align: middle;\n",
       "    }\n",
       "\n",
       "    .dataframe tbody tr th {\n",
       "        vertical-align: top;\n",
       "    }\n",
       "\n",
       "    .dataframe thead th {\n",
       "        text-align: right;\n",
       "    }\n",
       "</style>\n",
       "<table border=\"1\" class=\"dataframe\">\n",
       "  <thead>\n",
       "    <tr style=\"text-align: right;\">\n",
       "      <th></th>\n",
       "      <th>Math</th>\n",
       "      <th>Science</th>\n",
       "      <th>Japanese</th>\n",
       "      <th>English</th>\n",
       "      <th>Social</th>\n",
       "    </tr>\n",
       "  </thead>\n",
       "  <tbody>\n",
       "    <tr>\n",
       "      <th>PC1</th>\n",
       "      <td>-0.043185</td>\n",
       "      <td>-0.116610</td>\n",
       "      <td>0.551366</td>\n",
       "      <td>0.600737</td>\n",
       "      <td>0.565374</td>\n",
       "    </tr>\n",
       "    <tr>\n",
       "      <th>PC2</th>\n",
       "      <td>-0.845432</td>\n",
       "      <td>-0.519486</td>\n",
       "      <td>-0.087920</td>\n",
       "      <td>-0.087201</td>\n",
       "      <td>0.006674</td>\n",
       "    </tr>\n",
       "  </tbody>\n",
       "</table>\n",
       "</div>"
      ],
      "text/plain": [
       "         Math   Science  Japanese   English    Social\n",
       "PC1 -0.043185 -0.116610  0.551366  0.600737  0.565374\n",
       "PC2 -0.845432 -0.519486 -0.087920 -0.087201  0.006674"
      ]
     },
     "execution_count": 6,
     "metadata": {},
     "output_type": "execute_result"
    }
   ],
   "source": [
    "result_03['loadings']"
   ]
  },
  {
   "cell_type": "markdown",
   "id": "e1d96992-e4dc-413e-8ddc-7f3861fe333e",
   "metadata": {},
   "source": [
    "ですから、第１主成分を「文系軸」、第２主成分を「理系軸」と呼ぶことも可能でしょう。"
   ]
  },
  {
   "cell_type": "markdown",
   "id": "9a389ec6-cc3c-403f-a85f-7c5152cfbb53",
   "metadata": {},
   "source": [
    "では、各人の成績を「理系軸ｘA　＋　文系軸ｘB」というふうに再現することができるでしょうか？"
   ]
  },
  {
   "cell_type": "markdown",
   "id": "db681435-7a52-461f-ac82-437b8d44a819",
   "metadata": {},
   "source": [
    "上のPC1, PC2は互いに直交な単位ベクトル$\\boldsymbol{u_1}^T$、$\\boldsymbol{u_2}^T$で、点数ベクトル$\\boldsymbol{X}$とそのPC1軸、PC2軸の座標$\\boldsymbol{Y}$との関係は、"
   ]
  },
  {
   "cell_type": "markdown",
   "id": "276957e0-0d39-496c-8674-e06449d9bd6f",
   "metadata": {},
   "source": [
    "$\\boldsymbol{Y} = \\left[\\begin{array}{c}\\boldsymbol{u_1}^T \\\\ \\boldsymbol{u_2}^T\\end{array}\\right]\\boldsymbol{X}$"
   ]
  },
  {
   "cell_type": "markdown",
   "id": "118044fb-f09f-4205-8b29-721f3cbf4e1b",
   "metadata": {},
   "source": [
    "の関係がありますから"
   ]
  },
  {
   "cell_type": "markdown",
   "id": "20c71914-9724-4b7d-b5fb-5d020da83967",
   "metadata": {},
   "source": [
    "$\\boldsymbol{X} = \\left[\\begin{array}{c}\\boldsymbol{u_1} \\; \\boldsymbol{u_2} \\end{array}\\right]\\boldsymbol{Y}$"
   ]
  },
  {
   "cell_type": "markdown",
   "id": "2c8d10db-2662-44b8-8f5e-1f4ec16003ef",
   "metadata": {},
   "source": [
    "によってもとの点数を復元できます。この$\\boldsymbol{Y}$の要素である数値、つまり、PC1軸の座標とPC2軸の座標が上のAとBです。"
   ]
  },
  {
   "cell_type": "markdown",
   "id": "47132e54-a3bc-4ba5-bc6d-36d5a11db8ab",
   "metadata": {},
   "source": [
    "### 因子分析の考え方"
   ]
  },
  {
   "cell_type": "markdown",
   "id": "6f7517eb-b1b7-4c31-8fbf-ba76ecbbf589",
   "metadata": {},
   "source": [
    "因子分解では、より自由な形を許容します。すなわち、$$\\boldsymbol{X} = \\boldsymbol{a}\\boldsymbol{f} + \\boldsymbol{e}$$のような形です。このとき、$\\boldsymbol{f}$をそれぞれの個体の因子得点（factor score）、共通因子の係数$\\boldsymbol{a}$を因子負荷量、$\\boldsymbol{e}$を独自因子といいます。"
   ]
  },
  {
   "cell_type": "markdown",
   "id": "e8fceb1e-de9c-4f8b-9e40-b1275e9b2011",
   "metadata": {},
   "source": [
    "### factor_analyzerによる因子分析"
   ]
  },
  {
   "cell_type": "markdown",
   "id": "c8f0332e-960f-4cf6-a010-45679c1f234d",
   "metadata": {},
   "source": [
    "まず、factor_analyzerをインストールします。"
   ]
  },
  {
   "cell_type": "code",
   "execution_count": 113,
   "id": "37e5371e-3bf4-4580-a38c-977de1eadde5",
   "metadata": {},
   "outputs": [
    {
     "name": "stdout",
     "output_type": "stream",
     "text": [
      "Collecting factor_analyzerNote: you may need to restart the kernel to use updated packages.\n",
      "  Downloading factor_analyzer-0.4.0.tar.gz (41 kB)\n",
      "\n"
     ]
    },
    {
     "name": "stderr",
     "output_type": "stream",
     "text": [
      "WARNING: You are using pip version 22.0.4; however, version 22.1.2 is available.\n",
      "You should consider upgrading via the 'E:\\PythonUSB\\PythonUSB\\Python\\python-3.9.9\\pythonw.exe -m pip install --upgrade pip' command.\n"
     ]
    },
    {
     "name": "stdout",
     "output_type": "stream",
     "text": [
      "     -------------------------------------- 41.7/41.7 KB 498.6 kB/s eta 0:00:00\n",
      "  Preparing metadata (setup.py): started\n",
      "  Preparing metadata (setup.py): finished with status 'done'\n",
      "Requirement already satisfied: pandas in e:\\pythonusb\\pythonusb\\python\\python-3.9.9\\lib\\site-packages (from factor_analyzer) (1.4.2)\n",
      "Requirement already satisfied: scipy in e:\\pythonusb\\pythonusb\\python\\python-3.9.9\\lib\\site-packages (from factor_analyzer) (1.7.3)\n",
      "Requirement already satisfied: numpy in e:\\pythonusb\\pythonusb\\python\\python-3.9.9\\lib\\site-packages (from factor_analyzer) (1.21.4)\n",
      "Requirement already satisfied: scikit-learn in e:\\pythonusb\\pythonusb\\python\\python-3.9.9\\lib\\site-packages (from factor_analyzer) (1.1.1)\n",
      "Requirement already satisfied: pytz>=2020.1 in e:\\pythonusb\\pythonusb\\python\\python-3.9.9\\lib\\site-packages (from pandas->factor_analyzer) (2021.3)\n",
      "Requirement already satisfied: python-dateutil>=2.8.1 in e:\\pythonusb\\pythonusb\\python\\python-3.9.9\\lib\\site-packages (from pandas->factor_analyzer) (2.8.2)\n",
      "Requirement already satisfied: joblib>=1.0.0 in e:\\pythonusb\\pythonusb\\python\\python-3.9.9\\lib\\site-packages (from scikit-learn->factor_analyzer) (1.1.0)\n",
      "Requirement already satisfied: threadpoolctl>=2.0.0 in e:\\pythonusb\\pythonusb\\python\\python-3.9.9\\lib\\site-packages (from scikit-learn->factor_analyzer) (3.1.0)\n",
      "Requirement already satisfied: six>=1.5 in e:\\pythonusb\\pythonusb\\python\\python-3.9.9\\lib\\site-packages (from python-dateutil>=2.8.1->pandas->factor_analyzer) (1.16.0)\n",
      "Building wheels for collected packages: factor_analyzer\n",
      "  Building wheel for factor_analyzer (setup.py): started\n",
      "  Building wheel for factor_analyzer (setup.py): finished with status 'done'\n",
      "  Created wheel for factor_analyzer: filename=factor_analyzer-0.4.0-py3-none-any.whl size=41455 sha256=57581636e6a77108e7e3efada699d59fdb339416e911fc44d7beadc16fbf99e4\n",
      "  Stored in directory: c:\\users\\hishiki\\appdata\\local\\pip\\cache\\wheels\\c4\\c5\\20\\f59c259c406007a587ff4a0d0e6212ae14f9558a0124463545\n",
      "Successfully built factor_analyzer\n",
      "Installing collected packages: factor_analyzer\n",
      "Successfully installed factor_analyzer-0.4.0\n"
     ]
    }
   ],
   "source": [
    "pip install factor_analyzer"
   ]
  },
  {
   "cell_type": "code",
   "execution_count": null,
   "id": "7e196952-009f-40b2-bb5b-f073d18a5b34",
   "metadata": {},
   "outputs": [
    {
     "name": "stdout",
     "output_type": "stream",
     "text": [
      "Note: you may need to restart the kernel to use updated packages.Name: factor-analyzer\n",
      "\n",
      "Version: 0.4.0\n",
      "Summary: A Factor Analysis class\n",
      "Home-page: https://github.com/EducationalTestingService/factor_analyzer\n",
      "Author: Jeremy Biggs\n",
      "Author-email: jbiggs@ets.org\n",
      "License: UNKNOWN\n",
      "Location: e:\\pythonusb\\pythonusb\\python\\python-3.9.9\\lib\\site-packages\n",
      "Requires: numpy, pandas, scikit-learn, scipy\n",
      "Required-by: \n"
     ]
    }
   ],
   "source": [
    "pip show factor_analyzer"
   ]
  },
  {
   "cell_type": "markdown",
   "id": "3768bada-846d-4dd4-a549-7ffb75c3cf91",
   "metadata": {},
   "source": [
    "それでは、インポートします。"
   ]
  },
  {
   "cell_type": "code",
   "execution_count": 1,
   "id": "7a133a8a-af59-4f66-9fb4-05cf01bb3072",
   "metadata": {},
   "outputs": [],
   "source": [
    "from factor_analyzer import FactorAnalyzer "
   ]
  },
  {
   "cell_type": "markdown",
   "id": "3c947ea8-360c-4cc6-a9f0-0e2579758cd0",
   "metadata": {},
   "source": [
    "因子分析を行う際に、データができるだけ１つの因子で表せるように、因子負荷量$\\boldsymbol{a}$の回転を行うオプション「rotation=\"varimax\"」をつけます。また、因子の数を２つに指定するためにオプション「n_factors=2」をつけます。"
   ]
  },
  {
   "cell_type": "code",
   "execution_count": 61,
   "id": "a112459e-3aab-4f05-9ada-28c23fa78531",
   "metadata": {},
   "outputs": [],
   "source": [
    "fa=FactorAnalyzer(rotation=\"varimax\",n_factors=2)"
   ]
  },
  {
   "cell_type": "code",
   "execution_count": 62,
   "id": "f8500ae3-c029-4f17-ae57-299fe1bf69c1",
   "metadata": {},
   "outputs": [
    {
     "data": {
      "text/html": [
       "<style>#sk-container-id-7 {color: black;background-color: white;}#sk-container-id-7 pre{padding: 0;}#sk-container-id-7 div.sk-toggleable {background-color: white;}#sk-container-id-7 label.sk-toggleable__label {cursor: pointer;display: block;width: 100%;margin-bottom: 0;padding: 0.3em;box-sizing: border-box;text-align: center;}#sk-container-id-7 label.sk-toggleable__label-arrow:before {content: \"▸\";float: left;margin-right: 0.25em;color: #696969;}#sk-container-id-7 label.sk-toggleable__label-arrow:hover:before {color: black;}#sk-container-id-7 div.sk-estimator:hover label.sk-toggleable__label-arrow:before {color: black;}#sk-container-id-7 div.sk-toggleable__content {max-height: 0;max-width: 0;overflow: hidden;text-align: left;background-color: #f0f8ff;}#sk-container-id-7 div.sk-toggleable__content pre {margin: 0.2em;color: black;border-radius: 0.25em;background-color: #f0f8ff;}#sk-container-id-7 input.sk-toggleable__control:checked~div.sk-toggleable__content {max-height: 200px;max-width: 100%;overflow: auto;}#sk-container-id-7 input.sk-toggleable__control:checked~label.sk-toggleable__label-arrow:before {content: \"▾\";}#sk-container-id-7 div.sk-estimator input.sk-toggleable__control:checked~label.sk-toggleable__label {background-color: #d4ebff;}#sk-container-id-7 div.sk-label input.sk-toggleable__control:checked~label.sk-toggleable__label {background-color: #d4ebff;}#sk-container-id-7 input.sk-hidden--visually {border: 0;clip: rect(1px 1px 1px 1px);clip: rect(1px, 1px, 1px, 1px);height: 1px;margin: -1px;overflow: hidden;padding: 0;position: absolute;width: 1px;}#sk-container-id-7 div.sk-estimator {font-family: monospace;background-color: #f0f8ff;border: 1px dotted black;border-radius: 0.25em;box-sizing: border-box;margin-bottom: 0.5em;}#sk-container-id-7 div.sk-estimator:hover {background-color: #d4ebff;}#sk-container-id-7 div.sk-parallel-item::after {content: \"\";width: 100%;border-bottom: 1px solid gray;flex-grow: 1;}#sk-container-id-7 div.sk-label:hover label.sk-toggleable__label {background-color: #d4ebff;}#sk-container-id-7 div.sk-serial::before {content: \"\";position: absolute;border-left: 1px solid gray;box-sizing: border-box;top: 0;bottom: 0;left: 50%;z-index: 0;}#sk-container-id-7 div.sk-serial {display: flex;flex-direction: column;align-items: center;background-color: white;padding-right: 0.2em;padding-left: 0.2em;position: relative;}#sk-container-id-7 div.sk-item {position: relative;z-index: 1;}#sk-container-id-7 div.sk-parallel {display: flex;align-items: stretch;justify-content: center;background-color: white;position: relative;}#sk-container-id-7 div.sk-item::before, #sk-container-id-7 div.sk-parallel-item::before {content: \"\";position: absolute;border-left: 1px solid gray;box-sizing: border-box;top: 0;bottom: 0;left: 50%;z-index: -1;}#sk-container-id-7 div.sk-parallel-item {display: flex;flex-direction: column;z-index: 1;position: relative;background-color: white;}#sk-container-id-7 div.sk-parallel-item:first-child::after {align-self: flex-end;width: 50%;}#sk-container-id-7 div.sk-parallel-item:last-child::after {align-self: flex-start;width: 50%;}#sk-container-id-7 div.sk-parallel-item:only-child::after {width: 0;}#sk-container-id-7 div.sk-dashed-wrapped {border: 1px dashed gray;margin: 0 0.4em 0.5em 0.4em;box-sizing: border-box;padding-bottom: 0.4em;background-color: white;}#sk-container-id-7 div.sk-label label {font-family: monospace;font-weight: bold;display: inline-block;line-height: 1.2em;}#sk-container-id-7 div.sk-label-container {text-align: center;}#sk-container-id-7 div.sk-container {/* jupyter's `normalize.less` sets `[hidden] { display: none; }` but bootstrap.min.css set `[hidden] { display: none !important; }` so we also need the `!important` here to be able to override the default hidden behavior on the sphinx rendered scikit-learn.org. See: https://github.com/scikit-learn/scikit-learn/issues/21755 */display: inline-block !important;position: relative;}#sk-container-id-7 div.sk-text-repr-fallback {display: none;}</style><div id=\"sk-container-id-7\" class=\"sk-top-container\"><div class=\"sk-text-repr-fallback\"><pre>FactorAnalyzer(n_factors=2, rotation=&#x27;varimax&#x27;, rotation_kwargs={})</pre><b>In a Jupyter environment, please rerun this cell to show the HTML representation or trust the notebook. <br />On GitHub, the HTML representation is unable to render, please try loading this page with nbviewer.org.</b></div><div class=\"sk-container\" hidden><div class=\"sk-item\"><div class=\"sk-estimator sk-toggleable\"><input class=\"sk-toggleable__control sk-hidden--visually\" id=\"sk-estimator-id-7\" type=\"checkbox\" checked><label for=\"sk-estimator-id-7\" class=\"sk-toggleable__label sk-toggleable__label-arrow\">FactorAnalyzer</label><div class=\"sk-toggleable__content\"><pre>FactorAnalyzer(n_factors=2, rotation=&#x27;varimax&#x27;, rotation_kwargs={})</pre></div></div></div></div></div>"
      ],
      "text/plain": [
       "FactorAnalyzer(n_factors=2, rotation='varimax', rotation_kwargs={})"
      ]
     },
     "execution_count": 62,
     "metadata": {},
     "output_type": "execute_result"
    }
   ],
   "source": [
    "fa.fit(df_exam)"
   ]
  },
  {
   "cell_type": "markdown",
   "id": "2679dd09-0f59-4178-91c9-204184e68a56",
   "metadata": {},
   "source": [
    "因子負荷量を表示します。第１軸は国語、英語、社会のウェイトが高く、第２軸は数学と理科のウェイトが高いのがわかります。"
   ]
  },
  {
   "cell_type": "code",
   "execution_count": 63,
   "id": "c40a2d45-fc2d-4874-9f00-ba4eeba07c5d",
   "metadata": {},
   "outputs": [
    {
     "data": {
      "text/plain": [
       "array([[ 0.0586396 ,  0.99639872],\n",
       "       [-0.19278659,  0.97023151],\n",
       "       [ 0.87355798, -0.04515192],\n",
       "       [ 0.999463  , -0.03412303],\n",
       "       [ 0.97817648, -0.13345814]])"
      ]
     },
     "execution_count": 63,
     "metadata": {},
     "output_type": "execute_result"
    }
   ],
   "source": [
    "fa.loadings_"
   ]
  },
  {
   "cell_type": "markdown",
   "id": "722f78d2-555f-44eb-9935-74b0c9dc8815",
   "metadata": {},
   "source": [
    "どの程度の分散がカバーされるかを表示します。３つめが累積の分散です。"
   ]
  },
  {
   "cell_type": "code",
   "execution_count": 66,
   "id": "1c71e574-15e7-4a2f-b90b-ef778fddd337",
   "metadata": {},
   "outputs": [
    {
     "data": {
      "text/plain": [
       "(array([2.75946434, 1.95517374]),\n",
       " array([0.55189287, 0.39103475]),\n",
       " array([0.55189287, 0.94292762]))"
      ]
     },
     "execution_count": 66,
     "metadata": {},
     "output_type": "execute_result"
    }
   ],
   "source": [
    "fa.get_factor_variance()"
   ]
  },
  {
   "cell_type": "markdown",
   "id": "68870562-2ba7-4f1b-8cae-26c3cf202341",
   "metadata": {},
   "source": [
    "データを１軸と２軸に変換した結果です。"
   ]
  },
  {
   "cell_type": "code",
   "execution_count": 67,
   "id": "43113ac1-d0ed-4a42-b829-47b93aee09fe",
   "metadata": {},
   "outputs": [
    {
     "data": {
      "text/plain": [
       "array([[-0.82411161,  0.99735402],\n",
       "       [ 0.88377924, -0.77704213],\n",
       "       [-1.3835613 ,  0.66173418],\n",
       "       [-0.77976512, -1.62050866],\n",
       "       [-0.1526514 ,  0.58344466],\n",
       "       [ 0.54305655, -0.91790955],\n",
       "       [ 1.71325364,  1.07292749]])"
      ]
     },
     "execution_count": 67,
     "metadata": {},
     "output_type": "execute_result"
    }
   ],
   "source": [
    "exam_transformed = fa.transform(df_exam)\n",
    "exam_transformed"
   ]
  },
  {
   "cell_type": "markdown",
   "id": "325c3ff8-38c6-46ac-b533-678e590a7cf7",
   "metadata": {},
   "source": [
    "１軸に人文、２軸に科学のラベルをつけます。行ラベルに学生の番号をつけます。"
   ]
  },
  {
   "cell_type": "code",
   "execution_count": 69,
   "id": "f376fa64-0081-4300-ab28-c92ace15a4a0",
   "metadata": {},
   "outputs": [
    {
     "data": {
      "text/html": [
       "<div>\n",
       "<style scoped>\n",
       "    .dataframe tbody tr th:only-of-type {\n",
       "        vertical-align: middle;\n",
       "    }\n",
       "\n",
       "    .dataframe tbody tr th {\n",
       "        vertical-align: top;\n",
       "    }\n",
       "\n",
       "    .dataframe thead th {\n",
       "        text-align: right;\n",
       "    }\n",
       "</style>\n",
       "<table border=\"1\" class=\"dataframe\">\n",
       "  <thead>\n",
       "    <tr style=\"text-align: right;\">\n",
       "      <th></th>\n",
       "      <th>HUM</th>\n",
       "      <th>SCI</th>\n",
       "    </tr>\n",
       "  </thead>\n",
       "  <tbody>\n",
       "    <tr>\n",
       "      <th>1</th>\n",
       "      <td>-0.824112</td>\n",
       "      <td>0.997354</td>\n",
       "    </tr>\n",
       "    <tr>\n",
       "      <th>2</th>\n",
       "      <td>0.883779</td>\n",
       "      <td>-0.777042</td>\n",
       "    </tr>\n",
       "    <tr>\n",
       "      <th>3</th>\n",
       "      <td>-1.383561</td>\n",
       "      <td>0.661734</td>\n",
       "    </tr>\n",
       "    <tr>\n",
       "      <th>4</th>\n",
       "      <td>-0.779765</td>\n",
       "      <td>-1.620509</td>\n",
       "    </tr>\n",
       "    <tr>\n",
       "      <th>5</th>\n",
       "      <td>-0.152651</td>\n",
       "      <td>0.583445</td>\n",
       "    </tr>\n",
       "    <tr>\n",
       "      <th>6</th>\n",
       "      <td>0.543057</td>\n",
       "      <td>-0.917910</td>\n",
       "    </tr>\n",
       "    <tr>\n",
       "      <th>7</th>\n",
       "      <td>1.713254</td>\n",
       "      <td>1.072927</td>\n",
       "    </tr>\n",
       "  </tbody>\n",
       "</table>\n",
       "</div>"
      ],
      "text/plain": [
       "        HUM       SCI\n",
       "1 -0.824112  0.997354\n",
       "2  0.883779 -0.777042\n",
       "3 -1.383561  0.661734\n",
       "4 -0.779765 -1.620509\n",
       "5 -0.152651  0.583445\n",
       "6  0.543057 -0.917910\n",
       "7  1.713254  1.072927"
      ]
     },
     "execution_count": 69,
     "metadata": {},
     "output_type": "execute_result"
    }
   ],
   "source": [
    "df_exam_transformed = pd.DataFrame(data=exam_transformed,index=['1','2','3','4','5','6','7'],columns=['HUM','SCI'])\n",
    "df_exam_transformed"
   ]
  },
  {
   "cell_type": "markdown",
   "id": "fd66c33b-e281-41a4-bff7-cfe2ea0ed4a2",
   "metadata": {},
   "source": [
    "散布図を描きます。"
   ]
  },
  {
   "cell_type": "code",
   "execution_count": 83,
   "id": "6ccd440c-5c23-4a80-9cbc-5b86522287d9",
   "metadata": {},
   "outputs": [
    {
     "data": {
      "image/png": "[encoded data removed]",
      "text/plain": [
       "<Figure size 432x288 with 1 Axes>"
      ]
     },
     "metadata": {
      "needs_background": "light"
     },
     "output_type": "display_data"
    }
   ],
   "source": [
    "a = df_exam_transformed.plot.scatter('HUM','SCI')"
   ]
  },
  {
   "cell_type": "code",
   "execution_count": 90,
   "id": "0ec3135c-14ff-4119-ae5f-d192707ee50d",
   "metadata": {},
   "outputs": [
    {
     "data": {
      "text/plain": [
       "0.9999935499791985"
      ]
     },
     "execution_count": 90,
     "metadata": {},
     "output_type": "execute_result"
    }
   ],
   "source": [
    "np.linalg.norm([0.3616,0.6565,-0.5810,0.3173])"
   ]
  },
  {
   "cell_type": "code",
   "execution_count": null,
   "id": "64f24d04-c601-42f3-bb1f-e4b6bc70268f",
   "metadata": {},
   "outputs": [],
   "source": []
  }
 ],
 "metadata": {
  "kernelspec": {
   "display_name": "Python 3 (ipykernel)",
   "language": "python",
   "name": "python3"
  },
  "language_info": {
   "codemirror_mode": {
    "name": "ipython",
    "version": 3
   },
   "file_extension": ".py",
   "mimetype": "text/x-python",
   "name": "python",
   "nbconvert_exporter": "python",
   "pygments_lexer": "ipython3",
   "version": "3.9.9"
  }
 },
 "nbformat": 4,
 "nbformat_minor": 5
}
