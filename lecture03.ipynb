{
 "cells": [
  {
   "cell_type": "markdown",
   "id": "5ca9025b-fefb-4b93-8d22-feb05c23e1c9",
   "metadata": {},
   "source": [
    "# 第３回　関数、クラス、モジュールの使い方、入出力"
   ]
  },
  {
   "cell_type": "markdown",
   "id": "6f804fc7-3ab9-4c94-9fe4-89f6b75c1508",
   "metadata": {},
   "source": [
    "## 関数"
   ]
  },
  {
   "cell_type": "markdown",
   "id": "b7cd1fdd-f28a-4bcd-a045-0ea7c9ad00d7",
   "metadata": {},
   "source": [
    "**関数**とは、一連の処理をまとめて記述したものです。それに名前をつけることによって、処理の内容をいちいち書かなくても、名前で簡単に呼び出して実行させることができます。"
   ]
  },
  {
   "cell_type": "markdown",
   "id": "d7dee7ae-bd34-4cfe-8c36-632557e487d4",
   "metadata": {},
   "source": [
    "関数には、Pythonに元来備わっていう**組み込み関数**と、プログラムする人が定義する関数とがあります。これまでにたくさん使っている<b><em>print()</em></b>は、組み込み関数の代表的なものです。"
   ]
  },
  {
   "cell_type": "markdown",
   "id": "fcb9f331-d1c4-4d66-be1b-62a75ccf98ec",
   "metadata": {},
   "source": [
    "ある関数がどんなものかを説明するには、名前の他に、どんな**引数**をとり、どんな**返り値**を返すか、説明する必要があります。"
   ]
  },
  {
   "cell_type": "markdown",
   "id": "b79692d0-09c6-4592-9208-ff3a19423403",
   "metadata": {},
   "source": [
    "### 関数の作り方"
   ]
  },
  {
   "cell_type": "markdown",
   "id": "dff7a574-7c06-4d7f-8539-455f19b21386",
   "metadata": {},
   "source": [
    "Pythonでは、***def***文で関数を定義します。<u>関数の中身（具体的な処理）は、インデントを用いて字下げして記述</u>します。<br>\n",
    "関数の名前とともに、**引数**（関数に引き渡す値）を定義することがあります。<br>\n",
    "また、関数の処理の最後に、***return***のあとに**返り値**（関数の出力）を設定することがあります。"
   ]
  },
  {
   "cell_type": "markdown",
   "id": "70aa8e66-ad56-49df-8520-87d81d00af2f",
   "metadata": {},
   "source": [
    "関数を宣言すると、関数内で宣言される変数の有効範囲が関数内に限定されます（**スコープ**といいます）。\n",
    "関数の外側に同じ名前の変数があっても、関数内の変数にアクセスが行われます。\n",
    "関数の外側の変数（**グローバル変数**）にアクセスするときは、***global*** **グローバル変数名**、と宣言してアクセスします。"
   ]
  },
  {
   "cell_type": "markdown",
   "id": "f4a6a061-0332-4e2e-b4ee-cce37cb8a3d4",
   "metadata": {},
   "source": [
    "次の関数<em>plus_one()</em>は、（十進数の）数字の各桁に１を足した（ただし、９は０にする）数字を返します。 \n",
    "例えば\"4567\"には\"5678\"を、\"6789\"には\"7890\"を返します。  \n",
    "次のような組み込み関数にも注目してください。  \n",
    "- 数値を文字列に変換する***str()***  \n",
    "- 文字列を整数に変換する***int()***  \n",
    "- ***for***文と合わせて**イテレータ**（リストなど）のそれぞれの要素を取り出す***enumerate()***  \n",
    "\n",
    "また、関数ではなくメソッドですが、<b><em>join()</em></b>の使い方にも注目してください"
   ]
  },
  {
   "cell_type": "code",
   "execution_count": 17,
   "id": "cc3e0ebb-2823-4ddc-b0ef-aaf36ef79dcf",
   "metadata": {},
   "outputs": [
    {
     "name": "stdout",
     "output_type": "stream",
     "text": [
      "5678\n"
     ]
    }
   ],
   "source": [
    "def plus_one(number):\n",
    "    number_list = list(str(number))\n",
    "    #数を数字のリストにするには、上のように、文字列にしてからリストにする。\n",
    "    # 次のループでは、リストの添え字iと要素xの両方を処理します（テキスト133頁参照）\n",
    "    for i, x in enumerate(number_list):\n",
    "        x = int(x)\n",
    "        #足し算ができるように、上のように文字を整数に戻してやる\n",
    "        if (x != 9):\n",
    "            x = x + 1\n",
    "        else:\n",
    "            x = 0\n",
    "        number_list[i] = x\n",
    "        #上の行がないと、リストの中身が書き換わらない\n",
    "    number_list = [str(x) for x in number_list] #今度は、リストの要素の整数を数字に戻す必要があります。\n",
    "    # for 文のこのような書き方については、テキストの74頁「リスト内包表記」を参照してください。\n",
    "    number_out = \"\".join(number_list) # join()はリストで与えられた文字列を区切り文字で連結する、文字列のメソッドです。\n",
    "    # この場合、区切り文字は\"\"つまり何もない文字です。一般的には\"|\"などの区切り文字を指定します。\n",
    "    number_out = int(number_out) #出力するときは、文字列を整数にします。\n",
    "    return number_out #値を返すときはreturnを使います。\n",
    "# この関数の使い方\n",
    "ans = plus_one(4567)\n",
    "print(ans)"
   ]
  },
  {
   "cell_type": "code",
   "execution_count": null,
   "id": "8481c02f-9639-4ff5-a555-b41fd7ee2916",
   "metadata": {},
   "outputs": [],
   "source": []
  },
  {
   "cell_type": "code",
   "execution_count": 19,
   "id": "263f307b-c547-4724-92f2-05159cd326df",
   "metadata": {},
   "outputs": [
    {
     "data": {
      "text/plain": [
       "4095"
      ]
     },
     "execution_count": 19,
     "metadata": {},
     "output_type": "execute_result"
    }
   ],
   "source": [
    "plus_one(3984)"
   ]
  },
  {
   "cell_type": "markdown",
   "id": "9a4cb0b0-8132-4810-8690-8b05e495ceda",
   "metadata": {},
   "source": [
    "### 組み込み関数いろいろ"
   ]
  },
  {
   "cell_type": "markdown",
   "id": "b93ca1ec-a30d-4321-9bec-d567b8ed2d5c",
   "metadata": {},
   "source": [
    "詳しくは、テキストを御覧ください。"
   ]
  },
  {
   "cell_type": "markdown",
   "id": "70fc1631-2746-4a3e-9d79-ae2d006a35ad",
   "metadata": {},
   "source": [
    "入出力に関係するもの\n",
    "\n",
    "|名前|説明|\n",
    "|----|----|\n",
    "|input|標準入力からの入力|\n",
    "|print|標準出力への出力|\n",
    "\n"
   ]
  },
  {
   "cell_type": "markdown",
   "id": "a2e510c5-2b82-40db-88c3-b255d778b72f",
   "metadata": {},
   "source": [
    "リストに関係するもの"
   ]
  },
  {
   "cell_type": "markdown",
   "id": "e6a13dab-d92d-44dd-b0bf-4eb2ce4cec33",
   "metadata": {},
   "source": [
    "文字列に関係するもの"
   ]
  },
  {
   "cell_type": "markdown",
   "id": "af157947-2f4d-4b62-a99f-063f12a65907",
   "metadata": {},
   "source": [
    "## クラス"
   ]
  },
  {
   "cell_type": "markdown",
   "id": "52aae2bf-83f8-4dc0-9494-8ee2673af61b",
   "metadata": {},
   "source": [
    "さきほどの例で、join()は関数ではなく**文字列クラス**の**メソッド**であると言いました。  \n",
    "join()は、文字列**インスタンス**－例えば空白文字\" \"－のあとに\".\"でつなげて使います。  \n",
    "（注：インスタンスinstanceの本来の意味は「具体例example」ですね。なにの「具体例」かというと、文字列「クラス」（class）の具体例なのです。）  \n",
    "join()の引数は、要素が文字であるようなリストです。  \n",
    "join()でできることは、文字列インスタンスを**区切り文字**として**リストの要素を連結**することです。  \n",
    "次の例を見てください。"
   ]
  },
  {
   "cell_type": "code",
   "execution_count": 22,
   "id": "f054acd2-34f2-4d41-adc1-7dfb6fbc3c05",
   "metadata": {},
   "outputs": [
    {
     "data": {
      "text/plain": [
       "'2022-04-26'"
      ]
     },
     "execution_count": 22,
     "metadata": {},
     "output_type": "execute_result"
    }
   ],
   "source": [
    "str(date.today())"
   ]
  },
  {
   "cell_type": "code",
   "execution_count": 6,
   "id": "ef971aca-8478-4a5f-af5f-60b016666258",
   "metadata": {},
   "outputs": [
    {
     "data": {
      "text/plain": [
       "'Hello, it is♥♠2022-04-26♥♠today.'"
      ]
     },
     "execution_count": 6,
     "metadata": {},
     "output_type": "execute_result"
    }
   ],
   "source": [
    "import datetime\n",
    "\"♥♠\".join(['Hello, it is', str(datetime.date.today()), 'today.']) #3つの要素を連結しています。 "
   ]
  },
  {
   "cell_type": "markdown",
   "id": "464127a3-4a32-4dd6-82e4-69c7a76d5e12",
   "metadata": {},
   "source": [
    "さて、文字列\"♥♠\"は文字列型のデータでありますが、Pythonのような「オブジェクト指向言語」においては文字列クラスのインスタンスでもあります。つまり、Pythonにおいて、「～型」を「～クラス」と言い換えても問題ありません。"
   ]
  },
  {
   "cell_type": "markdown",
   "id": "f41963f8-d5fe-4027-a121-696958ff40ff",
   "metadata": {},
   "source": [
    "その反対に、「～クラス」は、単なるデータ型ではなく、そのデータの使い方まで定義されています。  \n",
    "どういうことかというと、「～クラス」には、そのクラスのデータ（以降「インスタンス」といいます）だけを処理できるような関数が用意されています。そうした関数を、～クラスの「メソッド」といいます。"
   ]
  },
  {
   "cell_type": "markdown",
   "id": "37b398b4-d61c-4452-a38f-089ed7e4e17e",
   "metadata": {},
   "source": [
    "文字列クラスのメソッドを例示します。まず大文字にするupper()です。"
   ]
  },
  {
   "cell_type": "code",
   "execution_count": 52,
   "id": "9e898f00-f5a3-4668-9523-87c683c3135e",
   "metadata": {},
   "outputs": [
    {
     "name": "stdout",
     "output_type": "stream",
     "text": [
      "ABCD\n"
     ]
    }
   ],
   "source": [
    "string = \"abcd\"\n",
    "print(string.upper())"
   ]
  },
  {
   "cell_type": "markdown",
   "id": "ca87393c-eb4c-4fe5-aae5-72841990afcf",
   "metadata": {},
   "source": [
    "次に、文字列の置き換えをするreplace()です。"
   ]
  },
  {
   "cell_type": "code",
   "execution_count": 14,
   "id": "6300e05a-e5a3-45b4-b8ed-4a5e1bd7b3db",
   "metadata": {},
   "outputs": [
    {
     "name": "stdout",
     "output_type": "stream",
     "text": [
      "I like apples. I take two apples every day.\n"
     ]
    }
   ],
   "source": [
    "string2 = \"I like bananas. I take two bananas every day.\"\n",
    "print(string2.replace('bananas', 'apples'))# bananasをapplesで置き換える"
   ]
  },
  {
   "cell_type": "markdown",
   "id": "bcde00eb-e227-4e0a-9078-8939bb811a9a",
   "metadata": {},
   "source": [
    "他にも多数あります。「Python 文字列クラス　メソッド」で検索してみてください。"
   ]
  },
  {
   "cell_type": "markdown",
   "id": "6da0955f-83e1-4784-9d80-f398bd05a2ce",
   "metadata": {},
   "source": [
    "### クラスの作成（テキスト１６９頁～）"
   ]
  },
  {
   "cell_type": "markdown",
   "id": "38f56b45-488a-4d96-98e0-5a0d31abb460",
   "metadata": {},
   "source": [
    "ユーザーが自分でクラスを定義すれば、独自にデータ型を作成できます。また、それに対するメソッドを定義できます。 \n",
    "関数を定義するとき、def文を用いましたが、クラスの定義はclass文でおこないます。\n",
    "メソッドの定義には、関数の定義と同様にdef文を用います。"
   ]
  },
  {
   "cell_type": "code",
   "execution_count": 11,
   "id": "5105b27a-c61c-4a0b-be8f-9b0a4c741402",
   "metadata": {},
   "outputs": [
    {
     "name": "stdout",
     "output_type": "stream",
     "text": [
      "Car is running.\n",
      "Turn left.!\n"
     ]
    }
   ],
   "source": [
    "class Car:  #Carクラスの定義\n",
    "    def run(self):  #メソッド\n",
    "        print('Car is running.')\n",
    "    def turn(self, dir):\n",
    "        print('Turn '+dir+'.!')\n",
    "\n",
    "myCar = Car()       #Carクラスのインスタンスの作成\n",
    "myCar.run()         #メソッドの呼び出し\n",
    "myCar.turn('left')  #メソッドの呼び出し（引数あり）"
   ]
  },
  {
   "cell_type": "markdown",
   "id": "993c96cf-468c-4f0f-85e4-db580256a0e1",
   "metadata": {},
   "source": [
    "メソッドを定義するとき、その第一引数には、self というインスタンス自身をあらわす変数を置きます。それによって、メソッドの引数が何もないときは、インスタンス自身が引数として使われることになります。  \n",
    "\\_\\_init\\_\\_ （initの前後にアンダースコア\\_が2個ずつ）というメソッドを用いることによって、インスタンスの初期化（例えば、属性の初期値を設定する）を行います。また、このメソッドを**コンストラクタ**といいます（テキスト186頁参照）。  \n",
    "次の例を見てください。"
   ]
  },
  {
   "cell_type": "code",
   "execution_count": 13,
   "id": "ed149daf-7d8b-48f9-bc9e-8d4d1ec5ef28",
   "metadata": {},
   "outputs": [
    {
     "name": "stdout",
     "output_type": "stream",
     "text": [
      "千葉県船橋市三山２－２－１\n",
      "千葉\n",
      "船橋\n"
     ]
    }
   ],
   "source": [
    "class City_jp:\n",
    "    # クラスの名前は大文字で始めるのが慣例です。\n",
    "    def __init__(self,name):\n",
    "        self.name = name\n",
    "    def prefecture(self):\n",
    "        name = self.name\n",
    "        tuple_1 = name.partition('県')\n",
    "        # partition(区切り文字)は、文字列のメソッドです。\n",
    "        # このメソッドは、文字列のインスタンスを処理して、\n",
    "        # (区切り文字の前の文字列、区切り文字、区切り文字のあとの文字列)という３つの要素\n",
    "        # をもつタプルを返します。\n",
    "        return(tuple_1[0])\n",
    "    def city(self):\n",
    "        name = self.name\n",
    "        tuple_1 = name.partition('県')\n",
    "        tuple_2 = tuple_1[2].partition('市')\n",
    "        return(tuple_2[0])\n",
    "# このクラスの使い方\n",
    "my_address = City_jp('千葉県船橋市三山２－２－１') #住所を与えて、City_jpクラスのインスタンスmy_addressを作ります\n",
    "print(my_address.name) # 住所のname属性を取り出します。\n",
    "print(my_address.prefecture())\n",
    "# 上の行は、県名を抜き出します\n",
    "# prefectureの引数は一見空っぽですが、実際はmy_addressオブジェクトそのものです。self属性を最初に定義しているからです。\n",
    "print(my_address.city())\n",
    "# 上の行は、市名を抜き出します"
   ]
  },
  {
   "cell_type": "markdown",
   "id": "789646f1-c37c-49ad-8d61-969f8c143aeb",
   "metadata": {},
   "source": [
    "何をしたいのかは明らかだと思います。方法はまったく不十分ではあります。郡や区には対応していません。対応したとしても注意すべき例が結構あります（例：長野県小県（ちいさがた）郡, 三重県四日市市, など）"
   ]
  },
  {
   "cell_type": "markdown",
   "id": "da7f3b99-d552-4bbf-8084-5a0005f4e385",
   "metadata": {},
   "source": [
    "このように、クラスを定義することによって、データそのものに、データ処理の方法を付け加えることができます。"
   ]
  },
  {
   "cell_type": "markdown",
   "id": "084afb57-3af0-4083-a481-98c73de5c2ca",
   "metadata": {},
   "source": [
    "## モジュールの使い方 （テキスト１０８頁～）"
   ]
  },
  {
   "cell_type": "markdown",
   "id": "8084e813-0b3a-4cf2-b206-dd9a1e63f3be",
   "metadata": {},
   "source": [
    "すでに、「***import***　～」という形式の文を使っていますが、これは、Pythonを起動したときから使えるもの以外の「**モジュール**」(module)を利用するための「**インポート**」(import, 取り込む)命令です。"
   ]
  },
  {
   "cell_type": "markdown",
   "id": "ac30219d-ea59-47f6-8526-c97312e16a5b",
   "metadata": {},
   "source": [
    "モジュールとは、Pythonで書いたプログラム群のことです。モジュールをインポートするときは、通常、より大きなモジュールである「**ライブラリ**」（library）単位で行います。  \n",
    "通常 ***import モジュール名***　でインポートをおこないます。"
   ]
  },
  {
   "cell_type": "code",
   "execution_count": 15,
   "id": "067de1ea-cd5c-4b02-a7f5-46d06c8793aa",
   "metadata": {},
   "outputs": [
    {
     "name": "stdout",
     "output_type": "stream",
     "text": [
      "2022-04-26\n"
     ]
    }
   ],
   "source": [
    "import datetime # テキスト109頁参照\n",
    "print(datetime.date.today())"
   ]
  },
  {
   "cell_type": "markdown",
   "id": "1ca7e230-f695-4b95-810c-f09d28b70e47",
   "metadata": {},
   "source": [
    "モジュールの一部（サブモジュール）をインポートすることもできます。***from モジュール名 import サブモジュール名*** のようにします。"
   ]
  },
  {
   "cell_type": "code",
   "execution_count": 16,
   "id": "c546c53a-246b-448e-a5df-8bec6aa8b7e6",
   "metadata": {},
   "outputs": [
    {
     "name": "stdout",
     "output_type": "stream",
     "text": [
      "2022-04-26\n"
     ]
    }
   ],
   "source": [
    "from datetime import date\n",
    "print(date.today())"
   ]
  },
  {
   "cell_type": "markdown",
   "id": "b2a49426-72d2-44c4-ab57-873e70a4dc54",
   "metadata": {},
   "source": [
    "モジュールの名前が短いほうがプログラムを書きやすいので as によって別名をつけることもあります。  \n",
    "次の例は、行列の回で扱いました。"
   ]
  },
  {
   "cell_type": "code",
   "execution_count": 102,
   "id": "b3caa011-f22b-4136-9ec7-2420674acb85",
   "metadata": {},
   "outputs": [
    {
     "name": "stdout",
     "output_type": "stream",
     "text": [
      "[[1 2]\n",
      " [2 3]\n",
      " [3 4]]\n"
     ]
    }
   ],
   "source": [
    "# numpyをインポートしてnpという別名をつける\n",
    "import numpy as np\n",
    "# 3行2列の行列を定義する\n",
    "matrix_a = np.array([[1,2],[2,3],[3,4]])\n",
    "print(matrix_a)"
   ]
  },
  {
   "cell_type": "markdown",
   "id": "04a78686-86e7-4638-9d41-43ff636dd423",
   "metadata": {},
   "source": [
    "## 入出力"
   ]
  },
  {
   "cell_type": "markdown",
   "id": "72091c80-bc23-4da0-99bf-8485b16bcb55",
   "metadata": {},
   "source": [
    "参考書「Pythonによる統計分析入門」（山内長承著, オーム社, 2018年）の176ページで出生率と死亡率との関係を扱っています。これの表のデータが'year_birth_death.csv'というCSV形式のテキストファイルに入っているとします。このファイルを読み込んでみましょう。"
   ]
  },
  {
   "cell_type": "markdown",
   "id": "65b86697-f2c7-446e-97b9-7857f1dcc323",
   "metadata": {},
   "source": [
    "Jupyter Notebookを利用していれば、Notebookフォルダーの中にこのファイルをコピーすると、ノートの一覧と並んでCSVファイルも表示されます。そして、ファイル名をダブルクリックすると内容を表示できます。１つの行が３列からなるデータだとわかります。最初の列が年、２列目が出生率、３列目が死亡率、です。"
   ]
  },
  {
   "cell_type": "markdown",
   "id": "34502295-a9b3-4708-aadf-f2d3424cc114",
   "metadata": {},
   "source": [
    "これをNumPyの<strong><em>genfromtxt()</em></strong>関数で読み込むと数値の行列ができます（CSVファイルを読み込む方法は他にもあります）。  \n",
    "次の例で、<em>genfromtxt()</em>の最初の引数がファイル名です。  \n",
    "また、引数としてさまざまなオプションを必要とします。***delimiter***は区切り文字、***skip_header***は最初の何行を飛ばすかを表します。このファイルでは最初の行が見出しになっていますので、１行飛ばしてデータを読み込み始めます。  \n",
    "さらに、オプション***encoding***は文字コードを表します。UTF-8のファイルを作ったつもりでも、実際には*utf-8_sig*を必要とする場合があります。"
   ]
  },
  {
   "cell_type": "code",
   "execution_count": 23,
   "id": "ba22d7e5-adf4-44f6-a1f8-c89c5d897a25",
   "metadata": {},
   "outputs": [],
   "source": [
    "import numpy as np\n",
    "x = np.genfromtxt('year_birth_death.csv', delimiter=',', skip_header=1,encoding=\"utf-8_sig\")"
   ]
  },
  {
   "cell_type": "code",
   "execution_count": 24,
   "id": "b94c9e31-f621-4fd4-adad-00a97f13f260",
   "metadata": {},
   "outputs": [
    {
     "data": {
      "text/plain": [
       "array([[1899. ,   32. ,   21.5],\n",
       "       [1900. ,   32.4,   20.8],\n",
       "       [1901. ,   33.9,   20.9],\n",
       "       [1902. ,   33.6,   21.3],\n",
       "       [1903. ,   32.7,   20.4],\n",
       "       [1904. ,   31.2,   20.7],\n",
       "       [1905. ,   31.2,   21.6],\n",
       "       [1906. ,   29.6,   20.3],\n",
       "       [1907. ,   34. ,   21.4],\n",
       "       [1908. ,   34.7,   21.5],\n",
       "       [1909. ,   34.9,   22.5],\n",
       "       [1910. ,   34.8,   21.6],\n",
       "       [1911. ,   35.1,   20.9],\n",
       "       [1912. ,   34.4,   20.5],\n",
       "       [1913. ,   34.3,   20. ],\n",
       "       [1914. ,   34.8,   21.2],\n",
       "       [1915. ,   34.1,   20.7],\n",
       "       [1916. ,   33.7,   22.2],\n",
       "       [1917. ,   33.5,   22.2],\n",
       "       [1918. ,   32.7,   27.3],\n",
       "       [1919. ,   32.3,   23.3],\n",
       "       [1920. ,   36.2,   25.4],\n",
       "       [1921. ,   35.1,   22.7],\n",
       "       [1922. ,   34.3,   22.4],\n",
       "       [1923. ,   35.2,   22.9],\n",
       "       [1924. ,   33.9,   21.3],\n",
       "       [1925. ,   34.9,   20.3],\n",
       "       [1926. ,   34.6,   19.1],\n",
       "       [1927. ,   33.4,   19.7],\n",
       "       [1928. ,   34.1,   19.8],\n",
       "       [1929. ,   32.7,   19.9],\n",
       "       [1930. ,   32.4,   18.2],\n",
       "       [1931. ,   32.1,   19. ],\n",
       "       [1932. ,   32.9,   17.7],\n",
       "       [1933. ,   31.5,   17.7],\n",
       "       [1934. ,   29.9,   18.1],\n",
       "       [1935. ,   31.6,   16.8],\n",
       "       [1936. ,   30. ,   17.5],\n",
       "       [1937. ,   30.9,   17.1],\n",
       "       [1938. ,   27.2,   17.7],\n",
       "       [1939. ,   26.6,   17.8],\n",
       "       [1940. ,   29.4,   16.5],\n",
       "       [1941. ,   31.8,   16. ],\n",
       "       [1942. ,   30.9,   16.1],\n",
       "       [1943. ,   30.9,   16.7],\n",
       "       [1947. ,   34.3,   14.6],\n",
       "       [1948. ,   33.5,   11.9],\n",
       "       [1949. ,   33. ,   11.6],\n",
       "       [1950. ,   28.1,   10.9],\n",
       "       [1951. ,   25.3,    9.9],\n",
       "       [1952. ,   23.4,    8.9],\n",
       "       [1953. ,   21.5,    8.9],\n",
       "       [1954. ,   20. ,    8.2],\n",
       "       [1955. ,   19.4,    7.8],\n",
       "       [1956. ,   18.4,    8. ],\n",
       "       [1957. ,   17.2,    8.3],\n",
       "       [1958. ,   18. ,    7.4],\n",
       "       [1959. ,   17.5,    7.4],\n",
       "       [1960. ,   17.2,    7.6],\n",
       "       [1961. ,   16.9,    7.4],\n",
       "       [1962. ,   17. ,    7.5],\n",
       "       [1963. ,   17.3,    7. ],\n",
       "       [1964. ,   17.7,    6.9],\n",
       "       [1965. ,   18.6,    7.1],\n",
       "       [1966. ,   13.7,    6.8],\n",
       "       [1967. ,   19.4,    6.8],\n",
       "       [1968. ,   18.6,    6.8],\n",
       "       [1969. ,   18.5,    6.8],\n",
       "       [1970. ,   18.8,    6.9],\n",
       "       [1971. ,   19.2,    6.6],\n",
       "       [1972. ,   19.3,    6.5],\n",
       "       [1973. ,   19.4,    6.6],\n",
       "       [1974. ,   18.6,    6.5],\n",
       "       [1975. ,   17.1,    6.3],\n",
       "       [1976. ,   16.3,    6.3],\n",
       "       [1977. ,   15.5,    6.1],\n",
       "       [1978. ,   14.9,    6.1],\n",
       "       [1979. ,   14.2,    6. ],\n",
       "       [1980. ,   13.6,    6.2],\n",
       "       [1981. ,   13. ,    6.1],\n",
       "       [1982. ,   12.8,    6. ],\n",
       "       [1983. ,   12.7,    6.2],\n",
       "       [1984. ,   12.5,    6.2],\n",
       "       [1985. ,   11.9,    6.3],\n",
       "       [1986. ,   11.4,    6.2],\n",
       "       [1987. ,   11.1,    6.2],\n",
       "       [1988. ,   10.8,    6.5],\n",
       "       [1989. ,   10.2,    6.4],\n",
       "       [1990. ,   10. ,    6.7],\n",
       "       [1991. ,    9.9,    6.7],\n",
       "       [1992. ,    9.8,    6.9],\n",
       "       [1993. ,    9.6,    7.1],\n",
       "       [1994. ,   10. ,    7.1],\n",
       "       [1995. ,    9.6,    7.4],\n",
       "       [1996. ,    9.7,    7.2],\n",
       "       [1997. ,    9.5,    7.3],\n",
       "       [1998. ,    9.6,    7.5],\n",
       "       [1999. ,    9.4,    7.8],\n",
       "       [2000. ,    9.5,    7.7],\n",
       "       [2001. ,    9.3,    7.7],\n",
       "       [2002. ,    9.2,    7.8],\n",
       "       [2003. ,    8.9,    8. ],\n",
       "       [2004. ,    8.8,    8.2],\n",
       "       [2005. ,    8.4,    8.6],\n",
       "       [2006. ,    8.7,    8.6],\n",
       "       [2007. ,    8.6,    8.8],\n",
       "       [2008. ,    8.7,    9.1],\n",
       "       [2009. ,    8.5,    9.1],\n",
       "       [2010. ,    8.5,    9.5],\n",
       "       [2011. ,    8.3,    9.9],\n",
       "       [2012. ,    8.2,   10. ],\n",
       "       [2013. ,    8.2,   10.1],\n",
       "       [2014. ,    8. ,   10.1],\n",
       "       [2015. ,    8. ,   10.3],\n",
       "       [2016. ,    7.8,   10.5],\n",
       "       [2017. ,    7.6,   10.8],\n",
       "       [2018. ,    7.4,   11. ],\n",
       "       [2019. ,    7. ,   11.2]])"
      ]
     },
     "execution_count": 24,
     "metadata": {},
     "output_type": "execute_result"
    }
   ],
   "source": [
    "x"
   ]
  },
  {
   "cell_type": "code",
   "execution_count": 28,
   "id": "fa719d91-9cb8-4a41-987c-35e11d7b5dfe",
   "metadata": {},
   "outputs": [
    {
     "data": {
      "text/plain": [
       "array([[1899. ,   32. ,   21.5],\n",
       "       [1900. ,   32.4,   20.8],\n",
       "       [1901. ,   33.9,   20.9],\n",
       "       [1902. ,   33.6,   21.3],\n",
       "       [1903. ,   32.7,   20.4]])"
      ]
     },
     "execution_count": 28,
     "metadata": {},
     "output_type": "execute_result"
    }
   ],
   "source": [
    "# ここで、xとだけ実行すると、この行列xの中身を全部表示する。\n",
    "# 最初の５行を表示する\n",
    "x[0:5,]"
   ]
  },
  {
   "cell_type": "code",
   "execution_count": 30,
   "id": "ccb8ee9f-35f1-4070-85dd-c256698f7f43",
   "metadata": {},
   "outputs": [
    {
     "data": {
      "text/plain": [
       "118"
      ]
     },
     "execution_count": 30,
     "metadata": {},
     "output_type": "execute_result"
    }
   ],
   "source": [
    "# 行数（xにはいくつの要素（３つの値からなる配列）が含まれるか）を調べる。\n",
    "len(x)"
   ]
  },
  {
   "cell_type": "code",
   "execution_count": 6,
   "id": "6b2cce4e-3ca3-40b6-9c90-5598215f769a",
   "metadata": {},
   "outputs": [
    {
     "name": "stdout",
     "output_type": "stream",
     "text": [
      "1944\n",
      "1945\n",
      "1946\n"
     ]
    }
   ],
   "source": [
    "#１列目（year）に欠けている数字（つまりデータのない年）があるか調べる。\n",
    "col_year = x[:,0] #2次元配列の一列目だけを抜き出す、2次元データのスライス指定でカンマの前が行、後ろが列を指定\n",
    "year_min = int(min(col_year)) #最も古い年\n",
    "year_max = int(max(col_year)) #最も新しい年\n",
    "year_range = range(year_min, year_max) #最も古い年から最も新しい年までの範囲のリスト\n",
    "for year in year_range:\n",
    "    if year not in col_year: #抜き出した年のデータに存在していない年を表示\n",
    "        print(year)"
   ]
  },
  {
   "cell_type": "markdown",
   "id": "5480f4b1-338a-4fc1-bced-fd293264a128",
   "metadata": {},
   "source": [
    "これらの年がどうして欠けているのかは知っていますね？"
   ]
  },
  {
   "cell_type": "code",
   "execution_count": null,
   "id": "1b0e2e04-dd7e-4bdf-952b-263bb58b486d",
   "metadata": {},
   "outputs": [],
   "source": []
  },
  {
   "cell_type": "code",
   "execution_count": null,
   "id": "af31b046-26a5-4d78-85bd-c86fab016d6a",
   "metadata": {},
   "outputs": [],
   "source": []
  }
 ],
 "metadata": {
  "kernelspec": {
   "display_name": "Python 3 (ipykernel)",
   "language": "python",
   "name": "python3"
  },
  "language_info": {
   "codemirror_mode": {
    "name": "ipython",
    "version": 3
   },
   "file_extension": ".py",
   "mimetype": "text/x-python",
   "name": "python",
   "nbconvert_exporter": "python",
   "pygments_lexer": "ipython3",
   "version": "3.9.9"
  }
 },
 "nbformat": 4,
 "nbformat_minor": 5
}
