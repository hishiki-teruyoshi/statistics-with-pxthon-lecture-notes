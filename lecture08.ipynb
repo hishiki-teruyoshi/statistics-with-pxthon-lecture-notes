{
 "cells": [
  {
   "cell_type": "markdown",
   "id": "e696f283-6529-4313-a96c-30df9aac0312",
   "metadata": {},
   "source": [
    "# 第８回　Pythonで統計学（基本統計量）"
   ]
  },
  {
   "cell_type": "markdown",
   "id": "5fbaf429-3607-4b53-b345-b465b6935bd4",
   "metadata": {},
   "source": [
    "今回の内容は次のとおりです。  \n",
    "- 平均値、中央値、分散、標準偏差といった基本統計量をPythonで求める方法  \n",
    "- ヒストグラム、箱ひげ図の書き方"
   ]
  },
  {
   "cell_type": "markdown",
   "id": "cb8ee71e-d2aa-4d58-b254-c7cd6df8cf9c",
   "metadata": {},
   "source": [
    "## 基本統計量の求め方"
   ]
  },
  {
   "cell_type": "markdown",
   "id": "ccc41a04-ac8d-4c9f-97da-748cec504b38",
   "metadata": {},
   "source": [
    "### パッケージのインポート"
   ]
  },
  {
   "cell_type": "markdown",
   "id": "23fb219b-5464-418d-b26c-f5627e4047b6",
   "metadata": {},
   "source": [
    "データを配列（行列）に格納するためのパッケージであるnumpyとあわせて、科学技術計算をおこなうためのパッケージであるscipyもインポートします。"
   ]
  },
  {
   "cell_type": "code",
   "execution_count": 1,
   "id": "41980772-11d7-46fa-b53e-bc6a240b0b51",
   "metadata": {},
   "outputs": [],
   "source": [
    "import numpy as np\n",
    "import scipy as sp"
   ]
  },
  {
   "cell_type": "markdown",
   "id": "1ecc04b7-c8ef-4ff5-aad8-cef954efc15a",
   "metadata": {},
   "source": [
    "### １変量データの管理"
   ]
  },
  {
   "cell_type": "markdown",
   "id": "0b1a30ab-9af6-4250-95f2-cc164b1a5d87",
   "metadata": {},
   "source": [
    "身長だけ、とか、体重だけ、とかのように、１種類の変数の値だけが含まれるデータを１変量データといいます。データは、numpyのアレイ(array)すなわち配列に格納します。例えば、sample_dataという変数に、１０個体からの何かの値を格納しましょう。"
   ]
  },
  {
   "cell_type": "code",
   "execution_count": 2,
   "id": "9658e13e-89ae-4bb6-b726-fdd023c40015",
   "metadata": {},
   "outputs": [
    {
     "data": {
      "text/plain": [
       "array([2, 4, 3, 4, 4, 3, 6, 5, 5, 4])"
      ]
     },
     "execution_count": 2,
     "metadata": {},
     "output_type": "execute_result"
    }
   ],
   "source": [
    "sample_data = np.array([2,4,3,4,4,3,6,5,5,4])\n",
    "sample_data"
   ]
  },
  {
   "cell_type": "markdown",
   "id": "22ad0f7f-3c10-41cb-9e92-467d8c18a156",
   "metadata": {},
   "source": [
    "前回までにも、numpyのアレイ（配列）は行列を表すために使ってきました。この配列は、１行の行列でもあります。"
   ]
  },
  {
   "cell_type": "markdown",
   "id": "5947c3c6-b2fa-4264-80a2-f84fb2ac1673",
   "metadata": {},
   "source": [
    "### データを記述する諸指標（１）"
   ]
  },
  {
   "cell_type": "markdown",
   "id": "b059e8cf-f8fc-4c83-b0ba-b343736fd16a",
   "metadata": {},
   "source": [
    "サンプルのサイズ、すなわち、データの件数を数えるには、Python標準のlen()関数を用います。"
   ]
  },
  {
   "cell_type": "code",
   "execution_count": 3,
   "id": "cd42b669-20f3-4e97-9181-760907d9aa7e",
   "metadata": {},
   "outputs": [
    {
     "data": {
      "text/plain": [
       "10"
      ]
     },
     "execution_count": 3,
     "metadata": {},
     "output_type": "execute_result"
    }
   ],
   "source": [
    "len(sample_data)"
   ]
  },
  {
   "cell_type": "markdown",
   "id": "05800d52-7f29-4a39-bb27-536b128fb8fd",
   "metadata": {},
   "source": [
    "合計を計算するには、Python標準のsum()関数を利用します。"
   ]
  },
  {
   "cell_type": "code",
   "execution_count": 4,
   "id": "e0cec410-0a88-4ddb-9591-67653b4f7b4b",
   "metadata": {},
   "outputs": [
    {
     "data": {
      "text/plain": [
       "40"
      ]
     },
     "execution_count": 4,
     "metadata": {},
     "output_type": "execute_result"
    }
   ],
   "source": [
    "sum(sample_data)"
   ]
  },
  {
   "cell_type": "markdown",
   "id": "85168407-c933-4b45-bcfd-1be02e062282",
   "metadata": {},
   "source": [
    "平均値の計算にはnumpy（またはscipy）のmean()関数を利用します。"
   ]
  },
  {
   "cell_type": "code",
   "execution_count": 5,
   "id": "f2abbb3b-c7de-4681-ad02-d2ebdb0f2081",
   "metadata": {},
   "outputs": [
    {
     "data": {
      "text/plain": [
       "4.0"
      ]
     },
     "execution_count": 5,
     "metadata": {},
     "output_type": "execute_result"
    }
   ],
   "source": [
    "np.mean(sample_data)"
   ]
  },
  {
   "cell_type": "markdown",
   "id": "788be7ba-bf32-439f-a718-c919b43adb8c",
   "metadata": {},
   "source": [
    "中央値の計算には、numpy（またはscipy）のmedian()関数を利用します。"
   ]
  },
  {
   "cell_type": "code",
   "execution_count": 6,
   "id": "68e79d76-7d32-4d00-af7c-095e79fe550f",
   "metadata": {},
   "outputs": [
    {
     "data": {
      "text/plain": [
       "4.0"
      ]
     },
     "execution_count": 6,
     "metadata": {},
     "output_type": "execute_result"
    }
   ],
   "source": [
    "np.median(sample_data)"
   ]
  },
  {
   "cell_type": "markdown",
   "id": "2681eced-6461-40a8-aef7-70315818833c",
   "metadata": {},
   "source": [
    "### データを記述する諸指標（２）：分散と標準偏差"
   ]
  },
  {
   "cell_type": "markdown",
   "id": "e717ff5a-e028-42d6-926f-952ea628134c",
   "metadata": {},
   "source": [
    "#### 分散（標本分散）"
   ]
  },
  {
   "cell_type": "markdown",
   "id": "a385ed13-9e44-42c1-9c4b-7ce928454ca0",
   "metadata": {},
   "source": [
    "**分散（標本分散）**を計算しましょう。分散とは、「データが平均値からどれくらい離れてばらついているか」を表す指標です。  \n",
    "それぞれの値と平均との差（偏差）を２乗したもの（偏差平方）の平均です。\n",
    "numpy（またはscipy）のvar()関数を利用します。"
   ]
  },
  {
   "cell_type": "code",
   "execution_count": 7,
   "id": "67658183-847c-45dc-a8d8-c9a6911fa43c",
   "metadata": {},
   "outputs": [
    {
     "data": {
      "text/plain": [
       "1.2"
      ]
     },
     "execution_count": 7,
     "metadata": {},
     "output_type": "execute_result"
    }
   ],
   "source": [
    "np.var(sample_data)"
   ]
  },
  {
   "cell_type": "markdown",
   "id": "2b893c6d-ef4b-4441-97c3-1b9c0e70e4a8",
   "metadata": {},
   "source": [
    "var()関数を使わずに、上に述べた分散（標本分散）の定義に従って計算すると次のようになります。"
   ]
  },
  {
   "cell_type": "code",
   "execution_count": 12,
   "id": "27d73851-2f7e-4f2d-9a56-5351e21bf15b",
   "metadata": {},
   "outputs": [
    {
     "name": "stdout",
     "output_type": "stream",
     "text": [
      "1.2\n"
     ]
    }
   ],
   "source": [
    "sample_size = len(sample_data) #データの個数\n",
    "sample_sum = sum(sample_data) #データの総和\n",
    "sample_mean = sample_sum/sample_size #データの平均\n",
    "sum_square_deviation = sum((sample_data - sample_mean)**2) #それぞれの値の平均との差の２乗の和(偏差平方和)\n",
    "# 上の行の説明：\n",
    "# numpyのアレイ（配列）のすべての要素について、平均との差を計算して、それを２乗したものの、総和を求める。\n",
    "sample_var = sum_square_deviation/sample_size #標本分散\n",
    "print(sample_var)"
   ]
  },
  {
   "cell_type": "markdown",
   "id": "d51eb9b6-87b0-414e-8edf-544d3b429ad0",
   "metadata": {},
   "source": [
    "numpy.array()でデータを定義しているので、「それぞれの値の平均との差の２乗の和」のプログラムが楽に書けました。  \n",
    "「配列のそれぞれの要素からスカラーを引き算して２乗する」という命令を、配列の「ブロードキャスト」機能を利用して１行で書けるからです。  \n",
    "一方、np.arrayではなくPython標準のリストでデータを定義すると、データをイテレータとして（つまり個々のデータに対して）、平均値との差の２乗を計算することが必要になります。  \n",
    "Python標準のリストでデータを定義すると、上のプログラムは例えば下のように書く必要があるでしょう。"
   ]
  },
  {
   "cell_type": "code",
   "execution_count": 10,
   "id": "32a76696-f3db-4709-b112-ba7e1160ac2e",
   "metadata": {},
   "outputs": [
    {
     "name": "stdout",
     "output_type": "stream",
     "text": [
      "1.2\n"
     ]
    }
   ],
   "source": [
    "sample_data_tmp = [2,4,3,4,4,3,6,5,5,4]\n",
    "sample_size_tmp = len(sample_data_tmp)\n",
    "sample_sum_tmp = sum(sample_data_tmp)\n",
    "sample_mean_tmp = sample_sum_tmp/sample_size_tmp\n",
    "sample_square_deviation_tmp = [(i - sample_mean_tmp)**2 for i in sample_data_tmp ] # ここに注目\n",
    "sum_square_deviation_tmp = sum(sample_square_deviation_tmp)\n",
    "sample_var_tmp = sum_square_deviation_tmp/sample_size_tmp\n",
    "print(sample_var_tmp)"
   ]
  },
  {
   "cell_type": "markdown",
   "id": "5ea9f280-ac05-46fb-be41-4fe713d5669a",
   "metadata": {},
   "source": [
    "ところで、有名なので式変形は省略しますが、標本値の「平均からのずれの２乗の和」（**偏差平方和**, deviation sum of squares）は、標本値の「２乗の和」（平方和, sum of squares）から、「平均値の２乗ｘ標本数」を引いた値に等しくなります。   \n",
    "つまり、（標本の）分散は、「（標本値の）２乗の平均　－　平均の２乗」です。計算してみましょう。"
   ]
  },
  {
   "cell_type": "code",
   "execution_count": 11,
   "id": "cb9ee16d-31a5-4c4f-a17d-3a3ee78ce377",
   "metadata": {},
   "outputs": [
    {
     "data": {
      "text/plain": [
       "1.1999999999999993"
      ]
     },
     "execution_count": 11,
     "metadata": {},
     "output_type": "execute_result"
    }
   ],
   "source": [
    "sum_sq_tmp = sum([i**2 for i in sample_data_tmp ])\n",
    "sum_sq_tmp/sample_size_tmp  - sample_mean_tmp**2"
   ]
  },
  {
   "cell_type": "markdown",
   "id": "a4d86cc8-7647-4241-a0be-2e98d8478bc5",
   "metadata": {},
   "source": [
    "ここでは説明を省略しますが、次の計算の誤差が、値の違いの原因です。このように、割り算による誤差は容易に生じますので、場合によっては注意が必要です。"
   ]
  },
  {
   "cell_type": "code",
   "execution_count": 44,
   "id": "f92750fc-5be3-40c6-a470-b24217d576f4",
   "metadata": {},
   "outputs": [
    {
     "data": {
      "text/plain": [
       "1.1999999999999993"
      ]
     },
     "execution_count": 44,
     "metadata": {},
     "output_type": "execute_result"
    }
   ],
   "source": [
    "172/10 - 16"
   ]
  },
  {
   "cell_type": "markdown",
   "id": "001d99ec-38e8-4ea6-af3e-51a6a6a47a1f",
   "metadata": {},
   "source": [
    "#### 標準偏差"
   ]
  },
  {
   "cell_type": "markdown",
   "id": "dbbc794c-ff80-4e3b-ade7-bd35975cf8a8",
   "metadata": {},
   "source": [
    "次に進みます  \n",
    "分散の平方根が標準偏差（standard deviation）です。上で最初に計算した分散に対して、numpyのsqrt()関数で計算してみましょう。"
   ]
  },
  {
   "cell_type": "code",
   "execution_count": 32,
   "id": "1fb81a98-b115-4a0c-8bbf-5bd0c483f77b",
   "metadata": {},
   "outputs": [
    {
     "data": {
      "text/plain": [
       "1.0954451150103321"
      ]
     },
     "execution_count": 32,
     "metadata": {},
     "output_type": "execute_result"
    }
   ],
   "source": [
    "np.sqrt(sample_var)"
   ]
  },
  {
   "cell_type": "markdown",
   "id": "86ced831-3180-4ef8-8dc1-e191c2464bd0",
   "metadata": {},
   "source": [
    "標準偏差は、データから直接、numpyのstd()関数で計算できます。"
   ]
  },
  {
   "cell_type": "code",
   "execution_count": 33,
   "id": "3aaa12ac-5d63-432f-928a-41c0673cf4a5",
   "metadata": {},
   "outputs": [
    {
     "data": {
      "text/plain": [
       "1.0954451150103321"
      ]
     },
     "execution_count": 33,
     "metadata": {},
     "output_type": "execute_result"
    }
   ],
   "source": [
    "np.std(sample_data)"
   ]
  },
  {
   "cell_type": "markdown",
   "id": "5ad31b28-0a52-4058-a021-efb8f023b791",
   "metadata": {},
   "source": [
    "#### 補足：不偏分散"
   ]
  },
  {
   "cell_type": "markdown",
   "id": "978be32b-bc1e-499c-aedb-d0f973a3bf6b",
   "metadata": {},
   "source": [
    "さて、分散（標本分散）と書いたのは、分散にはもう１種類「**不偏分散**」（unbiased variance）と呼ばれるものがあるからです。  \n",
    "データの統計的指標を求める作業の趣旨として、２つあります。ひとつは、「**記述統計**」すなわちデータの記述と要約です。もうひとつは、「**推測統計**」すなわちデータそのものというよりは、データのもとになっている集団の性質を推測することです。  "
   ]
  },
  {
   "cell_type": "markdown",
   "id": "27b24933-a33a-4505-93c3-d6eb42e54d84",
   "metadata": {},
   "source": [
    "「不偏分散」は、後者のほうに属する指標です。つまり、母集団全体の分散を知りたくて、データから「分散」を求めている場合です。   \n",
    "母集団からn個の標本を取って標本の平均を求めるとします。各々の標本の値は、母集団の期待値と分散に従って現れるものとします。  \n",
    "第１０回で改めて説明しますが、n個の標本において、(標本の値－標本平均)の２乗の総和（偏差平方和）は、**母集団の分散の$n$倍ではなくて$(n-1)$倍になります。**  \n",
    "ですから、標本から母集団の分散を推定するためには、(標本の値－標本平均)の２乗の総和（偏差平方和）を(標本の数-1)で割ります。これを「不偏分散」といいます。\n",
    "sample_dataの不偏分散を求めましょう。"
   ]
  },
  {
   "cell_type": "code",
   "execution_count": 13,
   "id": "f85a8ef1-5b3c-490b-8e35-42eb5fefc816",
   "metadata": {},
   "outputs": [
    {
     "data": {
      "text/plain": [
       "1.3333333333333333"
      ]
     },
     "execution_count": 13,
     "metadata": {},
     "output_type": "execute_result"
    }
   ],
   "source": [
    "sample_uvar = sum_square_deviation/(sample_size - 1)\n",
    "sample_uvar"
   ]
  },
  {
   "cell_type": "markdown",
   "id": "d9c4e797-8e80-41bf-9b11-c543703be33f",
   "metadata": {},
   "source": [
    "標本の数-1を**自由度**(degree of freedom）といいます。numpyのvar()関数で**オプションddofの値**を、標本の数 - 自由度、すなわち、この場合だと**ddof=1と設定する**と、不偏分散が求められます。デフォルト（ddof=0）と比べて値が大きいのがわかるでしょう。"
   ]
  },
  {
   "cell_type": "code",
   "execution_count": 14,
   "id": "5b614461-b99c-4411-b330-d39741887a67",
   "metadata": {},
   "outputs": [
    {
     "data": {
      "text/plain": [
       "1.3333333333333333"
      ]
     },
     "execution_count": 14,
     "metadata": {},
     "output_type": "execute_result"
    }
   ],
   "source": [
    "np.var(sample_data, ddof=1)"
   ]
  },
  {
   "cell_type": "markdown",
   "id": "1a0092ea-0f6f-490b-823f-eb9418a6f516",
   "metadata": {},
   "source": [
    "#### 補足（２）：標準誤差"
   ]
  },
  {
   "cell_type": "markdown",
   "id": "aa14919c-0448-4117-9440-287140bc4dfc",
   "metadata": {},
   "source": [
    "不偏分散を用いて、標本の**標準誤差**を求めることができます。説明は省略しますが、**標本から推定される平均値の分散は、標本の大きさに反比例します**。従って、**推定される平均の標準偏差は、標本の大きさの平方根に反比例します**。これを反映する指標が**標準誤差**です。  \n",
    "標準誤差とは、**母集団の標準偏差**（**不偏分散の平方根**）を**標本数の平方根で割ったもの**です。標準誤差は、標本から推定される母集団の平均値の、ずれの可能性の大きさ（平均値の分散の平方根すなわち標準偏差）をあらわし、標本数が多くなるほど分母が大きくなりますから、ゼロに近づきます。   \n",
    "では、まず、母集団の標準偏差を定義-不偏分散の平方根-に従って求めましょう"
   ]
  },
  {
   "cell_type": "code",
   "execution_count": 52,
   "id": "6c9ff7d3-80ec-499d-b383-8a88c35eb943",
   "metadata": {},
   "outputs": [
    {
     "data": {
      "text/plain": [
       "1.1547005383792515"
      ]
     },
     "execution_count": 52,
     "metadata": {},
     "output_type": "execute_result"
    }
   ],
   "source": [
    "np.sqrt(np.var(sample_data,ddof=1))"
   ]
  },
  {
   "cell_type": "markdown",
   "id": "69a7c2d8-d297-49c7-9224-546563790a1c",
   "metadata": {},
   "source": [
    "母集団の標準偏差はnumpyのstd()においてオプションddof=1で求められます。デフォルト（ddof=0）と値を比べると大きくなっているのがわかります。"
   ]
  },
  {
   "cell_type": "code",
   "execution_count": 48,
   "id": "e2e0d260-205e-4031-b271-dbba71e0128a",
   "metadata": {},
   "outputs": [
    {
     "data": {
      "text/plain": [
       "1.1547005383792515"
      ]
     },
     "execution_count": 48,
     "metadata": {},
     "output_type": "execute_result"
    }
   ],
   "source": [
    "np.std(sample_data, ddof=1)"
   ]
  },
  {
   "cell_type": "markdown",
   "id": "8ff40f79-5423-4ba2-8f8f-13958d1f9992",
   "metadata": {},
   "source": [
    "ここから標準誤差を求めると次のようになります。"
   ]
  },
  {
   "cell_type": "code",
   "execution_count": 53,
   "id": "abb9cc32-71c3-4814-a8f9-a0ff5e148e18",
   "metadata": {},
   "outputs": [
    {
     "data": {
      "text/plain": [
       "0.3651483716701107"
      ]
     },
     "execution_count": 53,
     "metadata": {},
     "output_type": "execute_result"
    }
   ],
   "source": [
    "np.std(sample_data, ddof=1)/np.sqrt(len(sample_data))"
   ]
  },
  {
   "cell_type": "markdown",
   "id": "4e3eaeda-99bf-47d5-88e9-65200e7ffa3b",
   "metadata": {},
   "source": [
    "なお、scipy.stats.sem()関数で一発で求められます。"
   ]
  },
  {
   "cell_type": "code",
   "execution_count": 2,
   "id": "8fba9c7c-71f5-47f7-a96f-80b878f86d03",
   "metadata": {},
   "outputs": [
    {
     "data": {
      "text/plain": [
       "0.3651483716701107"
      ]
     },
     "execution_count": 2,
     "metadata": {},
     "output_type": "execute_result"
    }
   ],
   "source": [
    "import numpy as np\n",
    "from scipy.stats import stats\n",
    "sample_data = np.array([2,4,3,4,4,3,6,5,5,4])\n",
    "stats.sem(sample_data,ddof=1)"
   ]
  },
  {
   "cell_type": "markdown",
   "id": "0bfa9001-56d5-4346-81f9-f784a4e311f7",
   "metadata": {},
   "source": [
    "### データを記述する諸指標（３）：四分位点など"
   ]
  },
  {
   "cell_type": "markdown",
   "id": "26123312-b6ba-4f35-93a5-10317ad8156a",
   "metadata": {},
   "source": [
    "後述します箱ひげ図にも関係してきますが、データの50%パーセンタイル、つまり、最下位から50%にあたるデータはどれでしょうか。"
   ]
  },
  {
   "cell_type": "code",
   "execution_count": 54,
   "id": "2df3d826-48eb-4747-b88a-5bd243c03ca3",
   "metadata": {},
   "outputs": [],
   "source": [
    "from scipy import stats"
   ]
  },
  {
   "cell_type": "code",
   "execution_count": 58,
   "id": "c1af1d2b-4816-4ec1-9b37-e10e01bd66ab",
   "metadata": {},
   "outputs": [
    {
     "data": {
      "text/plain": [
       "5.0"
      ]
     },
     "execution_count": 58,
     "metadata": {},
     "output_type": "execute_result"
    }
   ],
   "source": [
    "sample_data_2 = [1,2,3,4,5,6,7,8,9]\n",
    "stats.scoreatpercentile(sample_data_2,50)"
   ]
  },
  {
   "cell_type": "markdown",
   "id": "d876277a-23f5-4ef8-b316-6ecdd2895005",
   "metadata": {},
   "source": [
    "これはすなわち中央値（メジアン）のことです。"
   ]
  },
  {
   "cell_type": "code",
   "execution_count": 59,
   "id": "02847534-d5a9-4e45-ba91-00eb76a0bac3",
   "metadata": {},
   "outputs": [
    {
     "data": {
      "text/plain": [
       "5.0"
      ]
     },
     "execution_count": 59,
     "metadata": {},
     "output_type": "execute_result"
    }
   ],
   "source": [
    "np.median(sample_data_2)"
   ]
  },
  {
   "cell_type": "markdown",
   "id": "cd1ab0be-67b4-4195-ad39-bacf7cd965fd",
   "metadata": {},
   "source": [
    "同様にして、50%パーセンタイル点のさらに50%パーセンタイル点つまり25パーセンタイル点（第１四分位点）は3になります。確認しましょう。"
   ]
  },
  {
   "cell_type": "code",
   "execution_count": 61,
   "id": "ab682945-1028-4ec3-8077-85d022f915f3",
   "metadata": {},
   "outputs": [
    {
     "data": {
      "text/plain": [
       "3.0"
      ]
     },
     "execution_count": 61,
     "metadata": {},
     "output_type": "execute_result"
    }
   ],
   "source": [
    "stats.scoreatpercentile(sample_data_2,25)"
   ]
  },
  {
   "cell_type": "markdown",
   "id": "5fcf1a62-a18e-4ddf-9029-d276db87f26f",
   "metadata": {},
   "source": [
    "### 練習問題（１）"
   ]
  },
  {
   "cell_type": "markdown",
   "id": "d1d87002-02a1-44f9-a0e3-932b7cd099c5",
   "metadata": {},
   "source": [
    "次の表は、２回行った試験の点数です。このデータについて次の問いに答えてください。"
   ]
  },
  {
   "cell_type": "markdown",
   "id": "4ad7e11f-478d-44e2-bee9-8b244acb74ca",
   "metadata": {},
   "source": [
    "なお、「**標準化得点**」とは、平均と標準偏差を利用して、各観測値が平均からどの程度離れているかを測る指標で、次のように定義されます。  \n",
    "$$標準化得点 = \\frac{個々の観測値 - 平均}{標準偏差} = \\frac{x_i - \\bar{x}}{s}$$  \n",
    "ただし、$i = 1, 2, ..., n$で、$s^2$は分散（標本分散）です。"
   ]
  },
  {
   "cell_type": "markdown",
   "id": "6bb5d0e2-160a-4c50-8407-410779f4711a",
   "metadata": {},
   "source": [
    "|学生|１回目（点）|２回目（点)|\n",
    "|----|------|------|\n",
    "|A|30|45|\n",
    "|B|30|60|\n",
    "|C|40|50|\n",
    "|D|40|65|\n",
    "|E|50|70|\n",
    "|F|50|50|\n",
    "|G|60|55|\n",
    "|H|60|60|\n",
    "|I|70|70|\n",
    "|J|70|75|"
   ]
  },
  {
   "cell_type": "markdown",
   "id": "9c2d62c1-032f-4e92-9ecc-043cd779d5a4",
   "metadata": {},
   "source": [
    "問１　１回目の試験と２回目の試験の平均, 標準偏差（分散はデータの大きさ$n$で割る）を求めましょう"
   ]
  },
  {
   "cell_type": "code",
   "execution_count": 1,
   "id": "cdb5497e-53f1-4932-9e64-4855a0d06050",
   "metadata": {},
   "outputs": [
    {
     "name": "stdout",
     "output_type": "stream",
     "text": [
      "1回目の試験の平均: 50.0\n",
      "2回目の試験の平均: 60.0\n",
      "1回目の試験の標準偏差: 14.142135623730951\n",
      "2回目の試験の標準偏差: 9.486832980505138\n"
     ]
    }
   ],
   "source": [
    "import numpy as np\n",
    "import scipy as sp\n",
    "# 1回目, 2回目の試験の点数を\n",
    "# np.array([点数11, 点数12, ..., 点数1n ], [点数21, 点数2, ..., 点数2n])とします。\n",
    "test_scores = np.array([[30, 30, 40, 40, 50, 50, 60, 60, 70, 70],\n",
    "                       [45, 60, 50, 65, 70, 50, 55, 60, 70, 75]])\n",
    "#np.shape(test_scores) # 行列の形を確認\n",
    "# 1回目の試験の平均: mu_1, 2回目の試験の平均: mu_2とします。\n",
    "mu_1 = np.mean(test_scores[0])\n",
    "mu_2 = np.mean(test_scores[1])\n",
    "print(\"1回目の試験の平均:\",mu_1)\n",
    "print(\"2回目の試験の平均:\",mu_2)\n",
    "#１回目の試験の標準偏差: d_1, 2回目の試験の標準偏差：d_2とします\n",
    "d_1 = np.std(test_scores[0])\n",
    "d_2 = np.std(test_scores[1])\n",
    "print(\"1回目の試験の標準偏差:\",d_1)\n",
    "print(\"2回目の試験の標準偏差:\",d_2)"
   ]
  },
  {
   "cell_type": "markdown",
   "id": "07229905-3bcd-4d7a-91fb-8d68da61086a",
   "metadata": {},
   "source": [
    "問２　Cさんの１回目の試験と２回目の試験の標準化得点を求めましょう。"
   ]
  },
  {
   "cell_type": "code",
   "execution_count": 2,
   "id": "aeead21d-1235-42cc-8a35-5e1d62ba8d85",
   "metadata": {},
   "outputs": [
    {
     "name": "stdout",
     "output_type": "stream",
     "text": [
      "Cさんの1回目の標準化得点: -0.7071067811865475\n",
      "Cさんの2回目の標準化得点: -1.0540925533894598\n"
     ]
    }
   ],
   "source": [
    "# mean_1: 1回目の平均点\n",
    "# mean_2: ２回目の平均点\n",
    "# st_dev_1: １回目の（標本）標準偏差\n",
    "# st_dev_2: ２回目の（標本）標準偏差\n",
    "mean_1 = np.mean(test_scores[0])\n",
    "mean_2 = np.mean(test_scores[1])\n",
    "st_dev_1 = np.sqrt(np.var(test_scores[0]))\n",
    "st_dev_2 = np.sqrt(np.var(test_scores[1]))\n",
    "#Cさんの１回目の点\n",
    "score_C_1 = test_scores[0][2]\n",
    "#Cさんの２回目の点\n",
    "score_C_2 = test_scores[1][2]\n",
    "#Cさんの1回目の標準化得点\n",
    "z_C_1 = (score_C_1 - mean_1)/st_dev_1\n",
    "#Cさんの2回目の標準化得点\n",
    "z_C_2 = (score_C_2 - mean_2)/st_dev_2\n",
    "#結果出力\n",
    "print(\"Cさんの1回目の標準化得点:\",z_C_1)\n",
    "print(\"Cさんの2回目の標準化得点:\",z_C_2)"
   ]
  },
  {
   "cell_type": "markdown",
   "id": "2ce44797-f0c4-44f5-9d4e-1f61724a310b",
   "metadata": {},
   "source": [
    "補足：標準化得点を次のように計算したものが、「偏差値」です。\n",
    "$$偏差値 = 10\\times \\frac{x_i - \\bar{x}}{s} + 50 $$  \n",
    "ただし、$i = 1, 2, ..., n$で、$s^2$は分散（標本分散）です。"
   ]
  },
  {
   "cell_type": "markdown",
   "id": "79a58fd6-0bbf-4f1f-abe7-9ce4dc699b19",
   "metadata": {},
   "source": [
    "## ヒストグラムと箱ひげ図"
   ]
  },
  {
   "cell_type": "markdown",
   "id": "ff998f49-65c3-4348-b73a-54aa4d496678",
   "metadata": {},
   "source": [
    "### 用いるデータについて"
   ]
  },
  {
   "cell_type": "markdown",
   "id": "60809f55-736d-4e32-a900-1f2d3bbb1997",
   "metadata": {},
   "source": [
    "今回用いるデータは、2018年12月における、東京、名古屋、大阪、広島、福岡の、日別の平均気温です。２０１９年１１月に実施された統計検定２級の問題がこれを扱っていました。  \n",
    "気象庁の「過去の気象データ検索」から取得しました、ファイル名は「temperature_1812.csv」です。  \n",
    "このファイルはJupyter Notebookの画面で、ノートブックと同様に一覧の中に見えます。UTF-8でエンコーディングしてあるので、それをダブルクリックすると、内容を見ることができます。  \n",
    "都市ごとに５列のデータがあります。それぞれの列は、３１行（つまり１日から３１日までそれぞれの日）の平均気温データを収めています。  "
   ]
  },
  {
   "cell_type": "markdown",
   "id": "26fb6ec9-afe0-483f-897d-8c5de91aa10f",
   "metadata": {},
   "source": [
    "### データの読み込み"
   ]
  },
  {
   "cell_type": "markdown",
   "id": "da939e2f-c78b-49a1-b1f9-43b68d581320",
   "metadata": {},
   "source": [
    "ファイルを作成したときの文字コードに適した文字コードオプションをつけて読み込みます。"
   ]
  },
  {
   "cell_type": "code",
   "execution_count": 3,
   "id": "ec5dca90-a3ba-4b15-b095-29290c74ee66",
   "metadata": {},
   "outputs": [],
   "source": [
    "import numpy as np\n",
    "temp_data = np.genfromtxt('temperature_1812.csv', delimiter=',', skip_header=1,encoding=\"utf-8_sig\")\n",
    "# 文字コードに注意。"
   ]
  },
  {
   "cell_type": "markdown",
   "id": "0bed2bb0-0561-4120-bfd8-3a877d3b543d",
   "metadata": {},
   "source": [
    "このデータが、31行5列の行列であることを確かめましょう。"
   ]
  },
  {
   "cell_type": "code",
   "execution_count": 4,
   "id": "fe2a6f89-8d95-4659-b885-ae68f6abbb99",
   "metadata": {},
   "outputs": [
    {
     "data": {
      "text/plain": [
       "(31, 5)"
      ]
     },
     "execution_count": 4,
     "metadata": {},
     "output_type": "execute_result"
    }
   ],
   "source": [
    "temp_data.shape"
   ]
  },
  {
   "cell_type": "markdown",
   "id": "a0658014-d48c-44d4-9fc1-553b0c3291f3",
   "metadata": {},
   "source": [
    "各列の最大値、最小値を求めましょう。度数分布表やヒストグラムの区間を決めるときに使います。"
   ]
  },
  {
   "cell_type": "code",
   "execution_count": 5,
   "id": "bef99d93-4bec-40b0-96d8-67704e782f9e",
   "metadata": {},
   "outputs": [
    {
     "name": "stdout",
     "output_type": "stream",
     "text": [
      "[17.7, 3.3]\n",
      "[15.7, 1.5]\n",
      "[19.1, 4.1]\n",
      "[16.8, 3.1]\n",
      "[19.7, 3.8]\n"
     ]
    }
   ],
   "source": [
    "#東京, 名古屋, 大阪, 広島, 福岡の順に最大値・最小値を出力する\n",
    "for i in range(0,temp_data.shape[1]):\n",
    "    print([max(temp_data[:,i]),min(temp_data[:,i])])"
   ]
  },
  {
   "cell_type": "markdown",
   "id": "316a039d-2393-4228-9fda-8797cf5e2835",
   "metadata": {},
   "source": [
    "それでは、どの都市のデータを扱っているか忘れないために、各列を都市を名前とする変数で代表させましょう。1列め、２列め, ３列め, ...の添字は0, 1, 2, ...であることに気をつけます。"
   ]
  },
  {
   "cell_type": "code",
   "execution_count": 6,
   "id": "e10aaffc-0b9b-47c2-b782-8695ae66a7f9",
   "metadata": {},
   "outputs": [],
   "source": [
    "tokyo = temp_data[:,0]\n",
    "nagoya = temp_data[:,1]\n",
    "osaka = temp_data[:,2]\n",
    "hiroshima = temp_data[:,3]\n",
    "fukuoka = temp_data[:,4]"
   ]
  },
  {
   "cell_type": "markdown",
   "id": "06c6fbfc-e555-4811-940b-0ab404306e2a",
   "metadata": {},
   "source": [
    "### ヒストグラム"
   ]
  },
  {
   "cell_type": "markdown",
   "id": "16122f4f-da31-4584-9c7f-e919cf3cc15e",
   "metadata": {},
   "source": [
    "平均気温の分布が各都市間でどのように違うか調べましょう。まず、ヒストグラムを描きましょう。"
   ]
  },
  {
   "cell_type": "code",
   "execution_count": 7,
   "id": "0fbfce34-2c99-40e8-bf4b-10aa72103d97",
   "metadata": {},
   "outputs": [],
   "source": [
    "%matplotlib inline\n",
    "import matplotlib.pyplot as plt"
   ]
  },
  {
   "cell_type": "code",
   "execution_count": 85,
   "id": "f6eda5ca-3bb2-4cc4-826d-771a18a03fbb",
   "metadata": {},
   "outputs": [
    {
     "data": {
      "text/plain": [
       "Text(0.5, 0, 'Average Temperature, Daily')"
      ]
     },
     "execution_count": 85,
     "metadata": {},
     "output_type": "execute_result"
    },
    {
     "data": {
      "image/png": "[encoded data removed]",
      "text/plain": [
       "<Figure size 432x288 with 1 Axes>"
      ]
     },
     "metadata": {
      "needs_background": "light"
     },
     "output_type": "display_data"
    }
   ],
   "source": [
    "intervals = np.arange(0,22,2) # 0℃から20℃まで2刻みの配列をつくる。\n",
    "labels = ['tokyo','nagoya','osaka','hiroshima','fukuoka'] #ラベルの定義\n",
    "plt.hist([tokyo, nagoya,osaka,hiroshima,fukuoka], bins=intervals, label=labels)\n",
    "# 上の命令は、各データについて、階級（bins）をintervalsで定義されたものとするヒストグラムを描かせるものです。\n",
    "plt.legend(loc='upper right') #凡例（legend）の位置。labelの定義が必要。\n",
    "plt.xticks([0,4,8,12,16,20]) # X軸の目盛りの打ち方を指定\n",
    "plt.xlabel(\"Average Temperature, Daily\")"
   ]
  },
  {
   "cell_type": "markdown",
   "id": "d3aee352-3b9a-4344-9e9c-c7f667561dd1",
   "metadata": {},
   "source": [
    "### 度数分布表"
   ]
  },
  {
   "cell_type": "markdown",
   "id": "d75be4d0-37a2-4dca-adb0-525e5634aa91",
   "metadata": {},
   "source": [
    "これを度数分布表として表現してみましょう。最初に出力するのは、それぞれの階級(bin)の下限の値です。次からは、都市ごとに、その階級に存在するデータがいくつあるかの集計結果を出力します。たとえば、東京では、0から2℃が0個、2から4℃が1個、4から6℃が7個、...と集計されます。"
   ]
  },
  {
   "cell_type": "code",
   "execution_count": 70,
   "id": "edd392a1-5c32-40f4-8408-e6466eb08591",
   "metadata": {},
   "outputs": [
    {
     "name": "stdout",
     "output_type": "stream",
     "text": [
      "[ 0  2  4  6  8 10 12 14 16 18 20]\n",
      "tokyo\n",
      "[0 1 7 7 9 2 3 0 2 0]\n",
      "nagoya\n",
      "[1 3 5 8 5 5 2 2 0 0]\n",
      "osaka\n",
      "[0 0 6 6 7 4 5 2 0 1]\n",
      "hiroshima\n",
      "[0 3 5 9 5 2 5 1 1 0]\n",
      "fukuoka\n",
      "[0 1 3 5 9 3 4 4 0 2]\n"
     ]
    }
   ],
   "source": [
    "print(intervals)\n",
    "for i in range(5):\n",
    "    print(labels[i])\n",
    "    hist = np.histogram(temp_data[:,i], bins = intervals)[0]\n",
    "    print(hist)"
   ]
  },
  {
   "cell_type": "markdown",
   "id": "182afc31-628b-4ac0-928f-1d5d2a8e1d24",
   "metadata": {},
   "source": [
    "上で使うnumpy.histogram()関数は、matplotlib.pyplot.hist()関数でも使われています。単独では次のように２つの要素(どちらも配列)からなる配列を出力します。最初の要素が集計結果で、２つ目の要素は区間の端の値です。"
   ]
  },
  {
   "cell_type": "code",
   "execution_count": 71,
   "id": "caea822b-8ab5-435f-bdf4-ccc310432c14",
   "metadata": {},
   "outputs": [
    {
     "data": {
      "text/plain": [
       "(array([0, 1, 7, 7, 9, 2, 3, 0, 2, 0], dtype=int64),\n",
       " array([ 0,  2,  4,  6,  8, 10, 12, 14, 16, 18, 20]))"
      ]
     },
     "execution_count": 71,
     "metadata": {},
     "output_type": "execute_result"
    }
   ],
   "source": [
    "np.histogram(tokyo,bins=intervals)"
   ]
  },
  {
   "cell_type": "markdown",
   "id": "92b168bf-75e0-4b8d-a3de-a364d56a15e5",
   "metadata": {},
   "source": [
    "### 箱ひげ図"
   ]
  },
  {
   "cell_type": "markdown",
   "id": "6b77e01d-6da0-4f10-93dd-d2e10bb7aece",
   "metadata": {},
   "source": [
    "箱ひげ図を描きましょう。"
   ]
  },
  {
   "cell_type": "code",
   "execution_count": 72,
   "id": "51429f91-8bf9-4c62-9935-ab553e13b411",
   "metadata": {},
   "outputs": [
    {
     "data": {
      "text/plain": [
       "{'whiskers': [<matplotlib.lines.Line2D at 0x19f84818b80>,\n",
       "  <matplotlib.lines.Line2D at 0x19f84818e50>,\n",
       "  <matplotlib.lines.Line2D at 0x19f8482dfa0>,\n",
       "  <matplotlib.lines.Line2D at 0x19f848392b0>,\n",
       "  <matplotlib.lines.Line2D at 0x19f848453d0>,\n",
       "  <matplotlib.lines.Line2D at 0x19f848456a0>,\n",
       "  <matplotlib.lines.Line2D at 0x19f848547c0>,\n",
       "  <matplotlib.lines.Line2D at 0x19f84854a90>,\n",
       "  <matplotlib.lines.Line2D at 0x19f84862bb0>,\n",
       "  <matplotlib.lines.Line2D at 0x19f84862e80>],\n",
       " 'caps': [<matplotlib.lines.Line2D at 0x19f8482d220>,\n",
       "  <matplotlib.lines.Line2D at 0x19f8482d430>,\n",
       "  <matplotlib.lines.Line2D at 0x19f84839580>,\n",
       "  <matplotlib.lines.Line2D at 0x19f84839850>,\n",
       "  <matplotlib.lines.Line2D at 0x19f84845970>,\n",
       "  <matplotlib.lines.Line2D at 0x19f84845c40>,\n",
       "  <matplotlib.lines.Line2D at 0x19f84854d60>,\n",
       "  <matplotlib.lines.Line2D at 0x19f84862070>,\n",
       "  <matplotlib.lines.Line2D at 0x19f84870190>,\n",
       "  <matplotlib.lines.Line2D at 0x19f84870460>],\n",
       " 'boxes': [<matplotlib.lines.Line2D at 0x19f848188b0>,\n",
       "  <matplotlib.lines.Line2D at 0x19f8482dcd0>,\n",
       "  <matplotlib.lines.Line2D at 0x19f84845100>,\n",
       "  <matplotlib.lines.Line2D at 0x19f848544f0>,\n",
       "  <matplotlib.lines.Line2D at 0x19f848628e0>],\n",
       " 'medians': [<matplotlib.lines.Line2D at 0x19f8482d700>,\n",
       "  <matplotlib.lines.Line2D at 0x19f84839b20>,\n",
       "  <matplotlib.lines.Line2D at 0x19f84845f10>,\n",
       "  <matplotlib.lines.Line2D at 0x19f84862340>,\n",
       "  <matplotlib.lines.Line2D at 0x19f84870730>],\n",
       " 'fliers': [<matplotlib.lines.Line2D at 0x19f8482d9d0>,\n",
       "  <matplotlib.lines.Line2D at 0x19f84839df0>,\n",
       "  <matplotlib.lines.Line2D at 0x19f84854220>,\n",
       "  <matplotlib.lines.Line2D at 0x19f84862610>,\n",
       "  <matplotlib.lines.Line2D at 0x19f84870a00>],\n",
       " 'means': []}"
      ]
     },
     "execution_count": 72,
     "metadata": {},
     "output_type": "execute_result"
    },
    {
     "data": {
      "image/png": "[encoded data removed]",
      "text/plain": [
       "<Figure size 432x288 with 1 Axes>"
      ]
     },
     "metadata": {
      "needs_background": "light"
     },
     "output_type": "display_data"
    }
   ],
   "source": [
    "cities = ['tokyo','nagoya','osaka','hiroshima','fukuoka']\n",
    "plt.boxplot([tokyo, nagoya,osaka,hiroshima,fukuoka],labels=cities)"
   ]
  },
  {
   "cell_type": "markdown",
   "id": "8bf7271e-9e4c-41bb-9123-d08518bf440a",
   "metadata": {},
   "source": [
    "この箱ひげ図が表すものを説明します。  \n",
    "まず、箱の部分は第１四分位点の値から第３四分位点までの値（つまり下から25%までの値から、下から75%の値まで）の範囲を表します。箱の内部の横線は平均値を表します。また、箱に入る値の範囲を「四分位範囲」（interquartile rannge, IQR）といいます。 \n",
    "端に横棒が付いた、箱の上下に突き出した棒は、その端がそれぞれ最大値と最小値を表します。  \n",
    "ただし、箱ひげ図の描き方のひとつとして、「第１四分位点よりも IQRの長さの1.5倍小さい値」未満、または、「第３四分位点よりも IQRの長さの1.5倍大きい値」を超えるような値を「外れ値」として表示する場合があります。この図では、東京の16.8℃と17.7℃が外れ値となっています。"
   ]
  },
  {
   "cell_type": "markdown",
   "id": "59e301c6-8f00-46aa-ac64-55833b88e938",
   "metadata": {},
   "source": [
    "### 練習問題２"
   ]
  },
  {
   "cell_type": "markdown",
   "id": "b29240a9-34bc-46de-bdbb-39e08de2a964",
   "metadata": {},
   "source": [
    "次の表は、２０１７年度のサッカーJリーグ（J２）のチーム年間総得点のデータです（統計検定２級２０１８年６月より）"
   ]
  },
  {
   "cell_type": "markdown",
   "id": "2f9e582d-7be4-4fcb-8efb-cb3f7cc4461d",
   "metadata": {},
   "source": [
    "|チーム名|年間総得点|\n",
    "|--|--|\n",
    "|山形|45|\n",
    "|水戸|45|\n",
    "|群馬|32|\n",
    "|千葉|70|\n",
    "|東京V|64|\n",
    "|町田|53|\n",
    "|横浜FC|60|\n",
    "|湘南|58|\n",
    "|松本|61|\n",
    "|金沢|49|\n",
    "|名古屋|85|\n",
    "|岐阜|56|\n",
    "|京都|55|\n",
    "|岡山|44|\n",
    "|山口|48|\n",
    "|讃岐|41|\n",
    "|徳島|71|\n",
    "|愛媛|54|\n",
    "|福岡|54|\n",
    "|長崎|59|\n",
    "|熊本|36|\n",
    "|大分|58|"
   ]
  },
  {
   "cell_type": "markdown",
   "id": "cb7c1e50-0fec-4166-9767-304afd12815b",
   "metadata": {},
   "source": [
    "次の問いに答えてください（統計検定２級２０１８年６月より改題）"
   ]
  },
  {
   "cell_type": "markdown",
   "id": "42af0019-84f5-4f19-8775-79d01c32f73e",
   "metadata": {},
   "source": [
    "（０）平均点と標準偏差を求めてください"
   ]
  },
  {
   "cell_type": "code",
   "execution_count": 10,
   "id": "3dced778-ac45-4976-92bb-dbb5f7f873e8",
   "metadata": {},
   "outputs": [
    {
     "name": "stdout",
     "output_type": "stream",
     "text": [
      "54.45454545454545\n",
      "11.773341507317872\n"
     ]
    }
   ],
   "source": [
    "import numpy as np\n",
    "from scipy import stats\n",
    "scores_j2 = np.array([45,45,32,70,64,53,60,58,61,49,85,56,55,44,48,41,71,54,54,59,36,58])\n",
    "#平均\n",
    "mean_j2 = np.mean(scores_j2)\n",
    "#標準偏差\n",
    "st_dev_j2 = np.std(scores_j2)\n",
    "print(mean_j2)\n",
    "print(st_dev_j2)"
   ]
  },
  {
   "cell_type": "markdown",
   "id": "6194d7eb-a61b-4e78-bf21-ae9bde640fca",
   "metadata": {},
   "source": [
    "（１）チーム年間総得点ならびに標準化得点（定義は練習問題１で示しました）の分布を箱ひげ図で示してください。"
   ]
  },
  {
   "cell_type": "code",
   "execution_count": 11,
   "id": "44622a6b-675f-44de-b1a5-d226cc3d2112",
   "metadata": {},
   "outputs": [
    {
     "data": {
      "text/plain": [
       "{'whiskers': [<matplotlib.lines.Line2D at 0x18b8c69eee0>,\n",
       "  <matplotlib.lines.Line2D at 0x18b8c6ab1f0>],\n",
       " 'caps': [<matplotlib.lines.Line2D at 0x18b8c6ab4c0>,\n",
       "  <matplotlib.lines.Line2D at 0x18b8c6ab790>],\n",
       " 'boxes': [<matplotlib.lines.Line2D at 0x18b8c69ec10>],\n",
       " 'medians': [<matplotlib.lines.Line2D at 0x18b8c6aba60>],\n",
       " 'fliers': [<matplotlib.lines.Line2D at 0x18b8c6abd30>],\n",
       " 'means': []}"
      ]
     },
     "execution_count": 11,
     "metadata": {},
     "output_type": "execute_result"
    },
    {
     "data": {
      "image/png": "[encoded data removed]",
      "text/plain": [
       "<Figure size 432x288 with 2 Axes>"
      ]
     },
     "metadata": {
      "needs_background": "light"
     },
     "output_type": "display_data"
    }
   ],
   "source": [
    "import numpy as np\n",
    "from scipy import stats\n",
    "%matplotlib inline\n",
    "import matplotlib.pyplot as plt\n",
    "scores_j2 = np.array([45,45,32,70,64,53,60,58,61,49,85,56,55,44,48,41,71,54,54,59,36,58])\n",
    "teams_j2 = np.array(['yamagata','mito','gumma','chiba','tokyo-v','machida','yokohama-fc','shonan','matsumoto','kanazawa',\n",
    "            'nagoya','gifu','kyoto','okayama','yamaguchi','sanuki','tokushima','ehiime','fukuoka',\n",
    "            'nagasaki','kumamoto','oita'])\n",
    "# 次の関数は標準化得点を定義に従い計算します。\n",
    "# x: 得点, mean_x: 平均, st_dev_x: 標準偏差\n",
    "def st_score(x,mean_x, st_dev_x):\n",
    "    y = (x - mean_x)/st_dev_x\n",
    "    return y\n",
    "\n",
    "# 平均\n",
    "mean_j2 = np.mean(scores_j2)\n",
    "# 標準偏差\n",
    "st_dev_j2 = np.sqrt(np.var(scores_j2))\n",
    "# 標準化得点を計算\n",
    "# numpy配列に対するブロードキャストで計算が行われていることに注意\n",
    "st_scores_j2 = st_score(scores_j2,mean_j2,st_dev_j2)\n",
    "\n",
    "\n",
    "# figureインスタンスを作る\n",
    "fig = plt.figure()\n",
    "# Y軸を2つ作る。\n",
    "ax1 = fig.subplots() # 1つめのY軸（左側）\n",
    "ax2 = ax1.twinx() # 2つめのY軸　（右側）\n",
    "\n",
    "# 箱ひげ図の表示\n",
    "ax1.boxplot(scores_j2,labels=['J2'])\n",
    "ax2.boxplot(st_scores_j2)\n",
    "# 本質的に同じものなので、見かけ上ひとつしか表示されない。左に総得点、右に標準化得点の軸が表示される。"
   ]
  },
  {
   "cell_type": "markdown",
   "id": "ea10345c-2359-47fc-a0ef-30868e574bfd",
   "metadata": {},
   "source": [
    "（２）J2のチーム年間総得点において、平均から標準偏差の２倍以上多く得点したチームはどれですか。"
   ]
  },
  {
   "cell_type": "markdown",
   "id": "98063626-2150-45a1-aea3-a65ab6957ab0",
   "metadata": {},
   "source": [
    "ヒント：\n",
    "- numpyの配列 > 2 は、配列の各要素が２より大きいかどうかをboolean (True or False)で返します。\n",
    "- numpy.where()で、配列の要素のうち条件に合う要素（つまりTrueの要素）のインデックス（添字）を取り出すことができます。\n",
    "- numpy配列に配列を与えると、それをインデックスとする要素の配列を返します"
   ]
  },
  {
   "cell_type": "code",
   "execution_count": 12,
   "id": "d6a8175b-64d1-4ed3-9528-317dd60497b9",
   "metadata": {},
   "outputs": [
    {
     "data": {
      "text/plain": [
       "array(['nagoya'], dtype='<U11')"
      ]
     },
     "execution_count": 12,
     "metadata": {},
     "output_type": "execute_result"
    }
   ],
   "source": [
    "# インポートする命令は上で実行したので省略\n",
    "# 条件にあてはまるインデックスを取得\n",
    "index_true = np.where(st_scores_j2 > 2)\n",
    "# そのインデックスをもつチーム名を取得\n",
    "teams_j2[index_true]"
   ]
  },
  {
   "cell_type": "markdown",
   "id": "8dfd094d-cda3-4d00-8b2f-da352fc5af2e",
   "metadata": {},
   "source": [
    "## 練習問題１の解答例"
   ]
  },
  {
   "cell_type": "markdown",
   "id": "f77e27e7-a9f3-4d49-81b3-f252a8df31b5",
   "metadata": {},
   "source": [
    "### 問１"
   ]
  },
  {
   "cell_type": "code",
   "execution_count": 26,
   "id": "ec4c6dd7-5752-4f9f-b05d-f16e59698c2f",
   "metadata": {},
   "outputs": [
    {
     "name": "stdout",
     "output_type": "stream",
     "text": [
      "1回目の試験の平均: 50.0\n",
      "2回目の試験の平均: 60.0\n",
      "1回目の試験の標準偏差: 14.142135623730951\n",
      "2回目の試験の標準偏差: 9.486832980505138\n"
     ]
    }
   ],
   "source": [
    "import numpy as np\n",
    "import scipy as sp\n",
    "# 1回目, 2回目の試験の点数を\n",
    "# np.array([点数11, 点数12, ..., 点数1n ], [点数21, 点数2, ..., 点数2n])とします。\n",
    "test_scores = np.array([[30, 30, 40, 40, 50, 50, 60, 60, 70, 70],\n",
    "                       [45, 60, 50, 65, 70, 50, 55, 60, 70, 75]])\n",
    "#np.shape(test_scores) # 行列の形を確認\n",
    "# 1回目の試験の平均: mu_1, 2回目の試験の平均: mu_2とします。\n",
    "mu_1 = np.mean(test_scores[0])\n",
    "mu_2 = np.mean(test_scores[1])\n",
    "print(\"1回目の試験の平均:\",mu_1)\n",
    "print(\"2回目の試験の平均:\",mu_2)\n",
    "#１回目の試験の標準偏差: d_1, 2回目の試験の標準偏差：d_2とします\n",
    "d_1 = np.sqrt(np.var(test_scores[0],ddof=0))\n",
    "d_2 = np.sqrt(np.var(test_scores[1],ddof=0))\n",
    "print(\"1回目の試験の標準偏差:\",d_1)\n",
    "print(\"2回目の試験の標準偏差:\",d_2)"
   ]
  },
  {
   "cell_type": "markdown",
   "id": "e3ca3898-8c66-44bf-b0c7-dd767f2fd246",
   "metadata": {},
   "source": [
    "### 問２"
   ]
  },
  {
   "cell_type": "code",
   "execution_count": 28,
   "id": "5f73ecf0-81b3-4c94-a9a4-6b577d1245e6",
   "metadata": {},
   "outputs": [
    {
     "name": "stdout",
     "output_type": "stream",
     "text": [
      "Cさんの1回目の標準化得点: -0.7071067811865475\n",
      "Cさんの2回目の標準化得点: -1.0540925533894598\n"
     ]
    }
   ],
   "source": [
    "# mean_1: 1回目の平均点\n",
    "# mean_2: ２回目の平均点\n",
    "# st_dev_1: １回目の（標本）標準偏差\n",
    "# st_dev_2: ２回目の（標本）標準偏差\n",
    "mean_1 = np.mean(test_scores[0])\n",
    "mean_2 = np.mean(test_scores[1])\n",
    "st_dev_1 = np.sqrt(np.var(test_scores[0]))\n",
    "st_dev_2 = np.sqrt(np.var(test_scores[1]))\n",
    "#Cさんの１回目の点\n",
    "score_C_1 = test_scores[0,2]\n",
    "#Cさんの２回目の点\n",
    "score_C_2 = test_scores[1,2]\n",
    "#Cさんの1回目の標準化得点\n",
    "z_C_1 = (score_C_1 - mean_1)/st_dev_1\n",
    "#Cさんの2回目の標準化得点\n",
    "z_C_2 = (score_C_2 - mean_2)/st_dev_2\n",
    "#結果出力\n",
    "print(\"Cさんの1回目の標準化得点:\",z_C_1)\n",
    "print(\"Cさんの2回目の標準化得点:\",z_C_2)"
   ]
  },
  {
   "cell_type": "markdown",
   "id": "95fdfba9-7967-4354-a872-151e72a6129e",
   "metadata": {},
   "source": [
    "## 練習問題２の解答例"
   ]
  },
  {
   "cell_type": "markdown",
   "id": "56feee2f-792a-4951-8e8e-0a2959d2fb8f",
   "metadata": {},
   "source": [
    "### 問（１）"
   ]
  },
  {
   "cell_type": "code",
   "execution_count": 55,
   "id": "c9e1cfbb-3c71-4f6e-bef3-91d911c9da42",
   "metadata": {},
   "outputs": [
    {
     "data": {
      "text/plain": [
       "{'whiskers': [<matplotlib.lines.Line2D at 0x211e1dafa00>,\n",
       "  <matplotlib.lines.Line2D at 0x211e1dafcd0>],\n",
       " 'caps': [<matplotlib.lines.Line2D at 0x211e1daffa0>,\n",
       "  <matplotlib.lines.Line2D at 0x211e1db92b0>],\n",
       " 'boxes': [<matplotlib.lines.Line2D at 0x211e1daf730>],\n",
       " 'medians': [<matplotlib.lines.Line2D at 0x211e1db9580>],\n",
       " 'fliers': [<matplotlib.lines.Line2D at 0x211e1db9850>],\n",
       " 'means': []}"
      ]
     },
     "execution_count": 55,
     "metadata": {},
     "output_type": "execute_result"
    },
    {
     "data": {
      "image/png": "[encoded data removed]",
      "text/plain": [
       "<Figure size 432x288 with 2 Axes>"
      ]
     },
     "metadata": {
      "needs_background": "light"
     },
     "output_type": "display_data"
    }
   ],
   "source": [
    "import numpy as np\n",
    "from scipy import stats\n",
    "%matplotlib inline\n",
    "import matplotlib.pyplot as plt\n",
    "scores_j2 = np.array([45,45,32,70,64,53,60,58,61,49,85,56,55,44,48,41,71,54,54,59,36,58])\n",
    "teams_j2 = np.array(['yamagata','mito','gumma','chiba','tokyo-v','machida','yokohama-fc','shonan','matsumoto','kanazawa',\n",
    "            'nagoya','gifu','kyoto','okayama','yamaguchi','sanuki','tokushima','ehiime','fukuoka',\n",
    "            'nagasaki','kumamoto','oita'])\n",
    "# 次の関数は標準化得点を定義に従い計算します。\n",
    "# mean_x: 平均, st_dev_x: 標準偏差\n",
    "def st_score(x,mean_x, st_dev_x):\n",
    "    y = (x -mean_x)/st_dev_x\n",
    "    return y\n",
    "\n",
    "mean_j2 = np.mean(scores_j2)\n",
    "st_dev_j2 = np.sqrt(np.var(scores_j2))\n",
    "st_scores_j2 = st_score(scores_j2,mean_j2,st_dev_j2)\n",
    "\n",
    "\n",
    "# figureインスタンスを作る\n",
    "fig = plt.figure()\n",
    "# Y軸を2つ作る。\n",
    "ax1 = fig.subplots() # 1つめのY軸（左側）\n",
    "ax2 = ax1.twinx() # 2つめのY軸　（右側）\n",
    "\n",
    "# 箱ひげ図の表示\n",
    "ax1.boxplot(scores_j2,labels=['J2'])\n",
    "ax2.boxplot(st_scores_j2)"
   ]
  },
  {
   "cell_type": "markdown",
   "id": "b027eae3-fe08-4719-99c7-c9cd193236f5",
   "metadata": {},
   "source": [
    "### 問（２）"
   ]
  },
  {
   "cell_type": "code",
   "execution_count": 56,
   "id": "21ab1c7b-161f-4c5e-90b5-bc83665511e7",
   "metadata": {},
   "outputs": [
    {
     "data": {
      "text/plain": [
       "array(['nagoya'], dtype='<U11')"
      ]
     },
     "execution_count": 56,
     "metadata": {},
     "output_type": "execute_result"
    }
   ],
   "source": [
    "index_true = np.where(st_scores_j2 > 2)\n",
    "teams_j2[index_true]"
   ]
  },
  {
   "cell_type": "code",
   "execution_count": null,
   "id": "ceec34f2-e007-41e1-a09e-6530d1e1fd29",
   "metadata": {},
   "outputs": [],
   "source": []
  }
 ],
 "metadata": {
  "kernelspec": {
   "display_name": "Python 3 (ipykernel)",
   "language": "python",
   "name": "python3"
  },
  "language_info": {
   "codemirror_mode": {
    "name": "ipython",
    "version": 3
   },
   "file_extension": ".py",
   "mimetype": "text/x-python",
   "name": "python",
   "nbconvert_exporter": "python",
   "pygments_lexer": "ipython3",
   "version": "3.9.9"
  },
  "toc-autonumbering": false
 },
 "nbformat": 4,
 "nbformat_minor": 5
}
