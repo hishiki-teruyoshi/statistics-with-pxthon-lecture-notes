{
 "cells": [
  {
   "cell_type": "markdown",
   "id": "a9605c5b-2af3-4281-9c25-f96d68bf6b30",
   "metadata": {},
   "source": [
    "# 第１１回　推測統計（３）（検定）"
   ]
  },
  {
   "cell_type": "markdown",
   "id": "5c174e19-072b-4be0-996f-69ece97c0792",
   "metadata": {},
   "source": [
    "今回は、仮説検定の考え方、t検定、χ２乗検定、F検定などについて扱います。"
   ]
  },
  {
   "cell_type": "markdown",
   "id": "59fa1113-3a58-4f20-8a9f-dd6c94f9c651",
   "metadata": {},
   "source": [
    "## 仮説検定の考え方"
   ]
  },
  {
   "cell_type": "markdown",
   "id": "95bcb23c-b273-4b0d-a82e-6111c8d4c365",
   "metadata": {},
   "source": [
    "標本の情報から母集団の性質を推測する方法として、前回は**推定**を紹介しました。今回は、もうひとつの方法である**検定**を紹介します。"
   ]
  },
  {
   "cell_type": "markdown",
   "id": "20717327-3029-49ee-9f1e-a01681a62390",
   "metadata": {},
   "source": [
    "検定は、次のようなステップで行います。"
   ]
  },
  {
   "cell_type": "markdown",
   "id": "213e1498-de2a-417b-8e55-1db696bd2bef",
   "metadata": {},
   "source": [
    "1. 母集団について、検定しようとする**仮説を設定**する。\n",
    "2. 検定に用いる**統計量**と、この統計量で検定するときの**判定の基準**を決める。\n",
    "3. 標本抽出をおこない、**統計量を計算**して、判定基準に照らして仮説の採否を決定する。"
   ]
  },
  {
   "cell_type": "markdown",
   "id": "ba247221-0616-4f86-939d-4290596d6fc4",
   "metadata": {},
   "source": [
    "### 帰無仮説と対立仮説"
   ]
  },
  {
   "cell_type": "markdown",
   "id": "073443a5-845d-4f7d-865c-32d6b8089a2e",
   "metadata": {},
   "source": [
    "まず、1. 仮説の設定についてです。ここでいう「仮説」は、**あらかじめ否定（棄却）されることを想定して立てられる仮説**で、「**帰無仮説**」null hypothesisとよばれます。記号では$H_0$で表します。また、帰無仮説は、これを棄却した場合に成立する「**対立仮説**」（alternative hypothesis, 記号では$H_1$）とペアで立てます。  \n",
    "どうして否定すべき仮説に注目するかというと、否定するには反例を示せば良いけれども、標本から、完全に正しいことを証明することは無理だからです。  \n",
    "**帰無仮説を否定するとき**は、仮説を正しいと仮定した場合、こうこういう不具合が生じる、ということをいいます。統計的には、「**帰無仮説のもとでは標本が示すようなことが起こるような確率は確率$\\alpha$よりも小さい**」ということを、標本から作った統計量を用いて示します。  "
   ]
  },
  {
   "cell_type": "markdown",
   "id": "f41f5940-dc94-4b91-8e14-e517c2a75231",
   "metadata": {},
   "source": [
    "ですから、帰無仮説$H_0$は、そのような形で否定しやすい形に定義します。例えば、ある機械の不良品率が1%より低いことを示したいときは、むしろ、帰無仮説として、「故障率が1%である」という命題を宣言します。  "
   ]
  },
  {
   "cell_type": "markdown",
   "id": "a2700d8d-0cfc-4c5a-b67a-4c5dbd9586c1",
   "metadata": {},
   "source": [
    "**対立仮説**$H_1$の立て方は、$H_0$の値との関係で、２とおりあります。それぞれ、**仮説検定**のしかたが違います。  \n",
    "ひとつは、単純に帰無仮説$H_0$の否定として、例えば「故障率が1%である<u>とはいえない</u>」ことを想定します。検定では、$H_0$の条件にしては標本から作られた統計量が大きすぎる場合と、小さすぎる場合と、両方の可能性を想定します。そして、これらのどちらかであったら、$H_0$を棄却します。これを、**両側検定**といいます。  \n",
    "　もうひとつの$H_1$の立てかたは、例えば「故障率が1%よりも大きい」とか、「平均体重が70kgよりも小さい」というように、ずれの方向をひとつに限定します。検定では、統計量が$H_0$の条件にしては大きすぎるか、あるいは小さすぎるか、どちらかだけを示そうとします。これを、**片側検定**といいます。"
   ]
  },
  {
   "cell_type": "markdown",
   "id": "c1a14080-2b82-43d8-a034-5e78f81c8f48",
   "metadata": {},
   "source": [
    "### $P-$値とは"
   ]
  },
  {
   "cell_type": "markdown",
   "id": "0a7cb63a-81a2-4e63-850a-6a1b7b7a0e3f",
   "metadata": {},
   "source": [
    "$H_0$のもとで、つまり、帰無仮説が正しいとした場合に、統計量が実際の値と同じか、もっと極端な値をとる確率のことを$P-$値とよびます。"
   ]
  },
  {
   "cell_type": "markdown",
   "id": "f958a58e-088c-41eb-b546-fe1addc57332",
   "metadata": {},
   "source": [
    "片側検定の場合は、より極端な方向は、得られた統計量よりも大きいか小さいかどちらかです。しかし、両側検定の場合は、次の２つの場合が考えられます。\n",
    "- 左右対称な確率分布を扱っている場合は、片側検定の場合の$P-$値の２倍\n",
    "- 左右非対称な確率分布の場合は、片側検定の場合の$P-$値の２倍、または、「観測結果とくらべて出現する確率が低い事象の確率」"
   ]
  },
  {
   "cell_type": "markdown",
   "id": "2687a34d-9ce5-44ba-be71-9281e2edf0f5",
   "metadata": {},
   "source": [
    "###  棄却域と採択域"
   ]
  },
  {
   "cell_type": "markdown",
   "id": "6b318241-12bd-495f-8ab9-1511360e23bb",
   "metadata": {},
   "source": [
    "次に、2. 判定の基準ですが、**母集団についてたとえ$H_0$が成り立っていても**、問題とする<u>統計量が$\\alpha$の確率で、$H_1$を満たしてしまう</u>ような統計量の範囲を計算します。言い換えると、帰無仮説のもとでは標本が示すようなことが起こるような確率（つまり前項の$P-$値です）は確率$\\alpha$よりも小さい、ということです。  この$\\alpha$のことを、**有意水準**とか、**危険率**とか、**第１種のエラー**とかと呼びます。   \n",
    "また、統計量がそのような範囲に入ると$H_0$が棄却されますので、この範囲のことを**棄却域**といいます。 逆に、$H_0$を棄却はできない範囲を**採択域**といいます。つまり、<b>$H_0$が成り立つならば、$1 - \\alpha$の確率で、統計量は採択域に入ります。</b>  \n",
    "採択域の上限を**上側$\\alpha$分位点**、下限を**下側$\\alpha$分位点**といいます。"
   ]
  },
  {
   "cell_type": "markdown",
   "id": "60e6cb66-44dd-4cfb-acd1-ad96029e1387",
   "metadata": {},
   "source": [
    "例えば「有意水準5%」というときは、$H_0$が間違って棄却される確率が0.05だということです。つまり、$H_0$ならば、0.95の確率で満たされるような統計量の範囲が採択域です。その範囲の外が棄却域です。実際の統計量が棄却域にあるならば、$H_0$を棄却しても間違える確率は5%以下だといえます。"
   ]
  },
  {
   "cell_type": "markdown",
   "id": "86158557-8b3d-48b9-a738-e138fb8d2741",
   "metadata": {},
   "source": [
    "同じ$\\alpha$でも、採択域（従って棄却域も）の範囲は、両側検定か片側検定かで、異なります。両側検定の場合は、危険率$\\alpha$を、$H_0$のもとで小さすぎる値が出る確率と、大きすぎる値が出る確率との両方にふりわけます。通常は、小さい方と大きい方とに$\\frac{\\alpha}{2}$ずつ分けます。  \n",
    "一方、片側検定の場合は、$H_1$として大きいほうを選んでいるならば、$H_0$のもとで大きすぎる値が出る確率に$\\alpha$を全振りします。"
   ]
  },
  {
   "cell_type": "markdown",
   "id": "cb6626b5-092c-432d-bd17-54325637b73c",
   "metadata": {},
   "source": [
    "#### 例：標準正規分布の$\\alpha$分位点と棄却域"
   ]
  },
  {
   "cell_type": "markdown",
   "id": "1a0defe6-d0cc-4c40-a713-8890beda94ad",
   "metadata": {},
   "source": [
    "例えば、$H_0$のもと統計量が標準正規分布$N(0,1)$に従うとして、$\\alpha = 0.05$で両側検定する場合を考えましょう。"
   ]
  },
  {
   "cell_type": "code",
   "execution_count": 1,
   "id": "bc593d15-e566-4fbf-8b79-ee15d33de8b8",
   "metadata": {},
   "outputs": [],
   "source": [
    "import numpy as np\n",
    "from scipy import stats\n",
    "%matplotlib inline\n",
    "import matplotlib.pyplot as plt"
   ]
  },
  {
   "cell_type": "markdown",
   "id": "33588525-c850-472b-91ca-76fbf69ee6da",
   "metadata": {},
   "source": [
    "下側$\\alpha$分位点の値はいくつでしょうか"
   ]
  },
  {
   "cell_type": "code",
   "execution_count": 2,
   "id": "6fa45811-2647-4e3b-979c-64488b13c0de",
   "metadata": {},
   "outputs": [
    {
     "data": {
      "text/plain": [
       "-1.9599639845400545"
      ]
     },
     "execution_count": 2,
     "metadata": {},
     "output_type": "execute_result"
    }
   ],
   "source": [
    "stats.norm.ppf(0.025)"
   ]
  },
  {
   "cell_type": "markdown",
   "id": "d443c590-7013-40f4-9021-68cebb512547",
   "metadata": {},
   "source": [
    "上側$\\alpha$分位点の値はいくつでしょうか"
   ]
  },
  {
   "cell_type": "code",
   "execution_count": 3,
   "id": "84ce29c1-edd4-4e7e-99f4-96843bc90fef",
   "metadata": {},
   "outputs": [
    {
     "data": {
      "text/plain": [
       "1.9599639845400545"
      ]
     },
     "execution_count": 3,
     "metadata": {},
     "output_type": "execute_result"
    }
   ],
   "source": [
    "stats.norm.isf(0.025)"
   ]
  },
  {
   "cell_type": "markdown",
   "id": "38d117e0-5c18-47eb-8419-8ae1b9fe61ea",
   "metadata": {},
   "source": [
    "一般的には、これらの値は$\\pm 1.96$として知られています。"
   ]
  },
  {
   "cell_type": "markdown",
   "id": "9af77616-4a45-43e8-8cb3-9209eee01d6e",
   "metadata": {},
   "source": [
    "$\\alpha = 0.05$で両側検定する場合の棄却域は図のとおりです。図のように、$\\pm 1.96$より外側が棄却域になります。"
   ]
  },
  {
   "cell_type": "code",
   "execution_count": 9,
   "id": "5f35169a-ce9b-4179-9078-ae4da43ee95a",
   "metadata": {},
   "outputs": [
    {
     "data": {
      "text/plain": [
       "<matplotlib.collections.PolyCollection at 0x19be1274670>"
      ]
     },
     "execution_count": 9,
     "metadata": {},
     "output_type": "execute_result"
    },
    {
     "data": {
      "image/png": "[encoded data removed]",
      "text/plain": [
       "<Figure size 432x288 with 1 Axes>"
      ]
     },
     "metadata": {
      "needs_background": "light"
     },
     "output_type": "display_data"
    }
   ],
   "source": [
    "# 下側2.5%点\n",
    "p1 = stats.norm.ppf(0.025)\n",
    "# 上側2.5％点\n",
    "p2 = stats.norm.isf(0.025)\n",
    "# 標準正規分布の描画\n",
    "fig = plt.figure()\n",
    "ax = fig.subplots()\n",
    "x_vals = np.arange(-3,3,0.1)\n",
    "y_vals = stats.norm.pdf(x_vals)\n",
    "ax.plot(x_vals,y_vals)\n",
    "# 標準正規分布の下、X軸の上で、xの値が下側2.5%点(p1)以下、上側2.5％点(p2)以上の面積(確率)を塗りつぶす\n",
    "ax.fill_between( x_vals, y_vals, 0, where=x_vals>p2, color = 'b')\n",
    "ax.fill_between( x_vals, y_vals, 0, where=x_vals<p1, color = 'b')"
   ]
  },
  {
   "cell_type": "markdown",
   "id": "ad1f88e3-adb1-444b-b101-3940d1ca1049",
   "metadata": {},
   "source": [
    "ところが、同じ$\\alpha=0.05$で片側検定の場合は、上側$\\alpha$分位点だけが問題となります。その値はいくつでしょうか。"
   ]
  },
  {
   "cell_type": "code",
   "execution_count": 6,
   "id": "b01e262d-f505-46c2-80d0-4272e0920218",
   "metadata": {},
   "outputs": [
    {
     "data": {
      "text/plain": [
       "1.6448536269514729"
      ]
     },
     "execution_count": 6,
     "metadata": {},
     "output_type": "execute_result"
    }
   ],
   "source": [
    "stats.norm.isf(0.05)"
   ]
  },
  {
   "cell_type": "markdown",
   "id": "eaf45f84-11d6-4847-982d-730faff9fe3a",
   "metadata": {},
   "source": [
    "そして棄却域は図のようになります。"
   ]
  },
  {
   "cell_type": "code",
   "execution_count": 8,
   "id": "ff5957fc-0d8d-47a2-8245-24e9720bab02",
   "metadata": {},
   "outputs": [
    {
     "data": {
      "text/plain": [
       "<matplotlib.collections.PolyCollection at 0x19be12031c0>"
      ]
     },
     "execution_count": 8,
     "metadata": {},
     "output_type": "execute_result"
    },
    {
     "data": {
      "image/png": "[encoded data removed]",
      "text/plain": [
       "<Figure size 432x288 with 1 Axes>"
      ]
     },
     "metadata": {
      "needs_background": "light"
     },
     "output_type": "display_data"
    }
   ],
   "source": [
    "# 上側5％点\n",
    "p3 = stats.norm.isf(0.05)\n",
    "# 標準正規分布の描画\n",
    "fig = plt.figure()\n",
    "ax = fig.subplots()\n",
    "x_vals = np.arange(-3,3,0.1)\n",
    "y_vals = stats.norm.pdf(x_vals)\n",
    "ax.plot(x_vals,y_vals)\n",
    "# 標準正規分布の下、X軸の上で、xの値が上側5％点(p3)以上の面積(確率)を塗りつぶす\n",
    "ax.fill_between( x_vals, y_vals, 0, where=x_vals>p3, color = 'b')"
   ]
  },
  {
   "cell_type": "markdown",
   "id": "5e33d0bc-1753-4263-a635-006e1a2c5a64",
   "metadata": {},
   "source": [
    "上のように、統計量がとりうる値の計算のために、何らかの分布を想定します。正規分布の他に、$\\chi^2$分布、$t$分布などがあります。"
   ]
  },
  {
   "cell_type": "markdown",
   "id": "61547f16-260f-4adf-aeae-7ee34b4d19d6",
   "metadata": {},
   "source": [
    "#### 例題"
   ]
  },
  {
   "cell_type": "markdown",
   "id": "7def387c-fe3c-4dd9-8b9f-46d5f3534e0d",
   "metadata": {},
   "source": [
    "分散$\\sigma^2 = 16$の正規母集団から標本の大きさ$n = 25$、標本平均値$x = 19$のとき、仮説$H_0: \\mu = 20$, $H_1: \\mu < 20$を有意水準5%で検定しましょう。$P-$値も示しましょう。"
   ]
  },
  {
   "cell_type": "code",
   "execution_count": 6,
   "id": "fe7c0045-c4f1-41d6-8cbd-499d20e6b61d",
   "metadata": {},
   "outputs": [
    {
     "name": "stdout",
     "output_type": "stream",
     "text": [
      "-1.25\n",
      "0.10564977366685535\n",
      "-1.6448536269514729\n"
     ]
    }
   ],
   "source": [
    "import numpy as np\n",
    "from scipy import stats\n",
    "sigma2 = 16\n",
    "mu = 20\n",
    "n = 25\n",
    "x = 19\n",
    "z_0 = np.sqrt(n)*(x - mu)/np.sqrt(sigma2)\n",
    "p_z0 = stats.norm.cdf(z_0)\n",
    "z_05 = stats.norm.ppf(0.05)\n",
    "print(z_0)\n",
    "print(p_z0)\n",
    "print(z_05)"
   ]
  },
  {
   "cell_type": "markdown",
   "id": "4655f709-5ba5-4dae-9726-8b9cb8939508",
   "metadata": {},
   "source": [
    "## t検定"
   ]
  },
  {
   "cell_type": "markdown",
   "id": "b098d303-ca78-40fb-ae08-dbee19bc509c",
   "metadata": {},
   "source": [
    "前回説明したように、$\\chi^2$分布する統計量を自由度で割ったものの平方根で、標準正規分布を割ると、$t$分布になるのでした。ですから、$t$分布は次のような検定によく使われます。また、前回扱った推定にも用いられます。"
   ]
  },
  {
   "cell_type": "markdown",
   "id": "6c85ade7-6d37-4095-931b-a65bc9524082",
   "metadata": {},
   "source": [
    "### 1. 母集団の分散$\\sigma^2$が不明の場合の、母集団の平均$\\mu$の検定"
   ]
  },
  {
   "cell_type": "markdown",
   "id": "18ffc9c3-7812-4686-adb9-8f9928ab4b55",
   "metadata": {},
   "source": [
    "標本の大きさを$n$、標本平均を$\\bar{X}$、標本から計算した標本分散を$S^2$、不偏分散を$U^2$とすると、標本平均$\\bar{X}$を標本の標準誤差$\\frac{U}{\\sqrt{n}}$ （$= \\frac{S}{\\sqrt{n - 1}}$）で標準化した統計値"
   ]
  },
  {
   "cell_type": "markdown",
   "id": "3fa62799-4ed9-4fe7-89b6-96a3b7a39272",
   "metadata": {},
   "source": [
    "$$T = \\frac{\\bar{X} - \\mu}{\\frac{U}{\\sqrt{n}}} = \\frac{\\bar{X} - \\mu}{\\frac{S}{\\sqrt{n - 1}}}$$"
   ]
  },
  {
   "cell_type": "markdown",
   "id": "451d18a7-06fe-4e5b-8d76-e7fce443dfb0",
   "metadata": {},
   "source": [
    "は、自由度$(n - 1)$の$t$分布に従います。"
   ]
  },
  {
   "cell_type": "markdown",
   "id": "1a18e468-fb15-4a56-bdfd-0aa9ec90278f",
   "metadata": {},
   "source": [
    "棄却域と採択域の考えかたは、正規分布の場合と同様です。"
   ]
  },
  {
   "cell_type": "markdown",
   "id": "b14cb1f8-8abf-486e-8b6e-c5377fc24b7b",
   "metadata": {},
   "source": [
    "予め、**有意水準**すなわち**第１種の誤り**（帰無仮説を間違って棄却する=対立仮説を間違って採用する）の大きさを$\\alpha$と設定しているとします。  \n",
    "**両側検定**では、下側$\\alpha$分位点は、累積確率密度が$\\frac{\\alpha}{2}$になる$T$で、上側$\\alpha$分位点は、累積確率密度が$1 - \\frac{\\alpha}{2}$になる$T$です。\n",
    "一方、**片側検定**、の場合、$H_1$が、「本当の平均は$\\mu$よりも小さい」ならば累積確率密度が$\\alpha$になる$T$を下側$\\alpha$分位点とします。それに対し、$H_1$が、「本当の平均は$\\mu$よりも大きい」ならば累積確率密度が$1 - \\alpha$になる$T$を上側$\\alpha$分位点とします。。"
   ]
  },
  {
   "cell_type": "markdown",
   "id": "b569c8b0-1cf8-46de-8649-2b1b093c16f9",
   "metadata": {},
   "source": [
    "#### 例題"
   ]
  },
  {
   "cell_type": "markdown",
   "id": "1781c16c-9bb2-4407-9e49-e3e960e51a4a",
   "metadata": {},
   "source": [
    "工場からある部品を購入するとき、平均寿命1200時間以上という条件で納品を受け付けているものとします。その中から抜き取った見本5個について検査して、平均1120時間、標本の標準偏差100時間だったとします。この部品を受け入れるべきか、有意水準5%で検定します。"
   ]
  },
  {
   "cell_type": "markdown",
   "id": "8f2d6461-14d4-49f9-93ba-0dc573441f0f",
   "metadata": {},
   "source": [
    "[解法]帰無仮説$H_0$は、「母集団（納入品）の平均寿命は1200時間」となります。一方、対立仮説$H_1$は、「母集団（納入品）の平均寿命は1200時間より短い」となります。"
   ]
  },
  {
   "cell_type": "markdown",
   "id": "3cc55f1b-713a-4570-b29b-f702d66a1f52",
   "metadata": {},
   "source": [
    "また、、$\\mu = 1200, n = 5, \\bar{X} = 1120, S = 100$ですから、$T = (1120 - 1200)\\sqrt{5 - 1}/100 = -1.6$となります。"
   ]
  },
  {
   "cell_type": "markdown",
   "id": "4dc61d9e-678a-4bf5-8764-a575f0717a23",
   "metadata": {},
   "source": [
    "判定基準ですが、この場合、対立仮説としては、小さいことだけ示す、つまり、片側検定でいいので、自由度4に対する$t$分布の累積確率密度が0.05になる値$T_{0.05}$(つまり累積分布関数$F(X \\leqq x) = 0.05$となる$x$)より$T$が大きければ帰無仮説$H_0$は棄却されません。  \n",
    "$T_{0.05}$を求めるには、scipy.stats.t.ppf()を用います。"
   ]
  },
  {
   "cell_type": "code",
   "execution_count": 4,
   "id": "2fb23fd5-e1d8-42a9-965a-cc0486508a94",
   "metadata": {},
   "outputs": [],
   "source": [
    "import numpy as np\n",
    "from scipy import stats"
   ]
  },
  {
   "cell_type": "code",
   "execution_count": 7,
   "id": "c594f62b-52e3-423f-b601-ffce43f73c6e",
   "metadata": {},
   "outputs": [
    {
     "data": {
      "text/plain": [
       "-2.1318467813362907"
      ]
     },
     "execution_count": 7,
     "metadata": {},
     "output_type": "execute_result"
    }
   ],
   "source": [
    "stats.t.ppf(0.05,df=4)"
   ]
  },
  {
   "cell_type": "markdown",
   "id": "2a770c89-4603-4d04-aa03-3a1161f09794",
   "metadata": {},
   "source": [
    "これよりも-1.6のほうが大きいので、$H_0$は棄却されません。したがって、納品を受け付けざるを得ません。"
   ]
  },
  {
   "cell_type": "markdown",
   "id": "314b112f-32de-43da-93f9-91666ef658a1",
   "metadata": {},
   "source": [
    "#### 練習問題 ($t$検定による母集団の平均値の検定)"
   ]
  },
  {
   "cell_type": "markdown",
   "id": "fbeecd29-c2a9-4676-bcda-7fe30695a1c1",
   "metadata": {},
   "source": [
    "正規母集団からの$n = 9$の標本観測値が{26, 18, 19, 23, 22, 28, 20, 16, 26}でした。有意水準5%で次の仮説を検定しましょう。なお、$\\mu$は母集団の平均を表します。  \n",
    "(a) $H_0:\\mu = 25$, $H_1: \\mu \\lt 25$       　　 (b) $H_0: \\mu = 25$, $H_1: \\mu \\ne 25$"
   ]
  },
  {
   "cell_type": "markdown",
   "id": "c2dae620-4439-4bfe-819a-0551ddbdae79",
   "metadata": {},
   "source": [
    "ヒント：不偏分散$U^2$と標本数$n$から標準誤差$\\frac{U}{\\sqrt{n}}$を求め、それを用いて標本平均$\\bar{X}$を標準化した統計値$t_0$が、自由度$9 - 1$の$t$分布においてどれくらい端っこにいるかを調べます。  \n",
    "(a) は平均に小さい方に興味があるので、片側検定したがって、$t_0$と$t_{0.05}$の大小を比べます。  \n",
    "(b)は平均より大きい方にも小さい方にも興味があるので、両側検定です。したがって、$t_0$が$t_{0.025}$より小さい（左側）にあるか、または、$t_{0.975}$よりも大きい（右側）ならば、$H_1$が採用されます。"
   ]
  },
  {
   "cell_type": "code",
   "execution_count": 49,
   "id": "2493dd99-0142-4fbb-9e2d-ff6380e93ecc",
   "metadata": {},
   "outputs": [
    {
     "name": "stdout",
     "output_type": "stream",
     "text": [
      "mu < 25:  True\n",
      "mu ne 25:  False\n"
     ]
    }
   ],
   "source": [
    "import numpy as np\n",
    "from scipy import stats\n",
    "mu = 25\n",
    "sample = np.array([26,18,19,23,22,28,20,16,26])\n",
    "n = len(sample)\n",
    "s_mean = np.mean(sample)\n",
    "u_dev = np.std(sample,ddof=1) # 標本から不偏分散の平方根（標準偏差）を求める。ddof=1に注意\n",
    "t0 = (s_mean - mu)*np.sqrt(n)/u_dev # 標本からもとめたt統計量\n",
    "t025 = stats.t(df=n-1).ppf(0.025) #両側検定の場合の下側α分位点　（採択域下限）\n",
    "t05 = stats.t(df=n-1).ppf(0.05) # 片側検定の場合の棄却域上限（採択域下限）\n",
    "t975 = stats.t(df=n-1).ppf(0.975) # 両側検定の場合の上側α分位点　（採択域上限）\n",
    "print(\"mu < 25: \" ,t0 < t05) # 棄却される場合にTrue\n",
    "print(\"mu ne 25: \",(t0 < t025) or (t0 > t975)) # 棄却される場合にTrue\n",
    "#t025 < t0 < t975"
   ]
  },
  {
   "cell_type": "markdown",
   "id": "ee32da15-4f34-4a2a-baa2-b3d999f5b864",
   "metadata": {},
   "source": [
    "### 2. それぞれの母集団の分散が等しいとみなせる場合の、２標本の平均値の差"
   ]
  },
  {
   "cell_type": "markdown",
   "id": "a79fc343-a8bd-4eb3-a915-2a7b74d0a09f",
   "metadata": {},
   "source": [
    "前もって、$F$検定によって母集団の分散が等しいとみなせることを確認する必要があります。"
   ]
  },
  {
   "cell_type": "markdown",
   "id": "b3f9e403-beda-405c-81b6-1c4eea444b6a",
   "metadata": {},
   "source": [
    "標本数をそれぞれ$n_1, n_2$、標本平均をそれぞれ$\\mu_1, \\mu_2$、不偏分散をそれぞれ$U_1^2, U_2^2$とすると、"
   ]
  },
  {
   "cell_type": "markdown",
   "id": "6d7a7b7f-b2ce-4082-8eea-0dc01e28d64e",
   "metadata": {},
   "source": [
    "プールした（まとめた）分散$\\hat{\\sigma}^2$は、$$\\hat{\\sigma}^2 = \\frac{(n_1 - 1)U_1^2 + (n_2 - 1)U_2^2}{n_1 + n_2 - 2}$$"
   ]
  },
  {
   "cell_type": "markdown",
   "id": "79091a61-c3b4-4367-98d0-6505103be900",
   "metadata": {},
   "source": [
    "または。"
   ]
  },
  {
   "cell_type": "markdown",
   "id": "c7a9c409-6295-4d0f-8813-8f293003fddc",
   "metadata": {},
   "source": [
    "$$\\hat{\\sigma}^2 = \\frac{n_1S_1^2 + n_2S_2^2}{n_1 + n_2 - 2}$$"
   ]
  },
  {
   "cell_type": "markdown",
   "id": "b3041fd5-68de-4ec3-81ca-ed890241d9af",
   "metadata": {},
   "source": [
    "となります。  \n",
    "これに対して、$H_0$のもとでの統計量$t_0$は、"
   ]
  },
  {
   "cell_type": "markdown",
   "id": "0ae812f1-2828-45e7-a876-0f5bd4124db2",
   "metadata": {},
   "source": [
    "$$t_0 = \\frac{\\bar{X} - \\bar{Y} - (\\mu_1 - \\mu_2)}{\\frac{\\hat{\\sigma}}{\\sqrt{\\frac{n_1 n_2}{n_1 + n_2}}}}$$"
   ]
  },
  {
   "cell_type": "markdown",
   "id": "659704df-81a0-4ead-a6bc-3b2c3f60d5bd",
   "metadata": {},
   "source": [
    "書き換えると、"
   ]
  },
  {
   "cell_type": "markdown",
   "id": "395398b3-ced7-4b10-a499-803d1d2f1174",
   "metadata": {},
   "source": [
    "$$t_0 = \\frac{\\bar{X} - \\bar{Y} - (\\mu_1 - \\mu_2)}{\\hat{\\sigma}}\\sqrt{\\frac{n_1n_2}{n_1 + n_2}}$$"
   ]
  },
  {
   "cell_type": "markdown",
   "id": "780fb003-0ec6-4af5-9fe3-5933bfe36be7",
   "metadata": {},
   "source": [
    "となります。\n",
    "これが、自由度$n_1 + n_2 - 2$の$t$分布に従います。"
   ]
  },
  {
   "cell_type": "markdown",
   "id": "c994ebaa-af7b-4e7d-b412-93507006a362",
   "metadata": {},
   "source": [
    "#### 例題"
   ]
  },
  {
   "cell_type": "markdown",
   "id": "97f046c8-15d5-47bd-8f93-7c7b20502e26",
   "metadata": {},
   "source": [
    "メーカーAの部品のほうがメーカーBの部品よりも寿命が長いとみなせるでしょうか？　メーカーAのサンプルは、$n_1 = 25, \\mu_1 = 1224, S_1 = 36$、メーカーBのサンプルは、$n_2 = 16, \\mu_2 = 1036, S_2 = 40$ (個数以外の単位は時間)でした。"
   ]
  },
  {
   "cell_type": "markdown",
   "id": "2a097d62-4de5-47f6-b267-af947813879a",
   "metadata": {},
   "source": [
    "[解答] $H_0$は「$\\mu_1 - \\mu_2 = 0$」、$H_1$は、「$\\mu_1 > \\mu_2$」"
   ]
  },
  {
   "cell_type": "markdown",
   "id": "d2957bdb-a76a-4c51-9d79-a15542bb49a8",
   "metadata": {},
   "source": [
    "ですから、検定は片側検定でおこないます。統計量$t_0$が$H_0$のもとで分布関数$F(X \\geqq t_0) \\leqq \\alpha$ならば$H_0$は棄却されます。"
   ]
  },
  {
   "cell_type": "markdown",
   "id": "fc158d54-25e7-411c-9c41-f75a142a3086",
   "metadata": {},
   "source": [
    "このとき、$\\mu_1 = \\mu_2$と仮定すれば、プールした（まとめた）分散$$\\hat{\\sigma}^2 = \\sqrt{\\frac{58000}{39}}$$ \n",
    "そして$$t_0 = \\frac{1224 - 1036}{\\sqrt{\\frac{58000 x 41}{39 x 25 x 16}}} = 15.2$$"
   ]
  },
  {
   "cell_type": "markdown",
   "id": "cd2bfd0c-e1b7-41a3-a202-3b9de95046db",
   "metadata": {},
   "source": [
    " 一方、自由度39のとき$t_{0.95}$すなわち分布関数$F(X \\leqq t_{0.95}) = 0.95$は、"
   ]
  },
  {
   "cell_type": "code",
   "execution_count": 8,
   "id": "72f69520-e65d-4d70-9ba5-cd2fca12421e",
   "metadata": {},
   "outputs": [
    {
     "data": {
      "text/plain": [
       "1.6848751194973992"
      ]
     },
     "execution_count": 8,
     "metadata": {},
     "output_type": "execute_result"
    }
   ],
   "source": [
    "stats.t.ppf(0.95,df=39)"
   ]
  },
  {
   "cell_type": "markdown",
   "id": "a5f6f9e9-fadb-4e76-b10c-639d1cdb9d34",
   "metadata": {},
   "source": [
    "となります、このように、$t_{0}$のほうがずっと大きいので、$H_0$は棄却されます。"
   ]
  },
  {
   "cell_type": "markdown",
   "id": "c6232f35-93ae-483d-8ed1-6eb0b784feef",
   "metadata": {},
   "source": [
    "実際、$P-$値は、次のようなたいへん小さな値となります。"
   ]
  },
  {
   "cell_type": "code",
   "execution_count": 34,
   "id": "a1b1c4a5-0e97-4a19-a792-423f8c483cf0",
   "metadata": {},
   "outputs": [
    {
     "data": {
      "text/plain": [
       "2.802886512679565e-18"
      ]
     },
     "execution_count": 34,
     "metadata": {},
     "output_type": "execute_result"
    }
   ],
   "source": [
    "stats.t(df=39).sf(15.2)"
   ]
  },
  {
   "cell_type": "markdown",
   "id": "ceda8b6c-3c22-4c7b-a43d-8a0262dca01c",
   "metadata": {},
   "source": [
    "以上より、Aのほうが寿命が長いといえます。"
   ]
  },
  {
   "cell_type": "markdown",
   "id": "3e22a875-bd80-4100-bb90-157c7f681b21",
   "metadata": {},
   "source": [
    "### 3. 対応のある２標本の平均値の差の検定"
   ]
  },
  {
   "cell_type": "markdown",
   "id": "155a205c-cd29-40da-8041-9dd822549009",
   "metadata": {},
   "source": [
    "例えばある薬を処方したあとで体重が減少したかどうか調べるものとします。このとき、処方前と処方後の体重の対$(x_i,y_i)$（ただし$i = 1, 2, ..., n$）の間には当然正の相関があり、したがって、$(x, y)$の差$d = y - x$の分散$\\sigma_d^2$は$\\sigma_d^2 = \\sigma_x^2 + \\sigma_y^2 - \\sigma_{xy}$となり、独立な２標本の場合の$\\sigma_d^2 = \\sigma_x^2 + \\sigma_y^2$よりも小さくなります。"
   ]
  },
  {
   "cell_type": "markdown",
   "id": "3efdbd30-f934-4a91-b2f6-f57882f3ceac",
   "metadata": {},
   "source": [
    "ここで$\\sigma_{xy}$は$x$と$y$の間の共分散（次回説明します）で、独立な標本どうしでは無視できるものです。"
   ]
  },
  {
   "cell_type": "markdown",
   "id": "01b41999-c8a6-4361-aec0-9bcdfe1a5605",
   "metadata": {},
   "source": [
    "ですから、２標本の間で対を作ったほうが本当の効果を知るために有効です。そして、２標本の差の検定は、対の差という１標本の平均値の検定の問題へと帰着されます。"
   ]
  },
  {
   "cell_type": "markdown",
   "id": "4b8ac93c-12c3-4a67-94a3-7e96842e2662",
   "metadata": {},
   "source": [
    "$H_0$: $\\mu_d = 0$のもとで、$d_i$は平均$\\mu_d = 0$, 分散$\\sigma_d^2$の正規分布に従います。ですから想定する母集団の平均$\\mu = 0$ならびに標本の標準誤差$err = \\frac{\\sigma_d}{\\sqrt{n}} = \\frac{U_d}{\\sqrt{n}}$で標本平均$\\bar{d} = \\sum_{i= 1}^n{d/n}$を標準化した統計量$t$は、自由度$n - 1$の$t$分布に従います（ただし、$d$の不偏分散を$U_d^2$とします）。"
   ]
  },
  {
   "cell_type": "markdown",
   "id": "427600be-2739-487f-996e-b0d094b55a83",
   "metadata": {},
   "source": [
    "つまり、$$t = \\frac{\\bar{d} - \\mu}{err} = \\frac{\\bar{d}\\sqrt{n}}{U_d}$$が、自由度$n - 1$の$t$分布に従います。"
   ]
  },
  {
   "cell_type": "markdown",
   "id": "2fb910fd-6454-4a12-9ccd-a4f2f4f0d9cc",
   "metadata": {},
   "source": [
    "#### 例題"
   ]
  },
  {
   "cell_type": "markdown",
   "id": "50954e7c-c058-42c1-8ed5-5b1f698ea56d",
   "metadata": {},
   "source": [
    "あるダイエット方法の効果を確かめるために、無作為に選んだ$n = 10$人の候補者にその方法を適用したところ、実施前の体重と１ヶ月後の体重、ならびに増減は次のようになった。効果はあるか否か？（統計学基礎（日本統計学会編）より）"
   ]
  },
  {
   "cell_type": "markdown",
   "id": "3bfe5c74-3add-482d-a383-4907ff7abbcf",
   "metadata": {},
   "source": [
    "|ダイエット前|65.0|79.3|55.9|73.2|58.0|68.5|68.1|69.9|71.7|58.3|\n",
    "|--|--|--|--|--|--|--|--|--|--|--|\n",
    "|ダイエット後|65.1|75.1|49.5|69.9|55.0|64.3|65.3|70.8|75.2|53.5|\n",
    "|増減|0.1|-4.2|-6.4|-3.3|-3.0|-4.2|-2.8|0.9|3.5|-4.8|\n"
   ]
  },
  {
   "cell_type": "markdown",
   "id": "cdb1d91f-ca17-4f79-8aa5-f09a30152910",
   "metadata": {},
   "source": [
    "[解法]上のとおり"
   ]
  },
  {
   "cell_type": "markdown",
   "id": "94aab5fa-1a82-45ae-b425-5c2009b94e1f",
   "metadata": {},
   "source": [
    "ただし、$H_1$: $\\mu_d < 0$なので、片側検定とする。さらに、小さい方に興味があるので、、累積分布$F(X \\leqq t_0) \\leqq \\alpha$かどうかを調べる。"
   ]
  },
  {
   "cell_type": "code",
   "execution_count": 71,
   "id": "b13e8b85-9443-41e0-bf87-bcb21e46342b",
   "metadata": {},
   "outputs": [],
   "source": [
    "import numpy as np\n",
    "from scipy import stats\n",
    "x = np.array([65.0,79.3,55.9,73.2,58.0,68.5,68.1,69.9,71.7,58.3])\n",
    "y = np.array([65.1,75.1,49.5,69.9,55.0,64.3,65.3,70.8,75.2,53.5])\n",
    "d = y - x\n",
    "len_d = len(d)\n",
    "df_d = len_d - 1"
   ]
  },
  {
   "cell_type": "code",
   "execution_count": 68,
   "id": "cf3d76ef-ece7-4428-831d-5a4a4595150a",
   "metadata": {},
   "outputs": [],
   "source": [
    "mu_d = np.mean(d)\n",
    "sigma_d = np.std(d,ddof=1)"
   ]
  },
  {
   "cell_type": "markdown",
   "id": "9a22894a-39af-4694-9d1c-87270d7e339a",
   "metadata": {},
   "source": [
    "この標本での統計量$t_0$は次の通り。"
   ]
  },
  {
   "cell_type": "code",
   "execution_count": 74,
   "id": "2d762781-a194-447e-8774-12660e6bd276",
   "metadata": {},
   "outputs": [
    {
     "data": {
      "text/plain": [
       "-2.5428174926298563"
      ]
     },
     "execution_count": 74,
     "metadata": {},
     "output_type": "execute_result"
    }
   ],
   "source": [
    "t_0 = mu_d*np.sqrt(len_d)/sigma_d\n",
    "t_0"
   ]
  },
  {
   "cell_type": "markdown",
   "id": "5b76a38a-a3ac-43ef-8f9c-ee634335b3e3",
   "metadata": {},
   "source": [
    "$P-$値は次のようになり５％よりは小さいが１％よりは大きいことがわかる。"
   ]
  },
  {
   "cell_type": "code",
   "execution_count": 73,
   "id": "ebdb2b71-0d28-4e3f-8357-9119060f537c",
   "metadata": {},
   "outputs": [
    {
     "data": {
      "text/plain": [
       "0.015782264766517513"
      ]
     },
     "execution_count": 73,
     "metadata": {},
     "output_type": "execute_result"
    }
   ],
   "source": [
    "p_t0 = stats.t(df=df_d).cdf(t_0)\n",
    "p_t0"
   ]
  },
  {
   "cell_type": "markdown",
   "id": "90d132b7-d97e-4dd9-b910-ef285ee7ae14",
   "metadata": {},
   "source": [
    "なお、独立した２標本だと考えると、統計量は-0.652、自由度10 + 10 -2 = 18のt分布に従い、P-値は0.2613になり、効果がないことになる。"
   ]
  },
  {
   "cell_type": "code",
   "execution_count": 78,
   "id": "d0ab8c60-1fa9-48a9-8308-69377e080101",
   "metadata": {},
   "outputs": [
    {
     "name": "stdout",
     "output_type": "stream",
     "text": [
      "t統計量： -0.6519751332008623\n",
      "P-値： 0.26132801791310756\n"
     ]
    }
   ],
   "source": [
    "n_x = 10\n",
    "n_y = 10\n",
    "S2_x = np.var(x)\n",
    "S2_y = np.var(y)\n",
    "df_pooled = n_x + n_y -2\n",
    "S2_pooled = (n_x*S2_x + n_y*S2_y)/df_pooled\n",
    "sq_size = np.sqrt(n_x*n_y/(n_x + n_y))\n",
    "t0_pooled = mu_d*sq_size/np.sqrt(S2_pooled)\n",
    "p_pooled = stats.t(df=df_pooled).cdf(t0_pooled)\n",
    "print(\"t統計量：\",t0_pooled)\n",
    "print(\"P-値：\",p_pooled)"
   ]
  },
  {
   "cell_type": "markdown",
   "id": "4c3216b6-5548-4fc5-94ab-c4e91eb2e2aa",
   "metadata": {},
   "source": [
    "### $\\chi^2$検定"
   ]
  },
  {
   "cell_type": "markdown",
   "id": "a95226ec-fda2-4576-81c6-c962e24b94b6",
   "metadata": {},
   "source": [
    "$$X^2 = \\frac{nS^2}{\\sigma^2}$$ または $$X^2 = \\frac{(n - 1)U^2}{\\sigma^2}$$は自由度$(n - 1)$の$\\chi^2$分布に従います。"
   ]
  },
  {
   "cell_type": "markdown",
   "id": "49cfbc82-b180-4e74-ab41-ae4782d44465",
   "metadata": {},
   "source": [
    "ところで、$\\chi^2$分布は、もともとは、平均0, 分散1の標準正規分布に従うn個の確率変数$x_i$に対して、$$\\chi^2 = \\sum_{i = 1}^nx_i^2$$が自由度$n$の$\\chi^2$分布に従うとして発見されたのでした。"
   ]
  },
  {
   "cell_type": "markdown",
   "id": "0c9bc5db-16fb-46e4-8355-8da3a0a42185",
   "metadata": {},
   "source": [
    "ですから、標準正規分布する確率変数の2乗の総和として表現できる数量は$\\chi^2$分布に従います。  "
   ]
  },
  {
   "cell_type": "markdown",
   "id": "0a069aa1-f55c-450e-8b7b-1e4a44ac7ca9",
   "metadata": {},
   "source": [
    "また、次のような場合も、$\\chi^2$分布を示します。全部で$k$個の標本があり、それぞれが大きさ$n_i$だとします。また、それらの和$n_1 + n_2 + ... +n_k = n$とします。それぞれの標本で、ある事象の生起確率が$p_i$ (ただし、$p_1 + p_2  + ... + p_k = 1$)だとすると、$n$が十分大きいとき、$$\\sum_{i=1}^k\\frac{(n_i - np_i)^2}{np_i}$$は自由度$(k - 1)$の$\\chi^2$分布で近似されます。  \n",
    "そして一般に、度数分布において$i$番目（ただし$1 \\leqq i \\leqq k$）の度数について、実際の観察度数を$f_i$、計算された期待値を$e_i$で表すと、すべての$e_i$が十分大きいという条件のもとで、$$\\chi^2 = \\sum_{i=1}^k\\frac{(f_i - e_i)^2}{e_1}$$は自由度$(k - 1)$の$\\chi^2$分布で近似されます。この性質は、後述する適合度検定あるいはクロス表の独立性検定で利用されます。"
   ]
  },
  {
   "cell_type": "markdown",
   "id": "ca1ae087-d16f-4d67-a08a-d408cff16ed8",
   "metadata": {},
   "source": [
    "#### $\\chi^2$検定の利用：１．母分散の検定"
   ]
  },
  {
   "cell_type": "markdown",
   "id": "67424eab-454f-4504-9b31-4361417ebeba",
   "metadata": {},
   "source": [
    "想定している分散を$\\sigma^2$としているとき、標本から、$$X^2 = \\frac{nS^2}{\\sigma^2}$$ または $$X^2 = \\frac{(n - 1)U^2}{\\sigma^2}$$を計算します。これは自由度$(n - 1)$の$\\chi^2$分布に従います。"
   ]
  },
  {
   "cell_type": "markdown",
   "id": "5382c9f6-bc98-4532-8371-d35d2df171cf",
   "metadata": {},
   "source": [
    "帰無仮説$H_0$は、「母分散が$\\sigma^2$である」ですから、$H_0$が有意水準$\\alpha$で棄却されないためには、両側検定の場合$\\chi^2$の値は自由度$n - 1$の$\\chi^2_{\\alpha/2}$と$\\chi^2_{1 - \\alpha/2}$の間になくてはいけません。  \n",
    "一方、片側検定、すなわち対立仮説が「母分散は$\\sigma^2$より大きい」である場合（分散が小さいことが問題になることはほとんどないと思います）では、$H_0$が有意水準$\\alpha$で棄却されないためには、$\\chi^2$の値は$\\chi^2_{1 - \\alpha}$より小さくなくてはいけません。"
   ]
  },
  {
   "cell_type": "markdown",
   "id": "619e2756-6bc0-41b2-bc85-2ec6751a84bc",
   "metadata": {},
   "source": [
    "##### 例題"
   ]
  },
  {
   "cell_type": "markdown",
   "id": "e04d0cbc-8513-448d-a430-51cceacffd51",
   "metadata": {},
   "source": [
    "ある工場が製品のある指標のバラツキを$\\sigma = 0.01$で管理しているとします。$n = 10$個のサンプルで検査して、$S^2 = 0.00025$という結果を得たとします。$\\alpha = 0.05$で管理水準が維持されているかどうかを検定します。  "
   ]
  },
  {
   "cell_type": "markdown",
   "id": "f80d2968-b64a-4a46-a9c7-23bbf20109d8",
   "metadata": {},
   "source": [
    "[解答]この場合の検定は片側検定です。したがって帰無仮説は$\\sigma^2 = 0.0001$、対立仮説は$\\sigma^2 > 0.0001$です。 \n",
    "$\\chi^2 = \\frac{10 x 0.00025}{0.0001} = 25$で、判定点は自由度$10 -1 = 9$に対して$\\chi^2_{0.95}$です。この値は"
   ]
  },
  {
   "cell_type": "code",
   "execution_count": 10,
   "id": "f3b67cb6-4629-4643-84f9-615de134925a",
   "metadata": {},
   "outputs": [
    {
     "data": {
      "text/plain": [
       "16.918977604620448"
      ]
     },
     "execution_count": 10,
     "metadata": {},
     "output_type": "execute_result"
    }
   ],
   "source": [
    "stats.chi2.ppf(0.95, df=9)"
   ]
  },
  {
   "cell_type": "markdown",
   "id": "f4bb8e02-1617-4e8e-b087-bd7a71ee0aab",
   "metadata": {},
   "source": [
    "ですから16.92となり、これより$\\chi^2$は大きいです。従って、$H_0$は棄却され、$H_1$が採用されます。"
   ]
  },
  {
   "cell_type": "markdown",
   "id": "3ab1d1cd-4294-4afc-a49f-537a62c1280b",
   "metadata": {},
   "source": [
    "なお、$P-$値は、次のようになりますので、$\\alpha = 0.01$でも$H_0$は棄却されます。"
   ]
  },
  {
   "cell_type": "code",
   "execution_count": 36,
   "id": "733548c9-9ec0-4189-8db0-e9c36b6bcddc",
   "metadata": {},
   "outputs": [
    {
     "data": {
      "text/plain": [
       "0.002971180485917624"
      ]
     },
     "execution_count": 36,
     "metadata": {},
     "output_type": "execute_result"
    }
   ],
   "source": [
    "stats.chi2(df=9).sf(25)"
   ]
  },
  {
   "cell_type": "markdown",
   "id": "438b9a9b-f3d5-469d-a251-8ccdb6226ed6",
   "metadata": {},
   "source": [
    "#### 2. 適合度検定"
   ]
  },
  {
   "cell_type": "markdown",
   "id": "51d6ae15-f1e8-42de-9ef6-21b9900ce5ed",
   "metadata": {},
   "source": [
    "$k$個の区分があって、$i$ ($i = 1, 2, ..., k$)番目の区分での観察度数$f_i$の期待値を$e_i$で表すと、すべての$e_i (i = 1, 2, ..., k)$が十分大きいという条件のもとで、$$\\chi^2 = \\sum_{i=1}^k\\frac{(f_i - e_i)^2}{e_1}$$は自由度$(k - 1)$の$\\chi^2$分布で近似されます。"
   ]
  },
  {
   "cell_type": "markdown",
   "id": "5828f83e-71cd-4f66-979f-f1b8cb4bf745",
   "metadata": {},
   "source": [
    "一般には、$e_i \\geqq 5$で、さらに$k \\geqq 5$が望ましいとされています。  \n",
    "もし$e_i$で5未満のものが含まれるときは、区分を合併して、どの区分でも度数の期待値が5以上になるようにします。  \n",
    "また、$k \\lt 5$の場合は、$e_i$がかなり大きくなっていることが望ましいとされています。"
   ]
  },
  {
   "cell_type": "markdown",
   "id": "eb5cc011-255c-429c-b39c-863cd9631639",
   "metadata": {},
   "source": [
    "##### 例題"
   ]
  },
  {
   "cell_type": "markdown",
   "id": "4d8575a3-6fcc-485b-9f64-c6dc9780650f",
   "metadata": {},
   "source": [
    "サイコロを90回振って、次のような目の出方をしたとします。サイコロの構造は公正でしょうか？  \n"
   ]
  },
  {
   "cell_type": "markdown",
   "id": "73342078-8cc6-45cd-b660-60ec03b92409",
   "metadata": {},
   "source": [
    "|$i$|1|2|3|4|5|6|total|  \n",
    "|--|--|--|--|--|--|--| --| \n",
    "|$n_i$|20|12|9|16|11|22|90|   "
   ]
  },
  {
   "cell_type": "markdown",
   "id": "a46b4e0f-352b-477d-972f-6f2305287889",
   "metadata": {},
   "source": [
    "[解法] $e_i$はすべての区分で$\\frac{1}{6}\\, x\\, 90\\, =\\, 15$となります。  \n",
    "従って、$\\chi^2 = \\frac{1}{15}\\{(20 - 15)^2 + (12 - 15)^2 + (9 - 15)^2 + (16 - 15)^2 + (11 - 15)^2 + (22 - 15)^2\\} = 9.07$"
   ]
  },
  {
   "cell_type": "markdown",
   "id": "e709b6f9-6d30-4578-966a-d830c5d4e4ea",
   "metadata": {},
   "source": [
    "一応プログラムで書いてみましょう。"
   ]
  },
  {
   "cell_type": "code",
   "execution_count": 23,
   "id": "517182b0-ea77-44f7-8507-1bbbefd31a35",
   "metadata": {},
   "outputs": [
    {
     "name": "stdout",
     "output_type": "stream",
     "text": [
      "9.066666666666666\n"
     ]
    }
   ],
   "source": [
    "import numpy as np\n",
    "f = np.array([20, 12,9,16,11,22]) # 各区分の観察度数\n",
    "f2 = sum((f - 15)**2)/15 # fの各要素についての繰り返しになっていることに注意\n",
    "print(f2)"
   ]
  },
  {
   "cell_type": "markdown",
   "id": "fc0dee32-0c4a-4221-8f54-520ba3657bbb",
   "metadata": {},
   "source": [
    "このような統計量を生み出す標本は、どれくらい珍しいできごとでしょうか？$\\chi^2$の自由度は$6 - 1 = 5$で、有意水準を$\\alpha = 0.05$とすれば、検定の判定点は、自由度5の$\\chi^2_{0.05} = 11.07$となります。  \n",
    "この値はscipy.stats.chi2.ppf()によって直接次のように求められます。ppfとはpercent point functionのことで、x = 0から（この場合0以上の値しかとらないので）その値まで確率密度関数を積分したら（つまり0からその値までの、確率密度分布の面積が）与えられた値になるような、xの値を返します。この場合、面積が0.95です。つまりそれより右の面積が$\\alpha$0.05になります。  \n",
    "別の言葉で言えば、確率密度関数の累積分布関数$F(X \\leqq x) = 0.95$となるような$x$を返します。"
   ]
  },
  {
   "cell_type": "code",
   "execution_count": 12,
   "id": "c5b01400-0330-4cbd-a40e-a2695c046710",
   "metadata": {},
   "outputs": [],
   "source": [
    "from scipy import stats"
   ]
  },
  {
   "cell_type": "code",
   "execution_count": 50,
   "id": "fbba8d61-5379-4499-b730-7c6b51e2eb3d",
   "metadata": {},
   "outputs": [
    {
     "data": {
      "text/plain": [
       "11.070497693516351"
      ]
     },
     "execution_count": 50,
     "metadata": {},
     "output_type": "execute_result"
    }
   ],
   "source": [
    "stats.chi2(df=5).ppf(0.95) # そこまで積分したら0.95になるようなxの値を返す。"
   ]
  },
  {
   "cell_type": "markdown",
   "id": "da601875-89a2-4f69-9e76-7f8b81397990",
   "metadata": {},
   "source": [
    "標本から計算した$\\chi^2$はこれより小さいので、生起確率が0.05よりも大きく、採択域内です。従って、サイコロの構造が不公正だと判断するには十分な疑わしさではないと思われます。"
   ]
  },
  {
   "cell_type": "markdown",
   "id": "69b05bfd-4762-4ab2-8e70-689c569a3cf5",
   "metadata": {},
   "source": [
    "実際、これ以上の$\\chi^2$が出る確率はどれくらいでしょうか。stats.chi2.sf()で調べます。右側の面積を出す関数です。"
   ]
  },
  {
   "cell_type": "code",
   "execution_count": 28,
   "id": "485bf1cd-5744-40a0-b8c6-8d6101bdc5d8",
   "metadata": {},
   "outputs": [
    {
     "data": {
      "text/plain": [
       "0.10630445698569001"
      ]
     },
     "execution_count": 28,
     "metadata": {},
     "output_type": "execute_result"
    }
   ],
   "source": [
    "stats.chi2.sf(9.07,df=5)"
   ]
  },
  {
   "cell_type": "markdown",
   "id": "0b221358-fa41-4e10-9bff-2b4e1ed28938",
   "metadata": {},
   "source": [
    "#### 3. クロス集計表（分割表, 連関表）の独立性の検定"
   ]
  },
  {
   "cell_type": "markdown",
   "id": "6c91b143-cf63-4f38-a104-6987a3405646",
   "metadata": {},
   "source": [
    "クロス表とは、標本における、２つの質的分類の間の関係を表したものです。  \n",
    "\n",
    "||$B_1$|$B_2$|...|$B_j$|...|$B_s$|Sum|  \n",
    "|:---|:---|:---|:---:|:---|:---:|:---|:---|  \n",
    "|$A_1$|$n_{11}$|$n_{12}$|...|$n_{1j}$|...|$n_{1s}$|$n_{1.}$| \n",
    "|$A_2$|$n_{21}$|$n_{22}$|...|$n_{2j}$|...|$n_{2s}$|$n_{2.}$|\n",
    "|...|...|...|...|...|...|...|..|  \n",
    "|$A_i$|$n_{i1}$|$n_{i2}$|...|$n_{ij}$|...|$n_{is}$|$n_{i.}$|\n",
    "|...|...|...|...|...|...|...|..|\n",
    "|$A_r$|$n_{r1}$|$n_{r2}$|...|$n_{rj}$|...|$n_{rs}$|$n_{r.}$|  \n",
    "|Sum|$n_{.1}$|$n_{.2}$|...|$n_{.j}$|...|$n_{.s}$|  \n",
    "\n",
    "$n_{ij}$は、$A_i$かつ$B_j$である度数を表します。  \n",
    "もし$A$と$B$が互いに独立ならば、$A$と$B$の同時確率はそれぞれの確率の積で与えられます。\n",
    "従って、クロス集計表の$i$行$j$列の度数$n_{ij}$の期待度数$E_{ij}$は、$n$ $\\times$ $i$行の割合 $\\times$ $j$列の割合すなわち、$$ E_{ij} = \\frac{n_{i.}}{n}\\frac{n_{.j}}{n}n = \\frac{n_{i.}n_{.j}}{n}$$となります。  "
   ]
  },
  {
   "cell_type": "markdown",
   "id": "1a2ef64b-05df-482a-a2db-033348439266",
   "metadata": {},
   "source": [
    "この$E_{ij}$を用いて、統計量$\\chi^2$は、$$\\chi^2 = \\sum_i\\sum_j(\\frac{n_{ij}-E_{ij})^2}{E_{ij}}$$で、自由度は$(r - 1)(s - 1)$です。"
   ]
  },
  {
   "cell_type": "markdown",
   "id": "58df81bf-3159-4a98-8116-cff314c86f0d",
   "metadata": {},
   "source": [
    "##### 例題"
   ]
  },
  {
   "cell_type": "markdown",
   "id": "ad024528-ffbc-4328-9633-aeb415920922",
   "metadata": {},
   "source": [
    "景気動向調査で来年度の景気動向の予想を尋ねたところ、次のような結果が得られました。回答者の事業の種類によて景気の予想に差異がみられるかどうか判定しましょう。"
   ]
  },
  {
   "cell_type": "markdown",
   "id": "b12fd1f0-5f3c-45a8-93d5-a38e44f5cb29",
   "metadata": {},
   "source": [
    "|景気の予想|金融|工業|商業|農業|\n",
    "|--|--|--|--|--|\n",
    "|好転|40|55|80|75|\n",
    "|後退|15|30|40|50|\n",
    "|不変|20|25|30|40|"
   ]
  },
  {
   "cell_type": "markdown",
   "id": "0e3ac33e-8fb3-4006-9b11-3d36c441565f",
   "metadata": {},
   "source": [
    "[解法] 景気の予想に5%水準での有意差があるかどうかを調べます。帰無仮説$H_0$は、「回答者の事業の属性」と「景気の予想」という２つの属性が独立である、です。"
   ]
  },
  {
   "cell_type": "code",
   "execution_count": 1,
   "id": "942b1405-e2d4-41a1-8839-f46357197ae8",
   "metadata": {},
   "outputs": [],
   "source": [
    "import numpy as np\n",
    "from scipy import stats"
   ]
  },
  {
   "cell_type": "markdown",
   "id": "6e0dd132-f8d5-4181-9876-e19bddef46dd",
   "metadata": {},
   "source": [
    "表をnumpyの配列で表現します。配列の配列として、２次元以上の配列を表現できます。"
   ]
  },
  {
   "cell_type": "code",
   "execution_count": 2,
   "id": "def9195c-ba4c-49c9-a799-e70edb531da4",
   "metadata": {},
   "outputs": [],
   "source": [
    "data = np.array([[40,55,80,75],[15,30,40,50],[20,25,30,40]])"
   ]
  },
  {
   "cell_type": "markdown",
   "id": "35907d2a-893b-4223-91df-6f92169d5058",
   "metadata": {},
   "source": [
    "これは、.shape()メソッドでわかるように、３行４列の行列です。"
   ]
  },
  {
   "cell_type": "code",
   "execution_count": 3,
   "id": "c8397707-0c59-4e3c-85dc-d43511da60e3",
   "metadata": {},
   "outputs": [
    {
     "data": {
      "text/plain": [
       "(3, 4)"
      ]
     },
     "execution_count": 3,
     "metadata": {},
     "output_type": "execute_result"
    }
   ],
   "source": [
    "data.shape"
   ]
  },
  {
   "cell_type": "markdown",
   "id": "5d1c2e14-af58-4a02-aa4b-f70c33c54fae",
   "metadata": {},
   "source": [
    "$i$行の和を求めます。np.sum()関数は、行方向の和を求めるにはaxis=1を指定します。"
   ]
  },
  {
   "cell_type": "code",
   "execution_count": 9,
   "id": "9f68315e-d0e0-4108-9eb4-223a00f335d2",
   "metadata": {},
   "outputs": [
    {
     "data": {
      "text/plain": [
       "array([250, 135, 115])"
      ]
     },
     "execution_count": 9,
     "metadata": {},
     "output_type": "execute_result"
    }
   ],
   "source": [
    "sum_row = np.sum(data,axis=1)\n",
    "sum_row"
   ]
  },
  {
   "cell_type": "markdown",
   "id": "c6a9eb4d-3a84-46b0-a696-de2a1ad49bbd",
   "metadata": {},
   "source": [
    "$j$列の和を求めます。np.sum()関数は、列方向の和を求めるにはaxis=0を指定します。"
   ]
  },
  {
   "cell_type": "code",
   "execution_count": 11,
   "id": "67d3a067-c111-44c6-abdf-bac8394a4322",
   "metadata": {},
   "outputs": [
    {
     "data": {
      "text/plain": [
       "array([ 75, 110, 150, 165])"
      ]
     },
     "execution_count": 11,
     "metadata": {},
     "output_type": "execute_result"
    }
   ],
   "source": [
    "sum_col = np.sum(data,axis=0)\n",
    "sum_col"
   ]
  },
  {
   "cell_type": "markdown",
   "id": "5f05e054-c515-4e78-9cfc-271ac72936fa",
   "metadata": {},
   "source": [
    "全体の和を求めます。"
   ]
  },
  {
   "cell_type": "code",
   "execution_count": 12,
   "id": "2f6f41bb-8b89-40ff-97d5-8aadd73c722c",
   "metadata": {},
   "outputs": [
    {
     "data": {
      "text/plain": [
       "500"
      ]
     },
     "execution_count": 12,
     "metadata": {},
     "output_type": "execute_result"
    }
   ],
   "source": [
    "sum_all = np.sum(data)\n",
    "sum_all"
   ]
  },
  {
   "cell_type": "markdown",
   "id": "84ac5a1a-c305-4c23-ab4e-22d50dc991c2",
   "metadata": {},
   "source": [
    "$H_0$のもとでの、期待値の行列（配列の配列）を作ります。上の式で示したようにそのためにはまず、上で求めた行と列の和の配列から、$i$行の和と$j$列の和どうしをかけた行列をつくり、それを、全体の和で割ります。  \n",
    "下のコードでは、行の和、列の和の配列をそれぞれ列ベクトルと行ベクトルに直すために、.reshape()メソッドをどのように使うのかに注目してください。また、長さ$A$の列ベクトルと長さ$B$の行ベクトルは行列の乗算が可能（それぞれは、列の数=行の数=1　なので）で、乗算の結果$A$行$B$列の行列になることも思い出してください。"
   ]
  },
  {
   "cell_type": "code",
   "execution_count": 22,
   "id": "24b6a484-1588-4451-bb64-1811d23975fa",
   "metadata": {},
   "outputs": [
    {
     "data": {
      "text/plain": [
       "array([[37.5 , 55.  , 75.  , 82.5 ],\n",
       "       [20.25, 29.7 , 40.5 , 44.55],\n",
       "       [17.25, 25.3 , 34.5 , 37.95]])"
      ]
     },
     "execution_count": 22,
     "metadata": {},
     "output_type": "execute_result"
    }
   ],
   "source": [
    "data_exp = np.dot(sum_row.reshape(-1,1),sum_col.reshape(1,-1))/sum_all\n",
    "data_exp"
   ]
  },
  {
   "cell_type": "markdown",
   "id": "1a757f92-8aa9-4246-87cc-bab03fa090b9",
   "metadata": {},
   "source": [
    "実際の値に対してこれら期待値からの偏差平方を期待値で標準化した値の総和が$\\chi^2$統計量となります。"
   ]
  },
  {
   "cell_type": "code",
   "execution_count": 27,
   "id": "630b6e55-6929-4dcb-8efd-8d0745eed596",
   "metadata": {},
   "outputs": [
    {
     "data": {
      "text/plain": [
       "4.35851266286049"
      ]
     },
     "execution_count": 27,
     "metadata": {},
     "output_type": "execute_result"
    }
   ],
   "source": [
    "chi2 = np.sum((data - data_exp)**2/data_exp)\n",
    "chi2"
   ]
  },
  {
   "cell_type": "markdown",
   "id": "cb6b4ef4-2a59-4003-94d4-974e330aacd3",
   "metadata": {},
   "source": [
    "一方、自由度$(3 - 1) \\times (4 - 1) = 6$の$\\chi^2$分布において累積分布関数$F(X \\leqq x) = 0.975$となる値は、"
   ]
  },
  {
   "cell_type": "code",
   "execution_count": 29,
   "id": "c943de32-9710-454c-a1e8-2e2c70ea6453",
   "metadata": {},
   "outputs": [
    {
     "data": {
      "text/plain": [
       "14.44937533544792"
      ]
     },
     "execution_count": 29,
     "metadata": {},
     "output_type": "execute_result"
    }
   ],
   "source": [
    "stats.chi2(df=6).ppf(0.975)"
   ]
  },
  {
   "cell_type": "markdown",
   "id": "d8271857-a062-457b-829c-d4b95726e65c",
   "metadata": {},
   "source": [
    "となり、上で求めた$\\chi^2$統計量より大きいので、$H_0$は有意水準5%で棄却されません。"
   ]
  },
  {
   "cell_type": "markdown",
   "id": "f0606207-061b-44f4-bacb-50cf915fb742",
   "metadata": {},
   "source": [
    "また、この分布において、上のような$\\chi^2$統計量より大きな値をとる確率（つまり$P$値のことです）は、次のようになり、全然珍しくないことが直接的にわかります。"
   ]
  },
  {
   "cell_type": "code",
   "execution_count": 30,
   "id": "cfbde257-4aa3-4ee3-a5ff-e3c48cd42bd8",
   "metadata": {},
   "outputs": [
    {
     "data": {
      "text/plain": [
       "0.6282811149526217"
      ]
     },
     "execution_count": 30,
     "metadata": {},
     "output_type": "execute_result"
    }
   ],
   "source": [
    "stats.chi2(df=6).sf(chi2)"
   ]
  },
  {
   "cell_type": "markdown",
   "id": "4154a301-ad24-47cc-91e3-ca2bb2843c9a",
   "metadata": {},
   "source": [
    "以上の計算は、次のように、scipy.stats.chi2_contingency()関数で行うことができます。出力は４つの要素からなるタプルで、順に、$\\chi^2$統計量、$P$値、自由度、期待値の行列、です。"
   ]
  },
  {
   "cell_type": "code",
   "execution_count": 5,
   "id": "3c8ccf66-0fe6-4711-9ec2-8ff234986d29",
   "metadata": {},
   "outputs": [
    {
     "data": {
      "text/plain": [
       "(4.35851266286049,\n",
       " 0.6282811149526217,\n",
       " 6,\n",
       " array([[37.5 , 55.  , 75.  , 82.5 ],\n",
       "        [20.25, 29.7 , 40.5 , 44.55],\n",
       "        [17.25, 25.3 , 34.5 , 37.95]]))"
      ]
     },
     "execution_count": 5,
     "metadata": {},
     "output_type": "execute_result"
    }
   ],
   "source": [
    "stats.chi2_contingency(data)"
   ]
  },
  {
   "cell_type": "markdown",
   "id": "4fef8fa5-6f5b-4a4e-ac53-a0fb56b41de8",
   "metadata": {},
   "source": [
    "### $F$検定"
   ]
  },
  {
   "cell_type": "markdown",
   "id": "918aa0ff-d34a-4368-8649-fd89713227f2",
   "metadata": {},
   "source": [
    "前回示したように、$$X_1 = \\frac{n_1 S_1^2}{\\sigma_1^2} = \\frac{(n_1 - 1) U_1^2}{\\sigma_1^2}$$と$$X_2 = \\frac{n_2 S_2^2}{\\sigma_2^2} = \\frac{(n_2 - 1) U_2^2}{\\sigma_2^2}$$"
   ]
  },
  {
   "cell_type": "markdown",
   "id": "5735a427-0b12-4bbe-bfdb-fb40142e8938",
   "metadata": {},
   "source": [
    "に対して、$X_1/自由度$と$X_2/自由度$の比$\\frac{X_1/(n_1 - 1)}{X_2/(n_2 - 1)}$すなわち、$$\\frac{\\sigma_2^2}{\\sigma_1^2}\\frac{U_1^2}{U_2^2}$$が$F$分布にしたがいます。ここで、$$\\sigma_1 = \\sigma_2$$と仮定すると、"
   ]
  },
  {
   "cell_type": "markdown",
   "id": "15ffc81c-59e0-4a95-9790-6d4ac61e244f",
   "metadata": {},
   "source": [
    "統計量$F_0 = \\frac{U_1^2}{U_2^2}$が自由度$n_1 - 1, \\;\\; n_2 - 1$の$F$分布に従います。"
   ]
  },
  {
   "cell_type": "markdown",
   "id": "5aa33b91-e816-4415-94ac-7cc3d7e01d9f",
   "metadata": {},
   "source": [
    "#### 例題"
   ]
  },
  {
   "cell_type": "markdown",
   "id": "85d196b1-34a0-497c-9759-99343a7686b0",
   "metadata": {},
   "source": [
    "ある製品をＡ、Ｂ２人の職工が作っています。製作品のサイズを検査したところ、個数$n$と標本標準偏差$s$は次のとおりでした。精度に差があるとみてよいですか？　　\n",
    "(A) $n = 26$, $s = 1.34$    (B) $n = 34$, $s = 0.98$  "
   ]
  },
  {
   "cell_type": "markdown",
   "id": "c29bf35f-84b7-4db8-9951-6ea085383fb5",
   "metadata": {},
   "source": [
    "[解法] AさんのほうがBさんよりも分散が大きい（精度が低い）と考えられます。ですから、大きいかどうかだけ調べればよいので、片側検定です。  \n",
    "$H_0$: $\\sigma_A^2 = \\sigma_B^2$, $H_1$: $\\sigma_A^2 > \\sigma_B^2$ （片側検定）"
   ]
  },
  {
   "cell_type": "markdown",
   "id": "2d5bdb81-75b8-4fb3-99d8-5ea19ce1a407",
   "metadata": {},
   "source": [
    "不偏分散$U_A$, $U_B$を計算するため、$nS^2 = (n - 1)U^2$の関係から、$U^2 = \\frac{n}{n - 1}S^2$を用いて、$S$から$U$に換算します。  \n",
    "検定統計量$F_0 = \\frac{U_A^2}{U_B^2} = \\frac{n_A}{n_A - 1}s_A^2/\\frac{n_B}{n_B - 1}s_B^2$"
   ]
  },
  {
   "cell_type": "markdown",
   "id": "91859337-72f6-4539-8bf7-53d101f698f1",
   "metadata": {},
   "source": [
    "自由度$n_A - 1$と$n_B - 1$の$F$分布においてこの$F_0$の$P-$値つまりこの値よりも極端な値が出る確率を計算します。  \n",
    "それは、累積分布関数$F(X \\leqq x)$について$F(X \\geqq F_0)$つまり$1 - F(X \\leqq F_0)$を計算することです。"
   ]
  },
  {
   "cell_type": "markdown",
   "id": "f7989736-6fd4-45b2-9b96-cd32c701c21f",
   "metadata": {},
   "source": [
    "あるいは、有意水準$\\alpha$の$F$統計量の限界値よりも$F_0$のほうが大きいことを示すことです。"
   ]
  },
  {
   "cell_type": "markdown",
   "id": "d6cb713f-b119-4ac8-87ae-7627946543b0",
   "metadata": {},
   "source": [
    "stats.f(dfn=分子の自由度, dfd=分母の自由度).sf($F_0$)で$P-$値を、stats.f(dfn=分子の自由度, dfd=分母の自由度).ppf(1 - $\\alpha$)で限界値を求めます。"
   ]
  },
  {
   "cell_type": "markdown",
   "id": "912d82d2-31d4-4668-8ecc-e26c8133a969",
   "metadata": {},
   "source": [
    "言うまでもなく、dfnはnumerator (分子)のdegrees of freedom（自由度）を、dfdはdenominator (分母)のdegrees of freedomを意味します。"
   ]
  },
  {
   "cell_type": "code",
   "execution_count": 46,
   "id": "8ede27b7-6ef3-4365-857e-92f421867e48",
   "metadata": {},
   "outputs": [
    {
     "name": "stdout",
     "output_type": "stream",
     "text": [
      "F統計量： 1.8872342406350302\n",
      "P-値： 0.04390913792519928\n",
      "5%水準での限界値： 1.8435765189860287\n",
      "1%水準での限界値： 2.38570089284967\n",
      "5%水準でAさんの分散が大きい： True\n",
      "1%水準でAさんの分散が大きい： False\n"
     ]
    }
   ],
   "source": [
    "import numpy as np\n",
    "from scipy import stats\n",
    "n_a = 26\n",
    "s_a = 1.34\n",
    "n_b = 34\n",
    "s_b = 0.98\n",
    "u_a = s_a**2*n_a/(n_a - 1) #不偏分散の計算（A）\n",
    "u_b = s_b**2*n_b/(n_b - 1) #不偏分散の計算（B）\n",
    "f0 = u_a/u_b #F統計量\n",
    "df_a = n_a - 1 #自由度（A）\n",
    "df_b = n_b - 1 #自由度（B）\n",
    "p = stats.f(dfn=df_a,dfd=df_b).sf(f0)\n",
    "f_05 = stats.f(dfn=df_a,dfd=df_b).ppf(0.95)\n",
    "f_01 = stats.f(dfn=df_a,dfd=df_b).ppf(0.99)\n",
    "print(\"F統計量：\",f0)\n",
    "print(\"P-値：\",p)\n",
    "print(\"5%水準での限界値：\",f_05)\n",
    "print(\"1%水準での限界値：\",f_01)\n",
    "print(\"5%水準でAさんの分散が大きい：\",f0 > f_05)\n",
    "print(\"1%水準でAさんの分散が大きい：\",f0 > f_01)"
   ]
  },
  {
   "cell_type": "markdown",
   "id": "2d83cf44-add4-4269-9028-efb60a3154d0",
   "metadata": {},
   "source": [
    "## （補足）対応のある２標本の平均の差についての検定"
   ]
  },
  {
   "cell_type": "code",
   "execution_count": null,
   "id": "2443da42-a420-4174-91fc-4ed02cf6c9f0",
   "metadata": {},
   "outputs": [],
   "source": []
  }
 ],
 "metadata": {
  "kernelspec": {
   "display_name": "Python 3 (ipykernel)",
   "language": "python",
   "name": "python3"
  },
  "language_info": {
   "codemirror_mode": {
    "name": "ipython",
    "version": 3
   },
   "file_extension": ".py",
   "mimetype": "text/x-python",
   "name": "python",
   "nbconvert_exporter": "python",
   "pygments_lexer": "ipython3",
   "version": "3.9.9"
  }
 },
 "nbformat": 4,
 "nbformat_minor": 5
}
