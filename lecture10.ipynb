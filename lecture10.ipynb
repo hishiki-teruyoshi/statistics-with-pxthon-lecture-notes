{
 "cells": [
  {
   "cell_type": "markdown",
   "id": "726a7cdd-1198-4734-ba13-3e4a6a93ffde",
   "metadata": {},
   "source": [
    "# 第１０回　推測統計（２）（推定）"
   ]
  },
  {
   "cell_type": "markdown",
   "id": "ce5ebd07-bd2f-4a9a-818b-6b7b13e056d2",
   "metadata": {},
   "source": [
    "今回は、母集団とサンプル、点推定の考え方、区間推定の考え方、といった内容を扱います。"
   ]
  },
  {
   "cell_type": "markdown",
   "id": "d7de6d73-0d3c-496b-a9c1-2f4bd59bbb12",
   "metadata": {},
   "source": [
    "## 母集団と標本（サンプル）"
   ]
  },
  {
   "cell_type": "markdown",
   "id": "b1477442-34b0-4808-8be5-a3d706bb22d1",
   "metadata": {},
   "source": [
    "推測統計では、分析の対象とする母集団と、母集団から抽出された標本（サンプル）を明確に区別する必要があります。母集団と標本との関係ですが、標本は、母集団から抽出するごとに異なる値をとる確率変数だとみなします。従って、標本値には誤差を伴います。"
   ]
  },
  {
   "cell_type": "markdown",
   "id": "f19b834b-5378-4ceb-99cf-6cff35b546e7",
   "metadata": {},
   "source": [
    "ここでは、標本がどのような性質をもつかを、まとめます。"
   ]
  },
  {
   "cell_type": "markdown",
   "id": "2beb92b5-0a28-47cc-8c8c-0f324ea2fdb7",
   "metadata": {},
   "source": [
    "### 全数調査と標本調査"
   ]
  },
  {
   "cell_type": "markdown",
   "id": "90d05d6e-f2eb-4574-9e71-517fdc51ee91",
   "metadata": {},
   "source": [
    "母集団のサイズがあまり大きくない場合には全部を調べることが可能で、全数調査といいます。しかし多くの場合は、母集団はサイズが大きく全てを把握できないので、母集団の標本を分析して母集団の特性を推測します。このような調査方法を標本調査といいます。また、これに基づく推定や、次回扱う検定のことを、統計的推測といいます。"
   ]
  },
  {
   "cell_type": "markdown",
   "id": "724f1bd6-9e36-4977-83dc-3009cc6215e5",
   "metadata": {},
   "source": [
    "### 統計量"
   ]
  },
  {
   "cell_type": "markdown",
   "id": "16b7f386-041b-4354-9b80-8ed6e3c69853",
   "metadata": {},
   "source": [
    "**母集団**から無作為に取り出された大きさ$n$の**標本**はどのような特徴を持つでしょうか？  \n",
    "その特徴を示す、標本から導き出した数量のことを、**統計量**といいます。  \n",
    "例えば平均（**標本平均**ともいいます）$$\\bar{X} = \\frac{X_1 + X_2 + ... + X_n}{n}$$ は、**統計量**のひとつです。  "
   ]
  },
  {
   "cell_type": "markdown",
   "id": "b1dc18c3-3603-40e2-9820-e3d7ad1821f7",
   "metadata": {},
   "source": [
    "#### 実験１　サイズの異なる標本と母集団との統計量の違い"
   ]
  },
  {
   "cell_type": "markdown",
   "id": "b7e7693a-d7b6-4951-8c6f-904d979b3bca",
   "metadata": {},
   "source": [
    "母集団の性質としてたいていの場合は、**正規分布**を想定します。正規分布に従う母集団から抽出された標本はそのサイズ（**標本の大きさ**、つまり、標本の中に含まれるデータの数）によって、どのような性質を示すでしょうか？"
   ]
  },
  {
   "cell_type": "markdown",
   "id": "6fa0aa03-2704-4187-a877-b7a70144c653",
   "metadata": {},
   "source": [
    "実際に確かめてみましょう。平均が100で分散が36の正規分布を示す10000個の数をつくります。これを母集団とします。"
   ]
  },
  {
   "cell_type": "code",
   "execution_count": 31,
   "id": "975e6d40-b142-4105-a67d-14974aeb7592",
   "metadata": {},
   "outputs": [],
   "source": [
    "import numpy as np\n",
    "from scipy import stats\n",
    "%matplotlib inline\n",
    "import matplotlib.pyplot as plt\n",
    "## ここまでは準備\n",
    "generator = np.random.default_rng(12345)\n",
    "population_2 = generator.normal(loc=100, scale=6, size=10000)"
   ]
  },
  {
   "cell_type": "code",
   "execution_count": null,
   "id": "43cf801f-c567-4861-9006-52d1f7ccd835",
   "metadata": {},
   "outputs": [],
   "source": []
  },
  {
   "cell_type": "markdown",
   "id": "bfaafddf-4177-40c7-bfc5-f7a66d61f8a9",
   "metadata": {},
   "source": [
    "平均と分散を計算し、だいたいそれぞれ100と36になっていることを確認しましょう。"
   ]
  },
  {
   "cell_type": "code",
   "execution_count": 77,
   "id": "3787d3ae-a309-4097-a554-c17949649752",
   "metadata": {},
   "outputs": [
    {
     "name": "stdout",
     "output_type": "stream",
     "text": [
      "平均:  100.0098075749368\n",
      "分散:  36.33885906614785\n"
     ]
    }
   ],
   "source": [
    "print(\"平均: \",np.mean(population_2))\n",
    "print(\"分散: \",np.var(population_2))"
   ]
  },
  {
   "cell_type": "markdown",
   "id": "b360c3b3-35df-4f9a-8928-9380332c2e73",
   "metadata": {},
   "source": [
    "次に、サイズの大きい標本と小さい標本とで、性質を比べてみましょう。まず、大きい方の、100個の標本を抽出しましょう。"
   ]
  },
  {
   "cell_type": "code",
   "execution_count": 32,
   "id": "f60618ef-e52c-47d1-ba06-faccc6118267",
   "metadata": {},
   "outputs": [],
   "source": [
    "sample_2 = np.random.choice(population_2,100,replace=False)"
   ]
  },
  {
   "cell_type": "markdown",
   "id": "123b7995-0fc1-46d3-bf9b-f8048e84e579",
   "metadata": {},
   "source": [
    "平均と分散を計算しましょう。"
   ]
  },
  {
   "cell_type": "code",
   "execution_count": 36,
   "id": "2fc2fa12-414b-4d37-a1aa-791b8758f624",
   "metadata": {},
   "outputs": [
    {
     "name": "stdout",
     "output_type": "stream",
     "text": [
      "平均:  99.89692532340548\n",
      "分散:  36.745630523083605\n"
     ]
    }
   ],
   "source": [
    "print(\"平均: \",np.mean(sample_2))\n",
    "print(\"分散: \",np.var(sample_2))"
   ]
  },
  {
   "cell_type": "markdown",
   "id": "56302fa9-0f33-4871-b761-c2a7a6f38ad9",
   "metadata": {},
   "source": [
    "あと２回、100個抽出して、それぞれ、平均と分散を計算しましょう。"
   ]
  },
  {
   "cell_type": "code",
   "execution_count": 40,
   "id": "cd4bf227-5221-48ee-9649-1a972f930a52",
   "metadata": {},
   "outputs": [
    {
     "name": "stdout",
     "output_type": "stream",
     "text": [
      "平均:  100.22605284092592\n",
      "分散:  36.90867359959816\n"
     ]
    }
   ],
   "source": [
    "sample_3 = np.random.choice(population_2,100,replace=False)\n",
    "print(\"平均: \",np.mean(sample_3))\n",
    "print(\"分散: \",np.var(sample_3))"
   ]
  },
  {
   "cell_type": "code",
   "execution_count": 46,
   "id": "2d8932e1-3be8-47a6-a7a1-ab534cc25810",
   "metadata": {},
   "outputs": [
    {
     "name": "stdout",
     "output_type": "stream",
     "text": [
      "平均:  99.61344150070114\n",
      "分散:  42.063339064304344\n"
     ]
    }
   ],
   "source": [
    "sample_4 = np.random.choice(population_2,100,replace=False)\n",
    "print(\"平均: \",np.mean(sample_4))\n",
    "print(\"分散: \",np.var(sample_4))"
   ]
  },
  {
   "cell_type": "markdown",
   "id": "6b8c1e4a-138a-4a85-b694-a5884ef7e727",
   "metadata": {},
   "source": [
    "では、9個抽出するとどうでしょうか？３回抽出してみます。"
   ]
  },
  {
   "cell_type": "code",
   "execution_count": 47,
   "id": "da4c0288-28e6-4a47-9676-9c266ac95506",
   "metadata": {},
   "outputs": [
    {
     "name": "stdout",
     "output_type": "stream",
     "text": [
      "平均:  103.77784432498915\n",
      "分散:  29.100499366100728\n"
     ]
    }
   ],
   "source": [
    "sample_5 = np.random.choice(population_2,9,replace=False)\n",
    "print(\"平均: \",np.mean(sample_5))\n",
    "print(\"分散: \",np.var(sample_5))"
   ]
  },
  {
   "cell_type": "code",
   "execution_count": 48,
   "id": "f8cf70f6-4530-4e86-b004-19eeba745b55",
   "metadata": {},
   "outputs": [
    {
     "name": "stdout",
     "output_type": "stream",
     "text": [
      "平均:  101.2012280509692\n",
      "分散:  20.974676618320053\n"
     ]
    }
   ],
   "source": [
    "sample_6 = np.random.choice(population_2,9,replace=False)\n",
    "print(\"平均: \",np.mean(sample_6))\n",
    "print(\"分散: \",np.var(sample_6))"
   ]
  },
  {
   "cell_type": "code",
   "execution_count": 49,
   "id": "76ee3330-694a-4ba3-a09f-a19e51171370",
   "metadata": {},
   "outputs": [
    {
     "name": "stdout",
     "output_type": "stream",
     "text": [
      "平均:  99.33217212401412\n",
      "分散:  19.791602554171362\n"
     ]
    }
   ],
   "source": [
    "sample_7 = np.random.choice(population_2,9,replace=False)\n",
    "print(\"平均: \",np.mean(sample_7))\n",
    "print(\"分散: \",np.var(sample_7))"
   ]
  },
  {
   "cell_type": "markdown",
   "id": "284672e2-84a5-440e-b12a-03813a733591",
   "metadata": {},
   "source": [
    "ここからいくつかのことが予想できると思います。\n",
    "- 平均については、標本が大きくても小さくても、だいたい母集団と近い値が出る。\n",
    "- 分散については、標本が小さいと小さくなりがちである。\n",
    "- 平均も分散も、標本が大きい方が、安定した値が出る傾向がある。"
   ]
  },
  {
   "cell_type": "markdown",
   "id": "7e793189-4323-47a8-8d3a-a05e7d72657e",
   "metadata": {},
   "source": [
    "これらのうち、２番めの性質に対応するために、**不偏分散**を計算する必要が出てくるのですが、その話は後でします。"
   ]
  },
  {
   "cell_type": "markdown",
   "id": "76ca9c00-8fbd-46c8-a8ca-db77436b34f8",
   "metadata": {},
   "source": [
    "３番めの性質について、**標本の大きさによる平均のブレ（誤差）の大きさ**を見積もるために、次に説明する「標本分布」を調べる必要があります。"
   ]
  },
  {
   "cell_type": "markdown",
   "id": "2e2927d6-b0fb-4457-b3f7-adcda36c6e75",
   "metadata": {},
   "source": [
    "### 標本分布"
   ]
  },
  {
   "cell_type": "markdown",
   "id": "b89212f8-4715-4f8a-a3f3-2db4e057f67c",
   "metadata": {},
   "source": [
    "母集団からの標本の取り出しかたは通常たくさんあるので、**標本から作った統計量は、いつも同じというわけではなく、一定の範囲に分布する**でしょう。  \n",
    "これによって生じる、**統計量の分布**のことを、**標本分布**といいます。"
   ]
  },
  {
   "cell_type": "markdown",
   "id": "4334747c-920c-45e5-a06e-06c7bcb6e35a",
   "metadata": {},
   "source": [
    "標本サイズによって標本分布がどうなるかを、シミュレーションで調べてみましょう。"
   ]
  },
  {
   "cell_type": "markdown",
   "id": "1727d712-7538-45e2-b3b7-8ca34404f176",
   "metadata": {},
   "source": [
    "#### 実験２　標本サイズによる標本平均の誤差"
   ]
  },
  {
   "cell_type": "markdown",
   "id": "3191c7a7-16f2-4ecb-845b-4961df3d6625",
   "metadata": {},
   "source": [
    "ここでは、**標本の大きさによる平均のブレ（誤差）の大きさ**を見積もるために、標本サイズと標本分布との関係をシミュレーションします。まず、100個から成る標本を抽出することを100回繰り返したとき、標本ごとに1つ、全部で100個の平均値ができるわけですが、その100個の平均値から計算した「<u>**標本平均の平均**</u>」と「<u>**標本平均の分散**</u>」はどの程度になるか、シミュレーションしてみます。"
   ]
  },
  {
   "cell_type": "code",
   "execution_count": 105,
   "id": "f143326a-0962-4d1d-bdcf-015b6845ae48",
   "metadata": {},
   "outputs": [
    {
     "name": "stdout",
     "output_type": "stream",
     "text": [
      "平均の平均:  99.9589636099926\n",
      "平均の分散:  0.367631538682958\n"
     ]
    }
   ],
   "source": [
    "mean_100 = np.zeros(100)\n",
    "for i in range(100):\n",
    "    sample_i = np.random.choice(population_2,100,replace=False)\n",
    "    sp_mean = np.mean(sample_i)\n",
    "    mean_100[i] = sp_mean\n",
    "print(\"平均の平均: \",np.mean(mean_100))\n",
    "print(\"平均の分散: \",np.var(mean_100))"
   ]
  },
  {
   "cell_type": "markdown",
   "id": "6d66d9d1-c592-4bfb-bb84-03ef8fbe41b1",
   "metadata": {},
   "source": [
    "平均の分散を100倍すると、母集団の分散とほぼ等しくなることがわかりますね。これには理由があります、後ほど説明します。  \n",
    "それに対して、9個抽出することを100回おこなったときの標本分布を、すなわち、平均の平均と平均の分散はどの程度になるか、シミュレーションしてみます。"
   ]
  },
  {
   "cell_type": "code",
   "execution_count": 116,
   "id": "91665963-cc5f-4b92-b119-75964b03df92",
   "metadata": {},
   "outputs": [
    {
     "name": "stdout",
     "output_type": "stream",
     "text": [
      "平均の平均:  99.84846876103522\n",
      "平均の分散:  4.176200681703528\n",
      "平均の分散ｘ9:  37.58580613533175\n"
     ]
    }
   ],
   "source": [
    "mean_100 = np.zeros(100)\n",
    "for i in range(100):\n",
    "    sample_i = np.random.choice(population_2,9,replace=False)\n",
    "    sp_mean = np.mean(sample_i)\n",
    "    mean_100[i] = sp_mean\n",
    "print(\"平均の平均: \",np.mean(mean_100))\n",
    "print(\"平均の分散: \",np.var(mean_100))\n",
    "print(\"平均の分散ｘ9: \", np.var(mean_100)*9)"
   ]
  },
  {
   "cell_type": "markdown",
   "id": "1b7d6f57-298c-411a-8b9f-ee43062b15cd",
   "metadata": {},
   "source": [
    "このように、100個抽出しても、9個抽出しても、標本平均の平均は母集団の平均とだいたい一致します。  \n",
    "しかし、標本平均のブレ（分散）の大きさは、標本の大きさが9個の場合のほうが、100個のときよりも、大きいことがわかります。つまり、標本の大きさが小さいと、標本平均をとりあえず母集団の平均とみなすことは構いませんが、標本が大きい場合よりもかなりの幅（**誤差**）があることを考慮する必要があります。"
   ]
  },
  {
   "cell_type": "markdown",
   "id": "e29b4725-ac8c-4414-9e00-afdd2846ca07",
   "metadata": {},
   "source": [
    "さらに、上のシミュレーション結果から、標本の大きさが100の場合、標本平均の分散が母集団の分散の$\\frac{1}{100}$程度に、標本の大きさが9の場合、標本平均の分散が母集団の分散の$\\frac{1}{9}$程度になっているように見えます。"
   ]
  },
  {
   "cell_type": "markdown",
   "id": "6ff9d7ca-1be1-4873-871d-dfd09b2f70d9",
   "metadata": {},
   "source": [
    "### 平均値の標本誤差"
   ]
  },
  {
   "cell_type": "markdown",
   "id": "34229ce1-fa0f-4bc8-aa2f-f2ac3cd91022",
   "metadata": {},
   "source": [
    "実際、<font color=Maroon>母集団が平均$\\mu$、分散$\\sigma^2$の正規分布（以下、これを$$N(\\mu,\\sigma^2)$$と表します）に従うとき、  \n",
    "$n$個の値からなる標本の平均$\\bar{X}$は、$$N\\Bigl(\\mu, \\frac{\\sigma^2}{n}\\Bigr)$$の正規分布に従う</font>ことが次のようにして示せます。"
   ]
  },
  {
   "cell_type": "markdown",
   "id": "ad2a3eb5-7d37-4fa2-bf6c-c5dc2da2520f",
   "metadata": {},
   "source": [
    "$n$個の標本の標本平均は、$$\\bar{X} = \\frac{X_1 + X_2 + ... + X_n}{n} = \\frac{X_1}{n} + \\frac{X_2}{n} + ... + \\frac{X_n}{n}$$です。ですから、何回も$n$個の標本抽出をしたとき、その**平均の平均**は、$n$個の**独立な**数$\\frac{X_i}{n}$ （ただし$i = 1,2, ... n$）の**平均の総和**となります。同様に、**平均の分散**はそれら$n$個の独立な数の**分散の総和**となります。  \n",
    "ここで、どのような分布であれ、母集団に属するすべての$X$に対して、$\\frac{1}{n}$をかけた数の平均ならびに分散はもとの平均ならびに分散のそれぞれ$\\frac{1}{n}$、$\\frac{1}{n^2}$になることを思い出してください。  \n",
    "これにより、$\\frac{X_i}{n}$は$$N\\Bigl(\\frac{\\mu}{n},\\frac{\\sigma^2}{n^2}\\Bigr)$$の正規分布に従います。  \n",
    "また、互いに独立な正規分布の集団の値を足して作った集団の平均は、もとの集団の平均を足したものになり、分散も、もとの集団の分散を足したものになります。  \n",
    "ですから、$n$個の$\\frac{X_i}{n}$(ただし$i = 1, 2, ..., n$)の総和$\\bar{X}$は$$N\\Bigl(\\mu,\\frac{\\sigma^2}{n}\\Bigr)$$の正規分布に従います。"
   ]
  },
  {
   "cell_type": "markdown",
   "id": "017a9379-e292-44fd-962f-c3a109d5ba6a",
   "metadata": {},
   "source": [
    "実は、**中心極限定理**により、次のことがいえます。"
   ]
  },
  {
   "cell_type": "markdown",
   "id": "96676242-4b91-4b00-b7fa-b636e052de5d",
   "metadata": {},
   "source": [
    "母集団の平均値$\\mu$と分散$\\sigma^2$が有限値ならば、分布の形がどうであっても、標本の大きさ$n$が大であれば、標本平均値の分布は正規分布で近似され、$n$が大であるほどその近似度は大である。"
   ]
  },
  {
   "cell_type": "markdown",
   "id": "e554b788-026d-40ae-a714-7f97b1d8c328",
   "metadata": {},
   "source": [
    "ですから、**母集団の分布の形がどうであっても、大標本の場合ならば、平均値$\\mu$、分散$\\sigma^2$の母集団からとった大きさ$n$の標本の平均値$\\bar{x}$は、平均値$\\mu$、分散$\\sigma^2 / n$の正規分布をし**、その標本誤差は<font color=Maroon>標本平均値の標準偏差</font><font color=Maroon>$$\\sigma_{\\bar{x}} = \\frac{\\sigma}{\\sqrt{n}}$$</font>の3倍を超えることはきわめてまれで、2倍を超えることも5%以下です。  \n",
    "この$\\sigma_{\\bar{x}}$を**平均値の標本誤差**または**標準誤差**といいます。"
   ]
  },
  {
   "cell_type": "markdown",
   "id": "56496aef-8691-4528-b343-b89851df1467",
   "metadata": {},
   "source": [
    "#### 実験３　標本の平均値の分布"
   ]
  },
  {
   "cell_type": "markdown",
   "id": "297ddd62-5cb9-4067-b1e4-6140f1d28528",
   "metadata": {},
   "source": [
    "この実験では、標本の平均値の分布を調べ、上で説明した誤差の範囲内であるかどうか確かめます。"
   ]
  },
  {
   "cell_type": "markdown",
   "id": "5a70a279-55f8-4c41-a897-57c8845acdf8",
   "metadata": {},
   "source": [
    "そのために、平均が100で分散が25の正規分布をしめす10000個の数から100個の数を選びその平均値を求めます。これを1000回繰り返したときの平均値の分布を調べます。"
   ]
  },
  {
   "cell_type": "markdown",
   "id": "3a283942-dab6-46a4-afed-d65646eb41ea",
   "metadata": {},
   "source": [
    "まずモジュールのインポートです。"
   ]
  },
  {
   "cell_type": "code",
   "execution_count": 62,
   "id": "31112342-daf8-4a4f-b6f3-0cef358cf9a7",
   "metadata": {},
   "outputs": [],
   "source": [
    "import numpy as np\n",
    "from scipy import stats\n",
    "%matplotlib inline\n",
    "import matplotlib.pyplot as plt"
   ]
  },
  {
   "cell_type": "markdown",
   "id": "c59ba319-c73f-4daf-b99f-de70dfc177cd",
   "metadata": {},
   "source": [
    "次のコードで数を10000個生成します。"
   ]
  },
  {
   "cell_type": "markdown",
   "id": "af183231-79a0-4568-ab0e-9b6565938850",
   "metadata": {},
   "source": [
    "numpy.random.default_rng()は乱数を発生します。引数を与えると結果が同じになります。  \n",
    "またそれによってできた乱数のメソッドで、特定の分布をもつ数の集合を作ることができます。例えばメソッドnormal()で正規分布を示す数の集合を作ることができます。引数には、loc, scale, sizeなどのオプションがあり、それぞれ、平均、標準偏差、集合のサイズを指定します。"
   ]
  },
  {
   "cell_type": "code",
   "execution_count": 63,
   "id": "26ec232b-4561-4ffa-9539-aaea0d8cfc7a",
   "metadata": {},
   "outputs": [],
   "source": [
    "generator = np.random.default_rng(12345)\n",
    "population_1 = generator.normal(loc=100, scale=5, size=10000)"
   ]
  },
  {
   "cell_type": "markdown",
   "id": "d5b7d8c6-5f32-4c25-be82-c72f1d4cb56e",
   "metadata": {},
   "source": [
    "ここからランダムに数を100個選び、平均値を求め、格納します。これを1000回繰り返します。"
   ]
  },
  {
   "cell_type": "code",
   "execution_count": 64,
   "id": "957817fd-4dfa-47e0-ba2f-6dfebd8e5e0c",
   "metadata": {},
   "outputs": [],
   "source": [
    "sq_2 = np.zeros(1000)\n",
    "for i in range(1000):\n",
    "    sample_1 = np.random.choice(population_1,100,replace=False)\n",
    "    sp_mean = np.mean(sample_1)\n",
    "    sq_2[i] = sp_mean"
   ]
  },
  {
   "cell_type": "markdown",
   "id": "b4b4d3c7-8c79-451b-a19c-456896cf85cb",
   "metadata": {},
   "source": [
    "ヒストグラムを作り、正規分布$N(100,25/100)$と重ね描きします。$\\frac{\\sigma}{\\sqrt{n}} = 5/10 = 0.5$で、上のとおり、平均値からこれの２倍 = $1$を離れるものがたいへん少ないことが見て取れます。"
   ]
  },
  {
   "cell_type": "markdown",
   "id": "4b9ae1cd-cd8d-4c4a-83bd-b697cb200e18",
   "metadata": {},
   "source": [
    "正規分布の確率密度関数はstats.norm.pdf()です。パラメータとして平均locと標準偏差scaleを与えることができます。デフォルトはloc=0, scale=1つまり標準正規分布です。"
   ]
  },
  {
   "cell_type": "code",
   "execution_count": 68,
   "id": "3248a124-d16c-4fef-bd06-a21c12db9711",
   "metadata": {},
   "outputs": [
    {
     "data": {
      "text/plain": [
       "<matplotlib.legend.Legend at 0x209d37dfa00>"
      ]
     },
     "execution_count": 68,
     "metadata": {},
     "output_type": "execute_result"
    },
    {
     "data": {
      "image/png": "[encoded data removed]",
      "text/plain": [
       "<Figure size 432x288 with 2 Axes>"
      ]
     },
     "metadata": {
      "needs_background": "light"
     },
     "output_type": "display_data"
    }
   ],
   "source": [
    "# figureインスタンスを作る\n",
    "fig = plt.figure()\n",
    "# Y軸を2つ作る。\n",
    "ax1 = fig.subplots() # 1つめのY軸（左側）\n",
    "ax2 = ax1.twinx() # 2つめのY軸　（右側）\n",
    "x_bins = np.arange(94.5,105.5,0.5) #パラメータbinsに与える、各階級の左端の値。94.5~104.5まで0.5刻み\n",
    "x_vals = np.arange(94.5,105.6,0.1) # 正規分布の確率密度関数の値を94.5から105.5まで0.1刻みの確率変数に対して求める\n",
    "ax1.hist(sq_2,bins=x_bins)\n",
    "ax2.plot(x_vals,stats.norm(loc=100,scale=0.5).pdf(x_vals),label='normal',color='k') # 正規分布\n",
    "ax2.legend()"
   ]
  },
  {
   "cell_type": "markdown",
   "id": "5b2cf6d1-c4c4-4cbc-8a64-8a655e8934c7",
   "metadata": {},
   "source": [
    "#### 練習問題（平均値の標本誤差）"
   ]
  },
  {
   "cell_type": "markdown",
   "id": "32f76484-a2a9-4793-9a83-d5b08b4e379a",
   "metadata": {},
   "source": [
    "母集団の標準偏差が$\\sigma = 25$のとき、$n=100$の標本で標本平均値を計算して、$|\\bar{x} - \\mu| \\leq 4$となる確率を求めよ。"
   ]
  },
  {
   "cell_type": "markdown",
   "id": "d46973e8-a523-4fc3-81cb-dbde8e629cbe",
   "metadata": {},
   "source": [
    "ヒント：母集団の分布は不明ですが、標本の大きさ$n$が大なので、中心極限定理により、標本平均値$\\bar{x}$は近似的に正規分布に従います。  \n",
    "標本誤差$$\\sigma_{\\bar{x}} = \\frac{\\sigma}{\\sqrt{n}} = \\frac{25}{10} = 2.5$$です。"
   ]
  },
  {
   "cell_type": "markdown",
   "id": "76057756-aa87-4c22-9ef8-f989f04cb433",
   "metadata": {},
   "source": [
    "標本平均値$\\bar{x}$から平均値の平均値$\\mu$をひいて誤差で割ったもの$z_0$の分布は標準正規分布$N(0,1)$になります。"
   ]
  },
  {
   "cell_type": "markdown",
   "id": "68bb61db-b27a-45a5-8d4c-9f3d3d69f23a",
   "metadata": {},
   "source": [
    "$-4 \\le \\bar{x} - \\mu \\le 4$です。そして、$z_0 = \\frac{\\bar{x} - \\mu}{\\sigma_{\\bar{x}}}$です。  \n",
    "つまり、$z_0$は$-4/2.5$から$4/2.5$までの間です。その間に$z_0$が収まる確率は、累積分布関数$F(X \\leqq x)$の差になります。  \n",
    "標準正規分布の累積分布関数はstats.norm.cdf()です。"
   ]
  },
  {
   "cell_type": "code",
   "execution_count": 28,
   "id": "9569c823-ef3f-4975-ac76-ffff1a47fb37",
   "metadata": {},
   "outputs": [
    {
     "name": "stdout",
     "output_type": "stream",
     "text": [
      "Ans.:  0.890401416600884\n"
     ]
    }
   ],
   "source": [
    "import numpy as np\n",
    "from scipy import stats\n",
    "sigma = 25\n",
    "n = 100\n",
    "diff_lower = -4\n",
    "diff_upper = 4\n",
    "err = sigma/np.sqrt(n)\n",
    "z_lower = -4/err\n",
    "z_upper = 4/err\n",
    "cdf_lower = stats.norm.cdf(z_lower)\n",
    "cdf_upper = stats.norm.cdf(z_upper)\n",
    "print (\"Ans.: \",cdf_upper - cdf_lower)"
   ]
  },
  {
   "cell_type": "markdown",
   "id": "cfd592f9-0e01-49c9-bdbc-da091cbb3657",
   "metadata": {},
   "source": [
    "### 標本分散と不偏分散"
   ]
  },
  {
   "cell_type": "markdown",
   "id": "76013158-58f2-4eb5-9d28-41cf9d530c28",
   "metadata": {},
   "source": [
    "一方、標本の分散$$S^2 = \\frac{1}{n}\\sum_{i=1}^{n}(X - \\bar{X})^2$$は、母集団の分散$\\sigma^2$とどのような関係があるでしょうか？上で、$n=100$の場合と$n=9$の場合とを比べると。$n$が大きくなるほど母集団の分散に近づくのではないかと考えることでしょう。"
   ]
  },
  {
   "cell_type": "markdown",
   "id": "10c2c9d7-b9d1-4ee8-9502-20a550131a04",
   "metadata": {},
   "source": [
    "$n$個の標本の平均を $\\bar{X}$、標本の分散を$S^2$ とします。$S^2$の求め方は、  \n",
    "$$S^2 = \\frac{1}{n}\\sum_{i=1}^{n}(X - \\bar{X})^2$$  \n",
    "です。"
   ]
  },
  {
   "cell_type": "markdown",
   "id": "f3d7d5f9-e39a-40d8-97b4-3a12132f7e71",
   "metadata": {},
   "source": [
    "このとき、母集団の平均を$\\mu$、分散を$\\sigma^2$とすると、"
   ]
  },
  {
   "cell_type": "markdown",
   "id": "d304527e-8fb6-4049-abb0-3388d5b1681e",
   "metadata": {},
   "source": [
    "$X - \\bar{X} = (X - \\mu) - (\\bar{X} - \\mu)$ですから、"
   ]
  },
  {
   "cell_type": "markdown",
   "id": "281222a7-ad1b-47d2-bc37-233bf8e6c66e",
   "metadata": {},
   "source": [
    "$(X - \\bar{X})^2 = ((X - \\mu) - (\\bar{X} - \\mu))^2 = (X - \\mu)^2 -2(X - \\mu)(\\bar{X} - \\mu) + (\\bar{X} - \\mu)^2$　となりますので"
   ]
  },
  {
   "cell_type": "markdown",
   "id": "b8a3e6c0-040a-4462-b94c-7e7594d00b88",
   "metadata": {},
   "source": [
    "$$S^2 = \\frac{1}{n}\\sum_{i=1}^{n}(X - \\bar{X})^2 $$ "
   ]
  },
  {
   "cell_type": "markdown",
   "id": "93ace294-8570-4608-8050-2820d32c9960",
   "metadata": {},
   "source": [
    "$$= \\frac{1}{n}\\sum_{i=1}^{n}(X - \\mu)^2 -\\frac{1}{n}2\\sum_{i=1}^{n}(X - \\mu)(\\bar{X} - \\mu) + \\frac{1}{n}\\sum_{i=1}^{n}(\\bar{X} - \\mu)^2$$ "
   ]
  },
  {
   "cell_type": "markdown",
   "id": "6e4c8127-ae2b-4dde-bc23-f17db341b011",
   "metadata": {},
   "source": [
    "$$= \\frac{1}{n}\\sum_{i=1}^{n}(X - \\mu)^2 -\\frac{1}{n}2(\\bar{X} - \\mu)(\\sum_{i=1}^{n}X - \\sum_{i=1}^{n}\\mu) + \\frac{1}{n}n(\\bar{X} - \\mu)^2$$"
   ]
  },
  {
   "cell_type": "markdown",
   "id": "ab8e9d01-dd6a-49e7-aed9-a9923ba1d359",
   "metadata": {},
   "source": [
    "$$= \\frac{1}{n}\\sum_{i=1}^{n}(X - \\mu)^2 -\\frac{1}{n}2(\\bar{X} - \\mu)(n(\\bar{X} - \\mu)) + \\frac{1}{n}n(\\bar{X} - \\mu)^2$$"
   ]
  },
  {
   "cell_type": "markdown",
   "id": "84909e1d-c7f4-47cf-955a-8dea7c640f4f",
   "metadata": {},
   "source": [
    "$$= \\frac{1}{n}\\sum_{i=1}^{n}(X - \\mu)^2 -(\\bar{X} - \\mu)^2$$"
   ]
  },
  {
   "cell_type": "markdown",
   "id": "6905b8f1-b959-4f20-945d-f5b1611d71a1",
   "metadata": {},
   "source": [
    "そして、$(X - \\mu)^2$の期待値が$\\sigma^2$である（母集団の分散なので）ことと、$(\\bar{X} - \\mu)^2$の期待値が$\\frac{\\sigma^2}{n}$である(標本平均の分散なので)ことから、$S^2$の期待値は、"
   ]
  },
  {
   "cell_type": "markdown",
   "id": "2474fd0a-2c43-43d4-8b91-69ec99db3c55",
   "metadata": {},
   "source": [
    "$\\frac{1}{n}n\\sigma^2 - \\frac{\\sigma^2}{n} = \\sigma^2 - \\frac{1}{n}\\sigma^2 = \\frac{n-1}{n}\\sigma^2$"
   ]
  },
  {
   "cell_type": "markdown",
   "id": "206a1f77-5155-4836-9c7a-41569bcb4b70",
   "metadata": {},
   "source": [
    "となります。**つまり、$nS^2 = (n-1)\\sigma^2$であり**、したがって、$$\\sigma^2 = \\frac{nS^2}{n-1} = \\frac{1}{n - 1}\\sum_{i=1}^{n}(X - \\bar{X})^2$$となります。標本分散からこうして求められる数$U$を**不偏分散**といいます。"
   ]
  },
  {
   "cell_type": "markdown",
   "id": "114d9498-8d46-499a-897b-1600559fc4e1",
   "metadata": {},
   "source": [
    "このように、**標本分散と不偏分散との関係**は、<font color=Maroon>$nS^2 = (n - 1)U^2$</font>です。この関係は、以後、$S^2$を$U^2$に置き換えるときに使います。"
   ]
  },
  {
   "cell_type": "markdown",
   "id": "b260bd16-e448-499f-8efc-3a7661fa84e2",
   "metadata": {},
   "source": [
    "### 分散の標本誤差"
   ]
  },
  {
   "cell_type": "markdown",
   "id": "cb588941-59c7-4581-b980-620e92b19fc9",
   "metadata": {},
   "source": [
    "実験３では、標本の平均値の分布の形を調べて図示し、平均値の平均ならびに分散を母集団の平均ならびに分散と比較しました。  \n",
    "一方で、標本の分散の分布はどのような形になるのでしょうか？"
   ]
  },
  {
   "cell_type": "markdown",
   "id": "0140df9d-575b-485a-a651-cf1dd2c7db48",
   "metadata": {},
   "source": [
    "### $\\chi^2$ （カイ２乗）統計量"
   ]
  },
  {
   "cell_type": "markdown",
   "id": "35af7bb0-1440-4938-a1dc-dd30843a6156",
   "metadata": {},
   "source": [
    "統計量として、平均からのズレの２乗の平均すなわち標本の分散を考えます。  \n",
    "$n$個の標本の平均を $\\bar{X}$、標本の分散を$S^2$ とします。$S^2$の求め方は、  \n",
    "$$S^2 = \\frac{1}{n}\\sum_{i=1}^{n}(X - \\bar{X})^2$$  \n",
    "です。\n",
    "これに標本の数$n$をかけ、**母集団の分散**$\\sigma^2$（記号$\\sigma$は母集団の標準偏差を表します）で割ったものつまり$$\\frac{nS^2}{\\sigma^2}$$を統計量とします。定義より、"
   ]
  },
  {
   "cell_type": "markdown",
   "id": "180cc6d2-1a9c-45fd-985a-7295a7bdea94",
   "metadata": {},
   "source": [
    "$$\\frac{nS^2}{\\sigma^2} = \\sum_{i=1}^n \\Bigl(\\frac{X - \\bar{X}}{\\sigma}\\Bigr)^2 = x_1^2 + x_2^2 + ... + x_n^2 $$で、これを$\\chi^2$と定義します。"
   ]
  },
  {
   "cell_type": "markdown",
   "id": "24eafcc1-dfc4-4f2f-a0b1-471f650c2eeb",
   "metadata": {},
   "source": [
    "定義からわかるように、$\\{x_1, x_2, ..., x_n\\}$は標準正規分布$N(0,1)$の母集団から互いに独立に選ばれた大きさ$n$の標本です。そして、$\\chi^2$はそれらの平方和です。"
   ]
  },
  {
   "cell_type": "markdown",
   "id": "e4362470-6d5a-4817-af19-87d91c75d7d5",
   "metadata": {},
   "source": [
    "この統計量は、$nS^2 = (n - 1)U^2$より、$$\\frac{(n - 1)U^2}{\\sigma^2}$$とも表現できます。こちらのほうが一般的に用いられます。この$U$を$S$の小文字の$s$で表している本が多いです。$s^2$の意味を標本分散と取り違えないように注意が必要です。"
   ]
  },
  {
   "cell_type": "markdown",
   "id": "2b2789bb-3cac-4ab2-a7d1-bc52a38868e6",
   "metadata": {},
   "source": [
    "#### 実験４　$\\chi^2$分布 をつくる"
   ]
  },
  {
   "cell_type": "markdown",
   "id": "64ff83f9-8549-4b87-bd12-92b9d755f70b",
   "metadata": {},
   "source": [
    "上で示したように、$\\chi^2$分布とは、標準正規分布に従う標本の平方和の分布です。これはどのような形をしているのでしょうか。"
   ]
  },
  {
   "cell_type": "markdown",
   "id": "89764fbf-70aa-48a1-86c9-33e8a7abe925",
   "metadata": {},
   "source": [
    "実験３と同様に、母集団は、平均が100で分散が25の正規分布をしめす10000個の数とします。まず必要なライブラリをインポートします。"
   ]
  },
  {
   "cell_type": "code",
   "execution_count": 32,
   "id": "8b0c55d1-4f22-4855-b0e4-59e68bc799f6",
   "metadata": {},
   "outputs": [],
   "source": [
    "import numpy as np\n",
    "from scipy import stats\n",
    "%matplotlib inline\n",
    "import matplotlib.pyplot as plt"
   ]
  },
  {
   "cell_type": "markdown",
   "id": "1e05c48d-edc5-4c95-b60d-984781fac7a8",
   "metadata": {},
   "source": [
    "数を10000個生成します。"
   ]
  },
  {
   "cell_type": "code",
   "execution_count": 33,
   "id": "90fe4c33-c9cc-4d50-8f0c-1b6e3756bdda",
   "metadata": {},
   "outputs": [],
   "source": [
    "generator = np.random.default_rng(12345)\n",
    "population_1 = generator.normal(loc=100, scale=5, size=10000)"
   ]
  },
  {
   "cell_type": "markdown",
   "id": "947ba004-6b1b-41d5-8c02-f75294c5ff8e",
   "metadata": {},
   "source": [
    "ここから9個のサンプルをランダムに採取し、分散(標本分散)を求めます。numpy.var()のddofオプションは、標本分散なら0, 不偏分散なら1です。下のプログラムでは標本分散を求めています。それを1000回繰り返します。"
   ]
  },
  {
   "cell_type": "code",
   "execution_count": 23,
   "id": "846e196a-f65a-4a06-8a39-74060615dc13",
   "metadata": {},
   "outputs": [],
   "source": [
    "sq_1 = np.zeros(1000)\n",
    "for i in range(1000):\n",
    "    sample_1 = np.random.choice(population_1,9,replace=False)\n",
    "    sp_var = np.var(sample_1,ddof=0)\n",
    "    sq_1[i] = sp_var"
   ]
  },
  {
   "cell_type": "markdown",
   "id": "e1320399-393a-494d-9ead-695b40282f69",
   "metadata": {},
   "source": [
    "1000個の分散それぞれから統計量を作り(この場合は$\\frac{n}{\\sigma^2} = 9/25$をかける。もしさきほど不偏分散を求めていたら、$8/25$をかける)、ヒストグラムにします。また、自由度8（=9-1）の$X^2$分布の確率密度関数を重ね描きします。平均値の標本分布と異なり、左右対称になっていないのがわかります。"
   ]
  },
  {
   "cell_type": "code",
   "execution_count": 25,
   "id": "20b3da0d-d87e-4b37-b496-4bf3826eff23",
   "metadata": {},
   "outputs": [
    {
     "data": {
      "text/plain": [
       "([<matplotlib.axis.XTick at 0x2618494a250>,\n",
       "  <matplotlib.axis.XTick at 0x2618494a220>,\n",
       "  <matplotlib.axis.XTick at 0x26184913340>,\n",
       "  <matplotlib.axis.XTick at 0x261849a19d0>,\n",
       "  <matplotlib.axis.XTick at 0x261849b4250>,\n",
       "  <matplotlib.axis.XTick at 0x261849b49a0>,\n",
       "  <matplotlib.axis.XTick at 0x261849a8670>,\n",
       "  <matplotlib.axis.XTick at 0x261849b42b0>,\n",
       "  <matplotlib.axis.XTick at 0x261849ba4f0>,\n",
       "  <matplotlib.axis.XTick at 0x261849bac40>,\n",
       "  <matplotlib.axis.XTick at 0x261849c33d0>,\n",
       "  <matplotlib.axis.XTick at 0x261849c3b20>,\n",
       "  <matplotlib.axis.XTick at 0x261849c3c10>,\n",
       "  <matplotlib.axis.XTick at 0x261849bac70>,\n",
       "  <matplotlib.axis.XTick at 0x261849a1d60>,\n",
       "  <matplotlib.axis.XTick at 0x261849c9850>,\n",
       "  <matplotlib.axis.XTick at 0x261849d0070>,\n",
       "  <matplotlib.axis.XTick at 0x261849d0730>,\n",
       "  <matplotlib.axis.XTick at 0x261849d5040>,\n",
       "  <matplotlib.axis.XTick at 0x261849d0b20>,\n",
       "  <matplotlib.axis.XTick at 0x261849c98b0>,\n",
       "  <matplotlib.axis.XTick at 0x261849d5490>,\n",
       "  <matplotlib.axis.XTick at 0x261849d5b50>,\n",
       "  <matplotlib.axis.XTick at 0x261849dd2e0>,\n",
       "  <matplotlib.axis.XTick at 0x261849dda30>],\n",
       " [Text(0, 0, ''),\n",
       "  Text(0, 0, ''),\n",
       "  Text(0, 0, ''),\n",
       "  Text(0, 0, ''),\n",
       "  Text(0, 0, ''),\n",
       "  Text(0, 0, ''),\n",
       "  Text(0, 0, ''),\n",
       "  Text(0, 0, ''),\n",
       "  Text(0, 0, ''),\n",
       "  Text(0, 0, ''),\n",
       "  Text(0, 0, ''),\n",
       "  Text(0, 0, ''),\n",
       "  Text(0, 0, ''),\n",
       "  Text(0, 0, ''),\n",
       "  Text(0, 0, ''),\n",
       "  Text(0, 0, ''),\n",
       "  Text(0, 0, ''),\n",
       "  Text(0, 0, ''),\n",
       "  Text(0, 0, ''),\n",
       "  Text(0, 0, ''),\n",
       "  Text(0, 0, ''),\n",
       "  Text(0, 0, ''),\n",
       "  Text(0, 0, ''),\n",
       "  Text(0, 0, ''),\n",
       "  Text(0, 0, '')])"
      ]
     },
     "execution_count": 25,
     "metadata": {},
     "output_type": "execute_result"
    },
    {
     "data": {
      "image/png": "[encoded data removed]",
      "text/plain": [
       "<Figure size 432x288 with 2 Axes>"
      ]
     },
     "metadata": {
      "needs_background": "light"
     },
     "output_type": "display_data"
    }
   ],
   "source": [
    "# figureインスタンスを作る\n",
    "fig = plt.figure()\n",
    "# Y軸を2つ作る。\n",
    "ax1 = fig.subplots() # 1つめのY軸（左側）\n",
    "ax2 = ax1.twinx() # 2つめのY軸　（右側）\n",
    "x_bins = np.arange(-0.5,23.5,1) #パラメータbinsに与える、各階級の左端の値。-0.5から22.5まで1刻み\n",
    "x_vals = np.arange(0,24,0.1) # Χ2分布の確率密度関数の定義値を0から23.9まで0.1刻みの確率変数に対して求める\n",
    "ax1.hist(sq_1*9/25,bins=x_bins)\n",
    "ax2.plot(x_vals,stats.chi2(df=8).pdf(x_vals),label='chi^2',color='k') # Χ２乗分布\n",
    "ax2.legend()\n",
    "plt.xticks(np.arange(0,25,1))"
   ]
  },
  {
   "cell_type": "markdown",
   "id": "851e01be-e23b-46a2-bc68-f5bc21ac3edd",
   "metadata": {},
   "source": [
    "#### $\\chi^2$分布の利用"
   ]
  },
  {
   "cell_type": "markdown",
   "id": "1b3598fc-3c99-4b9e-b83d-61cb8ad357cf",
   "metadata": {},
   "source": [
    "$\\chi^2$分布は、**標本分散と母集団の分散とを結びつける**はたらきをします。例えば、標本が９個の数値からなるとき、標本分散と母集団の分散の比の範囲はだいたいどれくらいまででしょうか？ "
   ]
  },
  {
   "cell_type": "markdown",
   "id": "741f5d54-8d83-4b58-843a-8486dae4515d",
   "metadata": {},
   "source": [
    "累積分布関数$F(X \\leqq x) = 0.95$となるような$x$を求めれば、95%が収まる$\\chi^2$の範囲がわかります。  \n",
    "scipy.stats.chi2(df=8).ppf(0.95)で求められます。\n",
    "$\\chi^2 = \\frac{nS^2}{\\sigma^2}$ですから$\\frac{\\chi^2}{9}$で分散の比が求められます。"
   ]
  },
  {
   "cell_type": "code",
   "execution_count": 26,
   "id": "7b5e1f35-f9e6-4056-8f1e-10e7259b1d69",
   "metadata": {},
   "outputs": [
    {
     "data": {
      "text/plain": [
       "15.50731305586545"
      ]
     },
     "execution_count": 26,
     "metadata": {},
     "output_type": "execute_result"
    }
   ],
   "source": [
    "stats.chi2(df=8).ppf(0.95)"
   ]
  },
  {
   "cell_type": "code",
   "execution_count": 27,
   "id": "f74cc225-12d5-4c92-ab96-540954a2cfbb",
   "metadata": {},
   "outputs": [
    {
     "data": {
      "text/plain": [
       "1.7230347839850502"
      ]
     },
     "execution_count": 27,
     "metadata": {},
     "output_type": "execute_result"
    }
   ],
   "source": [
    "stats.chi2(df=8).ppf(0.95)/9"
   ]
  },
  {
   "cell_type": "markdown",
   "id": "a15a0011-1791-4304-9664-d646df6634c2",
   "metadata": {},
   "source": [
    "つまり、95%の場合は標本分散は母集団の分散の0から1.72倍以内に収まるということになります。それより大きな分散を見たら、母集団の分散についての想定が間違っているか、標本の取り方が正しくない可能性を検討する必要があるでしょう。"
   ]
  },
  {
   "cell_type": "markdown",
   "id": "29a2a7a2-d67d-447d-b100-f59602341c15",
   "metadata": {},
   "source": [
    "#### $\\chi^2$分布の平均と分散"
   ]
  },
  {
   "cell_type": "markdown",
   "id": "232036a1-da73-4a4a-ad11-e1a277f51ec4",
   "metadata": {},
   "source": [
    "$n$個の標本に対して、$\\chi^2$分布の平均は$n$, 分散は$2n$になることが知られています。"
   ]
  },
  {
   "cell_type": "markdown",
   "id": "7e6ead7f-15e4-4710-b250-5afc5c9dfaf7",
   "metadata": {},
   "source": [
    "#### 練習問題（$\\chi^2$分布）"
   ]
  },
  {
   "cell_type": "markdown",
   "id": "2dc8b8dd-0a4d-4a81-9d28-f5449963dc53",
   "metadata": {},
   "source": [
    "$n = 10$個の標本の分散は、97.5%の確率で、母集団の分散$\\sigma^2$の何倍までに収まると考えられますか？"
   ]
  },
  {
   "cell_type": "markdown",
   "id": "775905aa-e795-4296-aaa6-6c8f6e334612",
   "metadata": {},
   "source": [
    "ヒント：\n",
    "- 標本分散$S^2$と母集団の分散$\\sigma^2$との関係は、$\\frac{nS^2}{\\sigma^2}$が自由度$n - 1$の$\\chi^2$分布になります。\n",
    "- 自由度$n - 1 = 9$です。\n",
    "- 累積分布関数$F(X \\leqq x)$について、$x$がいくつになったら（つまり、確率密度関数を$-\\infty$から（$\\chi^2$分布については0から）どこまで積分したら）0.975になるかを求めます。  \n",
    "- scipy.statsの各確率関数・確率密度関数にはそれを計算するための.ppf()関数があります。\n",
    "- $\\frac{S^2}{\\sigma^2}$を求めるために、確率変数を$n$で割ります。"
   ]
  },
  {
   "cell_type": "code",
   "execution_count": 31,
   "id": "bf7f2359-3467-47a5-af9a-ab814082a664",
   "metadata": {},
   "outputs": [
    {
     "data": {
      "text/plain": [
       "1.902276779864163"
      ]
     },
     "execution_count": 31,
     "metadata": {},
     "output_type": "execute_result"
    }
   ],
   "source": [
    "stats.chi2(df=9).ppf(0.975)/10"
   ]
  },
  {
   "cell_type": "markdown",
   "id": "321bdec7-bc7c-491a-a2ed-e9165367743c",
   "metadata": {
    "tags": []
   },
   "source": [
    "### $t$分布"
   ]
  },
  {
   "cell_type": "markdown",
   "id": "234457f1-914f-45cb-b5c5-dbc9d1d7a78f",
   "metadata": {},
   "source": [
    "平均$\\mu$, 分散$\\sigma^2$の正規分布$N(\\mu,\\sigma^2)$を示す母集団から$n$個取り出して作った標本について考えます。"
   ]
  },
  {
   "cell_type": "markdown",
   "id": "660a95d2-b67a-4a7a-982b-36e8808e8010",
   "metadata": {},
   "source": [
    "標本平均$\\bar{X}$の分散は$\\frac{\\sigma^2}{n}$ですから、$\\bar{X} - \\mu$の分散も同じです。そして、$\\bar{X} - \\mu$を標準誤差$\\frac{\\sigma}{\\sqrt{n}}$で割って標準化したもの、つまり$$\\frac{\\bar{X} - \\mu}{\\frac{\\sigma}{\\sqrt{n}}}$$は、正規分布$N(1,0)$に従います。  \n",
    "しかし、このままでは、母集団の分散$\\sigma^2$がわからないと、標本の平均値を評価することが困難です。"
   ]
  },
  {
   "cell_type": "markdown",
   "id": "3dfe6c71-dbd0-401a-b049-32ef1bacb840",
   "metadata": {},
   "source": [
    "一方、標本から作った統計量$\\chi^2 = \\frac{nS^2}{\\sigma^2}$は自由度$n-1$の$\\chi^2$分布に従うことはさきほど示しました。"
   ]
  },
  {
   "cell_type": "markdown",
   "id": "026f36b0-2cc3-4d9a-b585-7c5a30e0d75a",
   "metadata": {},
   "source": [
    "これら２種類の統計量の間にはどのような関係があるのでしょうか？"
   ]
  },
  {
   "cell_type": "markdown",
   "id": "7a04850f-b8ac-4816-b0c5-62c81595ca04",
   "metadata": {},
   "source": [
    "後者を標本の自由度$n-1$で割って平方根を求めると、$$\\frac{S}{\\sigma}\\sqrt{\\frac{n}{n-1}}$$となります。これで標本の平均値を標準化した$$\\frac{\\bar{X} - \\mu}{\\sigma/\\sqrt{n}}$$を割ると、$$\\frac{\\bar{X} - \\mu}{S/\\sqrt{n - 1}}$$あるいは$$\\frac{\\bar{X} - \\mu}{U/\\sqrt{n}}$$となり、$\\sigma$が消えます。"
   ]
  },
  {
   "cell_type": "markdown",
   "id": "afd980c0-bf6d-464a-ac41-43dfad02620b",
   "metadata": {},
   "source": [
    "こうしてできた統計量は、式の形としては、最初の、$\\mu$と$\\sigma$と$n$で$\\bar{X}$を標準化したものと似ていますが、どのような分布を示すでしょうか？"
   ]
  },
  {
   "cell_type": "markdown",
   "id": "f8b5162e-502f-4001-894d-7914751c937a",
   "metadata": {},
   "source": [
    "#### 実験５　$t$分布をつくる"
   ]
  },
  {
   "cell_type": "markdown",
   "id": "c3b4888d-0fa4-4a15-b2a4-723a41aaa6d2",
   "metadata": {},
   "source": [
    "まずシミュレーションしてみましょう。平均が100で分散が25の正規分布をしめす10000個の数を作るところまでは、実験３，４のときと同じです。"
   ]
  },
  {
   "cell_type": "markdown",
   "id": "41727a48-8417-4671-98e0-c13d100a4aa1",
   "metadata": {},
   "source": [
    "次に今度は少なめの数、9個からなる標本を取り出し、標本平均と標本分散を求め、それぞれ配列に収容します。それを1000回繰り返します。"
   ]
  },
  {
   "cell_type": "code",
   "execution_count": 71,
   "id": "1fb9614b-1054-4b18-990e-5f0a78692a08",
   "metadata": {},
   "outputs": [],
   "source": [
    "sq_2 = np.zeros(1000) # 分散を収容\n",
    "mn_2 = np.zeros(1000) # 平均を収容\n",
    "for i in range(1000):\n",
    "    sample_1 = np.random.choice(population_1,9,replace=False)\n",
    "    sp_mean = np.mean(sample_1)\n",
    "    sp_var = np.var(sample_1,ddof=0)\n",
    "    sq_2[i] = sp_var\n",
    "    mn_2[i] = sp_mean"
   ]
  },
  {
   "cell_type": "markdown",
   "id": "062c7ebf-455d-478f-ae8a-bdef740f4269",
   "metadata": {},
   "source": [
    "標本平均と標本分散から統計量を作り、ヒストグラムにします。また、自由度8（=9-1）のt分布の確率密度関数と、正規分布$N(0,1)$の確率密度関数を参考として示します。"
   ]
  },
  {
   "cell_type": "code",
   "execution_count": 72,
   "id": "eb268ec8-5070-4194-8954-8ec167a55147",
   "metadata": {},
   "outputs": [
    {
     "data": {
      "text/plain": [
       "<matplotlib.legend.Legend at 0x209d3b30cd0>"
      ]
     },
     "execution_count": 72,
     "metadata": {},
     "output_type": "execute_result"
    },
    {
     "data": {
      "image/png": "[encoded data removed]",
      "text/plain": [
       "<Figure size 432x288 with 2 Axes>"
      ]
     },
     "metadata": {
      "needs_background": "light"
     },
     "output_type": "display_data"
    }
   ],
   "source": [
    "# figureインスタンスを作る\n",
    "fig = plt.figure()\n",
    "# Y軸を2つ作る。\n",
    "ax1 = fig.subplots() # 1つめのY軸（左側）\n",
    "ax2 = ax1.twinx() # 2つめのY軸　（右側）\n",
    "\n",
    "ax1.hist((mn_2 - 100)*np.sqrt(8)/np.sqrt(sq_2),bins=np.arange(-6,6.2,0.5))\n",
    "ax2.plot(np.arange(-5,5,0.1),stats.t.pdf(np.arange(-5,5,0.1),df=8), label='t',color='r') # t分布\n",
    "ax2.plot(np.arange(-5,5,0.1),stats.norm.pdf(np.arange(-5,5,0.1),scale=1),label='normal',color='k') # 正規分布\n",
    "ax2.legend()"
   ]
  },
  {
   "cell_type": "markdown",
   "id": "e2ae3c08-022c-429c-9ab7-cbf99f724873",
   "metadata": {},
   "source": [
    "このように$\\frac{\\bar{X} - \\mu}{S/\\sqrt{n - 1}}$は0を中心とする左右対称の分布を示しています。また、正規分布よりもむしろt分布のほうによく近似されることがわかります。例えば、平均値が誤差の２倍を超えることは無視できない程度あります。"
   ]
  },
  {
   "cell_type": "markdown",
   "id": "6d2c87b1-7127-4961-ae78-f508cc706fb4",
   "metadata": {},
   "source": [
    "実用上の見地からこれを考えると、次のようになるでしょう。少数しか標本をとれない場合、正規分布だけを使っているとやたら不合格が多くなってしまいますが、$t$分布を使えば、必要以上に不良品を出さずに済む、ということになります。"
   ]
  },
  {
   "cell_type": "markdown",
   "id": "1b770bcc-6d55-4bd4-be75-df98c902d401",
   "metadata": {},
   "source": [
    "自由度が1,2,4,8の場合のt分布の確率密度関数を描いてみます。正規分布よりも平べったく裾野が広いこと、自由度が大きいほど正規分布に近づくことがわかります。"
   ]
  },
  {
   "cell_type": "code",
   "execution_count": 159,
   "id": "a125d221-75d3-4dd6-ad55-87d410ff04ae",
   "metadata": {},
   "outputs": [
    {
     "data": {
      "text/plain": [
       "<matplotlib.legend.Legend at 0x1d424311dc0>"
      ]
     },
     "execution_count": 159,
     "metadata": {},
     "output_type": "execute_result"
    },
    {
     "data": {
      "image/png": "[encoded data removed]",
      "text/plain": [
       "<Figure size 432x288 with 1 Axes>"
      ]
     },
     "metadata": {
      "needs_background": "light"
     },
     "output_type": "display_data"
    }
   ],
   "source": [
    "# figureインスタンスを作る\n",
    "fig = plt.figure()\n",
    "# Y軸を2つ作る。\n",
    "ax1 = fig.subplots() # 1つめのY軸（左側）\n",
    "ax1.plot(np.arange(-6,6,0.1),stats.t.pdf(np.arange(-6,6,0.1),df=1), label='df=1',color='b') # t分布, 自由度1\n",
    "ax1.plot(np.arange(-6,6,0.1),stats.t.pdf(np.arange(-6,6,0.1),df=2), label='df=2',color='r') # t分布, 自由度2\n",
    "ax1.plot(np.arange(-6,6,0.1),stats.t.pdf(np.arange(-6,6,0.1),df=4), label='df=4',color='c') # t分布, 自由度4\n",
    "ax1.plot(np.arange(-6,6,0.1),stats.t.pdf(np.arange(-6,6,0.1),df=8), label='df=8',color='m') # t分布, 自由度8\n",
    "ax1.plot(np.arange(-6,6,0.1),stats.norm.pdf(np.arange(-6,6,0.1),scale=1),label='normal',color='k') # 正規分布\n",
    "ax1.legend()"
   ]
  },
  {
   "cell_type": "markdown",
   "id": "24e0da6b-6f6b-4794-9f86-6d7f69d1f844",
   "metadata": {},
   "source": [
    "上の自由度８の場合で、統計量が0から$+\\infty$0の間に収まる確率は、左右対称ですから、当然0.5になります。"
   ]
  },
  {
   "cell_type": "code",
   "execution_count": 164,
   "id": "05303150-9ac8-4fec-8816-0df22f913495",
   "metadata": {},
   "outputs": [
    {
     "data": {
      "text/plain": [
       "0.5"
      ]
     },
     "execution_count": 164,
     "metadata": {},
     "output_type": "execute_result"
    }
   ],
   "source": [
    "stats.t.sf(0,df=8)"
   ]
  },
  {
   "cell_type": "markdown",
   "id": "fccdb605-1193-4193-ad6d-d9f2daf52dbc",
   "metadata": {},
   "source": [
    "同様に、2から+$\\infty$までの累積分布を求め、左右対称を考慮して、それを２倍すれば、統計量$\\frac{\\bar{X} - \\mu}{S/\\sqrt{n - 1}}$が-2から2までの間から外れる確率になります。"
   ]
  },
  {
   "cell_type": "code",
   "execution_count": 173,
   "id": "94ae07d3-1783-4fd8-b50e-84c046a6fb79",
   "metadata": {},
   "outputs": [
    {
     "data": {
      "text/plain": [
       "0.08051623795726257"
      ]
     },
     "execution_count": 173,
     "metadata": {},
     "output_type": "execute_result"
    }
   ],
   "source": [
    "stats.t.sf(2,df=8)*2"
   ]
  },
  {
   "cell_type": "markdown",
   "id": "8cf224cc-3570-40e6-b6c3-5c5658d939b2",
   "metadata": {},
   "source": [
    "同様に、3から+$\\infty$までの累積分布を求めて、それを２倍すれば、統計量$\\frac{\\bar{X} - \\mu}{S/\\sqrt{n - 1}}$が-3から3までの間から外れる確率になります。"
   ]
  },
  {
   "cell_type": "code",
   "execution_count": 174,
   "id": "22fc8984-0400-4f23-93a2-5dc7789b3ebe",
   "metadata": {},
   "outputs": [
    {
     "data": {
      "text/plain": [
       "0.017071681233782634"
      ]
     },
     "execution_count": 174,
     "metadata": {},
     "output_type": "execute_result"
    }
   ],
   "source": [
    "stats.t.sf(3,df=8)*2"
   ]
  },
  {
   "cell_type": "markdown",
   "id": "781adb4f-d5b6-4dc1-9b62-b26755ff333d",
   "metadata": {},
   "source": [
    "この性質を用いて、少数の標本を取って標本平均と標本分散を調べることで、想定している平均値$\\mu$の妥当性を調べることができます。"
   ]
  },
  {
   "cell_type": "markdown",
   "id": "029a3b6f-50f5-42f2-b456-d3d38392e12f",
   "metadata": {},
   "source": [
    "#### 練習問題（$t$分布の利用）"
   ]
  },
  {
   "cell_type": "markdown",
   "id": "173bcfe4-2ae5-45de-9251-c4626ebd99c8",
   "metadata": {},
   "source": [
    "母集団の平均値$\\mu = 250$を想定しているとする。$n=10$個の標本をとって標本平均$\\bar{x}$と標本標準偏差$S$を計算するとき、$|\\bar{x} - \\mu| \\leq \\frac{S}{6}$である確率を求めよ。"
   ]
  },
  {
   "cell_type": "markdown",
   "id": "7ed9afde-d439-4d2b-a289-62a1325364f8",
   "metadata": {},
   "source": [
    "ヒント：標本の値から想定する平均$\\mu = 250$を引き、$\\frac{S}{\\sqrt{n - 1}} = \\frac{S}{3}$で割ったものの分布は、自由度$n - 1 = 10 -1 = 9$の$t$分布に従うとみなせます。"
   ]
  },
  {
   "cell_type": "markdown",
   "id": "8d0cc617-d3d6-45c8-b0b5-efab9071506d",
   "metadata": {},
   "source": [
    "言い換えると、$\\frac{(\\bar{x} - \\mu)}{\\frac{S}{S}}  = \\frac{3(\\bar{x} - \\mu)}{S}$は、自由度9の$t$分布となります。"
   ]
  },
  {
   "cell_type": "markdown",
   "id": "6c34b6c3-8014-4ca6-a13c-8da3e9255f8a",
   "metadata": {},
   "source": [
    "$\\bar{x} - \\mu \\geq 0$の場合、与えられた条件の両辺を$S$で割り、３をかけると、左辺がそれと同じになり、右辺は$\\frac{1}{2}$となります。"
   ]
  },
  {
   "cell_type": "markdown",
   "id": "aafa3900-fa8b-4f7e-946e-127443c2fc32",
   "metadata": {},
   "source": [
    "$\\bar{x} - \\mu \\lt 0$の場合も考慮すると、求める確率は、「自由度9の$t$分布の値が$\\leq \\frac{1}{2}$かつ$\\geqq -\\frac{1}{2}$になる確率」です。"
   ]
  },
  {
   "cell_type": "markdown",
   "id": "0aac7f1f-64f9-45e7-adf9-c1403576666b",
   "metadata": {},
   "source": [
    "これは、累積分布の差stats.t(df=9).cdf(0.5) - stats.t(df=9).cdf(-0.5)で計算できます。"
   ]
  },
  {
   "cell_type": "markdown",
   "id": "5fa9e450-6326-4282-a341-140504a80f07",
   "metadata": {},
   "source": [
    "あるいは、$t$分布の対称性より、1 - stats.t(df=9).sf(0.5)*2で計算できます。"
   ]
  },
  {
   "cell_type": "markdown",
   "id": "00084c5b-90ff-48ec-bdfd-2a3d58e8a219",
   "metadata": {},
   "source": [
    "解答："
   ]
  },
  {
   "cell_type": "code",
   "execution_count": 43,
   "id": "c72d0c12-3fb8-45f6-bf01-21dfb1ec3b9b",
   "metadata": {},
   "outputs": [
    {
     "name": "stdout",
     "output_type": "stream",
     "text": [
      "0.3709287001739736\n",
      "0.3709287001739736\n"
     ]
    }
   ],
   "source": [
    "import numpy as np\n",
    "from scipy import stats\n",
    "print(stats.t(df=9).cdf(0.5) - stats.t(df=9).cdf(-0.5))\n",
    "print(1 - stats.t(df=9).sf(0.5)*2)"
   ]
  },
  {
   "cell_type": "markdown",
   "id": "9cd6c86f-5622-4192-a88c-b1c51bd1f3f3",
   "metadata": {},
   "source": [
    "### $F$分布"
   ]
  },
  {
   "cell_type": "markdown",
   "id": "06c7241b-e338-438f-9712-5b7bd417b7d8",
   "metadata": {},
   "source": [
    "ここまで、大きな母集団と小さな標本との関係を分析するための手段として、$\\chi^2$分布と$t$分布を紹介しました。"
   ]
  },
  {
   "cell_type": "markdown",
   "id": "93333694-baeb-4992-af48-75229015b1b0",
   "metadata": {},
   "source": [
    "ところが、現実には、小さな標本どうしの関係を分析する必要があります。例えば、ある塾のほぼ同じ実力の生徒を集めた教室どうしでテストの点を比較したりする場合です。それぞれのクラスが、標本と考えられます。もし背景となる条件が同じで点数が顕著に違えば、もしかしたら指導に違いがあるのかもしれませんから、経営者としては関心のあるところです。  \n",
    "このとき、「背景となる条件が同じ」ことが重要です。つまり、単に平均点だけを比較する前に、そもそもそれらの標本が同じ母集団から来ているかどうかを確かめる必要があります。"
   ]
  },
  {
   "cell_type": "markdown",
   "id": "f934c3a7-8773-46de-8b48-1a59988e5072",
   "metadata": {},
   "source": [
    "$t$分布では、正規分布と、$\\chi^2$分布に従う統計量$\\frac{nS^2}{\\sigma^2}$を自由度$n-1$で割ったものの平方根との比を統計量としました。それに対し、ここでは、$\\chi^2$分布に従う統計量どうしの比を問題とします。、"
   ]
  },
  {
   "cell_type": "markdown",
   "id": "c66ea663-92aa-4b0f-bf08-4d654c864a35",
   "metadata": {},
   "source": [
    "$\\chi^2$分布のところで説明したように、分散が$\\sigma_1^2$の母集団から抽出したm個の標本から作成した統計量$\\frac{mS^2}{\\sigma_1^2}$は自由度$m-1$の$\\chi^2$分布に従います。同様に、分散が$\\sigma_2^2$の母集団から抽出したn個の標本から作成した統計量$\\frac{nS^2}{\\sigma_2^2}$は自由度$n-1$の$\\chi^2$分布に従います。"
   ]
  },
  {
   "cell_type": "markdown",
   "id": "bfc31628-cf23-4591-93a3-9a810c0ef2ef",
   "metadata": {},
   "source": [
    "両者をそれぞれの自由度で割ったものの比$$\\frac{\\frac{mS_1^2}{\\sigma_1^2 (m - 1)}}{\\frac{nS_2^2}{\\sigma_2^2 (n-1)}} $$を考えます。とりわけ、$$\\sigma_1^2 = \\sigma_2^2$$つまり母集団が同じだと仮定します。すると、さきほどの比は  \n",
    "$$\\frac{\\frac{mS_1^2}{(m - 1)}}{\\frac{nS_2^2}{(n-1)}}  = U_1/U_2$$ (ただし$U_1, U_2$はそれぞれの標本の不偏分散)となります。"
   ]
  },
  {
   "cell_type": "markdown",
   "id": "dc2d8935-3c23-4f29-bf6a-fb13d6ca2226",
   "metadata": {},
   "source": [
    "#### 実験６ F分布をつくる"
   ]
  },
  {
   "cell_type": "markdown",
   "id": "ae1c12dd-5535-4e82-a606-7c7dbbabe7d1",
   "metadata": {},
   "source": [
    "それでは、シミュレーションしてみましょう。平均が100で分散が25の正規分布をしめす10000個の数を作るところまでは、これまでと同じです。"
   ]
  },
  {
   "cell_type": "markdown",
   "id": "c944fd2d-c72e-4907-b8b4-6da60e44efb4",
   "metadata": {},
   "source": [
    "次に10個からなる標本（自由度9）を取り出し、標本平均と普遍分散を求め、それぞれ配列に収容します。それを1000回繰り返します。"
   ]
  },
  {
   "cell_type": "code",
   "execution_count": 184,
   "id": "5f338bb6-3066-4a1d-a362-e5fa58f9c4e7",
   "metadata": {},
   "outputs": [],
   "source": [
    "sq_3 = np.zeros(1000) # 不偏分散を収容\n",
    "mn_3 = np.zeros(1000) # 標本平均を収容\n",
    "for i in range(1000):\n",
    "    sample_1 = np.random.choice(population_1,10,replace=False)\n",
    "    sp_mean = np.mean(sample_1)\n",
    "    sp_var = np.var(sample_1,ddof=1) # 不偏分散\n",
    "    sq_3[i] = sp_var\n",
    "    mn_3[i] = sp_mean"
   ]
  },
  {
   "cell_type": "markdown",
   "id": "ebaf2e19-616e-4ccb-b7d0-9dde96443c20",
   "metadata": {},
   "source": [
    "次に17個からなる標本（自由度16）を取り出し、標本平均と普遍分散を求め、それぞれ配列に収容します。それを1000回繰り返します。"
   ]
  },
  {
   "cell_type": "code",
   "execution_count": 186,
   "id": "dd90c2e8-7726-495c-9762-2ae86bc1d9c8",
   "metadata": {},
   "outputs": [],
   "source": [
    "sq_4 = np.zeros(1000) # 不偏分散を収容\n",
    "mn_4 = np.zeros(1000) # 標本平均を収容\n",
    "for i in range(1000):\n",
    "    sample_1 = np.random.choice(population_1,17,replace=False)\n",
    "    sp_mean = np.mean(sample_1)\n",
    "    sp_var = np.var(sample_1,ddof=1) # 不偏分散\n",
    "    sq_4[i] = sp_var\n",
    "    mn_4[i] = sp_mean"
   ]
  },
  {
   "cell_type": "markdown",
   "id": "c532aae2-f312-4efb-a8d6-5c75cd1a5a64",
   "metadata": {},
   "source": [
    "計算した不偏分散の比のヒストグラムを描きます。自由度$(9,16)$の$F$分布の確率密度関数も示します。"
   ]
  },
  {
   "cell_type": "code",
   "execution_count": 207,
   "id": "9400db72-95b5-4669-99c1-93b43902ead9",
   "metadata": {},
   "outputs": [
    {
     "data": {
      "text/plain": [
       "[<matplotlib.lines.Line2D at 0x1d426601ca0>]"
      ]
     },
     "execution_count": 207,
     "metadata": {},
     "output_type": "execute_result"
    },
    {
     "data": {
      "image/png": "[encoded data removed]",
      "text/plain": [
       "<Figure size 432x288 with 2 Axes>"
      ]
     },
     "metadata": {
      "needs_background": "light"
     },
     "output_type": "display_data"
    }
   ],
   "source": [
    "# figureインスタンスを作る\n",
    "fig = plt.figure()\n",
    "# Y軸を2つ作る。\n",
    "ax1 = fig.subplots() # 1つめのY軸（左側）\n",
    "ax2 = ax1.twinx() # 2つめのY軸　（右側）\n",
    "\n",
    "ax1.hist(sq_3/sq_4, bins=np.arange(0,7,0.2)) #この場合、sq_4は自由度9, sq_3は自由度16として計算した不偏分散\n",
    "ax2.plot(np.arange(0,7,0.1),stats.f.pdf(np.arange(0,7,0.1),dfn=9,dfd=16),color='r')\n",
    "# dfn: 分子の自由度、dfd: 分母の自由度"
   ]
  },
  {
   "cell_type": "markdown",
   "id": "84fdc7ef-f023-450f-ac6e-c7631f75e9c7",
   "metadata": {},
   "source": [
    "仮に、$\\frac{U_1}{U_2} > 2.56$だとしたら、その確率はどれほどでしょう？"
   ]
  },
  {
   "cell_type": "code",
   "execution_count": 211,
   "id": "2a30dad7-392b-4d78-89d5-20ef1d2e7939",
   "metadata": {},
   "outputs": [
    {
     "data": {
      "text/plain": [
       "0.048463638231777"
      ]
     },
     "execution_count": 211,
     "metadata": {},
     "output_type": "execute_result"
    }
   ],
   "source": [
    "stats.f.sf(2.56,dfn=9,dfd=16)"
   ]
  },
  {
   "cell_type": "markdown",
   "id": "7a4a5d46-f560-404f-8347-ac8c89acb986",
   "metadata": {},
   "source": [
    "5%を切るくらい珍しいことだとわかります。その場合は、$\\sigma_1^2 = \\sigma_2^2$という前提を疑う必要があります。"
   ]
  },
  {
   "cell_type": "markdown",
   "id": "8b1fe8f0-58d5-4e0e-a767-fe5077d79dfe",
   "metadata": {},
   "source": [
    "#### 練習問題"
   ]
  },
  {
   "cell_type": "markdown",
   "id": "8e96cca9-7f6d-4b83-8823-c6ca5513754a",
   "metadata": {},
   "source": [
    "正規母集団からの２つの標本の分散（標本分散）が次の通りであったとする。  \n",
    "$$n_1 = 9,\\;\\;S_1^2 = 150; \\;\\; n_2 = 16, \\;\\; S_2^2 = 60$$  \n",
    "２つの標本の母集団が同一である確率はどの程度か？"
   ]
  },
  {
   "cell_type": "markdown",
   "id": "51ef06fc-bc87-4553-b0cb-32dfde6e3266",
   "metadata": {},
   "source": [
    "ヒント：  \n",
    "$F$統計値を$F_0$とすると、$$F_0 = \\frac{\\frac{n_1S_1^2}{n_1 - 1}}{\\frac{n_2S_2^2}{n_2 - 1}} = \\frac{\\frac{9\\times 150}{9 - 1}}{\\frac{16\\times 60}{16 - 1}} = 2.637$$です。"
   ]
  },
  {
   "cell_type": "markdown",
   "id": "62ca7153-1456-4d9e-b495-00312e1b1b6c",
   "metadata": {},
   "source": [
    "次に、自由度が8と15の$F$分布で、累積分布関数の値$F(X \\leqq F_0)$を求めます。つまり、不偏分散の比が$F_0$までに収まる確率です。1からこれを引けば、不偏分散の比が$F_0$以上になる確率がわかります。  "
   ]
  },
  {
   "cell_type": "markdown",
   "id": "91080d18-ce57-415e-ac25-ada4269c39d3",
   "metadata": {},
   "source": [
    "累積分布関数にはstats.f.cdf()があります。また、1から引かないで直接その確率を求めるには、stats.f.sf()を使います。"
   ]
  },
  {
   "cell_type": "markdown",
   "id": "e63506ea-dc69-4993-b855-4f949c7296e9",
   "metadata": {},
   "source": [
    "解答"
   ]
  },
  {
   "cell_type": "code",
   "execution_count": 34,
   "id": "306002ab-152a-48e7-8749-8eddef52d0f7",
   "metadata": {},
   "outputs": [
    {
     "name": "stdout",
     "output_type": "stream",
     "text": [
      "F0:  2.63671875\n"
     ]
    },
    {
     "data": {
      "text/plain": [
       "0.05026316133523414"
      ]
     },
     "execution_count": 34,
     "metadata": {},
     "output_type": "execute_result"
    }
   ],
   "source": [
    "n1 = 9\n",
    "Sv1 = 150\n",
    "n2 = 16\n",
    "Sv2 = 60\n",
    "df1 = n1 - 1\n",
    "df2 = n2 - 1\n",
    "F0 = (n1 *Sv1/df1)/(n2*Sv2/df2)\n",
    "print(\"F0: \",F0)\n",
    "stats.f(dfn=df1,dfd=df2).sf(F0)"
   ]
  },
  {
   "cell_type": "markdown",
   "id": "14240288-fa23-4d6a-a1db-e5dcfcd0c31a",
   "metadata": {},
   "source": [
    "## 点推定の考え方"
   ]
  },
  {
   "cell_type": "markdown",
   "id": "e4d0f6fc-a3ad-4d5f-b04c-b53165c8fb34",
   "metadata": {},
   "source": [
    "### 統計的推定"
   ]
  },
  {
   "cell_type": "markdown",
   "id": "9a7d64b1-642e-4adf-9fc0-231f013e0a7b",
   "metadata": {},
   "source": [
    "これまで、母集団から抽出した標本がもつ性質について説明しました。今度は、標本から母集団の性質を推定する方法論について説明します。  \n",
    "母集団の性質で興味があるのは、母集団の確率分布の形を一意的に定める定数です。例えば、二項分布の試行数$n$と確率$p$であるとか、正規分布の平均$\\mu$と分散$\\sigma^2$、といったものです。そのような定数をその分布の**母数**あるいは**パラメータ**といいます。  \n",
    "標本から導き出される統計量で、母集団の母数（パラメータ）の値を知るために使うものを**推定量**といいます。  \n",
    "推定量を用いて母数の値を推測する方法を推定あるいは統計的推測といいます。 "
   ]
  },
  {
   "cell_type": "markdown",
   "id": "97932b9d-5054-48a9-ac0e-72eaded6cade",
   "metadata": {},
   "source": [
    "### 推定量のもつべき性質"
   ]
  },
  {
   "cell_type": "markdown",
   "id": "9fd04e1f-1b28-4da3-b678-d7d4158f8e46",
   "metadata": {},
   "source": [
    "（１）**不偏性**：推定量の期待値が母数となるとき、それを母数の不偏推定量といいます。例えば、標本平均は母集団の平均の不偏推定量です。一方、標本分散は母集団の分散に等しくならないので、不偏推定量ではありません。そのために分母を標本数$n$ではなく$n - 1$におきかえたものを不偏分散とよぶことはすでに説明しました。  \n",
    "（２）**一致性**：標本が大きくなるほど推定量が母数に近づくとき、母数の一致推定量といいます。例えば標本分散$S^2$と母集団の分散$\\sigma^2$との関係は$S^2 = \\frac{n-1}{n}\\sigma^2$ですから$S^2$は不偏推定量ではありませんが、$\\lim_{n \\to \\infty}\\frac{n-1}{n}\\sigma^2 = \\sigma^2$より、一致推定量といえます。  \n",
    "（３）**誤差（平均平方誤差）が少ないこと**：例えば正規分布に従う母集団の場合、標本平均も標本メジアンも母平均の不偏推定量です。しかし、標本平均の分散は$\\frac{\\sigma^2}{n}$なのに対し、標本メジアンの分散は、$n$が大であるとき近似的に$\\frac{\\pi\\sigma^2}{2n}$となることが知られていて、標本平均よりも分散が大きくなっています。ですから、母平均の推定量としては標本平均のほうが良好です。なお、不偏推定量のうち平均平方誤差（分散）が最小のものを最良不偏推定量ということがあります。  "
   ]
  },
  {
   "cell_type": "markdown",
   "id": "7a9ccd6a-0a8f-4f69-820f-941efa025edd",
   "metadata": {},
   "source": [
    "### 点推定とは"
   ]
  },
  {
   "cell_type": "markdown",
   "id": "89d7d665-5bcf-41d9-9fab-f74eec4ca005",
   "metadata": {},
   "source": [
    "母数をもっとも正確に代表すると思われる単一の数値を推定量とすることを点推定といいます。単一の点を示すにしても、誤差も示す必要があります。  \n",
    "（例１）標本平均で母平均$\\mu$を推定する：この場合、標本平均の分散$S^2$は$S^2 = \\frac{\\sigma^2}{n}$となります。したがって、$S = \\frac{\\sigma}{\\sqrt{n}}$となります。この$S$のことを標本誤差または**標準誤差**といいます。なお、$\\sigma$は不偏分散から計算します。   \n",
    "（例２）標本での比率から母集団の比率を推定する：標本比率$\\frac{x}{n}$は母集団比率$p$の不偏推定量です。また、標本比率の分散$S^2$は$\\frac{pq}{n}$となります。従って標準誤差$S = \\sqrt{\\frac{pq}{n}}$となります。さらに、$n$が大で、$p$または$q = 1 - p$があまり小でなければ、標本比率$\\frac{x}{n}$の二項分布は正規分布で近似できます。"
   ]
  },
  {
   "cell_type": "markdown",
   "id": "6fe13112-c16c-428c-b0c5-48f20724a20f",
   "metadata": {},
   "source": [
    "#### 練習問題（平均値の誤差）"
   ]
  },
  {
   "cell_type": "markdown",
   "id": "3e2b4748-237c-4669-9a55-531bf210f697",
   "metadata": {},
   "source": [
    "飛行機の乗客の体重を平均165ポンド、標準偏差を8ポンドとして、120人乗りの旅客機の運ぶ旅客の総体重が20,000ポンドを超える確率はいくらか。ただし乗客は満員になるものとする。"
   ]
  },
  {
   "cell_type": "markdown",
   "id": "b506f092-df52-4657-80d5-e4227cdb7087",
   "metadata": {},
   "source": [
    "ヒント：\n",
    "- 母集団の標準偏差がわかっているので、標本の標準誤差がわかります。\n",
    "- 与えられた標本の平均値を標準化（母集団の平均をひいて平均値の標準偏差すなわち標準誤差で割る）します。\n",
    "- 標準正規分布$N(0,1)$の中で確率変数がその得点$x$より高くなる確率を1 - 累積分布関数（$-\\infty$からxまで確率密度関数を積分したもの）で求めます。  \n",
    "- 正規分布の累積分布関数：scipy.stats.norm.cdf()  \n",
    "- 正規分布の生存関数（1 - 累積分布関数）：scipy.stats.norm.sf()"
   ]
  },
  {
   "cell_type": "code",
   "execution_count": 82,
   "id": "532062dd-5318-4e9e-ab81-86cc27858484",
   "metadata": {},
   "outputs": [
    {
     "data": {
      "text/plain": [
       "0.011239436683063014"
      ]
     },
     "execution_count": 82,
     "metadata": {},
     "output_type": "execute_result"
    }
   ],
   "source": [
    "## 解法（練習問題医（平均値の誤差））\n",
    "import numpy as np\n",
    "from scipy import stats\n",
    "w_mean = 20000/120 # 標本の平均値\n",
    "err = 8/np.sqrt(120) # 120個からなる標本の標準誤差\n",
    "st_score = (w_mean - 165)/err #標本平均の標準化\n",
    "stats.norm.sf(st_score) # N(0,1)の中で、確率変数が、与えられた標本の平均値の標準化得点よりも高い値をとる確率"
   ]
  },
  {
   "cell_type": "markdown",
   "id": "b8325efb-db2b-4f53-8e5f-fb7190b2b27f",
   "metadata": {},
   "source": [
    "### 区間推定とは"
   ]
  },
  {
   "cell_type": "markdown",
   "id": "241b1df9-15db-4609-b9da-46b34c142bd7",
   "metadata": {},
   "source": [
    "母数が一定の確率で含まれる区間を示すことで、母数の推定を行うことを区間推定といいます。  \n",
    "その際、母数が一定の確率（**信頼係数**）（例えば95%以上）で含まれると期待される区間を**信頼区間**といいます。  \n",
    "母集団の性質（つまり母数）についてどれだけの情報があるかによって、異なる区間推定の方法があります。"
   ]
  },
  {
   "cell_type": "markdown",
   "id": "7455b67d-f38e-4946-bb6f-7dd150c29897",
   "metadata": {},
   "source": [
    "### 母集団の平均値の区間推定"
   ]
  },
  {
   "cell_type": "markdown",
   "id": "d3bfddf6-8099-499c-ae72-aae6c73f3796",
   "metadata": {},
   "source": [
    "#### 母集団が正規分布で、母集団の分散が既知の場合"
   ]
  },
  {
   "cell_type": "markdown",
   "id": "a345f77d-64ce-4a66-b37a-c27342ca0c34",
   "metadata": {},
   "source": [
    "母集団が平均$\\mu$、分散$\\sigma^2$のの正規分布（これを$N(\\mu,\\sigma^2)$と表します）に従うとき、$n$個の標本の平均$\\bar{X}$を確率変数としたら、それは、$N(\\mu, \\frac{\\sigma^2}{n})$の正規分布に従うことをこの回の最初のほうに紹介しました。"
   ]
  },
  {
   "cell_type": "markdown",
   "id": "2582ae43-f0f0-46f1-937a-13ff136e369e",
   "metadata": {},
   "source": [
    "この分布を、$\\bar{X}$から$\\mu$をひいて平行移動させ、さらに、標本の標準誤差$\\frac{\\sigma}{\\sqrt{n}}$で割って、標準化された統計量$$Z = \\frac{\\bar{X} - \\mu}{\\frac{\\sigma}{\\sqrt{n}}}$$をつくります。  \n",
    "これは、標準正規分布$N(0, 1)$つまり平均0、分散1の正規分布に従います。"
   ]
  },
  {
   "cell_type": "markdown",
   "id": "d408fef8-9151-4247-83c3-a2b52cd580d5",
   "metadata": {},
   "source": [
    "このとき、$Z$が95%の確率で収まる範囲(**95%信頼区間**)を求めるとします。  \n",
    "一般的には次のような方法でこれを求めます。  \n",
    "すなわち、$0 < \\alpha < 1$であるような、ある$\\alpha$に対して、統計量の確率分布の積分値（グラフの下の面積）が、左右$\\frac{\\alpha}{2}$ぶんを除いた残りの$1 - \\alpha$ （これは信頼係数に等しいです）の部分に含まれるような統計量の範囲を求めます。例えば95%信頼区間を求めたい場合、$\\alpha$の値は、0.05です。\n",
    "そのような統計量の範囲の範囲を、$$Z_{\\frac{\\alpha}{2}} \\leqq Z \\leqq Z_{1 - \\frac{\\alpha}{2}}$$と表します。   "
   ]
  },
  {
   "cell_type": "markdown",
   "id": "7b5f6775-f962-4fd6-a1b2-bd34aed68764",
   "metadata": {},
   "source": [
    "例えば$\\alpha = 0.05$のとき 左端の$Z_\\frac{\\alpha}{2} = Z_{0.025}$です。"
   ]
  },
  {
   "cell_type": "markdown",
   "id": "386e41c7-5a1f-40cb-9023-51a33b676391",
   "metadata": {},
   "source": [
    "これは、標準正規分布の確率密度関数を、$-\\infty$からある$x$まで積分すると曲線の下の面積が0.025つまり2.5%になるような$x$の値です。"
   ]
  },
  {
   "cell_type": "markdown",
   "id": "2d53fa14-9be4-487b-977c-3ad106316616",
   "metadata": {},
   "source": [
    "言い換えると、標準正規分布の累積分布関数$F(X \\leq x) = 0.025$となるような$x$の値です。"
   ]
  },
  {
   "cell_type": "markdown",
   "id": "77699045-ecbe-42f2-9cfb-506bdf24eac3",
   "metadata": {},
   "source": [
    "0.05でなく0.025なのは、信頼区間の外側には、下側（左側）と上側（右側）とがあり、両方における曲線の下の面積をあわせて0.05にするからです。すると、それぞれの面積は0.025ずつになります。"
   ]
  },
  {
   "cell_type": "markdown",
   "id": "4dd2a9f3-a8a3-41c7-8659-e3d4d610044d",
   "metadata": {},
   "source": [
    "同様に、$Z_{1 - \\frac{\\alpha}{2}} = Z_{0.975}$は、累積分布関数$F(X \\leq x) = 0.975$となるような$x$の値です。"
   ]
  },
  {
   "cell_type": "markdown",
   "id": "5577afe9-c899-411e-a06f-2af4c25eb1e5",
   "metadata": {},
   "source": [
    "標準正規分布はY軸に対して左右対称なので、$Z_{1 - \\frac{\\alpha}{2}} = - Z_{\\frac{\\alpha}{2}}$です。\n",
    "$x \\geqq Z_{1 - 0.025}$に対して確率密度曲線の下を塗ると、次のようになります。"
   ]
  },
  {
   "cell_type": "code",
   "execution_count": 252,
   "id": "0021b9b5-d301-44ee-a930-7516559ff1f4",
   "metadata": {},
   "outputs": [
    {
     "data": {
      "text/plain": [
       "<matplotlib.collections.PolyCollection at 0x1d428024970>"
      ]
     },
     "execution_count": 252,
     "metadata": {},
     "output_type": "execute_result"
    },
    {
     "data": {
      "image/png": "[encoded data removed]",
      "text/plain": [
       "<Figure size 432x288 with 1 Axes>"
      ]
     },
     "metadata": {
      "needs_background": "light"
     },
     "output_type": "display_data"
    }
   ],
   "source": [
    "# 上側2.5％点\n",
    "p = stats.norm.isf(0.025)\n",
    "# 標準正規分布の描画\n",
    "fig = plt.figure()\n",
    "ax = fig.subplots()\n",
    "x_vals = np.arange(-3,3,0.1)\n",
    "y_vals = stats.norm.pdf(x_vals)\n",
    "ax.plot(x_vals,y_vals)\n",
    "# 標準正規分布の下、X軸の上で、xの値が上側2.5％点(p)以上の面積(確率)を塗りつぶす\n",
    "ax.fill_between( x_vals, y_vals, 0, where=x_vals>p)"
   ]
  },
  {
   "cell_type": "markdown",
   "id": "b8df2f3b-366f-4d12-97de-7af1cc2f5b1f",
   "metadata": {},
   "source": [
    "上側0.025%点の値は、scipy.stats.norm.isf(0.025)でわかります。"
   ]
  },
  {
   "cell_type": "code",
   "execution_count": 212,
   "id": "96740176-9a07-49a4-86fa-dbf12f7e3734",
   "metadata": {},
   "outputs": [],
   "source": [
    "import numpy as np\n",
    "from scipy import stats\n",
    "%matplotlib inline\n",
    "import matplotlib.pyplot as plt"
   ]
  },
  {
   "cell_type": "code",
   "execution_count": 214,
   "id": "09b3ab60-0745-457a-a030-e97f9cd4c10a",
   "metadata": {},
   "outputs": [
    {
     "data": {
      "text/plain": [
       "1.9599639845400545"
      ]
     },
     "execution_count": 214,
     "metadata": {},
     "output_type": "execute_result"
    }
   ],
   "source": [
    "stats.norm.isf(0.025)"
   ]
  },
  {
   "cell_type": "markdown",
   "id": "aeedc8eb-7896-4c00-a205-6edff971df56",
   "metadata": {},
   "source": [
    "この値は、一般的には1.96で通っています。"
   ]
  },
  {
   "cell_type": "markdown",
   "id": "23428531-163a-47f6-8c19-0ddd5d25bd76",
   "metadata": {},
   "source": [
    "したがって、$Z$の95%信頼区間は、下のグラフで塗った範囲の、X軸の値になります。"
   ]
  },
  {
   "cell_type": "code",
   "execution_count": 251,
   "id": "a17829c5-85a1-4042-92bb-0f1408db1db9",
   "metadata": {},
   "outputs": [
    {
     "data": {
      "text/plain": [
       "<matplotlib.collections.PolyCollection at 0x1d427fb0ca0>"
      ]
     },
     "execution_count": 251,
     "metadata": {},
     "output_type": "execute_result"
    },
    {
     "data": {
      "image/png": "[encoded data removed]",
      "text/plain": [
       "<Figure size 432x288 with 1 Axes>"
      ]
     },
     "metadata": {
      "needs_background": "light"
     },
     "output_type": "display_data"
    }
   ],
   "source": [
    "# 上側2.5％点\n",
    "p = stats.norm.isf(0.025)\n",
    "# 標準正規分布の描画\n",
    "fig = plt.figure()\n",
    "ax = fig.subplots()\n",
    "x_vals = np.arange(-3,3,0.1)\n",
    "y_vals = stats.norm.pdf(x_vals)\n",
    "ax.plot(x_vals,y_vals)\n",
    "# 標準正規分布の下、X軸の上で、xの値が下側2.5％点(-p)以上で上側2.5％点(p)以下の面積(確率)を塗りつぶす\n",
    "ax.fill_between( x_vals, y_vals, 0, where=(x_vals > -1*p)&(x_vals < p))"
   ]
  },
  {
   "cell_type": "markdown",
   "id": "690c55c9-ffd3-4201-85bb-fa07e77d27f7",
   "metadata": {},
   "source": [
    "従って、$\\mu$の95%信頼区間は、$$\\bar{X}  \\pm 1.96 \\frac{\\sigma}{\\sqrt{n}}$$の間、つまり、平均$\\pm 1.96\\times$標準誤差となります。念のためにですが、この$\\sigma$は母集団の標準偏差（分散の平方根）で、不偏分散の平方根に相当します。"
   ]
  },
  {
   "cell_type": "markdown",
   "id": "17a3a9f6-db92-40ac-af7d-6872f627a2d7",
   "metadata": {},
   "source": [
    "#### 練習問題（母集団の分散が既知の場合の推定）"
   ]
  },
  {
   "cell_type": "markdown",
   "id": "7448fee5-b563-4393-932f-898fd629dbf8",
   "metadata": {},
   "source": [
    "ある年に首都圏の勤労者世帯$n = 2500$を対象に実施された調査で、当該月の消費支出の平均が$\\bar{x} = 32.8$万円、標準偏差が$\\hat{\\sigma} = 29.5$万円となった。  \n",
    "(1) 首都圏の勤労者世帯を母集団とする平均消費支出額$\\mu$について95%信頼区間を求めよ。  "
   ]
  },
  {
   "cell_type": "markdown",
   "id": "e8696a54-0e35-42e7-abd2-a5af1d2431b7",
   "metadata": {},
   "source": [
    "ヒント：標本サイズが2500と大きいので、標本の標準偏差を母集団の標準偏差とみなせます。標本平均の標準誤差は母集団の標準偏差と標本の大きさからわかります。平均値の95%信頼区間は平均値$\\pm$1.96$\\times$標準誤差　です。  \n",
    "1.96という数字は、$N(0,1)$の累積分布関数$F(X\\leqq x) = 0.975$となるような$x$で、  \n",
    "stats.normal.ppf(0.975)で求められます。  \n",
    "下限となる$x$は、これの符号を反対にするか、  \n",
    "stats.normal.ppf(0.025)で求めます。"
   ]
  },
  {
   "cell_type": "code",
   "execution_count": 46,
   "id": "9f68572f-a4cc-4b57-9ec7-7db93f7628f3",
   "metadata": {},
   "outputs": [
    {
     "name": "stdout",
     "output_type": "stream",
     "text": [
      "上限：  33.96\n",
      "下限：  31.64\n"
     ]
    }
   ],
   "source": [
    "#解答（母集団の分散が既知の場合の推定）\n",
    "n = 2500\n",
    "x_mean = 32.8\n",
    "s = 29.5\n",
    "x_upper = x_mean + stats.norm.ppf(0.975)*s/np.sqrt(n)\n",
    "x_lower = x_mean + stats.norm.ppf(0.025)*s/np.sqrt(n)\n",
    "print(\"上限： \",round(x_upper,2))\n",
    "print(\"下限： \",round(x_lower,2))"
   ]
  },
  {
   "cell_type": "markdown",
   "id": "4d49c6ce-e67e-4e2c-82b0-ce504fbe232f",
   "metadata": {},
   "source": [
    "#### 母集団が正規分布で、母集団の分散が未知の場合→小標本ならば$t$分布を使う"
   ]
  },
  {
   "cell_type": "markdown",
   "id": "29797c76-038b-4c51-a18e-88f728935de4",
   "metadata": {},
   "source": [
    "この場合も、正規化された統計量$Z = \\frac{\\bar{X} - \\mu}{\\frac{\\sigma}{\\sqrt{n}}}$をつくるところまでは同じです。しかし母分散$\\sigma^2$がわかりませんので、さらに別の統計量で割って、$\\sigma$を消すことにします。  "
   ]
  },
  {
   "cell_type": "markdown",
   "id": "e6816386-547d-4349-91ab-75ca6b5b5535",
   "metadata": {},
   "source": [
    "$\\chi^2$分布のところで説明したように、標本分散$S$に対して、統計量$\\chi^2 = \\frac{nS^2}{\\sigma^2}$は自由度$n-1$の$\\chi^2$分布に従います。これを自由度$n -1$で割ったもの、すなわち$\\frac{nS^2}{\\sigma^2{(n-1)}}$の平方根で、$z$を割ります。そうすると、\n",
    "$$T = \\frac{\\bar{X} - \\mu}{\\frac{\\sigma}{\\sqrt{n}}} \\sqrt{\\frac{\\sigma^2(n - 1)}{nS^2}}  = \\frac{\\bar{X} - \\mu}{\\frac{S}{\\sqrt{n - 1}}} = \\frac{\\bar{X} - \\mu}{\\frac{U}{\\sqrt{n}}}$$\n",
    "ができます。ここで、$nS^2 = (n - 1)U^2$の関係を使いました。正規分布をするものを、「$\\chi^2$分布するものを自由度で割ったもの(つまり１自由度あたりの$\\chi^2$統計量)の平方根」で割ると、それは$t$分布になることは、$t$分布のところで説明しました。ですから、こうしてできた$T$は、平均が0で、自由度 $n - 1$ の、$t$分布$t_{(n - 1)}$に従います。"
   ]
  },
  {
   "cell_type": "markdown",
   "id": "70e79887-3fda-472e-9788-f1ce92f66a8b",
   "metadata": {},
   "source": [
    "この$T$は確率的にさまざまな値を取りえますが、その95%は、累積分布関数$F(X \\leq x)$の値が0.025から0.975の間にあると推定されます。それらの値は、stats.t(df=df).ppf(0.025)ならびにstats.t(df=df).ppf(0.975)で求められます（dfは自由度）。例えば標本数$n = 11$のとき自由度$n - 1 = 10$ですから、$T$の上限$t_{n-1}(0.025)$は"
   ]
  },
  {
   "cell_type": "code",
   "execution_count": 75,
   "id": "214a64de-65b2-4cb5-8b20-3f31dea21535",
   "metadata": {},
   "outputs": [
    {
     "data": {
      "text/plain": [
       "2.2281388519649385"
      ]
     },
     "execution_count": 75,
     "metadata": {},
     "output_type": "execute_result"
    }
   ],
   "source": [
    "stats.t(df=10).ppf(0.975)"
   ]
  },
  {
   "cell_type": "markdown",
   "id": "1239fc5d-7f49-4ba9-81d9-ffff21a11f60",
   "metadata": {},
   "source": [
    "となります。そして、$\\mu$の95%信頼区間は、$$\\bar{X} \\pm t_{n-1}(0.025)\\frac{S}{\\sqrt{n-1}}$$となります。$S$を$U$に置き換えると、$$\\bar{X} \\pm t_{n-1}(0.025)\\frac{U}{\\sqrt{n}}$$となります。こちらのほうがよく使われます。"
   ]
  },
  {
   "cell_type": "markdown",
   "id": "3687c22b-d189-4241-840d-02cf2359a37d",
   "metadata": {},
   "source": [
    "#### 練習問題（$t$分布による平均値の95%信頼区間の推定）"
   ]
  },
  {
   "cell_type": "markdown",
   "id": "330a797c-877e-4b63-951f-eaf325eba861",
   "metadata": {},
   "source": [
    "世帯数9,420の市で16世帯の確率標本を選んで世帯員数を調べて次の結果を得た。  \n",
    "<pre>           5    2    4    7    6    4    4    4    3    4    3     3     3     5    2     5  </pre>\n",
    " (a) 市の人口を推定せよ  \n",
    " (b) 市の人口の95%信頼区間を求めよ"
   ]
  },
  {
   "cell_type": "markdown",
   "id": "16655b93-dfe6-4756-aff8-c407ee85347c",
   "metadata": {},
   "source": [
    "ヒント：(a) 平均世帯数x 世帯数 = 人口です。標本平均で母集団の平均とします。"
   ]
  },
  {
   "cell_type": "markdown",
   "id": "5be3b662-c51b-4f94-8f44-c1ffd65e174b",
   "metadata": {},
   "source": [
    "ヒント：(b)標本数が小さいので、標本平均値は正規分布ではなくて自由度が$16 -1 = 15$の$t$分布に従うものとみなします。  \n",
    "$t$分布の累積分布関数$F(X \\leqq x) = 0.975$になるような$x$が、「標準化された」平均値の上限になります。$t$分布は$X = 0$に対して左右対称なので、これの符号を反対にすれば「標準化された」平均値の下限になります。  \n",
    "標本の平均値$\\bar{X}$を標準化するには、平均値の平均値を$\\mu$、標準誤差を$err$として、$\\frac{\\bar{X} - \\mu}{err}$とします。標準誤差$err$は$\\frac{S}{\\sqrt{n - 1}}$または$\\frac{U}{\\sqrt{n}}$です。逆算すると、$\\bar{X} = \\mu + err * 標準化得点$となります。"
   ]
  },
  {
   "cell_type": "code",
   "execution_count": 77,
   "id": "7e7aa922-f6ce-440c-8260-ecd0cb309eda",
   "metadata": {},
   "outputs": [
    {
     "name": "stdout",
     "output_type": "stream",
     "text": [
      "市の推定人口は  37680.0  人\n"
     ]
    }
   ],
   "source": [
    "## 解答(ｔ分布による平均値の信頼区間推定)\n",
    "# (a)市の人口の推定\n",
    "num_house = 9420\n",
    "sample_data = np.array([5,2,4,7,6,4,4,4,3,4,3,3,3,5,2,5])\n",
    "sample_mean = np.mean(sample_data)\n",
    "city_population = num_house * sample_mean\n",
    "print(\"市の推定人口は \",city_population,\" 人\")"
   ]
  },
  {
   "cell_type": "code",
   "execution_count": 80,
   "id": "0d72d811-a0b5-497b-bfa7-e6ff7182a32b",
   "metadata": {},
   "outputs": [
    {
     "name": "stdout",
     "output_type": "stream",
     "text": [
      "上限： 44538\n",
      "下限； 30822\n"
     ]
    }
   ],
   "source": [
    "## 解答(ｔ分布による平均値の信頼区間推定)\n",
    "# (a)市の人口の95%信頼区間\n",
    "n = len(sample_data) # 16世帯\n",
    "u = np.std(sample_data,ddof=1) ## 不偏分散の平方根（=U) (stdはstandard deviation (標準偏差))\n",
    "err = u/np.sqrt(n) # 標本誤差\n",
    "t_upper = stats.t(df=n-1).ppf(0.975)\n",
    "t_lower = stats.t(df=n-1).ppf(0.025)\n",
    "mean_upper = sample_mean + err*t_upper\n",
    "mean_lower = sample_mean + err*t_lower\n",
    "pop_upper = mean_upper * num_house\n",
    "pop_lower = mean_lower * num_house\n",
    "print(\"上限：\",round(pop_upper))\n",
    "print(\"下限；\",round(pop_lower))"
   ]
  },
  {
   "cell_type": "markdown",
   "id": "0d56bd27-0990-4875-881b-bbdc097d2281",
   "metadata": {},
   "source": [
    "### 母集団の分散の区間推定"
   ]
  },
  {
   "cell_type": "markdown",
   "id": "7ea23283-3bad-4e8b-9a55-64da53e27416",
   "metadata": {},
   "source": [
    "この項目は、$\\chi^2$分散の項の続きになります。"
   ]
  },
  {
   "cell_type": "markdown",
   "id": "c686c963-b729-471d-afa8-cc392b6b171d",
   "metadata": {},
   "source": [
    "母集団の分散を$\\sigma^2$, 標本数を$n$, 標本分散を$S^2$としたとき、統計量$\\frac{nS^2}{\\sigma^2}$($=\\frac{(n - 1)U^2}{\\sigma^2}$)が、自由度$n - 1$の$\\chi^2$分布に従います。この統計量の95%信頼区間は、例えば自由度が9（つまり標本のサイズが10のとき）の場合、下の図のようになります。"
   ]
  },
  {
   "cell_type": "markdown",
   "id": "e030e578-fb01-48df-b719-54b95c2a245a",
   "metadata": {},
   "source": [
    "図を描く前に、X軸の左端の値（つまり、0からそこまで積分したら曲線の下の面積が0.025になる値）はいくつでしょうか？  \n",
    "stats.chi2.ppf()関数を用います。これは、stats.chi2.cdf()関数の逆関数です。"
   ]
  },
  {
   "cell_type": "code",
   "execution_count": 248,
   "id": "38ddeb82-1162-4118-af2e-6bd357c2b509",
   "metadata": {},
   "outputs": [
    {
     "data": {
      "text/plain": [
       "2.7003894999803584"
      ]
     },
     "execution_count": 248,
     "metadata": {},
     "output_type": "execute_result"
    }
   ],
   "source": [
    "stats.chi2.ppf(0.025,df=9) # これを下のプログラムでp1に代入します。"
   ]
  },
  {
   "cell_type": "markdown",
   "id": "81c016d8-1d39-4217-b3a3-823e99daebba",
   "metadata": {},
   "source": [
    "同様に、右端の値（つまり、そこから無限大まで積分したら面積が0.025になる値）はいくつでしょうか？  \n",
    "stats.chi2.isf()関数を用います。これは、stats.chi2.sf()関数の逆関数です。"
   ]
  },
  {
   "cell_type": "code",
   "execution_count": 249,
   "id": "35f37612-bdd8-498c-b849-bd0703b4cc7b",
   "metadata": {},
   "outputs": [
    {
     "data": {
      "text/plain": [
       "19.022767798641638"
      ]
     },
     "execution_count": 249,
     "metadata": {},
     "output_type": "execute_result"
    }
   ],
   "source": [
    "stats.chi2.isf(0.025,df=9) # これを下のプログラムでp2に代入します。"
   ]
  },
  {
   "cell_type": "markdown",
   "id": "c90c3bbc-984a-4282-ac15-f2d4ba575b5d",
   "metadata": {},
   "source": [
    "では、図を描いてみましょう。"
   ]
  },
  {
   "cell_type": "code",
   "execution_count": 247,
   "id": "ebc2ab3c-debf-4b79-8123-2ee468aa92e0",
   "metadata": {},
   "outputs": [
    {
     "data": {
      "text/plain": [
       "<matplotlib.collections.PolyCollection at 0x1d427f4db50>"
      ]
     },
     "execution_count": 247,
     "metadata": {},
     "output_type": "execute_result"
    },
    {
     "data": {
      "image/png": "[encoded data removed]",
      "text/plain": [
       "<Figure size 432x288 with 1 Axes>"
      ]
     },
     "metadata": {
      "needs_background": "light"
     },
     "output_type": "display_data"
    }
   ],
   "source": [
    "fig = plt.figure()\n",
    "ax1 = fig.subplots()\n",
    "x_vals = np.arange(0,25,0.1)\n",
    "y_vals = stats.chi2.pdf(x_vals,df=9)\n",
    "ax1.plot(x_vals, y_vals)\n",
    "p1 = stats.chi2.ppf(0.025,df=9) # 左端の値\n",
    "p2 = stats.chi2.isf(0.025,df=9) # 右端の値\n",
    "ax1.fill_between( x_vals, y_vals, 0, where=(x_vals > p1)&(x_vals < p2))"
   ]
  },
  {
   "cell_type": "markdown",
   "id": "490bfa7a-07c1-45c9-ad3a-0a6068fa97cf",
   "metadata": {},
   "source": [
    "この図で塗った部分の面積が0.95になります。塗った部分のX軸の値が、統計量が95%の確率で取りうる値です。"
   ]
  },
  {
   "cell_type": "markdown",
   "id": "5d7fdc37-e848-4434-a44d-cc3e9ca12a2e",
   "metadata": {},
   "source": [
    "上のプログラムで、$p_1$, $p_2$をそれぞれ$\\chi_{0.025}^2$, $\\chi_{0.975}^2$と表すことにします。累積確率密度（$-\\infty$からある値まで、確率密度関数を積分した値）がそれぞれ0.025, 0.975という意味です。  \n",
    "すると、$\\sigma^2$の95%信頼区間は、$$\\frac{nS^2}{\\chi_{0.975}^2} \\leqq \\sigma^2 \\leqq \\frac{nS^2}{\\chi_{0.025}^2}$$あるいは$$\\frac{(n - 1)U^2}{\\chi_{0.975}^2} \\leqq \\sigma^2 \\leqq \\frac{(n-1)U^2}{\\chi_{0.025}^2}$$となります。"
   ]
  },
  {
   "cell_type": "markdown",
   "id": "23e65fb9-cd68-42a5-8831-dd3fd6ce9d05",
   "metadata": {},
   "source": [
    "注：$\\chi^2$分布は左右非対称なので、$\\alpha$を左右に等分するのが適切かどうかは議論の余地があります。他には、信頼区間の幅が最小になるように$\\alpha$を左右に分配するという方針も考えられます。そのための方法についてはこのコースの範囲を超えるので扱いません。"
   ]
  },
  {
   "cell_type": "markdown",
   "id": "df140043-f7ad-4429-adc4-b35cf5a0a9c7",
   "metadata": {
    "tags": []
   },
   "source": [
    "#### 練習問題"
   ]
  },
  {
   "cell_type": "markdown",
   "id": "eeb83030-0ef8-4d21-b526-1d4cb50e8a75",
   "metadata": {},
   "source": [
    "標本の大きさ$n = 10$、標本の標準偏差$S = 5$であるとき、母集団の標準偏差$\\sigma$の95%および99%の信頼区間を求めましょう。  "
   ]
  },
  {
   "cell_type": "markdown",
   "id": "0bb7ebdf-2ff1-490f-8181-2ea514a55d2a",
   "metadata": {},
   "source": [
    "ヒント：95%信頼区間の場合、$\\chi^2$の上限と下限はそれぞれscipy.stats(df=n-1).chi2.ppf(p)で求めます。ただし、それぞれ$p=0.975$と$p=0.025$です。99%信頼区間の場合は、それぞれ$p=0.995$と$p=0.005$です。"
   ]
  },
  {
   "cell_type": "code",
   "execution_count": 6,
   "id": "d1941055-b30a-49bf-a589-2f7ac034ff6c",
   "metadata": {},
   "outputs": [
    {
     "name": "stdout",
     "output_type": "stream",
     "text": [
      "95%:  3.63  -  9.62\n",
      "99%:  3.26  -  12.0\n"
     ]
    }
   ],
   "source": [
    "import numpy as np\n",
    "from scipy import stats\n",
    "n = 10\n",
    "df = n - 1\n",
    "s = 5\n",
    "chi2_975 = stats.chi2(df=df).ppf(0.975)\n",
    "chi2_025 = stats.chi2(df=df).ppf(0.025)\n",
    "chi2_995 = stats.chi2(df=df).ppf(0.995)\n",
    "chi2_005 = stats.chi2(df=df).ppf(0.005)\n",
    "lower_95 = np.sqrt(n*s**2/chi2_975)\n",
    "upper_95 = np.sqrt(n*s**2/chi2_025)\n",
    "lower_99 = np.sqrt(n*s**2/chi2_995)\n",
    "upper_99 = np.sqrt(n*s**2/chi2_005)\n",
    "print(\"95%: \",round(lower_95,2),\" - \",round(upper_95,2))\n",
    "print(\"99%: \",round(lower_99,2),\" - \",round(upper_99,2))"
   ]
  },
  {
   "cell_type": "markdown",
   "id": "df9784e6-17ca-424f-b133-05b23270252c",
   "metadata": {},
   "source": [
    "### 母集団の平均の差の推定"
   ]
  },
  {
   "cell_type": "markdown",
   "id": "a78e67a0-bdcf-49cd-af4d-07957efd0f7d",
   "metadata": {},
   "source": [
    "標本どうしで平均に差があるか、あるとしたらどの程度か、という議論は日常的に行われます。これは、言い換えれば、それぞれの母集団の間の平均の比較です。"
   ]
  },
  {
   "cell_type": "markdown",
   "id": "66f8cd22-228e-4d79-961c-b62c0ac54e6c",
   "metadata": {},
   "source": [
    "そこで、２つの標本の大きさがそれぞれ$m$と$n$で、標本平均はそれぞれ$\\bar{X_1}$と$\\bar{X_2}$で、標本分散はそれぞれ$S_1^2, S_2^2$だとします。それぞれが想定する母集団の平均ならびに分散を、前者に対しては$\\mu_1$ならびに$\\sigma_1$、後者に対しては$\\mu_2$ならびに$\\sigma_2$とします。"
   ]
  },
  {
   "cell_type": "markdown",
   "id": "0927d93f-1f79-4fad-a79d-b018b2ad3f85",
   "metadata": {},
   "source": [
    "標本平均$\\bar{X_1}$, 標本平均$\\bar{X_2}$はそれぞれ正規分布$N(\\mu_1, \\sigma_1^2/m)$, $N(\\mu_2, \\sigma_2^2/n)$に従います。  \n",
    "また、２つの独立な確率変数$X$, $Y$について、$X - Y$の期待値$E(X - Y) = E(X) - E(Y)$で、分散$V(X - Y) = V(X) + V(Y)$ですから、  \n",
    "$\\bar{X_1} - \\bar{X_2}$は正規分布$N(\\mu_1 - \\mu_2, \\frac{\\sigma_1^2}{m} +\\frac{\\sigma_2^2}{n})$に従います。"
   ]
  },
  {
   "cell_type": "markdown",
   "id": "312c66b7-668b-4268-94d9-6271c52bfea9",
   "metadata": {},
   "source": [
    "$\\bar{X_1} - \\bar{X_2}$を標準化したもの、すなわち、$$\\frac{\\bar{X_1} - \\bar{X_2} - (\\mu_1 - \\mu_2)}{\\sqrt{\\frac{\\sigma_1^2}{m} +\\frac{\\sigma_2^2}{n}}}$$は標準正規分布$N(0,1)$に従います。"
   ]
  },
  {
   "cell_type": "markdown",
   "id": "6f971bfc-56ac-481f-bf20-fdac3921dcb3",
   "metadata": {},
   "source": [
    "$\\sigma_1 = \\sigma_2 = \\sigma$とすると、これは$$\\frac{\\bar{X_1} - \\bar{X_2} - (\\mu_1 - \\mu_2)}{\\sigma\\sqrt{\\frac{1}{m} +\\frac{1}{n}}}$$と書き換えられます。"
   ]
  },
  {
   "cell_type": "markdown",
   "id": "d0187521-13a4-4d59-9c11-cc1019e81a23",
   "metadata": {},
   "source": [
    "一方、$\\chi^2$分布のところで、標本数を$n$, 標本分散を$S^2$, 母分散を$\\sigma^2$として、$\\frac{nS^2}{\\sigma^2}$が自由度$n - 1$の$\\chi^2$分布に従うことを示しました。  \n",
    "$\\sigma_1^2 = \\sigma_2^2 = \\sigma^2$ですから、２つの標本を合併したものについても同様に、統計量$$\\frac{mS_1^2 + nS_2^2}{\\sigma^2}$$は自由度$$(m - 1) + (n - 1) = (m + n - 2)$$の$\\chi^2$分布に従います。  "
   ]
  },
  {
   "cell_type": "markdown",
   "id": "e12551b7-5257-4e8b-9422-775cd82a21fc",
   "metadata": {},
   "source": [
    "$t$分布で示したように、後者（$\\chi^2$分布にしたがうほう）を自由度$n + m - 2$でわって平方根をとったものすなわち  \n",
    "$$\\sqrt{\\frac{mS_1^2 + nS_2^2}{\\sigma^2}\\frac{1}{m + n - 2}}$$で、前者（標準正規分布に従うほう）つまり$$\\frac{\\bar{X_1} - \\bar{X_2} - (\\mu_1 - \\mu_2)}{\\sigma\\sqrt{\\frac{1}{m} +\\frac{1}{n}}}$$を割ると、$\\sigma$が消えて、"
   ]
  },
  {
   "cell_type": "markdown",
   "id": "acf1b683-1686-4ea0-ba62-7c44c0855b3f",
   "metadata": {},
   "source": [
    "統計量$$t' = \\frac{\\bar{X_1} - \\bar{X_2} - (\\mu_1 - \\mu_2)}{\\sigma^{'}}\\sqrt{\\frac{nm}{n + m}}$$ ただし $$\\sigma^{'2} = \\frac{mS_1^2 + nS_2^2}{n + m - 2}$$　は、自由度$(n + m -2)$の$t$分布に従います。"
   ]
  },
  {
   "cell_type": "markdown",
   "id": "c0f5b95d-589f-4cbd-94f9-15e198258bef",
   "metadata": {},
   "source": [
    "よって、$\\mu_1 - \\mu_2$の95%信頼区間は、$$(\\bar{X_1} - \\bar{X_2}) \\pm t_{{m + n -2},(0.975)}\\sqrt{\\frac{mS_1^2 + nS_2^2}{n + m - 2}}\\sqrt{\\frac{1}{n} + \\frac{1}{m}}$$あるいは$$(\\bar{X_1} - \\bar{X_2}) \\pm t_{{m + n - 2},(0.975)}\\sqrt{\\frac{(m - 1)U_1^2 + (n - 1)U_2^2}{n + m - 2}}\\sqrt{\\frac{1}{n} + \\frac{1}{m}}$$となります。"
   ]
  },
  {
   "cell_type": "markdown",
   "id": "e779cae0-6c90-4fc2-bd42-9a781f354838",
   "metadata": {},
   "source": [
    "つまり$$(\\bar{X_1} - \\bar{X_2}) \\pm t_{{m + n -2},(0.975)}\\sigma^{'}\\sqrt{\\frac{1}{n} + \\frac{1}{m}}$$です"
   ]
  },
  {
   "cell_type": "markdown",
   "id": "517eecc5-1773-4fbb-97e1-6cdba6fa1cf9",
   "metadata": {},
   "source": [
    "#### 練習問題"
   ]
  },
  {
   "cell_type": "markdown",
   "id": "84b4a6f3-6752-4469-9689-247b62c6330a",
   "metadata": {},
   "source": [
    "ある中学のA組とB組では、県下一斉テストの数学の成績は、下の表のようになりました。"
   ]
  },
  {
   "cell_type": "markdown",
   "id": "c4d07484-9965-4d7e-9e4a-d2a99e7714ad",
   "metadata": {},
   "source": [
    "|クラス|受験者数|平均|不偏分散|\n",
    "|--|--|--|--|\n",
    "|A|25|73|104|\n",
    "|B|30|66|72|"
   ]
  },
  {
   "cell_type": "markdown",
   "id": "0fe02aac-7b21-4928-967a-a1673b26c95b",
   "metadata": {},
   "source": [
    "平均点の差（ただしA - B）の95%信頼区間を求めてください。"
   ]
  },
  {
   "cell_type": "markdown",
   "id": "29ab96e8-6835-4045-bd16-51b32183f68c",
   "metadata": {},
   "source": [
    "ヒント：統計量$$t' = \\frac{\\bar{X_1} - \\bar{X_2} - (\\mu_1 - \\mu_2)}{\\sigma^{'}}\\sqrt{\\frac{nm}{n + m}}$$ ただし $$\\sigma^{'2} = \\frac{mS_1^2 + nS_2^2}{n + m - 2} = \\frac{(m - 1)U_1^2 + (n - 1)U_2^2}{n + m - 2}$$　は、自由度$(n + m -2)$の$t$分布に従います。$m = 25$, $n = 30$, $\\mu_1 = 73$, $\\mu_2 = 66$, $U_1 = 104$, $U_2 = 72$です。 従って、自由度は$25 + 30 -2 = 53$です。"
   ]
  },
  {
   "cell_type": "code",
   "execution_count": 19,
   "id": "28adeec9-8772-4b4f-aa89-78657d1e1f0b",
   "metadata": {},
   "outputs": [
    {
     "name": "stdout",
     "output_type": "stream",
     "text": [
      "下限　上限： [ 1.94860865 12.05139135]\n"
     ]
    }
   ],
   "source": [
    "import numpy as np\n",
    "from scipy import stats\n",
    "m = 25\n",
    "n = 30\n",
    "mu_1 = 73\n",
    "mu_2 = 66\n",
    "u_1 = 104\n",
    "u_2 = 72\n",
    "df = m + n - 2\n",
    "diff = mu_1 - mu_2\n",
    "sigma_sq = ((m - 1)*u_1 + (n - 1)*u_2)/(m + n - 2)\n",
    "sigma = np.sqrt(sigma_sq*(m+n)/(m*n))\n",
    "t_lower = stats.t(df = df).ppf(0.025)\n",
    "t_upper = stats.t(df = df).ppf(0.975)\n",
    "low_high = diff + np.array([t_lower, t_upper])*sigma\n",
    "print(\"下限　上限：\",low_high)"
   ]
  },
  {
   "cell_type": "code",
   "execution_count": null,
   "id": "07907472-9ceb-4747-bc84-4b514bf466e8",
   "metadata": {},
   "outputs": [],
   "source": []
  }
 ],
 "metadata": {
  "kernelspec": {
   "display_name": "Python 3 (ipykernel)",
   "language": "python",
   "name": "python3"
  },
  "language_info": {
   "codemirror_mode": {
    "name": "ipython",
    "version": 3
   },
   "file_extension": ".py",
   "mimetype": "text/x-python",
   "name": "python",
   "nbconvert_exporter": "python",
   "pygments_lexer": "ipython3",
   "version": "3.9.9"
  },
  "toc-showcode": false,
  "toc-showtags": false
 },
 "nbformat": 4,
 "nbformat_minor": 5
}
