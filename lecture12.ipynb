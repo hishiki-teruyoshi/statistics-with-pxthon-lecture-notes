{
 "cells": [
  {
   "cell_type": "markdown",
   "id": "1d89b963-06e9-4d46-9654-e259e369d957",
   "metadata": {},
   "source": [
    "# 第１２回　多次元データの解析　（１）相関分析・回帰分析"
   ]
  },
  {
   "cell_type": "markdown",
   "id": "40ac8f60-b217-4577-80e7-2154d1b701a5",
   "metadata": {},
   "source": [
    "今回は、次のような内容を取扱います。  \n",
    "- 相関について\n",
    "- 相関分析、相関係数\n",
    "- 回帰分析（単回帰分析、重回帰分析）\n",
    "- （補）分散分析"
   ]
  },
  {
   "cell_type": "markdown",
   "id": "2cb7b8bb-ebf1-4079-849f-a5047d08ada7",
   "metadata": {},
   "source": [
    "また、今回はとくに次のツールを使います。\n",
    "- 散布図マトリクスを描くためにmlxtendを（参考として）。\n",
    "- 散布図マトリクスを描くためにseabornを。\n",
    "- 線形回帰を行うためにstatsmodelsを。\n",
    "- 残差診断のためにlmdiagを（参考として）。"
   ]
  },
  {
   "cell_type": "markdown",
   "id": "91c042d0-eb70-4b26-98d5-a1b5fb4581b0",
   "metadata": {},
   "source": [
    "## 相関について"
   ]
  },
  {
   "cell_type": "markdown",
   "id": "04a795f1-fd93-475a-90d3-b3de4ecd5ed9",
   "metadata": {
    "tags": []
   },
   "source": [
    "### 散布図を描く"
   ]
  },
  {
   "cell_type": "markdown",
   "id": "d9ce7d75-8494-4d0c-964e-44d8567fa000",
   "metadata": {},
   "source": [
    "散布図は相関(correlation)を調べるための最初のステップとして重要です。  \n",
    "散布図を描いてみましょう。  \n",
    "ここでは、次のことをおこないます。\n",
    "- Numpy とPandasのインポート\n",
    "- データフレームとしてCSVファイルを読み込む\n",
    "- matplotlibのインライン宣言とインポート\n",
    "- mlextendを利用した散布図の描画（参考）\n",
    "- seabornによる散布図の描画"
   ]
  },
  {
   "cell_type": "markdown",
   "id": "e216fae0-9af0-4174-aae2-ccbea47cfc03",
   "metadata": {},
   "source": [
    "まず、NumPyとPandasのインポートをおこないます。今回主に使うのはPandasのほうです。"
   ]
  },
  {
   "cell_type": "code",
   "execution_count": 1,
   "id": "940d5f10-650b-47ee-9d19-c80d0f9da63a",
   "metadata": {},
   "outputs": [],
   "source": [
    "import numpy as np\n",
    "import pandas as pd"
   ]
  },
  {
   "cell_type": "markdown",
   "id": "43391eb0-7d75-4f51-a937-1a2ee20af427",
   "metadata": {},
   "source": [
    "日本統計学会編「改訂版　統計学基礎」（東京図書）の第１章で使われる家賃データをpandas.read_csv()関数を用いてCSVファイルから読み込みます。  \n",
    "東京図書のWebサイトからダウンロードしたファイルの先頭行はそれぞれの部屋の属性を表します。すなわち、駅からの近さ、家賃、間取り、広さ、部屋の向き、そして築年数です。読み込むファイルではこれらは英語に直してあります。  \n",
    "また、保存するファイルのエンコーディング形式はUTF-8 (別名で保存するときに、UTF-8 CSV形式を選びます）としました。もともとはShift-JIS形式で作られていました。"
   ]
  },
  {
   "cell_type": "code",
   "execution_count": 26,
   "id": "999bde86-af1c-4123-8567-d32cdc5ca73c",
   "metadata": {},
   "outputs": [],
   "source": [
    "df_room = pd.read_csv('room-utf8.csv')"
   ]
  },
  {
   "cell_type": "markdown",
   "id": "401d38f7-63fd-48c2-8d64-98dc53bcab9f",
   "metadata": {},
   "source": [
    "読み込むと、「**データフレーム**」ができます。第４回で説明したように、データフレームでは各列に項目名でアクセスできます。"
   ]
  },
  {
   "cell_type": "code",
   "execution_count": 4,
   "id": "22938dc7-43ed-4131-afad-93ba4d4bc507",
   "metadata": {},
   "outputs": [
    {
     "data": {
      "text/html": [
       "<div>\n",
       "<style scoped>\n",
       "    .dataframe tbody tr th:only-of-type {\n",
       "        vertical-align: middle;\n",
       "    }\n",
       "\n",
       "    .dataframe tbody tr th {\n",
       "        vertical-align: top;\n",
       "    }\n",
       "\n",
       "    .dataframe thead th {\n",
       "        text-align: right;\n",
       "    }\n",
       "</style>\n",
       "<table border=\"1\" class=\"dataframe\">\n",
       "  <thead>\n",
       "    <tr style=\"text-align: right;\">\n",
       "      <th></th>\n",
       "      <th>proximity</th>\n",
       "      <th>rent</th>\n",
       "      <th>plan</th>\n",
       "      <th>size</th>\n",
       "      <th>direction</th>\n",
       "      <th>age</th>\n",
       "    </tr>\n",
       "  </thead>\n",
       "  <tbody>\n",
       "    <tr>\n",
       "      <th>0</th>\n",
       "      <td>B</td>\n",
       "      <td>68000</td>\n",
       "      <td>1K</td>\n",
       "      <td>19</td>\n",
       "      <td>W</td>\n",
       "      <td>12</td>\n",
       "    </tr>\n",
       "    <tr>\n",
       "      <th>1</th>\n",
       "      <td>B</td>\n",
       "      <td>68000</td>\n",
       "      <td>1K</td>\n",
       "      <td>19</td>\n",
       "      <td>S</td>\n",
       "      <td>12</td>\n",
       "    </tr>\n",
       "    <tr>\n",
       "      <th>2</th>\n",
       "      <td>B</td>\n",
       "      <td>69000</td>\n",
       "      <td>1K</td>\n",
       "      <td>19</td>\n",
       "      <td>NW</td>\n",
       "      <td>14</td>\n",
       "    </tr>\n",
       "    <tr>\n",
       "      <th>3</th>\n",
       "      <td>B</td>\n",
       "      <td>70000</td>\n",
       "      <td>1K</td>\n",
       "      <td>19</td>\n",
       "      <td>S</td>\n",
       "      <td>14</td>\n",
       "    </tr>\n",
       "    <tr>\n",
       "      <th>4</th>\n",
       "      <td>B</td>\n",
       "      <td>72000</td>\n",
       "      <td>1K</td>\n",
       "      <td>15</td>\n",
       "      <td>S</td>\n",
       "      <td>9</td>\n",
       "    </tr>\n",
       "    <tr>\n",
       "      <th>...</th>\n",
       "      <td>...</td>\n",
       "      <td>...</td>\n",
       "      <td>...</td>\n",
       "      <td>...</td>\n",
       "      <td>...</td>\n",
       "      <td>...</td>\n",
       "    </tr>\n",
       "    <tr>\n",
       "      <th>135</th>\n",
       "      <td>B</td>\n",
       "      <td>145000</td>\n",
       "      <td>1DK</td>\n",
       "      <td>40</td>\n",
       "      <td>S</td>\n",
       "      <td>8</td>\n",
       "    </tr>\n",
       "    <tr>\n",
       "      <th>136</th>\n",
       "      <td>B</td>\n",
       "      <td>145000</td>\n",
       "      <td>1SLDK</td>\n",
       "      <td>54</td>\n",
       "      <td>SE</td>\n",
       "      <td>28</td>\n",
       "    </tr>\n",
       "    <tr>\n",
       "      <th>137</th>\n",
       "      <td>A</td>\n",
       "      <td>148000</td>\n",
       "      <td>1LDK</td>\n",
       "      <td>42</td>\n",
       "      <td>SE</td>\n",
       "      <td>13</td>\n",
       "    </tr>\n",
       "    <tr>\n",
       "      <th>138</th>\n",
       "      <td>A</td>\n",
       "      <td>148000</td>\n",
       "      <td>1LDK</td>\n",
       "      <td>42</td>\n",
       "      <td>S</td>\n",
       "      <td>13</td>\n",
       "    </tr>\n",
       "    <tr>\n",
       "      <th>139</th>\n",
       "      <td>B</td>\n",
       "      <td>150000</td>\n",
       "      <td>1LDK</td>\n",
       "      <td>41</td>\n",
       "      <td>SE</td>\n",
       "      <td>5</td>\n",
       "    </tr>\n",
       "  </tbody>\n",
       "</table>\n",
       "<p>140 rows × 6 columns</p>\n",
       "</div>"
      ],
      "text/plain": [
       "    proximity    rent   plan  size direction  age\n",
       "0           B   68000     1K    19         W   12\n",
       "1           B   68000     1K    19         S   12\n",
       "2           B   69000     1K    19        NW   14\n",
       "3           B   70000     1K    19         S   14\n",
       "4           B   72000     1K    15         S    9\n",
       "..        ...     ...    ...   ...       ...  ...\n",
       "135         B  145000    1DK    40         S    8\n",
       "136         B  145000  1SLDK    54        SE   28\n",
       "137         A  148000   1LDK    42        SE   13\n",
       "138         A  148000   1LDK    42         S   13\n",
       "139         B  150000   1LDK    41        SE    5\n",
       "\n",
       "[140 rows x 6 columns]"
      ]
     },
     "execution_count": 4,
     "metadata": {},
     "output_type": "execute_result"
    }
   ],
   "source": [
    "df_room"
   ]
  },
  {
   "cell_type": "markdown",
   "id": "241735f6-0cc8-4de3-bf0b-6c1eec6310c0",
   "metadata": {},
   "source": [
    "ここで、proximityの'A'は駅から7分まで、'B'は8分から15分までを表します。"
   ]
  },
  {
   "cell_type": "markdown",
   "id": "dedfffec-11a0-4e0a-a1a0-d1bd8892bd50",
   "metadata": {},
   "source": [
    "どのような変数があるか、表示します。"
   ]
  },
  {
   "cell_type": "code",
   "execution_count": 36,
   "id": "56bd9dfa-8ab3-41bc-846e-90b76cb42a47",
   "metadata": {},
   "outputs": [
    {
     "data": {
      "text/plain": [
       "Index(['proximity', 'rent', 'plan', 'size', 'direction', 'age'], dtype='object')"
      ]
     },
     "execution_count": 36,
     "metadata": {},
     "output_type": "execute_result"
    }
   ],
   "source": [
    "df_room.columns"
   ]
  },
  {
   "cell_type": "markdown",
   "id": "59f9d604-87be-4a2c-b934-678b22dedf51",
   "metadata": {},
   "source": [
    "データセットの概要を表示します。"
   ]
  },
  {
   "cell_type": "code",
   "execution_count": 51,
   "id": "8706211c-2c0f-44ca-a823-d7e67b599e76",
   "metadata": {},
   "outputs": [
    {
     "name": "stdout",
     "output_type": "stream",
     "text": [
      "<class 'pandas.core.frame.DataFrame'>\n",
      "RangeIndex: 140 entries, 0 to 139\n",
      "Data columns (total 6 columns):\n",
      " #   Column     Non-Null Count  Dtype \n",
      "---  ------     --------------  ----- \n",
      " 0   proximity  140 non-null    object\n",
      " 1   rent       140 non-null    int64 \n",
      " 2   plan       140 non-null    object\n",
      " 3   size       140 non-null    int64 \n",
      " 4   direction  140 non-null    object\n",
      " 5   age        140 non-null    int64 \n",
      "dtypes: int64(3), object(3)\n",
      "memory usage: 6.7+ KB\n"
     ]
    }
   ],
   "source": [
    "df_room.info()"
   ]
  },
  {
   "cell_type": "markdown",
   "id": "f0cc9616-9bd5-49dc-a4a1-611d95196ed4",
   "metadata": {},
   "source": [
    "先頭の10行を表示します。"
   ]
  },
  {
   "cell_type": "code",
   "execution_count": 4,
   "id": "b0c5abe3-9790-4a2d-871d-eb3a4a7c8f24",
   "metadata": {},
   "outputs": [
    {
     "data": {
      "text/html": [
       "<div>\n",
       "<style scoped>\n",
       "    .dataframe tbody tr th:only-of-type {\n",
       "        vertical-align: middle;\n",
       "    }\n",
       "\n",
       "    .dataframe tbody tr th {\n",
       "        vertical-align: top;\n",
       "    }\n",
       "\n",
       "    .dataframe thead th {\n",
       "        text-align: right;\n",
       "    }\n",
       "</style>\n",
       "<table border=\"1\" class=\"dataframe\">\n",
       "  <thead>\n",
       "    <tr style=\"text-align: right;\">\n",
       "      <th></th>\n",
       "      <th>proximity</th>\n",
       "      <th>rent</th>\n",
       "      <th>plan</th>\n",
       "      <th>size</th>\n",
       "      <th>direction</th>\n",
       "      <th>age</th>\n",
       "    </tr>\n",
       "  </thead>\n",
       "  <tbody>\n",
       "    <tr>\n",
       "      <th>0</th>\n",
       "      <td>B</td>\n",
       "      <td>68000</td>\n",
       "      <td>1K</td>\n",
       "      <td>19</td>\n",
       "      <td>W</td>\n",
       "      <td>12</td>\n",
       "    </tr>\n",
       "    <tr>\n",
       "      <th>1</th>\n",
       "      <td>B</td>\n",
       "      <td>68000</td>\n",
       "      <td>1K</td>\n",
       "      <td>19</td>\n",
       "      <td>S</td>\n",
       "      <td>12</td>\n",
       "    </tr>\n",
       "    <tr>\n",
       "      <th>2</th>\n",
       "      <td>B</td>\n",
       "      <td>69000</td>\n",
       "      <td>1K</td>\n",
       "      <td>19</td>\n",
       "      <td>NW</td>\n",
       "      <td>14</td>\n",
       "    </tr>\n",
       "    <tr>\n",
       "      <th>3</th>\n",
       "      <td>B</td>\n",
       "      <td>70000</td>\n",
       "      <td>1K</td>\n",
       "      <td>19</td>\n",
       "      <td>S</td>\n",
       "      <td>14</td>\n",
       "    </tr>\n",
       "    <tr>\n",
       "      <th>4</th>\n",
       "      <td>B</td>\n",
       "      <td>72000</td>\n",
       "      <td>1K</td>\n",
       "      <td>15</td>\n",
       "      <td>S</td>\n",
       "      <td>9</td>\n",
       "    </tr>\n",
       "    <tr>\n",
       "      <th>5</th>\n",
       "      <td>B</td>\n",
       "      <td>77000</td>\n",
       "      <td>1K</td>\n",
       "      <td>20</td>\n",
       "      <td>S</td>\n",
       "      <td>14</td>\n",
       "    </tr>\n",
       "    <tr>\n",
       "      <th>6</th>\n",
       "      <td>B</td>\n",
       "      <td>77000</td>\n",
       "      <td>1K</td>\n",
       "      <td>20</td>\n",
       "      <td>W</td>\n",
       "      <td>14</td>\n",
       "    </tr>\n",
       "    <tr>\n",
       "      <th>7</th>\n",
       "      <td>A</td>\n",
       "      <td>78000</td>\n",
       "      <td>1K</td>\n",
       "      <td>21</td>\n",
       "      <td>E</td>\n",
       "      <td>15</td>\n",
       "    </tr>\n",
       "    <tr>\n",
       "      <th>8</th>\n",
       "      <td>B</td>\n",
       "      <td>79000</td>\n",
       "      <td>1K</td>\n",
       "      <td>22</td>\n",
       "      <td>S</td>\n",
       "      <td>10</td>\n",
       "    </tr>\n",
       "    <tr>\n",
       "      <th>9</th>\n",
       "      <td>B</td>\n",
       "      <td>79000</td>\n",
       "      <td>1K</td>\n",
       "      <td>22</td>\n",
       "      <td>S</td>\n",
       "      <td>10</td>\n",
       "    </tr>\n",
       "  </tbody>\n",
       "</table>\n",
       "</div>"
      ],
      "text/plain": [
       "  proximity   rent plan  size direction  age\n",
       "0         B  68000   1K    19         W   12\n",
       "1         B  68000   1K    19         S   12\n",
       "2         B  69000   1K    19        NW   14\n",
       "3         B  70000   1K    19         S   14\n",
       "4         B  72000   1K    15         S    9\n",
       "5         B  77000   1K    20         S   14\n",
       "6         B  77000   1K    20         W   14\n",
       "7         A  78000   1K    21         E   15\n",
       "8         B  79000   1K    22         S   10\n",
       "9         B  79000   1K    22         S   10"
      ]
     },
     "execution_count": 4,
     "metadata": {},
     "output_type": "execute_result"
    }
   ],
   "source": [
    "df_room.head(10)"
   ]
  },
  {
   "cell_type": "markdown",
   "id": "cea2d52e-245d-415a-ac62-6b715e1d084d",
   "metadata": {},
   "source": [
    "11行目から20行目までを表示しましょう。11行目のインデックス（添字）は10, 20行目は19になります。終わりよりも１多い数を終点に指定します。"
   ]
  },
  {
   "cell_type": "code",
   "execution_count": 5,
   "id": "7cc4c402-e3a0-4330-bcc5-55ab534e536e",
   "metadata": {},
   "outputs": [
    {
     "data": {
      "text/html": [
       "<div>\n",
       "<style scoped>\n",
       "    .dataframe tbody tr th:only-of-type {\n",
       "        vertical-align: middle;\n",
       "    }\n",
       "\n",
       "    .dataframe tbody tr th {\n",
       "        vertical-align: top;\n",
       "    }\n",
       "\n",
       "    .dataframe thead th {\n",
       "        text-align: right;\n",
       "    }\n",
       "</style>\n",
       "<table border=\"1\" class=\"dataframe\">\n",
       "  <thead>\n",
       "    <tr style=\"text-align: right;\">\n",
       "      <th></th>\n",
       "      <th>proximity</th>\n",
       "      <th>rent</th>\n",
       "      <th>plan</th>\n",
       "      <th>size</th>\n",
       "      <th>direction</th>\n",
       "      <th>age</th>\n",
       "    </tr>\n",
       "  </thead>\n",
       "  <tbody>\n",
       "    <tr>\n",
       "      <th>10</th>\n",
       "      <td>B</td>\n",
       "      <td>79000</td>\n",
       "      <td>1K</td>\n",
       "      <td>20</td>\n",
       "      <td>SE</td>\n",
       "      <td>9</td>\n",
       "    </tr>\n",
       "    <tr>\n",
       "      <th>11</th>\n",
       "      <td>A</td>\n",
       "      <td>80000</td>\n",
       "      <td>1K</td>\n",
       "      <td>20</td>\n",
       "      <td>NW</td>\n",
       "      <td>10</td>\n",
       "    </tr>\n",
       "    <tr>\n",
       "      <th>12</th>\n",
       "      <td>A</td>\n",
       "      <td>80000</td>\n",
       "      <td>1K</td>\n",
       "      <td>21</td>\n",
       "      <td>E</td>\n",
       "      <td>15</td>\n",
       "    </tr>\n",
       "    <tr>\n",
       "      <th>13</th>\n",
       "      <td>B</td>\n",
       "      <td>80000</td>\n",
       "      <td>1K</td>\n",
       "      <td>22</td>\n",
       "      <td>E</td>\n",
       "      <td>14</td>\n",
       "    </tr>\n",
       "    <tr>\n",
       "      <th>14</th>\n",
       "      <td>B</td>\n",
       "      <td>81000</td>\n",
       "      <td>1K</td>\n",
       "      <td>22</td>\n",
       "      <td>S</td>\n",
       "      <td>10</td>\n",
       "    </tr>\n",
       "    <tr>\n",
       "      <th>15</th>\n",
       "      <td>A</td>\n",
       "      <td>82000</td>\n",
       "      <td>1K</td>\n",
       "      <td>22</td>\n",
       "      <td>S</td>\n",
       "      <td>11</td>\n",
       "    </tr>\n",
       "    <tr>\n",
       "      <th>16</th>\n",
       "      <td>A</td>\n",
       "      <td>82000</td>\n",
       "      <td>1K</td>\n",
       "      <td>21</td>\n",
       "      <td>E</td>\n",
       "      <td>15</td>\n",
       "    </tr>\n",
       "    <tr>\n",
       "      <th>17</th>\n",
       "      <td>B</td>\n",
       "      <td>82000</td>\n",
       "      <td>1K</td>\n",
       "      <td>20</td>\n",
       "      <td>SE</td>\n",
       "      <td>9</td>\n",
       "    </tr>\n",
       "    <tr>\n",
       "      <th>18</th>\n",
       "      <td>A</td>\n",
       "      <td>83000</td>\n",
       "      <td>1K</td>\n",
       "      <td>22</td>\n",
       "      <td>S</td>\n",
       "      <td>13</td>\n",
       "    </tr>\n",
       "    <tr>\n",
       "      <th>19</th>\n",
       "      <td>A</td>\n",
       "      <td>83000</td>\n",
       "      <td>1K</td>\n",
       "      <td>21</td>\n",
       "      <td>W</td>\n",
       "      <td>11</td>\n",
       "    </tr>\n",
       "  </tbody>\n",
       "</table>\n",
       "</div>"
      ],
      "text/plain": [
       "   proximity   rent plan  size direction  age\n",
       "10         B  79000   1K    20        SE    9\n",
       "11         A  80000   1K    20        NW   10\n",
       "12         A  80000   1K    21         E   15\n",
       "13         B  80000   1K    22         E   14\n",
       "14         B  81000   1K    22         S   10\n",
       "15         A  82000   1K    22         S   11\n",
       "16         A  82000   1K    21         E   15\n",
       "17         B  82000   1K    20        SE    9\n",
       "18         A  83000   1K    22         S   13\n",
       "19         A  83000   1K    21         W   11"
      ]
     },
     "execution_count": 5,
     "metadata": {},
     "output_type": "execute_result"
    }
   ],
   "source": [
    "df_room[10:20]"
   ]
  },
  {
   "cell_type": "markdown",
   "id": "ee3c0220-ba91-4de1-aabe-9d7eb3b4e969",
   "metadata": {},
   "source": [
    "散布図を書くために、matplotlibの準備をします。"
   ]
  },
  {
   "cell_type": "code",
   "execution_count": 2,
   "id": "94c2a1fc-db1e-4a46-a81a-a6d37e54a7dd",
   "metadata": {},
   "outputs": [],
   "source": [
    "%matplotlib inline\n",
    "import matplotlib.pyplot as plt"
   ]
  },
  {
   "cell_type": "markdown",
   "id": "f85214bc-77da-4b9e-b18a-04919e8c9b56",
   "metadata": {},
   "source": [
    "散布図行列をプロットするために、まず、**mlxtend**を使ってみます。"
   ]
  },
  {
   "cell_type": "code",
   "execution_count": 8,
   "id": "64c4cb96-4e32-43f1-b0da-f05b9877da30",
   "metadata": {},
   "outputs": [
    {
     "ename": "ModuleNotFoundError",
     "evalue": "No module named 'mlxtend'",
     "output_type": "error",
     "traceback": [
      "\u001b[1;31m---------------------------------------------------------------------------\u001b[0m",
      "\u001b[1;31mModuleNotFoundError\u001b[0m                       Traceback (most recent call last)",
      "\u001b[1;32m~\\AppData\\Local\\Temp/ipykernel_10120/3487681511.py\u001b[0m in \u001b[0;36m<module>\u001b[1;34m\u001b[0m\n\u001b[1;32m----> 1\u001b[1;33m \u001b[1;32mfrom\u001b[0m \u001b[0mmlxtend\u001b[0m\u001b[1;33m.\u001b[0m\u001b[0mplotting\u001b[0m \u001b[1;32mimport\u001b[0m \u001b[0mscatterplotmatrix\u001b[0m\u001b[1;33m\u001b[0m\u001b[1;33m\u001b[0m\u001b[0m\n\u001b[0m",
      "\u001b[1;31mModuleNotFoundError\u001b[0m: No module named 'mlxtend'"
     ]
    }
   ],
   "source": [
    "from mlxtend.plotting import scatterplotmatrix"
   ]
  },
  {
   "cell_type": "markdown",
   "id": "dc146acf-fffb-4703-8fd6-ba85a4e1eb57",
   "metadata": {},
   "source": [
    "pip installでインストールします。**注意：今回は散布図マトリクスを描くためにseabornを使いますのでmlxtendをインストールしなくて結構です。**"
   ]
  },
  {
   "cell_type": "code",
   "execution_count": 7,
   "id": "68005c83-853e-4802-ae57-62cb8cb6839a",
   "metadata": {},
   "outputs": [
    {
     "name": "stdout",
     "output_type": "stream",
     "text": [
      "Requirement already satisfied: mlxtend in e:\\pythonusb\\pythonusb\\python\\python-3.9.9\\lib\\site-packages (0.19.0)\n",
      "Requirement already satisfied: pandas>=0.24.2 in e:\\pythonusb\\pythonusb\\python\\python-3.9.9\\lib\\site-packages (from mlxtend) (1.4.2)\n",
      "Requirement already satisfied: joblib>=0.13.2 in e:\\pythonusb\\pythonusb\\python\\python-3.9.9\\lib\\site-packages (from mlxtend) (1.1.0)\n",
      "Requirement already satisfied: matplotlib>=3.0.0 in e:\\pythonusb\\pythonusb\\python\\python-3.9.9\\lib\\site-packages (from mlxtend) (3.5.0)\n",
      "Requirement already satisfied: scikit-learn>=0.20.3 in e:\\pythonusb\\pythonusb\\python\\python-3.9.9\\lib\\site-packages (from mlxtend) (1.1.1)\n",
      "Requirement already satisfied: setuptools in e:\\pythonusb\\pythonusb\\python\\python-3.9.9\\lib\\site-packages (from mlxtend) (59.2.0)\n",
      "Requirement already satisfied: scipy>=1.2.1 in e:\\pythonusb\\pythonusb\\python\\python-3.9.9\\lib\\site-packages (from mlxtend) (1.7.3)\n",
      "Requirement already satisfied: numpy>=1.16.2 in e:\\pythonusb\\pythonusb\\python\\python-3.9.9\\lib\\site-packages (from mlxtend) (1.21.4)\n",
      "Requirement already satisfied: pyparsing>=2.2.1 in e:\\pythonusb\\pythonusb\\python\\python-3.9.9\\lib\\site-packages (from matplotlib>=3.0.0->mlxtend) (3.0.6)\n",
      "Requirement already satisfied: pillow>=6.2.0 in e:\\pythonusb\\pythonusb\\python\\python-3.9.9\\lib\\site-packages (from matplotlib>=3.0.0->mlxtend) (8.4.0)\n",
      "Requirement already satisfied: cycler>=0.10 in e:\\pythonusb\\pythonusb\\python\\python-3.9.9\\lib\\site-packages (from matplotlib>=3.0.0->mlxtend) (0.11.0)\n",
      "Requirement already satisfied: python-dateutil>=2.7 in e:\\pythonusb\\pythonusb\\python\\python-3.9.9\\lib\\site-packages (from matplotlib>=3.0.0->mlxtend) (2.8.2)\n",
      "Requirement already satisfied: setuptools-scm>=4 in e:\\pythonusb\\pythonusb\\python\\python-3.9.9\\lib\\site-packages (from matplotlib>=3.0.0->mlxtend) (6.3.2)\n",
      "Requirement already satisfied: fonttools>=4.22.0 in e:\\pythonusb\\pythonusb\\python\\python-3.9.9\\lib\\site-packages (from matplotlib>=3.0.0->mlxtend) (4.28.2)\n",
      "Requirement already satisfied: packaging>=20.0 in e:\\pythonusb\\pythonusb\\python\\python-3.9.9\\lib\\site-packages (from matplotlib>=3.0.0->mlxtend) (21.3)\n",
      "Requirement already satisfied: kiwisolver>=1.0.1 in e:\\pythonusb\\pythonusb\\python\\python-3.9.9\\lib\\site-packages (from matplotlib>=3.0.0->mlxtend) (1.3.2)\n",
      "Requirement already satisfied: pytz>=2020.1 in e:\\pythonusb\\pythonusb\\python\\python-3.9.9\\lib\\site-packages (from pandas>=0.24.2->mlxtend) (2021.3)\n",
      "Requirement already satisfied: threadpoolctl>=2.0.0 in e:\\pythonusb\\pythonusb\\python\\python-3.9.9\\lib\\site-packages (from scikit-learn>=0.20.3->mlxtend) (3.1.0)\n",
      "Requirement already satisfied: six>=1.5 in e:\\pythonusb\\pythonusb\\python\\python-3.9.9\\lib\\site-packages (from python-dateutil>=2.7->matplotlib>=3.0.0->mlxtend) (1.16.0)\n",
      "Requirement already satisfied: tomli>=1.0.0 in e:\\pythonusb\\pythonusb\\python\\python-3.9.9\\lib\\site-packages (from setuptools-scm>=4->matplotlib>=3.0.0->mlxtend) (1.2.2)\n",
      "Note: you may need to restart the kernel to use updated packages.\n"
     ]
    },
    {
     "name": "stderr",
     "output_type": "stream",
     "text": [
      "WARNING: You are using pip version 22.0.4; however, version 22.1 is available.\n",
      "You should consider upgrading via the 'E:\\PythonUSB\\PythonUSB\\Python\\python-3.9.9\\pythonw.exe -m pip install --upgrade pip' command.\n"
     ]
    }
   ],
   "source": [
    "pip install mlxtend"
   ]
  },
  {
   "cell_type": "markdown",
   "id": "9e3b6ae8-a3c6-4fd5-9c47-8612600d6b01",
   "metadata": {},
   "source": [
    "Mlxtendの情報を、pip show コマンドで見ます。"
   ]
  },
  {
   "cell_type": "code",
   "execution_count": 7,
   "id": "be151e43-e34b-4c65-ad00-4228259fbc47",
   "metadata": {},
   "outputs": [
    {
     "name": "stdout",
     "output_type": "stream",
     "text": [
      "Name: mlxtend\n",
      "Version: 0.19.0\n",
      "Summary: Machine Learning Library Extensions\n",
      "Home-page: https://github.com/rasbt/mlxtend\n",
      "Author: Sebastian Raschka\n",
      "Author-email: mail@sebastianraschka.com\n",
      "License: BSD 3-Clause\n",
      "Location: e:\\pythonusb\\pythonusb\\python\\python-3.9.9\\lib\\site-packages\n",
      "Requires: joblib, matplotlib, numpy, pandas, scikit-learn, scipy, setuptools\n",
      "Required-by: \n",
      "Note: you may need to restart the kernel to use updated packages.\n"
     ]
    }
   ],
   "source": [
    "pip show mlxtend"
   ]
  },
  {
   "cell_type": "markdown",
   "id": "239ba1a4-3a87-4a15-b25c-1c37c4efe51b",
   "metadata": {},
   "source": [
    "再度、mlxtend.plotting.scatterplotmatrixをインポートします。"
   ]
  },
  {
   "cell_type": "code",
   "execution_count": 8,
   "id": "3bba2b48-6bf6-4876-b781-8cc25db35267",
   "metadata": {},
   "outputs": [],
   "source": [
    "from mlxtend.plotting import scatterplotmatrix"
   ]
  },
  {
   "cell_type": "markdown",
   "id": "78a462f8-6cf1-487e-b416-dd7c14400bc5",
   "metadata": {},
   "source": [
    "散布図マトリクス（scatterplot matrix）を描きます。テキトーに使うと下のようにエラーが生じます。"
   ]
  },
  {
   "cell_type": "code",
   "execution_count": 10,
   "id": "dbbc8b31-f4c4-421a-919b-41e7d8ac6cc6",
   "metadata": {},
   "outputs": [
    {
     "ename": "InvalidIndexError",
     "evalue": "(slice(None, None, None), 1)",
     "output_type": "error",
     "traceback": [
      "\u001b[1;31m---------------------------------------------------------------------------\u001b[0m",
      "\u001b[1;31mTypeError\u001b[0m                                 Traceback (most recent call last)",
      "\u001b[1;32mE:\\PythonUSB\\PythonUSB\\Python\\python-3.9.9\\lib\\site-packages\\pandas\\core\\indexes\\base.py\u001b[0m in \u001b[0;36mget_loc\u001b[1;34m(self, key, method, tolerance)\u001b[0m\n\u001b[0;32m   3620\u001b[0m             \u001b[1;32mtry\u001b[0m\u001b[1;33m:\u001b[0m\u001b[1;33m\u001b[0m\u001b[1;33m\u001b[0m\u001b[0m\n\u001b[1;32m-> 3621\u001b[1;33m                 \u001b[1;32mreturn\u001b[0m \u001b[0mself\u001b[0m\u001b[1;33m.\u001b[0m\u001b[0m_engine\u001b[0m\u001b[1;33m.\u001b[0m\u001b[0mget_loc\u001b[0m\u001b[1;33m(\u001b[0m\u001b[0mcasted_key\u001b[0m\u001b[1;33m)\u001b[0m\u001b[1;33m\u001b[0m\u001b[1;33m\u001b[0m\u001b[0m\n\u001b[0m\u001b[0;32m   3622\u001b[0m             \u001b[1;32mexcept\u001b[0m \u001b[0mKeyError\u001b[0m \u001b[1;32mas\u001b[0m \u001b[0merr\u001b[0m\u001b[1;33m:\u001b[0m\u001b[1;33m\u001b[0m\u001b[1;33m\u001b[0m\u001b[0m\n",
      "\u001b[1;32mE:\\PythonUSB\\PythonUSB\\Python\\python-3.9.9\\lib\\site-packages\\pandas\\_libs\\index.pyx\u001b[0m in \u001b[0;36mpandas._libs.index.IndexEngine.get_loc\u001b[1;34m()\u001b[0m\n",
      "\u001b[1;32mE:\\PythonUSB\\PythonUSB\\Python\\python-3.9.9\\lib\\site-packages\\pandas\\_libs\\index.pyx\u001b[0m in \u001b[0;36mpandas._libs.index.IndexEngine.get_loc\u001b[1;34m()\u001b[0m\n",
      "\u001b[1;31mTypeError\u001b[0m: '(slice(None, None, None), 1)' is an invalid key",
      "\nDuring handling of the above exception, another exception occurred:\n",
      "\u001b[1;31mInvalidIndexError\u001b[0m                         Traceback (most recent call last)",
      "\u001b[1;32m~\\AppData\\Local\\Temp/ipykernel_15172/3459118802.py\u001b[0m in \u001b[0;36m<module>\u001b[1;34m\u001b[0m\n\u001b[1;32m----> 1\u001b[1;33m \u001b[0mscatterplotmatrix\u001b[0m\u001b[1;33m(\u001b[0m\u001b[0mdf_room\u001b[0m\u001b[1;33m,\u001b[0m \u001b[0mfigsize\u001b[0m\u001b[1;33m=\u001b[0m\u001b[1;33m(\u001b[0m\u001b[1;36m10\u001b[0m\u001b[1;33m,\u001b[0m \u001b[1;36m8\u001b[0m\u001b[1;33m)\u001b[0m\u001b[1;33m)\u001b[0m\u001b[1;33m\u001b[0m\u001b[1;33m\u001b[0m\u001b[0m\n\u001b[0m",
      "\u001b[1;32mE:\\PythonUSB\\PythonUSB\\Python\\python-3.9.9\\lib\\site-packages\\mlxtend\\plotting\\scatterplotmatrix.py\u001b[0m in \u001b[0;36mscatterplotmatrix\u001b[1;34m(X, fig_axes, names, figsize, alpha, **kwargs)\u001b[0m\n\u001b[0;32m     72\u001b[0m \u001b[1;33m\u001b[0m\u001b[0m\n\u001b[0;32m     73\u001b[0m     \u001b[1;32mfor\u001b[0m \u001b[0mi\u001b[0m\u001b[1;33m,\u001b[0m \u001b[0mj\u001b[0m \u001b[1;32min\u001b[0m \u001b[0mzip\u001b[0m\u001b[1;33m(\u001b[0m\u001b[1;33m*\u001b[0m\u001b[0mnp\u001b[0m\u001b[1;33m.\u001b[0m\u001b[0mtriu_indices_from\u001b[0m\u001b[1;33m(\u001b[0m\u001b[0maxes\u001b[0m\u001b[1;33m,\u001b[0m \u001b[0mk\u001b[0m\u001b[1;33m=\u001b[0m\u001b[1;36m1\u001b[0m\u001b[1;33m)\u001b[0m\u001b[1;33m)\u001b[0m\u001b[1;33m:\u001b[0m\u001b[1;33m\u001b[0m\u001b[1;33m\u001b[0m\u001b[0m\n\u001b[1;32m---> 74\u001b[1;33m         \u001b[0maxes\u001b[0m\u001b[1;33m[\u001b[0m\u001b[0mj\u001b[0m\u001b[1;33m,\u001b[0m \u001b[0mi\u001b[0m\u001b[1;33m]\u001b[0m\u001b[1;33m.\u001b[0m\u001b[0mscatter\u001b[0m\u001b[1;33m(\u001b[0m\u001b[0mX\u001b[0m\u001b[1;33m[\u001b[0m\u001b[1;33m:\u001b[0m\u001b[1;33m,\u001b[0m \u001b[0mj\u001b[0m\u001b[1;33m]\u001b[0m\u001b[1;33m,\u001b[0m \u001b[0mX\u001b[0m\u001b[1;33m[\u001b[0m\u001b[1;33m:\u001b[0m\u001b[1;33m,\u001b[0m \u001b[0mi\u001b[0m\u001b[1;33m]\u001b[0m\u001b[1;33m,\u001b[0m \u001b[0malpha\u001b[0m\u001b[1;33m=\u001b[0m\u001b[0malpha\u001b[0m\u001b[1;33m,\u001b[0m \u001b[1;33m**\u001b[0m\u001b[0mkwargs\u001b[0m\u001b[1;33m)\u001b[0m\u001b[1;33m\u001b[0m\u001b[1;33m\u001b[0m\u001b[0m\n\u001b[0m\u001b[0;32m     75\u001b[0m         \u001b[0maxes\u001b[0m\u001b[1;33m[\u001b[0m\u001b[0mj\u001b[0m\u001b[1;33m,\u001b[0m \u001b[0mi\u001b[0m\u001b[1;33m]\u001b[0m\u001b[1;33m.\u001b[0m\u001b[0mset_xlabel\u001b[0m\u001b[1;33m(\u001b[0m\u001b[0mnames\u001b[0m\u001b[1;33m[\u001b[0m\u001b[0mj\u001b[0m\u001b[1;33m]\u001b[0m\u001b[1;33m)\u001b[0m\u001b[1;33m\u001b[0m\u001b[1;33m\u001b[0m\u001b[0m\n\u001b[0;32m     76\u001b[0m         \u001b[0maxes\u001b[0m\u001b[1;33m[\u001b[0m\u001b[0mj\u001b[0m\u001b[1;33m,\u001b[0m \u001b[0mi\u001b[0m\u001b[1;33m]\u001b[0m\u001b[1;33m.\u001b[0m\u001b[0mset_ylabel\u001b[0m\u001b[1;33m(\u001b[0m\u001b[0mnames\u001b[0m\u001b[1;33m[\u001b[0m\u001b[0mi\u001b[0m\u001b[1;33m]\u001b[0m\u001b[1;33m)\u001b[0m\u001b[1;33m\u001b[0m\u001b[1;33m\u001b[0m\u001b[0m\n",
      "\u001b[1;32mE:\\PythonUSB\\PythonUSB\\Python\\python-3.9.9\\lib\\site-packages\\pandas\\core\\frame.py\u001b[0m in \u001b[0;36m__getitem__\u001b[1;34m(self, key)\u001b[0m\n\u001b[0;32m   3503\u001b[0m             \u001b[1;32mif\u001b[0m \u001b[0mself\u001b[0m\u001b[1;33m.\u001b[0m\u001b[0mcolumns\u001b[0m\u001b[1;33m.\u001b[0m\u001b[0mnlevels\u001b[0m \u001b[1;33m>\u001b[0m \u001b[1;36m1\u001b[0m\u001b[1;33m:\u001b[0m\u001b[1;33m\u001b[0m\u001b[1;33m\u001b[0m\u001b[0m\n\u001b[0;32m   3504\u001b[0m                 \u001b[1;32mreturn\u001b[0m \u001b[0mself\u001b[0m\u001b[1;33m.\u001b[0m\u001b[0m_getitem_multilevel\u001b[0m\u001b[1;33m(\u001b[0m\u001b[0mkey\u001b[0m\u001b[1;33m)\u001b[0m\u001b[1;33m\u001b[0m\u001b[1;33m\u001b[0m\u001b[0m\n\u001b[1;32m-> 3505\u001b[1;33m             \u001b[0mindexer\u001b[0m \u001b[1;33m=\u001b[0m \u001b[0mself\u001b[0m\u001b[1;33m.\u001b[0m\u001b[0mcolumns\u001b[0m\u001b[1;33m.\u001b[0m\u001b[0mget_loc\u001b[0m\u001b[1;33m(\u001b[0m\u001b[0mkey\u001b[0m\u001b[1;33m)\u001b[0m\u001b[1;33m\u001b[0m\u001b[1;33m\u001b[0m\u001b[0m\n\u001b[0m\u001b[0;32m   3506\u001b[0m             \u001b[1;32mif\u001b[0m \u001b[0mis_integer\u001b[0m\u001b[1;33m(\u001b[0m\u001b[0mindexer\u001b[0m\u001b[1;33m)\u001b[0m\u001b[1;33m:\u001b[0m\u001b[1;33m\u001b[0m\u001b[1;33m\u001b[0m\u001b[0m\n\u001b[0;32m   3507\u001b[0m                 \u001b[0mindexer\u001b[0m \u001b[1;33m=\u001b[0m \u001b[1;33m[\u001b[0m\u001b[0mindexer\u001b[0m\u001b[1;33m]\u001b[0m\u001b[1;33m\u001b[0m\u001b[1;33m\u001b[0m\u001b[0m\n",
      "\u001b[1;32mE:\\PythonUSB\\PythonUSB\\Python\\python-3.9.9\\lib\\site-packages\\pandas\\core\\indexes\\base.py\u001b[0m in \u001b[0;36mget_loc\u001b[1;34m(self, key, method, tolerance)\u001b[0m\n\u001b[0;32m   3626\u001b[0m                 \u001b[1;31m#  InvalidIndexError. Otherwise we fall through and re-raise\u001b[0m\u001b[1;33m\u001b[0m\u001b[1;33m\u001b[0m\u001b[0m\n\u001b[0;32m   3627\u001b[0m                 \u001b[1;31m#  the TypeError.\u001b[0m\u001b[1;33m\u001b[0m\u001b[1;33m\u001b[0m\u001b[0m\n\u001b[1;32m-> 3628\u001b[1;33m                 \u001b[0mself\u001b[0m\u001b[1;33m.\u001b[0m\u001b[0m_check_indexing_error\u001b[0m\u001b[1;33m(\u001b[0m\u001b[0mkey\u001b[0m\u001b[1;33m)\u001b[0m\u001b[1;33m\u001b[0m\u001b[1;33m\u001b[0m\u001b[0m\n\u001b[0m\u001b[0;32m   3629\u001b[0m                 \u001b[1;32mraise\u001b[0m\u001b[1;33m\u001b[0m\u001b[1;33m\u001b[0m\u001b[0m\n\u001b[0;32m   3630\u001b[0m \u001b[1;33m\u001b[0m\u001b[0m\n",
      "\u001b[1;32mE:\\PythonUSB\\PythonUSB\\Python\\python-3.9.9\\lib\\site-packages\\pandas\\core\\indexes\\base.py\u001b[0m in \u001b[0;36m_check_indexing_error\u001b[1;34m(self, key)\u001b[0m\n\u001b[0;32m   5635\u001b[0m             \u001b[1;31m# if key is not a scalar, directly raise an error (the code below\u001b[0m\u001b[1;33m\u001b[0m\u001b[1;33m\u001b[0m\u001b[0m\n\u001b[0;32m   5636\u001b[0m             \u001b[1;31m# would convert to numpy arrays and raise later any way) - GH29926\u001b[0m\u001b[1;33m\u001b[0m\u001b[1;33m\u001b[0m\u001b[0m\n\u001b[1;32m-> 5637\u001b[1;33m             \u001b[1;32mraise\u001b[0m \u001b[0mInvalidIndexError\u001b[0m\u001b[1;33m(\u001b[0m\u001b[0mkey\u001b[0m\u001b[1;33m)\u001b[0m\u001b[1;33m\u001b[0m\u001b[1;33m\u001b[0m\u001b[0m\n\u001b[0m\u001b[0;32m   5638\u001b[0m \u001b[1;33m\u001b[0m\u001b[0m\n\u001b[0;32m   5639\u001b[0m     \u001b[1;33m@\u001b[0m\u001b[0mcache_readonly\u001b[0m\u001b[1;33m\u001b[0m\u001b[1;33m\u001b[0m\u001b[0m\n",
      "\u001b[1;31mInvalidIndexError\u001b[0m: (slice(None, None, None), 1)"
     ]
    },
    {
     "data": {
      "image/png": "[encoded data removed]",
      "text/plain": [
       "<Figure size 720x576 with 36 Axes>"
      ]
     },
     "metadata": {
      "needs_background": "light"
     },
     "output_type": "display_data"
    }
   ],
   "source": [
    "scatterplotmatrix(df_room, figsize=(10, 8))"
   ]
  },
  {
   "cell_type": "markdown",
   "id": "55f06b4c-af7c-4684-97e2-8ab6c156c987",
   "metadata": {},
   "source": [
    "スカラーだけ使えとのことですので、スカラーのカラムだけ取り出します。"
   ]
  },
  {
   "cell_type": "code",
   "execution_count": 13,
   "id": "882bd584-44f5-4fea-b018-bf9fd9520112",
   "metadata": {},
   "outputs": [],
   "source": [
    "cols = ['rent','size','age']\n",
    "X = df_room[cols]"
   ]
  },
  {
   "cell_type": "markdown",
   "id": "75e6608f-af40-462f-b361-71b8dacc667b",
   "metadata": {},
   "source": [
    "これらの列どうしの散布図マトリクスを描きます。values属性で値だけ取り出さないと描けないことに注意しましょう。"
   ]
  },
  {
   "cell_type": "code",
   "execution_count": 23,
   "id": "950addaf-1ba0-496e-a1e6-521a111bb208",
   "metadata": {},
   "outputs": [
    {
     "data": {
      "text/plain": [
       "(<Figure size 576x576 with 9 Axes>,\n",
       " array([[<AxesSubplot:xlabel='X1', ylabel='Count'>, <AxesSubplot:>,\n",
       "         <AxesSubplot:>],\n",
       "        [<AxesSubplot:xlabel='X2', ylabel='X1'>,\n",
       "         <AxesSubplot:xlabel='X2', ylabel='Count'>, <AxesSubplot:>],\n",
       "        [<AxesSubplot:xlabel='X3', ylabel='X1'>,\n",
       "         <AxesSubplot:xlabel='X3', ylabel='X2'>,\n",
       "         <AxesSubplot:xlabel='X3', ylabel='Count'>]], dtype=object))"
      ]
     },
     "execution_count": 23,
     "metadata": {},
     "output_type": "execute_result"
    },
    {
     "data": {
      "image/png": "[encoded data removed]",
      "text/plain": [
       "<Figure size 576x576 with 9 Axes>"
      ]
     },
     "metadata": {
      "needs_background": "light"
     },
     "output_type": "display_data"
    }
   ],
   "source": [
    "scatterplotmatrix(X.values)"
   ]
  },
  {
   "cell_type": "markdown",
   "id": "af6d8cd5-9abd-453b-b0d6-4a40efe83a28",
   "metadata": {},
   "source": [
    "一方で、**Seaborn**を使えば、データフレームをそのまま使えます。カテゴリー変数を除く必要はありません。自動的に除いて処理されます。"
   ]
  },
  {
   "cell_type": "markdown",
   "id": "2fd234bc-ec0b-4885-b877-3b6b8f1195f9",
   "metadata": {},
   "source": [
    "Seabornはsnsという名前でインポートするのが慣例です。"
   ]
  },
  {
   "cell_type": "code",
   "execution_count": 4,
   "id": "71649e70-7e4d-4ddb-8c86-c5b369ee4e73",
   "metadata": {},
   "outputs": [],
   "source": [
    "import seaborn as sns"
   ]
  },
  {
   "cell_type": "markdown",
   "id": "1a7bbdab-c5b2-4b74-8ad0-5b20bd7da808",
   "metadata": {},
   "source": [
    "Seabornのpairplot()関数を用いて散布図を描きます。"
   ]
  },
  {
   "cell_type": "code",
   "execution_count": 25,
   "id": "51223c03-a073-4212-bdcb-eecf48a9e6c7",
   "metadata": {},
   "outputs": [
    {
     "data": {
      "text/plain": [
       "<seaborn.axisgrid.PairGrid at 0x227d6b6d070>"
      ]
     },
     "execution_count": 25,
     "metadata": {},
     "output_type": "execute_result"
    },
    {
     "data": {
      "image/png": "[encoded data removed]",
      "text/plain": [
       "<Figure size 540x540 with 12 Axes>"
      ]
     },
     "metadata": {
      "needs_background": "light"
     },
     "output_type": "display_data"
    }
   ],
   "source": [
    "sns.pairplot(df_room)"
   ]
  },
  {
   "cell_type": "markdown",
   "id": "a5cf9e4b-cefe-4f4a-90c3-49f82ed31e94",
   "metadata": {},
   "source": [
    "駅からの近さで色分けしてみます。散布図をpairplot()関数で書くときに、どのカテゴリ変数で色分けしたいかをhue属性で指定します。"
   ]
  },
  {
   "cell_type": "code",
   "execution_count": 27,
   "id": "132d1423-88af-4cad-85af-b4f5fca92b65",
   "metadata": {},
   "outputs": [
    {
     "data": {
      "text/plain": [
       "<seaborn.axisgrid.PairGrid at 0x227d55346a0>"
      ]
     },
     "execution_count": 27,
     "metadata": {},
     "output_type": "execute_result"
    },
    {
     "data": {
      "image/png": "[encoded data removed]",
      "text/plain": [
       "<Figure size 594.875x540 with 12 Axes>"
      ]
     },
     "metadata": {
      "needs_background": "light"
     },
     "output_type": "display_data"
    }
   ],
   "source": [
    "sns.pairplot(df_room, hue='proximity')"
   ]
  },
  {
   "cell_type": "markdown",
   "id": "1b86150c-e3dd-4207-8ad3-0c9dd79d8c20",
   "metadata": {},
   "source": [
    "間取りで色分けしてみます。"
   ]
  },
  {
   "cell_type": "code",
   "execution_count": 28,
   "id": "9fa4b14f-3232-4989-b23b-fc86d64ce661",
   "metadata": {},
   "outputs": [
    {
     "data": {
      "text/plain": [
       "<seaborn.axisgrid.PairGrid at 0x227d5f4dc40>"
      ]
     },
     "execution_count": 28,
     "metadata": {},
     "output_type": "execute_result"
    },
    {
     "data": {
      "image/png": "[encoded data removed]",
      "text/plain": [
       "<Figure size 608.375x540 with 12 Axes>"
      ]
     },
     "metadata": {
      "needs_background": "light"
     },
     "output_type": "display_data"
    }
   ],
   "source": [
    "sns.pairplot(df_room, hue='plan')"
   ]
  },
  {
   "cell_type": "markdown",
   "id": "288779f0-6e69-491a-b59e-60697d90a196",
   "metadata": {},
   "source": [
    "部屋の向きで色分けします。"
   ]
  },
  {
   "cell_type": "code",
   "execution_count": 29,
   "id": "bda4764d-8bb1-4ffa-99b7-46748264f69c",
   "metadata": {},
   "outputs": [
    {
     "data": {
      "text/plain": [
       "<seaborn.axisgrid.PairGrid at 0x227d5f4db20>"
      ]
     },
     "execution_count": 29,
     "metadata": {},
     "output_type": "execute_result"
    },
    {
     "data": {
      "image/png": "[encoded data removed]",
      "text/plain": [
       "<Figure size 593.375x540 with 12 Axes>"
      ]
     },
     "metadata": {
      "needs_background": "light"
     },
     "output_type": "display_data"
    }
   ],
   "source": [
    "sns.pairplot(df_room, hue='direction')"
   ]
  },
  {
   "cell_type": "markdown",
   "id": "86686d89-ad84-48a4-bcb7-30a821c55d29",
   "metadata": {},
   "source": []
  },
  {
   "cell_type": "markdown",
   "id": "8ad7c17e-276d-4aee-a21c-15f032607e60",
   "metadata": {
    "tags": []
   },
   "source": [
    "### 共分散"
   ]
  },
  {
   "cell_type": "markdown",
   "id": "3c3f34d1-328a-4b27-9eb4-29d77d06a355",
   "metadata": {},
   "source": [
    "相関の強さを数値化する方法のひとつに、相関係数（ピアソンの相関係数）があります。それを計算するためには、「**共分散**」を計算する必要があります。"
   ]
  },
  {
   "cell_type": "markdown",
   "id": "0b31bc11-d831-4361-a74a-aadd0d9ddaf7",
   "metadata": {},
   "source": [
    "変数$x$と$y$のペア$(x_i, y_i)$が$(x_1,y_1)$から$(x_n, y_n)$まで$n$個あるとします。次に示すような形で計算できる**共分散**$s_{xy}$は、変数$x$と$y$がそれぞれの平均$\\bar{x}$, $\\bar{y}$から互いに同じ方向あるいは正反対の方向に変動することが多いほど絶対値が大きくなります。同じ方向に動く傾向があれば正の値に、反対方向に動く傾向があれば、負の値に、それぞれ、絶対値が大きくなります。"
   ]
  },
  {
   "cell_type": "markdown",
   "id": "cf6daa12-fef0-48cb-b46e-3248f2e1965e",
   "metadata": {},
   "source": [
    "$$s_{xy} = \\frac{1}{n}\\{(x_1 - \\bar{x})(y_1 - \\bar{y})+(x_2 - \\bar{x})(y_2 - \\bar{y})+ ... +(x_n - \\bar{x})(y_n - \\bar{y})\\}$$ $$= \\frac{1}{n}\\sum_{i=1}^n(x_i - \\bar{x})(y_i - \\bar{y})$$"
   ]
  },
  {
   "cell_type": "markdown",
   "id": "e6aeadf2-867f-41ce-b3c0-6a8a6468e123",
   "metadata": {},
   "source": [
    "そして、$x$と$y$とが**独立**ー互いにてんでばらばらの方向に動くーの場合$s_{xy}$は$0$になります。"
   ]
  },
  {
   "cell_type": "markdown",
   "id": "5c2b9498-97b5-4010-8361-6786c20ded1c",
   "metadata": {},
   "source": [
    "### 相関係数"
   ]
  },
  {
   "cell_type": "markdown",
   "id": "68524c77-b3fc-43aa-92bd-797bee10d740",
   "metadata": {},
   "source": [
    "**共分散**$s_{xy}$を、$x$の**標準偏差**$s_x$と$y$の**標準偏差**$s_y$で割ることで、この値は$-1$と$1$との間になり、正規化されます。これを**相関係数**（**ピアソン**の相関係数）$r_{xy}$といいます。"
   ]
  },
  {
   "cell_type": "markdown",
   "id": "2debd7a1-1576-415a-b255-c222178c2fe3",
   "metadata": {},
   "source": [
    "$$r_{xy} = \\frac{s_{xy}}{s_x s_y} = \\frac{1}{n}\\sum_{i=1}^n\\frac{(x_i - \\bar{x})}{s_x}\\frac{(y_i - \\bar{y})}{s_y}$$"
   ]
  },
  {
   "cell_type": "markdown",
   "id": "ef5067c8-367a-4dd2-abff-7948d0e0f241",
   "metadata": {},
   "source": [
    "そして$s_x$も$s_y$も分母が$\\sqrt{n}$ですから、\n",
    "$$r_{xy}= \\frac{\\sum_{i=1}^n(x_i - \\bar{x})(y_i - \\bar{y})}{\\sqrt{\\sum_{i=1}^n(x_i - \\bar{x})^2}\\sqrt{\\sum_{i=1}^n(y_i - \\bar{y})^2}}$$"
   ]
  },
  {
   "cell_type": "markdown",
   "id": "0ce0560c-de4e-446d-89cd-fa790de24c58",
   "metadata": {},
   "source": [
    "$x$と$y$が同じ方向にいっしょに動く傾向が強ければ$r_{xy}$は$1$に近くなり、反対方向に動く傾向が強ければ、$r_{xy}$は$-1$に近くなります。"
   ]
  },
  {
   "cell_type": "markdown",
   "id": "a19a7404-e8ff-4f06-8104-ea1333004ce9",
   "metadata": {},
   "source": [
    "それでは、家賃、広さ、築年数の間の相関係数を求めましょう。ペアは３種類ありますから、相関係数も３個できます。  \n",
    "相関係数は、Pandasデータフレームの.corr()メソッドで求めます。"
   ]
  },
  {
   "cell_type": "code",
   "execution_count": 42,
   "id": "c96b6afa-5352-4495-8448-8ca69839faaf",
   "metadata": {},
   "outputs": [
    {
     "name": "stdout",
     "output_type": "stream",
     "text": [
      "          rent      size       age\n",
      "rent  1.000000  0.841193  0.245452\n",
      "size  0.841193  1.000000  0.515945\n",
      "age   0.245452  0.515945  1.000000\n"
     ]
    }
   ],
   "source": [
    "corr_room = df_room.corr()\n",
    "print(corr_room)"
   ]
  },
  {
   "cell_type": "markdown",
   "id": "e9edd0df-1e4f-4ba3-974c-8ce52b2cb47c",
   "metadata": {},
   "source": [
    "Seabornのheatmap()関数で「ヒートマップ」として表示しましょう。"
   ]
  },
  {
   "cell_type": "code",
   "execution_count": 50,
   "id": "d3afdf2c-d80e-43c2-81e7-0a239d48c1de",
   "metadata": {},
   "outputs": [
    {
     "data": {
      "text/plain": [
       "<AxesSubplot:>"
      ]
     },
     "execution_count": 50,
     "metadata": {},
     "output_type": "execute_result"
    },
    {
     "data": {
      "image/png": "[encoded data removed]",
      "text/plain": [
       "<Figure size 432x288 with 2 Axes>"
      ]
     },
     "metadata": {
      "needs_background": "light"
     },
     "output_type": "display_data"
    }
   ],
   "source": [
    "sns.heatmap(corr_room, cmap='coolwarm', vmin=-1, vmax=1, annot=True)"
   ]
  },
  {
   "cell_type": "markdown",
   "id": "814e4baf-76b0-4026-801e-efc0b770a2b1",
   "metadata": {},
   "source": [
    "これからわかるように、これら３つの変数の間にはどれの間にも正の相関があります。そしてもっとも強いのは広さと家賃との関係です。"
   ]
  },
  {
   "cell_type": "markdown",
   "id": "f66f3da1-ffbf-4c54-8887-a13470293809",
   "metadata": {},
   "source": [
    "気になるのは、築年数と家賃との間に正の相関があることです。古いほど、家賃が高くなる傾向です。これは、直観と反しますね。   \n",
    "その関係から、広さの影響を取り除く必要があります。上の表からわかるように、築年数と広さとの間には正の相関があるからです。つまり、古い→広い→高い、という関係が含まれているかもしれません。"
   ]
  },
  {
   "cell_type": "markdown",
   "id": "f7fba9c0-010e-46a7-b617-665f4a1079cc",
   "metadata": {},
   "source": [
    "家賃と広さとの相関係数を$r_{xy}$、家賃と築年数との相関係数を$r_{xz}$、広さと築年数との相関係数を$r_{yz}$とします。広さの影響を除いた、築年数と家賃との相関係数$r_{xz-y}$を、計算するには、次のようにします。"
   ]
  },
  {
   "cell_type": "markdown",
   "id": "0c4840e8-301f-4250-9968-bba17403933a",
   "metadata": {},
   "source": [
    "$$r_{xz-y} = \\frac{r_{xz} - r_{xy}r_{yz}}{\\sqrt{1 - r_{xy}^2}\\sqrt{1 - r_{yz}^2}}$$"
   ]
  },
  {
   "cell_type": "markdown",
   "id": "dfb5eb34-0a7b-4510-b6a7-23c7e9affe9c",
   "metadata": {},
   "source": [
    "この相関係数$r_{xz-y}$を**偏相関係数**といいます。  "
   ]
  },
  {
   "cell_type": "markdown",
   "id": "8c9b7616-0130-4956-9c3a-c29c6153bb6a",
   "metadata": {},
   "source": [
    "実際に計算してみましょう。"
   ]
  },
  {
   "cell_type": "code",
   "execution_count": 44,
   "id": "80e502e4-ba13-47e1-9f47-c1eb7bb91572",
   "metadata": {},
   "outputs": [
    {
     "name": "stdout",
     "output_type": "stream",
     "text": [
      "0.8411926135904368\n"
     ]
    }
   ],
   "source": [
    "rxy = corr_room.loc[\"rent\",\"size\"]\n",
    "print(rxy)"
   ]
  },
  {
   "cell_type": "code",
   "execution_count": 46,
   "id": "18cf872d-413c-4cda-8181-9bdd3a440aeb",
   "metadata": {},
   "outputs": [
    {
     "name": "stdout",
     "output_type": "stream",
     "text": [
      "0.24545151007620591\n"
     ]
    }
   ],
   "source": [
    "rxz = corr_room.loc[\"rent\",\"age\"]\n",
    "print(rxz)"
   ]
  },
  {
   "cell_type": "code",
   "execution_count": 48,
   "id": "3b5c3ecc-c796-4d1e-8385-a720cd0513fb",
   "metadata": {},
   "outputs": [
    {
     "name": "stdout",
     "output_type": "stream",
     "text": [
      "0.5159447489463378\n"
     ]
    }
   ],
   "source": [
    "ryz = corr_room.loc[\"size\",\"age\"]\n",
    "print(ryz)"
   ]
  },
  {
   "cell_type": "code",
   "execution_count": 49,
   "id": "3fe5de13-750a-4654-b2de-bca48fdbc22c",
   "metadata": {},
   "outputs": [
    {
     "name": "stdout",
     "output_type": "stream",
     "text": [
      "-0.4070703491024938\n"
     ]
    }
   ],
   "source": [
    "rxz_y = (rxz - rxy*ryz)/(np.sqrt(1 - rxy**2)*np.sqrt(1 - ryz**2))\n",
    "print(rxz_y)"
   ]
  },
  {
   "cell_type": "markdown",
   "id": "31a52e05-f0b8-473e-90ff-168e5deb5e4e",
   "metadata": {},
   "source": [
    "このように、広さの影響を除いたあとの、家賃と築年数との偏相関係数は負になりました。同じ大きさの部屋であるなら、古い物件ほど家賃が安いことになります。"
   ]
  },
  {
   "cell_type": "markdown",
   "id": "770a36ea-3501-41cf-bfb5-a96b9b3f500c",
   "metadata": {},
   "source": [
    "#### 例題"
   ]
  },
  {
   "cell_type": "markdown",
   "id": "937aeef3-f434-4508-b604-3ef5d9c2962c",
   "metadata": {},
   "source": [
    "次の表は、10人の身長・体重の観察値です。身長と体重の関係の散布図を表示し、相関係数を求めましょう。"
   ]
  },
  {
   "cell_type": "markdown",
   "id": "0299c8b9-e99f-43f7-9841-1be5feda3fa4",
   "metadata": {},
   "source": [
    "|身長|158|167|150|169|160|159|152|162|156|164|\n",
    "|--|--|--|--|--|--|--|--|--|--|--|\n",
    "|体重|55|57|45|64|50|60|53|49|44|57|"
   ]
  },
  {
   "cell_type": "code",
   "execution_count": 1,
   "id": "37851d9b-c9cf-497d-b87f-d4a7526b5523",
   "metadata": {},
   "outputs": [],
   "source": [
    "import numpy as np\n",
    "import pandas as pd\n",
    "%matplotlib inline\n",
    "import matplotlib.pyplot as plt\n",
    "import seaborn as sns"
   ]
  },
  {
   "cell_type": "markdown",
   "id": "24c1d01d-e547-4741-ab3a-ee4335d3a7b1",
   "metadata": {},
   "source": [
    "データは次の通りです。"
   ]
  },
  {
   "cell_type": "code",
   "execution_count": 2,
   "id": "b73b5d6f-28da-4377-a672-8c78db55f76c",
   "metadata": {},
   "outputs": [],
   "source": [
    "height = np.array([158,167,150,169,160,159,152,162,156,164])\n",
    "weight = np.array([55,57,45,64,50,60,53,49,44,57])"
   ]
  },
  {
   "cell_type": "markdown",
   "id": "6d8eb451-1cf6-4b28-9496-002c69d9da09",
   "metadata": {},
   "source": [
    "データフレームをつくります。関数pandas.DataFrame()の引数が辞書型であることに注意してください。"
   ]
  },
  {
   "cell_type": "code",
   "execution_count": 3,
   "id": "d50fecd7-b65e-4f6c-b8cf-be2cb2b61b83",
   "metadata": {},
   "outputs": [],
   "source": [
    "df_hw = pd.DataFrame({'Height':height,'Weight':weight})"
   ]
  },
  {
   "cell_type": "code",
   "execution_count": 4,
   "id": "d1b01040-bc2e-494c-821e-0f277e772fde",
   "metadata": {},
   "outputs": [
    {
     "data": {
      "text/html": [
       "<div>\n",
       "<style scoped>\n",
       "    .dataframe tbody tr th:only-of-type {\n",
       "        vertical-align: middle;\n",
       "    }\n",
       "\n",
       "    .dataframe tbody tr th {\n",
       "        vertical-align: top;\n",
       "    }\n",
       "\n",
       "    .dataframe thead th {\n",
       "        text-align: right;\n",
       "    }\n",
       "</style>\n",
       "<table border=\"1\" class=\"dataframe\">\n",
       "  <thead>\n",
       "    <tr style=\"text-align: right;\">\n",
       "      <th></th>\n",
       "      <th>Height</th>\n",
       "      <th>Weight</th>\n",
       "    </tr>\n",
       "  </thead>\n",
       "  <tbody>\n",
       "    <tr>\n",
       "      <th>0</th>\n",
       "      <td>158</td>\n",
       "      <td>55</td>\n",
       "    </tr>\n",
       "    <tr>\n",
       "      <th>1</th>\n",
       "      <td>167</td>\n",
       "      <td>57</td>\n",
       "    </tr>\n",
       "    <tr>\n",
       "      <th>2</th>\n",
       "      <td>150</td>\n",
       "      <td>45</td>\n",
       "    </tr>\n",
       "    <tr>\n",
       "      <th>3</th>\n",
       "      <td>169</td>\n",
       "      <td>64</td>\n",
       "    </tr>\n",
       "    <tr>\n",
       "      <th>4</th>\n",
       "      <td>160</td>\n",
       "      <td>50</td>\n",
       "    </tr>\n",
       "    <tr>\n",
       "      <th>5</th>\n",
       "      <td>159</td>\n",
       "      <td>60</td>\n",
       "    </tr>\n",
       "    <tr>\n",
       "      <th>6</th>\n",
       "      <td>152</td>\n",
       "      <td>53</td>\n",
       "    </tr>\n",
       "    <tr>\n",
       "      <th>7</th>\n",
       "      <td>162</td>\n",
       "      <td>49</td>\n",
       "    </tr>\n",
       "    <tr>\n",
       "      <th>8</th>\n",
       "      <td>156</td>\n",
       "      <td>44</td>\n",
       "    </tr>\n",
       "    <tr>\n",
       "      <th>9</th>\n",
       "      <td>164</td>\n",
       "      <td>57</td>\n",
       "    </tr>\n",
       "  </tbody>\n",
       "</table>\n",
       "</div>"
      ],
      "text/plain": [
       "   Height  Weight\n",
       "0     158      55\n",
       "1     167      57\n",
       "2     150      45\n",
       "3     169      64\n",
       "4     160      50\n",
       "5     159      60\n",
       "6     152      53\n",
       "7     162      49\n",
       "8     156      44\n",
       "9     164      57"
      ]
     },
     "execution_count": 4,
     "metadata": {},
     "output_type": "execute_result"
    }
   ],
   "source": [
    "df_hw"
   ]
  },
  {
   "cell_type": "markdown",
   "id": "b38ffb0a-59bd-4890-bb74-093286f12131",
   "metadata": {},
   "source": [
    "散布図を描きましょう。まず、Seabornでペアプロットとして描きましょう。これの利点は各変数単独での分布もわかることです。"
   ]
  },
  {
   "cell_type": "code",
   "execution_count": 20,
   "id": "7b20885e-d9c6-43f4-85c4-f4107b293c74",
   "metadata": {},
   "outputs": [
    {
     "data": {
      "text/plain": [
       "<seaborn.axisgrid.PairGrid at 0x2da9ef367c0>"
      ]
     },
     "execution_count": 20,
     "metadata": {},
     "output_type": "execute_result"
    },
    {
     "data": {
      "image/png": "[encoded data removed]",
      "text/plain": [
       "<Figure size 360x360 with 6 Axes>"
      ]
     },
     "metadata": {
      "needs_background": "light"
     },
     "output_type": "display_data"
    }
   ],
   "source": [
    "sns.pairplot(df_hw)"
   ]
  },
  {
   "cell_type": "markdown",
   "id": "bca27053-3dff-4ead-ae6e-3390c93c2fa1",
   "metadata": {},
   "source": [
    "単純に、Matplotlibで描いてみましょう。"
   ]
  },
  {
   "cell_type": "code",
   "execution_count": 21,
   "id": "624f8fec-7967-4ea9-a946-441daf83745d",
   "metadata": {},
   "outputs": [
    {
     "data": {
      "text/plain": [
       "<matplotlib.collections.PathCollection at 0x2da9f3a25b0>"
      ]
     },
     "execution_count": 21,
     "metadata": {},
     "output_type": "execute_result"
    },
    {
     "data": {
      "image/png": "[encoded data removed]",
      "text/plain": [
       "<Figure size 432x288 with 1 Axes>"
      ]
     },
     "metadata": {
      "needs_background": "light"
     },
     "output_type": "display_data"
    }
   ],
   "source": [
    "plt.scatter(height,weight)"
   ]
  },
  {
   "cell_type": "markdown",
   "id": "0ee6015d-6fde-42d3-b81d-d49811350179",
   "metadata": {},
   "source": [
    "Pandaデータフレームのplot()メソッドでも描けます。"
   ]
  },
  {
   "cell_type": "code",
   "execution_count": 30,
   "id": "5445047e-31a3-4e58-b2e2-ae52e010bbb0",
   "metadata": {},
   "outputs": [
    {
     "data": {
      "text/plain": [
       "<AxesSubplot:xlabel='Height', ylabel='Weight'>"
      ]
     },
     "execution_count": 30,
     "metadata": {},
     "output_type": "execute_result"
    },
    {
     "data": {
      "image/png": "[encoded data removed]",
      "text/plain": [
       "<Figure size 432x288 with 1 Axes>"
      ]
     },
     "metadata": {
      "needs_background": "light"
     },
     "output_type": "display_data"
    }
   ],
   "source": [
    "df_hw.plot('Height','Weight',kind='scatter')"
   ]
  },
  {
   "cell_type": "markdown",
   "id": "c6e2e45a-4880-408b-807f-ca53a6e4c85a",
   "metadata": {},
   "source": [
    "相関係数を求めましょう。"
   ]
  },
  {
   "cell_type": "code",
   "execution_count": 5,
   "id": "6b8c7635-fa2a-4df6-b3fd-101b86bd03e5",
   "metadata": {},
   "outputs": [],
   "source": [
    "corr_hw = df_hw.corr()"
   ]
  },
  {
   "cell_type": "code",
   "execution_count": 6,
   "id": "e31e7d4b-1fb9-4f7b-b389-d95c70a7a1da",
   "metadata": {},
   "outputs": [
    {
     "data": {
      "text/html": [
       "<div>\n",
       "<style scoped>\n",
       "    .dataframe tbody tr th:only-of-type {\n",
       "        vertical-align: middle;\n",
       "    }\n",
       "\n",
       "    .dataframe tbody tr th {\n",
       "        vertical-align: top;\n",
       "    }\n",
       "\n",
       "    .dataframe thead th {\n",
       "        text-align: right;\n",
       "    }\n",
       "</style>\n",
       "<table border=\"1\" class=\"dataframe\">\n",
       "  <thead>\n",
       "    <tr style=\"text-align: right;\">\n",
       "      <th></th>\n",
       "      <th>Height</th>\n",
       "      <th>Weight</th>\n",
       "    </tr>\n",
       "  </thead>\n",
       "  <tbody>\n",
       "    <tr>\n",
       "      <th>Height</th>\n",
       "      <td>1.000000</td>\n",
       "      <td>0.681979</td>\n",
       "    </tr>\n",
       "    <tr>\n",
       "      <th>Weight</th>\n",
       "      <td>0.681979</td>\n",
       "      <td>1.000000</td>\n",
       "    </tr>\n",
       "  </tbody>\n",
       "</table>\n",
       "</div>"
      ],
      "text/plain": [
       "          Height    Weight\n",
       "Height  1.000000  0.681979\n",
       "Weight  0.681979  1.000000"
      ]
     },
     "execution_count": 6,
     "metadata": {},
     "output_type": "execute_result"
    }
   ],
   "source": [
    "corr_hw"
   ]
  },
  {
   "cell_type": "markdown",
   "id": "7329dc9a-a298-41f0-8163-855516c8f082",
   "metadata": {},
   "source": [
    "上の表より、0.682とわかります。"
   ]
  },
  {
   "cell_type": "markdown",
   "id": "0f680292-9c55-49d5-8bb6-b410ecff84f1",
   "metadata": {},
   "source": [
    "上の散布図を見ると、直線関係が見えてくると思います。それを定量的に示すのが、次に取扱う回帰分析です。"
   ]
  },
  {
   "cell_type": "markdown",
   "id": "bc68d3c1-d2f3-4fb6-a06c-cf852b885232",
   "metadata": {},
   "source": [
    "## 回帰分析"
   ]
  },
  {
   "cell_type": "markdown",
   "id": "0a1a11d7-2cc9-4557-bd0a-f8e0ef85f3ab",
   "metadata": {},
   "source": [
    "### 独立変数と従属変数"
   ]
  },
  {
   "cell_type": "markdown",
   "id": "44a211db-c5d2-416b-9605-2c55fc08069b",
   "metadata": {},
   "source": [
    "回帰分析は、ある変数xから別の変数yの値を予測するために行います。前提として、xとyは対等ではなく、xを原因としてyが起こるというような、方向性のある関係を想定しています。"
   ]
  },
  {
   "cell_type": "markdown",
   "id": "e1483b76-da08-4993-9ee7-fc30020bf9f5",
   "metadata": {},
   "source": [
    "例えば部屋の広さ$x$[$m^2$]で家賃$y$[円]が説明できると考えます。このとき、説明するほうの変数$x$を説明変数（独立変数、予測変数などともいう）、説明されるほうの変数$y$を応答変数（目的変数、従属変数、被説明変数などともいう）といいます。"
   ]
  },
  {
   "cell_type": "markdown",
   "id": "e840ec85-7a42-44be-8ae0-5301d1393fab",
   "metadata": {},
   "source": [
    "### 回帰直線"
   ]
  },
  {
   "cell_type": "markdown",
   "id": "95dec667-56bd-4703-96cd-4d3de2303c63",
   "metadata": {},
   "source": [
    "部屋の大きさを$x$, 家賃を$y$とおき、その間に$$y = \\alpha + \\beta x$$という直線関係を考え、部屋の大きさ$x$から家賃$y$を予測します。この直線を$y$の$x$に対する回帰直線（regression line）とよび、$\\alpha$と$\\beta$を回帰係数（regression coefficient）とよびます。  \n",
    "この回帰直線を散布図のデータと対応させ、最もよくあてはまる回帰係数を推定します。"
   ]
  },
  {
   "cell_type": "markdown",
   "id": "a0b73ad3-98b9-4996-bcf7-46969533ce31",
   "metadata": {},
   "source": [
    "#### 最小二乗法"
   ]
  },
  {
   "cell_type": "markdown",
   "id": "bef11103-5198-492e-b9bb-75d5c1180797",
   "metadata": {},
   "source": [
    "そのような回帰直線はどのようにして求めるのでしょうか。仮に$\\alpha$, $\\beta$をある値$\\hat{\\alpha}$, $\\hat{\\beta}$にしたとき、$x_i$に対する$y_i$の**予測値**$\\hat{y}_i$は、$\\hat{y}_i = \\hat{\\alpha} + \\hat{\\beta}x_i$となります。"
   ]
  },
  {
   "cell_type": "markdown",
   "id": "5439712a-9f25-4e90-8697-b45c11ba4a47",
   "metadata": {},
   "source": [
    "観測値の実際の値$y_i$と回帰直線で予測した値$\\hat{y}_i$との差$e_i = y_i - \\hat{y}_i$を**残差residual**と呼びます。つまり予測誤差です。"
   ]
  },
  {
   "cell_type": "markdown",
   "id": "84d3bfc7-83a1-411b-b558-ecfecd0d788a",
   "metadata": {},
   "source": [
    "観測値は$n$個ですから、残差の二乗和（残差平方和）は、$\\hat{\\alpha}$と$\\hat{\\beta}$の関数として、"
   ]
  },
  {
   "cell_type": "markdown",
   "id": "c9c461aa-a9ff-4ad3-aa25-c289d87419d9",
   "metadata": {},
   "source": [
    "$$S_{(\\hat{\\alpha},\\hat{\\beta})} = \\sum_{i = 1}^n e_i^2 = \\sum_{i = 1}^n (y_i - \\hat{y}_i)^2-  \n",
    "= \\sum_{i = 1}^n\\{y_i - (\\hat{\\alpha} + \\hat{\\beta} x_i) \\}^2$$"
   ]
  },
  {
   "cell_type": "markdown",
   "id": "4e2ac08e-c0e6-4c99-8b94-144ce35ea24f",
   "metadata": {},
   "source": [
    "のように表され、これを最小にするような$\\hat{\\alpha}$と$\\hat{\\beta}$を求めればよいことになります。"
   ]
  },
  {
   "cell_type": "markdown",
   "id": "aeb6e841-15b0-4b7b-8ad1-62f03c0c333c",
   "metadata": {},
   "source": [
    "$S_{(\\hat{\\alpha},\\hat{\\beta})}$は２つのパラメータ$\\hat{\\alpha}$と$\\hat{\\beta}$の２次関数で、最小値が存在しますから、$\\hat{\\alpha}$と$\\hat{\\beta}$で偏微分し$0$に等しいとすると、次の２つの方程式ができます。"
   ]
  },
  {
   "cell_type": "markdown",
   "id": "63b0d877-ae00-4bce-80b1-e0189fb990cd",
   "metadata": {},
   "source": [
    "$$n\\hat{\\alpha} + \\hat{\\beta}\\sum x_i = \\sum y_i$$"
   ]
  },
  {
   "cell_type": "markdown",
   "id": "c4b7de8d-0c55-45a1-ab62-84eb4fb9a925",
   "metadata": {},
   "source": [
    "$$\\hat{\\alpha}\\sum x_i + \\hat{\\beta}\\sum x_i^2 = \\sum x_i y_i$$"
   ]
  },
  {
   "cell_type": "markdown",
   "id": "2ee2302a-d749-45ea-a393-19b7787579c1",
   "metadata": {},
   "source": [
    "これらは、$\\hat{\\alpha}$と$\\hat{\\beta}$の連立１次方程式です。そして、"
   ]
  },
  {
   "cell_type": "markdown",
   "id": "9d4ac35c-c5e8-4285-aa81-853517d28cac",
   "metadata": {},
   "source": [
    "$$\\hat{\\beta} = \\frac{\\sum(y_i - \\bar{y})(x_i - \\bar{x})}{\\sum (x_i - \\bar{x})^2} = \\frac{s_{xy}}{s_{xx}} = r_{xy}\\frac{\\sqrt{s_{yy}}}{\\sqrt{s_{xx}}} = r_{xy}\\frac{s_y}{s_x}$$"
   ]
  },
  {
   "cell_type": "markdown",
   "id": "8682723c-ddf5-4264-aaba-588957d6c81b",
   "metadata": {},
   "source": [
    "$$\\hat{\\alpha} = \\bar{y} - \\hat{\\beta}\\bar{x}$$"
   ]
  },
  {
   "cell_type": "markdown",
   "id": "4072b1d0-fb0a-408a-8889-a53dd1ec8363",
   "metadata": {},
   "source": [
    "となります。なお、$s_{xx}$, $s_{yy}$はそれぞれ$x$, $y$の分散を意味します。同様に、$s_{xy}$は$x$と$y$の共分散です。"
   ]
  },
  {
   "cell_type": "markdown",
   "id": "d88d3837-76e8-4dc1-b99f-01ec33c70735",
   "metadata": {},
   "source": [
    "また、$s_x$, $s_y$は$x$, $y$の標準偏差です。"
   ]
  },
  {
   "cell_type": "markdown",
   "id": "7669ff0a-5113-47e3-87fb-2c6962820bb8",
   "metadata": {},
   "source": [
    "上の式から、次のような関係がわかります。\n",
    "- 回帰係数$\\hat{\\beta}$は、$x$, $y$の共分散と$x$の分散の比である。\n",
    "- 回帰係数$\\hat{\\beta}$は同時に、$x$, $y$の相関係数に$y$と$x$の標準偏差の比をかけたものでもある。"
   ]
  },
  {
   "cell_type": "markdown",
   "id": "e7e3f97a-de7e-43b2-aa48-1908f469aeb3",
   "metadata": {},
   "source": [
    "このような**最小二乗法**による$\\hat{\\alpha}$, $\\hat{\\beta}$の解には次のような特徴があります。"
   ]
  },
  {
   "cell_type": "markdown",
   "id": "0a1bbc70-dca1-40ef-8750-c3846637778c",
   "metadata": {},
   "source": [
    "- 予測値$\\hat{y}_i = \\hat{\\alpha} + \\hat{\\beta} x_i$の平均は観測値$y_i$の平均と等しい。\n",
    "- 残差$e_i = y_i - \\hat{y}_i$の平均は$0$となる。\n",
    "- 回帰直線は点$(\\bar{x}, \\bar{y})$を通る。\n",
    "- 予測値$\\hat{y}_i$と残差$e_i$との相関係数は0である。\n",
    "- $y$の**変動の大きさ**を表す**平方和$S_y$は、回帰による平方和$S_R$と残差平方和$S_e$とに分解できる**。つまり、$S_y = S_R + S_e$"
   ]
  },
  {
   "cell_type": "markdown",
   "id": "57afc8d2-2878-4700-83e4-92377368a666",
   "metadata": {},
   "source": [
    "そして、$y$の平方和において回帰による平方和の割合、すなわち$$R^2 = \\frac{S_R}{S_y}$$を、**決定係数**といいます。これが大きい（ただし最大値は1）ほど、$y$の変動のうち回帰直線で説明できる部分の割合が大きくなります。"
   ]
  },
  {
   "cell_type": "markdown",
   "id": "69aac0b2-e2b1-4aa7-b9fd-b2b70459b500",
   "metadata": {},
   "source": [
    "#### 回帰モデルの推定と検定"
   ]
  },
  {
   "cell_type": "markdown",
   "id": "c849e362-251e-42f6-bd06-855d7e216b7b",
   "metadata": {},
   "source": [
    "- $F$統計量：$S_R$と$S_e$を比較する指標です。帰無仮説$H_0$を、「すべての従属変数の回帰係数が0」としてF統計量を計算します。$F$統計量が大きいほど、その実現確率は小さくなります。\n",
    "- $F$統計量の確率：$H_0$のもとで、計算されたような値を得る確率です。有意水準と比較して回帰の優位性の検定に用います。\n",
    "- $t$統計量：$F$統計量のもとで、回帰が有意であると判断されたとき、個別の回帰係数の信頼区間を求めたり有意性の検定をしたりするために用います。回帰係数が0であるという帰無仮説のもとで計算された$\\hat{\\beta}$の値から計算します。大きいほど、0から外れます。\n",
    "- $P-$値：上記帰無仮説のもとで、$t$統計量がその値よりも極端な値をとる確率です。"
   ]
  },
  {
   "cell_type": "markdown",
   "id": "719516a9-fd6b-432c-98a7-0e18f77de03d",
   "metadata": {},
   "source": [
    "### Statsmodelsを使った回帰分析（単回帰分析）"
   ]
  },
  {
   "cell_type": "markdown",
   "id": "c077587a-de3c-4fe3-b33a-dfffbfb39c94",
   "metadata": {},
   "source": [
    "それでは、家賃データから、広さと家賃との関係を表す回帰直線を求めましょう。"
   ]
  },
  {
   "cell_type": "markdown",
   "id": "d85a6769-92da-45d4-9391-f826510c833d",
   "metadata": {},
   "source": [
    "statsmodelsのモジュールをインポートします。"
   ]
  },
  {
   "cell_type": "code",
   "execution_count": 31,
   "id": "1a6a147e-475c-454d-99c8-d5bb055fe7f9",
   "metadata": {},
   "outputs": [],
   "source": [
    "import statsmodels.formula.api as smf\n",
    "import statsmodels.api as sm"
   ]
  },
  {
   "cell_type": "markdown",
   "id": "4361dd99-1dd6-483a-8fe0-18ffb5761edb",
   "metadata": {},
   "source": [
    "データは、すでに読み込んである、df_roomという名前のデータフレームです。  \n",
    "説明変数と目的変数を指定します。説明変数(x)はsize, 目的変数(y)はrentです。"
   ]
  },
  {
   "cell_type": "markdown",
   "id": "59964dab-1cea-42cc-bc9a-897e08113ef6",
   "metadata": {},
   "source": [
    "その前に関係を確認しておきます。散布図は、Pandasデータフレームのplot()メソッドで描けます。"
   ]
  },
  {
   "cell_type": "code",
   "execution_count": 27,
   "id": "e40731d8-6043-4e1a-9415-5bda26a57e70",
   "metadata": {},
   "outputs": [
    {
     "data": {
      "text/plain": [
       "<AxesSubplot:xlabel='size', ylabel='rent'>"
      ]
     },
     "execution_count": 27,
     "metadata": {},
     "output_type": "execute_result"
    },
    {
     "data": {
      "image/png": "[encoded data removed]",
      "text/plain": [
       "<Figure size 432x288 with 1 Axes>"
      ]
     },
     "metadata": {
      "needs_background": "light"
     },
     "output_type": "display_data"
    }
   ],
   "source": [
    "df_room.plot('size','rent', kind='scatter')"
   ]
  },
  {
   "cell_type": "markdown",
   "id": "d223b0b1-870a-4908-ad2c-d8c931a18482",
   "metadata": {},
   "source": [
    "Pandasデータフレームのlocメソッドで列を取り出します。"
   ]
  },
  {
   "cell_type": "code",
   "execution_count": 6,
   "id": "7ae664e8-ad6b-426a-b058-a7d4e08db7ec",
   "metadata": {},
   "outputs": [],
   "source": [
    "x = df_room.loc[:,'size']\n",
    "y = df_room.loc[:,'rent']"
   ]
  },
  {
   "cell_type": "markdown",
   "id": "36312ea5-919c-4753-9b8a-bfc3ffcb2bab",
   "metadata": {},
   "source": [
    "切片を計算させるために定数項を設定します。  \n",
    "**注意**：もし切片を必要とする線形回帰のモデル式ならば必ず必要な操作で、これを入れないと正しく回帰式が作成されません。"
   ]
  },
  {
   "cell_type": "code",
   "execution_count": 7,
   "id": "a34b421f-23bf-477c-a3e0-05f2f83166fe",
   "metadata": {},
   "outputs": [],
   "source": [
    "X1 = sm.add_constant(x)"
   ]
  },
  {
   "cell_type": "markdown",
   "id": "cf7c1b99-8445-4921-99cd-40793667b53b",
   "metadata": {},
   "source": [
    "上の操作によって、次に示すように、すべてのデータに先頭項目として定数１が加わりました。  "
   ]
  },
  {
   "cell_type": "code",
   "execution_count": 71,
   "id": "6fbec026-bd1d-45d7-9b3d-22d87e076e42",
   "metadata": {},
   "outputs": [
    {
     "data": {
      "text/html": [
       "<div>\n",
       "<style scoped>\n",
       "    .dataframe tbody tr th:only-of-type {\n",
       "        vertical-align: middle;\n",
       "    }\n",
       "\n",
       "    .dataframe tbody tr th {\n",
       "        vertical-align: top;\n",
       "    }\n",
       "\n",
       "    .dataframe thead th {\n",
       "        text-align: right;\n",
       "    }\n",
       "</style>\n",
       "<table border=\"1\" class=\"dataframe\">\n",
       "  <thead>\n",
       "    <tr style=\"text-align: right;\">\n",
       "      <th></th>\n",
       "      <th>const</th>\n",
       "      <th>size</th>\n",
       "    </tr>\n",
       "  </thead>\n",
       "  <tbody>\n",
       "    <tr>\n",
       "      <th>0</th>\n",
       "      <td>1.0</td>\n",
       "      <td>19</td>\n",
       "    </tr>\n",
       "    <tr>\n",
       "      <th>1</th>\n",
       "      <td>1.0</td>\n",
       "      <td>19</td>\n",
       "    </tr>\n",
       "    <tr>\n",
       "      <th>2</th>\n",
       "      <td>1.0</td>\n",
       "      <td>19</td>\n",
       "    </tr>\n",
       "    <tr>\n",
       "      <th>3</th>\n",
       "      <td>1.0</td>\n",
       "      <td>19</td>\n",
       "    </tr>\n",
       "    <tr>\n",
       "      <th>4</th>\n",
       "      <td>1.0</td>\n",
       "      <td>15</td>\n",
       "    </tr>\n",
       "    <tr>\n",
       "      <th>...</th>\n",
       "      <td>...</td>\n",
       "      <td>...</td>\n",
       "    </tr>\n",
       "    <tr>\n",
       "      <th>135</th>\n",
       "      <td>1.0</td>\n",
       "      <td>40</td>\n",
       "    </tr>\n",
       "    <tr>\n",
       "      <th>136</th>\n",
       "      <td>1.0</td>\n",
       "      <td>54</td>\n",
       "    </tr>\n",
       "    <tr>\n",
       "      <th>137</th>\n",
       "      <td>1.0</td>\n",
       "      <td>42</td>\n",
       "    </tr>\n",
       "    <tr>\n",
       "      <th>138</th>\n",
       "      <td>1.0</td>\n",
       "      <td>42</td>\n",
       "    </tr>\n",
       "    <tr>\n",
       "      <th>139</th>\n",
       "      <td>1.0</td>\n",
       "      <td>41</td>\n",
       "    </tr>\n",
       "  </tbody>\n",
       "</table>\n",
       "<p>140 rows × 2 columns</p>\n",
       "</div>"
      ],
      "text/plain": [
       "     const  size\n",
       "0      1.0    19\n",
       "1      1.0    19\n",
       "2      1.0    19\n",
       "3      1.0    19\n",
       "4      1.0    15\n",
       "..     ...   ...\n",
       "135    1.0    40\n",
       "136    1.0    54\n",
       "137    1.0    42\n",
       "138    1.0    42\n",
       "139    1.0    41\n",
       "\n",
       "[140 rows x 2 columns]"
      ]
     },
     "execution_count": 71,
     "metadata": {},
     "output_type": "execute_result"
    }
   ],
   "source": [
    "X1"
   ]
  },
  {
   "cell_type": "markdown",
   "id": "8f65459d-65dc-488f-9287-bb3fe814c989",
   "metadata": {},
   "source": [
    "モデルを設定します。OLSとは、最小二乗法のことです。"
   ]
  },
  {
   "cell_type": "code",
   "execution_count": 8,
   "id": "47d2c7cd-9f74-4581-b388-90400611cda7",
   "metadata": {},
   "outputs": [],
   "source": [
    "model_1 = sm.OLS(y,X1)"
   ]
  },
  {
   "cell_type": "markdown",
   "id": "58389601-dac1-4da6-9d9b-30195532f704",
   "metadata": {},
   "source": [
    "回帰分析を実行します。"
   ]
  },
  {
   "cell_type": "code",
   "execution_count": 9,
   "id": "56e4dd79-13d3-4377-a6f5-46f10d77bedf",
   "metadata": {},
   "outputs": [],
   "source": [
    "result_1 = model_1.fit()"
   ]
  },
  {
   "cell_type": "markdown",
   "id": "6cc3b98e-cb69-4844-945b-da05e2f43399",
   "metadata": {},
   "source": [
    "結果の詳細を表示します。"
   ]
  },
  {
   "cell_type": "code",
   "execution_count": 76,
   "id": "488016f8-1ff6-49c5-813c-81b70bfbacdb",
   "metadata": {},
   "outputs": [
    {
     "name": "stdout",
     "output_type": "stream",
     "text": [
      "                            OLS Regression Results                            \n",
      "==============================================================================\n",
      "Dep. Variable:                   rent   R-squared:                       0.708\n",
      "Model:                            OLS   Adj. R-squared:                  0.705\n",
      "Method:                 Least Squares   F-statistic:                     334.0\n",
      "Date:                Sun, 22 May 2022   Prob (F-statistic):           1.14e-38\n",
      "Time:                        15:42:46   Log-Likelihood:                -1493.4\n",
      "No. Observations:                 140   AIC:                             2991.\n",
      "Df Residuals:                     138   BIC:                             2997.\n",
      "Df Model:                           1                                         \n",
      "Covariance Type:            nonrobust                                         \n",
      "==============================================================================\n",
      "                 coef    std err          t      P>|t|      [0.025      0.975]\n",
      "------------------------------------------------------------------------------\n",
      "const       4.579e+04   3179.976     14.400      0.000    3.95e+04    5.21e+04\n",
      "size        2075.1455    113.553     18.275      0.000    1850.617    2299.674\n",
      "==============================================================================\n",
      "Omnibus:                        6.374   Durbin-Watson:                   1.308\n",
      "Prob(Omnibus):                  0.041   Jarque-Bera (JB):                6.691\n",
      "Skew:                           0.352   Prob(JB):                       0.0352\n",
      "Kurtosis:                       3.808   Cond. No.                         101.\n",
      "==============================================================================\n",
      "\n",
      "Notes:\n",
      "[1] Standard Errors assume that the covariance matrix of the errors is correctly specified.\n"
     ]
    }
   ],
   "source": [
    "print(result_1.summary())"
   ]
  },
  {
   "cell_type": "markdown",
   "id": "872bc464-db7e-4285-a503-7549edf17469",
   "metadata": {},
   "source": [
    "表の解説の前に、回帰直線を表示しましょう。パラメータ$\\hat{\\alpha}$, $\\hat{\\beta}$（それぞれ、y切片と傾き）は結果から次のように取り出されます。解説より先に、上の表でいうと、それぞれ、const行のcoef, size行のcoefにあたります。これらの値は、回帰直線をプロットするために使います。"
   ]
  },
  {
   "cell_type": "code",
   "execution_count": 78,
   "id": "e32abd8b-f235-43f4-8aff-8e4c9df98adb",
   "metadata": {},
   "outputs": [],
   "source": [
    "a_1 = result_1.params[0] #alpha\n",
    "b_1 = result_1.params[1] #beta"
   ]
  },
  {
   "cell_type": "markdown",
   "id": "9a98decf-189f-4a6c-aac9-4382753fea0f",
   "metadata": {},
   "source": [
    "ではデータをプロットし、回帰直線を表示します。"
   ]
  },
  {
   "cell_type": "code",
   "execution_count": 84,
   "id": "3e0421e5-e646-47f5-95e0-1a00918632c6",
   "metadata": {},
   "outputs": [
    {
     "data": {
      "image/png": "[encoded data removed]",
      "text/plain": [
       "<Figure size 432x288 with 1 Axes>"
      ]
     },
     "metadata": {
      "needs_background": "light"
     },
     "output_type": "display_data"
    }
   ],
   "source": [
    "plt.plot(x, y,\"o\")\n",
    "plt.plot(x,a_1 + b_1*x)\n",
    "plt.xlabel('size')\n",
    "plt.ylabel('rent')\n",
    "plt.show()"
   ]
  },
  {
   "cell_type": "markdown",
   "id": "99ea87b9-bb16-49eb-9d56-b996ae82a880",
   "metadata": {},
   "source": [
    "上の表の内容を説明します。まず再掲します。"
   ]
  },
  {
   "cell_type": "code",
   "execution_count": 85,
   "id": "a8188846-c35a-4afe-89a0-0c6c7cca3951",
   "metadata": {},
   "outputs": [
    {
     "name": "stdout",
     "output_type": "stream",
     "text": [
      "                            OLS Regression Results                            \n",
      "==============================================================================\n",
      "Dep. Variable:                   rent   R-squared:                       0.708\n",
      "Model:                            OLS   Adj. R-squared:                  0.705\n",
      "Method:                 Least Squares   F-statistic:                     334.0\n",
      "Date:                Sun, 22 May 2022   Prob (F-statistic):           1.14e-38\n",
      "Time:                        16:06:50   Log-Likelihood:                -1493.4\n",
      "No. Observations:                 140   AIC:                             2991.\n",
      "Df Residuals:                     138   BIC:                             2997.\n",
      "Df Model:                           1                                         \n",
      "Covariance Type:            nonrobust                                         \n",
      "==============================================================================\n",
      "                 coef    std err          t      P>|t|      [0.025      0.975]\n",
      "------------------------------------------------------------------------------\n",
      "const       4.579e+04   3179.976     14.400      0.000    3.95e+04    5.21e+04\n",
      "size        2075.1455    113.553     18.275      0.000    1850.617    2299.674\n",
      "==============================================================================\n",
      "Omnibus:                        6.374   Durbin-Watson:                   1.308\n",
      "Prob(Omnibus):                  0.041   Jarque-Bera (JB):                6.691\n",
      "Skew:                           0.352   Prob(JB):                       0.0352\n",
      "Kurtosis:                       3.808   Cond. No.                         101.\n",
      "==============================================================================\n",
      "\n",
      "Notes:\n",
      "[1] Standard Errors assume that the covariance matrix of the errors is correctly specified.\n"
     ]
    }
   ],
   "source": [
    "print(result_1.summary())"
   ]
  },
  {
   "cell_type": "markdown",
   "id": "f7e15099-456f-4e19-a5a8-c2f2e3cefccd",
   "metadata": {},
   "source": [
    "項目をかいつまんで説明します。  \n",
    "- Dep. Variable: rent       ：従属変数は'rent'です。  \n",
    "- Model: OLS                ：モデル化のために最小二乗法（Ordinary Least Square）を使いました。  \n",
    "- No. Observations: 140     ：データの数です。  \n",
    "- Df Residuals: 138         ：データの自由度です。  \n",
    "- Df Model: 1               ：モデルの自由度です。$\\hat{\\alpha}$と$\\hat{\\beta}$の２つの変数なので、2-1 = 1。  \n",
    "- R-squared: 0.708          ：上で示した決定係数$R^2$が0.708です。  \n",
    "- Adj. R-squared: 0.705     ：重回帰分析のときに効いてくる指標です。説明変数を増やすとペナルティとして$R^2$を減らされます。   \n",
    "- F-statistics　　　　　　  ：データとモデルの自由度を考慮して、$S_R$と$S_e$を比較する指標です。大きいほど帰無仮説（回帰係数が0）のもとで稀な事象となります。\n",
    "- Prob(F-statistics)　　　　：帰無仮説のもとで上記F-statistics以上の値を得る確率です。\n",
    "- AIC: ：モデルへの当てはまりの良さを表します。小さいほど良いとされています。  \n",
    "- const とsizeのcoef: ：上述した、回帰係数です。  \n",
    "- std err: ：回帰係数の標準誤差です。  \n",
    "- t: ：帰無仮説のもとでのt統計値です。  \n",
    "- P>|t| ：P-値です。統計値がこの値よりも極端な値となる確率です。。  \n",
    "-  \\[0.025      0.975\\]: ：回帰係数$\\hat{\\beta}$の95%信頼区間です。"
   ]
  },
  {
   "cell_type": "markdown",
   "id": "71387a2f-be7d-4db2-bc3f-17689eddfd53",
   "metadata": {},
   "source": [
    "#### 例題"
   ]
  },
  {
   "cell_type": "markdown",
   "id": "b00bf22e-1f3b-4cf7-a8cd-b2752f235d48",
   "metadata": {},
   "source": [
    "さきほどの、身長と体重との関係について、次のステップで回帰分析を行いましょう。"
   ]
  },
  {
   "cell_type": "code",
   "execution_count": 7,
   "id": "083c7ce9-4c2f-40f6-b6c6-f4b0c1133895",
   "metadata": {},
   "outputs": [],
   "source": [
    "import statsmodels.formula.api as smf\n",
    "import statsmodels.api as sm"
   ]
  },
  {
   "cell_type": "markdown",
   "id": "689854ba-78d7-474b-9cea-b239f874f117",
   "metadata": {},
   "source": [
    "データフレームdf_hwからxとyに相当するもの（それぞれ身長hと体重w）をデータフレームから取り出しましょう。.loc[;,列名]メソッドで取り出します。"
   ]
  },
  {
   "cell_type": "code",
   "execution_count": 10,
   "id": "a4ae3f0b-135e-47c2-9105-e5e7af759756",
   "metadata": {},
   "outputs": [],
   "source": [
    "h = df_hw.loc[:,'Height']"
   ]
  },
  {
   "cell_type": "code",
   "execution_count": 13,
   "id": "6c44460b-d417-4dab-9d3e-f0b50f2cefbb",
   "metadata": {},
   "outputs": [],
   "source": [
    "w = df_hw.loc[:,'Weight']"
   ]
  },
  {
   "cell_type": "markdown",
   "id": "aa4f9d6f-145a-46e2-ace1-2bd199b1bf6a",
   "metadata": {},
   "source": [
    "身長hに定数項を設定しましょう。sm.add_constant()関数を用います。"
   ]
  },
  {
   "cell_type": "code",
   "execution_count": 16,
   "id": "d0ddecac-e917-4c5b-8559-914334347e27",
   "metadata": {},
   "outputs": [],
   "source": [
    "h1 = sm.add_constant(h)"
   ]
  },
  {
   "cell_type": "markdown",
   "id": "c7c1ccf8-515d-4d1a-bea4-f990686a4363",
   "metadata": {},
   "source": [
    "モデルを設定しましょう。sm.OLS(y,x)関数を使います。xには必要に応じて定数項が付加されている必要があります。"
   ]
  },
  {
   "cell_type": "code",
   "execution_count": 17,
   "id": "2e8cc135-bf5a-4923-8dbd-8cb3238e61c9",
   "metadata": {},
   "outputs": [],
   "source": [
    "model_hw = sm.OLS(w,h1)"
   ]
  },
  {
   "cell_type": "markdown",
   "id": "33d36f7f-e265-4d69-a186-902f12e2d812",
   "metadata": {},
   "source": [
    "回帰分析を実行して、結果の詳細を表示しましょう。"
   ]
  },
  {
   "cell_type": "code",
   "execution_count": 18,
   "id": "40777d78-7f21-44e4-8dd5-a12c22b63303",
   "metadata": {},
   "outputs": [],
   "source": [
    "result_hw = model_hw.fit()"
   ]
  },
  {
   "cell_type": "code",
   "execution_count": 20,
   "id": "2d2159e8-56b0-49d3-9213-898e1352138e",
   "metadata": {},
   "outputs": [
    {
     "name": "stdout",
     "output_type": "stream",
     "text": [
      "                            OLS Regression Results                            \n",
      "==============================================================================\n",
      "Dep. Variable:                 Weight   R-squared:                       0.465\n",
      "Model:                            OLS   Adj. R-squared:                  0.398\n",
      "Method:                 Least Squares   F-statistic:                     6.956\n",
      "Date:                Fri, 01 Jul 2022   Prob (F-statistic):             0.0298\n",
      "Time:                        01:25:52   Log-Likelihood:                -29.175\n",
      "No. Observations:                  10   AIC:                             62.35\n",
      "Df Residuals:                       8   BIC:                             62.95\n",
      "Df Model:                           1                                         \n",
      "Covariance Type:            nonrobust                                         \n",
      "==============================================================================\n",
      "                 coef    std err          t      P>|t|      [0.025      0.975]\n",
      "------------------------------------------------------------------------------\n",
      "const        -61.8937     43.743     -1.415      0.195    -162.766      38.979\n",
      "Height         0.7219      0.274      2.637      0.030       0.091       1.353\n",
      "==============================================================================\n",
      "Omnibus:                        0.969   Durbin-Watson:                   2.006\n",
      "Prob(Omnibus):                  0.616   Jarque-Bera (JB):                0.622\n",
      "Skew:                          -0.005   Prob(JB):                        0.733\n",
      "Kurtosis:                       1.778   Cond. No.                     4.42e+03\n",
      "==============================================================================\n",
      "\n",
      "Notes:\n",
      "[1] Standard Errors assume that the covariance matrix of the errors is correctly specified.\n",
      "[2] The condition number is large, 4.42e+03. This might indicate that there are\n",
      "strong multicollinearity or other numerical problems.\n"
     ]
    },
    {
     "name": "stderr",
     "output_type": "stream",
     "text": [
      "E:\\PythonUSB\\PythonUSB\\Python\\python-3.9.9\\lib\\site-packages\\scipy\\stats\\stats.py:1541: UserWarning: kurtosistest only valid for n>=20 ... continuing anyway, n=10\n",
      "  warnings.warn(\"kurtosistest only valid for n>=20 ... continuing \"\n"
     ]
    }
   ],
   "source": [
    "print(result_hw.summary())"
   ]
  },
  {
   "cell_type": "markdown",
   "id": "804eec29-bcb9-46eb-b21e-995ee2eeec06",
   "metadata": {},
   "source": [
    "$R^2$が0.465と、それほどは高くはないことがわかります。身長以外の要因もかなり関係するであろうことがわかります。"
   ]
  },
  {
   "cell_type": "markdown",
   "id": "ff7e3dbe-1e3d-44d8-9c1d-1f10bc1018bf",
   "metadata": {},
   "source": [
    "しかし、$\\beta$つまり身長$h$の係数は正で、$P-$値は0.030つまり5%水準で有意で、95%信頼区間は正の範囲にあります。要するに、身長は体重に関係していると言ってよいことがわかります。"
   ]
  },
  {
   "cell_type": "markdown",
   "id": "0fa30a43-215f-458b-bdd5-f7731cefe77b",
   "metadata": {},
   "source": [
    "回帰モデルのパラメータを抽出しましょう。"
   ]
  },
  {
   "cell_type": "code",
   "execution_count": 22,
   "id": "06f52432-e2b2-41bd-9776-ca61fbb84249",
   "metadata": {},
   "outputs": [
    {
     "data": {
      "text/plain": [
       "-61.893744387907816"
      ]
     },
     "execution_count": 22,
     "metadata": {},
     "output_type": "execute_result"
    }
   ],
   "source": [
    "a_2 = result_hw.params[0]\n",
    "a_2"
   ]
  },
  {
   "cell_type": "code",
   "execution_count": 24,
   "id": "78f7bcbd-377c-4626-8a65-4623cdc3cc6e",
   "metadata": {},
   "outputs": [
    {
     "data": {
      "text/plain": [
       "0.7219395390601615"
      ]
     },
     "execution_count": 24,
     "metadata": {},
     "output_type": "execute_result"
    }
   ],
   "source": [
    "b_2 = result_hw.params[1]\n",
    "b_2"
   ]
  },
  {
   "cell_type": "markdown",
   "id": "7048d06f-9dbb-4cb5-9d0d-4611b6c35f08",
   "metadata": {},
   "source": [
    "データをプロットし、回帰直線を図示しましょう。"
   ]
  },
  {
   "cell_type": "code",
   "execution_count": 25,
   "id": "bdd21bc0-bc61-40a5-ab1f-aec3f9ba165a",
   "metadata": {},
   "outputs": [
    {
     "data": {
      "image/png": "[encoded data removed]",
      "text/plain": [
       "<Figure size 432x288 with 1 Axes>"
      ]
     },
     "metadata": {
      "needs_background": "light"
     },
     "output_type": "display_data"
    }
   ],
   "source": [
    "plt.plot(h, w,\"o\")\n",
    "plt.plot(h,a_2 + b_2*h)\n",
    "plt.xlabel('Height')\n",
    "plt.ylabel('Weight')\n",
    "plt.show()"
   ]
  },
  {
   "cell_type": "code",
   "execution_count": null,
   "id": "6ee45e45-588f-4aae-9c12-d7af31cdd1e6",
   "metadata": {},
   "outputs": [],
   "source": []
  },
  {
   "cell_type": "markdown",
   "id": "b06e21d6-90b3-46c3-8e71-115ece5be246",
   "metadata": {
    "tags": []
   },
   "source": [
    "### 補足：線形モデルの妥当性"
   ]
  },
  {
   "cell_type": "markdown",
   "id": "1d651daa-8fec-4a4d-a062-ba54a74d0196",
   "metadata": {},
   "source": [
    "上に示したサマリーの、下のほうの欄は、線形モデルを使うことの適切性についての指標です。"
   ]
  },
  {
   "cell_type": "markdown",
   "id": "b8479ecd-2bb2-4009-bff3-b1f723b08706",
   "metadata": {},
   "source": [
    "Omnibus, Prob(Omnibus): ：Omnibusの値が小さく、Prob(Omnibus)の値が1に近いほど、残差の分布が正規分布に近くなります。  \n",
    "とはいえ、具体的にどれだけであるべきかについての決まりはありません。  \n",
    "そこで、残差をヒストグラムにして調べてみます。"
   ]
  },
  {
   "cell_type": "code",
   "execution_count": 92,
   "id": "a6cfac0f-dc4b-4ea8-a725-e4bf7714f9f6",
   "metadata": {},
   "outputs": [
    {
     "data": {
      "text/plain": [
       "(array([ 2.,  0., 12., 32., 36., 30., 13., 13.,  0.,  2.]),\n",
       " array([-31300.17283685, -24774.73636911, -18249.29990138, -11723.86343365,\n",
       "         -5198.42696591,   1327.00950182,   7852.44596955,  14377.88243729,\n",
       "         20903.31890502,  27428.75537275,  33954.19184049]),\n",
       " <BarContainer object of 10 artists>)"
      ]
     },
     "execution_count": 92,
     "metadata": {},
     "output_type": "execute_result"
    },
    {
     "data": {
      "image/png": "[encoded data removed]",
      "text/plain": [
       "<Figure size 432x288 with 1 Axes>"
      ]
     },
     "metadata": {
      "needs_background": "light"
     },
     "output_type": "display_data"
    }
   ],
   "source": [
    "plt.hist(result_1.resid)"
   ]
  },
  {
   "cell_type": "markdown",
   "id": "6691a607-8fa7-49a8-8cfc-157f09894333",
   "metadata": {},
   "source": [
    "残差のskewness（歪度：正に大きいほど右すそが大きく、負に大きいほど左すそが大きい）とkurtosis（尖度：大きいほど分布がとがる）は、それぞれ、SkewとKurtosisに表されています。"
   ]
  },
  {
   "cell_type": "markdown",
   "id": "db10883c-de81-4d97-8d2e-71a1c89e7358",
   "metadata": {},
   "source": [
    "次に、sizeと残差の関係を散布図で見てみましょう。"
   ]
  },
  {
   "cell_type": "code",
   "execution_count": 90,
   "id": "dddcf92b-b7f2-453d-8a83-95140c78230b",
   "metadata": {},
   "outputs": [
    {
     "data": {
      "text/plain": [
       "<matplotlib.collections.PathCollection at 0x227d87c0940>"
      ]
     },
     "execution_count": 90,
     "metadata": {},
     "output_type": "execute_result"
    },
    {
     "data": {
      "image/png": "[encoded data removed]",
      "text/plain": [
       "<Figure size 432x288 with 1 Axes>"
      ]
     },
     "metadata": {
      "needs_background": "light"
     },
     "output_type": "display_data"
    }
   ],
   "source": [
    "plt.scatter(x,result_1.resid)"
   ]
  },
  {
   "cell_type": "markdown",
   "id": "15bd924e-e5f1-4ec1-a883-d24ac097c458",
   "metadata": {},
   "source": [
    "sizeが大きくなるほど残差の絶対値が大きくなる傾向が見て取れます。"
   ]
  },
  {
   "cell_type": "markdown",
   "id": "6981b430-9281-4eed-9763-377784c43f22",
   "metadata": {
    "tags": []
   },
   "source": [
    "### さらに補足：lmdiagを使った線形モデルの妥当性の検討"
   ]
  },
  {
   "cell_type": "markdown",
   "id": "2fdf889b-931e-47cb-9a8b-476130101f69",
   "metadata": {},
   "source": [
    "lmdiagというツールで、線形モデルの妥当性を検討することができます。"
   ]
  },
  {
   "cell_type": "code",
   "execution_count": 94,
   "id": "d1c59f10-c18a-4867-9a77-68a29416956b",
   "metadata": {},
   "outputs": [
    {
     "name": "stdout",
     "output_type": "stream",
     "text": [
      "Note: you may need to restart the kernel to use updated packages.Collecting lmdiag\n",
      "  Downloading lmdiag-0.3.7-py3-none-any.whl (7.9 kB)\n",
      "Collecting linearmodels\n",
      "\n",
      "  Downloading linearmodels-4.26-cp39-cp39-win_amd64.whl (1.6 MB)\n",
      "     ---------------------------------------- 1.6/1.6 MB 7.8 MB/s eta 0:00:00\n",
      "Requirement already satisfied: pandas in e:\\pythonusb\\pythonusb\\python\\python-3.9.9\\lib\\site-packages (from lmdiag) (1.4.2)\n",
      "Requirement already satisfied: statsmodels in e:\\pythonusb\\pythonusb\\python\\python-3.9.9\\lib\\site-packages (from lmdiag) (0.13.2)\n",
      "Requirement already satisfied: matplotlib in e:\\pythonusb\\pythonusb\\python\\python-3.9.9\\lib\\site-packages (from lmdiag) (3.5.0)\n",
      "Requirement already satisfied: numpy in e:\\pythonusb\\pythonusb\\python\\python-3.9.9\\lib\\site-packages (from lmdiag) (1.21.4)\n"
     ]
    },
    {
     "name": "stderr",
     "output_type": "stream",
     "text": [
      "WARNING: You are using pip version 22.0.4; however, version 22.1 is available.\n",
      "You should consider upgrading via the 'E:\\PythonUSB\\PythonUSB\\Python\\python-3.9.9\\pythonw.exe -m pip install --upgrade pip' command.\n"
     ]
    },
    {
     "name": "stdout",
     "output_type": "stream",
     "text": [
      "Requirement already satisfied: scipy in e:\\pythonusb\\pythonusb\\python\\python-3.9.9\\lib\\site-packages (from lmdiag) (1.7.3)\n",
      "Collecting Cython>=0.29.21\n",
      "  Downloading Cython-0.29.30-py2.py3-none-any.whl (985 kB)\n",
      "     -------------------------------------- 985.1/985.1 KB 8.9 MB/s eta 0:00:00\n",
      "Collecting mypy-extensions>=0.4\n",
      "  Downloading mypy_extensions-0.4.3-py2.py3-none-any.whl (4.5 kB)\n",
      "Collecting formulaic~=0.3.2\n",
      "  Downloading formulaic-0.3.4-py3-none-any.whl (68 kB)\n",
      "     ---------------------------------------- 68.2/68.2 KB 3.6 MB/s eta 0:00:00\n",
      "Collecting pyhdfe>=0.1\n",
      "  Downloading pyhdfe-0.1.0-py3-none-any.whl (18 kB)\n",
      "Collecting property-cached>=1.6.3\n",
      "  Downloading property_cached-1.6.4-py2.py3-none-any.whl (7.8 kB)\n",
      "Requirement already satisfied: patsy in e:\\pythonusb\\pythonusb\\python\\python-3.9.9\\lib\\site-packages (from linearmodels->lmdiag) (0.5.2)\n",
      "Collecting setuptools-scm<7.0.0,>=6.4.2\n",
      "  Downloading setuptools_scm-6.4.2-py3-none-any.whl (37 kB)\n",
      "Requirement already satisfied: python-dateutil>=2.8.1 in e:\\pythonusb\\pythonusb\\python\\python-3.9.9\\lib\\site-packages (from pandas->lmdiag) (2.8.2)\n",
      "Requirement already satisfied: pytz>=2020.1 in e:\\pythonusb\\pythonusb\\python\\python-3.9.9\\lib\\site-packages (from pandas->lmdiag) (2021.3)\n",
      "Requirement already satisfied: packaging>=21.3 in e:\\pythonusb\\pythonusb\\python\\python-3.9.9\\lib\\site-packages (from statsmodels->lmdiag) (21.3)\n",
      "Requirement already satisfied: cycler>=0.10 in e:\\pythonusb\\pythonusb\\python\\python-3.9.9\\lib\\site-packages (from matplotlib->lmdiag) (0.11.0)\n",
      "Requirement already satisfied: kiwisolver>=1.0.1 in e:\\pythonusb\\pythonusb\\python\\python-3.9.9\\lib\\site-packages (from matplotlib->lmdiag) (1.3.2)\n",
      "Requirement already satisfied: pillow>=6.2.0 in e:\\pythonusb\\pythonusb\\python\\python-3.9.9\\lib\\site-packages (from matplotlib->lmdiag) (8.4.0)\n",
      "Requirement already satisfied: fonttools>=4.22.0 in e:\\pythonusb\\pythonusb\\python\\python-3.9.9\\lib\\site-packages (from matplotlib->lmdiag) (4.28.2)\n",
      "Requirement already satisfied: pyparsing>=2.2.1 in e:\\pythonusb\\pythonusb\\python\\python-3.9.9\\lib\\site-packages (from matplotlib->lmdiag) (3.0.6)\n",
      "Collecting astor>=0.8\n",
      "  Downloading astor-0.8.1-py2.py3-none-any.whl (27 kB)\n",
      "Collecting wrapt>=1.0\n",
      "  Downloading wrapt-1.14.1-cp39-cp39-win_amd64.whl (35 kB)\n",
      "Collecting interface-meta<2.0.0,>=1.2.0\n",
      "  Downloading interface_meta-1.3.0-py3-none-any.whl (14 kB)\n",
      "Requirement already satisfied: six in e:\\pythonusb\\pythonusb\\python\\python-3.9.9\\lib\\site-packages (from patsy->linearmodels->lmdiag) (1.16.0)\n",
      "Requirement already satisfied: tomli>=1.0.0 in e:\\pythonusb\\pythonusb\\python\\python-3.9.9\\lib\\site-packages (from setuptools-scm<7.0.0,>=6.4.2->linearmodels->lmdiag) (1.2.2)\n",
      "Requirement already satisfied: setuptools in e:\\pythonusb\\pythonusb\\python\\python-3.9.9\\lib\\site-packages (from setuptools-scm<7.0.0,>=6.4.2->linearmodels->lmdiag) (59.2.0)\n",
      "Installing collected packages: mypy-extensions, wrapt, property-cached, interface-meta, Cython, astor, setuptools-scm, pyhdfe, formulaic, linearmodels, lmdiag\n",
      "  Attempting uninstall: setuptools-scm\n",
      "    Found existing installation: setuptools-scm 6.3.2\n",
      "    Uninstalling setuptools-scm-6.3.2:\n",
      "      Successfully uninstalled setuptools-scm-6.3.2\n",
      "Successfully installed Cython-0.29.30 astor-0.8.1 formulaic-0.3.4 interface-meta-1.3.0 linearmodels-4.26 lmdiag-0.3.7 mypy-extensions-0.4.3 property-cached-1.6.4 pyhdfe-0.1.0 setuptools-scm-6.4.2 wrapt-1.14.1\n"
     ]
    }
   ],
   "source": [
    "pip install lmdiag"
   ]
  },
  {
   "cell_type": "code",
   "execution_count": 10,
   "id": "b0b40f1d-f64d-4b09-b143-3ff22ec2710b",
   "metadata": {},
   "outputs": [],
   "source": [
    "import lmdiag"
   ]
  },
  {
   "cell_type": "markdown",
   "id": "62a9df01-5d5e-4a19-a50d-525481925892",
   "metadata": {},
   "source": [
    "lmdiag.resid_fit()関数で、理想的な残差からどの程度乖離しているか視覚的にチェックすることができます。  \n",
    "出力されるグラフは、横軸が予測値、縦軸が残差です。"
   ]
  },
  {
   "cell_type": "code",
   "execution_count": 12,
   "id": "27b0f06f-004e-4456-a059-80ac70b2cc4a",
   "metadata": {},
   "outputs": [
    {
     "data": {
      "text/plain": [
       "<module 'matplotlib.pyplot' from 'E:\\\\PythonUSB\\\\PythonUSB\\\\Python\\\\python-3.9.9\\\\lib\\\\site-packages\\\\matplotlib\\\\pyplot.py'>"
      ]
     },
     "execution_count": 12,
     "metadata": {},
     "output_type": "execute_result"
    },
    {
     "data": {
      "image/png": "[encoded data removed]",
      "text/plain": [
       "<Figure size 432x288 with 1 Axes>"
      ]
     },
     "metadata": {
      "needs_background": "light"
     },
     "output_type": "display_data"
    }
   ],
   "source": [
    "lmdiag.resid_fit(result_1)"
   ]
  },
  {
   "cell_type": "markdown",
   "id": "61d3635a-8a7e-47b6-a6aa-49d6dbfc76d5",
   "metadata": {},
   "source": [
    "また、QQプロットというものも行われます。Qとは、quantile（分位数）のことです。これは、横軸に正規分布の理論値を、縦軸に、標準化残差（standardized residuals）をプロットしたものです。標準化残差とは平均0，分散1に変換した残差のことです。"
   ]
  },
  {
   "cell_type": "code",
   "execution_count": 12,
   "id": "8397cea5-b96d-403a-a976-1a0ff463011f",
   "metadata": {},
   "outputs": [
    {
     "data": {
      "text/plain": [
       "<module 'matplotlib.pyplot' from 'E:\\\\PythonUSB\\\\PythonUSB\\\\Python\\\\python-3.9.9\\\\lib\\\\site-packages\\\\matplotlib\\\\pyplot.py'>"
      ]
     },
     "execution_count": 12,
     "metadata": {},
     "output_type": "execute_result"
    },
    {
     "data": {
      "image/png": "[encoded data removed]",
      "text/plain": [
       "<Figure size 432x288 with 1 Axes>"
      ]
     },
     "metadata": {
      "needs_background": "light"
     },
     "output_type": "display_data"
    }
   ],
   "source": [
    "lmdiag.q_q(result_1)"
   ]
  },
  {
   "cell_type": "markdown",
   "id": "3d16e690-d670-41b5-b4d9-b29034e58022",
   "metadata": {},
   "source": [
    "この結果が、上の赤い点線で示した45°の線上に乗っていれば残差は正規分布に従って分布しています。しかし、多くの点がそこから外れていると、残差が正規分布するといえなくなり、線形モデルの適用を見直す必要があります。"
   ]
  },
  {
   "cell_type": "markdown",
   "id": "b9f53845-675b-4dfb-9528-10baafdc9243",
   "metadata": {},
   "source": [
    "StatsmodelsにもQQプロットをする機能があります。"
   ]
  },
  {
   "cell_type": "code",
   "execution_count": 13,
   "id": "48fe80f0-bb73-4003-95ef-cfa7998b91c5",
   "metadata": {},
   "outputs": [
    {
     "data": {
      "image/png": "[encoded data removed]",
      "text/plain": [
       "<Figure size 432x288 with 1 Axes>"
      ]
     },
     "execution_count": 13,
     "metadata": {},
     "output_type": "execute_result"
    },
    {
     "data": {
      "image/png": "[encoded data removed]",
      "text/plain": [
       "<Figure size 432x288 with 1 Axes>"
      ]
     },
     "metadata": {
      "needs_background": "light"
     },
     "output_type": "display_data"
    }
   ],
   "source": [
    "sm.qqplot(result_1.resid,line=\"s\")"
   ]
  },
  {
   "cell_type": "markdown",
   "id": "e4147479-e87e-4d2e-ae47-34b9a7b12b67",
   "metadata": {},
   "source": [
    "## 重回帰分析"
   ]
  },
  {
   "cell_type": "markdown",
   "id": "0db7b1b8-6f0b-4fba-81dc-609b4987e76c",
   "metadata": {},
   "source": [
    "これまで、説明変数が１個の単回帰分析を扱ってきました。説明変数が２個以上の場合、重回帰分析といいます。"
   ]
  },
  {
   "cell_type": "markdown",
   "id": "e4bc6173-f92d-4925-8ace-e6f9f8c3b4ad",
   "metadata": {},
   "source": [
    "説明変数が$p$個のとき、線形重回帰モデルは、$$y_i = \\alpha + \\beta_1 x_i + \\beta_2 x_i + ... + \\beta_p x_i + e_i$$ ただし$i = 1, 2, ... n$ ($n$はデータの数)となります。"
   ]
  },
  {
   "cell_type": "markdown",
   "id": "cbaf18d5-b38b-44ee-9205-a81d4ccc3037",
   "metadata": {},
   "source": [
    "データから、当てはめ値$\\hat{\\alpha}, \\hat{\\beta}_1, ,\\hat{\\beta}_2, ... \\hat{\\beta}_p$を求めることができます。"
   ]
  },
  {
   "cell_type": "markdown",
   "id": "7b7b72dc-4aba-44c4-a668-453f7ee98f98",
   "metadata": {},
   "source": [
    "### Statsmodelsを用いた線形重回帰分析"
   ]
  },
  {
   "cell_type": "markdown",
   "id": "1b67b85b-7c01-494d-9b20-2544d6255a65",
   "metadata": {},
   "source": [
    "#### 量的変数を加えた場合"
   ]
  },
  {
   "cell_type": "markdown",
   "id": "5d7c7a9c-c5d6-4945-97e3-536f0d288c73",
   "metadata": {},
   "source": [
    "家賃の線形モデルに築年数を加えてみます。"
   ]
  },
  {
   "cell_type": "code",
   "execution_count": 15,
   "id": "a524c9af-1dbb-4d92-b3f5-1de0300653f3",
   "metadata": {},
   "outputs": [],
   "source": [
    "x_2 = df_room.loc[:,['size','age']]\n",
    "y = df_room.loc[:,'rent']"
   ]
  },
  {
   "cell_type": "code",
   "execution_count": 16,
   "id": "d7b701a5-fdd6-4c24-8824-0fbcc63d8bf4",
   "metadata": {},
   "outputs": [],
   "source": [
    "X2 = sm.add_constant(x_2) #定数項の設定（先頭に値１のカラムを加える）"
   ]
  },
  {
   "cell_type": "code",
   "execution_count": 18,
   "id": "63fac280-0014-4c32-8fe7-e2b3fb364de0",
   "metadata": {},
   "outputs": [],
   "source": [
    "model_2 = sm.OLS(y,X2) # モデルの設定"
   ]
  },
  {
   "cell_type": "code",
   "execution_count": 19,
   "id": "2f4b1b73-4f36-426d-a00c-4a6808082649",
   "metadata": {},
   "outputs": [],
   "source": [
    "result_2 = model_2.fit() # 重回帰分析の実行"
   ]
  },
  {
   "cell_type": "code",
   "execution_count": 20,
   "id": "6111aef5-f482-43fe-a963-51663ba9c152",
   "metadata": {},
   "outputs": [
    {
     "name": "stdout",
     "output_type": "stream",
     "text": [
      "                            OLS Regression Results                            \n",
      "==============================================================================\n",
      "Dep. Variable:                   rent   R-squared:                       0.756\n",
      "Model:                            OLS   Adj. R-squared:                  0.752\n",
      "Method:                 Least Squares   F-statistic:                     212.3\n",
      "Date:                Mon, 23 May 2022   Prob (F-statistic):           1.07e-42\n",
      "Time:                        09:41:44   Log-Likelihood:                -1480.7\n",
      "No. Observations:                 140   AIC:                             2967.\n",
      "Df Residuals:                     137   BIC:                             2976.\n",
      "Df Model:                           2                                         \n",
      "Covariance Type:            nonrobust                                         \n",
      "==============================================================================\n",
      "                 coef    std err          t      P>|t|      [0.025      0.975]\n",
      "------------------------------------------------------------------------------\n",
      "const       4.552e+04   2915.615     15.613      0.000    3.98e+04    5.13e+04\n",
      "size        2402.2011    121.520     19.768      0.000    2161.903    2642.499\n",
      "age         -892.4534    171.086     -5.216      0.000   -1230.765    -554.142\n",
      "==============================================================================\n",
      "Omnibus:                        6.066   Durbin-Watson:                   1.469\n",
      "Prob(Omnibus):                  0.048   Jarque-Bera (JB):                8.993\n",
      "Skew:                           0.137   Prob(JB):                       0.0111\n",
      "Kurtosis:                       4.211   Cond. No.                         107.\n",
      "==============================================================================\n",
      "\n",
      "Notes:\n",
      "[1] Standard Errors assume that the covariance matrix of the errors is correctly specified.\n"
     ]
    }
   ],
   "source": [
    "print(result_2.summary())"
   ]
  },
  {
   "cell_type": "markdown",
   "id": "92dbfa77-3c96-4289-a5b2-bdbc9a71bfbb",
   "metadata": {},
   "source": [
    "この分析から、予測式は、家賃\\[円\\] = 45523.0 + 2402.2 x 広さ + (-892.5) x 築年数  \n",
    "となります。どちらの説明変数もt値の絶対値が十分大きく、従ってp値が0に近く、十分に有意です。  \n",
    "広さのみを説明変数とした場合とくらべて、Adjusted R-squaredの値が大きいのがわかります。"
   ]
  },
  {
   "cell_type": "markdown",
   "id": "7e4761b8-11d2-43fa-ba0e-890d17f1fcef",
   "metadata": {
    "tags": []
   },
   "source": [
    "#### 質的変数（ダミー変数）を加えた場合"
   ]
  },
  {
   "cell_type": "markdown",
   "id": "de1c983e-f40f-4946-9692-9ef61e1981a6",
   "metadata": {},
   "source": [
    "家賃データで、近さproximityは、Aのときに「近い」、Bのときに「遠い」を表します。そこで、Aに0を、Bに1を割り当てることで質的変数をあたかも量的変数のように扱うことができます。このような変数のことを**ダミー変数**といいます。"
   ]
  },
  {
   "cell_type": "markdown",
   "id": "0ec56841-d88a-4fd6-81bc-564123f61005",
   "metadata": {},
   "source": [
    "df_roomデータフレームから説明変数としてsizeとproximityを選び、proximityをダミー変数化します。  \n",
    "pandas.get_dummies()関数を用います。"
   ]
  },
  {
   "cell_type": "code",
   "execution_count": 24,
   "id": "768b3f11-3dcf-4541-8993-f35f06275d89",
   "metadata": {},
   "outputs": [
    {
     "data": {
      "text/html": [
       "<div>\n",
       "<style scoped>\n",
       "    .dataframe tbody tr th:only-of-type {\n",
       "        vertical-align: middle;\n",
       "    }\n",
       "\n",
       "    .dataframe tbody tr th {\n",
       "        vertical-align: top;\n",
       "    }\n",
       "\n",
       "    .dataframe thead th {\n",
       "        text-align: right;\n",
       "    }\n",
       "</style>\n",
       "<table border=\"1\" class=\"dataframe\">\n",
       "  <thead>\n",
       "    <tr style=\"text-align: right;\">\n",
       "      <th></th>\n",
       "      <th>size</th>\n",
       "      <th>proximity_A</th>\n",
       "      <th>proximity_B</th>\n",
       "    </tr>\n",
       "  </thead>\n",
       "  <tbody>\n",
       "    <tr>\n",
       "      <th>0</th>\n",
       "      <td>19</td>\n",
       "      <td>0</td>\n",
       "      <td>1</td>\n",
       "    </tr>\n",
       "    <tr>\n",
       "      <th>1</th>\n",
       "      <td>19</td>\n",
       "      <td>0</td>\n",
       "      <td>1</td>\n",
       "    </tr>\n",
       "    <tr>\n",
       "      <th>2</th>\n",
       "      <td>19</td>\n",
       "      <td>0</td>\n",
       "      <td>1</td>\n",
       "    </tr>\n",
       "    <tr>\n",
       "      <th>3</th>\n",
       "      <td>19</td>\n",
       "      <td>0</td>\n",
       "      <td>1</td>\n",
       "    </tr>\n",
       "    <tr>\n",
       "      <th>4</th>\n",
       "      <td>15</td>\n",
       "      <td>0</td>\n",
       "      <td>1</td>\n",
       "    </tr>\n",
       "    <tr>\n",
       "      <th>...</th>\n",
       "      <td>...</td>\n",
       "      <td>...</td>\n",
       "      <td>...</td>\n",
       "    </tr>\n",
       "    <tr>\n",
       "      <th>135</th>\n",
       "      <td>40</td>\n",
       "      <td>0</td>\n",
       "      <td>1</td>\n",
       "    </tr>\n",
       "    <tr>\n",
       "      <th>136</th>\n",
       "      <td>54</td>\n",
       "      <td>0</td>\n",
       "      <td>1</td>\n",
       "    </tr>\n",
       "    <tr>\n",
       "      <th>137</th>\n",
       "      <td>42</td>\n",
       "      <td>1</td>\n",
       "      <td>0</td>\n",
       "    </tr>\n",
       "    <tr>\n",
       "      <th>138</th>\n",
       "      <td>42</td>\n",
       "      <td>1</td>\n",
       "      <td>0</td>\n",
       "    </tr>\n",
       "    <tr>\n",
       "      <th>139</th>\n",
       "      <td>41</td>\n",
       "      <td>0</td>\n",
       "      <td>1</td>\n",
       "    </tr>\n",
       "  </tbody>\n",
       "</table>\n",
       "<p>140 rows × 3 columns</p>\n",
       "</div>"
      ],
      "text/plain": [
       "     size  proximity_A  proximity_B\n",
       "0      19            0            1\n",
       "1      19            0            1\n",
       "2      19            0            1\n",
       "3      19            0            1\n",
       "4      15            0            1\n",
       "..    ...          ...          ...\n",
       "135    40            0            1\n",
       "136    54            0            1\n",
       "137    42            1            0\n",
       "138    42            1            0\n",
       "139    41            0            1\n",
       "\n",
       "[140 rows x 3 columns]"
      ]
     },
     "execution_count": 24,
     "metadata": {},
     "output_type": "execute_result"
    }
   ],
   "source": [
    "pd.get_dummies(df_room[['size','proximity']])"
   ]
  },
  {
   "cell_type": "markdown",
   "id": "680d51b8-a78c-47d1-ae96-535eced7e13e",
   "metadata": {},
   "source": [
    "上がその結果得られるデータフレームです。問題は、近さの指標としてproximity_Aかproximity_Bのどちらを使うかです。  \n",
    "遠いと家賃が下がることを想定しているので、遠いとフラグが立つほう、つまり、proximity_Bを選びます。\n",
    "説明変数としてsizeとproximity_Bを採用し、また、先頭に定数カラムをつくります。  \n",
    "次の命令では、loc[]の使い方にも注意してください。"
   ]
  },
  {
   "cell_type": "code",
   "execution_count": 34,
   "id": "4714e001-fd33-405c-943d-556c8130bb23",
   "metadata": {},
   "outputs": [],
   "source": [
    "x_3 = pd.get_dummies(df_room[['size','proximity']]).loc[:,['size','proximity_B']]"
   ]
  },
  {
   "cell_type": "code",
   "execution_count": 35,
   "id": "9a4a4ad6-88f3-4f3d-928c-12cc8172a3d2",
   "metadata": {},
   "outputs": [
    {
     "data": {
      "text/html": [
       "<div>\n",
       "<style scoped>\n",
       "    .dataframe tbody tr th:only-of-type {\n",
       "        vertical-align: middle;\n",
       "    }\n",
       "\n",
       "    .dataframe tbody tr th {\n",
       "        vertical-align: top;\n",
       "    }\n",
       "\n",
       "    .dataframe thead th {\n",
       "        text-align: right;\n",
       "    }\n",
       "</style>\n",
       "<table border=\"1\" class=\"dataframe\">\n",
       "  <thead>\n",
       "    <tr style=\"text-align: right;\">\n",
       "      <th></th>\n",
       "      <th>size</th>\n",
       "      <th>proximity_B</th>\n",
       "    </tr>\n",
       "  </thead>\n",
       "  <tbody>\n",
       "    <tr>\n",
       "      <th>0</th>\n",
       "      <td>19</td>\n",
       "      <td>1</td>\n",
       "    </tr>\n",
       "    <tr>\n",
       "      <th>1</th>\n",
       "      <td>19</td>\n",
       "      <td>1</td>\n",
       "    </tr>\n",
       "    <tr>\n",
       "      <th>2</th>\n",
       "      <td>19</td>\n",
       "      <td>1</td>\n",
       "    </tr>\n",
       "    <tr>\n",
       "      <th>3</th>\n",
       "      <td>19</td>\n",
       "      <td>1</td>\n",
       "    </tr>\n",
       "    <tr>\n",
       "      <th>4</th>\n",
       "      <td>15</td>\n",
       "      <td>1</td>\n",
       "    </tr>\n",
       "    <tr>\n",
       "      <th>...</th>\n",
       "      <td>...</td>\n",
       "      <td>...</td>\n",
       "    </tr>\n",
       "    <tr>\n",
       "      <th>135</th>\n",
       "      <td>40</td>\n",
       "      <td>1</td>\n",
       "    </tr>\n",
       "    <tr>\n",
       "      <th>136</th>\n",
       "      <td>54</td>\n",
       "      <td>1</td>\n",
       "    </tr>\n",
       "    <tr>\n",
       "      <th>137</th>\n",
       "      <td>42</td>\n",
       "      <td>0</td>\n",
       "    </tr>\n",
       "    <tr>\n",
       "      <th>138</th>\n",
       "      <td>42</td>\n",
       "      <td>0</td>\n",
       "    </tr>\n",
       "    <tr>\n",
       "      <th>139</th>\n",
       "      <td>41</td>\n",
       "      <td>1</td>\n",
       "    </tr>\n",
       "  </tbody>\n",
       "</table>\n",
       "<p>140 rows × 2 columns</p>\n",
       "</div>"
      ],
      "text/plain": [
       "     size  proximity_B\n",
       "0      19            1\n",
       "1      19            1\n",
       "2      19            1\n",
       "3      19            1\n",
       "4      15            1\n",
       "..    ...          ...\n",
       "135    40            1\n",
       "136    54            1\n",
       "137    42            0\n",
       "138    42            0\n",
       "139    41            1\n",
       "\n",
       "[140 rows x 2 columns]"
      ]
     },
     "execution_count": 35,
     "metadata": {},
     "output_type": "execute_result"
    }
   ],
   "source": [
    "x_3"
   ]
  },
  {
   "cell_type": "code",
   "execution_count": 36,
   "id": "c3f48f25-71cf-4f3c-979a-c7c20d3080a3",
   "metadata": {
    "tags": []
   },
   "outputs": [],
   "source": [
    "X3 = sm.add_constant(x_3)"
   ]
  },
  {
   "cell_type": "markdown",
   "id": "167e2798-88be-4eb3-8b5d-ea7afacf053e",
   "metadata": {},
   "source": [
    "モデルを作り、重回帰分析を行い、結果を表示します。"
   ]
  },
  {
   "cell_type": "code",
   "execution_count": 37,
   "id": "2b5ca61a-1ee4-4423-ba53-0f47b61eab81",
   "metadata": {},
   "outputs": [],
   "source": [
    "model_3 = sm.OLS(y,X3)"
   ]
  },
  {
   "cell_type": "code",
   "execution_count": 38,
   "id": "b6c541a6-775b-4318-97e0-e4a631ac0efd",
   "metadata": {},
   "outputs": [],
   "source": [
    "result_3 = model_3.fit() "
   ]
  },
  {
   "cell_type": "code",
   "execution_count": 39,
   "id": "63fdc4ca-6d89-4eee-b25e-f83a0d522dc4",
   "metadata": {},
   "outputs": [
    {
     "name": "stdout",
     "output_type": "stream",
     "text": [
      "                            OLS Regression Results                            \n",
      "==============================================================================\n",
      "Dep. Variable:                   rent   R-squared:                       0.760\n",
      "Model:                            OLS   Adj. R-squared:                  0.756\n",
      "Method:                 Least Squares   F-statistic:                     216.9\n",
      "Date:                Mon, 23 May 2022   Prob (F-statistic):           3.55e-43\n",
      "Time:                        10:56:39   Log-Likelihood:                -1479.6\n",
      "No. Observations:                 140   AIC:                             2965.\n",
      "Df Residuals:                     137   BIC:                             2974.\n",
      "Df Model:                           2                                         \n",
      "Covariance Type:            nonrobust                                         \n",
      "===============================================================================\n",
      "                  coef    std err          t      P>|t|      [0.025      0.975]\n",
      "-------------------------------------------------------------------------------\n",
      "const        4.757e+04   2910.072     16.348      0.000    4.18e+04    5.33e+04\n",
      "size         2177.3425    104.940     20.748      0.000    1969.831    2384.854\n",
      "proximity_B -8934.1895   1634.441     -5.466      0.000   -1.22e+04   -5702.194\n",
      "==============================================================================\n",
      "Omnibus:                        3.774   Durbin-Watson:                   1.557\n",
      "Prob(Omnibus):                  0.152   Jarque-Bera (JB):                3.881\n",
      "Skew:                           0.179   Prob(JB):                        0.144\n",
      "Kurtosis:                       3.733   Cond. No.                         102.\n",
      "==============================================================================\n",
      "\n",
      "Notes:\n",
      "[1] Standard Errors assume that the covariance matrix of the errors is correctly specified.\n"
     ]
    }
   ],
   "source": [
    "print(result_3.summary())"
   ]
  },
  {
   "cell_type": "markdown",
   "id": "a6e60776-16c8-43cc-8cc3-a9cdc4144122",
   "metadata": {},
   "source": [
    "この分析から、予測式は、家賃\\[円\\] = 47570 + 2177.3 x 広さ + (-8934.2) x 近さ  \n",
    "となります。どちらの説明変数もt値の絶対値が十分大きく、従ってp値が0に近く、十分に有意です。  \n",
    "広さのみを説明変数とした場合とくらべて、Adjusted R-squaredの値が大きいのがわかります。"
   ]
  },
  {
   "cell_type": "markdown",
   "id": "755b8d41-83bd-46cf-a546-57dffed29ec2",
   "metadata": {},
   "source": [
    "以上から、２つめのモデル－広さと築年数－でも、３つめのモデル－広さと駅からの近さ－でも家賃をよく説明できると考えられます。"
   ]
  },
  {
   "cell_type": "markdown",
   "id": "383b2750-ddd9-4b06-9ffc-59613f9f487d",
   "metadata": {},
   "source": [
    "### 重回帰分析の残差分析"
   ]
  },
  {
   "cell_type": "markdown",
   "id": "b6b501bb-ab6a-45cc-b5c1-06127353f001",
   "metadata": {},
   "source": [
    "単回帰分析と同様に、残差分析ができます。"
   ]
  },
  {
   "cell_type": "code",
   "execution_count": 41,
   "id": "34d0408f-7e45-4c2e-803d-f7b5d5025ba3",
   "metadata": {},
   "outputs": [],
   "source": [
    "import lmdiag"
   ]
  },
  {
   "cell_type": "code",
   "execution_count": 42,
   "id": "4b30d803-c375-4c41-8cf0-95ef520a7d38",
   "metadata": {},
   "outputs": [
    {
     "data": {
      "text/plain": [
       "<module 'matplotlib.pyplot' from 'E:\\\\PythonUSB\\\\PythonUSB\\\\Python\\\\python-3.9.9\\\\lib\\\\site-packages\\\\matplotlib\\\\pyplot.py'>"
      ]
     },
     "execution_count": 42,
     "metadata": {},
     "output_type": "execute_result"
    },
    {
     "data": {
      "image/png": "[encoded data removed]",
      "text/plain": [
       "<Figure size 432x288 with 1 Axes>"
      ]
     },
     "metadata": {
      "needs_background": "light"
     },
     "output_type": "display_data"
    }
   ],
   "source": [
    "lmdiag.resid_fit(result_2)"
   ]
  },
  {
   "cell_type": "code",
   "execution_count": 43,
   "id": "860cafe5-a74a-448c-91ee-58011b136b04",
   "metadata": {},
   "outputs": [
    {
     "data": {
      "text/plain": [
       "<module 'matplotlib.pyplot' from 'E:\\\\PythonUSB\\\\PythonUSB\\\\Python\\\\python-3.9.9\\\\lib\\\\site-packages\\\\matplotlib\\\\pyplot.py'>"
      ]
     },
     "execution_count": 43,
     "metadata": {},
     "output_type": "execute_result"
    },
    {
     "data": {
      "image/png": "[encoded data removed]",
      "text/plain": [
       "<Figure size 432x288 with 1 Axes>"
      ]
     },
     "metadata": {
      "needs_background": "light"
     },
     "output_type": "display_data"
    }
   ],
   "source": [
    "lmdiag.resid_fit(result_3)"
   ]
  },
  {
   "cell_type": "markdown",
   "id": "bd9dff49-26da-4765-8cd1-bd66b352b702",
   "metadata": {},
   "source": [
    "予測値－残差プロットでは、モデル２－広さと築年数－もモデル３－広さと駅からの近さ－のどちらも単回帰分析のときより良さそうに見えます。"
   ]
  },
  {
   "cell_type": "code",
   "execution_count": 44,
   "id": "01c9deae-fb5f-41c9-b43b-929b0aeec094",
   "metadata": {},
   "outputs": [
    {
     "data": {
      "text/plain": [
       "<module 'matplotlib.pyplot' from 'E:\\\\PythonUSB\\\\PythonUSB\\\\Python\\\\python-3.9.9\\\\lib\\\\site-packages\\\\matplotlib\\\\pyplot.py'>"
      ]
     },
     "execution_count": 44,
     "metadata": {},
     "output_type": "execute_result"
    },
    {
     "data": {
      "image/png": "[encoded data removed]",
      "text/plain": [
       "<Figure size 432x288 with 1 Axes>"
      ]
     },
     "metadata": {
      "needs_background": "light"
     },
     "output_type": "display_data"
    }
   ],
   "source": [
    "lmdiag.q_q(result_2)"
   ]
  },
  {
   "cell_type": "code",
   "execution_count": 45,
   "id": "79b59f00-65c7-4e06-8e22-68a7523f2e3a",
   "metadata": {},
   "outputs": [
    {
     "data": {
      "text/plain": [
       "<module 'matplotlib.pyplot' from 'E:\\\\PythonUSB\\\\PythonUSB\\\\Python\\\\python-3.9.9\\\\lib\\\\site-packages\\\\matplotlib\\\\pyplot.py'>"
      ]
     },
     "execution_count": 45,
     "metadata": {},
     "output_type": "execute_result"
    },
    {
     "data": {
      "image/png": "[encoded data removed]",
      "text/plain": [
       "<Figure size 432x288 with 1 Axes>"
      ]
     },
     "metadata": {
      "needs_background": "light"
     },
     "output_type": "display_data"
    }
   ],
   "source": [
    "lmdiag.q_q(result_3)"
   ]
  },
  {
   "cell_type": "markdown",
   "id": "42662e08-495c-45ed-86e8-db57135b5728",
   "metadata": {},
   "source": [
    "QQプロットでは、モデル２もモデル３もモデル１と同様に収まっているように見えます。"
   ]
  },
  {
   "cell_type": "markdown",
   "id": "41ef827e-ea4d-42be-b55e-84ef553e3187",
   "metadata": {},
   "source": [
    "## （補足）分散分析"
   ]
  },
  {
   "cell_type": "markdown",
   "id": "59b04eb0-7630-45b4-b94e-bbac5fd83662",
   "metadata": {
    "tags": []
   },
   "source": [
    "### 対象とするデータと必要とする理由"
   ]
  },
  {
   "cell_type": "markdown",
   "id": "3520ee57-18c6-40a6-89c0-63e0e9856cb6",
   "metadata": {},
   "source": [
    "分散分析は、次の例のように、通常３つ以上のグループ（水準あるいは級とよびます）間で平均値を比較する場合などに用いられます。"
   ]
  },
  {
   "cell_type": "markdown",
   "id": "5451a838-8f31-4a15-b887-4a4a9b4fb770",
   "metadata": {},
   "source": [
    "|メーカー|製品の耐久時間|平均値|\n",
    "|--|--|--|\n",
    "|A|1550, 1590, 1630, 1670, 1760|1640|\n",
    "|B|1530, 1590, 1600, 1640|1590|\n",
    "|C|1410, 1550, 1590, 1600, 1610, 1680, 1760|1600|\n",
    "|D|1440, 1480, 1550, 1610|1520|"
   ]
  },
  {
   "cell_type": "markdown",
   "id": "078852b3-c039-4b15-b6f8-782cf5b37ef3",
   "metadata": {},
   "source": [
    "このように３つ以上の標本に対して、それらの間での平均値の差に有意性があることを検定するには、２標本の検定を繰り返してはいけません。"
   ]
  },
  {
   "cell_type": "markdown",
   "id": "8e3eea19-e7b1-4262-a8ca-c98d02cb46d3",
   "metadata": {},
   "source": [
    "なぜなら、検定を繰り返すことで第１種のエラー（$H_0$を棄却すべきでないのに棄却すること）の可能性が高まるからです。"
   ]
  },
  {
   "cell_type": "markdown",
   "id": "d502a4b4-30f3-4e55-9075-13a91ba28c1d",
   "metadata": {},
   "source": [
    "例えば５％水準で検定すると、１回の検定では間違って棄却はされない確率が９５％ですが、３つのグループがあったら３回検定することになりますので、間違って棄却はされない確率は$0.95^3 = 0.857$となり、第１種のエラーの確率は$1 - 0.857 = 0.143$に上がります。"
   ]
  },
  {
   "cell_type": "markdown",
   "id": "1a9fa08e-d5ad-49d4-8f3f-675c9facf024",
   "metadata": {},
   "source": [
    "### 基本的な考え方"
   ]
  },
  {
   "cell_type": "markdown",
   "id": "9f54d462-1684-4261-901e-04bf8bd99ff6",
   "metadata": {},
   "source": [
    "個々のデータの、全体の平均からの変動を、水準内でのばらつきと、水準の全体平均からの変動とに分解します。後者（水準間のばらつき）が前者（水準内のばらつうき）よりもはるかに大きければ、水準間に平均の有意な差があると判断します。"
   ]
  },
  {
   "cell_type": "markdown",
   "id": "76d89fa8-ce42-4a8a-aa55-ea003879b2ac",
   "metadata": {},
   "source": [
    "### 分散分析（１元配置分散分析）のモデル"
   ]
  },
  {
   "cell_type": "markdown",
   "id": "32abcfff-2081-41e7-9e71-3b116191430b",
   "metadata": {},
   "source": [
    "$i$番目の水準の$j$番目の確率変数を$x_{ij}$とします。これらは平均が$\\mu_0$、分散が$\\sigma^2$の正規分布を示すとします。  \n",
    "このとき、$x_{ij}$は次のように表せます。  \n",
    "$$x_{ij} = \\mu_i + \\epsilon_{ij}$$"
   ]
  },
  {
   "cell_type": "markdown",
   "id": "8f021e89-9086-4935-b63c-0d4b7f78bc85",
   "metadata": {},
   "source": [
    "ただし、$i = 1, 2, ..., k$で、$j = 1, 2, ..., n_i$"
   ]
  },
  {
   "cell_type": "markdown",
   "id": "19759ce0-327f-466a-8755-3eb8ba5cc8ce",
   "metadata": {},
   "source": [
    "ここで$\\epsilon_{ij}$は誤差項で、平均値0, 分散$\\sigma^2$の独立正規分布をするものとします。"
   ]
  },
  {
   "cell_type": "markdown",
   "id": "1915565e-e8b9-4d65-a55c-d95747d23d07",
   "metadata": {},
   "source": [
    "さらに、平均値$\\mu_i$を$\\mu + \\alpha_i$と置き換えると、$x_{ij}$は、"
   ]
  },
  {
   "cell_type": "markdown",
   "id": "e7c01b4a-8d66-4b4d-8a31-8e3bf7eae8b6",
   "metadata": {},
   "source": [
    "$$x_{ij} = \\mu + \\alpha_i + \\epsilon_{ij} $$"
   ]
  },
  {
   "cell_type": "markdown",
   "id": "73f02c9f-9d49-4ac0-8d18-8f0254fd0d75",
   "metadata": {},
   "source": [
    "(ただし、$\\sum \\alpha_i = 0$ )と表せます。"
   ]
  },
  {
   "cell_type": "markdown",
   "id": "3b84919a-eee5-4948-8df3-65c57226e3d0",
   "metadata": {},
   "source": [
    "このように、$x_{ij}$の変動は２つの効果の結果です。ひとつは、 $\\mu$があらわす、すべての変数に共通の効果です。もう１つは、$\\alpha_i$が表す、個々の水準$i$の母集団に固有の効果です。これを水準$i$への効果といいます。"
   ]
  },
  {
   "cell_type": "markdown",
   "id": "4c7454ed-579c-4c1c-9a95-5ac11c509998",
   "metadata": {},
   "source": [
    "### 水準内の分散と水準間の分散"
   ]
  },
  {
   "cell_type": "markdown",
   "id": "ff63de4e-4470-4291-a92d-c990cf420d6f",
   "metadata": {},
   "source": [
    "これらの変数の分散からいくつかの$\\chi^2$分布がつくれます。前提として、すべての水準が同じ母集団（分散が$\\sigma^2$）から出ているものとします。"
   ]
  },
  {
   "cell_type": "markdown",
   "id": "5cbcbde7-bfc3-45ad-a65e-52aeb36f9457",
   "metadata": {},
   "source": [
    "まず、$x_{ij}$は正規分布し、母分散が$\\sigma^2$ですから、全体の平均を$\\bar{x}$とすると、$$\\frac{\\sum\\sum(x_{ij} - \\bar{x})^2}{\\sigma^2} = \\frac{V}{\\sigma^2} $$は自由度$N - 1$の$\\chi^2$分布をします。"
   ]
  },
  {
   "cell_type": "markdown",
   "id": "e0dbad24-ee13-42d0-962d-4527c47d4bfc",
   "metadata": {},
   "source": [
    "同様に、各水準の平均を$\\bar{x_i}$とすると、**水準内の分散**に関しては、$$\\frac{\\sum\\sum(x_{ij} - \\bar{x_i})^2}{\\sigma^2} = \\frac{V_1}{\\sigma^2}$$は自由度$N - k$の$\\chi^2$分布をします。"
   ]
  },
  {
   "cell_type": "markdown",
   "id": "e56e4ee1-d1d6-4790-b52e-6416cad88d9b",
   "metadata": {},
   "source": [
    "同様に、**水準間の分散**に関しては、$$\\frac{\\sum n_i(\\bar{x_i} - \\bar{x})^2}{\\sigma^2} = \\frac{V_2}{\\sigma^2}$$は自由度$k - 1$の$\\chi^2$分布をします。"
   ]
  },
  {
   "cell_type": "markdown",
   "id": "222a8d3e-5d49-4343-8570-e9a6df6ae360",
   "metadata": {},
   "source": [
    "そして、$\\chi^2$変数の期待値はその自由度に等しいので、$V/\\sigma^2$, $V_1/\\sigma^2$, $V_2/\\sigma^2$をそれぞれの自由度で割ったものの期待値は$1$になります。つまり、$V/(N - 1)$、$V_1/(N - k)$、$V_2/(k - 1)$の期待値はどれも$\\sigma^2$になります。すなわち、**これらはどれも母分散$\\sigma^2$の不偏推定量です**。"
   ]
  },
  {
   "cell_type": "markdown",
   "id": "207ec28a-40db-4715-a851-749e3e44bd91",
   "metadata": {},
   "source": [
    "### 統計量と検定方法"
   ]
  },
  {
   "cell_type": "markdown",
   "id": "7a2aaad2-9c02-4f53-a14f-bffdbfda3b1d",
   "metadata": {},
   "source": [
    "帰無仮説$H_0$: $\\alpha_i = 0$ ($i = 1, 2, ..., k$)  \n",
    "対立仮説$H_1$: $\\alpha_i \\ne 0$  (少なくとも$i$の1つの値に対して)  \n",
    "とします。"
   ]
  },
  {
   "cell_type": "markdown",
   "id": "b03f5016-71a6-45b5-8c34-0d9957bd14d4",
   "metadata": {},
   "source": [
    "上の$V_1/(N - k)$と$V_2/(k - 1)$は互いに独立なので、$H_0$のもとでは、不偏分散の比$$F = \\frac{V_2/(k - 1)}{V_1/(N - k)}$$は自由度$k - 1$と$N - k$の$F$分布をします。"
   ]
  },
  {
   "cell_type": "markdown",
   "id": "bf74e094-b5f9-4caa-a658-67d3abdeb463",
   "metadata": {},
   "source": [
    "そして、片側検定で有意水準を$\\alpha$とすれば、$F$を検定統計量として$H_0$の棄却域は、$F > F_\\alpha$で与えられます。"
   ]
  },
  {
   "cell_type": "markdown",
   "id": "2e61be51-aa76-4f80-9c42-cb30908cc398",
   "metadata": {},
   "source": [
    "#### 例題"
   ]
  },
  {
   "cell_type": "markdown",
   "id": "991b556c-23ad-4e46-bf0c-e6f36b1578be",
   "metadata": {},
   "source": [
    "上の表で、メーカー間の製品寿命に差があるかどうかを調べます。"
   ]
  },
  {
   "cell_type": "code",
   "execution_count": 6,
   "id": "9fe40a1c-976a-44a4-be0d-4a8f376251c8",
   "metadata": {},
   "outputs": [],
   "source": [
    "import numpy as np\n",
    "from scipy import stats"
   ]
  },
  {
   "cell_type": "code",
   "execution_count": 4,
   "id": "a7846c27-a36c-4330-a6b4-09ff0b94e18e",
   "metadata": {},
   "outputs": [],
   "source": [
    "maker_a = np.array([1550, 1590, 1630, 1670, 1760])\n",
    "maker_b = np.array([1530, 1590, 1600, 1640])\n",
    "maker_c = np.array([1410, 1550, 1590, 1600, 1610, 1680, 1760])\n",
    "maker_d = np.array([1440, 1480, 1550, 1610])"
   ]
  },
  {
   "cell_type": "markdown",
   "id": "cdf97f93-3e0b-4b19-8093-868d59a87c0b",
   "metadata": {},
   "source": [
    "一元配置分散分析には、scipy.stats.f_oneway()などを用いることができます。"
   ]
  },
  {
   "cell_type": "code",
   "execution_count": 9,
   "id": "a043508f-fe65-4ab2-ad5f-22dc1c84a29e",
   "metadata": {},
   "outputs": [
    {
     "name": "stdout",
     "output_type": "stream",
     "text": [
      "F_onewayResult(statistic=1.454222222222222, pvalue=0.26440210657974433)\n"
     ]
    }
   ],
   "source": [
    "print(stats.f_oneway(maker_a,maker_b, maker_c, maker_d))"
   ]
  },
  {
   "cell_type": "markdown",
   "id": "1c3c6038-e6a0-4f5c-aaf6-1914f355f038",
   "metadata": {},
   "source": [
    "この$P-$値から、5%水準で有意でないことがわかります。つまり、メーカー間で製品寿命の平均に違いはありません。"
   ]
  },
  {
   "cell_type": "code",
   "execution_count": null,
   "id": "8a6ebc22-4ab4-4c91-b442-c2fe692403bb",
   "metadata": {},
   "outputs": [],
   "source": []
  }
 ],
 "metadata": {
  "kernelspec": {
   "display_name": "Python 3 (ipykernel)",
   "language": "python",
   "name": "python3"
  },
  "language_info": {
   "codemirror_mode": {
    "name": "ipython",
    "version": 3
   },
   "file_extension": ".py",
   "mimetype": "text/x-python",
   "name": "python",
   "nbconvert_exporter": "python",
   "pygments_lexer": "ipython3",
   "version": "3.9.9"
  }
 },
 "nbformat": 4,
 "nbformat_minor": 5
}
