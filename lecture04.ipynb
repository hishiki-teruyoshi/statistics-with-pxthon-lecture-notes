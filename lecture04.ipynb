{
 "cells": [
  {
   "cell_type": "markdown",
   "id": "f3653e6f-c7e0-49d5-8856-63a74e54944e",
   "metadata": {},
   "source": [
    "# 第４回　Pythonライブラリの利用、簡単な可視化"
   ]
  },
  {
   "cell_type": "markdown",
   "id": "ddb82fa4-f905-423f-a331-f739d776897d",
   "metadata": {},
   "source": [
    "これまでにも、Pythonライブラリのうち、NumPyを使ってきました。今回は、グラフの描画のためのMatplotlibとそれを使ったグラフの描きかたを扱います。"
   ]
  },
  {
   "cell_type": "markdown",
   "id": "d55ffb3c-af68-4460-92de-76d5b910b586",
   "metadata": {},
   "source": [
    "また、モジュールのリスト・インストール・アップデート・アンインストールをおこなうpipをJupyter notebookから使えることを示します。"
   ]
  },
  {
   "cell_type": "markdown",
   "id": "41e3f463-2b27-46e2-819e-be45c91ad790",
   "metadata": {},
   "source": [
    "## Matplotlib"
   ]
  },
  {
   "cell_type": "markdown",
   "id": "5d43b268-060d-46e6-bb84-1027079cc3f9",
   "metadata": {},
   "source": [
    "e-Statのサイトから、「消費者物価指数」統計のうち、「持家の帰属家賃を除く総合指数　前年度比（1948年度～最新年度）」（ファイル名：zdy2020r.csv）をダウンロードしました。これの、9行めからがデータで、１カラムめが年、２カラムめが前年度比物価上昇率（％）です。"
   ]
  },
  {
   "cell_type": "markdown",
   "id": "91e42b1e-7501-4aff-8a22-9476a892e67e",
   "metadata": {},
   "source": [
    "第３回でおこなったように、これを読み込みましょう。"
   ]
  },
  {
   "cell_type": "code",
   "execution_count": 1,
   "id": "4933aea9-a79e-4edc-acf2-492c8a77ac8b",
   "metadata": {},
   "outputs": [],
   "source": [
    "import numpy as np\n",
    "x = np.genfromtxt('zdy2020r.csv', delimiter=',', skip_header=8,encoding=\"shift_jis\")\n",
    "# 文字コードに注意。"
   ]
  },
  {
   "cell_type": "code",
   "execution_count": 2,
   "id": "da728080-6647-444a-ac0a-dee10d80f8e1",
   "metadata": {},
   "outputs": [
    {
     "data": {
      "text/plain": [
       "array([[ 1.948e+03,  6.880e+01],\n",
       "       [ 1.949e+03,  1.650e+01],\n",
       "       [ 1.950e+03, -4.000e+00],\n",
       "       [ 1.951e+03,  1.970e+01],\n",
       "       [ 1.952e+03,  3.600e+00],\n",
       "       [ 1.953e+03,  8.100e+00],\n",
       "       [ 1.954e+03,  4.000e+00],\n",
       "       [ 1.955e+03, -1.300e+00],\n",
       "       [ 1.956e+03,  1.300e+00],\n",
       "       [ 1.957e+03,  2.500e+00],\n",
       "       [ 1.958e+03, -4.000e-01],\n",
       "       [ 1.959e+03,  1.800e+00],\n",
       "       [ 1.960e+03,  3.800e+00],\n",
       "       [ 1.961e+03,  6.200e+00],\n",
       "       [ 1.962e+03,  6.700e+00],\n",
       "       [ 1.963e+03,  6.600e+00],\n",
       "       [ 1.964e+03,  4.600e+00],\n",
       "       [ 1.965e+03,  6.400e+00],\n",
       "       [ 1.966e+03,  4.700e+00],\n",
       "       [ 1.967e+03,  4.200e+00],\n",
       "       [ 1.968e+03,  4.900e+00],\n",
       "       [ 1.969e+03,  6.400e+00],\n",
       "       [ 1.970e+03,  7.300e+00],\n",
       "       [ 1.971e+03,  5.700e+00],\n",
       "       [ 1.972e+03,  5.200e+00],\n",
       "       [ 1.973e+03,  1.610e+01],\n",
       "       [ 1.974e+03,  2.180e+01],\n",
       "       [ 1.975e+03,  1.040e+01],\n",
       "       [ 1.976e+03,  9.400e+00],\n",
       "       [ 1.977e+03,  6.700e+00],\n",
       "       [ 1.978e+03,  3.400e+00],\n",
       "       [ 1.979e+03,  4.800e+00],\n",
       "       [ 1.980e+03,  7.800e+00],\n",
       "       [ 1.981e+03,  4.000e+00],\n",
       "       [ 1.982e+03,  2.400e+00],\n",
       "       [ 1.983e+03,  1.900e+00],\n",
       "       [ 1.984e+03,  2.200e+00],\n",
       "       [ 1.985e+03,  1.900e+00],\n",
       "       [ 1.986e+03, -3.000e-01],\n",
       "       [ 1.987e+03,  3.000e-01],\n",
       "       [ 1.988e+03,  6.000e-01],\n",
       "       [ 1.989e+03,  2.900e+00],\n",
       "       [ 1.990e+03,  3.300e+00],\n",
       "       [ 1.991e+03,  2.900e+00],\n",
       "       [ 1.992e+03,  1.400e+00],\n",
       "       [ 1.993e+03,  1.100e+00],\n",
       "       [ 1.994e+03,  2.000e-01],\n",
       "       [ 1.995e+03, -4.000e-01],\n",
       "       [ 1.996e+03,  1.000e-01],\n",
       "       [ 1.997e+03,  2.200e+00],\n",
       "       [ 1.998e+03,  1.000e-01],\n",
       "       [ 1.999e+03, -6.000e-01],\n",
       "       [ 2.000e+03, -7.000e-01],\n",
       "       [ 2.001e+03, -1.300e+00],\n",
       "       [ 2.002e+03, -7.000e-01],\n",
       "       [ 2.003e+03, -2.000e-01],\n",
       "       [ 2.004e+03,  0.000e+00],\n",
       "       [ 2.005e+03, -3.000e-01],\n",
       "       [ 2.006e+03,  3.000e-01],\n",
       "       [ 2.007e+03,  4.000e-01],\n",
       "       [ 2.008e+03,  1.300e+00],\n",
       "       [ 2.009e+03, -1.900e+00],\n",
       "       [ 2.010e+03, -4.000e-01],\n",
       "       [ 2.011e+03,  0.000e+00],\n",
       "       [ 2.012e+03, -3.000e-01],\n",
       "       [ 2.013e+03,  1.100e+00],\n",
       "       [ 2.014e+03,  3.500e+00],\n",
       "       [ 2.015e+03,  3.000e-01],\n",
       "       [ 2.016e+03,  0.000e+00],\n",
       "       [ 2.017e+03,  9.000e-01],\n",
       "       [ 2.018e+03,  9.000e-01],\n",
       "       [ 2.019e+03,  6.000e-01],\n",
       "       [ 2.020e+03, -3.000e-01]])"
      ]
     },
     "execution_count": 2,
     "metadata": {},
     "output_type": "execute_result"
    }
   ],
   "source": [
    "x"
   ]
  },
  {
   "cell_type": "markdown",
   "id": "cfb2630d-9539-4b2b-b08b-ab625e986039",
   "metadata": {},
   "source": [
    "このように、１列目が年、２列目が物価上昇率、となっています。"
   ]
  },
  {
   "cell_type": "markdown",
   "id": "14b65fef-15b0-4110-b90e-eec7a7d2feca",
   "metadata": {},
   "source": [
    "第３回でおこなったように、データの個数をlen()関数で調べてみます。"
   ]
  },
  {
   "cell_type": "code",
   "execution_count": 2,
   "id": "287214db-2466-4508-92f0-9b6cbeb23c37",
   "metadata": {},
   "outputs": [
    {
     "data": {
      "text/plain": [
       "73"
      ]
     },
     "execution_count": 2,
     "metadata": {},
     "output_type": "execute_result"
    }
   ],
   "source": [
    "len(x)"
   ]
  },
  {
   "cell_type": "markdown",
   "id": "a41a23d9-fac6-4712-a4b7-d8cdf8275ec0",
   "metadata": {},
   "source": [
    "また、第３回でおこなったように、欠けている年を探してみましたが、ありませんでした（コードは同じなので省略）"
   ]
  },
  {
   "cell_type": "code",
   "execution_count": 8,
   "id": "f4dff932-c32c-436d-9f3a-407096cf72df",
   "metadata": {},
   "outputs": [],
   "source": [
    "col_year = x[:,0]\n",
    "year_min = int(min(col_year))\n",
    "year_max = int(max(col_year))\n",
    "year_range = range(year_min, year_max)\n",
    "for year in year_range:\n",
    "    if year not in col_year:\n",
    "        print(year)"
   ]
  },
  {
   "cell_type": "markdown",
   "id": "b0368784-b940-485e-a109-e9ff8931d22b",
   "metadata": {},
   "source": [
    "前年度比物価上昇率（％）の年次推移をグラフ化してみましょう。"
   ]
  },
  {
   "cell_type": "code",
   "execution_count": 7,
   "id": "9c0702c7-37fc-4473-aed9-7d82ae36a546",
   "metadata": {},
   "outputs": [],
   "source": [
    "%matplotlib inline\n",
    "import matplotlib.pyplot as plt"
   ]
  },
  {
   "cell_type": "code",
   "execution_count": 30,
   "id": "cdf54dbd-64e9-4b12-b812-a7d1e184068c",
   "metadata": {},
   "outputs": [
    {
     "data": {
      "text/plain": [
       "array([1948., 1949., 1950., 1951., 1952., 1953., 1954., 1955., 1956.,\n",
       "       1957., 1958., 1959., 1960., 1961., 1962., 1963., 1964., 1965.,\n",
       "       1966., 1967., 1968., 1969., 1970., 1971., 1972., 1973., 1974.,\n",
       "       1975., 1976., 1977., 1978., 1979., 1980., 1981., 1982., 1983.,\n",
       "       1984., 1985., 1986., 1987., 1988., 1989., 1990., 1991., 1992.,\n",
       "       1993., 1994., 1995., 1996., 1997., 1998., 1999., 2000., 2001.,\n",
       "       2002., 2003., 2004., 2005., 2006., 2007., 2008., 2009., 2010.,\n",
       "       2011., 2012., 2013., 2014., 2015., 2016., 2017., 2018., 2019.,\n",
       "       2020.])"
      ]
     },
     "execution_count": 30,
     "metadata": {},
     "output_type": "execute_result"
    }
   ],
   "source": [
    "x[:,0] #1列め"
   ]
  },
  {
   "cell_type": "code",
   "execution_count": 31,
   "id": "4c1225a1-90a0-4e6e-9316-b3d9ef225812",
   "metadata": {},
   "outputs": [
    {
     "data": {
      "text/plain": [
       "array([68.8, 16.5, -4. , 19.7,  3.6,  8.1,  4. , -1.3,  1.3,  2.5, -0.4,\n",
       "        1.8,  3.8,  6.2,  6.7,  6.6,  4.6,  6.4,  4.7,  4.2,  4.9,  6.4,\n",
       "        7.3,  5.7,  5.2, 16.1, 21.8, 10.4,  9.4,  6.7,  3.4,  4.8,  7.8,\n",
       "        4. ,  2.4,  1.9,  2.2,  1.9, -0.3,  0.3,  0.6,  2.9,  3.3,  2.9,\n",
       "        1.4,  1.1,  0.2, -0.4,  0.1,  2.2,  0.1, -0.6, -0.7, -1.3, -0.7,\n",
       "       -0.2,  0. , -0.3,  0.3,  0.4,  1.3, -1.9, -0.4,  0. , -0.3,  1.1,\n",
       "        3.5,  0.3,  0. ,  0.9,  0.9,  0.6, -0.3])"
      ]
     },
     "execution_count": 31,
     "metadata": {},
     "output_type": "execute_result"
    }
   ],
   "source": [
    "x[:,1] #2列め"
   ]
  },
  {
   "cell_type": "code",
   "execution_count": 4,
   "id": "05a04a9d-62dd-45bb-890c-89feee8967df",
   "metadata": {},
   "outputs": [],
   "source": [
    "x1 = x[:,0]"
   ]
  },
  {
   "cell_type": "code",
   "execution_count": 5,
   "id": "dd8c3a43-e331-43b5-97f0-13ec48b57a45",
   "metadata": {},
   "outputs": [],
   "source": [
    "x2 = x[:,1]"
   ]
  },
  {
   "cell_type": "code",
   "execution_count": 6,
   "id": "44d5169c-1728-43ae-993d-339639ee44ec",
   "metadata": {},
   "outputs": [
    {
     "data": {
      "text/plain": [
       "Text(0.5, 1.0, 'Inflation rates, 1948 - 2020')"
      ]
     },
     "execution_count": 6,
     "metadata": {},
     "output_type": "execute_result"
    },
    {
     "data": {
      "image/png": "[encoded data removed]",
      "text/plain": [
       "<Figure size 432x288 with 1 Axes>"
      ]
     },
     "metadata": {
      "needs_background": "light"
     },
     "output_type": "display_data"
    }
   ],
   "source": [
    "plt.plot(x1,x2)\n",
    "plt.xlabel('Year')\n",
    "plt.ylabel('Price Increase Rate')\n",
    "plt.title('Inflation rates, 1948 - 2020')"
   ]
  },
  {
   "cell_type": "markdown",
   "id": "ef8455f4-39cd-4795-a905-a6f1751791ca",
   "metadata": {},
   "source": [
    "物価上昇率は、時々高いときもありますが、特に1990年以降は、落ち着いているように見えます。全期間における物価上昇率の分布を、ヒストグラムで視覚化してみましょう。"
   ]
  },
  {
   "cell_type": "code",
   "execution_count": 6,
   "id": "bdb0103c-2afd-44b5-8274-ea6ef844c26c",
   "metadata": {},
   "outputs": [
    {
     "data": {
      "text/plain": [
       "(array([43., 25.,  2.,  2.,  0.,  0.,  0.,  0.,  0.,  1.]),\n",
       " array([-4.  ,  3.28, 10.56, 17.84, 25.12, 32.4 , 39.68, 46.96, 54.24,\n",
       "        61.52, 68.8 ]),\n",
       " <BarContainer object of 10 artists>)"
      ]
     },
     "execution_count": 6,
     "metadata": {},
     "output_type": "execute_result"
    },
    {
     "data": {
      "image/png": "[encoded data removed]",
      "text/plain": [
       "<Figure size 432x288 with 1 Axes>"
      ]
     },
     "metadata": {
      "needs_background": "light"
     },
     "output_type": "display_data"
    }
   ],
   "source": [
    "plt.hist(x2)"
   ]
  },
  {
   "cell_type": "markdown",
   "id": "89aff48f-9203-4475-83aa-f47d99b5c92b",
   "metadata": {},
   "source": [
    "区間(bin)の数を20にしてみましょう。"
   ]
  },
  {
   "cell_type": "code",
   "execution_count": 6,
   "id": "157f73b2-b6f8-4987-8da9-5d2ec2b8c3cd",
   "metadata": {},
   "outputs": [
    {
     "data": {
      "text/plain": [
       "(array([10., 33., 20.,  5.,  0.,  2.,  1.,  1.,  0.,  0.,  0.,  0.,  0.,\n",
       "         0.,  0.,  0.,  0.,  0.,  0.,  1.]),\n",
       " array([-4.  , -0.36,  3.28,  6.92, 10.56, 14.2 , 17.84, 21.48, 25.12,\n",
       "        28.76, 32.4 , 36.04, 39.68, 43.32, 46.96, 50.6 , 54.24, 57.88,\n",
       "        61.52, 65.16, 68.8 ]),\n",
       " <BarContainer object of 20 artists>)"
      ]
     },
     "execution_count": 6,
     "metadata": {},
     "output_type": "execute_result"
    },
    {
     "data": {
      "image/png": "[encoded data removed]",
      "text/plain": [
       "<Figure size 432x288 with 1 Axes>"
      ]
     },
     "metadata": {
      "needs_background": "light"
     },
     "output_type": "display_data"
    }
   ],
   "source": [
    "plt.hist(x2, bins=20)"
   ]
  },
  {
   "cell_type": "markdown",
   "id": "30d8a0b9-38a4-4486-af23-d9977d10e00a",
   "metadata": {},
   "source": [
    "binsを、-5から70までの5区切りにしてみましょう。-5から70まで5ずつ増えていくリストを作るためにrange()の代わりにnumpy.arange()を使ってみましょう。"
   ]
  },
  {
   "cell_type": "code",
   "execution_count": 12,
   "id": "2b4e7629-5042-4890-8c91-c9c4959d366d",
   "metadata": {},
   "outputs": [
    {
     "data": {
      "text/plain": [
       "(array([15., 40., 12.,  1.,  3.,  1.,  0.,  0.,  0.,  0.,  0.,  0.,  0.,\n",
       "         0.,  1.]),\n",
       " array([-5,  0,  5, 10, 15, 20, 25, 30, 35, 40, 45, 50, 55, 60, 65, 70]),\n",
       " <BarContainer object of 15 artists>)"
      ]
     },
     "execution_count": 12,
     "metadata": {},
     "output_type": "execute_result"
    },
    {
     "data": {
      "image/png": "[encoded data removed]",
      "text/plain": [
       "<Figure size 432x288 with 1 Axes>"
      ]
     },
     "metadata": {
      "needs_background": "light"
     },
     "output_type": "display_data"
    }
   ],
   "source": [
    "z = np.arange(-5,75,5)\n",
    "plt.hist(x2, bins=z)"
   ]
  },
  {
   "cell_type": "markdown",
   "id": "b1b0355a-5246-45f7-a980-c0a390aa7113",
   "metadata": {},
   "source": [
    "さて、なぜこのデータを用いたかというと、２０２１年の「統計検定２級」の第１問に採用されたからです。問題自体は、最初の折れ線グラフからデータの分布の特徴をいうというものでした。この検定は、統計学の学習の成果を見るためにちょうどよいので、みなさんもぜひ「統計検定２級」の問題集をご覧になってみてください。"
   ]
  },
  {
   "cell_type": "markdown",
   "id": "e9dfe3df-2a10-4aa6-a20b-2d665683aa8d",
   "metadata": {},
   "source": [
    "次は、散布図を描いてみましょう。データは、前回使った、年ごとの出生率と死亡率を使います。"
   ]
  },
  {
   "cell_type": "code",
   "execution_count": 13,
   "id": "ab7626cf-4fe0-4520-bc28-ccc66095cb71",
   "metadata": {},
   "outputs": [],
   "source": [
    "bd_data = np.genfromtxt('year_birth_death.csv', delimiter=',', skip_header=1,encoding=\"utf-8_sig\")"
   ]
  },
  {
   "cell_type": "code",
   "execution_count": 23,
   "id": "039dbb11-7444-4323-a9f0-dfe6055dd5e3",
   "metadata": {},
   "outputs": [
    {
     "data": {
      "text/plain": [
       "array([[1899. ,   32. ,   21.5],\n",
       "       [1900. ,   32.4,   20.8],\n",
       "       [1901. ,   33.9,   20.9],\n",
       "       [1902. ,   33.6,   21.3],\n",
       "       [1903. ,   32.7,   20.4],\n",
       "       [1904. ,   31.2,   20.7],\n",
       "       [1905. ,   31.2,   21.6],\n",
       "       [1906. ,   29.6,   20.3],\n",
       "       [1907. ,   34. ,   21.4],\n",
       "       [1908. ,   34.7,   21.5],\n",
       "       [1909. ,   34.9,   22.5],\n",
       "       [1910. ,   34.8,   21.6],\n",
       "       [1911. ,   35.1,   20.9],\n",
       "       [1912. ,   34.4,   20.5],\n",
       "       [1913. ,   34.3,   20. ]])"
      ]
     },
     "execution_count": 23,
     "metadata": {},
     "output_type": "execute_result"
    }
   ],
   "source": [
    "bd_data[0:15,:]"
   ]
  },
  {
   "cell_type": "code",
   "execution_count": 24,
   "id": "4a94f790-539e-4ae6-97cd-1eb176fb48bc",
   "metadata": {},
   "outputs": [],
   "source": [
    "br = bd_data[:,1] #出生率は２列目"
   ]
  },
  {
   "cell_type": "code",
   "execution_count": 26,
   "id": "be57a004-bdda-41e0-93ac-9d965aae7d66",
   "metadata": {},
   "outputs": [],
   "source": [
    "dr = bd_data[:,2] #死亡率は３列目"
   ]
  },
  {
   "cell_type": "code",
   "execution_count": 29,
   "id": "ca1c1153-81e3-4d52-81eb-808c513e8539",
   "metadata": {},
   "outputs": [
    {
     "data": {
      "text/plain": [
       "Text(0, 0.5, 'Death rate')"
      ]
     },
     "execution_count": 29,
     "metadata": {},
     "output_type": "execute_result"
    },
    {
     "data": {
      "image/png": "[encoded data removed]",
      "text/plain": [
       "<Figure size 432x288 with 1 Axes>"
      ]
     },
     "metadata": {
      "needs_background": "light"
     },
     "output_type": "display_data"
    }
   ],
   "source": [
    "plt.scatter(br,dr) #X軸は出生率、y軸は死亡率\n",
    "plt.xlabel('Birth rate')\n",
    "plt.ylabel('Death rate')"
   ]
  },
  {
   "cell_type": "markdown",
   "id": "db9f6ecb-d79d-4509-98cd-209107bb0aa1",
   "metadata": {},
   "source": [
    "グラフからわかるように、単純な関係ではなさそうです。また、異なった傾向をもつデータの集団が、いくつか見えます。さらなる分析は、テキスト「Pythonによる統計分析入門」の176頁からをご覧ください。"
   ]
  },
  {
   "cell_type": "markdown",
   "id": "8520bf80-8e67-4c90-8ab0-8657c2fbc660",
   "metadata": {},
   "source": [
    "## モジュールの有無の調査と追加インストール"
   ]
  },
  {
   "cell_type": "markdown",
   "id": "95ce1236-1d8a-48a7-b120-6d14038f9955",
   "metadata": {},
   "source": [
    "ここからは、みなさんとはPythonのインストール状況が違うかもしれませんので、同じ命令を実行しても同じ結果にならない可能性があることをご了承ください。"
   ]
  },
  {
   "cell_type": "markdown",
   "id": "b293944d-3103-477a-bea9-0cf20f837509",
   "metadata": {},
   "source": [
    "統計データ処理パッケージ「Pandas」をインポートしてみたところ次のようなエラーメッセージが出ました。"
   ]
  },
  {
   "cell_type": "code",
   "execution_count": 1,
   "id": "b605e8cd-0ecc-47b7-8f45-c7ecee5fd933",
   "metadata": {},
   "outputs": [
    {
     "ename": "ImportError",
     "evalue": "cannot import name 'read_sas' from 'pandas.io.sas' (unknown location)",
     "output_type": "error",
     "traceback": [
      "\u001b[1;31m---------------------------------------------------------------------------\u001b[0m",
      "\u001b[1;31mImportError\u001b[0m                               Traceback (most recent call last)",
      "\u001b[1;32m~\\AppData\\Local\\Temp/ipykernel_15940/4080736814.py\u001b[0m in \u001b[0;36m<module>\u001b[1;34m\u001b[0m\n\u001b[1;32m----> 1\u001b[1;33m \u001b[1;32mimport\u001b[0m \u001b[0mpandas\u001b[0m \u001b[1;32mas\u001b[0m \u001b[0mpd\u001b[0m\u001b[1;33m\u001b[0m\u001b[1;33m\u001b[0m\u001b[0m\n\u001b[0m",
      "\u001b[1;32mE:\\PythonUSB\\PythonUSB\\Python\\python-3.9.9\\lib\\site-packages\\pandas\\__init__.py\u001b[0m in \u001b[0;36m<module>\u001b[1;34m\u001b[0m\n\u001b[0;32m    141\u001b[0m \u001b[1;32mfrom\u001b[0m \u001b[0mpandas\u001b[0m\u001b[1;33m.\u001b[0m\u001b[0mutil\u001b[0m\u001b[1;33m.\u001b[0m\u001b[0m_print_versions\u001b[0m \u001b[1;32mimport\u001b[0m \u001b[0mshow_versions\u001b[0m\u001b[1;33m\u001b[0m\u001b[1;33m\u001b[0m\u001b[0m\n\u001b[0;32m    142\u001b[0m \u001b[1;33m\u001b[0m\u001b[0m\n\u001b[1;32m--> 143\u001b[1;33m from pandas.io.api import (\n\u001b[0m\u001b[0;32m    144\u001b[0m     \u001b[1;31m# excel\u001b[0m\u001b[1;33m\u001b[0m\u001b[1;33m\u001b[0m\u001b[0m\n\u001b[0;32m    145\u001b[0m     \u001b[0mExcelFile\u001b[0m\u001b[1;33m,\u001b[0m\u001b[1;33m\u001b[0m\u001b[1;33m\u001b[0m\u001b[0m\n",
      "\u001b[1;32mE:\\PythonUSB\\PythonUSB\\Python\\python-3.9.9\\lib\\site-packages\\pandas\\io\\api.py\u001b[0m in \u001b[0;36m<module>\u001b[1;34m\u001b[0m\n\u001b[0;32m     30\u001b[0m     \u001b[0mread_hdf\u001b[0m\u001b[1;33m,\u001b[0m\u001b[1;33m\u001b[0m\u001b[1;33m\u001b[0m\u001b[0m\n\u001b[0;32m     31\u001b[0m )\n\u001b[1;32m---> 32\u001b[1;33m \u001b[1;32mfrom\u001b[0m \u001b[0mpandas\u001b[0m\u001b[1;33m.\u001b[0m\u001b[0mio\u001b[0m\u001b[1;33m.\u001b[0m\u001b[0msas\u001b[0m \u001b[1;32mimport\u001b[0m \u001b[0mread_sas\u001b[0m\u001b[1;33m\u001b[0m\u001b[1;33m\u001b[0m\u001b[0m\n\u001b[0m\u001b[0;32m     33\u001b[0m \u001b[1;32mfrom\u001b[0m \u001b[0mpandas\u001b[0m\u001b[1;33m.\u001b[0m\u001b[0mio\u001b[0m\u001b[1;33m.\u001b[0m\u001b[0mspss\u001b[0m \u001b[1;32mimport\u001b[0m \u001b[0mread_spss\u001b[0m\u001b[1;33m\u001b[0m\u001b[1;33m\u001b[0m\u001b[0m\n\u001b[0;32m     34\u001b[0m from pandas.io.sql import (\n",
      "\u001b[1;31mImportError\u001b[0m: cannot import name 'read_sas' from 'pandas.io.sas' (unknown location)"
     ]
    }
   ],
   "source": [
    "import pandas as pd"
   ]
  },
  {
   "cell_type": "markdown",
   "id": "b1929697-05f1-4221-80c4-c144c2bfce9f",
   "metadata": {},
   "source": [
    "また、統計モデル解析パッケージ「Statsmodels」のモジュールをインポートしようとしたところ、statsmodel自体がインストールされていないという趣旨のエラーメッセージが出ました。"
   ]
  },
  {
   "cell_type": "code",
   "execution_count": 10,
   "id": "1c9b6394-0746-4b0a-90fa-d4f3a3b50147",
   "metadata": {},
   "outputs": [
    {
     "ename": "ModuleNotFoundError",
     "evalue": "No module named 'statsmodels'",
     "output_type": "error",
     "traceback": [
      "\u001b[1;31m---------------------------------------------------------------------------\u001b[0m",
      "\u001b[1;31mModuleNotFoundError\u001b[0m                       Traceback (most recent call last)",
      "\u001b[1;32m~\\AppData\\Local\\Temp/ipykernel_15940/3218958857.py\u001b[0m in \u001b[0;36m<module>\u001b[1;34m\u001b[0m\n\u001b[1;32m----> 1\u001b[1;33m \u001b[1;32mimport\u001b[0m \u001b[0mstatsmodels\u001b[0m\u001b[1;33m.\u001b[0m\u001b[0mformula\u001b[0m\u001b[1;33m.\u001b[0m\u001b[0mapi\u001b[0m \u001b[1;32mas\u001b[0m \u001b[0msmf\u001b[0m\u001b[1;33m\u001b[0m\u001b[1;33m\u001b[0m\u001b[0m\n\u001b[0m",
      "\u001b[1;31mModuleNotFoundError\u001b[0m: No module named 'statsmodels'"
     ]
    }
   ],
   "source": [
    "import statsmodels.formula.api as smf"
   ]
  },
  {
   "cell_type": "markdown",
   "id": "dd83ad19-6245-428d-8e8a-8f2fedfcbc3e",
   "metadata": {},
   "source": [
    "次も同様に、statsmodelsのモジュールのインポートを行うコマンドと、エラーメッセージです。"
   ]
  },
  {
   "cell_type": "code",
   "execution_count": 6,
   "id": "b313bb61-46a9-4cb7-b5ec-52187a5850a6",
   "metadata": {},
   "outputs": [
    {
     "ename": "ModuleNotFoundError",
     "evalue": "No module named 'statsmodels'",
     "output_type": "error",
     "traceback": [
      "\u001b[1;31m---------------------------------------------------------------------------\u001b[0m",
      "\u001b[1;31mModuleNotFoundError\u001b[0m                       Traceback (most recent call last)",
      "\u001b[1;32m~\\AppData\\Local\\Temp/ipykernel_15940/3218958857.py\u001b[0m in \u001b[0;36m<module>\u001b[1;34m\u001b[0m\n\u001b[1;32m----> 1\u001b[1;33m \u001b[1;32mimport\u001b[0m \u001b[0mstatsmodels\u001b[0m\u001b[1;33m.\u001b[0m\u001b[0mformula\u001b[0m\u001b[1;33m.\u001b[0m\u001b[0mapi\u001b[0m \u001b[1;32mas\u001b[0m \u001b[0msmf\u001b[0m\u001b[1;33m\u001b[0m\u001b[1;33m\u001b[0m\u001b[0m\n\u001b[0m",
      "\u001b[1;31mModuleNotFoundError\u001b[0m: No module named 'statsmodels'"
     ]
    }
   ],
   "source": [
    "import statsmodels.formula.api as smf"
   ]
  },
  {
   "cell_type": "markdown",
   "id": "34761cd2-f7d0-42b7-8d3c-b4d3829eeaf5",
   "metadata": {},
   "source": [
    "上２つのエラーメッセージから、statsmodelsがインストールされていないことがわかりますので、statsmodelsをインストールします。そのために、pipを使います。"
   ]
  },
  {
   "cell_type": "code",
   "execution_count": 9,
   "id": "502c6bd7-a4de-47e6-9610-097e4aeaa76a",
   "metadata": {},
   "outputs": [
    {
     "name": "stdout",
     "output_type": "stream",
     "text": [
      "Collecting statsmodels\n",
      "  Downloading statsmodels-0.13.2-cp39-cp39-win_amd64.whl (9.1 MB)\n",
      "Requirement already satisfied: numpy>=1.17 in e:\\pythonusb\\pythonusb\\python\\python-3.9.9\\lib\\site-packages (from statsmodels) (1.21.4)\n",
      "Requirement already satisfied: scipy>=1.3 in e:\\pythonusb\\pythonusb\\python\\python-3.9.9\\lib\\site-packages (from statsmodels) (1.7.3)\n",
      "Note: you may need to restart the kernel to use updated packages.Requirement already satisfied: packaging>=21.3 in e:\\pythonusb\\pythonusb\\python\\python-3.9.9\\lib\\site-packages (from statsmodels) (21.3)\n",
      "Requirement already satisfied: pandas>=0.25 in e:\\pythonusb\\pythonusb\\python\\python-3.9.9\\lib\\site-packages (from statsmodels) (1.3.4)\n",
      "Collecting patsy>=0.5.2\n",
      "  Downloading patsy-0.5.2-py2.py3-none-any.whl (233 kB)\n",
      "Requirement already satisfied: pyparsing!=3.0.5,>=2.0.2 in e:\\pythonusb\\pythonusb\\python\\python-3.9.9\\lib\\site-packages (from packaging>=21.3->statsmodels) (3.0.6)\n",
      "Requirement already satisfied: pytz>=2017.3 in e:\\pythonusb\\pythonusb\\python\\python-3.9.9\\lib\\site-packages (from pandas>=0.25->statsmodels) (2021.3)\n",
      "Requirement already satisfied: python-dateutil>=2.7.3 in e:\\pythonusb\\pythonusb\\python\\python-3.9.9\\lib\\site-packages (from pandas>=0.25->statsmodels) (2.8.2)\n",
      "\n"
     ]
    },
    {
     "name": "stderr",
     "output_type": "stream",
     "text": [
      "WARNING: You are using pip version 21.3.1; however, version 22.0.4 is available.\n",
      "You should consider upgrading via the 'E:\\PythonUSB\\PythonUSB\\Python\\python-3.9.9\\pythonw.exe -m pip install --upgrade pip' command.\n"
     ]
    },
    {
     "name": "stdout",
     "output_type": "stream",
     "text": [
      "Requirement already satisfied: six in e:\\pythonusb\\pythonusb\\python\\python-3.9.9\\lib\\site-packages (from patsy>=0.5.2->statsmodels) (1.16.0)\n",
      "Installing collected packages: patsy, statsmodels\n",
      "Successfully installed patsy-0.5.2 statsmodels-0.13.2\n"
     ]
    }
   ],
   "source": [
    "pip install statsmodels"
   ]
  },
  {
   "cell_type": "markdown",
   "id": "6ddf17dd-b027-4509-a774-eb4bd8d0af7a",
   "metadata": {},
   "source": [
    "実行が終わったら[]内が「\\*」から番号にかわりました。ここで、pip listによってインストールされているすべてのパッケージを一覧できます。"
   ]
  },
  {
   "cell_type": "code",
   "execution_count": 8,
   "id": "1bdf09c1-e55e-43cd-a144-15a9b02ed62c",
   "metadata": {},
   "outputs": [
    {
     "name": "stdout",
     "output_type": "stream",
     "text": [
      "Package             Version\n",
      "------------------- ---------\n",
      "anyio               3.4.0\n",
      "argon2-cffi         21.1.0\n",
      "Note: you may need to restart the kernel to use updated packages.\n",
      "attrs               21.2.0\n"
     ]
    },
    {
     "name": "stderr",
     "output_type": "stream",
     "text": [
      "WARNING: You are using pip version 21.3.1; however, version 22.0.4 is available.\n",
      "You should consider upgrading via the 'E:\\PythonUSB\\PythonUSB\\Python\\python-3.9.9\\pythonw.exe -m pip install --upgrade pip' command.\n"
     ]
    },
    {
     "name": "stdout",
     "output_type": "stream",
     "text": [
      "Babel               2.9.1\n",
      "backcall            0.2.0\n",
      "beautifulsoup4      4.10.0\n",
      "bleach              4.1.0\n",
      "certifi             2021.10.8\n",
      "cffi                1.15.0\n",
      "charset-normalizer  2.0.8\n",
      "colorama            0.4.4\n",
      "cycler              0.11.0\n",
      "debugpy             1.5.1\n",
      "decorator           5.1.0\n",
      "defusedxml          0.7.1\n",
      "entrypoints         0.3\n",
      "et-xmlfile          1.1.0\n",
      "fonttools           4.28.2\n",
      "idna                3.3\n",
      "ipykernel           6.5.1\n",
      "ipython             7.29.0\n",
      "ipython-genutils    0.2.0\n",
      "Jinja2              3.0.3\n",
      "json5               0.9.6\n",
      "jsonschema          4.2.1\n",
      "jupyter-client      7.1.0\n",
      "jupyter-core        4.9.1\n",
      "jupyter-server      1.12.0\n",
      "jupyterlab          3.2.4\n",
      "jupyterlab-pygments 0.1.2\n",
      "jupyterlab-server   2.8.2\n",
      "kiwisolver          1.3.2\n",
      "MarkupSafe          2.0.1\n",
      "matplotlib          3.5.0\n",
      "matplotlib-inline   0.1.3\n",
      "mistune             0.8.4\n",
      "nbclassic           0.3.4\n",
      "nbclient            0.5.9\n",
      "nbconvert           6.3.0\n",
      "nbformat            5.1.3\n",
      "nest-asyncio        1.5.1\n",
      "notebook            6.4.6\n",
      "numpy               1.21.4\n",
      "openpyxl            3.0.9\n",
      "packaging           21.3\n",
      "pandas              1.3.4\n",
      "pandocfilters       1.5.0\n",
      "parso               0.8.2\n",
      "pickleshare         0.7.5\n",
      "Pillow              8.4.0\n",
      "pip                 21.3.1\n",
      "prometheus-client   0.12.0\n",
      "prompt-toolkit      3.0.22\n",
      "pycparser           2.21\n",
      "Pygments            2.10.0\n",
      "pyparsing           3.0.6\n",
      "pyrsistent          0.18.0\n",
      "python-dateutil     2.8.2\n",
      "pytz                2021.3\n",
      "pywin32             302\n",
      "pywinpty            1.1.6\n",
      "pyzmq               22.3.0\n",
      "requests            2.26.0\n",
      "scipy               1.7.3\n",
      "seaborn             0.11.2\n",
      "Send2Trash          1.8.0\n",
      "setuptools          59.2.0\n",
      "setuptools-scm      6.3.2\n",
      "six                 1.16.0\n",
      "sniffio             1.2.0\n",
      "soupsieve           2.3.1\n",
      "terminado           0.12.1\n",
      "testpath            0.5.0\n",
      "tomli               1.2.2\n",
      "tornado             6.1\n",
      "traitlets           5.1.1\n",
      "urllib3             1.26.7\n",
      "wcwidth             0.2.5\n",
      "webencodings        0.5.1\n",
      "websocket-client    1.2.1\n",
      "wheel               0.37.0\n"
     ]
    }
   ],
   "source": [
    "pip list"
   ]
  },
  {
   "cell_type": "markdown",
   "id": "c89ad061-ac42-4e99-aa00-70534274ec82",
   "metadata": {},
   "source": [
    "statsmodelsが表示されないので、ノートブックを保存してJupyter Notebookを終了し、再び起動してから、再度pip listします。"
   ]
  },
  {
   "cell_type": "code",
   "execution_count": 1,
   "id": "a281c165-f19e-4675-a9de-bf76353f2890",
   "metadata": {},
   "outputs": [
    {
     "name": "stdout",
     "output_type": "stream",
     "text": [
      "Package             Version\n",
      "------------------- ---------\n",
      "anyio               3.4.0\n",
      "argon2-cffi         21.1.0\n",
      "attrs               21.2.0\n",
      "Babel               2.9.1\n",
      "backcall            0.2.0\n",
      "beautifulsoup4      4.10.0\n",
      "bleach              4.1.0\n",
      "certifi             2021.10.8\n",
      "cffi                1.15.0\n",
      "charset-normalizer  2.0.8\n",
      "colorama            0.4.4\n",
      "cycler              0.11.0\n",
      "debugpy             1.5.1\n",
      "decorator           5.1.0\n",
      "defusedxml          0.7.1\n",
      "entrypoints         0.3\n",
      "et-xmlfile          1.1.0\n",
      "fonttools           4.28.2\n",
      "idna                3.3\n",
      "ipykernel           6.5.1\n",
      "ipython             7.29.0\n",
      "ipython-genutils    0.2.0\n",
      "Jinja2              3.0.3\n",
      "json5               0.9.6\n",
      "jsonschema          4.2.1\n",
      "jupyter-client      7.1.0\n",
      "jupyter-core        4.9.1\n",
      "jupyter-server      1.12.0\n",
      "jupyterlab          3.2.4\n",
      "jupyterlab-pygments 0.1.2\n",
      "jupyterlab-server   2.8.2\n",
      "kiwisolver          1.3.2\n",
      "MarkupSafe          2.0.1\n",
      "matplotlib          3.5.0\n",
      "matplotlib-inline   0.1.3\n",
      "mistune             0.8.4\n",
      "nbclassic           0.3.4\n",
      "nbclient            0.5.9\n",
      "nbconvert           6.3.0\n",
      "nbformat            5.1.3\n",
      "nest-asyncio        1.5.1\n",
      "notebook            6.4.6\n",
      "numpy               1.21.4\n",
      "openpyxl            3.0.9\n",
      "packaging           21.3\n",
      "pandas              1.3.4\n",
      "pandocfilters       1.5.0\n",
      "parso               0.8.2\n",
      "patsy               0.5.2\n",
      "pickleshare         0.7.5\n",
      "Pillow              8.4.0\n",
      "pip                 21.3.1\n",
      "prometheus-client   0.12.0\n",
      "prompt-toolkit      3.0.22\n",
      "pycparser           2.21\n",
      "Pygments            2.10.0\n",
      "pyparsing           3.0.6\n",
      "pyrsistent          0.18.0\n",
      "python-dateutil     2.8.2\n",
      "pytz                2021.3\n",
      "pywin32             302\n",
      "pywinpty            1.1.6\n",
      "pyzmq               22.3.0\n",
      "requests            2.26.0\n",
      "scipy               1.7.3\n",
      "seaborn             0.11.2\n",
      "Send2Trash          1.8.0\n",
      "setuptools          59.2.0\n",
      "setuptools-scm      6.3.2\n",
      "six                 1.16.0\n",
      "sniffio             1.2.0\n",
      "soupsieve           2.3.1\n",
      "statsmodels         0.13.2\n",
      "terminado           0.12.1\n",
      "testpath            0.5.0\n",
      "tomli               1.2.2\n",
      "tornado             6.1\n",
      "traitlets           5.1.1\n",
      "urllib3             1.26.7\n",
      "wcwidth             0.2.5\n",
      "webencodings        0.5.1\n",
      "websocket-client    1.2.1\n",
      "wheel               0.37.0\n",
      "Note: you may need to restart the kernel to use updated packages.\n"
     ]
    },
    {
     "name": "stderr",
     "output_type": "stream",
     "text": [
      "WARNING: You are using pip version 21.3.1; however, version 22.0.4 is available.\n",
      "You should consider upgrading via the 'E:\\PythonUSB\\PythonUSB\\Python\\python-3.9.9\\pythonw.exe -m pip install --upgrade pip' command.\n"
     ]
    }
   ],
   "source": [
    "pip list"
   ]
  },
  {
   "cell_type": "markdown",
   "id": "f69a335e-82f1-453b-8b1b-2d2e7ec273e6",
   "metadata": {},
   "source": [
    "今度はstatsmodelsが表示されました。それでは、さきほどエラーメッセージの出た、statsmodelsのモジュールをインポートしましょう。"
   ]
  },
  {
   "cell_type": "markdown",
   "id": "437825fc-3097-4baa-a4ba-82cc0d4cae67",
   "metadata": {},
   "source": [
    "まずは、どっちみち使いますのでnumpyをインポートします。"
   ]
  },
  {
   "cell_type": "code",
   "execution_count": 2,
   "id": "43f37e44-a8a4-4a74-8002-d472cea690f7",
   "metadata": {},
   "outputs": [],
   "source": [
    "import numpy as np"
   ]
  },
  {
   "cell_type": "markdown",
   "id": "27fb3b6e-2886-4675-8177-5deaf94507a3",
   "metadata": {},
   "source": [
    "次にstatsmodels.apiモジュールをインポートしようとしましたが、エラーメッセージが出ました。"
   ]
  },
  {
   "cell_type": "code",
   "execution_count": 3,
   "id": "566f46ae-069d-4204-8e35-d860ec05a127",
   "metadata": {},
   "outputs": [
    {
     "ename": "ImportError",
     "evalue": "cannot import name 'read_sas' from 'pandas.io.sas' (unknown location)",
     "output_type": "error",
     "traceback": [
      "\u001b[1;31m---------------------------------------------------------------------------\u001b[0m",
      "\u001b[1;31mImportError\u001b[0m                               Traceback (most recent call last)",
      "\u001b[1;32m~\\AppData\\Local\\Temp/ipykernel_16716/2479605915.py\u001b[0m in \u001b[0;36m<module>\u001b[1;34m\u001b[0m\n\u001b[1;32m----> 1\u001b[1;33m \u001b[1;32mimport\u001b[0m \u001b[0mstatsmodels\u001b[0m\u001b[1;33m.\u001b[0m\u001b[0mapi\u001b[0m \u001b[1;32mas\u001b[0m \u001b[0msm\u001b[0m\u001b[1;33m\u001b[0m\u001b[1;33m\u001b[0m\u001b[0m\n\u001b[0m",
      "\u001b[1;32mE:\\PythonUSB\\PythonUSB\\Python\\python-3.9.9\\lib\\site-packages\\statsmodels\\api.py\u001b[0m in \u001b[0;36m<module>\u001b[1;34m\u001b[0m\n\u001b[0;32m     69\u001b[0m \u001b[1;33m\u001b[0m\u001b[0m\n\u001b[0;32m     70\u001b[0m \u001b[1;33m\u001b[0m\u001b[0m\n\u001b[1;32m---> 71\u001b[1;33m \u001b[1;32mfrom\u001b[0m \u001b[1;33m.\u001b[0m \u001b[1;32mimport\u001b[0m \u001b[0mdatasets\u001b[0m\u001b[1;33m,\u001b[0m \u001b[0mdistributions\u001b[0m\u001b[1;33m,\u001b[0m \u001b[0miolib\u001b[0m\u001b[1;33m,\u001b[0m \u001b[0mregression\u001b[0m\u001b[1;33m,\u001b[0m \u001b[0mrobust\u001b[0m\u001b[1;33m,\u001b[0m \u001b[0mtools\u001b[0m\u001b[1;33m\u001b[0m\u001b[1;33m\u001b[0m\u001b[0m\n\u001b[0m\u001b[0;32m     72\u001b[0m \u001b[1;32mfrom\u001b[0m \u001b[1;33m.\u001b[0m\u001b[0m__init__\u001b[0m \u001b[1;32mimport\u001b[0m \u001b[0mtest\u001b[0m\u001b[1;33m\u001b[0m\u001b[1;33m\u001b[0m\u001b[0m\n\u001b[0;32m     73\u001b[0m from .discrete.count_model import (\n",
      "\u001b[1;32mE:\\PythonUSB\\PythonUSB\\Python\\python-3.9.9\\lib\\site-packages\\statsmodels\\datasets\\__init__.py\u001b[0m in \u001b[0;36m<module>\u001b[1;34m\u001b[0m\n\u001b[0;32m      2\u001b[0m \u001b[0mDatasets\u001b[0m \u001b[0mmodule\u001b[0m\u001b[1;33m\u001b[0m\u001b[1;33m\u001b[0m\u001b[0m\n\u001b[0;32m      3\u001b[0m \"\"\"\n\u001b[1;32m----> 4\u001b[1;33m \u001b[1;32mfrom\u001b[0m \u001b[0mstatsmodels\u001b[0m\u001b[1;33m.\u001b[0m\u001b[0mtools\u001b[0m\u001b[1;33m.\u001b[0m\u001b[0m_testing\u001b[0m \u001b[1;32mimport\u001b[0m \u001b[0mPytestTester\u001b[0m\u001b[1;33m\u001b[0m\u001b[1;33m\u001b[0m\u001b[0m\n\u001b[0m\u001b[0;32m      5\u001b[0m \u001b[1;33m\u001b[0m\u001b[0m\n\u001b[0;32m      6\u001b[0m from . import (\n",
      "\u001b[1;32mE:\\PythonUSB\\PythonUSB\\Python\\python-3.9.9\\lib\\site-packages\\statsmodels\\tools\\__init__.py\u001b[0m in \u001b[0;36m<module>\u001b[1;34m\u001b[0m\n\u001b[1;32m----> 1\u001b[1;33m \u001b[1;32mfrom\u001b[0m \u001b[1;33m.\u001b[0m\u001b[0mtools\u001b[0m \u001b[1;32mimport\u001b[0m \u001b[0madd_constant\u001b[0m\u001b[1;33m,\u001b[0m \u001b[0mcategorical\u001b[0m\u001b[1;33m\u001b[0m\u001b[1;33m\u001b[0m\u001b[0m\n\u001b[0m\u001b[0;32m      2\u001b[0m \u001b[1;32mfrom\u001b[0m \u001b[0mstatsmodels\u001b[0m\u001b[1;33m.\u001b[0m\u001b[0mtools\u001b[0m\u001b[1;33m.\u001b[0m\u001b[0m_testing\u001b[0m \u001b[1;32mimport\u001b[0m \u001b[0mPytestTester\u001b[0m\u001b[1;33m\u001b[0m\u001b[1;33m\u001b[0m\u001b[0m\n\u001b[0;32m      3\u001b[0m \u001b[1;33m\u001b[0m\u001b[0m\n\u001b[0;32m      4\u001b[0m \u001b[0m__all__\u001b[0m \u001b[1;33m=\u001b[0m \u001b[1;33m[\u001b[0m\u001b[1;34m'test'\u001b[0m\u001b[1;33m,\u001b[0m \u001b[1;34m'add_constant'\u001b[0m\u001b[1;33m,\u001b[0m \u001b[1;34m'categorical'\u001b[0m\u001b[1;33m]\u001b[0m\u001b[1;33m\u001b[0m\u001b[1;33m\u001b[0m\u001b[0m\n\u001b[0;32m      5\u001b[0m \u001b[1;33m\u001b[0m\u001b[0m\n",
      "\u001b[1;32mE:\\PythonUSB\\PythonUSB\\Python\\python-3.9.9\\lib\\site-packages\\statsmodels\\tools\\tools.py\u001b[0m in \u001b[0;36m<module>\u001b[1;34m\u001b[0m\n\u001b[0;32m      3\u001b[0m \"\"\"\n\u001b[0;32m      4\u001b[0m \u001b[1;32mimport\u001b[0m \u001b[0mnumpy\u001b[0m \u001b[1;32mas\u001b[0m \u001b[0mnp\u001b[0m\u001b[1;33m\u001b[0m\u001b[1;33m\u001b[0m\u001b[0m\n\u001b[1;32m----> 5\u001b[1;33m \u001b[1;32mimport\u001b[0m \u001b[0mpandas\u001b[0m \u001b[1;32mas\u001b[0m \u001b[0mpd\u001b[0m\u001b[1;33m\u001b[0m\u001b[1;33m\u001b[0m\u001b[0m\n\u001b[0m\u001b[0;32m      6\u001b[0m \u001b[1;32mimport\u001b[0m \u001b[0mscipy\u001b[0m\u001b[1;33m.\u001b[0m\u001b[0mlinalg\u001b[0m\u001b[1;33m\u001b[0m\u001b[1;33m\u001b[0m\u001b[0m\n\u001b[0;32m      7\u001b[0m \u001b[1;33m\u001b[0m\u001b[0m\n",
      "\u001b[1;32mE:\\PythonUSB\\PythonUSB\\Python\\python-3.9.9\\lib\\site-packages\\pandas\\__init__.py\u001b[0m in \u001b[0;36m<module>\u001b[1;34m\u001b[0m\n\u001b[0;32m    141\u001b[0m \u001b[1;32mfrom\u001b[0m \u001b[0mpandas\u001b[0m\u001b[1;33m.\u001b[0m\u001b[0mutil\u001b[0m\u001b[1;33m.\u001b[0m\u001b[0m_print_versions\u001b[0m \u001b[1;32mimport\u001b[0m \u001b[0mshow_versions\u001b[0m\u001b[1;33m\u001b[0m\u001b[1;33m\u001b[0m\u001b[0m\n\u001b[0;32m    142\u001b[0m \u001b[1;33m\u001b[0m\u001b[0m\n\u001b[1;32m--> 143\u001b[1;33m from pandas.io.api import (\n\u001b[0m\u001b[0;32m    144\u001b[0m     \u001b[1;31m# excel\u001b[0m\u001b[1;33m\u001b[0m\u001b[1;33m\u001b[0m\u001b[0m\n\u001b[0;32m    145\u001b[0m     \u001b[0mExcelFile\u001b[0m\u001b[1;33m,\u001b[0m\u001b[1;33m\u001b[0m\u001b[1;33m\u001b[0m\u001b[0m\n",
      "\u001b[1;32mE:\\PythonUSB\\PythonUSB\\Python\\python-3.9.9\\lib\\site-packages\\pandas\\io\\api.py\u001b[0m in \u001b[0;36m<module>\u001b[1;34m\u001b[0m\n\u001b[0;32m     30\u001b[0m     \u001b[0mread_hdf\u001b[0m\u001b[1;33m,\u001b[0m\u001b[1;33m\u001b[0m\u001b[1;33m\u001b[0m\u001b[0m\n\u001b[0;32m     31\u001b[0m )\n\u001b[1;32m---> 32\u001b[1;33m \u001b[1;32mfrom\u001b[0m \u001b[0mpandas\u001b[0m\u001b[1;33m.\u001b[0m\u001b[0mio\u001b[0m\u001b[1;33m.\u001b[0m\u001b[0msas\u001b[0m \u001b[1;32mimport\u001b[0m \u001b[0mread_sas\u001b[0m\u001b[1;33m\u001b[0m\u001b[1;33m\u001b[0m\u001b[0m\n\u001b[0m\u001b[0;32m     33\u001b[0m \u001b[1;32mfrom\u001b[0m \u001b[0mpandas\u001b[0m\u001b[1;33m.\u001b[0m\u001b[0mio\u001b[0m\u001b[1;33m.\u001b[0m\u001b[0mspss\u001b[0m \u001b[1;32mimport\u001b[0m \u001b[0mread_spss\u001b[0m\u001b[1;33m\u001b[0m\u001b[1;33m\u001b[0m\u001b[0m\n\u001b[0;32m     34\u001b[0m from pandas.io.sql import (\n",
      "\u001b[1;31mImportError\u001b[0m: cannot import name 'read_sas' from 'pandas.io.sas' (unknown location)"
     ]
    }
   ],
   "source": [
    "import statsmodels.api as sm"
   ]
  },
  {
   "cell_type": "markdown",
   "id": "749156f8-5854-42f4-8ce6-d1d5e5289e63",
   "metadata": {},
   "source": [
    "statsmodelsの別のモジュールの場合も同様でした。"
   ]
  },
  {
   "cell_type": "code",
   "execution_count": 4,
   "id": "c130b48a-08f6-4980-aa84-836adac46c58",
   "metadata": {},
   "outputs": [
    {
     "ename": "ImportError",
     "evalue": "cannot import name 'read_sas' from 'pandas.io.sas' (unknown location)",
     "output_type": "error",
     "traceback": [
      "\u001b[1;31m---------------------------------------------------------------------------\u001b[0m",
      "\u001b[1;31mImportError\u001b[0m                               Traceback (most recent call last)",
      "\u001b[1;32m~\\AppData\\Local\\Temp/ipykernel_16716/3218958857.py\u001b[0m in \u001b[0;36m<module>\u001b[1;34m\u001b[0m\n\u001b[1;32m----> 1\u001b[1;33m \u001b[1;32mimport\u001b[0m \u001b[0mstatsmodels\u001b[0m\u001b[1;33m.\u001b[0m\u001b[0mformula\u001b[0m\u001b[1;33m.\u001b[0m\u001b[0mapi\u001b[0m \u001b[1;32mas\u001b[0m \u001b[0msmf\u001b[0m\u001b[1;33m\u001b[0m\u001b[1;33m\u001b[0m\u001b[0m\n\u001b[0m",
      "\u001b[1;32mE:\\PythonUSB\\PythonUSB\\Python\\python-3.9.9\\lib\\site-packages\\statsmodels\\formula\\__init__.py\u001b[0m in \u001b[0;36m<module>\u001b[1;34m\u001b[0m\n\u001b[0;32m      1\u001b[0m \u001b[0m__all__\u001b[0m \u001b[1;33m=\u001b[0m \u001b[1;33m[\u001b[0m\u001b[1;34m'handle_formula_data'\u001b[0m\u001b[1;33m,\u001b[0m \u001b[1;34m'test'\u001b[0m\u001b[1;33m]\u001b[0m\u001b[1;33m\u001b[0m\u001b[1;33m\u001b[0m\u001b[0m\n\u001b[1;32m----> 2\u001b[1;33m \u001b[1;32mfrom\u001b[0m \u001b[1;33m.\u001b[0m\u001b[0mformulatools\u001b[0m \u001b[1;32mimport\u001b[0m \u001b[0mhandle_formula_data\u001b[0m\u001b[1;33m\u001b[0m\u001b[1;33m\u001b[0m\u001b[0m\n\u001b[0m\u001b[0;32m      3\u001b[0m \u001b[1;33m\u001b[0m\u001b[0m\n\u001b[0;32m      4\u001b[0m \u001b[1;32mfrom\u001b[0m \u001b[0mstatsmodels\u001b[0m\u001b[1;33m.\u001b[0m\u001b[0mtools\u001b[0m\u001b[1;33m.\u001b[0m\u001b[0m_testing\u001b[0m \u001b[1;32mimport\u001b[0m \u001b[0mPytestTester\u001b[0m\u001b[1;33m\u001b[0m\u001b[1;33m\u001b[0m\u001b[0m\n\u001b[0;32m      5\u001b[0m \u001b[1;33m\u001b[0m\u001b[0m\n",
      "\u001b[1;32mE:\\PythonUSB\\PythonUSB\\Python\\python-3.9.9\\lib\\site-packages\\statsmodels\\formula\\formulatools.py\u001b[0m in \u001b[0;36m<module>\u001b[1;34m\u001b[0m\n\u001b[1;32m----> 1\u001b[1;33m \u001b[1;32mimport\u001b[0m \u001b[0mstatsmodels\u001b[0m\u001b[1;33m.\u001b[0m\u001b[0mtools\u001b[0m\u001b[1;33m.\u001b[0m\u001b[0mdata\u001b[0m \u001b[1;32mas\u001b[0m \u001b[0mdata_util\u001b[0m\u001b[1;33m\u001b[0m\u001b[1;33m\u001b[0m\u001b[0m\n\u001b[0m\u001b[0;32m      2\u001b[0m \u001b[1;32mfrom\u001b[0m \u001b[0mpatsy\u001b[0m \u001b[1;32mimport\u001b[0m \u001b[0mdmatrices\u001b[0m\u001b[1;33m,\u001b[0m \u001b[0mNAAction\u001b[0m\u001b[1;33m\u001b[0m\u001b[1;33m\u001b[0m\u001b[0m\n\u001b[0;32m      3\u001b[0m \u001b[1;32mimport\u001b[0m \u001b[0mnumpy\u001b[0m \u001b[1;32mas\u001b[0m \u001b[0mnp\u001b[0m\u001b[1;33m\u001b[0m\u001b[1;33m\u001b[0m\u001b[0m\n\u001b[0;32m      4\u001b[0m \u001b[1;33m\u001b[0m\u001b[0m\n\u001b[0;32m      5\u001b[0m \u001b[1;31m# if users want to pass in a different formula framework, they can\u001b[0m\u001b[1;33m\u001b[0m\u001b[1;33m\u001b[0m\u001b[0m\n",
      "\u001b[1;32mE:\\PythonUSB\\PythonUSB\\Python\\python-3.9.9\\lib\\site-packages\\statsmodels\\tools\\__init__.py\u001b[0m in \u001b[0;36m<module>\u001b[1;34m\u001b[0m\n\u001b[1;32m----> 1\u001b[1;33m \u001b[1;32mfrom\u001b[0m \u001b[1;33m.\u001b[0m\u001b[0mtools\u001b[0m \u001b[1;32mimport\u001b[0m \u001b[0madd_constant\u001b[0m\u001b[1;33m,\u001b[0m \u001b[0mcategorical\u001b[0m\u001b[1;33m\u001b[0m\u001b[1;33m\u001b[0m\u001b[0m\n\u001b[0m\u001b[0;32m      2\u001b[0m \u001b[1;32mfrom\u001b[0m \u001b[0mstatsmodels\u001b[0m\u001b[1;33m.\u001b[0m\u001b[0mtools\u001b[0m\u001b[1;33m.\u001b[0m\u001b[0m_testing\u001b[0m \u001b[1;32mimport\u001b[0m \u001b[0mPytestTester\u001b[0m\u001b[1;33m\u001b[0m\u001b[1;33m\u001b[0m\u001b[0m\n\u001b[0;32m      3\u001b[0m \u001b[1;33m\u001b[0m\u001b[0m\n\u001b[0;32m      4\u001b[0m \u001b[0m__all__\u001b[0m \u001b[1;33m=\u001b[0m \u001b[1;33m[\u001b[0m\u001b[1;34m'test'\u001b[0m\u001b[1;33m,\u001b[0m \u001b[1;34m'add_constant'\u001b[0m\u001b[1;33m,\u001b[0m \u001b[1;34m'categorical'\u001b[0m\u001b[1;33m]\u001b[0m\u001b[1;33m\u001b[0m\u001b[1;33m\u001b[0m\u001b[0m\n\u001b[0;32m      5\u001b[0m \u001b[1;33m\u001b[0m\u001b[0m\n",
      "\u001b[1;32mE:\\PythonUSB\\PythonUSB\\Python\\python-3.9.9\\lib\\site-packages\\statsmodels\\tools\\tools.py\u001b[0m in \u001b[0;36m<module>\u001b[1;34m\u001b[0m\n\u001b[0;32m      3\u001b[0m \"\"\"\n\u001b[0;32m      4\u001b[0m \u001b[1;32mimport\u001b[0m \u001b[0mnumpy\u001b[0m \u001b[1;32mas\u001b[0m \u001b[0mnp\u001b[0m\u001b[1;33m\u001b[0m\u001b[1;33m\u001b[0m\u001b[0m\n\u001b[1;32m----> 5\u001b[1;33m \u001b[1;32mimport\u001b[0m \u001b[0mpandas\u001b[0m \u001b[1;32mas\u001b[0m \u001b[0mpd\u001b[0m\u001b[1;33m\u001b[0m\u001b[1;33m\u001b[0m\u001b[0m\n\u001b[0m\u001b[0;32m      6\u001b[0m \u001b[1;32mimport\u001b[0m \u001b[0mscipy\u001b[0m\u001b[1;33m.\u001b[0m\u001b[0mlinalg\u001b[0m\u001b[1;33m\u001b[0m\u001b[1;33m\u001b[0m\u001b[0m\n\u001b[0;32m      7\u001b[0m \u001b[1;33m\u001b[0m\u001b[0m\n",
      "\u001b[1;32mE:\\PythonUSB\\PythonUSB\\Python\\python-3.9.9\\lib\\site-packages\\pandas\\__init__.py\u001b[0m in \u001b[0;36m<module>\u001b[1;34m\u001b[0m\n\u001b[0;32m    141\u001b[0m \u001b[1;32mfrom\u001b[0m \u001b[0mpandas\u001b[0m\u001b[1;33m.\u001b[0m\u001b[0mutil\u001b[0m\u001b[1;33m.\u001b[0m\u001b[0m_print_versions\u001b[0m \u001b[1;32mimport\u001b[0m \u001b[0mshow_versions\u001b[0m\u001b[1;33m\u001b[0m\u001b[1;33m\u001b[0m\u001b[0m\n\u001b[0;32m    142\u001b[0m \u001b[1;33m\u001b[0m\u001b[0m\n\u001b[1;32m--> 143\u001b[1;33m from pandas.io.api import (\n\u001b[0m\u001b[0;32m    144\u001b[0m     \u001b[1;31m# excel\u001b[0m\u001b[1;33m\u001b[0m\u001b[1;33m\u001b[0m\u001b[0m\n\u001b[0;32m    145\u001b[0m     \u001b[0mExcelFile\u001b[0m\u001b[1;33m,\u001b[0m\u001b[1;33m\u001b[0m\u001b[1;33m\u001b[0m\u001b[0m\n",
      "\u001b[1;32mE:\\PythonUSB\\PythonUSB\\Python\\python-3.9.9\\lib\\site-packages\\pandas\\io\\api.py\u001b[0m in \u001b[0;36m<module>\u001b[1;34m\u001b[0m\n\u001b[0;32m     30\u001b[0m     \u001b[0mread_hdf\u001b[0m\u001b[1;33m,\u001b[0m\u001b[1;33m\u001b[0m\u001b[1;33m\u001b[0m\u001b[0m\n\u001b[0;32m     31\u001b[0m )\n\u001b[1;32m---> 32\u001b[1;33m \u001b[1;32mfrom\u001b[0m \u001b[0mpandas\u001b[0m\u001b[1;33m.\u001b[0m\u001b[0mio\u001b[0m\u001b[1;33m.\u001b[0m\u001b[0msas\u001b[0m \u001b[1;32mimport\u001b[0m \u001b[0mread_sas\u001b[0m\u001b[1;33m\u001b[0m\u001b[1;33m\u001b[0m\u001b[0m\n\u001b[0m\u001b[0;32m     33\u001b[0m \u001b[1;32mfrom\u001b[0m \u001b[0mpandas\u001b[0m\u001b[1;33m.\u001b[0m\u001b[0mio\u001b[0m\u001b[1;33m.\u001b[0m\u001b[0mspss\u001b[0m \u001b[1;32mimport\u001b[0m \u001b[0mread_spss\u001b[0m\u001b[1;33m\u001b[0m\u001b[1;33m\u001b[0m\u001b[0m\n\u001b[0;32m     34\u001b[0m from pandas.io.sql import (\n",
      "\u001b[1;31mImportError\u001b[0m: cannot import name 'read_sas' from 'pandas.io.sas' (unknown location)"
     ]
    }
   ],
   "source": [
    "import statsmodels.formula.api as smf"
   ]
  },
  {
   "cell_type": "markdown",
   "id": "6477e5d4-e0b7-4f2e-a34f-cf0b52b7b80f",
   "metadata": {},
   "source": [
    "これら２つのエラーメッセージは、pandasパッケージのモジュールが原因だと考えられます。"
   ]
  },
  {
   "cell_type": "markdown",
   "id": "f4b1a6df-e133-4982-91b5-15e8fd9659be",
   "metadata": {},
   "source": [
    "さらに、次のような、statsmodels.apiモジュールを使う命令（statsmodelsのマニュアルのIntroductionから）を実行させようとしても、statsmodels.apiは、さっきインポートしたつもりっだのに、実はまだインポートされていないことを意味するエラーメッセージが出ました。"
   ]
  },
  {
   "cell_type": "code",
   "execution_count": 5,
   "id": "2f7ee883-b252-4eff-849a-ca71d80712fd",
   "metadata": {},
   "outputs": [
    {
     "ename": "NameError",
     "evalue": "name 'sm' is not defined",
     "output_type": "error",
     "traceback": [
      "\u001b[1;31m---------------------------------------------------------------------------\u001b[0m",
      "\u001b[1;31mNameError\u001b[0m                                 Traceback (most recent call last)",
      "\u001b[1;32m~\\AppData\\Local\\Temp/ipykernel_16716/1055060243.py\u001b[0m in \u001b[0;36m<module>\u001b[1;34m\u001b[0m\n\u001b[1;32m----> 1\u001b[1;33m \u001b[0mdat\u001b[0m \u001b[1;33m=\u001b[0m \u001b[0msm\u001b[0m\u001b[1;33m.\u001b[0m\u001b[0mdatasets\u001b[0m\u001b[1;33m.\u001b[0m\u001b[0mget_rdataset\u001b[0m\u001b[1;33m(\u001b[0m\u001b[1;34m\"Guerry\"\u001b[0m\u001b[1;33m,\u001b[0m \u001b[1;34m\"HistData\"\u001b[0m\u001b[1;33m)\u001b[0m\u001b[1;33m.\u001b[0m\u001b[0mdata\u001b[0m\u001b[1;33m\u001b[0m\u001b[1;33m\u001b[0m\u001b[0m\n\u001b[0m",
      "\u001b[1;31mNameError\u001b[0m: name 'sm' is not defined"
     ]
    }
   ],
   "source": [
    "dat = sm.datasets.get_rdataset(\"Guerry\", \"HistData\").data"
   ]
  },
  {
   "cell_type": "markdown",
   "id": "39668df0-f82a-4fb4-a6a8-3c3e8596a39f",
   "metadata": {},
   "source": [
    "Pandasが原因で、statsmodelsが正しく構成できていないため、インポートがうまくいかなかった可能性があります。そこで、pandasパッケージの情報をpip showで確認します。バージョンが1.3.4とわかります。"
   ]
  },
  {
   "cell_type": "code",
   "execution_count": 6,
   "id": "f2c808a8-f160-4db0-ac43-315ce01d1c62",
   "metadata": {},
   "outputs": [
    {
     "name": "stdout",
     "output_type": "stream",
     "text": [
      "Name: pandasNote: you may need to restart the kernel to use updated packages.\n",
      "Version: 1.3.4\n",
      "Summary: Powerful data structures for data analysis, time series, and statistics\n",
      "Home-page: https://pandas.pydata.org\n",
      "Author: The Pandas Development Team\n",
      "\n",
      "Author-email: pandas-dev@python.org\n",
      "License: BSD-3-Clause\n",
      "Location: e:\\pythonusb\\pythonusb\\python\\python-3.9.9\\lib\\site-packages\n",
      "Requires: numpy, python-dateutil, pytz\n",
      "Required-by: seaborn, statsmodels\n"
     ]
    }
   ],
   "source": [
    "pip show pandas"
   ]
  },
  {
   "cell_type": "markdown",
   "id": "04950af9-ad73-49f3-8fd0-02c2a7c2e837",
   "metadata": {},
   "source": [
    "対策として、pandasをアップデートしたらどうかと考えました。そこで、outdatedなパッケージの一覧をpip list -oで表示します。"
   ]
  },
  {
   "cell_type": "code",
   "execution_count": 7,
   "id": "8f2322f8-6370-40d8-97e5-9aa824ab44b4",
   "metadata": {},
   "outputs": [
    {
     "name": "stdout",
     "output_type": "stream",
     "text": [
      "Package             Version Latest      Type\n",
      "------------------- ------- ----------- -----\n",
      "anyio               3.4.0   3.5.0       wheel\n",
      "argon2-cffi         21.1.0  21.3.0      wheel\n",
      "attrs               21.2.0  21.4.0      wheel\n",
      "Babel               2.9.1   2.10.1      wheel\n",
      "beautifulsoup4      4.10.0  4.11.1      wheel\n",
      "bleach              4.1.0   5.0.0       wheel\n",
      "charset-normalizer  2.0.8   2.0.12      wheel\n",
      "debugpy             1.5.1   1.6.0       wheel\n",
      "decorator           5.1.0   5.1.1       wheel\n",
      "entrypoints         0.3     0.4         wheel\n",
      "fonttools           4.28.2  4.33.3      wheel\n",
      "ipykernel           6.5.1   6.13.0      wheel\n",
      "ipython             7.29.0  8.3.0       wheel\n",
      "Jinja2              3.0.3   3.1.2       wheel\n",
      "jsonschema          4.2.1   4.5.1       wheel\n",
      "jupyter-client      7.1.0   7.3.0       wheel\n",
      "jupyter-core        4.9.1   4.10.0      wheel\n",
      "jupyter-server      1.12.0  1.17.0      wheel\n",
      "jupyterlab          3.2.4   3.4.0       wheel\n",
      "jupyterlab-pygments 0.1.2   0.2.2       wheel\n",
      "jupyterlab-server   2.8.2   2.13.0      wheel\n",
      "kiwisolver          1.3.2   1.4.2       wheel\n",
      "MarkupSafe          2.0.1   2.1.1       wheel\n",
      "Note: you may need to restart the kernel to use updated packages.\n"
     ]
    },
    {
     "name": "stderr",
     "output_type": "stream",
     "text": [
      "WARNING: You are using pip version 21.3.1; however, version 22.0.4 is available.\n",
      "You should consider upgrading via the 'E:\\PythonUSB\\PythonUSB\\Python\\python-3.9.9\\pythonw.exe -m pip install --upgrade pip' command.\n"
     ]
    },
    {
     "name": "stdout",
     "output_type": "stream",
     "text": [
      "matplotlib          3.5.0   3.5.2       wheel\n",
      "mistune             0.8.4   2.0.2       wheel\n",
      "nbclassic           0.3.4   0.3.7       wheel\n",
      "nbclient            0.5.9   0.6.2       wheel\n",
      "nbconvert           6.3.0   6.5.0       wheel\n",
      "nbformat            5.1.3   5.4.0       wheel\n",
      "nest-asyncio        1.5.1   1.5.5       wheel\n",
      "notebook            6.4.6   6.4.11      wheel\n",
      "numpy               1.21.4  1.22.3      wheel\n",
      "pandas              1.3.4   1.4.2       wheel\n",
      "parso               0.8.2   0.8.3       wheel\n",
      "Pillow              8.4.0   9.1.0       wheel\n",
      "pip                 21.3.1  22.0.4      wheel\n",
      "prometheus-client   0.12.0  0.14.1      wheel\n",
      "prompt-toolkit      3.0.22  3.0.29      wheel\n",
      "Pygments            2.10.0  2.12.0      wheel\n",
      "pyparsing           3.0.6   3.0.8       wheel\n",
      "pyrsistent          0.18.0  0.18.1      wheel\n",
      "pytz                2021.3  2022.1      wheel\n",
      "pywin32             302     304         wheel\n",
      "pywinpty            1.1.6   2.0.5       wheel\n",
      "requests            2.26.0  2.27.1      wheel\n",
      "scipy               1.7.3   1.8.0       wheel\n",
      "setuptools          59.2.0  62.1.0      wheel\n",
      "setuptools-scm      6.3.2   6.4.2       wheel\n",
      "soupsieve           2.3.1   2.3.2.post1 wheel\n",
      "terminado           0.12.1  0.13.3      wheel\n",
      "testpath            0.5.0   0.6.0       wheel\n",
      "tomli               1.2.2   2.0.1       wheel\n",
      "urllib3             1.26.7  1.26.9      wheel\n",
      "websocket-client    1.2.1   1.3.2       wheel\n",
      "wheel               0.37.0  0.37.1      wheel\n"
     ]
    }
   ],
   "source": [
    "pip list -o"
   ]
  },
  {
   "cell_type": "markdown",
   "id": "e30bd46b-feee-4125-9712-6a1df66b4d82",
   "metadata": {},
   "source": [
    "確かに、pandasは最新が1.4.2であるところ、この環境では1.3.4になっています。"
   ]
  },
  {
   "cell_type": "markdown",
   "id": "e2f579ba-aef3-461b-a755-62dc2da2fc2e",
   "metadata": {},
   "source": [
    "そこで、pip install -U によって、pandasのupdateを試みました。"
   ]
  },
  {
   "cell_type": "code",
   "execution_count": 8,
   "id": "9b239ac0-5ed1-4c1d-b7b5-233654be0d52",
   "metadata": {},
   "outputs": [
    {
     "name": "stdout",
     "output_type": "stream",
     "text": [
      "Requirement already satisfied: pandas in e:\\pythonusb\\pythonusb\\python\\python-3.9.9\\lib\\site-packages (1.3.4)\n",
      "Collecting pandas\n",
      "  Downloading pandas-1.4.2-cp39-cp39-win_amd64.whl (10.5 MB)\n",
      "Requirement already satisfied: python-dateutil>=2.8.1 in e:\\pythonusb\\pythonusb\\python\\python-3.9.9\\lib\\site-packages (from pandas) (2.8.2)\n",
      "Note: you may need to restart the kernel to use updated packages.\n"
     ]
    },
    {
     "name": "stderr",
     "output_type": "stream",
     "text": [
      "ERROR: Could not install packages due to an OSError: [WinError 5] アクセスが拒否されました。: 'E:\\\\PythonUSB\\\\PythonUSB\\\\Python\\\\python-3.9.9\\\\Lib\\\\site-packages\\\\pandas\\\\~libs\\\\algos.cp39-win_amd64.pyd'\n",
      "Consider using the `--user` option or check the permissions.\n",
      "\n",
      "WARNING: You are using pip version 21.3.1; however, version 22.0.4 is available.\n",
      "You should consider upgrading via the 'E:\\PythonUSB\\PythonUSB\\Python\\python-3.9.9\\pythonw.exe -m pip install --upgrade pip' command.\n"
     ]
    },
    {
     "name": "stdout",
     "output_type": "stream",
     "text": [
      "Requirement already satisfied: numpy>=1.18.5 in e:\\pythonusb\\pythonusb\\python\\python-3.9.9\\lib\\site-packages (from pandas) (1.21.4)\n",
      "Requirement already satisfied: pytz>=2020.1 in e:\\pythonusb\\pythonusb\\python\\python-3.9.9\\lib\\site-packages (from pandas) (2021.3)\n",
      "Requirement already satisfied: six>=1.5 in e:\\pythonusb\\pythonusb\\python\\python-3.9.9\\lib\\site-packages (from python-dateutil>=2.8.1->pandas) (1.16.0)\n",
      "Installing collected packages: pandas\n",
      "  Attempting uninstall: pandas\n",
      "    Found existing installation: pandas 1.3.4\n",
      "    Uninstalling pandas-1.3.4:\n",
      "      Successfully uninstalled pandas-1.3.4\n"
     ]
    }
   ],
   "source": [
    "pip install -U pandas"
   ]
  },
  {
   "cell_type": "markdown",
   "id": "9ea3e34a-69eb-42e8-bb73-84de9b8b581e",
   "metadata": {},
   "source": [
    "エラーメッセージが出ましたが、ひとつはこれまでも出ている、pipのバージョンについてです。もう一つが気になりますが、とりあえず、pandasのバージョンが上がっているか、一度ノートブックを保存して、Jupyter notebookを終了して再起動してから、pip show pandasで確かめます。"
   ]
  },
  {
   "cell_type": "code",
   "execution_count": 9,
   "id": "dedb5c79-137b-4b90-9212-6348877dceca",
   "metadata": {},
   "outputs": [
    {
     "name": "stdout",
     "output_type": "stream",
     "text": [
      "Name: pandas\n",
      "Version: 1.4.2\n",
      "Summary: Powerful data structures for data analysis, time series, and statistics\n",
      "Home-page: https://pandas.pydata.org\n",
      "Author: The Pandas Development Team\n",
      "Author-email: pandas-dev@python.org\n",
      "License: BSD-3-Clause\n",
      "Location: e:\\pythonusb\\pythonusb\\python\\python-3.9.9\\lib\\site-packages\n",
      "Requires: numpy, python-dateutil, pytz\n",
      "Required-by: seaborn, statsmodels\n",
      "Note: you may need to restart the kernel to use updated packages.\n"
     ]
    }
   ],
   "source": [
    "pip show pandas"
   ]
  },
  {
   "cell_type": "markdown",
   "id": "9fbb8a2d-f090-4610-a1c4-ae2152652b5d",
   "metadata": {},
   "source": [
    "このように、バージョンが上がっていることが確認できました。"
   ]
  },
  {
   "cell_type": "markdown",
   "id": "03be62fd-9890-4353-976e-f3d397724c42",
   "metadata": {},
   "source": [
    "それでは、再度、statsmoodelsのモジュールのインポートを試みます。"
   ]
  },
  {
   "cell_type": "code",
   "execution_count": 31,
   "id": "5c2f464f-3a38-4ea4-b03e-6d77aa8bb5bc",
   "metadata": {},
   "outputs": [],
   "source": [
    "import numpy as np"
   ]
  },
  {
   "cell_type": "code",
   "execution_count": 32,
   "id": "025fbcaa-b37c-4ad1-b7d7-c55ce831fdd4",
   "metadata": {},
   "outputs": [],
   "source": [
    "import statsmodels.api as sm"
   ]
  },
  {
   "cell_type": "code",
   "execution_count": 33,
   "id": "67121fbd-16ea-4faf-9ca4-f62036b776cb",
   "metadata": {
    "tags": []
   },
   "outputs": [],
   "source": [
    "import statsmodels.formula.api as smf"
   ]
  },
  {
   "cell_type": "markdown",
   "id": "8fc03788-212d-4801-b1be-7241be30b06d",
   "metadata": {},
   "source": [
    "今度はインポートできたようです。以下、前述のIntroductionに書かれた命令を入力してみます。"
   ]
  },
  {
   "cell_type": "code",
   "execution_count": 34,
   "id": "019ea3df-73b5-4483-bd2a-c2bb42189cde",
   "metadata": {},
   "outputs": [],
   "source": [
    "dat = sm.datasets.get_rdataset(\"Guerry\", \"HistData\").data"
   ]
  },
  {
   "cell_type": "code",
   "execution_count": 35,
   "id": "fbd02b42-6f3c-44dc-b4b8-6febf8bceff5",
   "metadata": {},
   "outputs": [],
   "source": [
    "results = smf.ols('Lottery ~ Literacy + np.log(Pop1831)', data=dat).fit()"
   ]
  },
  {
   "cell_type": "code",
   "execution_count": 36,
   "id": "6dd17ccc-3aca-4285-bbbf-67b400463486",
   "metadata": {},
   "outputs": [
    {
     "name": "stdout",
     "output_type": "stream",
     "text": [
      "                            OLS Regression Results                            \n",
      "==============================================================================\n",
      "Dep. Variable:                Lottery   R-squared:                       0.348\n",
      "Model:                            OLS   Adj. R-squared:                  0.333\n",
      "Method:                 Least Squares   F-statistic:                     22.20\n",
      "Date:                Sat, 07 May 2022   Prob (F-statistic):           1.90e-08\n",
      "Time:                        10:46:20   Log-Likelihood:                -379.82\n",
      "No. Observations:                  86   AIC:                             765.6\n",
      "Df Residuals:                      83   BIC:                             773.0\n",
      "Df Model:                           2                                         \n",
      "Covariance Type:            nonrobust                                         \n",
      "===================================================================================\n",
      "                      coef    std err          t      P>|t|      [0.025      0.975]\n",
      "-----------------------------------------------------------------------------------\n",
      "Intercept         246.4341     35.233      6.995      0.000     176.358     316.510\n",
      "Literacy           -0.4889      0.128     -3.832      0.000      -0.743      -0.235\n",
      "np.log(Pop1831)   -31.3114      5.977     -5.239      0.000     -43.199     -19.424\n",
      "==============================================================================\n",
      "Omnibus:                        3.713   Durbin-Watson:                   2.019\n",
      "Prob(Omnibus):                  0.156   Jarque-Bera (JB):                3.394\n",
      "Skew:                          -0.487   Prob(JB):                        0.183\n",
      "Kurtosis:                       3.003   Cond. No.                         702.\n",
      "==============================================================================\n",
      "\n",
      "Notes:\n",
      "[1] Standard Errors assume that the covariance matrix of the errors is correctly specified.\n"
     ]
    }
   ],
   "source": [
    "print(results.summary())"
   ]
  },
  {
   "cell_type": "markdown",
   "id": "ac6144c9-a7b8-43d7-8109-e5f406756706",
   "metadata": {},
   "source": [
    "このように、実行することができました。"
   ]
  },
  {
   "cell_type": "markdown",
   "id": "23770d0a-b8a6-4bc4-9fb9-602217514fa0",
   "metadata": {},
   "source": [
    "これらの命令と結果の意味するところは、回を改めてお話します。今回は、どのような「データフレーム」ができたのか、見てみましょう。"
   ]
  },
  {
   "cell_type": "markdown",
   "id": "cabdac18-feef-41ba-a26c-8da5a499d88c",
   "metadata": {},
   "source": [
    "データフレームとは、列のタイトルも含めた表データです。NumPyの配列（アレイ）と違うところは、列（項目）に名前でアクセスできることです。"
   ]
  },
  {
   "cell_type": "code",
   "execution_count": 37,
   "id": "44419480-519b-4098-ba2a-68b65025443e",
   "metadata": {},
   "outputs": [
    {
     "data": {
      "text/html": [
       "<div>\n",
       "<style scoped>\n",
       "    .dataframe tbody tr th:only-of-type {\n",
       "        vertical-align: middle;\n",
       "    }\n",
       "\n",
       "    .dataframe tbody tr th {\n",
       "        vertical-align: top;\n",
       "    }\n",
       "\n",
       "    .dataframe thead th {\n",
       "        text-align: right;\n",
       "    }\n",
       "</style>\n",
       "<table border=\"1\" class=\"dataframe\">\n",
       "  <thead>\n",
       "    <tr style=\"text-align: right;\">\n",
       "      <th></th>\n",
       "      <th>dept</th>\n",
       "      <th>Region</th>\n",
       "      <th>Department</th>\n",
       "      <th>Crime_pers</th>\n",
       "      <th>Crime_prop</th>\n",
       "      <th>Literacy</th>\n",
       "      <th>Donations</th>\n",
       "      <th>Infants</th>\n",
       "      <th>Suicides</th>\n",
       "      <th>MainCity</th>\n",
       "      <th>...</th>\n",
       "      <th>Crime_parents</th>\n",
       "      <th>Infanticide</th>\n",
       "      <th>Donation_clergy</th>\n",
       "      <th>Lottery</th>\n",
       "      <th>Desertion</th>\n",
       "      <th>Instruction</th>\n",
       "      <th>Prostitutes</th>\n",
       "      <th>Distance</th>\n",
       "      <th>Area</th>\n",
       "      <th>Pop1831</th>\n",
       "    </tr>\n",
       "  </thead>\n",
       "  <tbody>\n",
       "    <tr>\n",
       "      <th>0</th>\n",
       "      <td>1</td>\n",
       "      <td>E</td>\n",
       "      <td>Ain</td>\n",
       "      <td>28870</td>\n",
       "      <td>15890</td>\n",
       "      <td>37</td>\n",
       "      <td>5098</td>\n",
       "      <td>33120</td>\n",
       "      <td>35039</td>\n",
       "      <td>2:Med</td>\n",
       "      <td>...</td>\n",
       "      <td>71</td>\n",
       "      <td>60</td>\n",
       "      <td>69</td>\n",
       "      <td>41</td>\n",
       "      <td>55</td>\n",
       "      <td>46</td>\n",
       "      <td>13</td>\n",
       "      <td>218.372</td>\n",
       "      <td>5762</td>\n",
       "      <td>346.03</td>\n",
       "    </tr>\n",
       "    <tr>\n",
       "      <th>1</th>\n",
       "      <td>2</td>\n",
       "      <td>N</td>\n",
       "      <td>Aisne</td>\n",
       "      <td>26226</td>\n",
       "      <td>5521</td>\n",
       "      <td>51</td>\n",
       "      <td>8901</td>\n",
       "      <td>14572</td>\n",
       "      <td>12831</td>\n",
       "      <td>2:Med</td>\n",
       "      <td>...</td>\n",
       "      <td>4</td>\n",
       "      <td>82</td>\n",
       "      <td>36</td>\n",
       "      <td>38</td>\n",
       "      <td>82</td>\n",
       "      <td>24</td>\n",
       "      <td>327</td>\n",
       "      <td>65.945</td>\n",
       "      <td>7369</td>\n",
       "      <td>513.00</td>\n",
       "    </tr>\n",
       "    <tr>\n",
       "      <th>2</th>\n",
       "      <td>3</td>\n",
       "      <td>C</td>\n",
       "      <td>Allier</td>\n",
       "      <td>26747</td>\n",
       "      <td>7925</td>\n",
       "      <td>13</td>\n",
       "      <td>10973</td>\n",
       "      <td>17044</td>\n",
       "      <td>114121</td>\n",
       "      <td>2:Med</td>\n",
       "      <td>...</td>\n",
       "      <td>46</td>\n",
       "      <td>42</td>\n",
       "      <td>76</td>\n",
       "      <td>66</td>\n",
       "      <td>16</td>\n",
       "      <td>85</td>\n",
       "      <td>34</td>\n",
       "      <td>161.927</td>\n",
       "      <td>7340</td>\n",
       "      <td>298.26</td>\n",
       "    </tr>\n",
       "    <tr>\n",
       "      <th>3</th>\n",
       "      <td>4</td>\n",
       "      <td>E</td>\n",
       "      <td>Basses-Alpes</td>\n",
       "      <td>12935</td>\n",
       "      <td>7289</td>\n",
       "      <td>46</td>\n",
       "      <td>2733</td>\n",
       "      <td>23018</td>\n",
       "      <td>14238</td>\n",
       "      <td>1:Sm</td>\n",
       "      <td>...</td>\n",
       "      <td>70</td>\n",
       "      <td>12</td>\n",
       "      <td>37</td>\n",
       "      <td>80</td>\n",
       "      <td>32</td>\n",
       "      <td>29</td>\n",
       "      <td>2</td>\n",
       "      <td>351.399</td>\n",
       "      <td>6925</td>\n",
       "      <td>155.90</td>\n",
       "    </tr>\n",
       "    <tr>\n",
       "      <th>4</th>\n",
       "      <td>5</td>\n",
       "      <td>E</td>\n",
       "      <td>Hautes-Alpes</td>\n",
       "      <td>17488</td>\n",
       "      <td>8174</td>\n",
       "      <td>69</td>\n",
       "      <td>6962</td>\n",
       "      <td>23076</td>\n",
       "      <td>16171</td>\n",
       "      <td>1:Sm</td>\n",
       "      <td>...</td>\n",
       "      <td>22</td>\n",
       "      <td>23</td>\n",
       "      <td>64</td>\n",
       "      <td>79</td>\n",
       "      <td>35</td>\n",
       "      <td>7</td>\n",
       "      <td>1</td>\n",
       "      <td>320.280</td>\n",
       "      <td>5549</td>\n",
       "      <td>129.10</td>\n",
       "    </tr>\n",
       "    <tr>\n",
       "      <th>...</th>\n",
       "      <td>...</td>\n",
       "      <td>...</td>\n",
       "      <td>...</td>\n",
       "      <td>...</td>\n",
       "      <td>...</td>\n",
       "      <td>...</td>\n",
       "      <td>...</td>\n",
       "      <td>...</td>\n",
       "      <td>...</td>\n",
       "      <td>...</td>\n",
       "      <td>...</td>\n",
       "      <td>...</td>\n",
       "      <td>...</td>\n",
       "      <td>...</td>\n",
       "      <td>...</td>\n",
       "      <td>...</td>\n",
       "      <td>...</td>\n",
       "      <td>...</td>\n",
       "      <td>...</td>\n",
       "      <td>...</td>\n",
       "      <td>...</td>\n",
       "    </tr>\n",
       "    <tr>\n",
       "      <th>81</th>\n",
       "      <td>86</td>\n",
       "      <td>W</td>\n",
       "      <td>Vienne</td>\n",
       "      <td>15010</td>\n",
       "      <td>4710</td>\n",
       "      <td>25</td>\n",
       "      <td>8922</td>\n",
       "      <td>35224</td>\n",
       "      <td>21851</td>\n",
       "      <td>2:Med</td>\n",
       "      <td>...</td>\n",
       "      <td>20</td>\n",
       "      <td>1</td>\n",
       "      <td>44</td>\n",
       "      <td>40</td>\n",
       "      <td>38</td>\n",
       "      <td>65</td>\n",
       "      <td>18</td>\n",
       "      <td>170.523</td>\n",
       "      <td>6990</td>\n",
       "      <td>282.73</td>\n",
       "    </tr>\n",
       "    <tr>\n",
       "      <th>82</th>\n",
       "      <td>87</td>\n",
       "      <td>C</td>\n",
       "      <td>Haute-Vienne</td>\n",
       "      <td>16256</td>\n",
       "      <td>6402</td>\n",
       "      <td>13</td>\n",
       "      <td>13817</td>\n",
       "      <td>19940</td>\n",
       "      <td>33497</td>\n",
       "      <td>2:Med</td>\n",
       "      <td>...</td>\n",
       "      <td>68</td>\n",
       "      <td>6</td>\n",
       "      <td>78</td>\n",
       "      <td>55</td>\n",
       "      <td>11</td>\n",
       "      <td>84</td>\n",
       "      <td>7</td>\n",
       "      <td>198.874</td>\n",
       "      <td>5520</td>\n",
       "      <td>285.13</td>\n",
       "    </tr>\n",
       "    <tr>\n",
       "      <th>83</th>\n",
       "      <td>88</td>\n",
       "      <td>E</td>\n",
       "      <td>Vosges</td>\n",
       "      <td>18835</td>\n",
       "      <td>9044</td>\n",
       "      <td>62</td>\n",
       "      <td>4040</td>\n",
       "      <td>14978</td>\n",
       "      <td>33029</td>\n",
       "      <td>2:Med</td>\n",
       "      <td>...</td>\n",
       "      <td>58</td>\n",
       "      <td>34</td>\n",
       "      <td>5</td>\n",
       "      <td>14</td>\n",
       "      <td>85</td>\n",
       "      <td>11</td>\n",
       "      <td>43</td>\n",
       "      <td>174.477</td>\n",
       "      <td>5874</td>\n",
       "      <td>397.99</td>\n",
       "    </tr>\n",
       "    <tr>\n",
       "      <th>84</th>\n",
       "      <td>89</td>\n",
       "      <td>C</td>\n",
       "      <td>Yonne</td>\n",
       "      <td>18006</td>\n",
       "      <td>6516</td>\n",
       "      <td>47</td>\n",
       "      <td>4276</td>\n",
       "      <td>16616</td>\n",
       "      <td>12789</td>\n",
       "      <td>2:Med</td>\n",
       "      <td>...</td>\n",
       "      <td>32</td>\n",
       "      <td>22</td>\n",
       "      <td>35</td>\n",
       "      <td>51</td>\n",
       "      <td>66</td>\n",
       "      <td>27</td>\n",
       "      <td>272</td>\n",
       "      <td>81.797</td>\n",
       "      <td>7427</td>\n",
       "      <td>352.49</td>\n",
       "    </tr>\n",
       "    <tr>\n",
       "      <th>85</th>\n",
       "      <td>200</td>\n",
       "      <td>NaN</td>\n",
       "      <td>Corse</td>\n",
       "      <td>2199</td>\n",
       "      <td>4589</td>\n",
       "      <td>49</td>\n",
       "      <td>37015</td>\n",
       "      <td>24743</td>\n",
       "      <td>37016</td>\n",
       "      <td>2:Med</td>\n",
       "      <td>...</td>\n",
       "      <td>81</td>\n",
       "      <td>2</td>\n",
       "      <td>84</td>\n",
       "      <td>83</td>\n",
       "      <td>9</td>\n",
       "      <td>25</td>\n",
       "      <td>1</td>\n",
       "      <td>539.213</td>\n",
       "      <td>8680</td>\n",
       "      <td>195.41</td>\n",
       "    </tr>\n",
       "  </tbody>\n",
       "</table>\n",
       "<p>86 rows × 23 columns</p>\n",
       "</div>"
      ],
      "text/plain": [
       "    dept Region    Department  Crime_pers  Crime_prop  Literacy  Donations  \\\n",
       "0      1      E           Ain       28870       15890        37       5098   \n",
       "1      2      N         Aisne       26226        5521        51       8901   \n",
       "2      3      C        Allier       26747        7925        13      10973   \n",
       "3      4      E  Basses-Alpes       12935        7289        46       2733   \n",
       "4      5      E  Hautes-Alpes       17488        8174        69       6962   \n",
       "..   ...    ...           ...         ...         ...       ...        ...   \n",
       "81    86      W        Vienne       15010        4710        25       8922   \n",
       "82    87      C  Haute-Vienne       16256        6402        13      13817   \n",
       "83    88      E        Vosges       18835        9044        62       4040   \n",
       "84    89      C         Yonne       18006        6516        47       4276   \n",
       "85   200    NaN         Corse        2199        4589        49      37015   \n",
       "\n",
       "    Infants  Suicides MainCity  ...  Crime_parents  Infanticide  \\\n",
       "0     33120     35039    2:Med  ...             71           60   \n",
       "1     14572     12831    2:Med  ...              4           82   \n",
       "2     17044    114121    2:Med  ...             46           42   \n",
       "3     23018     14238     1:Sm  ...             70           12   \n",
       "4     23076     16171     1:Sm  ...             22           23   \n",
       "..      ...       ...      ...  ...            ...          ...   \n",
       "81    35224     21851    2:Med  ...             20            1   \n",
       "82    19940     33497    2:Med  ...             68            6   \n",
       "83    14978     33029    2:Med  ...             58           34   \n",
       "84    16616     12789    2:Med  ...             32           22   \n",
       "85    24743     37016    2:Med  ...             81            2   \n",
       "\n",
       "    Donation_clergy  Lottery  Desertion  Instruction  Prostitutes  Distance  \\\n",
       "0                69       41         55           46           13   218.372   \n",
       "1                36       38         82           24          327    65.945   \n",
       "2                76       66         16           85           34   161.927   \n",
       "3                37       80         32           29            2   351.399   \n",
       "4                64       79         35            7            1   320.280   \n",
       "..              ...      ...        ...          ...          ...       ...   \n",
       "81               44       40         38           65           18   170.523   \n",
       "82               78       55         11           84            7   198.874   \n",
       "83                5       14         85           11           43   174.477   \n",
       "84               35       51         66           27          272    81.797   \n",
       "85               84       83          9           25            1   539.213   \n",
       "\n",
       "    Area  Pop1831  \n",
       "0   5762   346.03  \n",
       "1   7369   513.00  \n",
       "2   7340   298.26  \n",
       "3   6925   155.90  \n",
       "4   5549   129.10  \n",
       "..   ...      ...  \n",
       "81  6990   282.73  \n",
       "82  5520   285.13  \n",
       "83  5874   397.99  \n",
       "84  7427   352.49  \n",
       "85  8680   195.41  \n",
       "\n",
       "[86 rows x 23 columns]"
      ]
     },
     "execution_count": 37,
     "metadata": {},
     "output_type": "execute_result"
    }
   ],
   "source": [
    "dat"
   ]
  },
  {
   "cell_type": "code",
   "execution_count": 44,
   "id": "8f6d064d-9101-4e1b-9c90-d7cbf12a7940",
   "metadata": {},
   "outputs": [
    {
     "data": {
      "text/html": [
       "<div>\n",
       "<style scoped>\n",
       "    .dataframe tbody tr th:only-of-type {\n",
       "        vertical-align: middle;\n",
       "    }\n",
       "\n",
       "    .dataframe tbody tr th {\n",
       "        vertical-align: top;\n",
       "    }\n",
       "\n",
       "    .dataframe thead th {\n",
       "        text-align: right;\n",
       "    }\n",
       "</style>\n",
       "<table border=\"1\" class=\"dataframe\">\n",
       "  <thead>\n",
       "    <tr style=\"text-align: right;\">\n",
       "      <th></th>\n",
       "      <th>dept</th>\n",
       "      <th>Region</th>\n",
       "      <th>Department</th>\n",
       "      <th>Crime_pers</th>\n",
       "      <th>Crime_prop</th>\n",
       "      <th>Literacy</th>\n",
       "      <th>Donations</th>\n",
       "      <th>Infants</th>\n",
       "      <th>Suicides</th>\n",
       "      <th>MainCity</th>\n",
       "      <th>...</th>\n",
       "      <th>Crime_parents</th>\n",
       "      <th>Infanticide</th>\n",
       "      <th>Donation_clergy</th>\n",
       "      <th>Lottery</th>\n",
       "      <th>Desertion</th>\n",
       "      <th>Instruction</th>\n",
       "      <th>Prostitutes</th>\n",
       "      <th>Distance</th>\n",
       "      <th>Area</th>\n",
       "      <th>Pop1831</th>\n",
       "    </tr>\n",
       "  </thead>\n",
       "  <tbody>\n",
       "    <tr>\n",
       "      <th>81</th>\n",
       "      <td>86</td>\n",
       "      <td>W</td>\n",
       "      <td>Vienne</td>\n",
       "      <td>15010</td>\n",
       "      <td>4710</td>\n",
       "      <td>25</td>\n",
       "      <td>8922</td>\n",
       "      <td>35224</td>\n",
       "      <td>21851</td>\n",
       "      <td>2:Med</td>\n",
       "      <td>...</td>\n",
       "      <td>20</td>\n",
       "      <td>1</td>\n",
       "      <td>44</td>\n",
       "      <td>40</td>\n",
       "      <td>38</td>\n",
       "      <td>65</td>\n",
       "      <td>18</td>\n",
       "      <td>170.523</td>\n",
       "      <td>6990</td>\n",
       "      <td>282.73</td>\n",
       "    </tr>\n",
       "    <tr>\n",
       "      <th>82</th>\n",
       "      <td>87</td>\n",
       "      <td>C</td>\n",
       "      <td>Haute-Vienne</td>\n",
       "      <td>16256</td>\n",
       "      <td>6402</td>\n",
       "      <td>13</td>\n",
       "      <td>13817</td>\n",
       "      <td>19940</td>\n",
       "      <td>33497</td>\n",
       "      <td>2:Med</td>\n",
       "      <td>...</td>\n",
       "      <td>68</td>\n",
       "      <td>6</td>\n",
       "      <td>78</td>\n",
       "      <td>55</td>\n",
       "      <td>11</td>\n",
       "      <td>84</td>\n",
       "      <td>7</td>\n",
       "      <td>198.874</td>\n",
       "      <td>5520</td>\n",
       "      <td>285.13</td>\n",
       "    </tr>\n",
       "    <tr>\n",
       "      <th>83</th>\n",
       "      <td>88</td>\n",
       "      <td>E</td>\n",
       "      <td>Vosges</td>\n",
       "      <td>18835</td>\n",
       "      <td>9044</td>\n",
       "      <td>62</td>\n",
       "      <td>4040</td>\n",
       "      <td>14978</td>\n",
       "      <td>33029</td>\n",
       "      <td>2:Med</td>\n",
       "      <td>...</td>\n",
       "      <td>58</td>\n",
       "      <td>34</td>\n",
       "      <td>5</td>\n",
       "      <td>14</td>\n",
       "      <td>85</td>\n",
       "      <td>11</td>\n",
       "      <td>43</td>\n",
       "      <td>174.477</td>\n",
       "      <td>5874</td>\n",
       "      <td>397.99</td>\n",
       "    </tr>\n",
       "    <tr>\n",
       "      <th>84</th>\n",
       "      <td>89</td>\n",
       "      <td>C</td>\n",
       "      <td>Yonne</td>\n",
       "      <td>18006</td>\n",
       "      <td>6516</td>\n",
       "      <td>47</td>\n",
       "      <td>4276</td>\n",
       "      <td>16616</td>\n",
       "      <td>12789</td>\n",
       "      <td>2:Med</td>\n",
       "      <td>...</td>\n",
       "      <td>32</td>\n",
       "      <td>22</td>\n",
       "      <td>35</td>\n",
       "      <td>51</td>\n",
       "      <td>66</td>\n",
       "      <td>27</td>\n",
       "      <td>272</td>\n",
       "      <td>81.797</td>\n",
       "      <td>7427</td>\n",
       "      <td>352.49</td>\n",
       "    </tr>\n",
       "    <tr>\n",
       "      <th>85</th>\n",
       "      <td>200</td>\n",
       "      <td>NaN</td>\n",
       "      <td>Corse</td>\n",
       "      <td>2199</td>\n",
       "      <td>4589</td>\n",
       "      <td>49</td>\n",
       "      <td>37015</td>\n",
       "      <td>24743</td>\n",
       "      <td>37016</td>\n",
       "      <td>2:Med</td>\n",
       "      <td>...</td>\n",
       "      <td>81</td>\n",
       "      <td>2</td>\n",
       "      <td>84</td>\n",
       "      <td>83</td>\n",
       "      <td>9</td>\n",
       "      <td>25</td>\n",
       "      <td>1</td>\n",
       "      <td>539.213</td>\n",
       "      <td>8680</td>\n",
       "      <td>195.41</td>\n",
       "    </tr>\n",
       "  </tbody>\n",
       "</table>\n",
       "<p>5 rows × 23 columns</p>\n",
       "</div>"
      ],
      "text/plain": [
       "    dept Region    Department  Crime_pers  Crime_prop  Literacy  Donations  \\\n",
       "81    86      W        Vienne       15010        4710        25       8922   \n",
       "82    87      C  Haute-Vienne       16256        6402        13      13817   \n",
       "83    88      E        Vosges       18835        9044        62       4040   \n",
       "84    89      C         Yonne       18006        6516        47       4276   \n",
       "85   200    NaN         Corse        2199        4589        49      37015   \n",
       "\n",
       "    Infants  Suicides MainCity  ...  Crime_parents  Infanticide  \\\n",
       "81    35224     21851    2:Med  ...             20            1   \n",
       "82    19940     33497    2:Med  ...             68            6   \n",
       "83    14978     33029    2:Med  ...             58           34   \n",
       "84    16616     12789    2:Med  ...             32           22   \n",
       "85    24743     37016    2:Med  ...             81            2   \n",
       "\n",
       "    Donation_clergy  Lottery  Desertion  Instruction  Prostitutes  Distance  \\\n",
       "81               44       40         38           65           18   170.523   \n",
       "82               78       55         11           84            7   198.874   \n",
       "83                5       14         85           11           43   174.477   \n",
       "84               35       51         66           27          272    81.797   \n",
       "85               84       83          9           25            1   539.213   \n",
       "\n",
       "    Area  Pop1831  \n",
       "81  6990   282.73  \n",
       "82  5520   285.13  \n",
       "83  5874   397.99  \n",
       "84  7427   352.49  \n",
       "85  8680   195.41  \n",
       "\n",
       "[5 rows x 23 columns]"
      ]
     },
     "execution_count": 44,
     "metadata": {},
     "output_type": "execute_result"
    }
   ],
   "source": [
    "dat[-5:]"
   ]
  },
  {
   "cell_type": "code",
   "execution_count": 57,
   "id": "813ce428-7814-4b3c-b530-4172badb4a17",
   "metadata": {},
   "outputs": [
    {
     "data": {
      "text/plain": [
       "0              Ain\n",
       "1            Aisne\n",
       "2           Allier\n",
       "3     Basses-Alpes\n",
       "4     Hautes-Alpes\n",
       "          ...     \n",
       "81          Vienne\n",
       "82    Haute-Vienne\n",
       "83          Vosges\n",
       "84           Yonne\n",
       "85           Corse\n",
       "Name: Department, Length: 86, dtype: object"
      ]
     },
     "execution_count": 57,
     "metadata": {},
     "output_type": "execute_result"
    }
   ],
   "source": [
    "dat['Department']"
   ]
  },
  {
   "cell_type": "code",
   "execution_count": 43,
   "id": "505bad46-82e5-4c2f-8aed-29c20b56a44a",
   "metadata": {},
   "outputs": [],
   "source": [
    "vars = ['Department', 'Lottery', 'Literacy', 'Wealth', 'Region']"
   ]
  },
  {
   "cell_type": "code",
   "execution_count": 45,
   "id": "62d1dd74-c64a-4fc2-813c-ef6de8b0346c",
   "metadata": {},
   "outputs": [],
   "source": [
    "df = dat[vars]"
   ]
  },
  {
   "cell_type": "code",
   "execution_count": 46,
   "id": "1cbe26eb-1f3f-44b7-8f42-86707bc67797",
   "metadata": {},
   "outputs": [
    {
     "data": {
      "text/html": [
       "<div>\n",
       "<style scoped>\n",
       "    .dataframe tbody tr th:only-of-type {\n",
       "        vertical-align: middle;\n",
       "    }\n",
       "\n",
       "    .dataframe tbody tr th {\n",
       "        vertical-align: top;\n",
       "    }\n",
       "\n",
       "    .dataframe thead th {\n",
       "        text-align: right;\n",
       "    }\n",
       "</style>\n",
       "<table border=\"1\" class=\"dataframe\">\n",
       "  <thead>\n",
       "    <tr style=\"text-align: right;\">\n",
       "      <th></th>\n",
       "      <th>Department</th>\n",
       "      <th>Lottery</th>\n",
       "      <th>Literacy</th>\n",
       "      <th>Wealth</th>\n",
       "      <th>Region</th>\n",
       "    </tr>\n",
       "  </thead>\n",
       "  <tbody>\n",
       "    <tr>\n",
       "      <th>81</th>\n",
       "      <td>Vienne</td>\n",
       "      <td>40</td>\n",
       "      <td>25</td>\n",
       "      <td>68</td>\n",
       "      <td>W</td>\n",
       "    </tr>\n",
       "    <tr>\n",
       "      <th>82</th>\n",
       "      <td>Haute-Vienne</td>\n",
       "      <td>55</td>\n",
       "      <td>13</td>\n",
       "      <td>67</td>\n",
       "      <td>C</td>\n",
       "    </tr>\n",
       "    <tr>\n",
       "      <th>83</th>\n",
       "      <td>Vosges</td>\n",
       "      <td>14</td>\n",
       "      <td>62</td>\n",
       "      <td>82</td>\n",
       "      <td>E</td>\n",
       "    </tr>\n",
       "    <tr>\n",
       "      <th>84</th>\n",
       "      <td>Yonne</td>\n",
       "      <td>51</td>\n",
       "      <td>47</td>\n",
       "      <td>30</td>\n",
       "      <td>C</td>\n",
       "    </tr>\n",
       "    <tr>\n",
       "      <th>85</th>\n",
       "      <td>Corse</td>\n",
       "      <td>83</td>\n",
       "      <td>49</td>\n",
       "      <td>37</td>\n",
       "      <td>NaN</td>\n",
       "    </tr>\n",
       "  </tbody>\n",
       "</table>\n",
       "</div>"
      ],
      "text/plain": [
       "      Department  Lottery  Literacy  Wealth Region\n",
       "81        Vienne       40        25      68      W\n",
       "82  Haute-Vienne       55        13      67      C\n",
       "83        Vosges       14        62      82      E\n",
       "84         Yonne       51        47      30      C\n",
       "85         Corse       83        49      37    NaN"
      ]
     },
     "execution_count": 46,
     "metadata": {},
     "output_type": "execute_result"
    }
   ],
   "source": [
    "df[-5:]"
   ]
  },
  {
   "cell_type": "code",
   "execution_count": 47,
   "id": "6be501a4-e566-434d-91a8-e23e0daf3145",
   "metadata": {},
   "outputs": [],
   "source": [
    "df = df.dropna()"
   ]
  },
  {
   "cell_type": "code",
   "execution_count": 48,
   "id": "ec92dfe5-be4f-4115-b9cb-ffa721a534da",
   "metadata": {},
   "outputs": [
    {
     "data": {
      "text/html": [
       "<div>\n",
       "<style scoped>\n",
       "    .dataframe tbody tr th:only-of-type {\n",
       "        vertical-align: middle;\n",
       "    }\n",
       "\n",
       "    .dataframe tbody tr th {\n",
       "        vertical-align: top;\n",
       "    }\n",
       "\n",
       "    .dataframe thead th {\n",
       "        text-align: right;\n",
       "    }\n",
       "</style>\n",
       "<table border=\"1\" class=\"dataframe\">\n",
       "  <thead>\n",
       "    <tr style=\"text-align: right;\">\n",
       "      <th></th>\n",
       "      <th>Department</th>\n",
       "      <th>Lottery</th>\n",
       "      <th>Literacy</th>\n",
       "      <th>Wealth</th>\n",
       "      <th>Region</th>\n",
       "    </tr>\n",
       "  </thead>\n",
       "  <tbody>\n",
       "    <tr>\n",
       "      <th>80</th>\n",
       "      <td>Vendee</td>\n",
       "      <td>68</td>\n",
       "      <td>28</td>\n",
       "      <td>56</td>\n",
       "      <td>W</td>\n",
       "    </tr>\n",
       "    <tr>\n",
       "      <th>81</th>\n",
       "      <td>Vienne</td>\n",
       "      <td>40</td>\n",
       "      <td>25</td>\n",
       "      <td>68</td>\n",
       "      <td>W</td>\n",
       "    </tr>\n",
       "    <tr>\n",
       "      <th>82</th>\n",
       "      <td>Haute-Vienne</td>\n",
       "      <td>55</td>\n",
       "      <td>13</td>\n",
       "      <td>67</td>\n",
       "      <td>C</td>\n",
       "    </tr>\n",
       "    <tr>\n",
       "      <th>83</th>\n",
       "      <td>Vosges</td>\n",
       "      <td>14</td>\n",
       "      <td>62</td>\n",
       "      <td>82</td>\n",
       "      <td>E</td>\n",
       "    </tr>\n",
       "    <tr>\n",
       "      <th>84</th>\n",
       "      <td>Yonne</td>\n",
       "      <td>51</td>\n",
       "      <td>47</td>\n",
       "      <td>30</td>\n",
       "      <td>C</td>\n",
       "    </tr>\n",
       "  </tbody>\n",
       "</table>\n",
       "</div>"
      ],
      "text/plain": [
       "      Department  Lottery  Literacy  Wealth Region\n",
       "80        Vendee       68        28      56      W\n",
       "81        Vienne       40        25      68      W\n",
       "82  Haute-Vienne       55        13      67      C\n",
       "83        Vosges       14        62      82      E\n",
       "84         Yonne       51        47      30      C"
      ]
     },
     "execution_count": 48,
     "metadata": {},
     "output_type": "execute_result"
    }
   ],
   "source": [
    "df[-5:]"
   ]
  },
  {
   "cell_type": "code",
   "execution_count": null,
   "id": "1802593c-caa5-467a-85b3-d74afd84454e",
   "metadata": {},
   "outputs": [],
   "source": []
  }
 ],
 "metadata": {
  "kernelspec": {
   "display_name": "Python 3 (ipykernel)",
   "language": "python",
   "name": "python3"
  },
  "language_info": {
   "codemirror_mode": {
    "name": "ipython",
    "version": 3
   },
   "file_extension": ".py",
   "mimetype": "text/x-python",
   "name": "python",
   "nbconvert_exporter": "python",
   "pygments_lexer": "ipython3",
   "version": "3.9.9"
  }
 },
 "nbformat": 4,
 "nbformat_minor": 5
}
