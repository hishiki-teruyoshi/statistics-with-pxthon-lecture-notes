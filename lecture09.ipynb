{
 "cells": [
  {
   "cell_type": "markdown",
   "id": "488bda13-ec12-4efc-87f9-a308068464b6",
   "metadata": {},
   "source": [
    "# 第９回　推測統計（１）"
   ]
  },
  {
   "cell_type": "markdown",
   "id": "e97af6d9-8631-4d88-93ea-b23af2329b8d",
   "metadata": {},
   "source": [
    "今回は、確率の考え方、確率分布の考え方、正規分布、二項分布、ポアソン分布、指数分布　などを扱います。"
   ]
  },
  {
   "cell_type": "markdown",
   "id": "24332880-8b47-4c62-ad5e-16ff6ce6aae3",
   "metadata": {},
   "source": [
    "第８回で紹介した内容は、統計学の中でも、「記述統計」とよばれる分野に属します。つまり、データそのものの性質を記述し、要約するための方法を紹介しました。そのために、平均、標準偏差、四分位数といった数値や、度数分布表、ヒストグラム、箱ひげ図といった図表を使いました。"
   ]
  },
  {
   "cell_type": "markdown",
   "id": "82105132-63f7-463b-87b8-2209229b3d04",
   "metadata": {},
   "source": [
    "これに対して、今回よりのちの内容は、データそのものではなくデータのもとになっている集団の性質を推測するための方法論である「推測統計」という分野に属します。この場合、データは実験や調査によって得られ、データのもとになっている集団の一部を抜き出したものと考えられます。それで、データのことを標本あるいはサンプルといい、データのもとになっている集団のことを母集団といいます。"
   ]
  },
  {
   "cell_type": "markdown",
   "id": "a281b0f0-c144-434f-b307-b4624508d2db",
   "metadata": {},
   "source": [
    "母集団から標本を取る際、また、標本の性質を理解するためには、確率の考え方が必要になります。確率は、不確実あるいはランダムな現象にかかわる問題を定量的に扱うためのツールとなります。"
   ]
  },
  {
   "cell_type": "code",
   "execution_count": null,
   "id": "5c90459c-5065-4f36-9943-1b88a2a37f8a",
   "metadata": {},
   "outputs": [],
   "source": []
  },
  {
   "cell_type": "markdown",
   "id": "9ee35379-06a5-4a52-8ed9-a7e92ef61d6f",
   "metadata": {},
   "source": [
    "## 事象と確率"
   ]
  },
  {
   "cell_type": "markdown",
   "id": "2a800ae7-7d2a-4b3e-a80c-741939cac507",
   "metadata": {},
   "source": [
    "### 確率が用いられる場面"
   ]
  },
  {
   "cell_type": "markdown",
   "id": "5298e7fd-3b41-413e-9b0e-0e7b8b16abd1",
   "metadata": {},
   "source": [
    "過去のデータから、起こりうる結果がある程度予測されるが、１回ごとの結果は偶然に支配され、事前に予測できないという場面がいろいろあります。\n",
    "- くじを引いたら何が出るか。サイコロやコインを投げたら何が出るか。\n",
    "- 買おうとする電気製品の寿命はどれだけか\n",
    "- 経営する店に明日、お客が何人来るか\n",
    "\n",
    "行動に先立って、これらの場面で起こる可能性のある現象を不確実性・ランダム性に基づいて評価する必要があります。  \n",
    "また、起きた結果が、今までのデータでは説明できないようなできごとでないかどうか、検証する必要があります。  \n",
    "こういった評価・検証を行う際のツールとして、確率が用いられます。"
   ]
  },
  {
   "cell_type": "markdown",
   "id": "ddf34659-a570-418e-9d63-30e108d40f90",
   "metadata": {},
   "source": [
    "### 試行と事象"
   ]
  },
  {
   "cell_type": "markdown",
   "id": "f9506cad-da48-4dad-864a-a610e6623c6f",
   "metadata": {},
   "source": [
    "#### 基本的な用語の整理"
   ]
  },
  {
   "cell_type": "markdown",
   "id": "44a80a1a-9019-4a45-bc4c-9eb21eff39b2",
   "metadata": {},
   "source": [
    "- 試行：サイコロを投げる、工業製品を製造する、といった例のように、１回ずつあるいは１個ずつの個別の結果が偶然に左右される実験や観測のことをいいます。\n",
    "- 根元（根本）事象：試行によって起こる個々の結果をいいます。\n",
    "- 事象(eventt)：根元事象の集合のことをいいます。ですから、根元事象も事象に含まれます。\n",
    "- 全事象（または標本空間）：すべての根元事象の集合"
   ]
  },
  {
   "cell_type": "markdown",
   "id": "b87cf861-4a78-4274-95cf-dfdc8358705f",
   "metadata": {},
   "source": [
    "事象は根元事象の集合を表すので、事象の集合に関して次のような用語があります。"
   ]
  },
  {
   "cell_type": "markdown",
   "id": "45f9a4ea-13c0-41b5-a2a9-0cb32c0253ca",
   "metadata": {},
   "source": [
    "- 和事象：事象$A_1, A_2, ..., A_n$のうち、少なくとも１つが起こるという事象（集合の用語では和集合）$$A_1 \\cup A_2 \\cup...\\cup A_n$$\n",
    "- 積事象：事象$A_1, A_2, ..., A_n$が同時に起こるという事象すなわち$$A_1 \\cap A_2 \\cap ... \\cap A_n$$\n",
    "- 空事象：何も起こらないという事象（空集合に相当）。記号$\\Phi$で表す。\n",
    "- 余事象：全事象の中で$A$に含まれていない根元事象からなる事象（補集合に相当）。$A^c$と表し、$$A \\cup A^c = \\Omega$$ $$A \\cap A^c = \\Phi$$\n",
    "\n",
    "- 互いに排反：事象$A_1, A_2, ..., A_n$の中の任意の２つ$A_i$, $A_j$, $i \\neq j$の積事象が空事象$\\Phi$である場合、これらの事象は互いに排反（集合の用語では互いに素）であるという。"
   ]
  },
  {
   "cell_type": "markdown",
   "id": "21920a37-3d1d-413b-a452-77c020921e1d",
   "metadata": {},
   "source": [
    "#### 根元事象を列挙する"
   ]
  },
  {
   "cell_type": "markdown",
   "id": "51b953d1-2ddc-4a1e-a98b-43b8193332ec",
   "metadata": {},
   "source": [
    "ある事象の起こる確率を計算するためのひとつの方法は、起こる事象をすべて数え上げて、その中のどれだけ問題とする事象が含まれるか、割合を計算するというやりかたです。そのためにはまず根元事象を数え上げる必要があります。例えば、「'a', 'b', 'c', 'd', 'e'のいずれかが描かれた５枚のカードから３枚を選ぶ」という試行の結果起こる根元事象をすべて列挙してみましょう。"
   ]
  },
  {
   "cell_type": "markdown",
   "id": "7042c0c1-3e04-4691-a820-c20ca6d17331",
   "metadata": {},
   "source": [
    "このために、「itertools」というライブラリを使います。"
   ]
  },
  {
   "cell_type": "markdown",
   "id": "715a3267-1966-474b-b073-adbbe5f7cd81",
   "metadata": {},
   "source": [
    "関数itertools.combinations()はリストと選ぶ枚数を引数に与えると、すべての組み合わせが含まれるオブジェクトを返します。その中身を見るためには、関数list()を使います。下の例のように、ひとつの組み合わせをタプルとし、組み合わせのリストが得られます。"
   ]
  },
  {
   "cell_type": "code",
   "execution_count": 16,
   "id": "58326d48-890a-4112-aa3b-b9fab9c775a9",
   "metadata": {},
   "outputs": [
    {
     "name": "stdout",
     "output_type": "stream",
     "text": [
      "('a', 'b', 'c')\n",
      "('a', 'b', 'd')\n",
      "('a', 'b', 'e')\n",
      "('a', 'c', 'd')\n",
      "('a', 'c', 'e')\n",
      "('a', 'd', 'e')\n",
      "('b', 'c', 'd')\n",
      "('b', 'c', 'e')\n",
      "('b', 'd', 'e')\n",
      "('c', 'd', 'e')\n"
     ]
    }
   ],
   "source": [
    "import itertools\n",
    "cards = ['a', 'b', 'c', 'd', 'e']\n",
    "three_cards_combi = list(itertools.combinations(cards, 3))\n",
    "for v in three_cards_combi:\n",
    "    print(v)"
   ]
  },
  {
   "cell_type": "code",
   "execution_count": 17,
   "id": "3546011f-e324-4654-b61c-0a19a51ab3fa",
   "metadata": {},
   "outputs": [
    {
     "data": {
      "text/plain": [
       "10"
      ]
     },
     "execution_count": 17,
     "metadata": {},
     "output_type": "execute_result"
    }
   ],
   "source": [
    "len(three_cards_combi)"
   ]
  },
  {
   "cell_type": "markdown",
   "id": "9f4dce77-b9ae-4015-96f0-2ca4d1653cb4",
   "metadata": {},
   "source": [
    "このように、１０通りの根元事象（根本事象）が得られました。"
   ]
  },
  {
   "cell_type": "markdown",
   "id": "f0a17cd4-62ca-4e21-804c-8c898ab37f85",
   "metadata": {
    "tags": []
   },
   "source": [
    "### 確率"
   ]
  },
  {
   "cell_type": "markdown",
   "id": "d0e79511-e5fe-496f-89fe-eddba189f255",
   "metadata": {},
   "source": [
    "このように定めた「事象」の起こりやすさを測る尺度が「確率」（probability）です。各々の事象には確率の値が対応しています。  "
   ]
  },
  {
   "cell_type": "markdown",
   "id": "a4b71545-ebe0-4121-9225-6575df27b12d",
   "metadata": {
    "tags": []
   },
   "source": [
    "確率の値は0から1までの間と定めます。また、すべての「根本事象」の確率の総和を1とします。つまり、確率は次のように定義される関数$P$です。"
   ]
  },
  {
   "cell_type": "markdown",
   "id": "855df922-3013-49a7-9976-4c50de62bc6b",
   "metadata": {},
   "source": [
    "- 任意の事象$A$について$0 \\leqq P(A) \\leqq 1$\n",
    "- 全事象$\\Omega$について$P(\\Omega) = 1$\n",
    "- $A_1, A_2, ...$が互いに排反な事象ならば、$P(A_1 \\cup A_2 \\cup ...) = P(A_1) + P(A_2) + ...$"
   ]
  },
  {
   "cell_type": "markdown",
   "id": "a6f6d8bd-3a95-4400-8b1c-ea7010c404d9",
   "metadata": {},
   "source": [
    "例えば、先程の５枚のカードから３枚を選ぶとき、全部で10とおりあり、すべて同じ起こりやすさだと考えられますので、「\"a, b,c\"の組み合わせ」という事象の確率は$1/10 = 0.1$となります。"
   ]
  },
  {
   "cell_type": "markdown",
   "id": "67fbfd07-5dd7-422b-a1e4-e55b2a82540f",
   "metadata": {},
   "source": [
    "また、「'a'のカードを含む組み合わせ」は全部で6とおりありますので、そのような事象の確率は6/10 = 0.6となります。"
   ]
  },
  {
   "cell_type": "markdown",
   "id": "2031ee74-565d-4054-954b-02e6d85fdcf6",
   "metadata": {},
   "source": [
    "さて、この事象と「'a'のカードを含まない組み合わせ」の事象とは互いに「排反」です。つまり、共通する部分集合が存在しません。  \n",
    "そして、全事象は、「'a'のカードを含む組み合わせ」か「'a'のカードを含まない組み合わせ」かのどちらかです。すなわち、これら２つの事象の確率を足すと1になります（このように、標本空間の中で、「事象Aがおこらない」という事象を「余事象」といいます）。  \n",
    "ですから、「'a'のカードを含まない組み合わせ」の事象（つまり、「'a'のカードを含む組み合わせ」の余事象）の確率は、1 - 0.6 = 0.4となります。  \n",
    "実際、上の例で確かに4とおりありますので、確率は4/10 = 0.4となります。"
   ]
  },
  {
   "cell_type": "markdown",
   "id": "621ebdfc-8309-4f95-a461-9d01cd355a28",
   "metadata": {},
   "source": [
    "（参考）算数で場合の数を計算してみましょう。まず、「'a'のカードを含む組み合わせ」の場合の数は、次のように数えます。  \n",
    "「1枚は'a'で固定する。2枚目と3枚目を残り4枚から選ぶ。2枚目には4とおり、3枚目には3とおり考えられるので、4x3とおりだが、2枚目と3枚目の順番は関係ないので、2の順列すなわち2! = 2x1で割る。従って、4×3/2×1 = 6とおり」となります。  \n",
    "ですから、「'a'のカードを含まない組み合わせ」は、10 - 6 = 4 とおり　です。"
   ]
  },
  {
   "cell_type": "markdown",
   "id": "7c8d9b06-cf67-4f14-8529-a7c76829c6a4",
   "metadata": {},
   "source": [
    "### 確率変数と確率分布"
   ]
  },
  {
   "cell_type": "markdown",
   "id": "a21168fc-d0d6-4dd9-98f3-c97a9c2b120b",
   "metadata": {},
   "source": [
    "事象に結び付けられた数値を「確率変数」といいます。例えば、コインを５回投げたときの表の回数は、k回表が出るという事象の確率変数といえます。事象と確率は結びついていますから、確率変数は、確率に結びついています。確率変数と確率との対応関係を、「確率分布」といいます。  "
   ]
  },
  {
   "cell_type": "markdown",
   "id": "7d4200d6-ae30-4ee2-8ab3-afd6574fdd16",
   "metadata": {},
   "source": [
    "### 確率関数と確率密度関数"
   ]
  },
  {
   "cell_type": "markdown",
   "id": "960354aa-aec6-492d-82b5-de4ad8e845dc",
   "metadata": {},
   "source": [
    "確率変数と確率との関係は、確率変数が離散の場合は確率関数、連続の場合は確率密度関数といいます。"
   ]
  },
  {
   "cell_type": "markdown",
   "id": "1799eb8b-009b-42be-be7a-8c2140da73cf",
   "metadata": {},
   "source": [
    "- 離散型確率変数$X$のとりうる値を$\\{x_1, x_2, ...\\}$とし、それに対して確率$\\{P(X = x_i) = f(x_i) (i = 1, 2, ...)\\}$が与えられているとき、$f(x_i) (i = 1, 2, ...)$を確率関数（または確率質量関数）といいます。\n",
    "- 確率の公理より、次の条件を満たします。$$0 \\leqq f(x_i) \\leqq 1$$ $$\\sum_{i=1}^\\infty f(x_i) = 1$$"
   ]
  },
  {
   "cell_type": "markdown",
   "id": "3a7195ca-f848-44eb-bbe0-6f2dea3db595",
   "metadata": {},
   "source": [
    "一方、連続的な確率変数$X$については、ある特定の一つの値$X = x$に対する確率を決めることはできません。"
   ]
  },
  {
   "cell_type": "markdown",
   "id": "89c44ec2-d03f-4708-8327-e0d2d930fa4b",
   "metadata": {},
   "source": [
    "その代わりに、確率変数$X$が任意の$x$における微小な$\\Delta x$において、$X$が区間$[x, x + \\Delta x]$の値を取る確率が確率密度関数$f(x)$を用いて、次のように定義されます。$$P(x \\leqq X \\leqq x + \\Delta x) \\simeq f(x)\\Delta x$$"
   ]
  },
  {
   "cell_type": "markdown",
   "id": "06aa69a0-cd7e-479c-b50d-248a569dd5a4",
   "metadata": {},
   "source": [
    "これはすなわち、積分の形で書くと、$$P(a \\leqq X \\leqq b) = \\int_a^b f(x)dx$$（ただし$f(x) \\geqq 0$）ということです。"
   ]
  },
  {
   "cell_type": "markdown",
   "id": "1def89f1-365e-40e1-b891-5dede2c710a3",
   "metadata": {},
   "source": [
    "$f(x)$についても、確率の公理より、$$\\int_{-\\infty}^\\infty f(x)dx = 1$$を満たさなければいけません。"
   ]
  },
  {
   "cell_type": "markdown",
   "id": "d6cdb688-3945-4646-a0e1-c31dbb4b539e",
   "metadata": {},
   "source": [
    "さて、確率変数$X$が離散型、連続型、どちらの場合でも、累積分布関数（あるいは分布関数）$F(x)$が、$$F(x) = P(X \\leqq x)$$によって定義されます。とくに連続型の場合には、$$F(x) = P(X \\leqq x) = \\int_{-\\infty}^x f(u)du$$と表されます。  \n",
    "つまり累積分布関数が連続で微分可能のとき、その導関数が確率密度関数となります。  \n",
    "離散型の場合は、$$F(x) = \\sum_{i=1}^{n} f(x_i)\\;ただしx_n = x$$となります。"
   ]
  },
  {
   "cell_type": "markdown",
   "id": "d401dc34-b819-4388-9cdf-2079534642f5",
   "metadata": {},
   "source": [
    "累積分布関数は、後の例題のように、起こってほしくない事象・稀な事象の予測やコントロール（例：品切れの確率を抑えるために必要な在庫は？）のために使います。"
   ]
  },
  {
   "cell_type": "markdown",
   "id": "afd217bd-3246-496c-9c3e-9719a7bc4525",
   "metadata": {},
   "source": [
    "### 期待値"
   ]
  },
  {
   "cell_type": "markdown",
   "id": "c820818d-f2aa-46ae-b49e-43681e5adb37",
   "metadata": {},
   "source": [
    "離散型の場合、確率変数$X$の期待値は、$f(x)$を確率関数として次のように定義されます。$$E[X] \\equiv \\sum_i x_if(x_i) = \\mu$$"
   ]
  },
  {
   "cell_type": "markdown",
   "id": "9b8ff9af-3367-4c1d-a46d-af22deb5ede4",
   "metadata": {},
   "source": [
    "一方、連続型の場合、確率変数$X$の期待値は、$f(x)$を確率密度関数として、次のように定義されます。$$E[X] \\equiv \\int_{-\\infty}^\\infty xf(x)dx = \\mu$$"
   ]
  },
  {
   "cell_type": "markdown",
   "id": "ab0c8203-bee4-4fab-93fc-ea8dbf5fe214",
   "metadata": {},
   "source": [
    "ここまでの事項について、次の例で検討しましょう。"
   ]
  },
  {
   "cell_type": "markdown",
   "id": "cedac18d-41c1-4f0e-9036-824faff7aa84",
   "metadata": {},
   "source": [
    "### 例１：コインを５回投げたときの表の枚数$k$の確率分布と期待値"
   ]
  },
  {
   "cell_type": "markdown",
   "id": "1fb14a72-ce1c-4b4d-9bc4-3bbf36222ffb",
   "metadata": {},
   "source": [
    "例えば、コインを５回投げたときの表の枚数$k$の確率分布はどうなるでしょうか？  \n",
    "まず、５回投げたときの出かたをすべて書き出してみましょう。"
   ]
  },
  {
   "cell_type": "markdown",
   "id": "00268a78-764b-4c0b-bd2d-bbe0997b3fa7",
   "metadata": {},
   "source": [
    "今度も、itertoolsを使います。今度は、関数itertools.product()を使います。引数として与えられるのは、１回の試行でとりうる値のリストと、試行回数$n$を与えるオプションrepeat=$n$です。"
   ]
  },
  {
   "cell_type": "code",
   "execution_count": 14,
   "id": "bb4fac61-f40d-4aab-a236-c7c7895296d8",
   "metadata": {},
   "outputs": [],
   "source": [
    "import itertools\n",
    "coin = ['0','1'] # 表が1, 裏が0\n",
    "five_throws = list(itertools.product(coin,repeat=5))"
   ]
  },
  {
   "cell_type": "code",
   "execution_count": 15,
   "id": "5ddde47e-b2d5-4849-ab59-daed6e0af66d",
   "metadata": {},
   "outputs": [
    {
     "data": {
      "text/plain": [
       "[('0', '0', '0', '0', '0'),\n",
       " ('0', '0', '0', '0', '1'),\n",
       " ('0', '0', '0', '1', '0'),\n",
       " ('0', '0', '0', '1', '1'),\n",
       " ('0', '0', '1', '0', '0'),\n",
       " ('0', '0', '1', '0', '1'),\n",
       " ('0', '0', '1', '1', '0'),\n",
       " ('0', '0', '1', '1', '1'),\n",
       " ('0', '1', '0', '0', '0'),\n",
       " ('0', '1', '0', '0', '1'),\n",
       " ('0', '1', '0', '1', '0'),\n",
       " ('0', '1', '0', '1', '1'),\n",
       " ('0', '1', '1', '0', '0'),\n",
       " ('0', '1', '1', '0', '1'),\n",
       " ('0', '1', '1', '1', '0'),\n",
       " ('0', '1', '1', '1', '1'),\n",
       " ('1', '0', '0', '0', '0'),\n",
       " ('1', '0', '0', '0', '1'),\n",
       " ('1', '0', '0', '1', '0'),\n",
       " ('1', '0', '0', '1', '1'),\n",
       " ('1', '0', '1', '0', '0'),\n",
       " ('1', '0', '1', '0', '1'),\n",
       " ('1', '0', '1', '1', '0'),\n",
       " ('1', '0', '1', '1', '1'),\n",
       " ('1', '1', '0', '0', '0'),\n",
       " ('1', '1', '0', '0', '1'),\n",
       " ('1', '1', '0', '1', '0'),\n",
       " ('1', '1', '0', '1', '1'),\n",
       " ('1', '1', '1', '0', '0'),\n",
       " ('1', '1', '1', '0', '1'),\n",
       " ('1', '1', '1', '1', '0'),\n",
       " ('1', '1', '1', '1', '1')]"
      ]
     },
     "execution_count": 15,
     "metadata": {},
     "output_type": "execute_result"
    }
   ],
   "source": [
    "five_throws"
   ]
  },
  {
   "cell_type": "markdown",
   "id": "fd3c332d-f3f3-4c64-8674-ef1974d21295",
   "metadata": {},
   "source": [
    "このように、各事象は５つの要素からなるタプルで表現されています。また、そのタプルのそれぞれの要素は表が'1'、裏が'0'という文字で表現されています。  \n",
    "1投めから5投めまでには、2^5 = 32とおりの表・裏の出かたがあります。確かめてみましょう。"
   ]
  },
  {
   "cell_type": "code",
   "execution_count": 3,
   "id": "ca6428fc-082c-4f59-a0aa-503c64aaf5d6",
   "metadata": {},
   "outputs": [
    {
     "data": {
      "text/plain": [
       "32"
      ]
     },
     "execution_count": 3,
     "metadata": {},
     "output_type": "execute_result"
    }
   ],
   "source": [
    "len(five_throws)"
   ]
  },
  {
   "cell_type": "markdown",
   "id": "c2457b4d-192a-4125-8a8f-09fb666566dc",
   "metadata": {},
   "source": [
    "表と裏の出る確率が1/2ずつだとすると、これらの出かたの確率はすべて、$(1/2)^5 = 1/32 = 0.03125$になります。このとき、確率変数すなわち表の枚数の分布を調べてみましょう。"
   ]
  },
  {
   "cell_type": "markdown",
   "id": "5010862d-dd28-467b-bd72-27b7f95e17c0",
   "metadata": {},
   "source": [
    "配列（アレイ）を使うので、NumPyのライブラリを使います。また、Matplotlibのライブラリpyplotを、ヒストグラムを描くために使います。　  \n",
    "インライン描画を可能にするために%matplotlib inlineを宣言します。"
   ]
  },
  {
   "cell_type": "code",
   "execution_count": 16,
   "id": "32a1cec0-6249-439c-a940-9edd8e8677d3",
   "metadata": {},
   "outputs": [],
   "source": [
    "import numpy as np\n",
    "%matplotlib inline\n",
    "import matplotlib.pyplot as plt"
   ]
  },
  {
   "cell_type": "markdown",
   "id": "3df01903-350d-4d6b-b414-16dc8ddeef41",
   "metadata": {},
   "source": [
    "それぞれの事象（５投の目の出かた）ごとに表の枚数を格納するための配列count_topsを作り、初期値として0を与えます。  \n",
    "numpy.zeros()は配列の長さを引数として、要素がすべてゼロの配列を返します。"
   ]
  },
  {
   "cell_type": "code",
   "execution_count": 17,
   "id": "61ac82f7-6653-4bb6-9a32-b3d83d739621",
   "metadata": {},
   "outputs": [],
   "source": [
    "count_tops = np.zeros(len(five_throws)) # 要素数はこの場合32"
   ]
  },
  {
   "cell_type": "markdown",
   "id": "192b9e14-1602-4525-8859-4cdd0d34eabf",
   "metadata": {},
   "source": [
    "配列five_throwsの各要素である、それぞれの事象をあらわすタプル（５つの要素からなる）について表の数を数えます。"
   ]
  },
  {
   "cell_type": "code",
   "execution_count": 27,
   "id": "2073ce81-73ef-435f-81b5-09d3c666ac7a",
   "metadata": {},
   "outputs": [],
   "source": [
    "t_index = 0 #それぞれの事象の表の数を入れる配列の先頭の添え字\n",
    "#外側のループでは、それぞれの事象の表の数を、あらかじめゼロが全部入った配列を上書きして、記録します。\n",
    "for t in five_throws: # tは1つのタプルです。\n",
    "    num_tops = 0 # その事象の表の数を初期化します。\n",
    "    #内側のループでは、ひとつの事象の１投１投の裏表を取り出し、表の数を累積します。\n",
    "    for i in t: # i はタプルの1つの要素です\n",
    "        i_int = int(i) #表なら1、裏なら0です。\n",
    "        num_tops = num_tops + i_int\n",
    "    count_tops[t_index] = num_tops\n",
    "    t_index += 1 # 次の要素の添え字"
   ]
  },
  {
   "cell_type": "markdown",
   "id": "d2f989df-0a40-4508-87bd-eba3059e2cab",
   "metadata": {},
   "source": [
    "32とおりの事象において、表の出る回数は次のようになります。"
   ]
  },
  {
   "cell_type": "code",
   "execution_count": 28,
   "id": "4f8578a2-af47-4881-add9-beb7ba0fa51c",
   "metadata": {},
   "outputs": [
    {
     "data": {
      "text/plain": [
       "array([0., 1., 1., 2., 1., 2., 2., 3., 1., 2., 2., 3., 2., 3., 3., 4., 1.,\n",
       "       2., 2., 3., 2., 3., 3., 4., 2., 3., 3., 4., 3., 4., 4., 5.])"
      ]
     },
     "execution_count": 28,
     "metadata": {},
     "output_type": "execute_result"
    }
   ],
   "source": [
    "count_tops"
   ]
  },
  {
   "cell_type": "markdown",
   "id": "1e1ad542-aa43-494a-93ec-fe432f8550f4",
   "metadata": {},
   "source": [
    "5投して表の出る枚数のヒストグラムを次のようにして書きます。"
   ]
  },
  {
   "cell_type": "code",
   "execution_count": 29,
   "id": "152312df-439e-495e-aa7c-2a6f359f2ea6",
   "metadata": {},
   "outputs": [
    {
     "data": {
      "text/plain": [
       "(array([ 1.,  5., 10., 10.,  5.,  1.]),\n",
       " array([-0.5,  0.5,  1.5,  2.5,  3.5,  4.5,  5.5]),\n",
       " <BarContainer object of 6 artists>)"
      ]
     },
     "execution_count": 29,
     "metadata": {},
     "output_type": "execute_result"
    },
    {
     "data": {
      "image/png": "[encoded data removed]",
      "text/plain": [
       "<Figure size 432x288 with 1 Axes>"
      ]
     },
     "metadata": {
      "needs_background": "light"
     },
     "output_type": "display_data"
    }
   ],
   "source": [
    "intervals = np.arange(-0.5,6.5,1) # 各階級の中心が0, 1, 2, 3, 4, 5になるように端の値を設定します\n",
    "plt.hist(count_tops,bins=intervals)"
   ]
  },
  {
   "cell_type": "markdown",
   "id": "0c0c6b75-e6fc-4826-96db-37625e42e251",
   "metadata": {},
   "source": [
    "上のヒストグラムは、全事象において、それぞれの枚数が出る事象の数を表しています。  \n",
    "そこで次に、それぞれの枚数が出る確率のヒストグラムを描きます。"
   ]
  },
  {
   "cell_type": "markdown",
   "id": "2c88e8aa-9858-4623-8204-c33ec750136f",
   "metadata": {},
   "source": [
    "さらにこの次に「二項分布」のヒストグラムを描くことに備えて、上のプログラムを次のように修正します。  \n",
    "まず、それぞれの根元事象が起きる確率を計算します。  \n",
    "つまり、上の$f(x_i)$の計算です。  \n",
    "コインを投げたとき、表が出るか裏が出るかどちらかです（ベルヌーイ試行といいます）。  \n",
    "表の確率を$p$, 裏の確率を$1-p$とすると、例えば表裏表表裏となる確率は、  \n",
    "$p(1-p)pp(1-p)$  \n",
    "となります。  \n",
    "さらに、表が同じ回数の根元事象ごとに、この確率を加算します。そうすることで、新たな事象ー表の回数が同じ根元事象の集合ーの確率が計算できます。"
   ]
  },
  {
   "cell_type": "code",
   "execution_count": 12,
   "id": "9bb18e45-a8c2-4293-9f19-ca6c31c4bbfd",
   "metadata": {},
   "outputs": [],
   "source": [
    "weight_all = np.zeros(len(five_throws)) # １つの事象（５回のコイン投げ）ごとの重みを格納する配列の初期化。今回は３２個。\n",
    "weight_events = np.zeros(6) # 同じ回数の表を１事象としたときの事象ごとの重みの和の配列の初期化。表の回数は0回から5回まで。\n",
    "t_index = 0 # 1つの事象ごとの表の枚数や重みを格納する配列の添字の初期化。添字は0からなので0で。\n",
    "p = 0.5 # 表の確率\n",
    "q = 1 - p # 裏の確率\n",
    "# 次のループで、３２個の事象ごとに表の回数を数え、その事象の起こる確率を計算する。\n",
    "for t in five_throws:\n",
    "    num_tops = 0 #表の回数を初期化\n",
    "    weight = 1 # 重みを初期化\n",
    "    # 次のループで、事象のタプルを構成する1投ごとに表の枚数と重みを更新する\n",
    "    for i in t:\n",
    "        i_int = int(i) # 文字列の'1', '0'を整数に変換\n",
    "        num_tops = num_tops + i_int # 表の枚数を更新\n",
    "        weight = weight * p**i_int * q**(1-i_int) # 表ならpを、裏ならqを、重みにかけることで重みを更新する。\n",
    "    count_tops[t_index] = num_tops # ループを抜けたので表の枚数を格納する\n",
    "    weight_all[t_index] = weight # ループを抜けたので重みを格納する\n",
    "    weight_events[num_tops] += weight # 表の回数ごとに重みを足していく\n",
    "    t_index += 1 # 添字を１増やす"
   ]
  },
  {
   "cell_type": "markdown",
   "id": "1e8599cf-af55-4fc6-8a41-b66ee5d6a22b",
   "metadata": {},
   "source": [
    "各事象の表の枚数は、さきほどと同じです。"
   ]
  },
  {
   "cell_type": "code",
   "execution_count": 33,
   "id": "3d827f63-ec58-4c1b-85e4-39858584b9c9",
   "metadata": {},
   "outputs": [
    {
     "data": {
      "text/plain": [
       "array([0., 1., 1., 2., 1., 2., 2., 3., 1., 2., 2., 3., 2., 3., 3., 4., 1.,\n",
       "       2., 2., 3., 2., 3., 3., 4., 2., 3., 3., 4., 3., 4., 4., 5.])"
      ]
     },
     "execution_count": 33,
     "metadata": {},
     "output_type": "execute_result"
    }
   ],
   "source": [
    "count_tops"
   ]
  },
  {
   "cell_type": "markdown",
   "id": "876b3fbd-49d1-42c3-bc3b-d04010b87f9e",
   "metadata": {},
   "source": [
    "各根元事象の重み（確率）はすべて同じで、$(0.5)^5 = 0.03125$です。"
   ]
  },
  {
   "cell_type": "code",
   "execution_count": 14,
   "id": "2127de43-2849-43d6-a94d-8a7e1a16cefd",
   "metadata": {},
   "outputs": [
    {
     "data": {
      "text/plain": [
       "array([0.03125, 0.03125, 0.03125, 0.03125, 0.03125, 0.03125, 0.03125,\n",
       "       0.03125, 0.03125, 0.03125, 0.03125, 0.03125, 0.03125, 0.03125,\n",
       "       0.03125, 0.03125, 0.03125, 0.03125, 0.03125, 0.03125, 0.03125,\n",
       "       0.03125, 0.03125, 0.03125, 0.03125, 0.03125, 0.03125, 0.03125,\n",
       "       0.03125, 0.03125, 0.03125, 0.03125])"
      ]
     },
     "execution_count": 14,
     "metadata": {},
     "output_type": "execute_result"
    }
   ],
   "source": [
    "weight_all"
   ]
  },
  {
   "cell_type": "markdown",
   "id": "b3d4615e-9852-4cf8-9023-3d5a12f05367",
   "metadata": {},
   "source": [
    "表の枚数が0, 1, 2, 3, 4, 5枚である確率はそれぞれ次のようになります。"
   ]
  },
  {
   "cell_type": "code",
   "execution_count": 15,
   "id": "7cdb8fe2-b847-4914-a0c0-35be25e92b87",
   "metadata": {},
   "outputs": [
    {
     "data": {
      "text/plain": [
       "array([0.03125, 0.15625, 0.3125 , 0.3125 , 0.15625, 0.03125])"
      ]
     },
     "execution_count": 15,
     "metadata": {},
     "output_type": "execute_result"
    }
   ],
   "source": [
    "weight_events"
   ]
  },
  {
   "cell_type": "markdown",
   "id": "3a970f8e-32ae-4286-9fac-581720d7ceae",
   "metadata": {},
   "source": [
    "確率ですから、これらの和は当然1にならねばいけません。"
   ]
  },
  {
   "cell_type": "code",
   "execution_count": 16,
   "id": "4b36dcd0-3a18-4db2-8795-60d748a357ba",
   "metadata": {},
   "outputs": [
    {
     "data": {
      "text/plain": [
       "1.0"
      ]
     },
     "execution_count": 16,
     "metadata": {},
     "output_type": "execute_result"
    }
   ],
   "source": [
    "sum(weight_events)"
   ]
  },
  {
   "cell_type": "markdown",
   "id": "68136298-cea3-4d1f-9ba4-bf605b5142f6",
   "metadata": {},
   "source": [
    "表の枚数の確率をヒストグラムにするには、Matplotlib.pyplot.hist()関数のweightsオプションに、上で求めた、それぞれの事象の重み（確率）を与えればよいです。"
   ]
  },
  {
   "cell_type": "code",
   "execution_count": 17,
   "id": "98763a78-69fc-49ae-bb91-c0bc7d4c7c76",
   "metadata": {},
   "outputs": [
    {
     "data": {
      "text/plain": [
       "(array([0.03125, 0.15625, 0.3125 , 0.3125 , 0.15625, 0.03125]),\n",
       " array([-0.5,  0.5,  1.5,  2.5,  3.5,  4.5,  5.5]),\n",
       " <BarContainer object of 6 artists>)"
      ]
     },
     "execution_count": 17,
     "metadata": {},
     "output_type": "execute_result"
    },
    {
     "data": {
      "image/png": "[encoded data removed]",
      "text/plain": [
       "<Figure size 432x288 with 1 Axes>"
      ]
     },
     "metadata": {
      "needs_background": "light"
     },
     "output_type": "display_data"
    }
   ],
   "source": [
    "plt.hist(count_tops, weights=weight_all, bins=intervals)"
   ]
  },
  {
   "cell_type": "markdown",
   "id": "e5a5a696-311f-40d7-8272-c358dd214f48",
   "metadata": {},
   "source": [
    "表の枚数の期待値が二項分布の期待値$np = 5x0.5$に等しいことを確かめましょう。"
   ]
  },
  {
   "cell_type": "markdown",
   "id": "3ee06c21-0116-4dd0-a3de-e5737ac68e39",
   "metadata": {},
   "source": [
    "期待値は、それぞれの確率変数の値ｘ確率　の総和です。"
   ]
  },
  {
   "cell_type": "code",
   "execution_count": 18,
   "id": "db8e7e20-bb1a-4d05-a40c-af98ddb28a3f",
   "metadata": {},
   "outputs": [
    {
     "data": {
      "text/plain": [
       "2.5"
      ]
     },
     "execution_count": 18,
     "metadata": {},
     "output_type": "execute_result"
    }
   ],
   "source": [
    "e_tops = np.dot(count_tops,weight_all)\n",
    "e_tops"
   ]
  },
  {
   "cell_type": "markdown",
   "id": "a0666d38-cae5-4bb1-902c-cc14c1b58e54",
   "metadata": {},
   "source": [
    "表の枚数の分散が二項分布の分散npq = 5x0.5x0.5に等しいことを確かめましょう。"
   ]
  },
  {
   "cell_type": "code",
   "execution_count": 25,
   "id": "977eb8a0-d0a8-4500-8431-2090ed0fa629",
   "metadata": {},
   "outputs": [
    {
     "data": {
      "text/plain": [
       "1.25"
      ]
     },
     "execution_count": 25,
     "metadata": {},
     "output_type": "execute_result"
    }
   ],
   "source": [
    "# array型（配列）の変数からスカラをひくと、配列のすべての要素からスカラをひきます\n",
    "# array型（配列）の変数どうしの「*」演算は、要素どうしの積です\n",
    "sum((count_tops - e_tops) * (count_tops - e_tops) * weight_all)"
   ]
  },
  {
   "cell_type": "markdown",
   "id": "5f619841-b9cb-4966-9394-ef0db173a65b",
   "metadata": {},
   "source": [
    "根元事象の起こる確率はすべて同じなので、単純にnp.var()関数で分散を求めることもできます。"
   ]
  },
  {
   "cell_type": "code",
   "execution_count": 35,
   "id": "2c49b0e9-16de-4357-835a-6700ccf1531c",
   "metadata": {},
   "outputs": [
    {
     "data": {
      "text/plain": [
       "1.25"
      ]
     },
     "execution_count": 35,
     "metadata": {},
     "output_type": "execute_result"
    }
   ],
   "source": [
    "np.var(count_tops)"
   ]
  },
  {
   "cell_type": "markdown",
   "id": "6b51b244-b6a7-4620-ac9a-84734392087f",
   "metadata": {},
   "source": [
    "## 二項分布"
   ]
  },
  {
   "cell_type": "markdown",
   "id": "eeae3447-ab8d-486f-a0ba-a28863a49ca0",
   "metadata": {},
   "source": [
    "### 例２：表と裏の出る確率が違うコインを投げる"
   ]
  },
  {
   "cell_type": "markdown",
   "id": "45799240-0161-4980-b6a2-b8868a4f3234",
   "metadata": {},
   "source": [
    "仮に、コインの表の出る確率が0.4, 裏の出る確率が1-0.4 = 0.6ならば、5枚のうち表の出る枚数の確率分布はどうなるでしょうか？"
   ]
  },
  {
   "cell_type": "markdown",
   "id": "f0ce5b1f-e17b-4cd5-b223-a93057f004ae",
   "metadata": {},
   "source": [
    "さきほどのプログラムで、p = 0.4として実行してみましょう。"
   ]
  },
  {
   "cell_type": "code",
   "execution_count": 36,
   "id": "ff287e90-8586-4c0e-9bc7-3810f8d6f34c",
   "metadata": {},
   "outputs": [],
   "source": [
    "weight_all = np.zeros(len(five_throws)) # １つの事象（５回のコイン投げ）ごとの重みを格納する配列の初期化\n",
    "weight_events = np.zeros(6) # 同じ回数の表を１事象としたときの事象ごとの重みの和の配列の初期化。\n",
    "# 表の回数は0回から5回まで。\n",
    "t_index = 0 # 1つの事象ごとの表の枚数や重みを格納する配列の添字の初期化。添字は0からなので0で。\n",
    "p = 0.4 # 表の確率\n",
    "q = 1 - p # 裏の確率\n",
    "for t in five_throws:\n",
    "    num_tops = 0 #表の回数を初期化\n",
    "    weight = 1 # 重みを初期化\n",
    "    # 次のループで、事象のタプルを構成する1投ごとに表の枚数と重みを更新する\n",
    "    for i in t:\n",
    "        i_int = int(i) # 文字列の'1', '0'を整数に変換\n",
    "        num_tops = num_tops + i_int # 表の枚数を更新\n",
    "        weight = weight * p**i_int * q**(1-i_int) # 表ならpを、裏ならqを、重みにかけることで重みを更新する。\n",
    "    count_tops[t_index] = num_tops # ループを抜けたので表の枚数を格納する\n",
    "    weight_all[t_index] = weight # ループを抜けたので重みを格納する\n",
    "    weight_events[num_tops] += weight # 表の回数ごとに重みを足していく\n",
    "    t_index += 1 # 添字を１増やしてループの最初に戻る"
   ]
  },
  {
   "cell_type": "markdown",
   "id": "771ffcf8-f9d0-4db8-8eaf-ba64856ad7f3",
   "metadata": {},
   "source": [
    "今度は、３２とおりの各事象の確率はつぎのようになります。"
   ]
  },
  {
   "cell_type": "code",
   "execution_count": 37,
   "id": "ea9ed2b2-62ca-4be7-8284-11819b906b2e",
   "metadata": {},
   "outputs": [
    {
     "data": {
      "text/plain": [
       "array([0.07776, 0.05184, 0.05184, 0.03456, 0.05184, 0.03456, 0.03456,\n",
       "       0.02304, 0.05184, 0.03456, 0.03456, 0.02304, 0.03456, 0.02304,\n",
       "       0.02304, 0.01536, 0.05184, 0.03456, 0.03456, 0.02304, 0.03456,\n",
       "       0.02304, 0.02304, 0.01536, 0.03456, 0.02304, 0.02304, 0.01536,\n",
       "       0.02304, 0.01536, 0.01536, 0.01024])"
      ]
     },
     "execution_count": 37,
     "metadata": {},
     "output_type": "execute_result"
    }
   ],
   "source": [
    "weight_all"
   ]
  },
  {
   "cell_type": "markdown",
   "id": "3433816e-306d-4129-a9f2-2df9a3f01038",
   "metadata": {},
   "source": [
    "表が0~5枚の確率は、それぞれ次のようになります。"
   ]
  },
  {
   "cell_type": "code",
   "execution_count": 38,
   "id": "f735c8f1-5fb2-419a-a8d9-8b839a2a068c",
   "metadata": {},
   "outputs": [
    {
     "data": {
      "text/plain": [
       "array([0.07776, 0.2592 , 0.3456 , 0.2304 , 0.0768 , 0.01024])"
      ]
     },
     "execution_count": 38,
     "metadata": {},
     "output_type": "execute_result"
    }
   ],
   "source": [
    "weight_events"
   ]
  },
  {
   "cell_type": "markdown",
   "id": "b9bef823-dab5-41a2-9d1e-b0f011c1720e",
   "metadata": {},
   "source": [
    "当然、これらの和は1です。"
   ]
  },
  {
   "cell_type": "code",
   "execution_count": 39,
   "id": "73cc3bfb-89a3-4a8d-b717-7598000d9684",
   "metadata": {},
   "outputs": [
    {
     "data": {
      "text/plain": [
       "1.0"
      ]
     },
     "execution_count": 39,
     "metadata": {},
     "output_type": "execute_result"
    }
   ],
   "source": [
    "sum(weight_events)"
   ]
  },
  {
   "cell_type": "markdown",
   "id": "df76a757-d16b-4c34-bd08-22f0cf8d740a",
   "metadata": {},
   "source": [
    "表が0~5枚の確率をヒストグラムにしてみましょう。0枚、1枚の確率が5枚、4枚よりも高くなっているのがわかりますね。"
   ]
  },
  {
   "cell_type": "code",
   "execution_count": 31,
   "id": "f059c0d8-7803-4a33-b036-4b58066290dc",
   "metadata": {},
   "outputs": [
    {
     "data": {
      "text/plain": [
       "(array([0.07776, 0.2592 , 0.3456 , 0.2304 , 0.0768 , 0.01024]),\n",
       " array([-0.5,  0.5,  1.5,  2.5,  3.5,  4.5,  5.5]),\n",
       " <BarContainer object of 6 artists>)"
      ]
     },
     "execution_count": 31,
     "metadata": {},
     "output_type": "execute_result"
    },
    {
     "data": {
      "image/png": "[encoded data removed]",
      "text/plain": [
       "<Figure size 432x288 with 1 Axes>"
      ]
     },
     "metadata": {
      "needs_background": "light"
     },
     "output_type": "display_data"
    }
   ],
   "source": [
    "plt.hist(count_tops, weights=weight_all, bins=intervals)"
   ]
  },
  {
   "cell_type": "markdown",
   "id": "5135c434-243a-4cd8-92c1-f20c0ff3f400",
   "metadata": {},
   "source": [
    "平均が、二項分布$B(n,p) = B(5,0.4)$ の平均$np = 5 x 0.4 = 2$に等しいことを確かめます。"
   ]
  },
  {
   "cell_type": "code",
   "execution_count": 40,
   "id": "f9ec9ccb-b988-41ee-abfb-bee7255321a2",
   "metadata": {},
   "outputs": [
    {
     "data": {
      "text/plain": [
       "2.0"
      ]
     },
     "execution_count": 40,
     "metadata": {},
     "output_type": "execute_result"
    }
   ],
   "source": [
    "e_tops = np.dot(count_tops,weight_all)\n",
    "e_tops"
   ]
  },
  {
   "cell_type": "markdown",
   "id": "4604f3bc-95f8-4626-a847-2285a7d9ea08",
   "metadata": {},
   "source": [
    "分散が、npq = 5 x 0.4 x 0.6に等しいことを確かめます。３とおり（実質２とおり）で計算しましたが、誤差がみられます。"
   ]
  },
  {
   "cell_type": "code",
   "execution_count": 34,
   "id": "5fdbf9cc-4a34-4066-92c0-159847eed5de",
   "metadata": {},
   "outputs": [
    {
     "data": {
      "text/plain": [
       "1.1999999999999997"
      ]
     },
     "execution_count": 34,
     "metadata": {},
     "output_type": "execute_result"
    }
   ],
   "source": [
    "sum((count_tops - e_tops) * (count_tops - e_tops) * weight_all)"
   ]
  },
  {
   "cell_type": "code",
   "execution_count": 35,
   "id": "0a5178fb-b7d7-40cf-a58c-77381dd99077",
   "metadata": {},
   "outputs": [
    {
     "data": {
      "text/plain": [
       "1.2000000000000002"
      ]
     },
     "execution_count": 35,
     "metadata": {},
     "output_type": "execute_result"
    }
   ],
   "source": [
    "np.dot((count_tops - e_tops) * (count_tops - e_tops),weight_all)"
   ]
  },
  {
   "cell_type": "code",
   "execution_count": 41,
   "id": "0714bbb8-f909-41b7-99b4-6558d21892ef",
   "metadata": {},
   "outputs": [
    {
     "data": {
      "text/plain": [
       "1.2000000000000002"
      ]
     },
     "execution_count": 41,
     "metadata": {},
     "output_type": "execute_result"
    }
   ],
   "source": [
    "np.dot((count_tops - e_tops)**2,weight_all)"
   ]
  },
  {
   "cell_type": "markdown",
   "id": "4b4c6030-00ae-47e6-9414-01ac63cad504",
   "metadata": {},
   "source": [
    "### 二項分布とは"
   ]
  },
  {
   "cell_type": "markdown",
   "id": "7285593f-ed63-4ed8-9f09-273588743233",
   "metadata": {},
   "source": [
    "二項分布とは、次のような確率関数$P(X = x)$をもつ確率分布です。\n",
    "- 成功確率$p$の$n$回のベルヌーイ試行を行ったとき、成功の回数が$x$、失敗の回数が$n - x$とする。\n",
    "- 成功の回数$X = x$に対する確率関数$P(X=x)$"
   ]
  },
  {
   "cell_type": "markdown",
   "id": "909e0fcc-4885-4f18-9116-abce57c73b08",
   "metadata": {},
   "source": [
    "また、このように試行回数$n$と成功確率$p$の２つのパラメータで定義できますので、二項分布を$B(n,p)$と表現します。"
   ]
  },
  {
   "cell_type": "markdown",
   "id": "b26493c0-3cda-4bfd-81a8-a3bc6d40a6bc",
   "metadata": {},
   "source": [
    "確率関数$P(X = x)$は次のように定義できます。$$P(X=x) \\equiv f(x) = nCxp^x(1 - p)^{n - x} \\;\\; (x = 0, 1, 2, .., n)$$"
   ]
  },
  {
   "cell_type": "markdown",
   "id": "3b1b0ed9-7d74-48be-a626-ededc25a8356",
   "metadata": {},
   "source": [
    "二項分布の確率関数の値はScipyのstats.binom(n=$n$,p=$p$).pmf([0,1,2,...n])で得られます。"
   ]
  },
  {
   "cell_type": "markdown",
   "id": "42c7fb7f-6e95-4ead-ba6b-bea1945f61c7",
   "metadata": {},
   "source": [
    "### 例３　Scipyに含まれる二項分布の確率関数"
   ]
  },
  {
   "cell_type": "markdown",
   "id": "9ac39024-25cc-457f-b253-8e89c44e713f",
   "metadata": {},
   "source": [
    "上の例２で得られた確率分布を、二項分布の確率関数と比較してみましょう。  \n",
    "SciPyのstats.binom()関数を使います。"
   ]
  },
  {
   "cell_type": "code",
   "execution_count": 42,
   "id": "56bee213-830d-49b3-95e8-0b7a43920d22",
   "metadata": {},
   "outputs": [],
   "source": [
    "from scipy import stats"
   ]
  },
  {
   "cell_type": "markdown",
   "id": "71cde5fd-7e40-4e8f-a9c9-6a65ae376a7b",
   "metadata": {},
   "source": [
    "離散型の確率分布なので確率密度関数（probability density function）ではなく、「pmf: Probability Mass Function（確率質量関数）」であらわします。確率変数(この場合、0,1,2,3,4,5)ごとの確率が確率質量関数からわかります。"
   ]
  },
  {
   "cell_type": "code",
   "execution_count": 43,
   "id": "b10565c3-85b0-4796-ac8b-d56b6a0e062e",
   "metadata": {},
   "outputs": [
    {
     "data": {
      "text/plain": [
       "array([0.07776, 0.2592 , 0.3456 , 0.2304 , 0.0768 , 0.01024])"
      ]
     },
     "execution_count": 43,
     "metadata": {},
     "output_type": "execute_result"
    }
   ],
   "source": [
    "stats.binom(n=5,p=0.4).pmf([0,1,2,3,4,5])"
   ]
  },
  {
   "cell_type": "markdown",
   "id": "913e3ed9-5f6c-43c9-917f-090ba92a0219",
   "metadata": {},
   "source": [
    "このように、上で求めた値と一致しました。ヒストグラムに確率質量関数を重ね描きしましょう。  \n",
    "単に値をプロットするには、matplotlib.pyplot.plot()関数を用います。"
   ]
  },
  {
   "cell_type": "code",
   "execution_count": 38,
   "id": "e6df627d-4a73-4553-8d92-e3ad5cfa13de",
   "metadata": {},
   "outputs": [
    {
     "data": {
      "text/plain": [
       "[<matplotlib.lines.Line2D at 0x15e8a142f70>]"
      ]
     },
     "execution_count": 38,
     "metadata": {},
     "output_type": "execute_result"
    },
    {
     "data": {
      "image/png": "[encoded data removed]",
      "text/plain": [
       "<Figure size 432x288 with 1 Axes>"
      ]
     },
     "metadata": {
      "needs_background": "light"
     },
     "output_type": "display_data"
    }
   ],
   "source": [
    "plt.hist(count_tops, weights=weight_all, bins=intervals)\n",
    "plt.plot([0,1,2,3,4,5],stats.binom(n=5,p=0.4).pmf([0,1,2,3,4,5]),'o')"
   ]
  },
  {
   "cell_type": "markdown",
   "id": "c1ed7432-a181-4f58-9b14-3ed25e133a04",
   "metadata": {},
   "source": [
    "## ポワソン分布"
   ]
  },
  {
   "cell_type": "markdown",
   "id": "ccf7bd6e-f518-4ec4-b824-9bdc9c4feb85",
   "metadata": {},
   "source": [
    "### 例４　稀な現象の二項分布による分析（ポワソン分布への導入）"
   ]
  },
  {
   "cell_type": "markdown",
   "id": "f2365aab-00fe-4195-a845-c8bbfdc48f61",
   "metadata": {},
   "source": [
    "だいたい100年に１回おこるできごとがあるとします。それが100年間に2回とか3回おこる可能性はどれくらいでしょう？  \n",
    "100年間に1回もおこらない可能性はどれくらいでしょう？"
   ]
  },
  {
   "cell_type": "markdown",
   "id": "c7db06ec-f2d2-4034-a649-3a0c53711a7f",
   "metadata": {},
   "source": [
    "まずは、確率p=0.01で、100回の試行したとき、確率変数0, 1, 2, 3, ..., 99, 100の確率分布を２項分布B(100, 0.01)で計算しましょう。  \n",
    "そのためにまず、NumPy, SciPyをインポートし、確率変数の配列を作ります。"
   ]
  },
  {
   "cell_type": "code",
   "execution_count": 44,
   "id": "7c00f668-9150-4835-8e22-6caa41e3e219",
   "metadata": {},
   "outputs": [],
   "source": [
    "import numpy as np\n",
    "from scipy import stats\n",
    "number_events = np.arange(0,101)"
   ]
  },
  {
   "cell_type": "markdown",
   "id": "1d0924c1-6166-4f8b-9e30-75e0beb87f90",
   "metadata": {},
   "source": [
    "確率変数の一覧の確認です。"
   ]
  },
  {
   "cell_type": "code",
   "execution_count": 2,
   "id": "6678dad4-d7f1-415e-ba6d-3e7045c693b9",
   "metadata": {},
   "outputs": [
    {
     "data": {
      "text/plain": [
       "array([  0,   1,   2,   3,   4,   5,   6,   7,   8,   9,  10,  11,  12,\n",
       "        13,  14,  15,  16,  17,  18,  19,  20,  21,  22,  23,  24,  25,\n",
       "        26,  27,  28,  29,  30,  31,  32,  33,  34,  35,  36,  37,  38,\n",
       "        39,  40,  41,  42,  43,  44,  45,  46,  47,  48,  49,  50,  51,\n",
       "        52,  53,  54,  55,  56,  57,  58,  59,  60,  61,  62,  63,  64,\n",
       "        65,  66,  67,  68,  69,  70,  71,  72,  73,  74,  75,  76,  77,\n",
       "        78,  79,  80,  81,  82,  83,  84,  85,  86,  87,  88,  89,  90,\n",
       "        91,  92,  93,  94,  95,  96,  97,  98,  99, 100])"
      ]
     },
     "execution_count": 2,
     "metadata": {},
     "output_type": "execute_result"
    }
   ],
   "source": [
    "number_events"
   ]
  },
  {
   "cell_type": "markdown",
   "id": "d50b925f-fd53-4a75-a556-e46561937ee1",
   "metadata": {},
   "source": [
    "それぞれの確率変数に対する、２項分布の確率分布です。離散値をとりますので、pmf()メソッドを用います。"
   ]
  },
  {
   "cell_type": "code",
   "execution_count": 8,
   "id": "d8f86691-8ed9-4954-b791-92f0a83f688c",
   "metadata": {},
   "outputs": [
    {
     "data": {
      "text/plain": [
       "array([3.66032341e-001, 3.69729638e-001, 1.84864819e-001, 6.09991658e-002,\n",
       "       1.49417149e-002, 2.89778712e-003, 4.63450803e-004, 6.28634566e-005,\n",
       "       7.38169377e-006, 7.62195092e-007, 7.00603569e-008, 5.79011214e-009,\n",
       "       4.33771028e-010, 2.96595574e-011, 1.86174711e-012, 1.07818351e-013,\n",
       "       5.78570698e-015, 2.88769689e-016, 1.34499911e-017, 5.86336668e-019,\n",
       "       2.39865000e-020, 9.23001445e-022, 3.34789321e-023, 1.14684089e-024,\n",
       "       3.71661399e-026, 1.14126329e-027, 3.32535923e-029, 9.20600759e-031,\n",
       "       2.42438151e-032, 6.07995362e-034, 1.45345693e-035, 3.31515102e-037,\n",
       "       7.22049939e-039, 1.50288937e-040, 2.99149103e-042, 5.69807815e-044,\n",
       "       1.03921178e-045, 1.81571264e-047, 3.04066711e-049, 4.88270812e-051,\n",
       "       7.52134332e-053, 1.11180241e-054, 1.57759361e-056, 2.14941107e-058,\n",
       "       2.81259025e-060, 3.53546698e-062, 4.26988766e-064, 4.95538219e-066,\n",
       "       5.52683620e-068, 5.92445851e-070, 6.10398756e-072, 6.04474902e-074,\n",
       "       5.75354899e-076, 5.26339530e-078, 4.62737709e-080, 3.90926255e-082,\n",
       "       3.17310272e-084, 2.47415417e-086, 1.85281486e-088, 1.33227571e-090,\n",
       "       9.19584243e-093, 6.09097031e-095, 3.87011799e-097, 2.35793625e-099,\n",
       "       1.37695141e-101, 7.70322465e-104, 4.12630644e-106, 2.11509753e-108,\n",
       "       1.03681251e-110, 4.85697561e-113, 2.17267307e-115, 9.27303915e-118,\n",
       "       3.77270111e-120, 1.46168024e-122, 5.38702792e-125, 1.88636668e-127,\n",
       "       6.26783187e-130, 1.97334337e-132, 5.87760910e-135, 1.65333589e-137,\n",
       "       4.38384517e-140, 1.09336455e-142, 2.55899563e-145, 5.60568593e-148,\n",
       "       1.14594349e-150, 2.17885869e-153, 3.83872214e-156, 6.23965053e-159,\n",
       "       9.31077329e-162, 1.26806582e-164, 1.56551336e-167, 1.73772157e-170,\n",
       "       1.71711617e-173, 1.49200927e-176, 1.12229367e-179, 7.15976824e-183,\n",
       "       3.76671309e-186, 1.56897348e-189, 4.85149500e-193, 9.90000000e-197,\n",
       "       1.00000000e-200])"
      ]
     },
     "execution_count": 8,
     "metadata": {},
     "output_type": "execute_result"
    }
   ],
   "source": [
    "prob_occurrences = stats.binom(n=100,p=0.01).pmf(number_events)\n",
    "prob_occurrences"
   ]
  },
  {
   "cell_type": "markdown",
   "id": "1bf2aafa-f1b5-48c6-98b3-323049a72c94",
   "metadata": {},
   "source": [
    "平均が（誤差を考えるとほぼ）1になることを確認します。"
   ]
  },
  {
   "cell_type": "code",
   "execution_count": 22,
   "id": "7cfbf663-acae-47fe-b010-024b9b55036d",
   "metadata": {},
   "outputs": [
    {
     "data": {
      "text/plain": [
       "0.9999999999999999"
      ]
     },
     "execution_count": 22,
     "metadata": {},
     "output_type": "execute_result"
    }
   ],
   "source": [
    "sum(number_events * prob_occurrences)"
   ]
  },
  {
   "cell_type": "markdown",
   "id": "5dafd5fe-4659-4414-952c-44ba8e9be831",
   "metadata": {},
   "source": [
    "分散を「２乗の平均　ー　平均の２乗」で計算すると、これも、ほぼ１になります。その理由はこのあと「ポワソン分布の確率関数」のところで説明します。"
   ]
  },
  {
   "cell_type": "code",
   "execution_count": 19,
   "id": "5b593b5b-2a53-48df-ab0c-3404adb9ebdf",
   "metadata": {},
   "outputs": [
    {
     "data": {
      "text/plain": [
       "0.99"
      ]
     },
     "execution_count": 19,
     "metadata": {},
     "output_type": "execute_result"
    }
   ],
   "source": [
    "sum(number_events * number_events *prob_occurrences) - (sum(number_events * prob_occurrences))**2"
   ]
  },
  {
   "cell_type": "markdown",
   "id": "8efa921f-212c-42c9-b5de-5de66c75cce9",
   "metadata": {},
   "source": [
    "確率分布をプロットします。"
   ]
  },
  {
   "cell_type": "code",
   "execution_count": 26,
   "id": "45aadcc6-31b7-47d8-a13c-63b39628971f",
   "metadata": {},
   "outputs": [],
   "source": [
    "%matplotlib inline\n",
    "import matplotlib.pyplot as plt"
   ]
  },
  {
   "cell_type": "code",
   "execution_count": 27,
   "id": "0b0e30fb-14f9-415f-b8af-6b9c0b41a533",
   "metadata": {},
   "outputs": [
    {
     "data": {
      "text/plain": [
       "[<matplotlib.lines.Line2D at 0x2d2edb9d340>]"
      ]
     },
     "execution_count": 27,
     "metadata": {},
     "output_type": "execute_result"
    },
    {
     "data": {
      "image/png": "[encoded data removed]",
      "text/plain": [
       "<Figure size 432x288 with 1 Axes>"
      ]
     },
     "metadata": {
      "needs_background": "light"
     },
     "output_type": "display_data"
    }
   ],
   "source": [
    "plt.plot(number_events,prob_occurrences,'o',ms=1)"
   ]
  },
  {
   "cell_type": "markdown",
   "id": "4112b2bb-20d3-42a1-912b-c5cae519fc20",
   "metadata": {},
   "source": [
    "このように、1回起こる確率が最も高く0.370なのですが、0回の確率はそれと同じくらい（0.367）で、2回起こっても不思議ではなく（0.185）、3回起こる確率も無視できません（0.0610）。"
   ]
  },
  {
   "cell_type": "markdown",
   "id": "9d45f294-6071-4df7-8802-4289e4ec5e5f",
   "metadata": {},
   "source": [
    "### ポワソン分布の確率関数"
   ]
  },
  {
   "cell_type": "markdown",
   "id": "a0b38136-a2af-445b-8e48-0d321136f780",
   "metadata": {},
   "source": [
    "上の例のような二項分布は「ポワソン分布」によって近似されます。ポワソン分布は二項分布が次のような場合に生じます。  \n",
    "- 二項分布$B(n,p)$において期待値$np = \\lambda$を固定する。\n",
    "- 試行回数と成功確率について$n \\rightarrow \\infty$, $p \\rightarrow 0$のような極限をとる"
   ]
  },
  {
   "cell_type": "markdown",
   "id": "c3936b8b-bdbc-419e-815e-3fba519f090e",
   "metadata": {},
   "source": [
    "従って、ポワソン分布の確率関数は、$$f(x) = e^{-x}\\lambda^x / x! \\;\\;\\; (x = 0, 1, 2, ...)$$の形に表されます。パラメータは$\\lambda$だけになります。"
   ]
  },
  {
   "cell_type": "markdown",
   "id": "c354f8b2-ec6f-43ae-86a1-4e508766fd2d",
   "metadata": {},
   "source": [
    "ポワソン分布の期待値$E[X]$と分散$V[X]$はいずれも$\\lambda$になります。  \n",
    "すなわち、$E[X] = V[X] = \\lambda$です。"
   ]
  },
  {
   "cell_type": "markdown",
   "id": "72fdc688-6827-44ff-b485-3068770b0dd5",
   "metadata": {},
   "source": [
    "### 例５ Scipyに含まれるポワソン分布の確率関数"
   ]
  },
  {
   "cell_type": "markdown",
   "id": "a00fbb32-8bf4-4f5a-b7af-25adf1cd5a6d",
   "metadata": {},
   "source": [
    "Scipyのstats.poisson.pmf([0,1,2,..,n],$\\lambda$)関数が、ポワソン分布において、$x = 0,1,2,...,n $に対する確率関数です。$\\lambda$は上で見たように、期待値（平均値）です。"
   ]
  },
  {
   "cell_type": "markdown",
   "id": "5d34d343-c3a4-4b15-94e3-1ba6840de7ab",
   "metadata": {},
   "source": [
    "例４の計算を、「ポワソン分布」を仮定して行ってみましょう。SciPyのstats.poisson.pmf()関数を使います。  \n",
    "この関数の引数は、確率変数（この場合、0から100の配列）とパラメータmu（=平均）です。stats.binom.pmf()と同様に確率変数の配列を与えられたとき、それらのprobability mass functionを収納した配列を返します。"
   ]
  },
  {
   "cell_type": "code",
   "execution_count": 45,
   "id": "7f9019d8-b2da-4c7c-85d6-6353295eed1e",
   "metadata": {},
   "outputs": [],
   "source": [
    "prob_occurrences_2 = stats.poisson.pmf(number_events,1)"
   ]
  },
  {
   "cell_type": "markdown",
   "id": "796a0f23-1905-487a-98ee-dbd0434deb22",
   "metadata": {},
   "source": [
    "二項分布で計算した確率分布とポワソン分布を仮定して計算した確率分布とに対して、プロットを重ね描きします。  \n",
    "すると、ほとんど重なっていることがわかります。"
   ]
  },
  {
   "cell_type": "code",
   "execution_count": 31,
   "id": "cd10faff-65e1-4468-802a-c5d4623bf9fe",
   "metadata": {},
   "outputs": [
    {
     "data": {
      "text/plain": [
       "[<matplotlib.lines.Line2D at 0x2d2edd14760>]"
      ]
     },
     "execution_count": 31,
     "metadata": {},
     "output_type": "execute_result"
    },
    {
     "data": {
      "image/png": "[encoded data removed]",
      "text/plain": [
       "<Figure size 432x288 with 1 Axes>"
      ]
     },
     "metadata": {
      "needs_background": "light"
     },
     "output_type": "display_data"
    }
   ],
   "source": [
    "plt.plot(number_events,prob_occurrences,'o',ms=1)\n",
    "plt.plot(number_events,prob_occurrences_2,'o',ms=1,color='r') #赤がポワソン分布"
   ]
  },
  {
   "cell_type": "markdown",
   "id": "97059587-8e94-4958-9dd1-e476fe61945d",
   "metadata": {},
   "source": [
    "このように、この場合は、ポワソン分布で２項分布を代用できることがわかります。  \n",
    "ある単位（時間とか、面積とか）の中の期待値が1ぐらいのとき、ポワソン分布は２項分布の代用として使えます。"
   ]
  },
  {
   "cell_type": "markdown",
   "id": "5ffc930b-7e33-4916-84c2-d9efd6dd13df",
   "metadata": {},
   "source": [
    "平均を計算します。"
   ]
  },
  {
   "cell_type": "code",
   "execution_count": 50,
   "id": "ed6e2c54-5784-4206-bdb6-651993e86b46",
   "metadata": {},
   "outputs": [
    {
     "name": "stdout",
     "output_type": "stream",
     "text": [
      "1.0\n"
     ]
    }
   ],
   "source": [
    "mu = sum(number_events * prob_occurrences_2)\n",
    "print(mu)"
   ]
  },
  {
   "cell_type": "markdown",
   "id": "08d3c2ec-1aa0-4932-98b5-fa37c534f932",
   "metadata": {},
   "source": [
    "分散を計算します。"
   ]
  },
  {
   "cell_type": "code",
   "execution_count": 51,
   "id": "d71e0735-6795-4c47-9129-40a226ba310b",
   "metadata": {},
   "outputs": [
    {
     "data": {
      "text/plain": [
       "1.0"
      ]
     },
     "execution_count": 51,
     "metadata": {},
     "output_type": "execute_result"
    }
   ],
   "source": [
    "sum((number_events - mu)**2 * prob_occurrences_2)"
   ]
  },
  {
   "cell_type": "markdown",
   "id": "e8d2c745-9750-4fee-a211-dd2057282461",
   "metadata": {},
   "source": [
    "### パラメータ$\\lambda$の値によるポワソン分布の形の違い"
   ]
  },
  {
   "cell_type": "markdown",
   "id": "83b925bb-4383-4857-bdd9-fc6adb43d748",
   "metadata": {},
   "source": [
    "さて、期待値が1のとき、ポワソン分布はこのような形になりましたが、期待値$\\lambda$が変わると、分布の形が変わります。  \n",
    "下のプログラムで、mu（$\\mu$）はポワソン分布の$\\lambda$と同じです。"
   ]
  },
  {
   "cell_type": "code",
   "execution_count": 131,
   "id": "42445949-3396-46c7-9b8b-77ee6fe442c1",
   "metadata": {},
   "outputs": [
    {
     "data": {
      "text/plain": [
       "<matplotlib.legend.Legend at 0x1af4f376040>"
      ]
     },
     "execution_count": 131,
     "metadata": {},
     "output_type": "execute_result"
    },
    {
     "data": {
      "image/png": "[encoded data removed]",
      "text/plain": [
       "<Figure size 432x288 with 1 Axes>"
      ]
     },
     "metadata": {
      "needs_background": "light"
     },
     "output_type": "display_data"
    }
   ],
   "source": [
    "number_events_2 = np.arange(0,26,1)\n",
    "plt.plot(number_events_2,stats.poisson.pmf(number_events_2,1),'-o',ms=4, label='mu=1',color='b')\n",
    "plt.plot(number_events_2,stats.poisson.pmf(number_events_2,2),'-o',ms=4, label='mu=2',color='r')\n",
    "plt.plot(number_events_2,stats.poisson.pmf(number_events_2,3),'-o',ms=4, label='mu=3',color='y')\n",
    "plt.plot(number_events_2,stats.poisson.pmf(number_events_2,4),'-o',ms=4, label='mu=4',color='c')\n",
    "plt.plot(number_events_2,stats.poisson.pmf(number_events_2,5),'-o',ms=4, label='mu=5',color='m')\n",
    "plt.plot(number_events_2,stats.poisson.pmf(number_events_2,6),'-o',ms=4, label='mu=6',color='k')\n",
    "plt.plot(number_events_2,stats.poisson.pmf(number_events_2,7),'-o',ms=4, label='mu=7',color='g')\n",
    "\n",
    "plt.legend()"
   ]
  },
  {
   "cell_type": "markdown",
   "id": "217bd8f6-109c-4118-8d02-f17db8bebde7",
   "metadata": {},
   "source": [
    "このように、単位時間・面積等における期待値が大きくなればなるほど、ポワソン分布は左右対称に近づきます。次に説明するように、正規分布に近づきます。"
   ]
  },
  {
   "cell_type": "markdown",
   "id": "678b1dc4-caec-473f-a403-53b9b1ccac57",
   "metadata": {},
   "source": [
    "### ポワソン分布の使い方"
   ]
  },
  {
   "cell_type": "markdown",
   "id": "656422f2-bfc5-490a-a7f8-b6e5d29a765e",
   "metadata": {},
   "source": [
    "#### 練習問題１"
   ]
  },
  {
   "cell_type": "markdown",
   "id": "417e6210-8d20-4530-beea-e194425d95f0",
   "metadata": {},
   "source": [
    "ある商品の需要が週平均３個のポワソン分布に従うものとする。  \n",
    "(a) 週間需要0の確率はどれほどか。  \n",
    "(b) 品切れの確率を5%に抑えるためには週初めの在庫をいくらにしておけばよいか。確率を1%に抑えるためにはどうするか。"
   ]
  },
  {
   "cell_type": "markdown",
   "id": "ccdfd66a-58f8-4774-b150-f5ffecf11b61",
   "metadata": {},
   "source": [
    "解答：  \n",
    "(a) $P(0) = e^{-3} 3^0/0! = 0.050$ （計算は下欄ですがPythonを使うまでもなくGoogleでexp(-3)と検索すれば、できますね）"
   ]
  },
  {
   "cell_type": "code",
   "execution_count": 55,
   "id": "d1472cef-c810-46e0-a0f2-a1b3eea55c5b",
   "metadata": {},
   "outputs": [
    {
     "data": {
      "text/plain": [
       "0.049787068367863944"
      ]
     },
     "execution_count": 55,
     "metadata": {},
     "output_type": "execute_result"
    }
   ],
   "source": [
    "import numpy as np\n",
    "np.exp(-3)"
   ]
  },
  {
   "cell_type": "markdown",
   "id": "26151816-0ae6-4115-bbf4-9d94735bec5b",
   "metadata": {},
   "source": [
    "あるいは、stats.poisson(mu=3).pmf([0])とします。"
   ]
  },
  {
   "cell_type": "code",
   "execution_count": 57,
   "id": "f62e7ce1-9121-4477-9601-91819f4c1c46",
   "metadata": {},
   "outputs": [
    {
     "data": {
      "text/plain": [
       "array([0.04978707])"
      ]
     },
     "execution_count": 57,
     "metadata": {},
     "output_type": "execute_result"
    }
   ],
   "source": [
    "from scipy import stats\n",
    "stats.poisson(mu=3).pmf([0])"
   ]
  },
  {
   "cell_type": "markdown",
   "id": "bde11623-43cb-41fd-a96f-ca08b130a934",
   "metadata": {},
   "source": [
    "(b) 品切れ確率を5%に抑えるには、累積分布関数$F(X \\geqq x) \\leqq 0.05$となるような$x$を求めます。累積分布関数は通常は$F(X \\leqq x)$の形で定義され、ポワソン分布の場合、scipy.stats.poisson(mu=$\\mu$).ppf(q=$q$)を使います(PPF: Percent Point Function)。  \n",
    "この場合、需要がある個数を超える確率が0.05ということは、需要がある個数までに収まる累積確率が0.95ということですので、$q=0.95$となります。また、平均値$\\mu = 3$です。"
   ]
  },
  {
   "cell_type": "code",
   "execution_count": 58,
   "id": "511ed585-4f04-4be2-89cb-3c606474b2c8",
   "metadata": {},
   "outputs": [
    {
     "data": {
      "text/plain": [
       "6.0"
      ]
     },
     "execution_count": 58,
     "metadata": {},
     "output_type": "execute_result"
    }
   ],
   "source": [
    "stats.poisson(mu=3).ppf(q=0.95)"
   ]
  },
  {
   "cell_type": "markdown",
   "id": "5ffc603c-eee8-439e-a53a-baabde49f942",
   "metadata": {},
   "source": [
    "品切れ確率を0.01に抑えるための在庫の計算には、同様にして、$F(X \\leqq x) = 0.99$となるような$x$を求めます。"
   ]
  },
  {
   "cell_type": "code",
   "execution_count": 59,
   "id": "b10d1759-1129-4eee-bb9b-1faee000c416",
   "metadata": {},
   "outputs": [
    {
     "data": {
      "text/plain": [
       "8.0"
      ]
     },
     "execution_count": 59,
     "metadata": {},
     "output_type": "execute_result"
    }
   ],
   "source": [
    "stats.poisson(mu=3).ppf(q=0.99)"
   ]
  },
  {
   "cell_type": "markdown",
   "id": "38c857ca-645e-4656-aa23-d820347e5e33",
   "metadata": {},
   "source": [
    "#### 練習問題２"
   ]
  },
  {
   "cell_type": "markdown",
   "id": "e0f46f30-3a7a-48fe-9ce5-2c026ae1d80c",
   "metadata": {},
   "source": [
    "ミサイルの部品の故障の確率はいずれも0.001で、ミサイルは500の部品でできているものとする。  \n",
    "(a) ミサイルを打ち上げて作動しない確率はどれほどか。  \n",
    "(b) 無事に作動する確率を0.90とするためには部品の信頼度をどの程度まで上げねばならないか。"
   ]
  },
  {
   "cell_type": "markdown",
   "id": "0d69d2cb-4134-4215-9c95-b132f6d06889",
   "metadata": {},
   "source": [
    "解答のヒント：  \n",
    "(a) 故障部品数の期待値$np = 500 x 0.001 = 0.5$です。ポワソン分布を使って$F(X \\gt 0)$を求めましょう。  \n",
    "(b)故障部品数が0の確率$P(X=0)$を0.90以上にします。ポワソン分布の確率関数は  \n",
    "scipy.stats.poisson(mu=$\\mu$).pmf([$x_1, x_2, ...,x_n$])  \n",
    "ですが、ある確率変数に対する確率を与えられたときパラメータ$\\lambda = \\mu$を求めるための関数はないので、ポワソン分布の定義に従って計算します。  \n",
    "$P(X=x) = e^{-\\lambda}\\lambda^x/x!$ですから$P(X=0) = e^{-\\lambda}\\lambda^0/0! = e^{-\\lambda}$  \n",
    "です。"
   ]
  },
  {
   "cell_type": "markdown",
   "id": "a3481c65-8b3c-4a67-a049-a931b89249f4",
   "metadata": {},
   "source": [
    "解答：  \n",
    "(a) $F(X \\gt 0) = 1 - F(X \\leqq 0) =  1 - P(X = 0) = 1 - e^{-0.5} = 1 - 0.607 = 0.393$　または、"
   ]
  },
  {
   "cell_type": "code",
   "execution_count": 69,
   "id": "c8f397b0-2a07-4fa0-a0f5-518392fd93a2",
   "metadata": {},
   "outputs": [
    {
     "data": {
      "text/plain": [
       "0.3934693402873666"
      ]
     },
     "execution_count": 69,
     "metadata": {},
     "output_type": "execute_result"
    }
   ],
   "source": [
    "1 - stats.poisson(mu=0.5).cdf(0)"
   ]
  },
  {
   "cell_type": "markdown",
   "id": "11589518-57bb-4550-b34e-0c6ac1e91ccd",
   "metadata": {},
   "source": [
    "このミサイルはポンコツですね。そこで問(b)があります。"
   ]
  },
  {
   "cell_type": "markdown",
   "id": "76b6c235-b03c-484b-8c99-c0463b6d4b59",
   "metadata": {},
   "source": [
    "(b) $e^{-\\lambda} \\geqq 0.90$より、$\\lambda \\leqq ln(0.90) = -ln(0.90)$です  \n",
    "各部品の故障確率を$p$とすると$\\lambda = 500p$ですから、$p \\leqq -ln(0.90)/500 = 0.00021$  \n",
    "となるので、各部品の故障率は今の1/5のおよそ0.0002まで下げねばなりません。"
   ]
  },
  {
   "cell_type": "markdown",
   "id": "a5e9d99f-fcb2-450f-b52c-0df4679abdef",
   "metadata": {},
   "source": [
    "## 正規分布"
   ]
  },
  {
   "cell_type": "markdown",
   "id": "7615d78d-3999-46f9-9d75-00bdd825bb30",
   "metadata": {},
   "source": [
    "ある期間に１回起こるぐらいのできごとについては、二項分布はポワソン分布で代用できることがわかりました。それでは、もっと回数が多くなると、どうでしょうか？  \n",
    "p=0.25で100回試行したときの確率分布を、二項分布とポワソン分布($\\mu$ =25（期待値が25）)とで重ね描きしてみます。"
   ]
  },
  {
   "cell_type": "code",
   "execution_count": 83,
   "id": "f402ff59-d98d-425d-a126-9ac761c2487d",
   "metadata": {},
   "outputs": [],
   "source": [
    "import numpy as np\n",
    "from scipy import stats\n",
    "%matplotlib inline\n",
    "import matplotlib.pyplot as plt"
   ]
  },
  {
   "cell_type": "code",
   "execution_count": 84,
   "id": "94da6947-2570-4cd5-83b6-9678a838f2f0",
   "metadata": {},
   "outputs": [],
   "source": [
    "number_events = np.arange(0,101,1) # 確率変数 X: x = 0, 1, 2, ..., 100\n",
    "prob_occurrences_3 = stats.binom(n=100,p=0.25).pmf(number_events) # 二項分布\n",
    "prob_occurrences_4 = stats.poisson.pmf(number_events,25) # ポワソン分布"
   ]
  },
  {
   "cell_type": "code",
   "execution_count": 3,
   "id": "74a61592-4545-488f-a71a-d8d651f87007",
   "metadata": {},
   "outputs": [
    {
     "data": {
      "text/plain": [
       "<matplotlib.legend.Legend at 0x1af4a804640>"
      ]
     },
     "execution_count": 3,
     "metadata": {},
     "output_type": "execute_result"
    },
    {
     "data": {
      "image/png": "[encoded data removed]",
      "text/plain": [
       "<Figure size 432x288 with 1 Axes>"
      ]
     },
     "metadata": {
      "needs_background": "light"
     },
     "output_type": "display_data"
    }
   ],
   "source": [
    "plt.plot(number_events,prob_occurrences_3,'o',ms=1, label='binominal')\n",
    "plt.plot(number_events,prob_occurrences_4,'o',ms=1,color='r', label ='poisson') #赤がポワソン分布\n",
    "plt.legend()"
   ]
  },
  {
   "cell_type": "markdown",
   "id": "bdd92908-3199-4590-8fe6-f1b57c06dbf0",
   "metadata": {},
   "source": [
    "このように、二項分布とポワソン分布との分布の違いが顕著になります。  "
   ]
  },
  {
   "cell_type": "markdown",
   "id": "7a3a2537-eecb-4094-9245-21ec3a26d8d8",
   "metadata": {},
   "source": [
    "このような場合、正規分布を使います。"
   ]
  },
  {
   "cell_type": "markdown",
   "id": "8f80015f-d5f9-4453-ab8c-e54e8d3d59d3",
   "metadata": {},
   "source": [
    "### 正規分布の確率密度関数"
   ]
  },
  {
   "cell_type": "markdown",
   "id": "52cc6aab-9468-4e44-9d26-088d8453220a",
   "metadata": {},
   "source": [
    "確率変数の配列$x$に対する正規分布の確率密度関数$f(x)$は、scipy.stats.norm.pdf(x,loc=$\\mu$,scale=$\\sigma$)で得られます。ただし、$\\mu$は平均、$\\sigma^2$は分散（つまり$\\sigma$は標準偏差）です。"
   ]
  },
  {
   "cell_type": "markdown",
   "id": "1791c811-70b6-4d10-ab2f-7ee0494ce93b",
   "metadata": {},
   "source": [
    "この場合、$x = [0,1,2,...,100]$つまり0から100までの整数の配列です（下のnumber_events）また、平均$\\mu$=100xp = 100x0.25 = 25です。標準偏差$\\sigma$は、二項分布の分散すなわち$100*0.25*(1-0.25)$の平方根です。従って、確率分布は次のようになります。"
   ]
  },
  {
   "cell_type": "code",
   "execution_count": 85,
   "id": "54f5e3f2-bd11-4089-9d13-b17cd00a5a38",
   "metadata": {},
   "outputs": [],
   "source": [
    "prob_occurrences_5 = stats.norm.pdf(number_events,loc=25,scale=np.sqrt(100*0.25*0.75))"
   ]
  },
  {
   "cell_type": "markdown",
   "id": "141a17d8-a102-4963-89c6-bc00670a5835",
   "metadata": {},
   "source": [
    "この確率分布の、平均値周辺の値を見てみましょう。平均値25に対する確率密度関数の値は、配列の添字25に入っています。"
   ]
  },
  {
   "cell_type": "code",
   "execution_count": 20,
   "id": "cdc82876-64f2-408c-b010-a958c83f7663",
   "metadata": {},
   "outputs": [
    {
     "data": {
      "text/plain": [
       "array([0.08281036, 0.08970739, 0.09213177, 0.08970739, 0.08281036])"
      ]
     },
     "execution_count": 20,
     "metadata": {},
     "output_type": "execute_result"
    }
   ],
   "source": [
    "prob_occurrences_5[23:28]"
   ]
  },
  {
   "cell_type": "markdown",
   "id": "cab109a3-b67e-49fc-a910-1b46291bd30f",
   "metadata": {},
   "source": [
    "同じ範囲の確率変数に対する二項分布の確率とくらべてみます。"
   ]
  },
  {
   "cell_type": "code",
   "execution_count": 21,
   "id": "382e76db-4186-4dab-8351-ddd4d51c574c",
   "metadata": {},
   "outputs": [
    {
     "data": {
      "text/plain": [
       "array([0.08470922, 0.0905918 , 0.09179969, 0.08826893, 0.08064075])"
      ]
     },
     "execution_count": 21,
     "metadata": {},
     "output_type": "execute_result"
    }
   ],
   "source": [
    "prob_occurrences_3[23:28]"
   ]
  },
  {
   "cell_type": "code",
   "execution_count": 22,
   "id": "5e08b1f4-3cf3-455c-a056-bef88d590086",
   "metadata": {},
   "outputs": [
    {
     "data": {
      "text/plain": [
       "<matplotlib.legend.Legend at 0x1af4bd0ffa0>"
      ]
     },
     "execution_count": 22,
     "metadata": {},
     "output_type": "execute_result"
    },
    {
     "data": {
      "image/png": "[encoded data removed]",
      "text/plain": [
       "<Figure size 432x288 with 1 Axes>"
      ]
     },
     "metadata": {
      "needs_background": "light"
     },
     "output_type": "display_data"
    }
   ],
   "source": [
    "plt.plot(number_events,prob_occurrences_3,'o',ms=1, label='binominal')\n",
    "plt.plot(number_events,prob_occurrences_5,'o',ms=1,color='r', label ='normal') #赤が正規分布\n",
    "plt.legend()"
   ]
  },
  {
   "cell_type": "markdown",
   "id": "2c17366e-a094-4f09-ab86-e4d4a8a9fd43",
   "metadata": {},
   "source": [
    "このように、ほとんど一致しました。"
   ]
  },
  {
   "cell_type": "markdown",
   "id": "f3a8206a-b5e9-4286-8b4a-b2fd21d18573",
   "metadata": {},
   "source": [
    "なお、数学的には、$$f(x) = \\frac{1}{\\sqrt{2\\pi\\sigma^2}}e^{-\\frac{(x - \\sigma)^2}{2\\sigma^2}}$$となります。"
   ]
  },
  {
   "cell_type": "markdown",
   "id": "8d6600ac-a48f-4f5f-a079-3c7380ffcaa6",
   "metadata": {},
   "source": [
    "### 正規分布を合併したものの性質"
   ]
  },
  {
   "cell_type": "markdown",
   "id": "c8f4d438-7bba-43dd-933d-53304d5a5208",
   "metadata": {},
   "source": [
    "正規分布には次のような性質があります。\n",
    "- 確率変数が、平均$\\mu$, 分散$\\sigma^2$の正規分布$N(\\mu, \\sigma^2)$に従うとき、Xの１次関数$aX + b$も正規分布に従い、その平均は$E(aX + b) = a\\mu + b$、分散は$V(aX + b) = a^2\\sigma^2$となります。すなわち、$aX + b$は正規分布$N(a\\mu + b, a^2\\sigma^2)$に従います。\n",
    "- 上の特殊な場合として、$Z = \\frac{X - \\mu}{\\sigma}$と変換すると、$Z$は平均0, 分散1の正規分布$N(0,1)$（標準正規分布）に従います。このとき、$$f(x)=\\frac{1}{\\sqrt{2\\pi}}e^{-\\frac{x^2}{2}}$$となります。\n",
    "- 確率変数$X$と$Y$とが独立に正規分布$N(\\mu_1, \\sigma_1^2)$, $N(\\mu_2, \\sigma_2^2)$に従うとき、$X + Y$も正規分布に従い、その分布は$N(\\mu_1 + \\mu_2, \\sigma_1^2 + \\sigma_2^2)$になります。"
   ]
  },
  {
   "cell_type": "markdown",
   "id": "9ca7ec0e-ce35-4460-aa40-790b70e86528",
   "metadata": {},
   "source": [
    "#### 実験1 正規分布の合併"
   ]
  },
  {
   "cell_type": "markdown",
   "id": "bb2c1731-5ceb-4b8b-8c0c-5b0391278d72",
   "metadata": {},
   "source": [
    "このように、正規分布の性質から、正規分布を合併したものもまた正規分布になります。シミュレーションで確かめてみましょう。"
   ]
  },
  {
   "cell_type": "markdown",
   "id": "c80574f2-8cfc-486c-80a5-82f7001ff880",
   "metadata": {},
   "source": [
    "- 集団A: 平均75, 分散25（標準偏差5）の正規分布を示す1000個の数  \n",
    "- 集団B: 平均30, 分散16（標準偏差4）の正規分布を示す1000個の数  \n",
    "を次のようにして生成します。"
   ]
  },
  {
   "cell_type": "code",
   "execution_count": 73,
   "id": "a50987e7-970f-4c94-a626-151777629131",
   "metadata": {},
   "outputs": [],
   "source": [
    "generator = np.random.default_rng(12345)\n",
    "pop_A = generator.normal(loc=75, scale=5, size=1000)\n",
    "pop_B = generator.normal(loc=30, scale=4, size=1000)"
   ]
  },
  {
   "cell_type": "markdown",
   "id": "b4ad8bd8-c439-4de7-af08-a08ff6d7cd0f",
   "metadata": {},
   "source": [
    "生成されたそれぞれの集合の平均と分散を調べましょう。"
   ]
  },
  {
   "cell_type": "code",
   "execution_count": 74,
   "id": "5e481b14-9b78-45d3-82d4-42edd70f008b",
   "metadata": {},
   "outputs": [
    {
     "name": "stdout",
     "output_type": "stream",
     "text": [
      "75.04129196042138\n",
      "25.767588547481136\n",
      "30.145524791021423\n",
      "16.226486888762388\n"
     ]
    }
   ],
   "source": [
    "print(np.mean(pop_A))\n",
    "print(np.var(pop_A))\n",
    "print(np.mean(pop_B))\n",
    "print(np.var(pop_B))"
   ]
  },
  {
   "cell_type": "markdown",
   "id": "bf873f96-7a41-4149-a60d-fdcf847a9fa3",
   "metadata": {},
   "source": [
    "集団Aのヒストグラムは次のようになります。なお、階級の端の値を決めるために最大値と最小値を調べました。"
   ]
  },
  {
   "cell_type": "code",
   "execution_count": 76,
   "id": "dbda4ada-5b6f-40b0-b57b-788b3f3d377e",
   "metadata": {},
   "outputs": [
    {
     "data": {
      "text/plain": [
       "(array([  0.,   2.,  10.,  15.,  35.,  54.,  98., 119., 163., 152., 136.,\n",
       "         93.,  66.,  35.,  14.,   5.,   1.,   2.,   0.]),\n",
       " array([57, 59, 61, 63, 65, 67, 69, 71, 73, 75, 77, 79, 81, 83, 85, 87, 89,\n",
       "        91, 93, 95]),\n",
       " <BarContainer object of 19 artists>)"
      ]
     },
     "execution_count": 76,
     "metadata": {},
     "output_type": "execute_result"
    },
    {
     "data": {
      "image/png": "[encoded data removed]",
      "text/plain": [
       "<Figure size 432x288 with 1 Axes>"
      ]
     },
     "metadata": {
      "needs_background": "light"
     },
     "output_type": "display_data"
    }
   ],
   "source": [
    "intervals_a = np.arange(57,97,2) # ヒストグラムの階級の左端の値の配列。中心が58, 60, 62, ...94になるように。\n",
    "plt.hist(pop_A,bins=intervals_a) # 集団Aの確率変数のヒストグラムを描く。"
   ]
  },
  {
   "cell_type": "markdown",
   "id": "88639498-97aa-4230-88bf-c8ffa3a9b2ff",
   "metadata": {},
   "source": [
    "集団Bのヒストグラムは次のようになります。"
   ]
  },
  {
   "cell_type": "code",
   "execution_count": 77,
   "id": "94a4c15d-d353-4831-aa22-328310d04c66",
   "metadata": {},
   "outputs": [
    {
     "data": {
      "text/plain": [
       "(array([  0.,   1.,  17.,  22.,  62.,  99., 179., 212., 173., 126.,  63.,\n",
       "         32.,   7.,   5.,   2.]),\n",
       " array([15, 17, 19, 21, 23, 25, 27, 29, 31, 33, 35, 37, 39, 41, 43, 45]),\n",
       " <BarContainer object of 15 artists>)"
      ]
     },
     "execution_count": 77,
     "metadata": {},
     "output_type": "execute_result"
    },
    {
     "data": {
      "image/png": "[encoded data removed]",
      "text/plain": [
       "<Figure size 432x288 with 1 Axes>"
      ]
     },
     "metadata": {
      "needs_background": "light"
     },
     "output_type": "display_data"
    }
   ],
   "source": [
    "intervals_b = np.arange(15,47,2) # ヒストグラムの階級の左端の値の配列。中心が16, 18, 20, ...46になるように。\n",
    "plt.hist(pop_B,bins=intervals_b) # 集団Aの確率変数のヒストグラムを描く。"
   ]
  },
  {
   "cell_type": "markdown",
   "id": "c5b50a06-d04a-48f9-b02b-c4a3e52020d8",
   "metadata": {},
   "source": [
    "このとき、集団C：集団Aと集団Bの値を足したもの　とします。  \n",
    "「値を足す」とは、対応する要素の値を足すことで、例えば、タプル(1,2,3)と(4,5,6)からは(5,7,9)ができます。"
   ]
  },
  {
   "cell_type": "code",
   "execution_count": 78,
   "id": "897de0d4-88e1-4440-b3bb-d123e1d9514b",
   "metadata": {},
   "outputs": [],
   "source": [
    "pop_C = pop_A + pop_B"
   ]
  },
  {
   "cell_type": "code",
   "execution_count": 79,
   "id": "4bee56ba-c1d3-4852-bc46-1397480ddc9d",
   "metadata": {},
   "outputs": [
    {
     "name": "stdout",
     "output_type": "stream",
     "text": [
      "105.18681675144282\n",
      "42.94173938544988\n",
      "105.18681675144279\n",
      "41.99407543624352\n"
     ]
    }
   ],
   "source": [
    "print(np.mean(pop_C))\n",
    "print(np.var(pop_C))\n",
    "print(np.mean(pop_A)+np.mean(pop_B))\n",
    "print(np.var(pop_A)+np.var(pop_B))"
   ]
  },
  {
   "cell_type": "markdown",
   "id": "448f9dae-4fec-4f8a-9788-7cff91ae9ea6",
   "metadata": {},
   "source": [
    "となり、集団Cの平均ならびに分散が、それぞれ、集団AとBとの平均の和、ならびに、分散の和にほぼ等しいことがわかります。"
   ]
  },
  {
   "cell_type": "markdown",
   "id": "1e0c02d4-cd67-434c-8f2e-50ed95b11c7d",
   "metadata": {},
   "source": [
    "そこで、集団Cの、理論上の平均（105）と分散（41）に等しいような、正規分布$N(105,41)$を作り、重ねてみましょう。"
   ]
  },
  {
   "cell_type": "code",
   "execution_count": 99,
   "id": "80837baa-084d-40c3-b006-2a60c9e73c55",
   "metadata": {},
   "outputs": [
    {
     "data": {
      "text/plain": [
       "<matplotlib.legend.Legend at 0x2305d61b790>"
      ]
     },
     "execution_count": 99,
     "metadata": {},
     "output_type": "execute_result"
    },
    {
     "data": {
      "image/png": "[encoded data removed]",
      "text/plain": [
       "<Figure size 432x288 with 2 Axes>"
      ]
     },
     "metadata": {
      "needs_background": "light"
     },
     "output_type": "display_data"
    }
   ],
   "source": [
    "# figureインスタンスを作る\n",
    "fig = plt.figure()\n",
    "# Y軸を2つ作る。\n",
    "ax1 = fig.subplots() # 1つめのY軸（左側）\n",
    "ax2 = ax1.twinx() # 2つめのY軸　（右側）\n",
    "\n",
    "x_val = np.arange(80,131,0.1) # 正規分布の確率分布をプロットするための、確率変数の配列\n",
    "intervals = np.arange(79,133,2) # ヒストグラムの階級の左端の値の配列。中心が80, 82, 84, ...130になるように。\n",
    "\n",
    "ax1.hist(pop_C,bins=intervals) # 集団Ｃの確率変数のヒストグラムを描く。Y軸は左側。\n",
    "# 次に正規分布の確率分布をプロットする。Y軸は右側\n",
    "#集団Cの平均と標準偏差から仮定される正規分布\n",
    "prob_occurrences_7 = stats.norm.pdf(x_val,loc=105,scale=np.sqrt(41))\n",
    "ax2.plot(x_val,prob_occurrences_7,'o',ms=1,color='b', label='Probability')\n",
    "# 次に、正規分布の確率分布に従ったとき、ヒストグラムの各階級の中心の値に対して頻度を予測する。\n",
    "points_1 = np.arange(80,132,2) # 予測対象のX軸の値の配列\n",
    "ax1.set_ylabel(\"Data points\", fontsize=10) # 左側のY軸のラベル\n",
    "ax2.set_ylabel(\"Probability\", fontsize=10) # 右側のY軸のラベル\n",
    "\n",
    "# 両方のY軸の凡例を重ならないように描くための方法\n",
    "h1, l1 = ax2.get_legend_handles_labels()\n",
    "h2, l2 = ax1.get_legend_handles_labels()\n",
    "ax1.legend(h1 + h2, l1 + l2)"
   ]
  },
  {
   "cell_type": "markdown",
   "id": "c37e2e4b-d03e-4d62-a890-9b2263de7a06",
   "metadata": {},
   "source": [
    "### 正規分布の使い方"
   ]
  },
  {
   "cell_type": "markdown",
   "id": "71b50c6f-26ef-4eb8-9f96-c90629b3eae4",
   "metadata": {},
   "source": [
    "正規分布は連続関数つまり「確率密度関数」です。ですから、確率変数が区間[a, b]をとる確率がどれだけか、という使い方をします。また、標準正規分布になおして使うことも多いです。"
   ]
  },
  {
   "cell_type": "markdown",
   "id": "7bfe9355-aaee-428e-bd8c-2bb1ae91ef80",
   "metadata": {},
   "source": [
    "#### 練習問題３ 偏差値と割合"
   ]
  },
  {
   "cell_type": "markdown",
   "id": "8181f941-90b7-4bf3-9d50-a1635b6b92ee",
   "metadata": {},
   "source": [
    "偏差値  $\\equiv 10 \\times \\frac{X - \\mu}{\\sigma} + 50 = 10Z + 50$です。得点が正規分布だとして、偏差値60以上の人の割合はどれだけですか？"
   ]
  },
  {
   "cell_type": "markdown",
   "id": "f4ebd700-986f-4b47-a6ff-34ce133755f4",
   "metadata": {},
   "source": [
    "ヒント：  \n",
    "- $Z \\geqq 1$です。\n",
    "- $Z$が1以下の人の割合は、標準正規分布$N(0,1)$に対して累積分布関数$F(X \\leqq 1)$を求めます。\n",
    "- 標準正規分布$N(0,1)$の$F(X \\leqq 1)$は、scipy.stats.norm(loc=0,scale=1).cdf(1)で求められます。\n",
    "- $F(X \\geqq 1)$は、1から上の値を引くか、scipy.stats.norm(loc=0,scale=1).sf(1)で求められます。"
   ]
  },
  {
   "cell_type": "markdown",
   "id": "e3f5d38e-fc44-4f15-85b2-e842754fec95",
   "metadata": {},
   "source": [
    "解答："
   ]
  },
  {
   "cell_type": "code",
   "execution_count": 102,
   "id": "5c91b19f-b412-4f8c-9cb7-c655f034d644",
   "metadata": {},
   "outputs": [
    {
     "data": {
      "text/plain": [
       "0.15865525393145707"
      ]
     },
     "execution_count": 102,
     "metadata": {},
     "output_type": "execute_result"
    }
   ],
   "source": [
    "from scipy import stats\n",
    "stats.norm(loc=0,scale=1).sf(1)"
   ]
  },
  {
   "cell_type": "markdown",
   "id": "fd0ad2a9-4a17-4a71-97ee-ca2d31e23207",
   "metadata": {},
   "source": [
    "#### 練習問題４ 連続的な値で品質が表される場合の、不良品の確率"
   ]
  },
  {
   "cell_type": "markdown",
   "id": "308ad7e9-b747-4150-8efd-0b82a0938b70",
   "metadata": {},
   "source": [
    "ピーナツの缶に正味量1ポンドと表示されている。缶詰め作業は$\\mu=1.05$ポンド、$\\sigma = 0.02$ポンドで工程管理されている。中身が表示量に達しない確率を求めよ。缶の内容量$x$は正規分布に従うものとする。"
   ]
  },
  {
   "cell_type": "markdown",
   "id": "64a19928-2268-49b7-bf4b-2025ea3a07de",
   "metadata": {},
   "source": [
    "ヒント：中身が1ポンドのときの$Z = \\frac{1 - 1.05}{0.02} = -2.5$です。"
   ]
  },
  {
   "cell_type": "markdown",
   "id": "fea87795-88c9-4960-8254-eb87d4fab2a9",
   "metadata": {},
   "source": [
    "解答："
   ]
  },
  {
   "cell_type": "code",
   "execution_count": 103,
   "id": "05ddfb1f-2da8-4abf-9923-d2b50b07d9fe",
   "metadata": {},
   "outputs": [
    {
     "data": {
      "text/plain": [
       "0.006209665325776132"
      ]
     },
     "execution_count": 103,
     "metadata": {},
     "output_type": "execute_result"
    }
   ],
   "source": [
    "from scipy import stats\n",
    "stats.norm(loc=0,scale=1).cdf(-2.5)"
   ]
  },
  {
   "cell_type": "markdown",
   "id": "6c6f585b-04eb-482a-91ed-5737830ec45d",
   "metadata": {},
   "source": [
    "#### 練習問題５ 求められる品質管理の程度"
   ]
  },
  {
   "cell_type": "markdown",
   "id": "83f7d73d-0330-4679-84b4-d6188cb89291",
   "metadata": {},
   "source": [
    "ある製品の寿命が平均200時間だとして、この製品の90%以上が150時間以上の寿命を有するためには、寿命分布の標準偏差を最大どれだけに抑えることが必要か？"
   ]
  },
  {
   "cell_type": "markdown",
   "id": "3cb83bcf-7861-452b-ab3f-beccc5be7579",
   "metadata": {},
   "source": [
    "ヒント：  \n",
    "- 寿命が150時間に満たない製品の割合は、0.1です\n",
    "- まず、パーセント・ポイント関数 scipy.stats.norm.ppf()を使って、$Z$を求めます。\n",
    "- $Z = \\frac{X - \\mu}{\\sigma}$より、$\\sigma = \\frac{X - \\mu}{Z}$です。"
   ]
  },
  {
   "cell_type": "markdown",
   "id": "1776330a-50ea-4fc1-8305-9afe14be2300",
   "metadata": {},
   "source": [
    "解答："
   ]
  },
  {
   "cell_type": "code",
   "execution_count": 109,
   "id": "0601def1-4e95-4b78-8f19-562fdc41fa24",
   "metadata": {},
   "outputs": [
    {
     "name": "stdout",
     "output_type": "stream",
     "text": [
      "-1.2815515655446004\n",
      "39.0 時間\n"
     ]
    }
   ],
   "source": [
    "z_min = stats.norm(loc=0,scale=1).ppf(0.1)\n",
    "print(z_min)\n",
    "sigma_min = (150 - 200)/z_min\n",
    "print(round(sigma_min,1),\"時間\")"
   ]
  },
  {
   "cell_type": "markdown",
   "id": "4a7a3124-7a74-4baf-9297-12eb93ec2144",
   "metadata": {},
   "source": [
    "## 指数分布"
   ]
  },
  {
   "cell_type": "markdown",
   "id": "11d9f6ce-487b-4fc0-bde3-476ba21c6198",
   "metadata": {},
   "source": [
    "### 指数分布の定義"
   ]
  },
  {
   "cell_type": "markdown",
   "id": "fe186a89-42c9-46f5-a7ef-eaab5a7204a2",
   "metadata": {},
   "source": [
    "ポワソン分布に従うような事象が起こる間隔は、「指数分布」に従います。  \n",
    "すなわち、ポワソン分布の定数$\\lambda$（すなわち、単位時間や単位面積等における平均$\\mu$に相当）に対して、その確率密度関数は  \n",
    "$$\n",
    "    % コメントは\"%\"で始める\n",
    "    % 空白は表示に影響しないので、連続する記号と記号とは空白で区別する\n",
    "    % （空白を入れたければ\"\\quad\"を使う\n",
    "    % 下付き文字は\"_a\"、上付き文字は\"^a\"\n",
    "    % 改行は\"\\\\\"を付ける\n",
    "    f_{(x)} = \\lambda e^{-\\lambda x}\\\\\n",
    "    % 複数文字を1要素とする際は{...}で囲う\n",
    "$$\n",
    "となります。"
   ]
  },
  {
   "cell_type": "markdown",
   "id": "ad427896-0fbd-4949-9ada-b9f876f023e5",
   "metadata": {},
   "source": [
    "### 指数分布の期待値と分散"
   ]
  },
  {
   "cell_type": "markdown",
   "id": "7590086b-c3d4-45bf-adf0-9e94f45595f4",
   "metadata": {},
   "source": [
    "ポワソン分布では、期待値も分散も$\\lambda$になりますが、指数分布では、期待値も標準偏差も$\\frac{1}{\\lambda}$となります。"
   ]
  },
  {
   "cell_type": "markdown",
   "id": "d60c9cfb-ec9a-4205-a28c-85b55fbe1525",
   "metadata": {},
   "source": [
    "### 例：scipy.statsでの指数分布の扱い"
   ]
  },
  {
   "cell_type": "markdown",
   "id": "4a9fc823-0d23-438d-9b1a-83a3ecfe729b",
   "metadata": {},
   "source": [
    "さきほどの100年に１回の事象がおこる間隔の確率分布は、対応するポワソン分布が、1単位（100年間）に平均1, 分散1（つまり標準偏差1）ですので、stats.expon.pdf()関数を用いて、次のように得られます。横軸の単位は、100年になります。"
   ]
  },
  {
   "cell_type": "code",
   "execution_count": 110,
   "id": "7bac6ba2-4f35-4d21-a743-5ccb3f394f79",
   "metadata": {},
   "outputs": [],
   "source": [
    "import numpy as np\n",
    "from scipy import stats\n",
    "intervals_2 = np.arange(0,11,0.1)\n",
    "prob_occurrences_6 = stats.expon.pdf(intervals_2,scale=1)"
   ]
  },
  {
   "cell_type": "code",
   "execution_count": 111,
   "id": "564fa4f2-9564-44d8-869b-5c8cd453586a",
   "metadata": {},
   "outputs": [
    {
     "data": {
      "text/plain": [
       "[<matplotlib.lines.Line2D at 0x2305eb019d0>]"
      ]
     },
     "execution_count": 111,
     "metadata": {},
     "output_type": "execute_result"
    },
    {
     "data": {
      "image/png": "[encoded data removed]",
      "text/plain": [
       "<Figure size 432x288 with 1 Axes>"
      ]
     },
     "metadata": {
      "needs_background": "light"
     },
     "output_type": "display_data"
    }
   ],
   "source": [
    "plt.plot(intervals_2,prob_occurrences_6,'o',ms=3)"
   ]
  },
  {
   "cell_type": "markdown",
   "id": "95f880ef-b95b-49ee-bb3d-5efdd370eb9e",
   "metadata": {},
   "source": [
    "#### 注意：指数分布の確率密度関数の意味とその利用法"
   ]
  },
  {
   "cell_type": "markdown",
   "id": "5b11fa24-ba12-43e2-90b7-4ffe6ebcab89",
   "metadata": {},
   "source": [
    "指数分布の確率密度関数は、指数分布の定義より、事象が「ｘ単位経過後の時間までは起こらず、ｘ単位経過後で始めておこる」確率を示します。事象どうしは独立なので、今起こる確率と今の直後に起こる確率は同じです。そして、時間が経つほどその確率は小さくなります。  \n",
    "ですから、より実用的な、「今からｘ単位後までに起こる」確率の計算のためには、これを時間0からxまで積分して累積確率密度を求める必要があります。stats.expon.cdf()関数を用います。"
   ]
  },
  {
   "cell_type": "code",
   "execution_count": 24,
   "id": "c4f0cb04-7949-4901-9083-03d6155404eb",
   "metadata": {},
   "outputs": [
    {
     "data": {
      "text/plain": [
       "[<matplotlib.lines.Line2D at 0x1801109f220>]"
      ]
     },
     "execution_count": 24,
     "metadata": {},
     "output_type": "execute_result"
    },
    {
     "data": {
      "image/png": "[encoded data removed]",
      "text/plain": [
       "<Figure size 432x288 with 1 Axes>"
      ]
     },
     "metadata": {
      "needs_background": "light"
     },
     "output_type": "display_data"
    }
   ],
   "source": [
    "prob_occurrences_7 = stats.expon.cdf(intervals_2,scale=1) # 累積確率密度分布\n",
    "plt.plot(intervals_2,prob_occurrences_7,'o',ms=3)"
   ]
  },
  {
   "cell_type": "markdown",
   "id": "3a7024e2-0e1c-4bc3-935c-5ad46fa5b001",
   "metadata": {},
   "source": [
    "ちょうど1単位(100年)のところで確率が0.5になっているのがわかります。つまり、ここまではまだ起こらない確率のほうが高く、これ以降は、すでに起こっている確率のほうが高くなります。"
   ]
  },
  {
   "cell_type": "markdown",
   "id": "361def68-deb7-491c-8a2e-2d639f20e282",
   "metadata": {},
   "source": [
    "### 指数分布を使う"
   ]
  },
  {
   "cell_type": "markdown",
   "id": "756946cc-01e4-401d-b41c-4b02bedefd6e",
   "metadata": {},
   "source": [
    "#### 練習問題6 イベントの間隔"
   ]
  },
  {
   "cell_type": "markdown",
   "id": "4b62d9dc-f1dc-4b77-a69b-329ce7cae89e",
   "metadata": {},
   "source": [
    "あるコールセンターに電話が１時間平均240回の割合でかかっている。次の電話が20秒以内にかかる確率はどれほどか。"
   ]
  },
  {
   "cell_type": "markdown",
   "id": "9aa5560f-ed10-4b14-9f1f-a5678a433e43",
   "metadata": {},
   "source": [
    "ヒント：\n",
    "- 電話の平均到着間隔は、60x60/240 = 15[秒]です。\n",
    "- 平均15の指数分布に対して、$F(X \\leqq 20)$は、stats.expon(scale=15).cdf(20)で求めます。"
   ]
  },
  {
   "cell_type": "code",
   "execution_count": 113,
   "id": "aadd2007-7647-40ee-84db-a396c896a650",
   "metadata": {},
   "outputs": [
    {
     "data": {
      "text/plain": [
       "0.7364028618842733"
      ]
     },
     "execution_count": 113,
     "metadata": {},
     "output_type": "execute_result"
    }
   ],
   "source": [
    "from scipy import stats\n",
    "stats.expon(scale=15).cdf(20)"
   ]
  },
  {
   "cell_type": "markdown",
   "id": "9a0e29da-8612-42f5-aff0-21c463f57c5c",
   "metadata": {},
   "source": [
    "#### 練習問題７　ポワソン分布のパラメータを与えられた場合"
   ]
  },
  {
   "cell_type": "markdown",
   "id": "787ef50d-f201-40fc-b950-ced9ce4271da",
   "metadata": {},
   "source": [
    "ある売り場への客の到着数が１分間に平均４人のポワソン分布に従うものとする。  \n",
    "(a) 到着間隔が2分を超える確率を求めよ  \n",
    "(b) 到着間隔が30秒以下の確率を求めよ"
   ]
  },
  {
   "cell_type": "markdown",
   "id": "619d40f3-4384-42af-a1c0-bfcf68c7973e",
   "metadata": {},
   "source": [
    "ヒント：  \n",
    "- ポワソン分布のパラメータ$\\lambda$に対し、平均間隔は$\\frac{1}{\\lambda}$単位時間になります。\n",
    "- (a) では、scipy.stats.expon.sf()関数を用います。scaleパラメータは平均間隔です。\n",
    "- (b) では、scipy.stats.expon.cdf()関数を用います。"
   ]
  },
  {
   "cell_type": "markdown",
   "id": "fb2ee311-9de7-4382-9683-7adbb2ec6299",
   "metadata": {},
   "source": [
    "解答：(a)"
   ]
  },
  {
   "cell_type": "code",
   "execution_count": 115,
   "id": "99879839-ebca-4f66-878e-e431e488ff04",
   "metadata": {},
   "outputs": [
    {
     "data": {
      "text/plain": [
       "0.00033546262790251185"
      ]
     },
     "execution_count": 115,
     "metadata": {},
     "output_type": "execute_result"
    }
   ],
   "source": [
    "from scipy import stats\n",
    "stats.expon(scale=0.25).sf(2)"
   ]
  },
  {
   "cell_type": "markdown",
   "id": "ba03d6cc-5907-42ee-b183-ce405ac09764",
   "metadata": {},
   "source": [
    "解答：(b)"
   ]
  },
  {
   "cell_type": "code",
   "execution_count": 116,
   "id": "89f5071c-675e-49a2-8f2e-d4cd9f5320a6",
   "metadata": {},
   "outputs": [
    {
     "data": {
      "text/plain": [
       "0.8646647167633873"
      ]
     },
     "execution_count": 116,
     "metadata": {},
     "output_type": "execute_result"
    }
   ],
   "source": [
    "stats.expon(scale=0.25).cdf(0.5)"
   ]
  },
  {
   "cell_type": "code",
   "execution_count": null,
   "id": "40693e2a-5bf6-4430-98bd-df749c5b21d5",
   "metadata": {},
   "outputs": [],
   "source": []
  }
 ],
 "metadata": {
  "kernelspec": {
   "display_name": "Python 3 (ipykernel)",
   "language": "python",
   "name": "python3"
  },
  "language_info": {
   "codemirror_mode": {
    "name": "ipython",
    "version": 3
   },
   "file_extension": ".py",
   "mimetype": "text/x-python",
   "name": "python",
   "nbconvert_exporter": "python",
   "pygments_lexer": "ipython3",
   "version": "3.9.9"
  }
 },
 "nbformat": 4,
 "nbformat_minor": 5
}
